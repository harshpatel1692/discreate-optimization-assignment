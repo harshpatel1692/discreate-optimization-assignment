{
 "cells": [
  {
   "cell_type": "code",
   "execution_count": 2074,
   "metadata": {},
   "outputs": [],
   "source": [
    "import statistics\n",
    "import queue\n",
    "from collections import namedtuple\n",
    "import numpy as np\n",
    "import random\n",
    "from tqdm import tqdm\n",
    "import networkx as nx\n",
    "\n",
    "from collections import Counter\n"
   ]
  },
  {
   "cell_type": "code",
   "execution_count": 2075,
   "metadata": {},
   "outputs": [],
   "source": [
    "with open('./data/gc_1000_5', 'r') as input_data_file:\n",
    "    input_data = input_data_file.read()\n",
    "    \n",
    "lines = input_data.split('\\n')\n",
    "\n",
    "first_line = lines[0].split()\n",
    "node_count = int(first_line[0])\n",
    "edge_count = int(first_line[1])\n",
    "\n",
    "edges = []\n",
    "for i in range(1, edge_count + 1):\n",
    "    line = lines[i]\n",
    "    parts = line.split()\n",
    "    edges.append((int(parts[0]), int(parts[1])))"
   ]
  },
  {
   "cell_type": "code",
   "execution_count": 2076,
   "metadata": {},
   "outputs": [
    {
     "data": {
      "text/plain": [
       "(1000, 249482)"
      ]
     },
     "execution_count": 2076,
     "metadata": {},
     "output_type": "execute_result"
    }
   ],
   "source": [
    "node_count, edge_count"
   ]
  },
  {
   "cell_type": "code",
   "execution_count": 2077,
   "metadata": {},
   "outputs": [],
   "source": [
    "mapping = dict()\n",
    "coloring = dict()\n",
    "colors_available = dict()\n",
    "q = queue.Queue()\n",
    "\n",
    "for idx in range(node_count):\n",
    "    coloring[idx] = 0\n",
    "\n",
    "for idx in range(node_count):\n",
    "    colors_available[idx] = list(range(node_count))\n",
    "    \n",
    "for idx in range(node_count):\n",
    "    mapping[idx] = []\n",
    "\n",
    "for i, j in edges:\n",
    "    mapping[i].append(j)\n",
    "    mapping[j].append(i)\n",
    "    "
   ]
  },
  {
   "cell_type": "code",
   "execution_count": 2078,
   "metadata": {},
   "outputs": [],
   "source": [
    "mapping = dict(sorted(mapping.items(), key=lambda e: len(e[1]), reverse=True))"
   ]
  },
  {
   "cell_type": "code",
   "execution_count": 2080,
   "metadata": {},
   "outputs": [
    {
     "name": "stderr",
     "output_type": "stream",
     "text": [
      "100%|█████████████████████████████████████████████████████████████████████████████| 1000/1000 [00:04<00:00, 211.22it/s]"
     ]
    },
    {
     "name": "stdout",
     "output_type": "stream",
     "text": [
      "Iterations:  249482\n",
      "Colors:  124\n",
      "Wrong Assignments:  0\n"
     ]
    },
    {
     "name": "stderr",
     "output_type": "stream",
     "text": [
      "\n"
     ]
    }
   ],
   "source": [
    "mapping = dict()\n",
    "coloring = dict()\n",
    "colors_available = dict()\n",
    "q = queue.Queue()\n",
    "\n",
    "for idx in range(node_count):\n",
    "    coloring[idx] = 0\n",
    "\n",
    "for idx in range(node_count):\n",
    "    colors_available[idx] = list(range(node_count))\n",
    "    \n",
    "for idx in range(node_count):\n",
    "    mapping[idx] = []\n",
    "\n",
    "for i, j in edges:\n",
    "    mapping[i].append(j)\n",
    "    mapping[j].append(i)\n",
    "\n",
    "\n",
    "mapping = dict(sorted(mapping.items(), key=lambda e: len(e[1]), reverse=True))\n",
    "\n",
    "counter = 0\n",
    "\n",
    "for start_node in tqdm(mapping):\n",
    "    \n",
    "    if isinstance(colors_available[start_node], list):\n",
    "        colors_available[start_node] = colors_available[start_node][0]\n",
    "    else:\n",
    "        continue\n",
    "        \n",
    "    for j in mapping[start_node]:\n",
    "            \n",
    "        if colors_available[start_node] in colors_available[j]:\n",
    "            colors_available[j].remove(colors_available[start_node])\n",
    "            \n",
    "        if start_node in mapping[j]:\n",
    "            mapping[j].remove(start_node)\n",
    "\n",
    "        counter+=1\n",
    "\n",
    "print('Iterations: ', counter)\n",
    "print('Colors: ', len(set(colors_available.values())))\n",
    "\n",
    "counter = 0\n",
    "for i, j in edges:\n",
    "    status = False if colors_available[i] != colors_available[j] else True\n",
    "    if status:\n",
    "        # print(f'{i}, {j}: {status}')\n",
    "        counter+=1\n",
    "\n",
    "print('Wrong Assignments: ', counter)\n"
   ]
  },
  {
   "cell_type": "markdown",
   "metadata": {},
   "source": [
    "### Correct logic but not optimal v1"
   ]
  },
  {
   "cell_type": "code",
   "execution_count": 2004,
   "metadata": {},
   "outputs": [
    {
     "name": "stderr",
     "output_type": "stream",
     "text": [
      "100%|██████████████████████████████████████████████████████████████████████████████████████████| 20/20 [00:00<?, ?it/s]"
     ]
    },
    {
     "name": "stdout",
     "output_type": "stream",
     "text": [
      "Iterations:  23\n",
      "Colors:  3\n",
      "Wrong Assignments:  0\n"
     ]
    },
    {
     "name": "stderr",
     "output_type": "stream",
     "text": [
      "\n"
     ]
    }
   ],
   "source": [
    "mapping = dict()\n",
    "coloring = dict()\n",
    "colors_available = dict()\n",
    "q = queue.Queue()\n",
    "\n",
    "for idx in range(node_count):\n",
    "    coloring[idx] = 0\n",
    "\n",
    "for idx in range(node_count):\n",
    "    colors_available[idx] = list(range(node_count))\n",
    "    \n",
    "for idx in range(node_count):\n",
    "    mapping[idx] = []\n",
    "\n",
    "for i, j in edges:\n",
    "    mapping[i].append(j)\n",
    "    mapping[j].append(i)\n",
    "\n",
    "\n",
    "mapping = dict(sorted(mapping.items(), key=lambda e: len(e[1]), reverse=True))\n",
    "\n",
    "counter = 0\n",
    "\n",
    "for start_node in tqdm(mapping):\n",
    "    \n",
    "    if isinstance(colors_available[start_node], list):\n",
    "        colors_available[start_node] = colors_available[start_node][0]\n",
    "    else:\n",
    "        continue\n",
    "        \n",
    "    for j in mapping[start_node]:\n",
    "            \n",
    "        if colors_available[start_node] in colors_available[j]:\n",
    "            colors_available[j].remove(colors_available[start_node])\n",
    "            \n",
    "        if start_node in mapping[j]:\n",
    "            mapping[j].remove(start_node)\n",
    "\n",
    "        counter+=1\n",
    "\n",
    "print('Iterations: ', counter)\n",
    "print('Colors: ', len(set(colors_available.values())))\n",
    "\n",
    "counter = 0\n",
    "for i, j in edges:\n",
    "    status = False if colors_available[i] != colors_available[j] else True\n",
    "    if status:\n",
    "        # print(f'{i}, {j}: {status}')\n",
    "        counter+=1\n",
    "\n",
    "print('Wrong Assignments: ', counter)\n"
   ]
  },
  {
   "cell_type": "markdown",
   "metadata": {},
   "source": [
    "### Correct logic but not optimal v2"
   ]
  },
  {
   "cell_type": "code",
   "execution_count": 2081,
   "metadata": {},
   "outputs": [
    {
     "name": "stderr",
     "output_type": "stream",
     "text": [
      " 10%|████████▎                                                                          | 1/10 [00:04<00:44,  4.92s/it]"
     ]
    },
    {
     "name": "stdout",
     "output_type": "stream",
     "text": [
      "120\n"
     ]
    },
    {
     "name": "stderr",
     "output_type": "stream",
     "text": [
      " 20%|████████████████▌                                                                  | 2/10 [00:09<00:39,  4.88s/it]"
     ]
    },
    {
     "name": "stdout",
     "output_type": "stream",
     "text": [
      "119\n"
     ]
    },
    {
     "name": "stderr",
     "output_type": "stream",
     "text": [
      "100%|██████████████████████████████████████████████████████████████████████████████████| 10/10 [00:49<00:00,  4.91s/it]\n"
     ]
    }
   ],
   "source": [
    "best_min_colors = node_count\n",
    "\n",
    "mapping = dict()\n",
    "\n",
    "for idx in range(node_count):\n",
    "    mapping[idx] = []\n",
    "    \n",
    "for i, j in edges:\n",
    "    mapping[i].append(j)\n",
    "    mapping[j].append(i)\n",
    "\n",
    "priority_of_nodes =  list(dict(sorted(mapping.items(), key=lambda e: len(e[1]), reverse=True)).keys())[:10]\n",
    "\n",
    "\n",
    "for start_node in tqdm(priority_of_nodes):\n",
    "    \n",
    "    mapping = dict()\n",
    "    coloring = dict()\n",
    "    colors_available = dict()\n",
    "    counter = 0\n",
    "    \n",
    "    for idx in range(node_count):\n",
    "        coloring[idx] = 0\n",
    "    \n",
    "    for idx in range(node_count):\n",
    "        colors_available[idx] = list(range(node_count))\n",
    "        \n",
    "    for idx in range(node_count):\n",
    "        mapping[idx] = []\n",
    "    \n",
    "    for i, j in edges:\n",
    "        mapping[i].append(j)\n",
    "        mapping[j].append(i)\n",
    "    \n",
    "    mapping = dict(sorted(mapping.items(), key=lambda e: len(e[1]), reverse=True))\n",
    "\n",
    "    # print('Size:', len(mapping[start_node]))\n",
    "    \n",
    "    while len(mapping) > 0:\n",
    "        \n",
    "        # if isinstance(colors_available[start_node], list):\n",
    "        #     colors_available[start_node] = colors_available[start_node][0]\n",
    "        # else:\n",
    "        #     continue\n",
    "        \n",
    "        colors_available[start_node] = colors_available[start_node][0]\n",
    "        connected_nodes = mapping.pop(start_node)\n",
    "        \n",
    "        for j in connected_nodes:\n",
    "                \n",
    "            if colors_available[start_node] in colors_available[j]:\n",
    "                colors_available[j].remove(colors_available[start_node])\n",
    "                \n",
    "            if start_node in mapping[j]:\n",
    "                mapping[j].remove(start_node)\n",
    "        \n",
    "        \n",
    "            counter+=1\n",
    "\n",
    "        if mapping:\n",
    "            mapping = dict(sorted(mapping.items(), key=lambda e: len(e[1]), reverse=True))\n",
    "            start_node = list(mapping.keys())[0]\n",
    "            \n",
    "    # print(len(set(colors_available.values())), counter)\n",
    "\n",
    "    counter = 0\n",
    "    for i, j in edges:\n",
    "        status = False if colors_available[i] != colors_available[j] else True\n",
    "        if status:\n",
    "            # print(f'{i}, {j}: {status}')\n",
    "            counter+=1\n",
    "\n",
    "    if counter == 0 and len(set(colors_available.values())) < best_min_colors:\n",
    "        best_min_colors = len(set(colors_available.values()))\n",
    "        print(best_min_colors)\n",
    "        \n",
    "    # print('Wrong: ', counter)\n",
    "    # print('________________________________________')"
   ]
  },
  {
   "cell_type": "code",
   "execution_count": 877,
   "metadata": {},
   "outputs": [
    {
     "data": {
      "text/plain": [
       "90"
      ]
     },
     "execution_count": 877,
     "metadata": {},
     "output_type": "execute_result"
    }
   ],
   "source": [
    "best_min_colors"
   ]
  }
 ],
 "metadata": {
  "kernelspec": {
   "display_name": "Python 3 (ipykernel)",
   "language": "python",
   "name": "python3"
  },
  "language_info": {
   "codemirror_mode": {
    "name": "ipython",
    "version": 3
   },
   "file_extension": ".py",
   "mimetype": "text/x-python",
   "name": "python",
   "nbconvert_exporter": "python",
   "pygments_lexer": "ipython3",
   "version": "3.10.11"
  }
 },
 "nbformat": 4,
 "nbformat_minor": 4
}
