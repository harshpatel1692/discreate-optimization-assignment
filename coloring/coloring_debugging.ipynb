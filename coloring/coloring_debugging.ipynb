{
 "cells": [
  {
   "cell_type": "code",
   "execution_count": 29,
   "metadata": {},
   "outputs": [],
   "source": [
    "import statistics\n",
    "import queue\n",
    "from collections import namedtuple\n",
    "import numpy as np\n",
    "import random\n",
    "from tqdm import tqdm\n",
    "import networkx as nx\n",
    "\n",
    "from collections import Counter\n"
   ]
  },
  {
   "cell_type": "code",
   "execution_count": 30,
   "metadata": {},
   "outputs": [],
   "source": [
    "with open('./data/gc_100_5', 'r') as input_data_file:\n",
    "    input_data = input_data_file.read()\n",
    "    \n",
    "lines = input_data.split('\\n')\n",
    "\n",
    "first_line = lines[0].split()\n",
    "node_count = int(first_line[0])\n",
    "edge_count = int(first_line[1])\n",
    "\n",
    "edges = []\n",
    "for i in range(1, edge_count + 1):\n",
    "    line = lines[i]\n",
    "    parts = line.split()\n",
    "    edges.append((int(parts[0]), int(parts[1])))"
   ]
  },
  {
   "cell_type": "code",
   "execution_count": 31,
   "metadata": {},
   "outputs": [
    {
     "data": {
      "text/plain": [
       "(100, 2502)"
      ]
     },
     "execution_count": 31,
     "metadata": {},
     "output_type": "execute_result"
    }
   ],
   "source": [
    "node_count, edge_count"
   ]
  },
  {
   "cell_type": "code",
   "execution_count": 32,
   "metadata": {},
   "outputs": [],
   "source": [
    "mapping = dict()\n",
    "coloring = dict()\n",
    "colors_available = dict()\n",
    "q = queue.Queue()\n",
    "\n",
    "for idx in range(node_count):\n",
    "    coloring[idx] = 0\n",
    "\n",
    "for idx in range(node_count):\n",
    "    colors_available[idx] = list(range(node_count))\n",
    "    \n",
    "for idx in range(node_count):\n",
    "    mapping[idx] = []\n",
    "\n",
    "for i, j in edges:\n",
    "    mapping[i].append(j)\n",
    "    mapping[j].append(i)"
   ]
  },
  {
   "cell_type": "code",
   "execution_count": 5,
   "metadata": {},
   "outputs": [
    {
     "data": {
      "text/plain": [
       "dict_keys([0, 1, 2, 3, 4, 5, 6, 7, 8, 9, 10, 11, 12, 13, 14, 15, 16, 17, 18, 19, 20, 21, 22, 23, 24, 25, 26, 27, 28, 29, 30, 31, 32, 33, 34, 35, 36, 37, 38, 39, 40, 41, 42, 43, 44, 45, 46, 47, 48, 49])"
      ]
     },
     "execution_count": 5,
     "metadata": {},
     "output_type": "execute_result"
    }
   ],
   "source": [
    "mapping.keys()"
   ]
  },
  {
   "cell_type": "code",
   "execution_count": 13,
   "metadata": {},
   "outputs": [
    {
     "name": "stdout",
     "output_type": "stream",
     "text": [
      "7\n",
      "6\n",
      "6\n"
     ]
    }
   ],
   "source": [
    "best_min_colors = node_count\n",
    "optimal_coloring = {}\n",
    "set_max_colors = node_count\n",
    "\n",
    "priority_of_nodes =  list(dict(sorted(mapping.items(), key=lambda e: len(e[1]), reverse=True)).keys())##[:10]\n",
    "\n",
    "for root_node in priority_of_nodes:\n",
    "    # print(\"ROOT NODE: \", root_node)\n",
    "    \n",
    "    mapping = dict()\n",
    "    colors_available = dict()\n",
    "    \n",
    "    for idx in range(node_count):\n",
    "        colors_available[idx] = list(range(set_max_colors))\n",
    "        \n",
    "    for idx in range(node_count):\n",
    "        mapping[idx] = []\n",
    "    \n",
    "    for i, j in edges:\n",
    "        mapping[i].append(j)\n",
    "        mapping[j].append(i)\n",
    "            \n",
    "    unexplored_nodes = list(mapping.keys())\n",
    "\n",
    "    start_node = unexplored_nodes.pop(root_node)\n",
    "    counter = 0\n",
    "    \n",
    "    while True:\n",
    "\n",
    "        if colors_available[start_node]:\n",
    "            colors_available[start_node] = colors_available[start_node][0]\n",
    "        else:            \n",
    "            occupied_colors_for_neighbors = []\n",
    "\n",
    "            for node in mapping[start_node]:\n",
    "                used_color = None\n",
    "                \n",
    "                if isinstance(colors_available[node], list) and colors_available[node]:\n",
    "                    used_color = colors_available[node][0]\n",
    "                else:\n",
    "                    used_color = colors_available[node]\n",
    "            \n",
    "                if used_color:\n",
    "                    occupied_colors_for_neighbors.append(used_color)\n",
    "            \n",
    "            unused_color = list(set(list(range(set_max_colors))) - set(occupied_colors_for_neighbors))\n",
    "            \n",
    "            colors_available[start_node] = unused_color[-1]\n",
    "            \n",
    "\n",
    "        for j in mapping[start_node]:\n",
    "                \n",
    "            if colors_available[start_node] in colors_available[j]:\n",
    "                colors_available[j].remove(colors_available[start_node])\n",
    "                \n",
    "            if start_node in mapping[j]:\n",
    "                mapping[j].remove(start_node)\n",
    "    \n",
    "        if start_node in unexplored_nodes:\n",
    "            unexplored_nodes.remove(start_node)\n",
    "        \n",
    "        uncolored_nodes = {k: v for k, v in colors_available.items() if k in unexplored_nodes}\n",
    "        sorted_uncolored = dict(sorted(uncolored_nodes.items(), key=lambda item: len(item[1]), reverse=False))\n",
    "        if sorted_uncolored:\n",
    "            start_node = list(sorted_uncolored.keys())[0]\n",
    "        else:\n",
    "            break\n",
    "    \n",
    "        counter+=1\n",
    "    \n",
    "    # print('Iterations: ', counter)\n",
    "    # print('Colors: ', len(set(colors_available.values())))\n",
    "    \n",
    "    counter = 0\n",
    "    for i, j in edges:\n",
    "        status = False if colors_available[i] != colors_available[j] else True\n",
    "        if status:\n",
    "            # print(f'{i}, {j}: {status}')\n",
    "            counter+=1\n",
    "\n",
    "    # print('Wrong Assignments: ', counter)\n",
    "    \n",
    "    if counter == 0 and len(set(colors_available.values())) < best_min_colors:\n",
    "        best_min_colors = len(set(colors_available.values()))\n",
    "        optimal_coloring = colors_available\n",
    "        print(best_min_colors)\n",
    "\n",
    "print(best_min_colors)"
   ]
  },
  {
   "cell_type": "code",
   "execution_count": 11,
   "metadata": {},
   "outputs": [],
   "source": [
    "temp_coloring = dict(optimal_coloring)\n",
    "final_optimal_coloring = dict(optimal_coloring)"
   ]
  },
  {
   "cell_type": "code",
   "execution_count": 1019,
   "metadata": {},
   "outputs": [],
   "source": [
    "## Using local search - break feasible and work with 1 less color"
   ]
  },
  {
   "cell_type": "code",
   "execution_count": null,
   "metadata": {},
   "outputs": [],
   "source": []
  },
  {
   "cell_type": "code",
   "execution_count": 13,
   "metadata": {},
   "outputs": [
    {
     "name": "stdout",
     "output_type": "stream",
     "text": [
      "31\n",
      "44\n",
      "68\n"
     ]
    }
   ],
   "source": [
    "for i, j in sorted(optimal_coloring.items(), key=lambda item: item[1], reverse=True):\n",
    "    if j == 18:\n",
    "        print(i)\n",
    "\n"
   ]
  },
  {
   "cell_type": "code",
   "execution_count": 1023,
   "metadata": {},
   "outputs": [
    {
     "data": {
      "text/plain": [
       "(9, 17)"
      ]
     },
     "execution_count": 1023,
     "metadata": {},
     "output_type": "execute_result"
    }
   ],
   "source": [
    "sorted(optimal_coloring.items(), key=lambda item: item[1], reverse=True)[0]"
   ]
  },
  {
   "cell_type": "code",
   "execution_count": 14,
   "metadata": {},
   "outputs": [
    {
     "name": "stdout",
     "output_type": "stream",
     "text": [
      "IDX: 31 | least_feasibility_color 17 | least_feasibility 1\n",
      "IDX: 44 | least_feasibility_color 17 | least_feasibility 4\n",
      "IDX: 68 | least_feasibility_color 10 | least_feasibility 6\n"
     ]
    }
   ],
   "source": [
    "\n",
    "max_colored_nodes = [31, 44, 68]\n",
    "max_color = 17\n",
    "\n",
    "for idx in max_colored_nodes:\n",
    "    \n",
    "    occupied_colors_for_neighbors = []\n",
    "\n",
    "    for node in mapping[idx]:\n",
    "        \n",
    "        used_color = colors_available[node]\n",
    "        occupied_colors_for_neighbors.append(used_color)\n",
    "        \n",
    "    unused_color = list(set(list(range(node_count))) - set(occupied_colors_for_neighbors))\n",
    "\n",
    "    least_feasible_color = max_color-1\n",
    "    least_feasibility = node_count\n",
    "    \n",
    "    for color in unused_color:\n",
    "        \n",
    "        if color > max_color-1:\n",
    "            break\n",
    "            \n",
    "        optimal_coloring[idx] = color\n",
    "        \n",
    "        counter = 0\n",
    "        for i, j in edges:\n",
    "            status = False if optimal_coloring[i] != optimal_coloring[j] else True\n",
    "            if status:\n",
    "                # print(f'{i}, {j}: {status}')\n",
    "                counter+=1\n",
    "\n",
    "        if counter <= least_feasibility:\n",
    "            least_feasibility = counter\n",
    "            least_feasible_color = color\n",
    "        else:\n",
    "            least_feasible_color = max_color\n",
    "             \n",
    "\n",
    "    \n",
    "    optimal_coloring[idx] = max_color if least_feasible_color else least_feasible_color\n",
    "\n",
    "    print(f'IDX: {idx} | least_feasibility_color {least_feasible_color} | least_feasibility {least_feasibility}')\n",
    "    "
   ]
  },
  {
   "cell_type": "code",
   "execution_count": 15,
   "metadata": {},
   "outputs": [
    {
     "data": {
      "text/plain": [
       "7"
      ]
     },
     "execution_count": 15,
     "metadata": {},
     "output_type": "execute_result"
    }
   ],
   "source": [
    "counter = 0\n",
    "for i, j in edges:\n",
    "    status = False if optimal_coloring[i] != optimal_coloring[j] else True\n",
    "    if status:\n",
    "        # print(f'{i}, {j}: {status}')\n",
    "        counter+=1\n",
    "\n",
    "counter"
   ]
  },
  {
   "cell_type": "code",
   "execution_count": 1088,
   "metadata": {},
   "outputs": [],
   "source": [
    "optimal_coloring[21] = 8"
   ]
  },
  {
   "cell_type": "code",
   "execution_count": 1070,
   "metadata": {},
   "outputs": [
    {
     "name": "stdout",
     "output_type": "stream",
     "text": [
      "asdf\n"
     ]
    }
   ],
   "source": [
    "if not None:\n",
    "    print('asdf')"
   ]
  },
  {
   "cell_type": "code",
   "execution_count": null,
   "metadata": {},
   "outputs": [],
   "source": []
  },
  {
   "cell_type": "code",
   "execution_count": null,
   "metadata": {},
   "outputs": [],
   "source": []
  },
  {
   "cell_type": "markdown",
   "metadata": {},
   "source": [
    "### Correct logic but not optimal v1"
   ]
  },
  {
   "cell_type": "code",
   "execution_count": 28,
   "metadata": {},
   "outputs": [
    {
     "name": "stderr",
     "output_type": "stream",
     "text": [
      "100%|███████████████████████████████████████████████████████████████████████████████████████████████████████████████████████████████████████████████████████████████████████████████████████████████| 50/50 [00:00<00:00, 50015.55it/s]"
     ]
    },
    {
     "name": "stdout",
     "output_type": "stream",
     "text": [
      "Iterations:  350\n",
      "Colors:  8\n",
      "Wrong Assignments:  0\n"
     ]
    },
    {
     "name": "stderr",
     "output_type": "stream",
     "text": [
      "\n"
     ]
    }
   ],
   "source": [
    "mapping = dict()\n",
    "coloring = dict()\n",
    "colors_available = dict()\n",
    "q = queue.Queue()\n",
    "\n",
    "for idx in range(node_count):\n",
    "    coloring[idx] = 0\n",
    "\n",
    "for idx in range(node_count):\n",
    "    colors_available[idx] = list(range(node_count))\n",
    "    \n",
    "for idx in range(node_count):\n",
    "    mapping[idx] = []\n",
    "\n",
    "for i, j in edges:\n",
    "    mapping[i].append(j)\n",
    "    mapping[j].append(i)\n",
    "\n",
    "\n",
    "mapping = dict(sorted(mapping.items(), key=lambda e: len(e[1]), reverse=True))\n",
    "\n",
    "counter = 0\n",
    "\n",
    "for start_node in tqdm(mapping):\n",
    "    \n",
    "    if isinstance(colors_available[start_node], list):\n",
    "        colors_available[start_node] = colors_available[start_node][0]\n",
    "    else:\n",
    "        continue\n",
    "        \n",
    "    for j in mapping[start_node]:\n",
    "            \n",
    "        if colors_available[start_node] in colors_available[j]:\n",
    "            colors_available[j].remove(colors_available[start_node])\n",
    "            \n",
    "        if start_node in mapping[j]:\n",
    "            mapping[j].remove(start_node)\n",
    "\n",
    "        counter+=1\n",
    "\n",
    "print('Iterations: ', counter)\n",
    "print('Colors: ', len(set(colors_available.values())))\n",
    "\n",
    "counter = 0\n",
    "for i, j in edges:\n",
    "    status = False if colors_available[i] != colors_available[j] else True\n",
    "    if status:\n",
    "        # print(f'{i}, {j}: {status}')\n",
    "        counter+=1\n",
    "\n",
    "print('Wrong Assignments: ', counter)\n"
   ]
  },
  {
   "cell_type": "markdown",
   "metadata": {},
   "source": [
    "### Correct logic but not optimal v2"
   ]
  },
  {
   "cell_type": "code",
   "execution_count": 34,
   "metadata": {},
   "outputs": [
    {
     "name": "stderr",
     "output_type": "stream",
     "text": [
      "100%|███████████████████████████████████████████████████████████████████████████████████████████████████████████████████████████████████████████████████████████████████████████████████████████████| 10/10 [00:00<00:00, 217.40it/s]"
     ]
    },
    {
     "name": "stdout",
     "output_type": "stream",
     "text": [
      "20\n",
      "19\n",
      "18\n"
     ]
    },
    {
     "name": "stderr",
     "output_type": "stream",
     "text": [
      "\n"
     ]
    }
   ],
   "source": [
    "best_min_colors = node_count\n",
    "\n",
    "mapping = dict()\n",
    "\n",
    "for idx in range(node_count):\n",
    "    mapping[idx] = []\n",
    "    \n",
    "for i, j in edges:\n",
    "    mapping[i].append(j)\n",
    "    mapping[j].append(i)\n",
    "\n",
    "priority_of_nodes =  list(dict(sorted(mapping.items(), key=lambda e: len(e[1]), reverse=True)).keys())[:10]\n",
    "\n",
    "\n",
    "for start_node in tqdm(priority_of_nodes):\n",
    "    \n",
    "    mapping = dict()\n",
    "    coloring = dict()\n",
    "    colors_available = dict()\n",
    "    counter = 0\n",
    "    \n",
    "    for idx in range(node_count):\n",
    "        coloring[idx] = 0\n",
    "    \n",
    "    for idx in range(node_count):\n",
    "        colors_available[idx] = list(range(node_count))\n",
    "        \n",
    "    for idx in range(node_count):\n",
    "        mapping[idx] = []\n",
    "    \n",
    "    for i, j in edges:\n",
    "        mapping[i].append(j)\n",
    "        mapping[j].append(i)\n",
    "    \n",
    "    mapping = dict(sorted(mapping.items(), key=lambda e: len(e[1]), reverse=True))\n",
    "\n",
    "    # print('Size:', len(mapping[start_node]))\n",
    "    \n",
    "    while len(mapping) > 0:\n",
    "        \n",
    "        # if isinstance(colors_available[start_node], list):\n",
    "        #     colors_available[start_node] = colors_available[start_node][0]\n",
    "        # else:\n",
    "        #     continue\n",
    "        \n",
    "        colors_available[start_node] = colors_available[start_node][0]\n",
    "        connected_nodes = mapping.pop(start_node)\n",
    "        \n",
    "        for j in connected_nodes:\n",
    "                \n",
    "            if colors_available[start_node] in colors_available[j]:\n",
    "                colors_available[j].remove(colors_available[start_node])\n",
    "                \n",
    "            if start_node in mapping[j]:\n",
    "                mapping[j].remove(start_node)\n",
    "        \n",
    "        \n",
    "            counter+=1\n",
    "\n",
    "        if mapping:\n",
    "            mapping = dict(sorted(mapping.items(), key=lambda e: len(e[1]), reverse=True))\n",
    "            start_node = list(mapping.keys())[0]\n",
    "            \n",
    "    # print(len(set(colors_available.values())), counter)\n",
    "\n",
    "    counter = 0\n",
    "    for i, j in edges:\n",
    "        status = False if colors_available[i] != colors_available[j] else True\n",
    "        if status:\n",
    "            # print(f'{i}, {j}: {status}')\n",
    "            counter+=1\n",
    "\n",
    "    if counter == 0 and len(set(colors_available.values())) < best_min_colors:\n",
    "        best_min_colors = len(set(colors_available.values()))\n",
    "        print(best_min_colors)\n",
    "        \n",
    "    # print('Wrong: ', counter)\n",
    "    # print('________________________________________')"
   ]
  },
  {
   "cell_type": "code",
   "execution_count": 877,
   "metadata": {},
   "outputs": [
    {
     "data": {
      "text/plain": [
       "90"
      ]
     },
     "execution_count": 877,
     "metadata": {},
     "output_type": "execute_result"
    }
   ],
   "source": [
    "best_min_colors"
   ]
  }
 ],
 "metadata": {
  "kernelspec": {
   "display_name": "Python 3 (ipykernel)",
   "language": "python",
   "name": "python3"
  },
  "language_info": {
   "codemirror_mode": {
    "name": "ipython",
    "version": 3
   },
   "file_extension": ".py",
   "mimetype": "text/x-python",
   "name": "python",
   "nbconvert_exporter": "python",
   "pygments_lexer": "ipython3",
   "version": "3.10.11"
  },
  "widgets": {
   "application/vnd.jupyter.widget-state+json": {
    "state": {},
    "version_major": 2,
    "version_minor": 0
   }
  }
 },
 "nbformat": 4,
 "nbformat_minor": 4
}
