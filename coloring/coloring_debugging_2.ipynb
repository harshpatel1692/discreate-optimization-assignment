{
 "cells": [
  {
   "cell_type": "code",
   "execution_count": 1,
   "metadata": {
    "pycharm": {
     "name": "#%%\n"
    }
   },
   "outputs": [],
   "source": [
    "import statistics\n",
    "import queue\n",
    "from collections import namedtuple\n",
    "import numpy as np\n",
    "import random\n",
    "from tqdm import tqdm\n",
    "from copy import deepcopy\n",
    "\n",
    "from collections import Counter\n"
   ]
  },
  {
   "cell_type": "code",
   "execution_count": 10,
   "metadata": {
    "pycharm": {
     "name": "#%%\n"
    }
   },
   "outputs": [],
   "source": [
    "with open('./data/gc_250_9', 'r') as input_data_file:\n",
    "    input_data = input_data_file.read()\n",
    "    \n",
    "lines = input_data.split('\\n')\n",
    "\n",
    "first_line = lines[0].split()\n",
    "node_count = int(first_line[0])\n",
    "edge_count = int(first_line[1])\n",
    "\n",
    "edges = []\n",
    "for i in range(1, edge_count + 1):\n",
    "    line = lines[i]\n",
    "    parts = line.split()\n",
    "    edges.append((int(parts[0]), int(parts[1])))"
   ]
  },
  {
   "cell_type": "code",
   "execution_count": 11,
   "metadata": {
    "pycharm": {
     "name": "#%%\n"
    }
   },
   "outputs": [
    {
     "data": {
      "text/plain": [
       "(250, 28046)"
      ]
     },
     "execution_count": 11,
     "metadata": {},
     "output_type": "execute_result"
    }
   ],
   "source": [
    "node_count, edge_count"
   ]
  },
  {
   "cell_type": "code",
   "execution_count": 12,
   "metadata": {},
   "outputs": [],
   "source": [
    "class TabuList:\n",
    "    def __init__(self, tabu_size):\n",
    "        self.tabu_size = tabu_size\n",
    "        self.tabu_hash = set()\n",
    "        self.tabu_queue = []\n",
    "\n",
    "    def is_present(self, node):\n",
    "        return node in self.tabu_hash\n",
    "\n",
    "    def insert(self, node):\n",
    "        if self.is_present(node):\n",
    "            return\n",
    "        self.tabu_hash.add(node)\n",
    "        self.tabu_queue.append(node)\n",
    "        if len(self.tabu_hash) > self.tabu_size:\n",
    "            self.remove()\n",
    "            \n",
    "    def remove(self):\n",
    "        top = self.tabu_queue.pop(0)\n",
    "        self.tabu_hash.remove(top)"
   ]
  },
  {
   "cell_type": "code",
   "execution_count": 13,
   "metadata": {},
   "outputs": [],
   "source": [
    "def get_suboptimal_coloring(mapping):\n",
    "\n",
    "    mapping = deepcopy(mapping)\n",
    "    \n",
    "    node_count = len(mapping)\n",
    "    coloring = [[] for _ in range(node_count)]\n",
    "    \n",
    "    for idx in range(node_count):\n",
    "        coloring[idx] = list(range(node_count))\n",
    "    \n",
    "    for start_node in range(node_count):\n",
    "        \n",
    "        if isinstance(coloring[start_node], list):\n",
    "            coloring[start_node] = coloring[start_node][0]\n",
    "        else:\n",
    "            continue\n",
    "            \n",
    "        for j in mapping[start_node]:\n",
    "                \n",
    "            if coloring[start_node] in coloring[j]:\n",
    "                coloring[j].remove(coloring[start_node])\n",
    "                \n",
    "            if start_node in mapping[j]:\n",
    "                mapping[j].remove(start_node)\n",
    "\n",
    "    del mapping\n",
    "    return coloring"
   ]
  },
  {
   "cell_type": "code",
   "execution_count": 14,
   "metadata": {},
   "outputs": [],
   "source": [
    "def get_conflicts(graph, coloring): \n",
    "\n",
    "    node_count = len(graph)\n",
    "    conflicts = [0 for _ in range(node_count)]\n",
    "    \n",
    "    for node, neighbors in enumerate(graph):\n",
    "        for neighbor in neighbors:\n",
    "            if coloring[node] == coloring[neighbor]:\n",
    "                conflicts[node] += 1\n",
    "                \n",
    "    return conflicts\n",
    "    \n",
    "def max_violation_node(conflict_mapping, tabu_list):\n",
    "    \n",
    "    max_conflicts = max([conflict for node, conflict in enumerate(conflict_mapping) if not tabu_list.is_present(node)])\n",
    "    \n",
    "    if max_conflicts == 0:\n",
    "        return -1\n",
    "        \n",
    "    # Create a new dictionary with only the key-value pairs that have the maximum value and not in tabu list\n",
    "    max_conflict_nodes = [node for node, conflict in enumerate(conflict_mapping) if conflict == max_conflicts and not tabu_list.is_present(node)]\n",
    "\n",
    "    if not max_conflict_nodes:\n",
    "        return -1\n",
    "            \n",
    "    return random.choice(max_conflict_nodes)\n",
    "\n",
    "\n",
    "def remove_color(coloring, max_colors):\n",
    "    \n",
    "    pick_color = random.randint(0, max_colors-1)\n",
    "    \n",
    "    new_coloring = []\n",
    "    \n",
    "    for c in coloring:\n",
    "        if c == pick_color:\n",
    "            new_coloring.append(random.randint(0, max_colors-2))\n",
    "        elif c > pick_color:\n",
    "            new_coloring.append(c-1)\n",
    "        else:\n",
    "            new_coloring.append(c)\n",
    "        \n",
    "    return new_coloring\n",
    "    \n",
    "\n",
    "def unfamous_color(node, graph, coloring, max_colors):\n",
    "\n",
    "    node_color = coloring[node]\n",
    "    neighbor_colors = [coloring[color] for color in graph[node]]\n",
    "    color_count = Counter(neighbor_colors)\n",
    "    \n",
    "    min_color = min([v for k, v in color_count.items() if k != node_color])\n",
    "    \n",
    "    unused_colors = list(set(range(max_colors))-set(color_count.keys()))\n",
    "    \n",
    "    if unused_colors:\n",
    "        return random.choice(unused_colors)\n",
    "    else:\n",
    "        least_colors = [k for k, v in color_count.items() if v == min_color and k != node_color]\n",
    "        return random.choice(least_colors)"
   ]
  },
  {
   "cell_type": "code",
   "execution_count": 15,
   "metadata": {},
   "outputs": [],
   "source": [
    "def check_feasibility(graph, coloring, max_colors, tabu_limit):\n",
    "    max_iterations = 50000\n",
    "    iteration = 0\n",
    "    conflicts = get_conflicts(graph, coloring)\n",
    "    total_conflicts = sum(conflicts)\n",
    "    tabu_list = TabuList(tabu_limit)\n",
    "\n",
    "    # with tqdm(total=max_iterations) as pbar:\n",
    "    while iteration < max_iterations and total_conflicts > 0:\n",
    "\n",
    "        node = max_violation_node(conflicts, tabu_list)\n",
    "    \n",
    "        while node == -1:\n",
    "            tabu_list.remove()\n",
    "            node = max_violation_node(conflicts, tabu_list)\n",
    "          \n",
    "        tabu_list.insert(node)\n",
    "        least_used_color = unfamous_color(node, graph, coloring, max_colors)\n",
    "\n",
    "        for neighbor in graph[node]:\n",
    "            if coloring[neighbor] == coloring[node]:\n",
    "                conflicts[neighbor] -= 1\n",
    "                conflicts[node] -= 1\n",
    "            elif coloring[neighbor] == least_used_color:\n",
    "                conflicts[neighbor] += 1\n",
    "                conflicts[node] += 1\n",
    "        \n",
    "        coloring[node] = least_used_color\n",
    "        \n",
    "        # conflicts = get_conflicts(graph, coloring)\n",
    "        total_conflicts = sum(conflicts)\n",
    "        \n",
    "        iteration += 1\n",
    "            # pbar.update(1)\n",
    "\n",
    "    return sum(conflicts) == 0, coloring, conflicts, iteration"
   ]
  },
  {
   "cell_type": "code",
   "execution_count": 16,
   "metadata": {},
   "outputs": [],
   "source": [
    "def run_logic(connections, node_count):\n",
    "    \n",
    "    tabu_limit = node_count // 10\n",
    "    \n",
    "    mapping = [[] for _ in range(node_count)]\n",
    "    \n",
    "    for i, j in connections:\n",
    "        mapping[i].append(j)\n",
    "        mapping[j].append(i)\n",
    "\n",
    "    new_coloring = get_suboptimal_coloring(mapping) #[random.randint(0, max_color-1) for _ in range(node_count)]\n",
    "    max_color = len(set(new_coloring))\n",
    "\n",
    "    # new_coloring = [random.randint(0, max_color-1) for _ in range(node_count)]\n",
    "    # max_color = node_count\n",
    "    \n",
    "    max_retries = 20\n",
    "    retry = max_retries\n",
    "\n",
    "    \n",
    "    while retry > 0:\n",
    "\n",
    "        is_feasible, coloring, conflicts, iteration = check_feasibility(mapping, new_coloring, max_color, tabu_limit)\n",
    "        print(max_color, is_feasible, len(set(coloring)), sum(conflicts), iteration)\n",
    "        \n",
    "        \n",
    "        if is_feasible:\n",
    "            max_color -= 1\n",
    "            optimal_coloring = deepcopy(coloring)\n",
    "            retry = max_retries\n",
    "\n",
    "        else:\n",
    "            retry -= 1\n",
    "\n",
    "\n",
    "        new_coloring = remove_color(optimal_coloring, max_color)\n",
    "\n",
    "    return optimal_coloring, coloring"
   ]
  },
  {
   "cell_type": "code",
   "execution_count": 17,
   "metadata": {},
   "outputs": [
    {
     "name": "stdout",
     "output_type": "stream",
     "text": [
      "100 True 100 0 0\n",
      "99 True 99 0 9\n",
      "98 True 98 0 5\n",
      "97 True 97 0 7\n",
      "96 True 96 0 3\n",
      "95 True 95 0 17\n",
      "94 True 94 0 9\n",
      "93 True 93 0 9\n",
      "92 True 92 0 22\n",
      "91 True 91 0 14\n",
      "90 True 90 0 19\n",
      "89 True 89 0 32\n",
      "88 True 88 0 24\n",
      "87 True 87 0 48\n",
      "86 True 86 0 24\n",
      "85 True 85 0 43\n",
      "84 True 84 0 44\n",
      "83 True 83 0 222\n",
      "82 True 82 0 281\n",
      "81 True 81 0 863\n",
      "80 True 80 0 725\n",
      "79 True 79 0 811\n",
      "78 True 78 0 2386\n",
      "77 True 77 0 10855\n",
      "76 True 76 0 7431\n",
      "75 False 75 38 50000\n",
      "75 False 75 34 50000\n",
      "75 False 75 32 50000\n",
      "75 False 75 44 50000\n",
      "75 False 75 32 50000\n",
      "75 False 75 36 50000\n",
      "75 False 75 40 50000\n",
      "75 False 75 34 50000\n",
      "75 False 75 26 50000\n",
      "75 False 75 50 50000\n",
      "75 False 75 28 50000\n",
      "75 False 75 48 50000\n",
      "75 False 75 34 50000\n",
      "75 False 75 38 50000\n",
      "75 False 75 24 50000\n",
      "75 False 75 32 50000\n",
      "75 False 75 26 50000\n",
      "75 False 75 24 50000\n",
      "75 False 75 22 50000\n",
      "75 False 75 32 50000\n"
     ]
    }
   ],
   "source": [
    "optimal_coloring, last_check_coloring = run_logic(edges, node_count)"
   ]
  },
  {
   "cell_type": "code",
   "execution_count": null,
   "metadata": {},
   "outputs": [],
   "source": [
    "random.choice(list({1, 2, 3}))"
   ]
  },
  {
   "cell_type": "code",
   "execution_count": null,
   "metadata": {},
   "outputs": [],
   "source": [
    "print(node, graph, coloring, max_colors)"
   ]
  },
  {
   "cell_type": "code",
   "execution_count": null,
   "metadata": {},
   "outputs": [],
   "source": [
    "node = 1\n",
    "mapping = [[3, 5, 8, 10, 42, 43, 45, 49], [5, 13, 15, 16, 20, 22, 24, 25, 27, 31, 35, 39, 45, 46, 47], [3, 9, 10, 12, 15, 21, 28, 36, 42, 46, 47, 48], [0, 2, 5, 7, 8, 9, 11, 25, 30, 33, 35, 36, 40, 45], [12, 15, 16, 20, 24, 26, 27, 30, 40, 43, 44, 45, 47], [0, 1, 3, 7, 18, 25, 32, 37, 42, 43, 45, 46, 49], [15, 16, 17, 18, 20, 23, 24, 28, 29, 33, 35, 37, 41, 43, 45, 46], [3, 5, 9, 14, 18, 20, 21, 22, 24, 26, 31, 32, 35, 37, 40, 41, 44, 46, 47, 49], [0, 3, 11, 16, 17, 20, 27, 28, 31, 32, 34, 41, 43, 47], [2, 3, 7, 10, 12, 14, 15, 19, 25, 26, 33, 35, 38, 43, 44], [0, 2, 9, 17, 19, 20, 30, 31, 37, 38, 39, 42], [3, 8, 15, 18, 20, 22, 28, 31, 32, 33, 34, 35, 37, 41, 46, 47], [2, 4, 9, 14, 16, 17, 20, 28, 29, 31, 43, 45, 48, 49], [1, 14, 15, 19, 20, 23, 24, 26, 29, 41], [7, 9, 12, 13, 19, 23, 26, 29, 37, 39, 48, 49], [1, 2, 4, 6, 9, 11, 13, 16, 19, 27, 30, 31, 33, 44, 48, 49], [1, 4, 6, 8, 12, 15, 17, 19, 25, 29, 30, 33, 35, 38, 41, 46, 48], [6, 8, 10, 12, 16, 22, 23, 29, 32, 33, 44, 45, 46], [5, 6, 7, 11, 22, 28, 31, 33, 35, 42], [9, 10, 13, 14, 15, 16, 23, 26, 29, 38, 39, 42, 43, 45, 47, 49], [1, 4, 6, 7, 8, 10, 11, 12, 13, 24, 28, 37, 40, 42, 44, 47], [2, 7, 22, 24, 25, 37, 44, 45], [1, 7, 11, 17, 18, 21, 27, 29, 30, 32, 41, 44, 47, 48, 49], [6, 13, 14, 17, 19, 27, 29, 32, 34, 42, 43], [1, 4, 6, 7, 13, 20, 21, 25, 27, 32, 40, 48], [1, 3, 5, 9, 16, 21, 24, 34, 45, 46, 48], [4, 7, 9, 13, 14, 19, 27, 29, 30, 32, 33, 36, 42, 48], [1, 4, 8, 15, 22, 23, 24, 26, 29, 30, 32, 35, 41, 44, 45, 47, 48], [2, 6, 8, 11, 12, 18, 20, 33, 34, 35, 36, 37, 43, 45], [6, 12, 13, 14, 16, 17, 19, 22, 23, 26, 27, 31, 35, 43, 44, 45], [3, 4, 10, 15, 16, 22, 26, 27, 31, 37, 39], [1, 7, 8, 10, 11, 12, 15, 18, 29, 30, 33, 36, 38, 40, 46, 48], [5, 7, 8, 11, 17, 22, 23, 24, 26, 27, 34, 35, 36, 39, 42, 45, 47, 49], [3, 6, 9, 11, 15, 16, 17, 18, 26, 28, 31, 34, 39, 41, 43, 44, 45, 46, 47], [8, 11, 23, 25, 28, 32, 33, 35, 40, 43, 44, 45], [1, 3, 6, 7, 9, 11, 16, 18, 27, 28, 29, 32, 34, 36, 39, 40, 41, 42, 45], [2, 3, 26, 28, 31, 32, 35, 42, 45, 47, 49], [5, 6, 7, 10, 11, 14, 20, 21, 28, 30, 38, 39, 43], [9, 10, 16, 19, 31, 37, 41, 42, 48], [1, 10, 14, 19, 30, 32, 33, 35, 37], [3, 4, 7, 20, 24, 31, 34, 35, 45, 46, 47], [6, 7, 8, 11, 13, 16, 22, 27, 33, 35, 38, 42, 44], [0, 2, 5, 10, 18, 19, 20, 23, 26, 32, 35, 36, 38, 41, 44, 47, 49], [0, 4, 5, 6, 8, 9, 12, 19, 23, 28, 29, 33, 34, 37, 44, 47], [4, 7, 9, 15, 17, 20, 21, 22, 27, 29, 33, 34, 41, 42, 43, 45, 49], [0, 1, 3, 4, 5, 6, 12, 17, 19, 21, 25, 27, 28, 29, 32, 33, 34, 35, 36, 40, 44, 47, 49], [1, 2, 5, 6, 7, 11, 16, 17, 25, 31, 33, 40, 47], [1, 2, 4, 7, 8, 11, 19, 20, 22, 27, 32, 33, 36, 40, 42, 43, 45, 46], [2, 12, 14, 15, 16, 22, 24, 25, 26, 27, 31, 38], [0, 5, 7, 12, 14, 15, 19, 22, 32, 36, 42, 44, 45]]\n",
    "coloring = [1, 1, 3, 0, 1, 1, 1, 5, 1, 1, 0, 0, 0, 0, 2, 2, 3, 2, 0, 1, 2, 0, 1, 1, 1, 2, 3, 0, 3, 4, 4, 3, 4, 4, 0, 2, 1, 5, 2, 1, 4, 5, 6, 2, 3, 5, 0, 3, 4, 7]\n",
    "max_colors = 8"
   ]
  },
  {
   "cell_type": "code",
   "execution_count": null,
   "metadata": {},
   "outputs": [],
   "source": [
    "unfamous_color_test(node, mapping, coloring, max_colors)"
   ]
  },
  {
   "cell_type": "code",
   "execution_count": null,
   "metadata": {},
   "outputs": [],
   "source": [
    "unfamous_color(node, mapping, coloring, max_colors)"
   ]
  },
  {
   "cell_type": "code",
   "execution_count": null,
   "metadata": {},
   "outputs": [],
   "source": [
    "neighbor_colors = [coloring[color] for color in mapping[node]]\n",
    "color_count = Counter(neighbor_colors)\n",
    "color_count"
   ]
  },
  {
   "cell_type": "code",
   "execution_count": null,
   "metadata": {},
   "outputs": [],
   "source": [
    "min_color = min([v for k, v in color_count.items() if k != coloring[node]])"
   ]
  },
  {
   "cell_type": "code",
   "execution_count": null,
   "metadata": {},
   "outputs": [],
   "source": [
    "set(range(max_colors))-set(color_count.keys())"
   ]
  },
  {
   "cell_type": "code",
   "execution_count": null,
   "metadata": {},
   "outputs": [],
   "source": [
    "neighbor_colors = [coloring[color] for color in mapping[node]]\n",
    "color_count = Counter(neighbor_colors)\n",
    "\n",
    "min_color = min([v for k, v in color_count.items() if k not in coloring[node]])\n",
    "\n",
    "unused_colors = set(range(max_colors))-set(color_count.keys())\n",
    "\n",
    "if unused_colors:\n",
    "    return unused_colors\n",
    "    # return random.choice(unused_colors)\n",
    "else:\n",
    "    least_colors = [k for k, v in color_count.items() if v == min_color and k != coloring[node]]\n",
    "    return least_colors"
   ]
  },
  {
   "cell_type": "code",
   "execution_count": null,
   "metadata": {},
   "outputs": [],
   "source": [
    "neighbor_colors = [coloring[color] for color in graph[node]]\n",
    "    color_count = Counter(neighbor_colors)\n",
    "    \n",
    "    ## remove reusing same color as current node\n",
    "    if coloring[node] in color_count:\n",
    "        color_count.pop(coloring[node])\n",
    "    \n",
    "    min_color = min(color_count.values())\n",
    "    \n",
    "    unused_colors = set(range(max_colors))-set(color_count.keys())\n",
    "    \n",
    "    if unused_colors:\n",
    "        return unused_colors\n",
    "        # return random.choice(unused_colors)\n",
    "    else:\n",
    "        least_colors = [k for k, v in color_count.items() if v == min_color]\n",
    "        return least_colors"
   ]
  },
  {
   "cell_type": "code",
   "execution_count": null,
   "metadata": {},
   "outputs": [],
   "source": []
  },
  {
   "cell_type": "code",
   "execution_count": null,
   "metadata": {},
   "outputs": [],
   "source": []
  },
  {
   "cell_type": "code",
   "execution_count": null,
   "metadata": {},
   "outputs": [],
   "source": []
  },
  {
   "cell_type": "code",
   "execution_count": null,
   "metadata": {},
   "outputs": [],
   "source": []
  },
  {
   "cell_type": "code",
   "execution_count": null,
   "metadata": {},
   "outputs": [],
   "source": []
  },
  {
   "cell_type": "code",
   "execution_count": null,
   "metadata": {},
   "outputs": [],
   "source": []
  },
  {
   "cell_type": "code",
   "execution_count": null,
   "metadata": {},
   "outputs": [],
   "source": [
    "tabu_limit = node_count // 10\n",
    "tabu_list = TabuList(tabu_limit)    \n",
    "mapping = [[] for _ in range(node_count)]\n",
    "\n",
    "for i, j in edges:\n",
    "    mapping[i].append(j)\n",
    "    mapping[j].append(i)\n",
    "\n",
    "new_coloring = optimal_coloring #get_suboptimal_coloring(mapping) #[random.randint(0, max_color-1) for _ in range(node_count)]\n",
    "max_color = len(set(new_coloring))\n",
    "\n",
    "print(max_color)"
   ]
  },
  {
   "cell_type": "code",
   "execution_count": null,
   "metadata": {},
   "outputs": [],
   "source": [
    "max_color = 6\n",
    "new_coloring = remove_color(optimal_coloring, max_color)"
   ]
  },
  {
   "cell_type": "code",
   "execution_count": null,
   "metadata": {},
   "outputs": [],
   "source": [
    "conflicts = get_conflicts(mapping, new_coloring)\n",
    "sum(conflicts)"
   ]
  },
  {
   "cell_type": "code",
   "execution_count": null,
   "metadata": {},
   "outputs": [],
   "source": [
    "max_violation_node(conflicts, tabu_list), max_violation_node_test(conflicts, tabu_list)"
   ]
  },
  {
   "cell_type": "code",
   "execution_count": null,
   "metadata": {},
   "outputs": [],
   "source": [
    "tabu_list.tabu_queue"
   ]
  },
  {
   "cell_type": "code",
   "execution_count": null,
   "metadata": {},
   "outputs": [],
   "source": [
    "node = 41\n",
    "tabu_list.insert(node)"
   ]
  },
  {
   "cell_type": "code",
   "execution_count": null,
   "metadata": {},
   "outputs": [],
   "source": [
    "unfamous_color(node, mapping, new_coloring, max_color), unfamous_color_test(node, mapping, new_coloring, max_color)"
   ]
  },
  {
   "cell_type": "code",
   "execution_count": null,
   "metadata": {},
   "outputs": [],
   "source": [
    "least_used_color =4\n",
    "\n",
    "\n",
    "new_coloring[node] = least_used_color\n",
    "\n",
    "conflicts = get_conflicts(mapping, new_coloring)\n",
    "sum(conflicts)"
   ]
  },
  {
   "cell_type": "code",
   "execution_count": null,
   "metadata": {},
   "outputs": [],
   "source": []
  }
 ],
 "metadata": {
  "kernelspec": {
   "display_name": "Python 3 (ipykernel)",
   "language": "python",
   "name": "python3"
  },
  "language_info": {
   "codemirror_mode": {
    "name": "ipython",
    "version": 3
   },
   "file_extension": ".py",
   "mimetype": "text/x-python",
   "name": "python",
   "nbconvert_exporter": "python",
   "pygments_lexer": "ipython3",
   "version": "3.10.11"
  },
  "widgets": {
   "application/vnd.jupyter.widget-state+json": {
    "state": {},
    "version_major": 2,
    "version_minor": 0
   }
  }
 },
 "nbformat": 4,
 "nbformat_minor": 4
}