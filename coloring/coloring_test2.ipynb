{
 "cells": [
  {
   "cell_type": "code",
   "execution_count": 1414,
   "metadata": {},
   "outputs": [],
   "source": [
    "import statistics\n",
    "import queue\n",
    "from collections import namedtuple\n",
    "import numpy as np\n",
    "import random\n",
    "from tqdm import tqdm\n",
    "import networkx as nx\n",
    "from copy import deepcopy\n",
    "\n",
    "from collections import Counter\n"
   ]
  },
  {
   "cell_type": "code",
   "execution_count": 1423,
   "metadata": {},
   "outputs": [],
   "source": [
    "with open('./data/gc_50_3', 'r') as input_data_file:\n",
    "    input_data = input_data_file.read()\n",
    "    \n",
    "lines = input_data.split('\\n')\n",
    "\n",
    "first_line = lines[0].split()\n",
    "node_count = int(first_line[0])\n",
    "edge_count = int(first_line[1])\n",
    "\n",
    "edges = []\n",
    "for i in range(1, edge_count + 1):\n",
    "    line = lines[i]\n",
    "    parts = line.split()\n",
    "    edges.append((int(parts[0]), int(parts[1])))"
   ]
  },
  {
   "cell_type": "code",
   "execution_count": 1424,
   "metadata": {},
   "outputs": [
    {
     "data": {
      "text/plain": [
       "(50, 350)"
      ]
     },
     "execution_count": 1424,
     "metadata": {},
     "output_type": "execute_result"
    }
   ],
   "source": [
    "node_count, edge_count"
   ]
  },
  {
   "cell_type": "code",
   "execution_count": 1425,
   "metadata": {},
   "outputs": [],
   "source": [
    "def reset_coloring(max_colors):\n",
    "\n",
    "    temp = dict()\n",
    "    \n",
    "    for idx in range(node_count):\n",
    "        temp[idx] = list(range(max_colors))\n",
    "\n",
    "    return temp"
   ]
  },
  {
   "cell_type": "code",
   "execution_count": 1426,
   "metadata": {},
   "outputs": [],
   "source": [
    "mapping = dict()\n",
    "    \n",
    "for idx in range(node_count):\n",
    "    mapping[idx] = []\n",
    "\n",
    "for i, j in edges:\n",
    "    mapping[i].append(j)\n",
    "    mapping[j].append(i)\n",
    "\n",
    "coloring = reset_coloring(node_count)"
   ]
  },
  {
   "cell_type": "code",
   "execution_count": 1434,
   "metadata": {},
   "outputs": [
    {
     "name": "stderr",
     "output_type": "stream",
     "text": [
      "100%|███████████████████████████████████████████████████████████████████████████████| 50/50 [00:00<00:00, 12497.93it/s]\n"
     ]
    }
   ],
   "source": [
    "# get 17\n",
    "# sorted(mapping.items(), key=lambda x: len(x[1]), reverse=True)[0]\n",
    "clique_set = set()\n",
    "\n",
    "for find_clique_for in tqdm(mapping):\n",
    "    for elements in mapping[find_clique_for]:\n",
    "        found = set(mapping[elements]).intersection(set(mapping[find_clique_for]))\n",
    "        for ele in found:\n",
    "            clique_set.add(frozenset({ele, elements, find_clique_for}))\n",
    "            # print(find_clique_for, elements, found)\n",
    "\n",
    "\n",
    "# unique_cliques = [list(t) for t in set(tuple(lst) for lst in clique_set)]\n",
    "# unique_cliques = sorted(unique_cliques, key=lambda x: len(x), reverse=True)"
   ]
  },
  {
   "cell_type": "code",
   "execution_count": 1435,
   "metadata": {},
   "outputs": [],
   "source": [
    "connections = dict(zip(list(range(node_count)), [0]*node_count))\n",
    "for elements in clique_set:\n",
    "    for ele in elements:\n",
    "        connections[ele] += 1\n",
    "        \n",
    "# connections = list(dict(sorted(connections.items(), key=lambda x: x[1], reverse=True)).keys())\n",
    "connections = dict(sorted(connections.items(), key=lambda x: x[1], reverse=True))"
   ]
  },
  {
   "cell_type": "code",
   "execution_count": null,
   "metadata": {},
   "outputs": [],
   "source": []
  },
  {
   "cell_type": "code",
   "execution_count": 1436,
   "metadata": {},
   "outputs": [],
   "source": [
    "# scan_list = [45]\n",
    "# for k, v in dict(sorted(connections.items(), key=lambda x: x[1], reverse=True)).items():\n",
    "#     if k in mapping[45]:\n",
    "#         scan_list.append(k)\n",
    "\n",
    "# for k, v in dict(sorted(connections.items(), key=lambda x: x[1], reverse=True)).items():\n",
    "#     if k not in scan_list:\n",
    "#         scan_list.append(k)"
   ]
  },
  {
   "cell_type": "code",
   "execution_count": 1437,
   "metadata": {},
   "outputs": [],
   "source": [
    "def is_valid_coloring(graph, coloring, node, color):\n",
    "    graph = deepcopy(graph)\n",
    "    for neighbor in graph[node]:\n",
    "        if isinstance(coloring[neighbor], list):\n",
    "            continue\n",
    "        if coloring[neighbor] == color:\n",
    "            return False\n",
    "    del graph   \n",
    "    return True\n",
    "    \n",
    "\n",
    "def calculate_conflicts(graph, coloring):\n",
    "    conflicts = 0\n",
    "    graph = deepcopy(graph)\n",
    "    for node in graph:\n",
    "        for neighbor in graph[node]:\n",
    "            if isinstance(coloring[neighbor], list):\n",
    "                continue\n",
    "            if coloring[node] == coloring[neighbor]:\n",
    "                conflicts += 1\n",
    "            if node in  graph[neighbor]:\n",
    "                graph[neighbor].remove(node)\n",
    "    del graph\n",
    "    return conflicts\n",
    "\n",
    "\n",
    "def print_conflicts(graph, coloring):\n",
    "    conflicts = 0\n",
    "    graph = deepcopy(graph)\n",
    "    for node in graph:\n",
    "        for neighbor in graph[node]:\n",
    "            if isinstance(coloring[neighbor], list):\n",
    "                continue\n",
    "            if coloring[node] == coloring[neighbor]:\n",
    "                print(node, neighbor)\n",
    "                conflicts += 1\n",
    "            if node in  graph[neighbor]:\n",
    "                graph[neighbor].remove(node)\n",
    "    del graph\n",
    "    pass\n",
    "\n",
    "\n",
    "def get_conflict_nodes(graph, coloring):\n",
    "    conflict_nodes = []\n",
    "    graph = deepcopy(graph)\n",
    "    for node in graph:\n",
    "        for neighbor in graph[node]:\n",
    "            if isinstance(coloring[neighbor], list):\n",
    "                continue\n",
    "            if coloring[node] == coloring[neighbor]:\n",
    "                conflict_nodes.append(node)\n",
    "                conflict_nodes.append(neighbor)\n",
    "            if node in  graph[neighbor]:\n",
    "                graph[neighbor].remove(node)\n",
    "    del graph\n",
    "    return list(set(conflict_nodes))\n",
    "\n",
    "\n",
    "def least_conflict_swap(graph, coloring, conflicts):\n",
    "    graph = deepcopy(graph)\n",
    "    coloring = deepcopy(coloring)\n",
    "\n",
    "    least_conflict = len(conflicts)\n",
    "    \n",
    "    for conflict in conflicts:\n",
    "        for swap_node in graph[conflict]:\n",
    "            swap_color1 = conflict\n",
    "            swap_color2 = swap_node\n",
    "            temp = coloring[swap_color1]\n",
    "            coloring[swap_color1]= coloring[swap_color2]\n",
    "            coloring[swap_color2] = temp\n",
    "\n",
    "            current_conflicts = calculate_conflicts(graph, coloring)\n",
    "\n",
    "            if current_conflicts <= least_conflict:\n",
    "                return swap_color1, swap_color2\n",
    "            else:\n",
    "                swap_color1 = swap_node\n",
    "                swap_color2 = conflict\n",
    "                temp = coloring[swap_color1]\n",
    "                coloring[swap_color1]= coloring[swap_color2]\n",
    "                coloring[swap_color2] = temp\n",
    "    del graph\n",
    "    del coloring\n",
    "    pass"
   ]
  },
  {
   "cell_type": "code",
   "execution_count": 1450,
   "metadata": {},
   "outputs": [],
   "source": [
    "optimal_conflicts = edge_count ## Expecting 0\n",
    "optimal_coloring = None\n",
    "optimal_colors = node_count ## Expecting least number"
   ]
  },
  {
   "cell_type": "code",
   "execution_count": 1451,
   "metadata": {},
   "outputs": [],
   "source": [
    "coloring = reset_coloring(node_count)\n",
    "explored_colors = {}"
   ]
  },
  {
   "cell_type": "code",
   "execution_count": 1452,
   "metadata": {},
   "outputs": [
    {
     "data": {
      "text/plain": [
       "(8, 6)"
      ]
     },
     "execution_count": 1452,
     "metadata": {},
     "output_type": "execute_result"
    }
   ],
   "source": [
    "max_colors = 6\n",
    "\n",
    "for set_node in connections:\n",
    "    \n",
    "    for set_color in range(max_colors):\n",
    "        if is_valid_coloring(mapping, coloring, set_node, set_color):\n",
    "            break\n",
    "        else:\n",
    "            set_color = random.randint(0, max_colors-1)\n",
    "    \n",
    "    coloring[set_node] = set_color\n",
    "    \n",
    "current_conflicts = calculate_conflicts(mapping, coloring)\n",
    "\n",
    "if current_conflicts < optimal_conflicts:\n",
    "    optimal_coloring = deepcopy(coloring)\n",
    "    optimal_conflicts = current_conflicts \n",
    "\n",
    "# set_color\n",
    "optimal_conflicts, len(set(optimal_coloring.values()))"
   ]
  },
  {
   "cell_type": "code",
   "execution_count": 1441,
   "metadata": {},
   "outputs": [
    {
     "data": {
      "text/plain": [
       "(8, 6)"
      ]
     },
     "execution_count": 1441,
     "metadata": {},
     "output_type": "execute_result"
    }
   ],
   "source": [
    "optimal_conflicts, len(set(optimal_coloring.values()))"
   ]
  },
  {
   "cell_type": "code",
   "execution_count": 1301,
   "metadata": {},
   "outputs": [
    {
     "data": {
      "text/plain": [
       "{0: 0,\n",
       " 1: 5,\n",
       " 2: 1,\n",
       " 3: 2,\n",
       " 4: 2,\n",
       " 5: 4,\n",
       " 6: 0,\n",
       " 7: 5,\n",
       " 8: 4,\n",
       " 9: 5,\n",
       " 10: 2,\n",
       " 11: 4,\n",
       " 12: 0,\n",
       " 13: 0,\n",
       " 14: 4,\n",
       " 15: 4,\n",
       " 16: 4,\n",
       " 17: 3,\n",
       " 18: 0,\n",
       " 19: 4,\n",
       " 20: 1,\n",
       " 21: 0,\n",
       " 22: 4,\n",
       " 23: 1,\n",
       " 24: 3,\n",
       " 25: 1,\n",
       " 26: 3,\n",
       " 27: 0,\n",
       " 28: 5,\n",
       " 29: 2,\n",
       " 30: 1,\n",
       " 31: 3,\n",
       " 32: 0,\n",
       " 33: 5,\n",
       " 34: 2,\n",
       " 35: 3,\n",
       " 36: 0,\n",
       " 37: 3,\n",
       " 38: 0,\n",
       " 39: 0,\n",
       " 40: 0,\n",
       " 41: 1,\n",
       " 42: 5,\n",
       " 43: 0,\n",
       " 44: 3,\n",
       " 45: 1,\n",
       " 46: 2,\n",
       " 47: 3,\n",
       " 48: 2,\n",
       " 49: 1}"
      ]
     },
     "execution_count": 1301,
     "metadata": {},
     "output_type": "execute_result"
    }
   ],
   "source": [
    "optimal_coloring"
   ]
  },
  {
   "cell_type": "code",
   "execution_count": 1312,
   "metadata": {},
   "outputs": [],
   "source": [
    "# all_conflict_nodes = get_conflict_nodes(mapping, optimal_coloring)\n",
    "# least_conflict_swap(mapping, optimal_coloring, all_conflict_nodes)"
   ]
  },
  {
   "cell_type": "code",
   "execution_count": 1335,
   "metadata": {},
   "outputs": [
    {
     "data": {
      "text/plain": [
       "13"
      ]
     },
     "execution_count": 1335,
     "metadata": {},
     "output_type": "execute_result"
    }
   ],
   "source": [
    "calculate_conflicts(mapping, optimal_coloring)"
   ]
  },
  {
   "cell_type": "code",
   "execution_count": 1314,
   "metadata": {},
   "outputs": [
    {
     "data": {
      "text/plain": [
       "[0, 4, 5, 6, 8, 9, 12, 19, 23, 28, 29, 33, 34, 37, 44, 47]"
      ]
     },
     "execution_count": 1314,
     "metadata": {},
     "output_type": "execute_result"
    }
   ],
   "source": [
    "mapping[43]"
   ]
  },
  {
   "cell_type": "code",
   "execution_count": 1194,
   "metadata": {},
   "outputs": [],
   "source": [
    "for make_change in get_conflict_nodes(mapping, optimal_coloring):\n",
    "    \n",
    "    temp_color = optimal_coloring[make_change]\n",
    "    base_conflict = calculate_conflicts(mapping, optimal_coloring)\n",
    "    \n",
    "    for color in range(6):\n",
    "        optimal_coloring[make_change] = color\n",
    "        current_conflict = calculate_conflicts(mapping, optimal_coloring)\n",
    "        if current_conflict < base_conflict:\n",
    "            base_conflict = current_conflict\n",
    "            break\n",
    "        optimal_coloring[make_change] = temp_color"
   ]
  },
  {
   "cell_type": "code",
   "execution_count": 1195,
   "metadata": {},
   "outputs": [
    {
     "data": {
      "text/plain": [
       "2"
      ]
     },
     "execution_count": 1195,
     "metadata": {},
     "output_type": "execute_result"
    }
   ],
   "source": [
    "calculate_conflicts(mapping, optimal_coloring)"
   ]
  },
  {
   "cell_type": "code",
   "execution_count": 1196,
   "metadata": {},
   "outputs": [
    {
     "name": "stdout",
     "output_type": "stream",
     "text": [
      "27 5\n",
      "44 3\n",
      "47 5\n",
      "15 3\n"
     ]
    }
   ],
   "source": [
    "for node in get_conflict_nodes(mapping, optimal_coloring):\n",
    "    print(node, optimal_coloring[node])"
   ]
  },
  {
   "cell_type": "code",
   "execution_count": 1198,
   "metadata": {},
   "outputs": [
    {
     "data": {
      "text/plain": [
       "3"
      ]
     },
     "execution_count": 1198,
     "metadata": {},
     "output_type": "execute_result"
    }
   ],
   "source": [
    "optimal_coloring[15]"
   ]
  },
  {
   "cell_type": "code",
   "execution_count": 1185,
   "metadata": {},
   "outputs": [
    {
     "data": {
      "text/plain": [
       "[1, 2, 4, 6, 9, 11, 13, 16, 19, 27, 30, 31, 33, 44, 48, 49]"
      ]
     },
     "execution_count": 1185,
     "metadata": {},
     "output_type": "execute_result"
    }
   ],
   "source": [
    "mapping[15]"
   ]
  },
  {
   "cell_type": "code",
   "execution_count": 1197,
   "metadata": {},
   "outputs": [
    {
     "data": {
      "text/plain": [
       "2"
      ]
     },
     "execution_count": 1197,
     "metadata": {},
     "output_type": "execute_result"
    }
   ],
   "source": [
    "optimal_coloring[1]"
   ]
  },
  {
   "cell_type": "code",
   "execution_count": 754,
   "metadata": {},
   "outputs": [],
   "source": [
    "# for explore_node in get_conflict_nodes(mapping, optimal_coloring):\n",
    "#     for color in range(6):\n",
    "#         if is_valid_coloring(mapping, optimal_coloring, explore_node, color):\n",
    "#             print(explore_node, color, is_valid_coloring(mapping, optimal_coloring, explore_node, color))\n",
    "#             optimal_coloring[explore_node] = color"
   ]
  },
  {
   "cell_type": "code",
   "execution_count": 1409,
   "metadata": {},
   "outputs": [
    {
     "name": "stderr",
     "output_type": "stream",
     "text": [
      "Iterating: 100%|███████████████████████████████████████████████████████████████████████| 10/10 [00:04<00:00,  2.10it/s]\n"
     ]
    }
   ],
   "source": [
    "# base_node = 25\n",
    "iterations = 10\n",
    "escape = False\n",
    "\n",
    "with tqdm(total=iterations, desc=\"Iterating\") as progress_bar:\n",
    "    while iterations > 0:\n",
    "        shuffle_list = get_conflict_nodes(mapping, optimal_coloring)\n",
    "        random.shuffle(shuffle_list)\n",
    "        for base_node in shuffle_list:\n",
    "            for swap_node in mapping[base_node]:\n",
    "                optimal_conflicts = calculate_conflicts(mapping, optimal_coloring)\n",
    "                \n",
    "                temp = optimal_coloring[base_node]\n",
    "                optimal_coloring[base_node] = optimal_coloring[swap_node]\n",
    "                optimal_coloring[swap_node] = temp\n",
    "                \n",
    "                if calculate_conflicts(mapping, optimal_coloring) >= optimal_conflicts:\n",
    "                    temp = optimal_coloring[swap_node]\n",
    "                    optimal_coloring[swap_node] = optimal_coloring[base_node]\n",
    "                    optimal_coloring[base_node] = temp\n",
    "    \n",
    "                if calculate_conflicts(mapping, optimal_coloring) == 0:\n",
    "                    escape = True\n",
    "                    break\n",
    "            \n",
    "            if escape:\n",
    "                break\n",
    "                \n",
    "        if escape:\n",
    "            break\n",
    "            \n",
    "        iterations -= 1\n",
    "        progress_bar.update(1)\n",
    "    \n",
    "    # print(calculate_conflicts(mapping, optimal_coloring))"
   ]
  },
  {
   "cell_type": "code",
   "execution_count": 1410,
   "metadata": {},
   "outputs": [
    {
     "name": "stdout",
     "output_type": "stream",
     "text": [
      "6 28\n",
      "7 9\n",
      "14 29\n",
      "15 31\n",
      "15 49\n",
      "20 40\n",
      "23 42\n",
      "29 43\n"
     ]
    }
   ],
   "source": [
    "print_conflicts(mapping, optimal_coloring)"
   ]
  },
  {
   "cell_type": "code",
   "execution_count": 1411,
   "metadata": {},
   "outputs": [
    {
     "data": {
      "text/plain": [
       "8"
      ]
     },
     "execution_count": 1411,
     "metadata": {},
     "output_type": "execute_result"
    }
   ],
   "source": [
    "calculate_conflicts(mapping, optimal_coloring)"
   ]
  },
  {
   "cell_type": "code",
   "execution_count": 1413,
   "metadata": {},
   "outputs": [
    {
     "data": {
      "text/plain": [
       "3"
      ]
     },
     "execution_count": 1413,
     "metadata": {},
     "output_type": "execute_result"
    }
   ],
   "source": [
    "optimal_coloring[49]"
   ]
  },
  {
   "cell_type": "code",
   "execution_count": 371,
   "metadata": {},
   "outputs": [
    {
     "name": "stderr",
     "output_type": "stream",
     "text": [
      "100%|██████████████████████████████████████████████████████████████████████████████████| 18/18 [00:23<00:00,  1.31s/it]\n"
     ]
    },
    {
     "data": {
      "text/plain": [
       "(21, 18)"
      ]
     },
     "execution_count": 371,
     "metadata": {},
     "output_type": "execute_result"
    }
   ],
   "source": [
    "max_colors = 17\n",
    "for default_color in tqdm(range(max_colors)):\n",
    "    coloring = reset_coloring(node_count)\n",
    "    for set_node in connections:\n",
    "        for set_color in range(max_colors):\n",
    "            if is_valid_coloring(mapping, coloring, set_node, set_color):\n",
    "                break\n",
    "            # else:\n",
    "            #     set_color = default_color\n",
    "        \n",
    "        coloring[set_node] = set_color\n",
    "        \n",
    "    current_conflicts = calculate_conflicts(mapping, coloring)\n",
    "    \n",
    "    if current_conflicts < optimal_conflicts:\n",
    "        optimal_coloring = deepcopy(coloring)\n",
    "        optimal_conflicts = current_conflicts \n",
    "\n",
    "\n",
    "\n",
    "# max_colors = 6\n",
    "\n",
    "# for _ in tqdm(range(10)):\n",
    "    \n",
    "#     coloring = reset_coloring(node_count)\n",
    "    \n",
    "#     # random.shuffle(connections)\n",
    "    \n",
    "#     for set_node in connections:\n",
    "        \n",
    "#         for set_color in range(max_colors):\n",
    "#             if is_valid_coloring(mapping, coloring, set_node, set_color):\n",
    "#                 break\n",
    "#             else:\n",
    "#                 set_color = random.randint(0, max_colors-1)\n",
    "        \n",
    "#         coloring[set_node] = set_color\n",
    "        \n",
    "#     current_conflicts = calculate_conflicts(mapping, coloring)\n",
    "    \n",
    "#     if current_conflicts < optimal_conflicts:\n",
    "#         optimal_coloring = deepcopy(coloring)\n",
    "#         optimal_conflicts = current_conflicts \n",
    "\n",
    "# set_color\n",
    "optimal_conflicts, len(set(optimal_coloring.values()))"
   ]
  },
  {
   "cell_type": "code",
   "execution_count": 329,
   "metadata": {},
   "outputs": [
    {
     "data": {
      "text/plain": [
       "(3, 6)"
      ]
     },
     "execution_count": 329,
     "metadata": {},
     "output_type": "execute_result"
    }
   ],
   "source": [
    "optimal_conflicts, len(set(optimal_coloring.values()))"
   ]
  },
  {
   "cell_type": "code",
   "execution_count": 330,
   "metadata": {},
   "outputs": [
    {
     "data": {
      "text/plain": [
       "3"
      ]
     },
     "execution_count": 330,
     "metadata": {},
     "output_type": "execute_result"
    }
   ],
   "source": [
    "calculate_conflicts(mapping, optimal_coloring)"
   ]
  },
  {
   "cell_type": "code",
   "execution_count": 331,
   "metadata": {},
   "outputs": [
    {
     "name": "stdout",
     "output_type": "stream",
     "text": [
      "8 28\n",
      "28 36\n",
      "40 46\n"
     ]
    }
   ],
   "source": [
    "print_conflicts(mapping, optimal_coloring)"
   ]
  },
  {
   "cell_type": "code",
   "execution_count": 332,
   "metadata": {},
   "outputs": [
    {
     "data": {
      "text/plain": [
       "[0, 3, 11, 16, 17, 20, 27, 28, 31, 32, 34, 41, 43, 47]"
      ]
     },
     "execution_count": 332,
     "metadata": {},
     "output_type": "execute_result"
    }
   ],
   "source": [
    "temp = optimal_coloring\n",
    "mapping[8]"
   ]
  },
  {
   "cell_type": "code",
   "execution_count": null,
   "metadata": {},
   "outputs": [],
   "source": [
    "optimal_coloring[32] = 1"
   ]
  },
  {
   "cell_type": "code",
   "execution_count": null,
   "metadata": {},
   "outputs": [],
   "source": [
    "for explore_node in get_conflict_nodes(mapping, optimal_coloring):\n",
    "    for color in range(6):\n",
    "        if is_valid_coloring(mapping, optimal_coloring, explore_node, color):\n",
    "            print(explore_node, color, is_valid_coloring(mapping, optimal_coloring, explore_node, color))\n",
    "            optimal_coloring[explore_node] = color"
   ]
  },
  {
   "cell_type": "code",
   "execution_count": null,
   "metadata": {},
   "outputs": [],
   "source": [
    "calculate_conflicts(mapping, optimal_coloring)"
   ]
  },
  {
   "cell_type": "code",
   "execution_count": null,
   "metadata": {},
   "outputs": [],
   "source": []
  },
  {
   "cell_type": "code",
   "execution_count": null,
   "metadata": {},
   "outputs": [],
   "source": []
  },
  {
   "cell_type": "code",
   "execution_count": null,
   "metadata": {},
   "outputs": [],
   "source": []
  },
  {
   "cell_type": "code",
   "execution_count": null,
   "metadata": {},
   "outputs": [],
   "source": [
    "\n",
    "## Get most conflicts - move up the local minima\n",
    "\n",
    "## check list\n",
    "## dont use visited colors\n",
    "## use the next best and see if you get less conflicts\n",
    "## use that and adjust again\n",
    "# explored_node = []\n",
    "# while True:\n",
    "\n",
    "## go up the tree with most conflicts. dive down and see least conflicts.\n",
    "## if non found do it again\n",
    "    \n",
    "for explore_node in get_conflict_nodes(mapping, optimal_coloring):\n",
    "    default_color = optimal_coloring[explore_node]\n",
    "    \n",
    "    for color in range(6):\n",
    "        optimal_coloring[explore_node] = color\n",
    "        # if calculate_conflicts(mapping, optimal_coloring) < 3:\n",
    "        print(explore_node, color, calculate_conflicts(mapping, optimal_coloring))\n",
    "        # if is_valid_coloring(mapping, optimal_coloring, explore_node, color):\n",
    "        #     print(explore_node, color, is_valid_coloring(mapping, optimal_coloring, explore_node, color))\n",
    "            # optimal_coloring[explore_node] = color\n",
    "\n",
    "    optimal_coloring[explore_node] = default_color"
   ]
  },
  {
   "cell_type": "code",
   "execution_count": null,
   "metadata": {},
   "outputs": [],
   "source": [
    "optimal_coloring[49] = 3\n",
    "calculate_conflicts(mapping, optimal_coloring)"
   ]
  },
  {
   "cell_type": "code",
   "execution_count": null,
   "metadata": {},
   "outputs": [],
   "source": [
    "36 4 3\n",
    "36 5 3\n",
    "8 2 3\n",
    "8 4 3\n",
    "40 1 3\n",
    "40 4 3\n",
    "40 5 3\n",
    "47 2 3\n",
    "49 3 3\n",
    "49 5 3\n",
    "20 1 3\n",
    "20 3 3\n",
    "20 4 3"
   ]
  },
  {
   "cell_type": "code",
   "execution_count": 1421,
   "metadata": {},
   "outputs": [
    {
     "data": {
      "text/plain": [
       "{0: 0,\n",
       " 1: 0,\n",
       " 3: 0,\n",
       " 4: 0,\n",
       " 5: 0,\n",
       " 6: 0,\n",
       " 7: 0,\n",
       " 8: 0,\n",
       " 9: 0,\n",
       " 10: 0,\n",
       " 12: 0,\n",
       " 13: 0,\n",
       " 14: 0,\n",
       " 15: 0,\n",
       " 16: 0,\n",
       " 18: 0,\n",
       " 19: 0,\n",
       " 2: 1,\n",
       " 11: 1,\n",
       " 17: 1}"
      ]
     },
     "execution_count": 1421,
     "metadata": {},
     "output_type": "execute_result"
    }
   ],
   "source": [
    "connections"
   ]
  }
 ],
 "metadata": {
  "kernelspec": {
   "display_name": "Python 3 (ipykernel)",
   "language": "python",
   "name": "python3"
  },
  "language_info": {
   "codemirror_mode": {
    "name": "ipython",
    "version": 3
   },
   "file_extension": ".py",
   "mimetype": "text/x-python",
   "name": "python",
   "nbconvert_exporter": "python",
   "pygments_lexer": "ipython3",
   "version": "3.10.11"
  }
 },
 "nbformat": 4,
 "nbformat_minor": 4
}
