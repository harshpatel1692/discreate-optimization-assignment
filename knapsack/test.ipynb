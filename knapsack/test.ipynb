{
 "cells": [
  {
   "cell_type": "code",
   "execution_count": 658,
   "metadata": {
    "pycharm": {
     "name": "#%%\n"
    }
   },
   "outputs": [],
   "source": [
    "import statistics\n",
    "import queue\n",
    "from collections import namedtuple"
   ]
  },
  {
   "cell_type": "code",
   "execution_count": 659,
   "metadata": {
    "pycharm": {
     "name": "#%%\n"
    }
   },
   "outputs": [],
   "source": [
    "Item = namedtuple(\"Item\", ['index', 'value', 'weight', 'value_per_weight'])\n",
    "items = [Item(index=0, value=1, weight=2, value_per_weight=0.5), Item(index=1, value=1, weight=2, value_per_weight=0.5), Item(index=2, value=1, weight=2, value_per_weight=0.5), Item(index=3, value=13, weight=7, value_per_weight=1.8571428571428572), Item(index=4, value=10, weight=5, value_per_weight=2.0), Item(index=5, value=10, weight=5, value_per_weight=2.0), Item(index=6, value=8, weight=3, value_per_weight=2.6666666666666665)]"
   ]
  },
  {
   "cell_type": "code",
   "execution_count": 660,
   "metadata": {},
   "outputs": [],
   "source": [
    "# Item = namedtuple(\"Item\", ['index', 'value', 'weight'])\n",
    "# items = [Item(index=0, value=45, weight=5), Item(index=1, value=48, weight=8), Item(index=2, value=35, weight=3)]"
   ]
  },
  {
   "cell_type": "code",
   "execution_count": 661,
   "metadata": {
    "pycharm": {
     "name": "#%%\n"
    }
   },
   "outputs": [],
   "source": [
    "Node = namedtuple(\"Node\", ['direction', 'index', 'branch', 'value', 'weight', 'estimate'])"
   ]
  },
  {
   "cell_type": "code",
   "execution_count": 769,
   "metadata": {
    "pycharm": {
     "name": "#%%\n"
    }
   },
   "outputs": [],
   "source": [
    "def get_children(node_value, capacity, node_estimate, items, branch):\n",
    "\n",
    "    if branch > len(items):\n",
    "        return None, None\n",
    "        \n",
    "    item = items[branch-1]\n",
    "\n",
    "    optimistic_value = 0\n",
    "    total_weight = capacity\n",
    "    for item in sorted(items[branch:], key=lambda x: x.value_per_weight, reverse=True):\n",
    "        if total_weight-item.weight > 0 :\n",
    "            optimistic_value += item.value\n",
    "            total_weight -= item.weight  \n",
    "        else:\n",
    "            optimistic_value += total_weight * item.value_per_weight\n",
    "            break\n",
    "\n",
    "    optimistic_value = int(optimistic_value)\n",
    "        \n",
    "    if capacity-item.weight >= 0 :\n",
    "        left_node = Node('left', item.index, branch, node_value+item.value, capacity-item.weight, node_estimate)\n",
    "        right_node = Node('right', item.index, branch, node_value, capacity, optimistic_value) #node_estimate-item.value) \n",
    "    else:\n",
    "        left_node = Node('left', item.index, branch, -1, capacity-item.weight, -1)\n",
    "        right_node = Node('right', item.index, branch, node_value, capacity, optimistic_value) #node_estimate-item.value)\n",
    "\n",
    "    return left_node, right_node, branch"
   ]
  },
  {
   "cell_type": "markdown",
   "metadata": {},
   "source": [
    "<!-- ## Depth First Search -->"
   ]
  },
  {
   "cell_type": "code",
   "execution_count": 770,
   "metadata": {},
   "outputs": [
    {
     "name": "stdout",
     "output_type": "stream",
     "text": [
      "max_capacity:  10\n",
      "min_capacity:  2\n",
      "optimistic_value:  21\n",
      "total_items:  7\n",
      "max_items:  4\n"
     ]
    }
   ],
   "source": [
    "with open('./data/_example', 'r') as input_data_file:\n",
    "    input_data = input_data_file.read()\n",
    "\n",
    "# parse the input\n",
    "lines = input_data.split('\\n')\n",
    "\n",
    "firstLine = lines[0].split()\n",
    "total_items = int(firstLine[0])\n",
    "max_capacity = int(firstLine[1])\n",
    "\n",
    "items = []\n",
    "\n",
    "for i in range(1, total_items+1):\n",
    "    line = lines[i]\n",
    "    parts = line.split()\n",
    "    items.append(Item(i-1, int(parts[0]), int(parts[1]),  int(parts[0])/int(parts[1])))\n",
    "\n",
    "min_capacity = min([item.weight for item in items])\n",
    "total_items = len(items)\n",
    "\n",
    "optimistic_value = 0\n",
    "total_weight = max_capacity\n",
    "for item in sorted(items, key=lambda x: x.value_per_weight, reverse=True):\n",
    "    if total_weight-item.weight > 0 :\n",
    "        optimistic_value += item.value\n",
    "        total_weight -= item.weight  \n",
    "    else:\n",
    "        optimistic_value += total_weight * item.value_per_weight\n",
    "        break\n",
    "\n",
    "optimistic_value = int(optimistic_value)\n",
    "\n",
    "total_weight = max_capacity\n",
    "max_items=0\n",
    "for item in sorted(items, key=lambda x: x.weight, reverse=False):\n",
    "    if total_weight-item.weight > 0 :\n",
    "        total_weight -= item.weight  \n",
    "        max_items+=1\n",
    "    else:\n",
    "        break\n",
    "\n",
    "print('max_capacity: ', max_capacity)\n",
    "print('min_capacity: ', min_capacity)\n",
    "print('optimistic_value: ', optimistic_value)\n",
    "print('total_items: ', total_items)\n",
    "print('max_items: ', max_items)\n",
    "## 99798"
   ]
  },
  {
   "cell_type": "code",
   "execution_count": 771,
   "metadata": {},
   "outputs": [
    {
     "name": "stdout",
     "output_type": "stream",
     "text": [
      "Root:  Item(index=6, value=7, weight=3, value_per_weight=2.3333333333333335)\n"
     ]
    },
    {
     "data": {
      "text/plain": [
       "[Node(direction='right', index=-1, branch=0, value=0, weight=10, estimate=20),\n",
       " Node(direction='left', index=-1, branch=0, value=7, weight=7, estimate=21)]"
      ]
     },
     "execution_count": 771,
     "metadata": {},
     "output_type": "execute_result"
    }
   ],
   "source": [
    "max_value = 0\n",
    "unexplored_nodes = []\n",
    "explore_items = sorted(items, key=lambda x: x.value_per_weight, reverse=True)\n",
    "set_root = explore_items.pop(0)\n",
    "\n",
    "\n",
    "\n",
    "left_node = Node('left', index=-1, branch=0, value=0+set_root.value, weight=max_capacity-set_root.weight, estimate=optimistic_value)\n",
    "new_optimistic_value = 0\n",
    "total_weight = max_capacity\n",
    "for item in sorted(explore_items, key=lambda x: x.value_per_weight, reverse=True):\n",
    "    if total_weight-item.weight > 0 :\n",
    "        new_optimistic_value += item.value\n",
    "        total_weight -= item.weight  \n",
    "    else:\n",
    "        new_optimistic_value += total_weight * item.value_per_weight\n",
    "        break\n",
    "new_optimistic_value = int(new_optimistic_value)\n",
    "right_node = Node('right', index=-1, branch=0, value=0, weight=max_capacity, estimate=new_optimistic_value)\n",
    "unexplored_nodes.append(right_node)\n",
    "unexplored_nodes.append(left_node)\n",
    "print('Root: ', set_root)\n",
    "unexplored_nodes"
   ]
  },
  {
   "cell_type": "code",
   "execution_count": 772,
   "metadata": {},
   "outputs": [
    {
     "data": {
      "text/plain": [
       "[Item(index=4, value=10, weight=5, value_per_weight=2.0),\n",
       " Item(index=5, value=10, weight=5, value_per_weight=2.0),\n",
       " Item(index=3, value=13, weight=8, value_per_weight=1.625),\n",
       " Item(index=0, value=1, weight=2, value_per_weight=0.5),\n",
       " Item(index=1, value=1, weight=2, value_per_weight=0.5),\n",
       " Item(index=2, value=1, weight=2, value_per_weight=0.5)]"
      ]
     },
     "execution_count": 772,
     "metadata": {},
     "output_type": "execute_result"
    }
   ],
   "source": [
    "explore_items"
   ]
  },
  {
   "cell_type": "code",
   "execution_count": 773,
   "metadata": {},
   "outputs": [],
   "source": [
    "# left_node, right_node, current_branch = get_children(0, max_capacity, optimistic_value, items, 1)\n",
    "# unexplored_nodes.append(right_node)\n",
    "# unexplored_nodes.append(left_node)\n",
    "# # unexplored_nodes = sorted(unexplored_nodes, key=lambda x: (x.branch, x.estimate))\n",
    "# unexplored_nodes"
   ]
  },
  {
   "cell_type": "code",
   "execution_count": 774,
   "metadata": {},
   "outputs": [
    {
     "name": "stdout",
     "output_type": "stream",
     "text": [
      "Exploring:  Node(direction='left', index=-1, branch=0, value=7, weight=7, estimate=21)\n",
      "To Include or Not:  Item(index=4, value=10, weight=5, value_per_weight=2.0)\n",
      "Max Value:  0\n",
      "Left Child:  Node(direction='left', index=3, branch=1, value=-1, weight=-1, estimate=-1)\n",
      "Right Child:  Node(direction='right', index=3, branch=1, value=7, weight=7, estimate=13)\n",
      "Max Value:  0\n",
      "[Node(direction='right', index=-1, branch=0, value=0, weight=10, estimate=20), Node(direction='right', index=3, branch=1, value=7, weight=7, estimate=13)]\n",
      "---------------------------------------\n"
     ]
    }
   ],
   "source": [
    "\n",
    "explore_node = unexplored_nodes.pop()\n",
    "\n",
    "left_node, right_node, current_branch = get_children(explore_node.value, explore_node.weight, explore_node.estimate, explore_items, explore_node.branch+1)\n",
    "\n",
    "print('Exploring: ', explore_node)\n",
    "print('To Include or Not: ', explore_items[explore_node.branch])\n",
    "print('Max Value: ', max_value)\n",
    "print('Left Child: ', left_node)\n",
    "print('Right Child: ', right_node)\n",
    "\n",
    "if left_node.weight >= min_capacity:\n",
    "     unexplored_nodes.append(left_node)\n",
    "else:     \n",
    "    max_value = left_node.value if left_node.value > max_value else max_value\n",
    "\n",
    "if right_node.value+right_node.estimate > max_value:\n",
    "    unexplored_nodes.append(right_node)   \n",
    "else:     \n",
    "    max_value = right_node.value if right_node.value > max_value else max_value\n",
    "\n",
    "print('Max Value: ', max_value)\n",
    "print(unexplored_nodes)\n",
    "print('---------------------------------------')"
   ]
  },
  {
   "cell_type": "code",
   "execution_count": 22,
   "metadata": {},
   "outputs": [
    {
     "data": {
      "text/plain": [
       "189498"
      ]
     },
     "execution_count": 22,
     "metadata": {},
     "output_type": "execute_result"
    }
   ],
   "source": [
    "99798"
   ]
  },
  {
   "cell_type": "code",
   "execution_count": null,
   "metadata": {},
   "outputs": [],
   "source": []
  },
  {
   "cell_type": "code",
   "execution_count": null,
   "metadata": {},
   "outputs": [],
   "source": [
    "max_value = 0\n",
    "counter=0\n",
    "\n",
    "unexplored_nodes = []\n",
    "explore_items = sorted(items, key=lambda x: x.weight, reverse=True)\n",
    "set_root = explore_items.pop(0)\n",
    "print(set_root, max_capacity, optimistic_value)\n",
    "\n",
    "left_node = Node('left', index=-1, branch=0, value=0+set_root.value, weight=max_capacity-set_root.weight, estimate=optimistic_value)\n",
    "right_node = Node('right', index=-1, branch=0, value=0, weight=max_capacity, estimate=optimistic_value-set_root.value)\n",
    "unexplored_nodes.append(right_node)\n",
    "unexplored_nodes.append(left_node)\n",
    "\n",
    "while True:\n",
    "    \n",
    "    if not unexplored_nodes:\n",
    "        break\n",
    "    else:\n",
    "        counter+=1\n",
    "        \n",
    "    explore_node = unexplored_nodes.pop()\n",
    "\n",
    "    if explore_node.branch+1 > max_items:\n",
    "        continue\n",
    "    \n",
    "    left_node, right_node, current_branch = get_children(explore_node.value, explore_node.weight, explore_node.estimate, explore_items, explore_node.branch+1)\n",
    "    \n",
    "    if (left_node.weight >= min_capacity):\n",
    "         unexplored_nodes.append(left_node)\n",
    "    else:     \n",
    "        max_value = left_node.value if left_node.value > max_value else max_value\n",
    "    \n",
    "    if right_node.value+right_node.estimate > max_value and right_node.weight >= min_capacity :\n",
    "        unexplored_nodes.append(right_node)   \n",
    "    else:     \n",
    "        max_value = right_node.value if right_node.value > max_value else max_value\n",
    "    \n",
    "    \n",
    "\n",
    "max_value, counter"
   ]
  },
  {
   "cell_type": "code",
   "execution_count": null,
   "metadata": {},
   "outputs": [],
   "source": [
    "items"
   ]
  },
  {
   "cell_type": "code",
   "execution_count": null,
   "metadata": {},
   "outputs": [],
   "source": [
    "explore_node = unexplored_nodes.pop()\n",
    "\n",
    "# while True:\n",
    "#     if explore_node.branch+1 > total_items or explore_node.estimate < max_value:\n",
    "#         max_value = explore_node.value if explore_node.value > max_value else max_value\n",
    "#         if explore_node:\n",
    "#             explore_node = unexplored_nodes.pop()\n",
    "#     else:\n",
    "#         break\n",
    "\n",
    "optimistic_value + current_value <= max_value:\n",
    "\n",
    "left_node, right_node, current_branch = get_children(explore_node.value, explore_node.weight, explore_node.estimate, items, explore_node.branch+1)\n",
    "\n",
    "\n",
    "print('Exploring: ', explore_node)\n",
    "print('Max Value: ', max_value)\n",
    "print('Left Child: ', left_node)\n",
    "print('Right Child: ', right_node)\n",
    "\n",
    "\n",
    "if (left_node.weight >= min_capacity and current_branch != total_items) and left_node.value+left_node.estimate >= max_value:\n",
    "    unexplored_nodes.append(left_node)\n",
    "else:     \n",
    "    max_value = left_node.value if left_node.value > max_value else max_value\n",
    "    \n",
    "if (right_node.weight >= min_capacity and current_branch != total_items) and right_node.value+right_node.estimate >= max_value:\n",
    "    unexplored_nodes.append(right_node)   \n",
    "else:     \n",
    "    max_value = right_node.value if right_node.value > max_value else max_value\n",
    "\n",
    "print('Max Value: ', max_value)\n",
    "print(unexplored_nodes)\n",
    "print('---------------------------------------')"
   ]
  },
  {
   "cell_type": "code",
   "execution_count": null,
   "metadata": {},
   "outputs": [],
   "source": [
    "# Exploring:  Node(direction='left', index=3, branch=1, value=13, weight=2, estimate=21)\n",
    "# Max Value:  0\n",
    "# Left Child:  Node(direction='left', index=4, branch=2, value=-1, weight=-3, estimate=-1)\n",
    "# Right Child:  Node(direction='right', index=4, branch=2, value=13, weight=2, estimate=11)\n",
    "# Max Value:  0\n",
    "# [Node(direction='right', index=3, branch=1, value=0, weight=10, estimate=8), Node(direction='right', index=4, branch=2, value=13, weight=2, estimate=11)]\n",
    "# ---------------------------------------"
   ]
  },
  {
   "cell_type": "code",
   "execution_count": null,
   "metadata": {},
   "outputs": [],
   "source": [
    "explore_node = unexplored_nodes.pop()\n",
    "\n",
    "left_node, right_node, current_branch = get_children(explore_node.value, explore_node.weight, explore_node.estimate, items, explore_node.branch+1)\n",
    "print(left_node)\n",
    "print(right_node)\n",
    "\n",
    "\n",
    "if current_branch != total_items:\n",
    "    if left_node.weight >= 0:\n",
    "        unexplored_nodes.append(left_node)\n",
    "        unexplored_nodes.append(right_node)\n",
    "    else:\n",
    "        unexplored_nodes.append(right_node)\n",
    "else:\n",
    "    max_value = left_node.value if left_node.value > max_value else max_value\n",
    "    \n",
    "# unexplored_nodes = sorted(unexplored_nodes, key=lambda x: (x.branch, x.estimate))\n",
    "\n",
    "print(max_value)\n",
    "unexplored_nodes"
   ]
  },
  {
   "cell_type": "code",
   "execution_count": null,
   "metadata": {},
   "outputs": [],
   "source": [
    "[Node(direction='left', index=1, branch=2, value=89750, weight=10249, estimate=9999.0)]"
   ]
  },
  {
   "cell_type": "code",
   "execution_count": null,
   "metadata": {},
   "outputs": [],
   "source": [
    "right_node"
   ]
  },
  {
   "cell_type": "code",
   "execution_count": null,
   "metadata": {},
   "outputs": [],
   "source": [
    "round(2.6666, 2)"
   ]
  },
  {
   "cell_type": "code",
   "execution_count": null,
   "metadata": {},
   "outputs": [],
   "source": [
    "with open('./data/ks_30_0', 'r') as input_data_file:\n",
    "    input_data = input_data_file.read()\n",
    "\n",
    "# parse the input\n",
    "lines = input_data.split('\\n')\n",
    "\n",
    "firstLine = lines[0].split()\n",
    "item_count = int(firstLine[0])\n",
    "capacity = int(firstLine[1])\n",
    "\n",
    "items = []\n",
    "\n",
    "for i in range(1, item_count+1):\n",
    "    line = lines[i]\n",
    "    parts = line.split()\n",
    "    items.append(Item(i-1, int(parts[0]), int(parts[1]),  int(parts[0])/int(parts[1])))\n",
    "\n",
    "\n",
    "total_value = 0\n",
    "total_weight = capacity\n",
    "for item in sorted(items, key=lambda x: x.value_per_weight, reverse=True):\n",
    "    if total_weight-item.weight > 0 :\n",
    "        total_value += item.value\n",
    "        total_weight -= item.weight  \n",
    "    else:\n",
    "        total_value += total_weight * item.value_per_weight\n",
    "        break\n",
    "\n",
    "\n",
    "total_weight = capacity\n",
    "max_items=0\n",
    "for item in sorted(items, key=lambda x: x.weight, reverse=False):\n",
    "    if total_weight-item.weight > 0 :\n",
    "        total_weight -= item.weight  \n",
    "        max_items+=1\n",
    "    else:\n",
    "        break\n",
    "\n",
    "print(max_items, total_value)"
   ]
  },
  {
   "cell_type": "code",
   "execution_count": null,
   "metadata": {},
   "outputs": [],
   "source": [
    "with open('./data/ks_30_0', 'r') as input_data_file:\n",
    "    input_data = input_data_file.read()"
   ]
  },
  {
   "cell_type": "code",
   "execution_count": null,
   "metadata": {},
   "outputs": [],
   "source": [
    "# parse the input\n",
    "lines = input_data.split('\\n')\n",
    "\n",
    "firstLine = lines[0].split()\n",
    "item_count = int(firstLine[0])\n",
    "capacity = int(firstLine[1])\n",
    "\n",
    "items = []\n",
    "\n",
    "for i in range(1, item_count+1):\n",
    "    line = lines[i]\n",
    "    parts = line.split()\n",
    "    items.append(Item(i-1, int(parts[0]), int(parts[1]),  int(parts[0])/int(parts[1])))"
   ]
  },
  {
   "cell_type": "code",
   "execution_count": null,
   "metadata": {},
   "outputs": [],
   "source": [
    "total_value = 0\n",
    "total_weight = capacity\n",
    "for item in sorted(items, key=lambda x: x.value_per_weight, reverse=True):\n",
    "    if total_weight-item.weight > 0 :\n",
    "        total_value += item.value\n",
    "        total_weight -= item.weight  \n",
    "    else:\n",
    "        total_value += total_weight * item.value_per_weight\n",
    "        break"
   ]
  },
  {
   "cell_type": "code",
   "execution_count": null,
   "metadata": {},
   "outputs": [],
   "source": [
    "items = sorted(items, key=lambda x: x.weight, reverse=False)\n",
    "total_value"
   ]
  },
  {
   "cell_type": "code",
   "execution_count": null,
   "metadata": {},
   "outputs": [],
   "source": [
    "total_weight = capacity\n",
    "max_items=0\n",
    "for item in items:\n",
    "    if total_weight-item.weight > 0 :\n",
    "        total_weight -= item.weight  \n",
    "        counter+=1\n",
    "    else:\n",
    "        break\n",
    "\n",
    "counter"
   ]
  },
  {
   "cell_type": "code",
   "execution_count": null,
   "metadata": {},
   "outputs": [],
   "source": [
    "items = sorted(items, key=lambda x: x.value, reverse=True)"
   ]
  },
  {
   "cell_type": "code",
   "execution_count": null,
   "metadata": {},
   "outputs": [],
   "source": [
    "for item in items:\n",
    "    print(capacity"
   ]
  },
  {
   "cell_type": "code",
   "execution_count": null,
   "metadata": {},
   "outputs": [],
   "source": [
    "items"
   ]
  },
  {
   "cell_type": "code",
   "execution_count": null,
   "metadata": {},
   "outputs": [],
   "source": [
    "def optimistic_estimate(items, current_index, current_weight, remaining_capacity):\n",
    "    optimistic_value = 0\n",
    "    while current_index < len(items) and current_weight + items[current_index].weight <= remaining_capacity:\n",
    "        optimistic_value += items[current_index].value\n",
    "        remaining_capacity -= items[current_index].weight\n",
    "        current_index += 1\n",
    "    if current_index < len(items):\n",
    "        optimistic_value += remaining_capacity * items[current_index].value_per_weight\n",
    "    return optimistic_value\n",
    "\n",
    "def knapsack_dfs_bb(items, max_weight, current_index, current_weight, current_value):\n",
    "    if current_weight > max_weight:\n",
    "        return 0\n",
    "    \n",
    "    if current_index >= len(items):\n",
    "        return current_value\n",
    "    \n",
    "    optimistic_value = optimistic_estimate(items, current_index, current_weight, max_weight - current_weight)\n",
    "    if optimistic_value + current_value <= max_value:\n",
    "        return 0\n",
    "    \n",
    "    value_with_item = knapsack_dfs_bb(items, max_weight, current_index + 1,\n",
    "                                       current_weight + items[current_index].weight,\n",
    "                                       current_value + items[current_index].value)\n",
    "    \n",
    "    value_without_item = knapsack_dfs_bb(items, max_weight, current_index + 1,\n",
    "                                          current_weight, current_value)\n",
    "    \n",
    "    return max(value_with_item, value_without_item)"
   ]
  },
  {
   "cell_type": "code",
   "execution_count": null,
   "metadata": {},
   "outputs": [],
   "source": [
    "knapsack_dfs_bb(items, capacity, 0, 0, 0)"
   ]
  },
  {
   "cell_type": "code",
   "execution_count": null,
   "metadata": {},
   "outputs": [],
   "source": []
  }
 ],
 "metadata": {
  "kernelspec": {
   "display_name": "Python 3 (ipykernel)",
   "language": "python",
   "name": "python3"
  },
  "language_info": {
   "codemirror_mode": {
    "name": "ipython",
    "version": 3
   },
   "file_extension": ".py",
   "mimetype": "text/x-python",
   "name": "python",
   "nbconvert_exporter": "python",
   "pygments_lexer": "ipython3",
   "version": "3.10.11"
  }
 },
 "nbformat": 4,
 "nbformat_minor": 4
}
