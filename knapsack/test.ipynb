{
 "cells": [
  {
   "cell_type": "code",
   "execution_count": 23,
   "metadata": {
    "pycharm": {
     "name": "#%%\n"
    }
   },
   "outputs": [],
   "source": [
    "import statistics\n",
    "import queue\n",
    "from collections import namedtuple"
   ]
  },
  {
   "cell_type": "code",
   "execution_count": 24,
   "metadata": {
    "pycharm": {
     "name": "#%%\n"
    }
   },
   "outputs": [],
   "source": [
    "Item = namedtuple(\"Item\", ['index', 'value', 'weight', 'value_per_weight'])\n",
    "items = [Item(index=0, value=1, weight=2, value_per_weight=0.5), Item(index=1, value=1, weight=2, value_per_weight=0.5), Item(index=2, value=1, weight=2, value_per_weight=0.5), Item(index=3, value=13, weight=7, value_per_weight=1.8571428571428572), Item(index=4, value=10, weight=5, value_per_weight=2.0), Item(index=5, value=10, weight=5, value_per_weight=2.0), Item(index=6, value=8, weight=3, value_per_weight=2.6666666666666665)]"
   ]
  },
  {
   "cell_type": "code",
   "execution_count": 25,
   "metadata": {
    "pycharm": {
     "name": "#%%\n"
    }
   },
   "outputs": [],
   "source": [
    "# Item = namedtuple(\"Item\", ['index', 'value', 'weight'])\n",
    "# items = [Item(index=0, value=45, weight=5), Item(index=1, value=48, weight=8), Item(index=2, value=35, weight=3)]"
   ]
  },
  {
   "cell_type": "code",
   "execution_count": 26,
   "metadata": {
    "pycharm": {
     "name": "#%%\n"
    }
   },
   "outputs": [],
   "source": [
    "Node = namedtuple(\"Node\", ['direction', 'index', 'branch', 'value', 'weight', 'estimate', 'excluded_paths'])"
   ]
  },
  {
   "cell_type": "code",
   "execution_count": 27,
   "metadata": {
    "pycharm": {
     "name": "#%%\n"
    }
   },
   "outputs": [],
   "source": [
    "def get_children(node_value, capacity, node_estimate, items, branch, paths):\n",
    "        \n",
    "    optimistic_value = 0\n",
    "    total_weight =  MAX_CAPACITY\n",
    "    filtered_items = [item for item in items if item.index not in paths]\n",
    "    \n",
    "    for item in sorted(filtered_items, key=lambda x: x.value_per_weight, reverse=True):\n",
    "        if total_weight-item.weight > 0 :\n",
    "            optimistic_value += item.value\n",
    "            total_weight -= item.weight  \n",
    "        else:\n",
    "            optimistic_value += total_weight * item.value_per_weight\n",
    "            break\n",
    "            \n",
    "    optimistic_value = int(optimistic_value)\n",
    "\n",
    "    item = items[branch]\n",
    "    \n",
    "    if capacity-item.weight >= 0 :\n",
    "        left_node = Node('left', item.index, branch+1, node_value+item.value, capacity-item.weight, node_estimate, paths)\n",
    "        right_node = Node('right', item.index, branch+1, node_value, capacity, optimistic_value, paths+[item.index]) #node_estimate-item.value) \n",
    "    else:\n",
    "        left_node = Node('left', item.index, branch+1, -1, capacity-item.weight, -1, paths)\n",
    "        right_node = Node('right', item.index, branch+1, node_value, capacity, optimistic_value, paths+[item.index]) #node_estimate-item.value)\n",
    "\n",
    "    return left_node, right_node"
   ]
  },
  {
   "cell_type": "code",
   "execution_count": null,
   "metadata": {},
   "outputs": [],
   "source": []
  },
  {
   "cell_type": "markdown",
   "metadata": {
    "pycharm": {
     "name": "#%% md\n"
    }
   },
   "source": [
    "<!-- ## Depth First Search -->"
   ]
  },
  {
   "cell_type": "code",
   "execution_count": 52,
   "metadata": {
    "pycharm": {
     "name": "#%%\n"
    }
   },
   "outputs": [
    {
     "name": "stdout",
     "output_type": "stream",
     "text": [
      "max_capacity:  100000\n",
      "min_capacity:  10002\n",
      "optimistic_value:  99998\n",
      "pessimistic_value:  99915\n",
      "total_items:  30\n",
      "max_items:  9\n"
     ]
    }
   ],
   "source": [
    "with open('./data/ks_30_0', 'r') as input_data_file:\n",
    "    input_data = input_data_file.read()\n",
    "\n",
    "# parse the input\n",
    "lines = input_data.split('\\n')\n",
    "\n",
    "firstLine = lines[0].split()\n",
    "total_items = int(firstLine[0])\n",
    "MAX_CAPACITY = int(firstLine[1])\n",
    "\n",
    "items = []\n",
    "\n",
    "for i in range(1, total_items+1):\n",
    "    line = lines[i]\n",
    "    parts = line.split()\n",
    "    items.append(Item(i-1, int(parts[0]), int(parts[1]),  int(parts[0])/int(parts[1])))\n",
    "\n",
    "min_capacity = min([item.weight for item in items])\n",
    "total_items = len(items)\n",
    "\n",
    "optimistic_value = 0\n",
    "total_weight = MAX_CAPACITY\n",
    "for item in sorted(items, key=lambda x: x.value_per_weight, reverse=True):\n",
    "    if total_weight-item.weight > 0 :\n",
    "        optimistic_value += item.value\n",
    "        total_weight -= item.weight  \n",
    "    else:\n",
    "        optimistic_value += total_weight * item.value_per_weight\n",
    "        break\n",
    "\n",
    "optimistic_value = int(optimistic_value)\n",
    "\n",
    "pessimistic_value = 0\n",
    "total_weight = MAX_CAPACITY\n",
    "for item in sorted(items, key=lambda x: x.value_per_weight, reverse=False):\n",
    "    if total_weight-item.weight > 0 :\n",
    "        pessimistic_value += item.value\n",
    "        total_weight -= item.weight  \n",
    "    else:\n",
    "        pessimistic_value += total_weight * item.value_per_weight\n",
    "        break\n",
    "        \n",
    "pessimistic_value = int(pessimistic_value)     \n",
    "# min_capacity = MAX_CAPACITY - total_weight + int(total_weight/item.value_per_weight)\n",
    "\n",
    "total_weight = MAX_CAPACITY\n",
    "max_items=0\n",
    "for item in sorted(items, key=lambda x: x.weight, reverse=False):\n",
    "    if total_weight-item.weight > 0 :\n",
    "        total_weight -= item.weight  \n",
    "        max_items+=1\n",
    "    else:\n",
    "        break\n",
    "\n",
    "print('max_capacity: ', MAX_CAPACITY)\n",
    "print('min_capacity: ', min_capacity)\n",
    "print('optimistic_value: ', optimistic_value)\n",
    "print('pessimistic_value: ', pessimistic_value)\n",
    "print('total_items: ', total_items)\n",
    "print('max_items: ', max_items)\n",
    "## 99798\n",
    "## 100236"
   ]
  },
  {
   "cell_type": "code",
   "execution_count": 53,
   "metadata": {},
   "outputs": [
    {
     "data": {
      "text/plain": [
       "(86376.0, 52432.53333333333)"
      ]
     },
     "execution_count": 53,
     "metadata": {},
     "output_type": "execute_result"
    }
   ],
   "source": [
    "statistics.median([item.weight for item in items]), statistics.mean([item.weight for item in items])"
   ]
  },
  {
   "cell_type": "code",
   "execution_count": 54,
   "metadata": {},
   "outputs": [],
   "source": [
    "pessimistic_value = 0\n",
    "total_weight = MAX_CAPACITY\n",
    "for item in sorted(items, key=lambda x: x.value_per_weight, reverse=False):\n",
    "    if total_weight-item.weight > 0 :\n",
    "        pessimistic_value += item.value\n",
    "        total_weight -= item.weight  \n",
    "    else:\n",
    "        pessimistic_value += total_weight * item.value_per_weight\n",
    "        break\n",
    "        \n",
    "pessimistic_value = int(pessimistic_value)     \n",
    "# min_capacity = MAX_CAPACITY - total_weight + int(total_weight/item.value_per_weight)"
   ]
  },
  {
   "cell_type": "code",
   "execution_count": 55,
   "metadata": {},
   "outputs": [],
   "source": [
    "items = sorted(items, key=lambda x: x.weight, reverse=True)\n",
    "new_list = []\n",
    "for i in range(10):\n",
    "    new_list+=items[i::10]\n",
    "\n",
    "items = new_list"
   ]
  },
  {
   "cell_type": "code",
   "execution_count": 56,
   "metadata": {
    "pycharm": {
     "name": "#%%\n"
    }
   },
   "outputs": [
    {
     "data": {
      "text/plain": [
       "<queue.PriorityQueue at 0x1f81523af20>"
      ]
     },
     "execution_count": 56,
     "metadata": {},
     "output_type": "execute_result"
    }
   ],
   "source": [
    "max_value = 0\n",
    "unexplored_nodes = []\n",
    "optimal_path = []\n",
    "optimal_node = None\n",
    "\n",
    "unexplored_nodes = queue.PriorityQueue()\n",
    "\n",
    "left_node, right_node = get_children(0, MAX_CAPACITY, optimistic_value, items, 0, [])\n",
    "\n",
    "# unexplored_nodes.append(right_node)\n",
    "# unexplored_nodes.append(left_node)\n",
    "\n",
    "unexplored_nodes.put((-right_node.estimate, right_node))\n",
    "unexplored_nodes.put((-left_node.estimate, left_node))\n",
    "\n",
    "# # unexplored_nodes = sorted(unexplored_nodes, key=lambda x: (x.branch, x.estimate))\n",
    "unexplored_nodes"
   ]
  },
  {
   "cell_type": "code",
   "execution_count": 32,
   "metadata": {
    "pycharm": {
     "name": "#%%\n"
    }
   },
   "outputs": [],
   "source": [
    "loop_counter = 0\n",
    "\n",
    "while not unexplored_nodes.empty(): #len(unexplored_nodes) > 0:\n",
    "    \n",
    "    # explore_node = unexplored_nodes.pop()\n",
    "    _, explore_node = unexplored_nodes.get()\n",
    "\n",
    "    # if explore_node.branch == len(items):\n",
    "    #     continue\n",
    "    \n",
    "    left_node, right_node = get_children(explore_node.value, explore_node.weight, explore_node.estimate, items, explore_node.branch, explore_node.excluded_paths)\n",
    "\n",
    "    loop_counter += 1\n",
    "    \n",
    "    # print('Exploring: ', explore_node)\n",
    "    # print('Max Value: ', max_value)\n",
    "    # print('Left Child: ', left_node)\n",
    "    # print('Right Child: ', right_node)\n",
    "    \n",
    "    if right_node.estimate > max_value and right_node.branch != total_items:\n",
    "        # unexplored_nodes.append(right_node)   \n",
    "        unexplored_nodes.put((-right_node.estimate, right_node))\n",
    "    else:     \n",
    "        if right_node.value > max_value:\n",
    "            max_value = right_node.value\n",
    "            optimal_node = right_node\n",
    "            \n",
    "                    \n",
    "            # unexplored_nodes = [node for node in unexplored_nodes if node.estimate > max_value]\n",
    "            # unexplored_nodes = sorted(unexplored_nodes, key=lambda x: x.estimate, reverse=False)\n",
    "\n",
    "    # if left_node.branch == len(items):\n",
    "    #     should_expand = False\n",
    "    # else:\n",
    "    #     should_expand = left_node.weight+items[left_node.branch].weight >= pessimistic_value or left_node.estimate >= pessimistic_value\n",
    "\n",
    "    if left_node.weight >= min_capacity and right_node.branch != total_items:\n",
    "         # unexplored_nodes.append(left_node)\n",
    "        unexplored_nodes.put((-left_node.estimate, left_node))\n",
    "    else:     \n",
    "        if left_node.value > max_value:\n",
    "            max_value = left_node.value\n",
    "            optimal_node = left_node\n",
    "    \n",
    "    # unexplored_nodes = [node for node in unexplored_nodes if node.estimate > max_value]\n",
    "    # unexplored_nodes = sorted(unexplored_nodes, key=lambda x: x.estimate, reverse=False)\n",
    "    \n",
    "    \n",
    "            \n",
    "    # print('Max Value: ', max_value)\n",
    "    # print(unexplored_nodes)\n",
    "    # print('---------------------------------------')"
   ]
  },
  {
   "cell_type": "code",
   "execution_count": 33,
   "metadata": {},
   "outputs": [],
   "source": [
    "optimal_path = [1]*len(items)\n",
    "ignore_item = False\n",
    "for item in items:\n",
    "    if item.index in optimal_node.excluded_paths or ignore_item:\n",
    "       optimal_path[item.index] = 0\n",
    "\n",
    "    elif item.index == optimal_node.index:\n",
    "        ignore_item = True"
   ]
  },
  {
   "cell_type": "code",
   "execution_count": 34,
   "metadata": {
    "pycharm": {
     "name": "#%%\n"
    }
   },
   "outputs": [
    {
     "data": {
      "text/plain": [
       "(99798, 6651)"
      ]
     },
     "execution_count": 34,
     "metadata": {},
     "output_type": "execute_result"
    }
   ],
   "source": [
    "max_value, loop_counter"
   ]
  },
  {
   "cell_type": "code",
   "execution_count": 14,
   "metadata": {},
   "outputs": [
    {
     "data": {
      "text/plain": [
       "(6771, 6655, 283)"
      ]
     },
     "execution_count": 14,
     "metadata": {},
     "output_type": "execute_result"
    }
   ],
   "source": [
    "6771, 6655, 283"
   ]
  },
  {
   "cell_type": "code",
   "execution_count": null,
   "metadata": {},
   "outputs": [],
   "source": [
    "46957\n",
    "67082"
   ]
  },
  {
   "cell_type": "code",
   "execution_count": null,
   "metadata": {},
   "outputs": [],
   "source": [
    "loop_counter = 0\n",
    "\n",
    "while len(unexplored_nodes) > 0:\n",
    "    \n",
    "    loop_counter += 1\n",
    "        \n",
    "    explore_node = unexplored_nodes.pop()\n",
    "\n",
    "    if explore_node.branch == len(items):\n",
    "        continue\n",
    "    \n",
    "    left_node, right_node = get_children(explore_node.value, explore_node.weight, explore_node.estimate, items, explore_node.branch, explore_node.excluded_paths)\n",
    "    \n",
    "    # print('Exploring: ', explore_node)\n",
    "    # print('Max Value: ', max_value)\n",
    "    # print('Left Child: ', left_node)\n",
    "    # print('Right Child: ', right_node)\n",
    "    \n",
    "    if right_node.estimate > max_value:\n",
    "        unexplored_nodes.append(right_node)   \n",
    "    else:     \n",
    "        if right_node.value > max_value:\n",
    "            max_value = right_node.value\n",
    "            optimal_node = right_node\n",
    "            \n",
    "                    \n",
    "            # unexplored_nodes = [node for node in unexplored_nodes if node.estimate > max_value]\n",
    "    \n",
    "\n",
    "    if left_node.weight >= min_capacity and left_node.estimate >= max_value:\n",
    "         unexplored_nodes.append(left_node)\n",
    "    else:     \n",
    "        if left_node.value > max_value:\n",
    "            max_value = left_node.value\n",
    "            optimal_node = left_node\n",
    "    \n",
    "            # unexplored_nodes = [node for node in unexplored_nodes if node.estimate > max_value]\n",
    "            # unexplored_nodes = sorted(unexplored_nodes, key=lambda x: x.estimate, reverse=False)\n",
    "    \n",
    "    # unexplored_nodes = sorted(unexplored_nodes, key=lambda x: x.branch, reverse=True)\n",
    "            \n",
    "    # print('Max Value: ', max_value)\n",
    "    # print(unexplored_nodes)\n",
    "    # print('---------------------------------------')"
   ]
  },
  {
   "cell_type": "code",
   "execution_count": null,
   "metadata": {},
   "outputs": [],
   "source": [
    "optimal_path = [1]*len(items)\n",
    "ignore_item = False\n",
    "for item in items:\n",
    "    if item.index in optimal_node.excluded_paths or ignore_item:\n",
    "       optimal_path[item.index] = 0\n",
    "\n",
    "    elif item.index == optimal_node.index:\n",
    "        ignore_item = True"
   ]
  },
  {
   "cell_type": "code",
   "execution_count": null,
   "metadata": {},
   "outputs": [],
   "source": [
    "optimal_node"
   ]
  },
  {
   "cell_type": "code",
   "execution_count": null,
   "metadata": {},
   "outputs": [],
   "source": [
    "max_value, loop_counter"
   ]
  },
  {
   "cell_type": "code",
   "execution_count": null,
   "metadata": {},
   "outputs": [],
   "source": []
  },
  {
   "cell_type": "code",
   "execution_count": null,
   "metadata": {},
   "outputs": [],
   "source": []
  },
  {
   "cell_type": "code",
   "execution_count": 39,
   "metadata": {},
   "outputs": [
    {
     "name": "stdout",
     "output_type": "stream",
     "text": [
      "Decile 1: [Item(index=2, value=10001, weight=10002, value_per_weight=0.9999000199960008), Item(index=4, value=10252, weight=10254, value_per_weight=0.9998049541642285), Item(index=6, value=10503, weight=10506, value_per_weight=0.9997144488863506)]\n",
      "Decile 2: [Item(index=8, value=10754, weight=10758, value_per_weight=0.9996281836772635), Item(index=10, value=11005, weight=11010, value_per_weight=0.9995458673932789), Item(index=12, value=11256, weight=11262, value_per_weight=0.9994672349493873)]\n",
      "Decile 3: [Item(index=14, value=11507, weight=11514, value_per_weight=0.9993920444676047), Item(index=16, value=11758, weight=11766, value_per_weight=0.9993200747917729), Item(index=18, value=12009, weight=12018, value_per_weight=0.9992511233150274)]\n",
      "Decile 4: [Item(index=20, value=12260, weight=12270, value_per_weight=0.9991850040749797), Item(index=22, value=12511, weight=12522, value_per_weight=0.9991215460789011), Item(index=24, value=12762, weight=12774, value_per_weight=0.9990605918271489)]\n",
      "Decile 5: [Item(index=26, value=13013, weight=13026, value_per_weight=0.999001996007984), Item(index=28, value=13264, weight=13278, value_per_weight=0.9989456243410152), Item(index=29, value=86250, weight=86251, value_per_weight=0.9999884059315254)]\n",
      "Decile 6: [Item(index=27, value=86500, weight=86501, value_per_weight=0.9999884394400065), Item(index=25, value=86750, weight=86751, value_per_weight=0.9999884727553573), Item(index=23, value=87000, weight=87001, value_per_weight=0.9999885058792428)]\n",
      "Decile 7: [Item(index=21, value=87250, weight=87251, value_per_weight=0.9999885388133087), Item(index=19, value=87500, weight=87501, value_per_weight=0.9999885715591822), Item(index=17, value=87750, weight=87751, value_per_weight=0.9999886041184716)]\n",
      "Decile 8: [Item(index=15, value=88000, weight=88001, value_per_weight=0.9999886364927671), Item(index=13, value=88250, weight=88251, value_per_weight=0.999988668683641), Item(index=11, value=88500, weight=88501, value_per_weight=0.9999887006926476)]\n",
      "Decile 9: [Item(index=9, value=88750, weight=88751, value_per_weight=0.9999887325213237), Item(index=7, value=89000, weight=89001, value_per_weight=0.9999887641711891), Item(index=5, value=89250, weight=89251, value_per_weight=0.9999887956437463)]\n",
      "Decile 10: [Item(index=3, value=89500, weight=89501, value_per_weight=0.9999888269404811), Item(index=1, value=89750, weight=89751, value_per_weight=0.9999888580628629), Item(index=0, value=90000, weight=90001, value_per_weight=0.9999888890123443)]\n"
     ]
    }
   ],
   "source": [
    "def create_deciles(data):\n",
    "    # Sort the data based on the numerical value in each tuple\n",
    "    sorted_data = sorted(data, key=lambda x: x.weight)\n",
    "\n",
    "    # Calculate the number of tuples in each decile\n",
    "    num_tuples = len(sorted_data)\n",
    "    tuples_per_decile = num_tuples // 10\n",
    "\n",
    "    # Create deciles\n",
    "    deciles = [sorted_data[i * tuples_per_decile: (i + 1) * tuples_per_decile] for i in range(10)]\n",
    "\n",
    "    return deciles\n",
    "\n",
    "# Example list of tuples (unique identifier, numerical value)\n",
    "data = [(\"A\", 15), (\"B\", 8), (\"C\", 22), (\"D\", 5), (\"E\", 12), (\"F\", 30), (\"G\", 18), (\"H\", 25), (\"I\", 10), (\"J\", 27)]\n",
    "deciles = create_deciles(items)\n",
    "\n",
    "# Print the deciles\n",
    "for i, decile in enumerate(deciles):\n",
    "    print(f\"Decile {i + 1}: {decile}\")"
   ]
  },
  {
   "cell_type": "code",
   "execution_count": 42,
   "metadata": {},
   "outputs": [
    {
     "name": "stdout",
     "output_type": "stream",
     "text": [
      "List 1: [Item(index=0, value=90000, weight=90001, value_per_weight=0.9999888890123443), Item(index=10, value=11005, weight=11010, value_per_weight=0.9995458673932789), Item(index=20, value=12260, weight=12270, value_per_weight=0.9991850040749797)]\n",
      "List 2: [Item(index=1, value=89750, weight=89751, value_per_weight=0.9999888580628629), Item(index=11, value=88500, weight=88501, value_per_weight=0.9999887006926476), Item(index=21, value=87250, weight=87251, value_per_weight=0.9999885388133087)]\n",
      "List 3: [Item(index=2, value=10001, weight=10002, value_per_weight=0.9999000199960008), Item(index=12, value=11256, weight=11262, value_per_weight=0.9994672349493873), Item(index=22, value=12511, weight=12522, value_per_weight=0.9991215460789011)]\n",
      "List 4: [Item(index=3, value=89500, weight=89501, value_per_weight=0.9999888269404811), Item(index=13, value=88250, weight=88251, value_per_weight=0.999988668683641), Item(index=23, value=87000, weight=87001, value_per_weight=0.9999885058792428)]\n",
      "List 5: [Item(index=4, value=10252, weight=10254, value_per_weight=0.9998049541642285), Item(index=14, value=11507, weight=11514, value_per_weight=0.9993920444676047), Item(index=24, value=12762, weight=12774, value_per_weight=0.9990605918271489)]\n",
      "List 6: [Item(index=5, value=89250, weight=89251, value_per_weight=0.9999887956437463), Item(index=15, value=88000, weight=88001, value_per_weight=0.9999886364927671), Item(index=25, value=86750, weight=86751, value_per_weight=0.9999884727553573)]\n",
      "List 7: [Item(index=6, value=10503, weight=10506, value_per_weight=0.9997144488863506), Item(index=16, value=11758, weight=11766, value_per_weight=0.9993200747917729), Item(index=26, value=13013, weight=13026, value_per_weight=0.999001996007984)]\n",
      "List 8: [Item(index=7, value=89000, weight=89001, value_per_weight=0.9999887641711891), Item(index=17, value=87750, weight=87751, value_per_weight=0.9999886041184716), Item(index=27, value=86500, weight=86501, value_per_weight=0.9999884394400065)]\n",
      "List 9: [Item(index=8, value=10754, weight=10758, value_per_weight=0.9996281836772635), Item(index=18, value=12009, weight=12018, value_per_weight=0.9992511233150274), Item(index=28, value=13264, weight=13278, value_per_weight=0.9989456243410152)]\n",
      "List 10: [Item(index=9, value=88750, weight=88751, value_per_weight=0.9999887325213237), Item(index=19, value=87500, weight=87501, value_per_weight=0.9999885715591822), Item(index=29, value=86250, weight=86251, value_per_weight=0.9999884059315254)]\n"
     ]
    }
   ],
   "source": [
    "num_lists = 10\n",
    "equal_distribution = [items[i::num_lists] for i in range(num_lists)]\n",
    "\n",
    "for i, sublist in enumerate(equal_distribution):\n",
    "    print(f\"List {i + 1}: {sublist}\")"
   ]
  },
  {
   "cell_type": "code",
   "execution_count": 47,
   "metadata": {},
   "outputs": [
    {
     "data": {
      "text/plain": [
       "[10]"
      ]
     },
     "execution_count": 47,
     "metadata": {},
     "output_type": "execute_result"
    }
   ],
   "source": [
    "for i in range(num_lists)\n",
    "    items[i::num_lists] "
   ]
  }
 ],
 "metadata": {
  "kernelspec": {
   "display_name": "Python 3 (ipykernel)",
   "language": "python",
   "name": "python3"
  },
  "language_info": {
   "codemirror_mode": {
    "name": "ipython",
    "version": 3
   },
   "file_extension": ".py",
   "mimetype": "text/x-python",
   "name": "python",
   "nbconvert_exporter": "python",
   "pygments_lexer": "ipython3",
   "version": "3.10.11"
  }
 },
 "nbformat": 4,
 "nbformat_minor": 4
}
