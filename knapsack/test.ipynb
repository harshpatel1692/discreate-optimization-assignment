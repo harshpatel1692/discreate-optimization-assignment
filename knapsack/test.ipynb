{
 "cells": [
  {
   "cell_type": "code",
   "execution_count": 12,
   "metadata": {
    "pycharm": {
     "name": "#%%\n"
    }
   },
   "outputs": [],
   "source": [
    "import statistics\n",
    "import queue\n",
    "from collections import namedtuple"
   ]
  },
  {
   "cell_type": "code",
   "execution_count": 13,
   "metadata": {
    "pycharm": {
     "name": "#%%\n"
    }
   },
   "outputs": [],
   "source": [
    "Item = namedtuple(\"Item\", ['index', 'value', 'weight', 'value_per_weight'])\n",
    "Node = namedtuple(\"Node\", ['direction', 'index', 'value', 'weight', 'estimate', 'excluded_paths'])"
   ]
  },
  {
   "cell_type": "code",
   "execution_count": 14,
   "metadata": {
    "pycharm": {
     "name": "#%%\n"
    }
   },
   "outputs": [],
   "source": [
    "def get_children(node_value, capacity, node_estimate, item, items, paths):\n",
    "        \n",
    "    optimistic_value = 0\n",
    "    total_weight =  MAX_CAPACITY\n",
    "\n",
    "    filtered_items = [ele for ele in items if ele.index not in paths+[item.index]]\n",
    "    \n",
    "    for ele in sorted(filtered_items, key=lambda x: x.value_per_weight, reverse=True):\n",
    "        if total_weight-ele.weight > 0 :\n",
    "            optimistic_value += ele.value\n",
    "            total_weight -= ele.weight  \n",
    "        else:\n",
    "            optimistic_value += total_weight * ele.value_per_weight\n",
    "            break\n",
    "            \n",
    "    optimistic_value = int(optimistic_value)\n",
    "    \n",
    "    if capacity-item.weight >= 0 :\n",
    "        left_node = Node('left', item.index, node_value+item.value, capacity-item.weight, node_estimate, paths)\n",
    "        right_node = Node('right', item.index, node_value, capacity, optimistic_value, paths+[item.index]) #node_estimate-item.value) \n",
    "    else:\n",
    "        left_node = Node('left', item.index, -1, capacity-item.weight, -1, paths)\n",
    "        right_node = Node('right', item.index, node_value, capacity, optimistic_value, paths+[item.index]) #node_estimate-item.value)\n",
    "\n",
    "    return left_node, right_node"
   ]
  },
  {
   "cell_type": "code",
   "execution_count": null,
   "metadata": {},
   "outputs": [],
   "source": []
  },
  {
   "cell_type": "markdown",
   "metadata": {
    "pycharm": {
     "name": "#%% md\n"
    }
   },
   "source": [
    "<!-- ## Depth First Search -->"
   ]
  },
  {
   "cell_type": "code",
   "execution_count": 15,
   "metadata": {
    "pycharm": {
     "name": "#%%\n"
    }
   },
   "outputs": [
    {
     "name": "stdout",
     "output_type": "stream",
     "text": [
      "max_capacity:  11\n",
      "min_capacity:  3\n",
      "optimistic_value:  21\n",
      "pessimistic_value:  19\n",
      "total_items:  4\n",
      "max_items:  2\n"
     ]
    }
   ],
   "source": [
    "with open('./data/ks_4_0', 'r') as input_data_file:\n",
    "    input_data = input_data_file.read()\n",
    "\n",
    "# parse the input\n",
    "lines = input_data.split('\\n')\n",
    "\n",
    "firstLine = lines[0].split()\n",
    "total_items = int(firstLine[0])\n",
    "MAX_CAPACITY = int(firstLine[1])\n",
    "\n",
    "items = []\n",
    "\n",
    "for i in range(1, total_items+1):\n",
    "    line = lines[i]\n",
    "    parts = line.split()\n",
    "    items.append(Item(i-1, int(parts[0]), int(parts[1]),  int(parts[0])/int(parts[1])))\n",
    "\n",
    "min_capacity = min([item.weight for item in items])\n",
    "total_items = len(items)\n",
    "\n",
    "optimistic_value = 0\n",
    "total_weight = MAX_CAPACITY\n",
    "for item in sorted(items, key=lambda x: x.value_per_weight, reverse=True):\n",
    "    if total_weight-item.weight > 0 :\n",
    "        optimistic_value += item.value\n",
    "        total_weight -= item.weight  \n",
    "    else:\n",
    "        optimistic_value += total_weight * item.value_per_weight\n",
    "        break\n",
    "\n",
    "optimistic_value = int(optimistic_value)\n",
    "\n",
    "pessimistic_value = 0\n",
    "total_weight = MAX_CAPACITY\n",
    "for item in sorted(items, key=lambda x: x.value_per_weight, reverse=False):\n",
    "    if total_weight-item.weight > 0 :\n",
    "        pessimistic_value += item.value\n",
    "        total_weight -= item.weight  \n",
    "    else:\n",
    "        pessimistic_value += total_weight * item.value_per_weight\n",
    "        break\n",
    "        \n",
    "pessimistic_value = int(pessimistic_value)     \n",
    "# min_capacity = MAX_CAPACITY - total_weight + int(total_weight/item.value_per_weight)\n",
    "\n",
    "total_weight = MAX_CAPACITY\n",
    "max_items=0\n",
    "for item in sorted(items, key=lambda x: x.weight, reverse=False):\n",
    "    if total_weight-item.weight > 0 :\n",
    "        total_weight -= item.weight  \n",
    "        max_items+=1\n",
    "    else:\n",
    "        break\n",
    "\n",
    "print('max_capacity: ', MAX_CAPACITY)\n",
    "print('min_capacity: ', min_capacity)\n",
    "print('optimistic_value: ', optimistic_value)\n",
    "print('pessimistic_value: ', pessimistic_value)\n",
    "print('total_items: ', total_items)\n",
    "print('max_items: ', max_items)\n",
    "## 99798\n",
    "## 100236"
   ]
  },
  {
   "cell_type": "code",
   "execution_count": 16,
   "metadata": {},
   "outputs": [
    {
     "data": {
      "text/plain": [
       "[Item(index=3, value=4, weight=3, value_per_weight=1.3333333333333333),\n",
       " Item(index=0, value=8, weight=4, value_per_weight=2.0),\n",
       " Item(index=1, value=10, weight=5, value_per_weight=2.0),\n",
       " Item(index=2, value=15, weight=8, value_per_weight=1.875)]"
      ]
     },
     "execution_count": 16,
     "metadata": {},
     "output_type": "execute_result"
    }
   ],
   "source": [
    "items = sorted(items, key=lambda x: x.weight, reverse=False)\n",
    "items"
   ]
  },
  {
   "cell_type": "code",
   "execution_count": 17,
   "metadata": {
    "pycharm": {
     "name": "#%%\n"
    }
   },
   "outputs": [
    {
     "data": {
      "text/plain": [
       "[Node(direction='right', index=3, value=0, weight=11, estimate=21, excluded_paths=[3]),\n",
       " Node(direction='left', index=3, value=4, weight=8, estimate=21, excluded_paths=[])]"
      ]
     },
     "execution_count": 17,
     "metadata": {},
     "output_type": "execute_result"
    }
   ],
   "source": [
    "max_value = 0\n",
    "unexplored_nodes = []\n",
    "optimal_path = []\n",
    "optimal_node = None\n",
    "loop_counter = 0\n",
    "\n",
    "# unexplored_nodes = queue.PriorityQueue()\n",
    "\n",
    "left_node, right_node = get_children(0, MAX_CAPACITY, optimistic_value, items[0], items, [])\n",
    "\n",
    "unexplored_nodes.append(right_node)\n",
    "unexplored_nodes.append(left_node)\n",
    "\n",
    "# unexplored_nodes.put((-right_node.estimate, right_node))\n",
    "# unexplored_nodes.put((-left_node.estimate, left_node))\n",
    "\n",
    "# # unexplored_nodes = sorted(unexplored_nodes, key=lambda x: (x.branch, x.estimate))\n",
    "unexplored_nodes"
   ]
  },
  {
   "cell_type": "code",
   "execution_count": 20,
   "metadata": {},
   "outputs": [
    {
     "name": "stdout",
     "output_type": "stream",
     "text": [
      "Exploring:  Node(direction='left', index=0, value=12, weight=4, estimate=21, excluded_paths=[])\n",
      "Max Value:  0\n",
      "Left Child:  Node(direction='left', index=3, value=16, weight=1, estimate=21, excluded_paths=[])\n",
      "Right Child:  Node(direction='right', index=3, value=12, weight=4, estimate=21, excluded_paths=[3])\n",
      "Max Value:  16\n",
      "[Node(direction='right', index=3, value=0, weight=11, estimate=21, excluded_paths=[3]), Node(direction='right', index=0, value=4, weight=8, estimate=21, excluded_paths=[0]), Node(direction='right', index=3, value=12, weight=4, estimate=21, excluded_paths=[3])]\n",
      "---------------------------------------\n"
     ]
    },
    {
     "data": {
      "text/plain": [
       "[Item(index=3, value=4, weight=3, value_per_weight=1.3333333333333333)]"
      ]
     },
     "execution_count": 20,
     "metadata": {},
     "output_type": "execute_result"
    }
   ],
   "source": [
    "explore_node = unexplored_nodes.pop()\n",
    "    # _, explore_node = unexplored_nodes.get()\n",
    "\n",
    "accessible_items = [item for item in items if item.weight <= explore_node.weight and item.index not in explore_node.excluded_paths and item.index != explore_node.index]\n",
    "## The above statement excludes node for left exploration as well\n",
    "# accessible_items = []\n",
    "# for item in items:\n",
    "#     if item.weight <= explore_node.weight:\n",
    "#         if explore_node.direction == 'left':\n",
    "#             accessible_items.append(item)\n",
    "#         elif item.index not in explore_node.excluded_paths:\n",
    "#             accessible_items.append(item)\n",
    "\n",
    "if not accessible_items:\n",
    "    if explore_node.value > max_value:\n",
    "        max_value = explore_node.value\n",
    "        optimal_node = explore_node\n",
    "    # continue\n",
    "\n",
    "if accessible_items:\n",
    "    next_best_item = accessible_items[0]\n",
    "    \n",
    "    left_node, right_node = get_children(explore_node.value, explore_node.weight, explore_node.estimate, next_best_item, items, explore_node.excluded_paths)\n",
    "    \n",
    "    loop_counter += 1\n",
    "    \n",
    "    print('Exploring: ', explore_node)\n",
    "    print('Max Value: ', max_value)\n",
    "    print('Left Child: ', left_node)\n",
    "    print('Right Child: ', right_node)\n",
    "    \n",
    "    if right_node.estimate > max_value:\n",
    "        unexplored_nodes.append(right_node)   \n",
    "        # unexplored_nodes.put((-right_node.estimate, right_node))\n",
    "    else:     \n",
    "        if right_node.value > max_value:\n",
    "            max_value = right_node.value\n",
    "            optimal_node = right_node\n",
    "            \n",
    "                    \n",
    "    if left_node.weight >= min_capacity:\n",
    "        unexplored_nodes.append(left_node)\n",
    "        # unexplored_nodes.put((-left_node.estimate, left_node))\n",
    "    else:     \n",
    "        if left_node.value > max_value:\n",
    "            max_value = left_node.value\n",
    "            optimal_node = left_node\n",
    "    \n",
    "    print('Max Value: ', max_value)\n",
    "    print(unexplored_nodes)\n",
    "    print('---------------------------------------')\n",
    "\n",
    "accessible_items"
   ]
  },
  {
   "cell_type": "code",
   "execution_count": 11,
   "metadata": {},
   "outputs": [
    {
     "data": {
      "text/plain": [
       "Node(direction='left', index=3, value=19, weight=0, estimate=21, excluded_paths=[3])"
      ]
     },
     "execution_count": 11,
     "metadata": {},
     "output_type": "execute_result"
    }
   ],
   "source": [
    "optimal_node._replace(excluded_paths=[3])"
   ]
  },
  {
   "cell_type": "code",
   "execution_count": null,
   "metadata": {},
   "outputs": [],
   "source": [
    "max_value, loop_counter"
   ]
  },
  {
   "cell_type": "code",
   "execution_count": 19,
   "metadata": {},
   "outputs": [
    {
     "data": {
      "text/plain": [
       "[Item(index=3, value=4, weight=3, value_per_weight=1.3333333333333333),\n",
       " Item(index=0, value=8, weight=4, value_per_weight=2.0),\n",
       " Item(index=1, value=10, weight=5, value_per_weight=2.0),\n",
       " Item(index=2, value=15, weight=8, value_per_weight=1.875)]"
      ]
     },
     "execution_count": 19,
     "metadata": {},
     "output_type": "execute_result"
    }
   ],
   "source": [
    "items\n"
   ]
  },
  {
   "cell_type": "code",
   "execution_count": null,
   "metadata": {},
   "outputs": [],
   "source": [
    "loop_counter = 0\n",
    "\n",
    "while len(unexplored_nodes) > 0: #not unexplored_nodes.empty(): #len(unexplored_nodes) > 0:\n",
    "    \n",
    "    explore_node = unexplored_nodes.pop()\n",
    "    # _, explore_node = unexplored_nodes.get()\n",
    "    \n",
    "    accessible_items = [item for item in items if item.weight <= explore_node.weight and item.index not in explore_node.excluded_paths and item.index != explore_node.index]\n",
    "    ## The above statement excludes node for left exploration as well\n",
    "    # accessible_items = []\n",
    "    # for item in items:\n",
    "    #     if item.index == explore_node.index:\n",
    "    #         continue\n",
    "    #     if explore_node.direction == 'right' and item.index not in explore_node.excluded_paths:\n",
    "    #         accessible_items.append(item)\n",
    "    #     elif explore_node.direction == 'left' and item.weight <= explore_node.weight:\n",
    "    #         accessible_items.append(item)\n",
    "\n",
    "    if not accessible_items:\n",
    "        if explore_node.value > max_value:\n",
    "            max_value = explore_node.value\n",
    "            optimal_node = explore_node\n",
    "        continue\n",
    "    \n",
    "    next_best_item = accessible_items[0]\n",
    "    \n",
    "    left_node, right_node = get_children(explore_node.value, explore_node.weight, explore_node.estimate, next_best_item, items, explore_node.excluded_paths)\n",
    "    \n",
    "    loop_counter += 1\n",
    "    \n",
    "    # print('Exploring: ', explore_node)\n",
    "    # print('Max Value: ', max_value)\n",
    "    # print('Left Child: ', left_node)\n",
    "    # print('Right Child: ', right_node)\n",
    "    \n",
    "    if right_node.estimate > max_value:\n",
    "        unexplored_nodes.append(right_node)   \n",
    "        # unexplored_nodes.put((-right_node.estimate, right_node))\n",
    "    else:     \n",
    "        if right_node.value > max_value:\n",
    "            max_value = right_node.value\n",
    "            optimal_node = right_node\n",
    "            \n",
    "                    \n",
    "    if left_node.weight >= min_capacity:\n",
    "        unexplored_nodes.append(left_node)\n",
    "        # unexplored_nodes.put((-left_node.estimate, left_node))\n",
    "    else:     \n",
    "        if left_node.value > max_value:\n",
    "            max_value = left_node.value\n",
    "            optimal_node = left_node\n",
    "\n",
    "    # unexplored_nodes = [node for node in unexplored_nodes if node.estimate > max_value]\n",
    "    # unexplored_nodes = sorted(unexplored_nodes, key=lambda x: x.estimate, reverse=False)"
   ]
  },
  {
   "cell_type": "code",
   "execution_count": null,
   "metadata": {},
   "outputs": [],
   "source": [
    "max_value, loop_counter"
   ]
  },
  {
   "cell_type": "code",
   "execution_count": null,
   "metadata": {},
   "outputs": [],
   "source": [
    "optimal_node"
   ]
  },
  {
   "cell_type": "code",
   "execution_count": null,
   "metadata": {},
   "outputs": [],
   "source": [
    "items"
   ]
  },
  {
   "cell_type": "code",
   "execution_count": null,
   "metadata": {},
   "outputs": [],
   "source": [
    "optimal_path = [1]*len(items)\n",
    "ignore_item = False\n",
    "for item in items:\n",
    "    if item.index in optimal_node.excluded_paths or ignore_item:\n",
    "       optimal_path[item.index] = 0\n",
    "\n",
    "    elif item.index == optimal_node.index:\n",
    "        ignore_item = True"
   ]
  },
  {
   "cell_type": "code",
   "execution_count": null,
   "metadata": {},
   "outputs": [],
   "source": [
    "optimal_path"
   ]
  },
  {
   "cell_type": "code",
   "execution_count": null,
   "metadata": {},
   "outputs": [],
   "source": [
    "items = sorted(items, key=lambda x: x.index, reverse=False)"
   ]
  },
  {
   "cell_type": "code",
   "execution_count": null,
   "metadata": {},
   "outputs": [],
   "source": [
    "verify_value = 0\n",
    "verify_weight = 0\n",
    "items = sorted(items, key=lambda x: x.index, reverse=False)\n",
    "\n",
    "for idx, flag in enumerate(optimal_path):\n",
    "    if flag:\n",
    "        print(items[idx])\n",
    "        verify_value += items[idx].value\n",
    "        verify_weight += items[idx].weight\n",
    "        "
   ]
  },
  {
   "cell_type": "code",
   "execution_count": null,
   "metadata": {},
   "outputs": [],
   "source": [
    "verify_value, verify_weight"
   ]
  },
  {
   "cell_type": "code",
   "execution_count": null,
   "metadata": {},
   "outputs": [],
   "source": [
    "accessible_items = []\n",
    "for item in items:\n",
    "    if item.weight <= explore_node.weight:\n",
    "        if explore_node.direction == 'left':\n",
    "            accessible_items.append(item)\n",
    "        elif item.index not in explore_node.excluded_paths:\n",
    "            accessible_items.append(item)"
   ]
  }
 ],
 "metadata": {
  "kernelspec": {
   "display_name": "Python 3 (ipykernel)",
   "language": "python",
   "name": "python3"
  },
  "language_info": {
   "codemirror_mode": {
    "name": "ipython",
    "version": 3
   },
   "file_extension": ".py",
   "mimetype": "text/x-python",
   "name": "python",
   "nbconvert_exporter": "python",
   "pygments_lexer": "ipython3",
   "version": "3.10.11"
  }
 },
 "nbformat": 4,
 "nbformat_minor": 4
}
