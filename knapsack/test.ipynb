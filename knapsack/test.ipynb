{
 "cells": [
  {
   "cell_type": "code",
   "execution_count": 1,
   "metadata": {
    "pycharm": {
     "name": "#%%\n"
    }
   },
   "outputs": [],
   "source": [
    "import statistics\n",
    "import queue\n",
    "from collections import namedtuple"
   ]
  },
  {
   "cell_type": "code",
   "execution_count": 2,
   "metadata": {
    "pycharm": {
     "name": "#%%\n"
    }
   },
   "outputs": [],
   "source": [
    "Item = namedtuple(\"Item\", ['index', 'value', 'weight', 'value_per_weight'])\n",
    "items = [Item(index=0, value=1, weight=2, value_per_weight=0.5), Item(index=1, value=1, weight=2, value_per_weight=0.5), Item(index=2, value=1, weight=2, value_per_weight=0.5), Item(index=3, value=13, weight=7, value_per_weight=1.8571428571428572), Item(index=4, value=10, weight=5, value_per_weight=2.0), Item(index=5, value=10, weight=5, value_per_weight=2.0), Item(index=6, value=8, weight=3, value_per_weight=2.6666666666666665)]"
   ]
  },
  {
   "cell_type": "code",
   "execution_count": 3,
   "metadata": {},
   "outputs": [],
   "source": [
    "# Item = namedtuple(\"Item\", ['index', 'value', 'weight'])\n",
    "# items = [Item(index=0, value=45, weight=5), Item(index=1, value=48, weight=8), Item(index=2, value=35, weight=3)]"
   ]
  },
  {
   "cell_type": "code",
   "execution_count": 4,
   "metadata": {
    "pycharm": {
     "name": "#%%\n"
    }
   },
   "outputs": [],
   "source": [
    "Node = namedtuple(\"Node\", ['direction', 'index', 'branch', 'value', 'weight', 'estimate'])"
   ]
  },
  {
   "cell_type": "code",
   "execution_count": 5,
   "metadata": {
    "pycharm": {
     "name": "#%%\n"
    }
   },
   "outputs": [],
   "source": [
    "def get_children(node_value, capacity, node_estimate, items, branch):\n",
    "\n",
    "    if branch > len(items):\n",
    "        return None, None\n",
    "        \n",
    "    item = items[branch-1]\n",
    "    \n",
    "    if capacity-item.weight >= 0 :\n",
    "        left_node = Node('left', item.index, branch, node_value+item.value, capacity-item.weight, node_estimate)\n",
    "        right_node = Node('right', item.index, branch, node_value, capacity, node_estimate-item.value)\n",
    "    else:\n",
    "        left_node = Node('left', item.index, branch, -1, capacity-item.weight, -1)\n",
    "        right_node = Node('right', item.index, branch, node_value, capacity, node_estimate-item.value)\n",
    "\n",
    "    return left_node, right_node, branch"
   ]
  },
  {
   "cell_type": "markdown",
   "metadata": {
    "pycharm": {
     "name": "#%%\n"
    }
   },
   "source": [
    "## Best First Search"
   ]
  },
  {
   "cell_type": "code",
   "execution_count": 413,
   "metadata": {},
   "outputs": [],
   "source": [
    "unexplored_nodes = []\n",
    "max_value = 0\n",
    "max_capacity = 10\n",
    "total_value = sum([item.value for item in items])\n",
    "total_items = len(items)\n",
    "iterations = 0"
   ]
  },
  {
   "cell_type": "code",
   "execution_count": 414,
   "metadata": {},
   "outputs": [
    {
     "data": {
      "text/plain": [
       "[Node(direction='left', index=0, branch=1, value=-1, weight=-89991, estimate=-1),\n",
       " Node(direction='right', index=0, branch=1, value=0, weight=10, estimate=1482855)]"
      ]
     },
     "execution_count": 414,
     "metadata": {},
     "output_type": "execute_result"
    }
   ],
   "source": [
    "left_node, right_node, current_branch = get_children(0, max_capacity, total_value, items, 1)\n",
    "unexplored_nodes.append(left_node)\n",
    "unexplored_nodes.append(right_node)\n",
    "unexplored_nodes = sorted(unexplored_nodes, key=lambda x: x.estimate)\n",
    "unexplored_nodes"
   ]
  },
  {
   "cell_type": "code",
   "execution_count": 412,
   "metadata": {},
   "outputs": [
    {
     "name": "stdout",
     "output_type": "stream",
     "text": [
      "0\n"
     ]
    },
    {
     "data": {
      "text/plain": [
       "[Node(direction='right', index=12, branch=25, value=0, weight=10, estimate=52515)]"
      ]
     },
     "execution_count": 412,
     "metadata": {},
     "output_type": "execute_result"
    }
   ],
   "source": [
    "explore_node = unexplored_nodes.pop()\n",
    "\n",
    "left_node, right_node, current_branch = get_children(explore_node.value, explore_node.weight, explore_node.estimate, items, explore_node.branch+1)\n",
    "\n",
    "if current_branch != total_items:\n",
    "    \n",
    "    if left_node.value != left_node.estimate:\n",
    "        unexplored_nodes.append(left_node)\n",
    "        \n",
    "    if right_node.value != right_node.estimate:\n",
    "        unexplored_nodes.append(right_node)\n",
    "else:\n",
    "    if left_node.value > right_node.value and left_node.value > max_value:\n",
    "        max_value = left_node.value\n",
    "        \n",
    "    elif right_node.value > left_node.value and right_node.value > max_value:\n",
    "        max_value = right_node.value\n",
    "\n",
    "filtered_nodes = [node for node in unexplored_nodes if node.value > max_value]    \n",
    "\n",
    "unexplored_nodes = sorted(filtered_nodes, key=lambda x: x.estimate)\n",
    "\n",
    "iterations += 1\n",
    "print(max_value)\n",
    "if not unexplored_nodes:\n",
    "    print(iterations)\n",
    "unexplored_nodes"
   ]
  },
  {
   "cell_type": "markdown",
   "metadata": {},
   "source": [
    "## Depth First Search"
   ]
  },
  {
   "cell_type": "code",
   "execution_count": 1017,
   "metadata": {},
   "outputs": [],
   "source": [
    "unexplored_nodes = []\n",
    "max_value = 0\n",
    "\n",
    "\n",
    "# If the estimate is lower than minimum available value; dont branch further. The available value is the best value\n",
    "max_capacity = 100000\n",
    "min_capacity = min([item.weight for item in items])\n",
    "\n",
    "total_value = 99998.88859177056\n",
    "total_items = len(items)\n",
    "iterations = 0"
   ]
  },
  {
   "cell_type": "code",
   "execution_count": 1018,
   "metadata": {},
   "outputs": [
    {
     "data": {
      "text/plain": [
       "10002"
      ]
     },
     "execution_count": 1018,
     "metadata": {},
     "output_type": "execute_result"
    }
   ],
   "source": [
    "min_capacity"
   ]
  },
  {
   "cell_type": "code",
   "execution_count": 1019,
   "metadata": {},
   "outputs": [
    {
     "data": {
      "text/plain": [
       "[Item(index=0, value=90000, weight=90001, value_per_weight=0.9999888890123443),\n",
       " Item(index=1, value=89750, weight=89751, value_per_weight=0.9999888580628629),\n",
       " Item(index=2, value=10001, weight=10002, value_per_weight=0.9999000199960008),\n",
       " Item(index=3, value=89500, weight=89501, value_per_weight=0.9999888269404811),\n",
       " Item(index=4, value=10252, weight=10254, value_per_weight=0.9998049541642285)]"
      ]
     },
     "execution_count": 1019,
     "metadata": {},
     "output_type": "execute_result"
    }
   ],
   "source": [
    "# min(item.weight for item in items)\n",
    "items[:5]"
   ]
  },
  {
   "cell_type": "code",
   "execution_count": 1020,
   "metadata": {},
   "outputs": [
    {
     "data": {
      "text/plain": [
       "[Node(direction='right', index=0, branch=1, value=0, weight=100000, estimate=9998.888591770563),\n",
       " Node(direction='left', index=0, branch=1, value=90000, weight=9999, estimate=99998.88859177056)]"
      ]
     },
     "execution_count": 1020,
     "metadata": {},
     "output_type": "execute_result"
    }
   ],
   "source": [
    "left_node, right_node, current_branch = get_children(0, max_capacity, total_value, items, 1)\n",
    "unexplored_nodes.append(right_node)\n",
    "unexplored_nodes.append(left_node)\n",
    "# unexplored_nodes = sorted(unexplored_nodes, key=lambda x: (x.branch, x.estimate))\n",
    "unexplored_nodes"
   ]
  },
  {
   "cell_type": "code",
   "execution_count": 1021,
   "metadata": {},
   "outputs": [
    {
     "name": "stdout",
     "output_type": "stream",
     "text": [
      "Exploring:  Node(direction='left', index=0, branch=1, value=90000, weight=9999, estimate=99998.88859177056)\n",
      "Max Value:  0\n",
      "Left Child:  Node(direction='left', index=1, branch=2, value=-1, weight=-79752, estimate=-1)\n",
      "Right Child:  Node(direction='right', index=1, branch=2, value=90000, weight=9999, estimate=10248.888591770563)\n",
      "Max Value:  90000\n",
      "[Node(direction='right', index=0, branch=1, value=0, weight=100000, estimate=9998.888591770563)]\n",
      "---------------------------------------\n"
     ]
    }
   ],
   "source": [
    "explore_node = unexplored_nodes.pop()\n",
    "\n",
    "# while True:\n",
    "#     if explore_node.branch+1 > total_items or explore_node.estimate < max_value:\n",
    "#         max_value = explore_node.value if explore_node.value > max_value else max_value\n",
    "#         if explore_node:\n",
    "#             explore_node = unexplored_nodes.pop()\n",
    "#     else:\n",
    "#         break\n",
    "\n",
    "optimistic_value + current_value <= max_value:\n",
    "\n",
    "left_node, right_node, current_branch = get_children(explore_node.value, explore_node.weight, explore_node.estimate, items, explore_node.branch+1)\n",
    "\n",
    "\n",
    "print('Exploring: ', explore_node)\n",
    "print('Max Value: ', max_value)\n",
    "print('Left Child: ', left_node)\n",
    "print('Right Child: ', right_node)\n",
    "\n",
    "\n",
    "if (left_node.weight >= min_capacity and current_branch != total_items) and left_node.value+left_node.estimate >= max_value:\n",
    "    unexplored_nodes.append(left_node)\n",
    "else:     \n",
    "    max_value = left_node.value if left_node.value > max_value else max_value\n",
    "    \n",
    "if (right_node.weight >= min_capacity and current_branch != total_items) and right_node.value+right_node.estimate >= max_value:\n",
    "    unexplored_nodes.append(right_node)   \n",
    "else:     \n",
    "    max_value = right_node.value if right_node.value > max_value else max_value\n",
    "\n",
    "print('Max Value: ', max_value)\n",
    "print(unexplored_nodes)\n",
    "print('---------------------------------------')"
   ]
  },
  {
   "cell_type": "code",
   "execution_count": 688,
   "metadata": {},
   "outputs": [],
   "source": [
    "# Exploring:  Node(direction='left', index=3, branch=1, value=13, weight=2, estimate=21)\n",
    "# Max Value:  0\n",
    "# Left Child:  Node(direction='left', index=4, branch=2, value=-1, weight=-3, estimate=-1)\n",
    "# Right Child:  Node(direction='right', index=4, branch=2, value=13, weight=2, estimate=11)\n",
    "# Max Value:  0\n",
    "# [Node(direction='right', index=3, branch=1, value=0, weight=10, estimate=8), Node(direction='right', index=4, branch=2, value=13, weight=2, estimate=11)]\n",
    "# ---------------------------------------"
   ]
  },
  {
   "cell_type": "code",
   "execution_count": 386,
   "metadata": {},
   "outputs": [
    {
     "name": "stdout",
     "output_type": "stream",
     "text": [
      "Node(direction='left', index=28, branch=17, value=-1, weight=-3029, estimate=-1)\n",
      "Node(direction='right', index=28, branch=17, value=89750, weight=10249, estimate=-1233515.1114082295)\n",
      "90000\n"
     ]
    },
    {
     "data": {
      "text/plain": [
       "[Node(direction='right', index=1, branch=2, value=0, weight=100000, estimate=-79751.11140822944),\n",
       " Node(direction='right', index=28, branch=17, value=89750, weight=10249, estimate=-1233515.1114082295)]"
      ]
     },
     "execution_count": 386,
     "metadata": {},
     "output_type": "execute_result"
    }
   ],
   "source": [
    "explore_node = unexplored_nodes.pop()\n",
    "\n",
    "left_node, right_node, current_branch = get_children(explore_node.value, explore_node.weight, explore_node.estimate, items, explore_node.branch+1)\n",
    "print(left_node)\n",
    "print(right_node)\n",
    "\n",
    "\n",
    "if current_branch != total_items:\n",
    "    if left_node.weight >= 0:\n",
    "        unexplored_nodes.append(left_node)\n",
    "        unexplored_nodes.append(right_node)\n",
    "    else:\n",
    "        unexplored_nodes.append(right_node)\n",
    "else:\n",
    "    max_value = left_node.value if left_node.value > max_value else max_value\n",
    "    \n",
    "# unexplored_nodes = sorted(unexplored_nodes, key=lambda x: (x.branch, x.estimate))\n",
    "\n",
    "print(max_value)\n",
    "unexplored_nodes"
   ]
  },
  {
   "cell_type": "code",
   "execution_count": null,
   "metadata": {},
   "outputs": [],
   "source": [
    "[Node(direction='left', index=1, branch=2, value=89750, weight=10249, estimate=9999.0)]"
   ]
  },
  {
   "cell_type": "code",
   "execution_count": null,
   "metadata": {},
   "outputs": [],
   "source": [
    "right_node"
   ]
  },
  {
   "cell_type": "code",
   "execution_count": null,
   "metadata": {},
   "outputs": [],
   "source": [
    "round(2.6666, 2)"
   ]
  },
  {
   "cell_type": "code",
   "execution_count": null,
   "metadata": {},
   "outputs": [],
   "source": []
  },
  {
   "cell_type": "code",
   "execution_count": 1076,
   "metadata": {},
   "outputs": [],
   "source": [
    "with open('./data/ks_50_0', 'r') as input_data_file:\n",
    "    input_data = input_data_file.read()"
   ]
  },
  {
   "cell_type": "code",
   "execution_count": 1077,
   "metadata": {},
   "outputs": [],
   "source": [
    "# parse the input\n",
    "lines = input_data.split('\\n')\n",
    "\n",
    "firstLine = lines[0].split()\n",
    "item_count = int(firstLine[0])\n",
    "capacity = int(firstLine[1])\n",
    "\n",
    "items = []\n",
    "\n",
    "for i in range(1, item_count+1):\n",
    "    line = lines[i]\n",
    "    parts = line.split()\n",
    "    items.append(Item(i-1, int(parts[0]), int(parts[1]),  int(parts[0])/int(parts[1])))"
   ]
  },
  {
   "cell_type": "code",
   "execution_count": 1078,
   "metadata": {},
   "outputs": [],
   "source": [
    "total_value = 0\n",
    "total_weight = capacity\n",
    "for item in sorted(items, key=lambda x: x.value_per_weight, reverse=True):\n",
    "    if total_weight-item.weight > 0 :\n",
    "        total_value += item.value\n",
    "        total_weight -= item.weight  \n",
    "    else:\n",
    "        total_value += total_weight * item.value_per_weight\n",
    "        break"
   ]
  },
  {
   "cell_type": "code",
   "execution_count": 1079,
   "metadata": {},
   "outputs": [
    {
     "data": {
      "text/plain": [
       "142418.67875227213"
      ]
     },
     "execution_count": 1079,
     "metadata": {},
     "output_type": "execute_result"
    }
   ],
   "source": [
    "items = sorted(items, key=lambda x: x.weight, reverse=True)\n",
    "total_value"
   ]
  },
  {
   "cell_type": "code",
   "execution_count": 1080,
   "metadata": {},
   "outputs": [],
   "source": [
    "def optimistic_estimate(items, current_index, current_weight, remaining_capacity):\n",
    "    optimistic_value = 0\n",
    "    while current_index < len(items) and current_weight + items[current_index].weight <= remaining_capacity:\n",
    "        optimistic_value += items[current_index].value\n",
    "        remaining_capacity -= items[current_index].weight\n",
    "        current_index += 1\n",
    "    if current_index < len(items):\n",
    "        optimistic_value += remaining_capacity * items[current_index].value_per_weight\n",
    "    return optimistic_value\n",
    "\n",
    "def knapsack_dfs_bb(items, max_weight, current_index, current_weight, current_value):\n",
    "    if current_weight > max_weight:\n",
    "        return 0\n",
    "    \n",
    "    if current_index >= len(items):\n",
    "        return current_value\n",
    "    \n",
    "    optimistic_value = optimistic_estimate(items, current_index, current_weight, max_weight - current_weight)\n",
    "    if optimistic_value + current_value <= max_value:\n",
    "        return 0\n",
    "    \n",
    "    value_with_item = knapsack_dfs_bb(items, max_weight, current_index + 1,\n",
    "                                       current_weight + items[current_index].weight,\n",
    "                                       current_value + items[current_index].value)\n",
    "    \n",
    "    value_without_item = knapsack_dfs_bb(items, max_weight, current_index + 1,\n",
    "                                          current_weight, current_value)\n",
    "    \n",
    "    return max(value_with_item, value_without_item)"
   ]
  },
  {
   "cell_type": "code",
   "execution_count": 1081,
   "metadata": {},
   "outputs": [
    {
     "ename": "KeyboardInterrupt",
     "evalue": "",
     "output_type": "error",
     "traceback": [
      "\u001b[1;31m---------------------------------------------------------------------------\u001b[0m",
      "\u001b[1;31mKeyboardInterrupt\u001b[0m                         Traceback (most recent call last)",
      "Cell \u001b[1;32mIn[1081], line 1\u001b[0m\n\u001b[1;32m----> 1\u001b[0m \u001b[43mknapsack_dfs_bb\u001b[49m\u001b[43m(\u001b[49m\u001b[43mitems\u001b[49m\u001b[43m,\u001b[49m\u001b[43m \u001b[49m\u001b[43mcapacity\u001b[49m\u001b[43m,\u001b[49m\u001b[43m \u001b[49m\u001b[38;5;241;43m0\u001b[39;49m\u001b[43m,\u001b[49m\u001b[43m \u001b[49m\u001b[38;5;241;43m0\u001b[39;49m\u001b[43m,\u001b[49m\u001b[43m \u001b[49m\u001b[38;5;241;43m0\u001b[39;49m\u001b[43m)\u001b[49m\n",
      "Cell \u001b[1;32mIn[1080], line 22\u001b[0m, in \u001b[0;36mknapsack_dfs_bb\u001b[1;34m(items, max_weight, current_index, current_weight, current_value)\u001b[0m\n\u001b[0;32m     19\u001b[0m \u001b[38;5;28;01mif\u001b[39;00m optimistic_value \u001b[38;5;241m+\u001b[39m current_value \u001b[38;5;241m<\u001b[39m\u001b[38;5;241m=\u001b[39m max_value:\n\u001b[0;32m     20\u001b[0m     \u001b[38;5;28;01mreturn\u001b[39;00m \u001b[38;5;241m0\u001b[39m\n\u001b[1;32m---> 22\u001b[0m value_with_item \u001b[38;5;241m=\u001b[39m \u001b[43mknapsack_dfs_bb\u001b[49m\u001b[43m(\u001b[49m\u001b[43mitems\u001b[49m\u001b[43m,\u001b[49m\u001b[43m \u001b[49m\u001b[43mmax_weight\u001b[49m\u001b[43m,\u001b[49m\u001b[43m \u001b[49m\u001b[43mcurrent_index\u001b[49m\u001b[43m \u001b[49m\u001b[38;5;241;43m+\u001b[39;49m\u001b[43m \u001b[49m\u001b[38;5;241;43m1\u001b[39;49m\u001b[43m,\u001b[49m\n\u001b[0;32m     23\u001b[0m \u001b[43m                                   \u001b[49m\u001b[43mcurrent_weight\u001b[49m\u001b[43m \u001b[49m\u001b[38;5;241;43m+\u001b[39;49m\u001b[43m \u001b[49m\u001b[43mitems\u001b[49m\u001b[43m[\u001b[49m\u001b[43mcurrent_index\u001b[49m\u001b[43m]\u001b[49m\u001b[38;5;241;43m.\u001b[39;49m\u001b[43mweight\u001b[49m\u001b[43m,\u001b[49m\n\u001b[0;32m     24\u001b[0m \u001b[43m                                   \u001b[49m\u001b[43mcurrent_value\u001b[49m\u001b[43m \u001b[49m\u001b[38;5;241;43m+\u001b[39;49m\u001b[43m \u001b[49m\u001b[43mitems\u001b[49m\u001b[43m[\u001b[49m\u001b[43mcurrent_index\u001b[49m\u001b[43m]\u001b[49m\u001b[38;5;241;43m.\u001b[39;49m\u001b[43mvalue\u001b[49m\u001b[43m)\u001b[49m\n\u001b[0;32m     26\u001b[0m value_without_item \u001b[38;5;241m=\u001b[39m knapsack_dfs_bb(items, max_weight, current_index \u001b[38;5;241m+\u001b[39m \u001b[38;5;241m1\u001b[39m,\n\u001b[0;32m     27\u001b[0m                                       current_weight, current_value)\n\u001b[0;32m     29\u001b[0m \u001b[38;5;28;01mreturn\u001b[39;00m \u001b[38;5;28mmax\u001b[39m(value_with_item, value_without_item)\n",
      "Cell \u001b[1;32mIn[1080], line 26\u001b[0m, in \u001b[0;36mknapsack_dfs_bb\u001b[1;34m(items, max_weight, current_index, current_weight, current_value)\u001b[0m\n\u001b[0;32m     20\u001b[0m     \u001b[38;5;28;01mreturn\u001b[39;00m \u001b[38;5;241m0\u001b[39m\n\u001b[0;32m     22\u001b[0m value_with_item \u001b[38;5;241m=\u001b[39m knapsack_dfs_bb(items, max_weight, current_index \u001b[38;5;241m+\u001b[39m \u001b[38;5;241m1\u001b[39m,\n\u001b[0;32m     23\u001b[0m                                    current_weight \u001b[38;5;241m+\u001b[39m items[current_index]\u001b[38;5;241m.\u001b[39mweight,\n\u001b[0;32m     24\u001b[0m                                    current_value \u001b[38;5;241m+\u001b[39m items[current_index]\u001b[38;5;241m.\u001b[39mvalue)\n\u001b[1;32m---> 26\u001b[0m value_without_item \u001b[38;5;241m=\u001b[39m \u001b[43mknapsack_dfs_bb\u001b[49m\u001b[43m(\u001b[49m\u001b[43mitems\u001b[49m\u001b[43m,\u001b[49m\u001b[43m \u001b[49m\u001b[43mmax_weight\u001b[49m\u001b[43m,\u001b[49m\u001b[43m \u001b[49m\u001b[43mcurrent_index\u001b[49m\u001b[43m \u001b[49m\u001b[38;5;241;43m+\u001b[39;49m\u001b[43m \u001b[49m\u001b[38;5;241;43m1\u001b[39;49m\u001b[43m,\u001b[49m\n\u001b[0;32m     27\u001b[0m \u001b[43m                                      \u001b[49m\u001b[43mcurrent_weight\u001b[49m\u001b[43m,\u001b[49m\u001b[43m \u001b[49m\u001b[43mcurrent_value\u001b[49m\u001b[43m)\u001b[49m\n\u001b[0;32m     29\u001b[0m \u001b[38;5;28;01mreturn\u001b[39;00m \u001b[38;5;28mmax\u001b[39m(value_with_item, value_without_item)\n",
      "Cell \u001b[1;32mIn[1080], line 26\u001b[0m, in \u001b[0;36mknapsack_dfs_bb\u001b[1;34m(items, max_weight, current_index, current_weight, current_value)\u001b[0m\n\u001b[0;32m     20\u001b[0m     \u001b[38;5;28;01mreturn\u001b[39;00m \u001b[38;5;241m0\u001b[39m\n\u001b[0;32m     22\u001b[0m value_with_item \u001b[38;5;241m=\u001b[39m knapsack_dfs_bb(items, max_weight, current_index \u001b[38;5;241m+\u001b[39m \u001b[38;5;241m1\u001b[39m,\n\u001b[0;32m     23\u001b[0m                                    current_weight \u001b[38;5;241m+\u001b[39m items[current_index]\u001b[38;5;241m.\u001b[39mweight,\n\u001b[0;32m     24\u001b[0m                                    current_value \u001b[38;5;241m+\u001b[39m items[current_index]\u001b[38;5;241m.\u001b[39mvalue)\n\u001b[1;32m---> 26\u001b[0m value_without_item \u001b[38;5;241m=\u001b[39m \u001b[43mknapsack_dfs_bb\u001b[49m\u001b[43m(\u001b[49m\u001b[43mitems\u001b[49m\u001b[43m,\u001b[49m\u001b[43m \u001b[49m\u001b[43mmax_weight\u001b[49m\u001b[43m,\u001b[49m\u001b[43m \u001b[49m\u001b[43mcurrent_index\u001b[49m\u001b[43m \u001b[49m\u001b[38;5;241;43m+\u001b[39;49m\u001b[43m \u001b[49m\u001b[38;5;241;43m1\u001b[39;49m\u001b[43m,\u001b[49m\n\u001b[0;32m     27\u001b[0m \u001b[43m                                      \u001b[49m\u001b[43mcurrent_weight\u001b[49m\u001b[43m,\u001b[49m\u001b[43m \u001b[49m\u001b[43mcurrent_value\u001b[49m\u001b[43m)\u001b[49m\n\u001b[0;32m     29\u001b[0m \u001b[38;5;28;01mreturn\u001b[39;00m \u001b[38;5;28mmax\u001b[39m(value_with_item, value_without_item)\n",
      "    \u001b[1;31m[... skipping similar frames: knapsack_dfs_bb at line 26 (2 times)]\u001b[0m\n",
      "Cell \u001b[1;32mIn[1080], line 22\u001b[0m, in \u001b[0;36mknapsack_dfs_bb\u001b[1;34m(items, max_weight, current_index, current_weight, current_value)\u001b[0m\n\u001b[0;32m     19\u001b[0m \u001b[38;5;28;01mif\u001b[39;00m optimistic_value \u001b[38;5;241m+\u001b[39m current_value \u001b[38;5;241m<\u001b[39m\u001b[38;5;241m=\u001b[39m max_value:\n\u001b[0;32m     20\u001b[0m     \u001b[38;5;28;01mreturn\u001b[39;00m \u001b[38;5;241m0\u001b[39m\n\u001b[1;32m---> 22\u001b[0m value_with_item \u001b[38;5;241m=\u001b[39m \u001b[43mknapsack_dfs_bb\u001b[49m\u001b[43m(\u001b[49m\u001b[43mitems\u001b[49m\u001b[43m,\u001b[49m\u001b[43m \u001b[49m\u001b[43mmax_weight\u001b[49m\u001b[43m,\u001b[49m\u001b[43m \u001b[49m\u001b[43mcurrent_index\u001b[49m\u001b[43m \u001b[49m\u001b[38;5;241;43m+\u001b[39;49m\u001b[43m \u001b[49m\u001b[38;5;241;43m1\u001b[39;49m\u001b[43m,\u001b[49m\n\u001b[0;32m     23\u001b[0m \u001b[43m                                   \u001b[49m\u001b[43mcurrent_weight\u001b[49m\u001b[43m \u001b[49m\u001b[38;5;241;43m+\u001b[39;49m\u001b[43m \u001b[49m\u001b[43mitems\u001b[49m\u001b[43m[\u001b[49m\u001b[43mcurrent_index\u001b[49m\u001b[43m]\u001b[49m\u001b[38;5;241;43m.\u001b[39;49m\u001b[43mweight\u001b[49m\u001b[43m,\u001b[49m\n\u001b[0;32m     24\u001b[0m \u001b[43m                                   \u001b[49m\u001b[43mcurrent_value\u001b[49m\u001b[43m \u001b[49m\u001b[38;5;241;43m+\u001b[39;49m\u001b[43m \u001b[49m\u001b[43mitems\u001b[49m\u001b[43m[\u001b[49m\u001b[43mcurrent_index\u001b[49m\u001b[43m]\u001b[49m\u001b[38;5;241;43m.\u001b[39;49m\u001b[43mvalue\u001b[49m\u001b[43m)\u001b[49m\n\u001b[0;32m     26\u001b[0m value_without_item \u001b[38;5;241m=\u001b[39m knapsack_dfs_bb(items, max_weight, current_index \u001b[38;5;241m+\u001b[39m \u001b[38;5;241m1\u001b[39m,\n\u001b[0;32m     27\u001b[0m                                       current_weight, current_value)\n\u001b[0;32m     29\u001b[0m \u001b[38;5;28;01mreturn\u001b[39;00m \u001b[38;5;28mmax\u001b[39m(value_with_item, value_without_item)\n",
      "    \u001b[1;31m[... skipping similar frames: knapsack_dfs_bb at line 26 (29 times), knapsack_dfs_bb at line 22 (7 times)]\u001b[0m\n",
      "Cell \u001b[1;32mIn[1080], line 22\u001b[0m, in \u001b[0;36mknapsack_dfs_bb\u001b[1;34m(items, max_weight, current_index, current_weight, current_value)\u001b[0m\n\u001b[0;32m     19\u001b[0m \u001b[38;5;28;01mif\u001b[39;00m optimistic_value \u001b[38;5;241m+\u001b[39m current_value \u001b[38;5;241m<\u001b[39m\u001b[38;5;241m=\u001b[39m max_value:\n\u001b[0;32m     20\u001b[0m     \u001b[38;5;28;01mreturn\u001b[39;00m \u001b[38;5;241m0\u001b[39m\n\u001b[1;32m---> 22\u001b[0m value_with_item \u001b[38;5;241m=\u001b[39m \u001b[43mknapsack_dfs_bb\u001b[49m\u001b[43m(\u001b[49m\u001b[43mitems\u001b[49m\u001b[43m,\u001b[49m\u001b[43m \u001b[49m\u001b[43mmax_weight\u001b[49m\u001b[43m,\u001b[49m\u001b[43m \u001b[49m\u001b[43mcurrent_index\u001b[49m\u001b[43m \u001b[49m\u001b[38;5;241;43m+\u001b[39;49m\u001b[43m \u001b[49m\u001b[38;5;241;43m1\u001b[39;49m\u001b[43m,\u001b[49m\n\u001b[0;32m     23\u001b[0m \u001b[43m                                   \u001b[49m\u001b[43mcurrent_weight\u001b[49m\u001b[43m \u001b[49m\u001b[38;5;241;43m+\u001b[39;49m\u001b[43m \u001b[49m\u001b[43mitems\u001b[49m\u001b[43m[\u001b[49m\u001b[43mcurrent_index\u001b[49m\u001b[43m]\u001b[49m\u001b[38;5;241;43m.\u001b[39;49m\u001b[43mweight\u001b[49m\u001b[43m,\u001b[49m\n\u001b[0;32m     24\u001b[0m \u001b[43m                                   \u001b[49m\u001b[43mcurrent_value\u001b[49m\u001b[43m \u001b[49m\u001b[38;5;241;43m+\u001b[39;49m\u001b[43m \u001b[49m\u001b[43mitems\u001b[49m\u001b[43m[\u001b[49m\u001b[43mcurrent_index\u001b[49m\u001b[43m]\u001b[49m\u001b[38;5;241;43m.\u001b[39;49m\u001b[43mvalue\u001b[49m\u001b[43m)\u001b[49m\n\u001b[0;32m     26\u001b[0m value_without_item \u001b[38;5;241m=\u001b[39m knapsack_dfs_bb(items, max_weight, current_index \u001b[38;5;241m+\u001b[39m \u001b[38;5;241m1\u001b[39m,\n\u001b[0;32m     27\u001b[0m                                       current_weight, current_value)\n\u001b[0;32m     29\u001b[0m \u001b[38;5;28;01mreturn\u001b[39;00m \u001b[38;5;28mmax\u001b[39m(value_with_item, value_without_item)\n",
      "Cell \u001b[1;32mIn[1080], line 26\u001b[0m, in \u001b[0;36mknapsack_dfs_bb\u001b[1;34m(items, max_weight, current_index, current_weight, current_value)\u001b[0m\n\u001b[0;32m     20\u001b[0m     \u001b[38;5;28;01mreturn\u001b[39;00m \u001b[38;5;241m0\u001b[39m\n\u001b[0;32m     22\u001b[0m value_with_item \u001b[38;5;241m=\u001b[39m knapsack_dfs_bb(items, max_weight, current_index \u001b[38;5;241m+\u001b[39m \u001b[38;5;241m1\u001b[39m,\n\u001b[0;32m     23\u001b[0m                                    current_weight \u001b[38;5;241m+\u001b[39m items[current_index]\u001b[38;5;241m.\u001b[39mweight,\n\u001b[0;32m     24\u001b[0m                                    current_value \u001b[38;5;241m+\u001b[39m items[current_index]\u001b[38;5;241m.\u001b[39mvalue)\n\u001b[1;32m---> 26\u001b[0m value_without_item \u001b[38;5;241m=\u001b[39m \u001b[43mknapsack_dfs_bb\u001b[49m\u001b[43m(\u001b[49m\u001b[43mitems\u001b[49m\u001b[43m,\u001b[49m\u001b[43m \u001b[49m\u001b[43mmax_weight\u001b[49m\u001b[43m,\u001b[49m\u001b[43m \u001b[49m\u001b[43mcurrent_index\u001b[49m\u001b[43m \u001b[49m\u001b[38;5;241;43m+\u001b[39;49m\u001b[43m \u001b[49m\u001b[38;5;241;43m1\u001b[39;49m\u001b[43m,\u001b[49m\n\u001b[0;32m     27\u001b[0m \u001b[43m                                      \u001b[49m\u001b[43mcurrent_weight\u001b[49m\u001b[43m,\u001b[49m\u001b[43m \u001b[49m\u001b[43mcurrent_value\u001b[49m\u001b[43m)\u001b[49m\n\u001b[0;32m     29\u001b[0m \u001b[38;5;28;01mreturn\u001b[39;00m \u001b[38;5;28mmax\u001b[39m(value_with_item, value_without_item)\n",
      "\u001b[1;31mKeyboardInterrupt\u001b[0m: "
     ]
    }
   ],
   "source": [
    "knapsack_dfs_bb(items, capacity, 0, 0, 0)"
   ]
  },
  {
   "cell_type": "code",
   "execution_count": null,
   "metadata": {},
   "outputs": [],
   "source": []
  }
 ],
 "metadata": {
  "kernelspec": {
   "display_name": "Python 3 (ipykernel)",
   "language": "python",
   "name": "python3"
  },
  "language_info": {
   "codemirror_mode": {
    "name": "ipython",
    "version": 3
   },
   "file_extension": ".py",
   "mimetype": "text/x-python",
   "name": "python",
   "nbconvert_exporter": "python",
   "pygments_lexer": "ipython3",
   "version": "3.10.11"
  }
 },
 "nbformat": 4,
 "nbformat_minor": 4
}
