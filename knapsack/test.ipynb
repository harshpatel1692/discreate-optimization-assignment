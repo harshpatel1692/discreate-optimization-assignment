{
 "cells": [
  {
   "cell_type": "code",
   "execution_count": 9,
   "metadata": {
    "pycharm": {
     "name": "#%%\n"
    }
   },
   "outputs": [],
   "source": [
    "import statistics\n",
    "import queue\n",
    "from collections import namedtuple"
   ]
  },
  {
   "cell_type": "code",
   "execution_count": 10,
   "metadata": {
    "pycharm": {
     "name": "#%%\n"
    }
   },
   "outputs": [],
   "source": [
    "Item = namedtuple(\"Item\", ['index', 'value', 'weight', 'value_per_weight'])\n",
    "items = [Item(index=0, value=1, weight=2, value_per_weight=0.5), Item(index=1, value=1, weight=2, value_per_weight=0.5), Item(index=2, value=1, weight=2, value_per_weight=0.5), Item(index=3, value=13, weight=7, value_per_weight=1.8571428571428572), Item(index=4, value=10, weight=5, value_per_weight=2.0), Item(index=5, value=10, weight=5, value_per_weight=2.0), Item(index=6, value=8, weight=3, value_per_weight=2.6666666666666665)]"
   ]
  },
  {
   "cell_type": "code",
   "execution_count": 11,
   "metadata": {},
   "outputs": [],
   "source": [
    "Item = namedtuple(\"Item\", ['index', 'value', 'weight'])\n",
    "items = [Item(index=0, value=45, weight=5), Item(index=1, value=48, weight=8), Item(index=2, value=35, weight=3)]"
   ]
  },
  {
   "cell_type": "code",
   "execution_count": 12,
   "metadata": {
    "pycharm": {
     "name": "#%%\n"
    }
   },
   "outputs": [],
   "source": [
    "Node = namedtuple(\"Node\", ['direction', 'index', 'branch', 'value', 'weight', 'estimate'])"
   ]
  },
  {
   "cell_type": "code",
   "execution_count": 50,
   "metadata": {
    "pycharm": {
     "name": "#%%\n"
    }
   },
   "outputs": [],
   "source": [
    "def get_children(node_value, capacity, node_estimate, items, branch):\n",
    "\n",
    "    if branch > len(items):\n",
    "        return None, None\n",
    "        \n",
    "    item = items[branch-1]\n",
    "    \n",
    "    if capacity-item.weight >= 0 :\n",
    "        left_node = Node('left', item.index, branch, node_value+item.value, capacity-item.weight, node_estimate)\n",
    "        right_node = Node('right', item.index, branch, node_value, capacity, node_estimate-item.value)\n",
    "    else:\n",
    "        left_node = Node('left', item.index, branch, -1, capacity-item.weight, -1)\n",
    "        right_node = Node('right', item.index, branch, node_value, capacity, node_estimate-item.value)\n",
    "\n",
    "    return left_node, right_node, branch"
   ]
  },
  {
   "cell_type": "code",
   "execution_count": 51,
   "metadata": {
    "pycharm": {
     "name": "#%%\n"
    }
   },
   "outputs": [],
   "source": [
    "unexplored_nodes = []\n",
    "max_value = 0"
   ]
  },
  {
   "cell_type": "code",
   "execution_count": 52,
   "metadata": {},
   "outputs": [],
   "source": [
    "max_capacity = 10\n",
    "total_value = sum([item.value for item in items])\n",
    "total_items = len(items)"
   ]
  },
  {
   "cell_type": "code",
   "execution_count": 53,
   "metadata": {},
   "outputs": [
    {
     "data": {
      "text/plain": [
       "[Node(direction='right', index=0, branch=1, value=0, weight=10, estimate=83),\n",
       " Node(direction='left', index=0, branch=1, value=45, weight=5, estimate=128)]"
      ]
     },
     "execution_count": 53,
     "metadata": {},
     "output_type": "execute_result"
    }
   ],
   "source": [
    "left_node, right_node, current_branch = get_children(0, max_capacity, total_value, items, 1)\n",
    "unexplored_nodes.append(left_node)\n",
    "unexplored_nodes.append(right_node)\n",
    "unexplored_nodes = sorted(unexplored_nodes, key=lambda x: x.estimate)\n",
    "unexplored_nodes"
   ]
  },
  {
   "cell_type": "code",
   "execution_count": 57,
   "metadata": {},
   "outputs": [
    {
     "name": "stdout",
     "output_type": "stream",
     "text": [
      "80\n"
     ]
    },
    {
     "data": {
      "text/plain": [
       "[]"
      ]
     },
     "execution_count": 57,
     "metadata": {},
     "output_type": "execute_result"
    }
   ],
   "source": [
    "explore_node = unexplored_nodes.pop()\n",
    "\n",
    "left_node, right_node, current_branch = get_children(explore_node.value, explore_node.weight, explore_node.estimate, items, explore_node.branch+1)\n",
    "\n",
    "if current_branch != total_items:\n",
    "    \n",
    "    if left_node.estimate > max_value:\n",
    "        unexplored_nodes.append(left_node)\n",
    "        \n",
    "    if right_node.estimate > max_value:\n",
    "        unexplored_nodes.append(right_node)\n",
    "else:\n",
    "    if left_node.estimate > right_node.estimate and left_node.estimate > max_value:\n",
    "        max_value = left_node.estimate\n",
    "        \n",
    "    elif right_node.estimate > left_node.estimate and right_node.estimate > max_value:\n",
    "        max_value = right_node.estimate\n",
    "\n",
    "filtered_nodes = [node for node in unexplored_nodes if node.estimate > max_value]    \n",
    "\n",
    "unexplored_nodes = sorted(filtered_nodes, key=lambda x: x.estimate)\n",
    "\n",
    "\n",
    "print(max_value)\n",
    "unexplored_nodes"
   ]
  },
  {
   "cell_type": "code",
   "execution_count": 29,
   "metadata": {},
   "outputs": [
    {
     "name": "stdout",
     "output_type": "stream",
     "text": [
      "Node(direction='left', index=1, branch=2, value=-1, weight=-3, estimate=-1)\n",
      "Node(direction='right', index=1, branch=2, value=45, weight=5, estimate=80)\n"
     ]
    }
   ],
   "source": [
    "print(left_node)\n",
    "print(right_node)\n",
    "\n",
    "\n",
    "if left_node."
   ]
  },
  {
   "cell_type": "code",
   "execution_count": null,
   "metadata": {},
   "outputs": [],
   "source": [
    "explore_node = unexplored_nodes.pop()\n",
    "# if explore_node.branch+1 <= total_items:\n",
    "    left_node, right_node = get_children(explore_node.value, explore_node.weight, explore_node.estimate, items, explore_node.branch+1)\n",
    "# if left_node is not None and right_node is not None:\n",
    "    unexplored_nodes.append(left_node)\n",
    "    unexplored_nodes.append(right_node)\n",
    "    unexplored_nodes = sorted(unexplored_nodes, key=lambda x: x.estimate)\n",
    "    \n",
    "unexplored_nodes"
   ]
  },
  {
   "cell_type": "code",
   "execution_count": null,
   "metadata": {},
   "outputs": [],
   "source": [
    "for node in unexplored_nodes:\n",
    "    if node.branch == total_items and node.estimate > max_value:\n",
    "        max_value = node.estimate\n",
    "\n",
    "filtered_nodes = [node for node in unexplored_nodes if node.estimate > max_value]\n",
    "unexplored_nodes = filtered_nodes\n",
    "\n",
    "unexplored_nodes"
   ]
  },
  {
   "cell_type": "code",
   "execution_count": null,
   "metadata": {
    "pycharm": {
     "name": "#%%\n"
    }
   },
   "outputs": [],
   "source": [
    "max_value"
   ]
  },
  {
   "cell_type": "code",
   "execution_count": null,
   "metadata": {
    "pycharm": {
     "name": "#%%\n"
    }
   },
   "outputs": [],
   "source": [
    "right_node"
   ]
  }
 ],
 "metadata": {
  "kernelspec": {
   "display_name": "Python 3 (ipykernel)",
   "language": "python",
   "name": "python3"
  },
  "language_info": {
   "codemirror_mode": {
    "name": "ipython",
    "version": 3
   },
   "file_extension": ".py",
   "mimetype": "text/x-python",
   "name": "python",
   "nbconvert_exporter": "python",
   "pygments_lexer": "ipython3",
   "version": "3.10.11"
  }
 },
 "nbformat": 4,
 "nbformat_minor": 4
}
