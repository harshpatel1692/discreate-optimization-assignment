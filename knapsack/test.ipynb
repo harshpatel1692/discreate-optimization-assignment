{
 "cells": [
  {
   "cell_type": "code",
   "execution_count": 1139,
   "metadata": {
    "pycharm": {
     "name": "#%%\n"
    }
   },
   "outputs": [],
   "source": [
    "import statistics\n",
    "import queue\n",
    "from collections import namedtuple"
   ]
  },
  {
   "cell_type": "code",
   "execution_count": 1140,
   "metadata": {
    "pycharm": {
     "name": "#%%\n"
    }
   },
   "outputs": [],
   "source": [
    "Item = namedtuple(\"Item\", ['index', 'value', 'weight', 'value_per_weight'])\n",
    "items = [Item(index=0, value=1, weight=2, value_per_weight=0.5), Item(index=1, value=1, weight=2, value_per_weight=0.5), Item(index=2, value=1, weight=2, value_per_weight=0.5), Item(index=3, value=13, weight=7, value_per_weight=1.8571428571428572), Item(index=4, value=10, weight=5, value_per_weight=2.0), Item(index=5, value=10, weight=5, value_per_weight=2.0), Item(index=6, value=8, weight=3, value_per_weight=2.6666666666666665)]"
   ]
  },
  {
   "cell_type": "code",
   "execution_count": 1141,
   "metadata": {
    "pycharm": {
     "name": "#%%\n"
    }
   },
   "outputs": [],
   "source": [
    "# Item = namedtuple(\"Item\", ['index', 'value', 'weight'])\n",
    "# items = [Item(index=0, value=45, weight=5), Item(index=1, value=48, weight=8), Item(index=2, value=35, weight=3)]"
   ]
  },
  {
   "cell_type": "code",
   "execution_count": 1142,
   "metadata": {
    "pycharm": {
     "name": "#%%\n"
    }
   },
   "outputs": [],
   "source": [
    "Node = namedtuple(\"Node\", ['direction', 'index', 'branch', 'value', 'weight', 'estimate', 'excluded_paths'])"
   ]
  },
  {
   "cell_type": "code",
   "execution_count": 1168,
   "metadata": {
    "pycharm": {
     "name": "#%%\n"
    }
   },
   "outputs": [],
   "source": [
    "def get_children(node_value, capacity, node_estimate, items, branch, paths):\n",
    "        \n",
    "    optimistic_value = 0\n",
    "    total_weight =  MAX_CAPACITY\n",
    "    filtered_items = [item for item in items if item.index not in paths]\n",
    "    \n",
    "    for item in sorted(filtered_items, key=lambda x: x.value_per_weight, reverse=True):\n",
    "        if total_weight-item.weight > 0 :\n",
    "            optimistic_value += item.value\n",
    "            total_weight -= item.weight  \n",
    "        else:\n",
    "            optimistic_value += total_weight * item.value_per_weight\n",
    "            break\n",
    "            \n",
    "    optimistic_value = int(optimistic_value)\n",
    "\n",
    "    \n",
    "    item = items[branch]\n",
    "    \n",
    "    if capacity-item.weight >= 0 :\n",
    "        left_node = Node('left', item.index, branch+1, node_value+item.value, capacity-item.weight, node_estimate, paths)\n",
    "        right_node = Node('right', item.index, branch+1, node_value, capacity, optimistic_value, paths+[item.index]) #node_estimate-item.value) \n",
    "    else:\n",
    "        left_node = Node('left', item.index, branch+1, -1, capacity-item.weight, -1, paths)\n",
    "        right_node = Node('right', item.index, branch+1, node_value, capacity, optimistic_value, paths+[item.index]) #node_estimate-item.value)\n",
    "\n",
    "    return left_node, right_node"
   ]
  },
  {
   "cell_type": "code",
   "execution_count": null,
   "metadata": {},
   "outputs": [],
   "source": []
  },
  {
   "cell_type": "markdown",
   "metadata": {
    "pycharm": {
     "name": "#%% md\n"
    }
   },
   "source": [
    "<!-- ## Depth First Search -->"
   ]
  },
  {
   "cell_type": "code",
   "execution_count": 1188,
   "metadata": {
    "pycharm": {
     "name": "#%%\n"
    }
   },
   "outputs": [
    {
     "name": "stdout",
     "output_type": "stream",
     "text": [
      "max_capacity:  100000\n",
      "min_capacity:  10002\n",
      "optimistic_value:  99998\n",
      "total_items:  30\n",
      "max_items:  9\n"
     ]
    }
   ],
   "source": [
    "with open('./data/ks_30_0', 'r') as input_data_file:\n",
    "    input_data = input_data_file.read()\n",
    "\n",
    "# parse the input\n",
    "lines = input_data.split('\\n')\n",
    "\n",
    "firstLine = lines[0].split()\n",
    "total_items = int(firstLine[0])\n",
    "MAX_CAPACITY = int(firstLine[1])\n",
    "\n",
    "items = []\n",
    "\n",
    "for i in range(1, total_items+1):\n",
    "    line = lines[i]\n",
    "    parts = line.split()\n",
    "    items.append(Item(i-1, int(parts[0]), int(parts[1]),  int(parts[0])/int(parts[1])))\n",
    "\n",
    "min_capacity = min([item.weight for item in items])\n",
    "total_items = len(items)\n",
    "\n",
    "optimistic_value = 0\n",
    "total_weight = MAX_CAPACITY\n",
    "for item in sorted(items, key=lambda x: x.value_per_weight, reverse=True):\n",
    "    if total_weight-item.weight > 0 :\n",
    "        optimistic_value += item.value\n",
    "        total_weight -= item.weight  \n",
    "    else:\n",
    "        optimistic_value += total_weight * item.value_per_weight\n",
    "        break\n",
    "\n",
    "optimistic_value = int(optimistic_value)\n",
    "\n",
    "total_weight = MAX_CAPACITY\n",
    "max_items=0\n",
    "for item in sorted(items, key=lambda x: x.weight, reverse=False):\n",
    "    if total_weight-item.weight > 0 :\n",
    "        total_weight -= item.weight  \n",
    "        max_items+=1\n",
    "    else:\n",
    "        break\n",
    "\n",
    "print('max_capacity: ', MAX_CAPACITY)\n",
    "print('min_capacity: ', min_capacity)\n",
    "print('optimistic_value: ', optimistic_value)\n",
    "print('total_items: ', total_items)\n",
    "print('max_items: ', max_items)\n",
    "## 99798"
   ]
  },
  {
   "cell_type": "code",
   "execution_count": 1189,
   "metadata": {},
   "outputs": [
    {
     "data": {
      "text/plain": [
       "[Item(index=0, value=90000, weight=90001, value_per_weight=0.9999888890123443),\n",
       " Item(index=1, value=89750, weight=89751, value_per_weight=0.9999888580628629),\n",
       " Item(index=3, value=89500, weight=89501, value_per_weight=0.9999888269404811),\n",
       " Item(index=5, value=89250, weight=89251, value_per_weight=0.9999887956437463),\n",
       " Item(index=7, value=89000, weight=89001, value_per_weight=0.9999887641711891),\n",
       " Item(index=9, value=88750, weight=88751, value_per_weight=0.9999887325213237),\n",
       " Item(index=11, value=88500, weight=88501, value_per_weight=0.9999887006926476),\n",
       " Item(index=13, value=88250, weight=88251, value_per_weight=0.999988668683641),\n",
       " Item(index=15, value=88000, weight=88001, value_per_weight=0.9999886364927671),\n",
       " Item(index=17, value=87750, weight=87751, value_per_weight=0.9999886041184716),\n",
       " Item(index=19, value=87500, weight=87501, value_per_weight=0.9999885715591822),\n",
       " Item(index=21, value=87250, weight=87251, value_per_weight=0.9999885388133087),\n",
       " Item(index=23, value=87000, weight=87001, value_per_weight=0.9999885058792428),\n",
       " Item(index=25, value=86750, weight=86751, value_per_weight=0.9999884727553573),\n",
       " Item(index=27, value=86500, weight=86501, value_per_weight=0.9999884394400065),\n",
       " Item(index=29, value=86250, weight=86251, value_per_weight=0.9999884059315254),\n",
       " Item(index=2, value=10001, weight=10002, value_per_weight=0.9999000199960008),\n",
       " Item(index=4, value=10252, weight=10254, value_per_weight=0.9998049541642285),\n",
       " Item(index=6, value=10503, weight=10506, value_per_weight=0.9997144488863506),\n",
       " Item(index=8, value=10754, weight=10758, value_per_weight=0.9996281836772635),\n",
       " Item(index=10, value=11005, weight=11010, value_per_weight=0.9995458673932789),\n",
       " Item(index=12, value=11256, weight=11262, value_per_weight=0.9994672349493873),\n",
       " Item(index=14, value=11507, weight=11514, value_per_weight=0.9993920444676047),\n",
       " Item(index=16, value=11758, weight=11766, value_per_weight=0.9993200747917729),\n",
       " Item(index=18, value=12009, weight=12018, value_per_weight=0.9992511233150274),\n",
       " Item(index=20, value=12260, weight=12270, value_per_weight=0.9991850040749797),\n",
       " Item(index=22, value=12511, weight=12522, value_per_weight=0.9991215460789011),\n",
       " Item(index=24, value=12762, weight=12774, value_per_weight=0.9990605918271489),\n",
       " Item(index=26, value=13013, weight=13026, value_per_weight=0.999001996007984),\n",
       " Item(index=28, value=13264, weight=13278, value_per_weight=0.9989456243410152)]"
      ]
     },
     "execution_count": 1189,
     "metadata": {},
     "output_type": "execute_result"
    }
   ],
   "source": [
    "items = sorted(items, key=lambda x: x.value_per_weight, reverse=True)\n",
    "items"
   ]
  },
  {
   "cell_type": "code",
   "execution_count": 1190,
   "metadata": {
    "pycharm": {
     "name": "#%%\n"
    }
   },
   "outputs": [
    {
     "data": {
      "text/plain": [
       "[Node(direction='right', index=0, branch=1, value=0, weight=100000, estimate=99998, excluded_paths=[0]),\n",
       " Node(direction='left', index=0, branch=1, value=90000, weight=9999, estimate=99998, excluded_paths=[])]"
      ]
     },
     "execution_count": 1190,
     "metadata": {},
     "output_type": "execute_result"
    }
   ],
   "source": [
    "max_value = 0\n",
    "unexplored_nodes = []\n",
    "optimal_path = []\n",
    "optimal_index = None\n",
    "\n",
    "\n",
    "left_node, right_node = get_children(0, MAX_CAPACITY, optimistic_value, items, 0, [])\n",
    "unexplored_nodes.append(right_node)\n",
    "unexplored_nodes.append(left_node)\n",
    "# # unexplored_nodes = sorted(unexplored_nodes, key=lambda x: (x.branch, x.estimate))\n",
    "unexplored_nodes"
   ]
  },
  {
   "cell_type": "code",
   "execution_count": 1191,
   "metadata": {
    "pycharm": {
     "name": "#%%\n"
    }
   },
   "outputs": [],
   "source": [
    "loop_counter = 0\n",
    "while True:\n",
    "\n",
    "    loop_counter += 1\n",
    "    \n",
    "    if not unexplored_nodes:\n",
    "        break\n",
    "        \n",
    "    explore_node = unexplored_nodes.pop()\n",
    "\n",
    "    if explore_node.branch == len(items):\n",
    "        continue\n",
    "    \n",
    "    left_node, right_node = get_children(explore_node.value, explore_node.weight, explore_node.estimate, items, explore_node.branch, explore_node.excluded_paths)\n",
    "    \n",
    "    # print('Exploring: ', explore_node)\n",
    "    # print('Max Value: ', max_value)\n",
    "    # print('Left Child: ', left_node)\n",
    "    # print('Right Child: ', right_node)\n",
    "    \n",
    "    if right_node.estimate > max_value:\n",
    "        unexplored_nodes.append(right_node)   \n",
    "    else:     \n",
    "        if right_node.value > max_value:\n",
    "            max_value = right_node.value\n",
    "            \n",
    "            optimal_path = [1]*len(items)\n",
    "            ignore_item = False\n",
    "            for item in items:\n",
    "                if item.index in left_node.excluded_paths or ignore_item:\n",
    "                   optimal_path[item.index] = 0\n",
    "    \n",
    "                elif item.index == left_node.index:\n",
    "                    ignore_item = True\n",
    "                    \n",
    "            # unexplored_nodes = [node for node in unexplored_nodes if node.estimate > max_value]\n",
    "    \n",
    "\n",
    "    if left_node.weight >= min_capacity and left_node.estimate >= max_value:\n",
    "         unexplored_nodes.append(left_node)\n",
    "    else:     \n",
    "        if left_node.value > max_value:\n",
    "            max_value = left_node.value\n",
    "            \n",
    "            optimal_path = [1]*len(items)\n",
    "            ignore_item = False\n",
    "            for item in items:\n",
    "                if item.index in right_node.excluded_paths or ignore_item:\n",
    "                   optimal_path[item.index] = 0\n",
    "    \n",
    "                elif item.index == right_node.index:\n",
    "                    ignore_item = True\n",
    "    \n",
    "            # unexplored_nodes = [node for node in unexplored_nodes if node.estimate > max_value]\n",
    "            # unexplored_nodes = sorted(unexplored_nodes, key=lambda x: x.estimate, reverse=False)\n",
    "    \n",
    "    # unexplored_nodes = sorted(unexplored_nodes, key=lambda x: x.branch, reverse=True)\n",
    "            \n",
    "    # print('Max Value: ', max_value)\n",
    "    # print(unexplored_nodes)\n",
    "    # print('---------------------------------------')"
   ]
  },
  {
   "cell_type": "code",
   "execution_count": 1192,
   "metadata": {
    "pycharm": {
     "name": "#%%\n"
    }
   },
   "outputs": [
    {
     "data": {
      "text/plain": [
       "(99798, 7350)"
      ]
     },
     "execution_count": 1192,
     "metadata": {},
     "output_type": "execute_result"
    }
   ],
   "source": [
    "max_value, loop_counter"
   ]
  },
  {
   "cell_type": "code",
   "execution_count": 277,
   "metadata": {
    "pycharm": {
     "name": "#%%\n"
    }
   },
   "outputs": [
    {
     "data": {
      "text/plain": [
       "[1, 1, 1, 1, 1, 1, 1]"
      ]
     },
     "execution_count": 277,
     "metadata": {},
     "output_type": "execute_result"
    }
   ],
   "source": [
    "[1]*len(items)"
   ]
  },
  {
   "cell_type": "code",
   "execution_count": null,
   "metadata": {
    "pycharm": {
     "name": "#%%\n"
    }
   },
   "outputs": [],
   "source": [
    "max_value = 0\n",
    "counter=0\n",
    "\n",
    "unexplored_nodes = []\n",
    "explore_items = sorted(items, key=lambda x: x.weight, reverse=True)\n",
    "set_root = explore_items.pop(0)\n",
    "print(set_root, max_capacity, optimistic_value)\n",
    "\n",
    "left_node = Node('left', index=-1, branch=0, value=0+set_root.value, weight=max_capacity-set_root.weight, estimate=optimistic_value)\n",
    "right_node = Node('right', index=-1, branch=0, value=0, weight=max_capacity, estimate=optimistic_value-set_root.value)\n",
    "unexplored_nodes.append(right_node)\n",
    "unexplored_nodes.append(left_node)\n",
    "\n",
    "while True:\n",
    "    \n",
    "    if not unexplored_nodes:\n",
    "        break\n",
    "    else:\n",
    "        counter+=1\n",
    "        \n",
    "    explore_node = unexplored_nodes.pop()\n",
    "\n",
    "    if explore_node.branch+1 > max_items:\n",
    "        continue\n",
    "    \n",
    "    left_node, right_node, current_branch = get_children(explore_node.value, explore_node.weight, explore_node.estimate, explore_items, explore_node.branch+1)\n",
    "    \n",
    "    if (left_node.weight >= min_capacity):\n",
    "         unexplored_nodes.append(left_node)\n",
    "    else:     \n",
    "        max_value = left_node.value if left_node.value > max_value else max_value\n",
    "    \n",
    "    if right_node.value+right_node.estimate > max_value and right_node.weight >= min_capacity :\n",
    "        unexplored_nodes.append(right_node)   \n",
    "    else:     \n",
    "        max_value = right_node.value if right_node.value > max_value else max_value\n",
    "    \n",
    "    \n",
    "\n",
    "max_value, counter"
   ]
  },
  {
   "cell_type": "code",
   "execution_count": null,
   "metadata": {
    "pycharm": {
     "name": "#%%\n"
    }
   },
   "outputs": [],
   "source": [
    "items"
   ]
  },
  {
   "cell_type": "code",
   "execution_count": null,
   "metadata": {
    "pycharm": {
     "name": "#%%\n"
    }
   },
   "outputs": [],
   "source": [
    "explore_node = unexplored_nodes.pop()\n",
    "\n",
    "# while True:\n",
    "#     if explore_node.branch+1 > total_items or explore_node.estimate < max_value:\n",
    "#         max_value = explore_node.value if explore_node.value > max_value else max_value\n",
    "#         if explore_node:\n",
    "#             explore_node = unexplored_nodes.pop()\n",
    "#     else:\n",
    "#         break\n",
    "\n",
    "optimistic_value + current_value <= max_value:\n",
    "\n",
    "left_node, right_node, current_branch = get_children(explore_node.value, explore_node.weight, explore_node.estimate, items, explore_node.branch+1)\n",
    "\n",
    "\n",
    "print('Exploring: ', explore_node)\n",
    "print('Max Value: ', max_value)\n",
    "print('Left Child: ', left_node)\n",
    "print('Right Child: ', right_node)\n",
    "\n",
    "\n",
    "if (left_node.weight >= min_capacity and current_branch != total_items) and left_node.value+left_node.estimate >= max_value:\n",
    "    unexplored_nodes.append(left_node)\n",
    "else:     \n",
    "    max_value = left_node.value if left_node.value > max_value else max_value\n",
    "    \n",
    "if (right_node.weight >= min_capacity and current_branch != total_items) and right_node.value+right_node.estimate >= max_value:\n",
    "    unexplored_nodes.append(right_node)   \n",
    "else:     \n",
    "    max_value = right_node.value if right_node.value > max_value else max_value\n",
    "\n",
    "print('Max Value: ', max_value)\n",
    "print(unexplored_nodes)\n",
    "print('---------------------------------------')"
   ]
  },
  {
   "cell_type": "code",
   "execution_count": null,
   "metadata": {
    "pycharm": {
     "name": "#%%\n"
    }
   },
   "outputs": [],
   "source": [
    "# Exploring:  Node(direction='left', index=3, branch=1, value=13, weight=2, estimate=21)\n",
    "# Max Value:  0\n",
    "# Left Child:  Node(direction='left', index=4, branch=2, value=-1, weight=-3, estimate=-1)\n",
    "# Right Child:  Node(direction='right', index=4, branch=2, value=13, weight=2, estimate=11)\n",
    "# Max Value:  0\n",
    "# [Node(direction='right', index=3, branch=1, value=0, weight=10, estimate=8), Node(direction='right', index=4, branch=2, value=13, weight=2, estimate=11)]\n",
    "# ---------------------------------------"
   ]
  },
  {
   "cell_type": "code",
   "execution_count": null,
   "metadata": {
    "pycharm": {
     "name": "#%%\n"
    }
   },
   "outputs": [],
   "source": [
    "explore_node = unexplored_nodes.pop()\n",
    "\n",
    "left_node, right_node, current_branch = get_children(explore_node.value, explore_node.weight, explore_node.estimate, items, explore_node.branch+1)\n",
    "print(left_node)\n",
    "print(right_node)\n",
    "\n",
    "\n",
    "if current_branch != total_items:\n",
    "    if left_node.weight >= 0:\n",
    "        unexplored_nodes.append(left_node)\n",
    "        unexplored_nodes.append(right_node)\n",
    "    else:\n",
    "        unexplored_nodes.append(right_node)\n",
    "else:\n",
    "    max_value = left_node.value if left_node.value > max_value else max_value\n",
    "    \n",
    "# unexplored_nodes = sorted(unexplored_nodes, key=lambda x: (x.branch, x.estimate))\n",
    "\n",
    "print(max_value)\n",
    "unexplored_nodes"
   ]
  },
  {
   "cell_type": "code",
   "execution_count": null,
   "metadata": {
    "pycharm": {
     "name": "#%%\n"
    }
   },
   "outputs": [],
   "source": [
    "[Node(direction='left', index=1, branch=2, value=89750, weight=10249, estimate=9999.0)]"
   ]
  },
  {
   "cell_type": "code",
   "execution_count": null,
   "metadata": {
    "pycharm": {
     "name": "#%%\n"
    }
   },
   "outputs": [],
   "source": [
    "right_node"
   ]
  },
  {
   "cell_type": "code",
   "execution_count": null,
   "metadata": {
    "pycharm": {
     "name": "#%%\n"
    }
   },
   "outputs": [],
   "source": [
    "round(2.6666, 2)"
   ]
  },
  {
   "cell_type": "code",
   "execution_count": null,
   "metadata": {
    "pycharm": {
     "name": "#%%\n"
    }
   },
   "outputs": [],
   "source": [
    "with open('./data/ks_30_0', 'r') as input_data_file:\n",
    "    input_data = input_data_file.read()\n",
    "\n",
    "# parse the input\n",
    "lines = input_data.split('\\n')\n",
    "\n",
    "firstLine = lines[0].split()\n",
    "item_count = int(firstLine[0])\n",
    "capacity = int(firstLine[1])\n",
    "\n",
    "items = []\n",
    "\n",
    "for i in range(1, item_count+1):\n",
    "    line = lines[i]\n",
    "    parts = line.split()\n",
    "    items.append(Item(i-1, int(parts[0]), int(parts[1]),  int(parts[0])/int(parts[1])))\n",
    "\n",
    "\n",
    "total_value = 0\n",
    "total_weight = capacity\n",
    "for item in sorted(items, key=lambda x: x.value_per_weight, reverse=True):\n",
    "    if total_weight-item.weight > 0 :\n",
    "        total_value += item.value\n",
    "        total_weight -= item.weight  \n",
    "    else:\n",
    "        total_value += total_weight * item.value_per_weight\n",
    "        break\n",
    "\n",
    "\n",
    "total_weight = capacity\n",
    "max_items=0\n",
    "for item in sorted(items, key=lambda x: x.weight, reverse=False):\n",
    "    if total_weight-item.weight > 0 :\n",
    "        total_weight -= item.weight  \n",
    "        max_items+=1\n",
    "    else:\n",
    "        break\n",
    "\n",
    "print(max_items, total_value)"
   ]
  },
  {
   "cell_type": "code",
   "execution_count": null,
   "metadata": {
    "pycharm": {
     "name": "#%%\n"
    }
   },
   "outputs": [],
   "source": [
    "with open('./data/ks_30_0', 'r') as input_data_file:\n",
    "    input_data = input_data_file.read()"
   ]
  },
  {
   "cell_type": "code",
   "execution_count": null,
   "metadata": {
    "pycharm": {
     "name": "#%%\n"
    }
   },
   "outputs": [],
   "source": [
    "# parse the input\n",
    "lines = input_data.split('\\n')\n",
    "\n",
    "firstLine = lines[0].split()\n",
    "item_count = int(firstLine[0])\n",
    "capacity = int(firstLine[1])\n",
    "\n",
    "items = []\n",
    "\n",
    "for i in range(1, item_count+1):\n",
    "    line = lines[i]\n",
    "    parts = line.split()\n",
    "    items.append(Item(i-1, int(parts[0]), int(parts[1]),  int(parts[0])/int(parts[1])))"
   ]
  },
  {
   "cell_type": "code",
   "execution_count": null,
   "metadata": {
    "pycharm": {
     "name": "#%%\n"
    }
   },
   "outputs": [],
   "source": [
    "total_value = 0\n",
    "total_weight = capacity\n",
    "for item in sorted(items, key=lambda x: x.value_per_weight, reverse=True):\n",
    "    if total_weight-item.weight > 0 :\n",
    "        total_value += item.value\n",
    "        total_weight -= item.weight  \n",
    "    else:\n",
    "        total_value += total_weight * item.value_per_weight\n",
    "        break"
   ]
  },
  {
   "cell_type": "code",
   "execution_count": null,
   "metadata": {
    "pycharm": {
     "name": "#%%\n"
    }
   },
   "outputs": [],
   "source": [
    "items = sorted(items, key=lambda x: x.weight, reverse=False)\n",
    "total_value"
   ]
  },
  {
   "cell_type": "code",
   "execution_count": null,
   "metadata": {
    "pycharm": {
     "name": "#%%\n"
    }
   },
   "outputs": [],
   "source": [
    "total_weight = capacity\n",
    "max_items=0\n",
    "for item in items:\n",
    "    if total_weight-item.weight > 0 :\n",
    "        total_weight -= item.weight  \n",
    "        counter+=1\n",
    "    else:\n",
    "        break\n",
    "\n",
    "counter"
   ]
  },
  {
   "cell_type": "code",
   "execution_count": null,
   "metadata": {
    "pycharm": {
     "name": "#%%\n"
    }
   },
   "outputs": [],
   "source": [
    "items = sorted(items, key=lambda x: x.value, reverse=True)"
   ]
  },
  {
   "cell_type": "code",
   "execution_count": null,
   "metadata": {
    "pycharm": {
     "name": "#%%\n"
    }
   },
   "outputs": [],
   "source": [
    "for item in items:\n",
    "    print(capacity"
   ]
  },
  {
   "cell_type": "code",
   "execution_count": null,
   "metadata": {
    "pycharm": {
     "name": "#%%\n"
    }
   },
   "outputs": [],
   "source": [
    "items"
   ]
  },
  {
   "cell_type": "code",
   "execution_count": null,
   "metadata": {
    "pycharm": {
     "name": "#%%\n"
    }
   },
   "outputs": [],
   "source": [
    "def optimistic_estimate(items, current_index, current_weight, remaining_capacity):\n",
    "    optimistic_value = 0\n",
    "    while current_index < len(items) and current_weight + items[current_index].weight <= remaining_capacity:\n",
    "        optimistic_value += items[current_index].value\n",
    "        remaining_capacity -= items[current_index].weight\n",
    "        current_index += 1\n",
    "    if current_index < len(items):\n",
    "        optimistic_value += remaining_capacity * items[current_index].value_per_weight\n",
    "    return optimistic_value\n",
    "\n",
    "def knapsack_dfs_bb(items, max_weight, current_index, current_weight, current_value):\n",
    "    if current_weight > max_weight:\n",
    "        return 0\n",
    "    \n",
    "    if current_index >= len(items):\n",
    "        return current_value\n",
    "    \n",
    "    optimistic_value = optimistic_estimate(items, current_index, current_weight, max_weight - current_weight)\n",
    "    if optimistic_value + current_value <= max_value:\n",
    "        return 0\n",
    "    \n",
    "    value_with_item = knapsack_dfs_bb(items, max_weight, current_index + 1,\n",
    "                                       current_weight + items[current_index].weight,\n",
    "                                       current_value + items[current_index].value)\n",
    "    \n",
    "    value_without_item = knapsack_dfs_bb(items, max_weight, current_index + 1,\n",
    "                                          current_weight, current_value)\n",
    "    \n",
    "    return max(value_with_item, value_without_item)"
   ]
  },
  {
   "cell_type": "code",
   "execution_count": null,
   "metadata": {
    "pycharm": {
     "name": "#%%\n"
    }
   },
   "outputs": [],
   "source": [
    "knapsack_dfs_bb(items, capacity, 0, 0, 0)"
   ]
  },
  {
   "cell_type": "code",
   "execution_count": null,
   "metadata": {
    "pycharm": {
     "name": "#%%\n"
    }
   },
   "outputs": [],
   "source": []
  }
 ],
 "metadata": {
  "kernelspec": {
   "display_name": "Python 3 (ipykernel)",
   "language": "python",
   "name": "python3"
  },
  "language_info": {
   "codemirror_mode": {
    "name": "ipython",
    "version": 3
   },
   "file_extension": ".py",
   "mimetype": "text/x-python",
   "name": "python",
   "nbconvert_exporter": "python",
   "pygments_lexer": "ipython3",
   "version": "3.10.11"
  }
 },
 "nbformat": 4,
 "nbformat_minor": 4
}
