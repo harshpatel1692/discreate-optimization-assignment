{
 "cells": [
  {
   "cell_type": "code",
   "execution_count": 20,
   "id": "4e2a2f80-2308-4b30-9d97-4b42fc14159d",
   "metadata": {},
   "outputs": [],
   "source": [
    "import math\n",
    "from collections import namedtuple\n",
    "import plotly.graph_objects as go\n",
    "import plotly.express as px\n",
    "import numpy as np\n",
    "from copy import deepcopy\n",
    "from tqdm.notebook import tqdm\n",
    "import random\n",
    "\n",
    "from numba import jit, vectorize, float64"
   ]
  },
  {
   "cell_type": "code",
   "execution_count": 58,
   "id": "bbf260ad-6dde-476b-9319-81016c11405f",
   "metadata": {},
   "outputs": [],
   "source": [
    "with open('./data/tsp_51_1', 'r') as input_data_file:\n",
    "    input_data = input_data_file.read()\n",
    "    \n",
    "lines = input_data.split('\\n')\n",
    "\n",
    "nodeCount = int(lines[0])\n",
    "\n",
    "points = []\n",
    "for i in range(1, nodeCount+1):\n",
    "    line = lines[i]\n",
    "    parts = line.split()\n",
    "    # points.append(Point(float(parts[0]), float(parts[1])))\n",
    "    points.append((float(parts[0]), float(parts[1])))\n",
    "points = np.array(points)"
   ]
  },
  {
   "cell_type": "code",
   "execution_count": 59,
   "id": "2d1fd51e-72e5-4f6c-a0da-217de17fd794",
   "metadata": {},
   "outputs": [],
   "source": [
    "def length(point1, point2):\n",
    "    return math.sqrt((point1[0] - point2[0])**2 + (point1[1] - point2[1])**2)\n",
    "\n",
    "\n",
    "def scan_region_from(current_point, remaining_stops):\n",
    "    x, y = current_point\n",
    "    \n",
    "    if x < y:\n",
    "        x_min = np.min(remaining_stops[:, 0])\n",
    "        scan_pointer = np.array([x_min, y])\n",
    "    else:\n",
    "        y_min = np.min(remaining_stops[:, 1])\n",
    "        scan_pointer = np.array([x, y_min])\n",
    "\n",
    "    return scan_pointer\n",
    "\n",
    "\n",
    "def add_explored(current_stop, remaining_stops):\n",
    "    ## Add node as explored\n",
    "    \n",
    "    # Find the index where the element matches in the array_of_arrays\n",
    "    remove_idx = np.where(np.all(remaining_stops == current_stop, axis=1))\n",
    "    \n",
    "    # Remove the element using the indices\n",
    "    remaining_stops = np.delete(remaining_stops, remove_idx, axis=0)\n",
    "    \n",
    "    return remaining_stops\n",
    "\n",
    "\n",
    "def point_in_bbox(point, bbox):\n",
    "    x, y = point\n",
    "    x_min, y_min, x_max, y_max = bbox\n",
    "    \n",
    "    if x_min <= x <= x_max and y_min <= y <= y_max:\n",
    "        return True\n",
    "    else:\n",
    "        return False\n",
    "\n",
    "\n",
    "def calculate_travel(exploring_path):\n",
    "    distances = np.linalg.norm(exploring_path[1:] - exploring_path[:-1], axis=1)\n",
    "    return np.sum(distances)"
   ]
  },
  {
   "cell_type": "code",
   "execution_count": 60,
   "id": "3f3caa02-c394-403b-afd0-dd0070e5fe8d",
   "metadata": {},
   "outputs": [],
   "source": [
    "@jit(nopython=True)\n",
    "def length_distance(single_point, all_points):\n",
    "    return np.sqrt((all_points[:, 0]-single_point[0])**2 + (all_points[:, 1]-single_point[1])**2)"
   ]
  },
  {
   "cell_type": "code",
   "execution_count": 61,
   "id": "84606565-c043-4365-b401-0121c6b39ab0",
   "metadata": {},
   "outputs": [
    {
     "data": {
      "application/vnd.jupyter.widget-view+json": {
       "model_id": "88cf033e9fb44d3283a0ff8eee5513f6",
       "version_major": 2,
       "version_minor": 0
      },
      "text/plain": [
       "0it [00:00, ?it/s]"
      ]
     },
     "metadata": {},
     "output_type": "display_data"
    },
    {
     "name": "stdout",
     "output_type": "stream",
     "text": [
      "51\n"
     ]
    }
   ],
   "source": [
    "explored_path = [[] for _ in range(len(points))]\n",
    "explored_indexes = [] #set()\n",
    "distance_matrix = np.array([0, 0, 0])\n",
    "node_number = 0\n",
    "points_count = points.shape[0]\n",
    "max_size = 0\n",
    "\n",
    "neighbors_to_account = 50 #points_count//5\n",
    "\n",
    "with tqdm() as tbar:\n",
    "    while len(set(explored_indexes)) < points_count:\n",
    "\n",
    "        explored_indexes = list(set(explored_indexes))\n",
    "        \n",
    "        one_point = points[node_number]\n",
    "        explored_indexes.append(node_number)\n",
    "    \n",
    "        neighbor_distances = length_distance(one_point, points)\n",
    "        neighbor_idx = np.argsort(neighbor_distances)\n",
    "        parent_idx = np.array([node_number]*points_count)[:, np.newaxis]\n",
    "        sorted_neighbors = np.hstack((parent_idx, neighbor_idx[:, np.newaxis], neighbor_distances[neighbor_idx][:, np.newaxis]))[:neighbors_to_account]\n",
    "    \n",
    "        distance_matrix = np.vstack((distance_matrix, sorted_neighbors))\n",
    "        \n",
    "        mask = np.logical_not(np.isin(distance_matrix[:, 1], explored_indexes))\n",
    "        distance_matrix = distance_matrix[mask]\n",
    "    \n",
    "        if not distance_matrix.size:\n",
    "            neighbors_to_account *= 2\n",
    "            continue\n",
    "\n",
    "        distance_matrix = distance_matrix[np.argsort(distance_matrix[:, 2])] ## sort by distance\n",
    "\n",
    "\n",
    "        if distance_matrix.shape[0] > max_size:\n",
    "            max_size = distance_matrix.shape[0]\n",
    "    \n",
    "        ## Add to graph\n",
    "        parent_node = int(distance_matrix[0][0])\n",
    "        neighbor_node = int(distance_matrix[0][1])\n",
    "        \n",
    "        explored_path[parent_node].append(neighbor_node)\n",
    "        explored_path[neighbor_node].append(parent_node)\n",
    "        \n",
    "        ## Explore next node\n",
    "        node_number = neighbor_node\n",
    "        tbar.update(1)\n",
    "\n",
    "        # if len(set(explored_indexes)) ==2:\n",
    "        #     break\n",
    "print(len(set(explored_indexes)))     "
   ]
  },
  {
   "cell_type": "code",
   "execution_count": 62,
   "id": "9f11ba42-3b4e-454c-ae22-3da86a063327",
   "metadata": {},
   "outputs": [
    {
     "data": {
      "application/vnd.jupyter.widget-view+json": {
       "model_id": "64658f4e14bf4b2e92d9fbf7909415cf",
       "version_major": 2,
       "version_minor": 0
      },
      "text/plain": [
       "  0%|          | 0/51 [00:00<?, ?it/s]"
      ]
     },
     "metadata": {},
     "output_type": "display_data"
    }
   ],
   "source": [
    "DISTANCE_MATRIX = np.zeros((nodeCount, nodeCount))\n",
    "for i in tqdm(range(len(points))):\n",
    "    DISTANCE_MATRIX[i] = length_distance(points[i], points)"
   ]
  },
  {
   "cell_type": "code",
   "execution_count": 63,
   "id": "edeec3fb-6657-421e-8168-8388059dae7a",
   "metadata": {},
   "outputs": [],
   "source": [
    "odd_indexes = []\n",
    "\n",
    "for idx, connections in enumerate(explored_path):\n",
    "\n",
    "    if len(connections)%2 == 1:\n",
    "        odd_indexes.append(idx)"
   ]
  },
  {
   "cell_type": "code",
   "execution_count": 13,
   "id": "9b08349a-522b-4787-a255-f4749a6dd535",
   "metadata": {},
   "outputs": [],
   "source": [
    "odd_indexes_neighbors = [[] for _ in range(nodeCount)]\n",
    "\n",
    "for node in odd_indexes:\n",
    "    mask = np.isin(np.argsort(DISTANCE_MATRIX[node]), odd_indexes)\n",
    "    odd_indexes_neighbors[node] = np.argsort(DISTANCE_MATRIX[node])[mask][1:3]"
   ]
  },
  {
   "cell_type": "code",
   "execution_count": 14,
   "id": "2ca8060e-54e2-4e01-abc6-3faaf15caf3a",
   "metadata": {},
   "outputs": [
    {
     "data": {
      "application/vnd.jupyter.widget-view+json": {
       "model_id": "a1483c9b835d4bb9943721544e88af08",
       "version_major": 2,
       "version_minor": 0
      },
      "text/plain": [
       "  0%|          | 0/1000 [00:00<?, ?it/s]"
      ]
     },
     "metadata": {},
     "output_type": "display_data"
    }
   ],
   "source": [
    "for _ in tqdm(range(1000)):\n",
    "    \n",
    "    temp = deepcopy(odd_indexes)\n",
    "    joined_path = deepcopy(explored_path)\n",
    "    \n",
    "    net_pair_distance = 0\n",
    "    \n",
    "    best_distance = float('inf')\n",
    "    best_path = []\n",
    "    \n",
    "    while len(temp) > 0:\n",
    "    \n",
    "        node = temp.pop(0)\n",
    "        next_node = random.choice(odd_indexes_neighbors[node])\n",
    "    \n",
    "        net_pair_distance += DISTANCE_MATRIX[node][next_node]\n",
    "        \n",
    "        if next_node not in joined_path[node]:\n",
    "            joined_path[node].append(next_node)\n",
    "    \n",
    "        if next_node in temp:\n",
    "            temp.remove(next_node)\n",
    "\n",
    "    if net_pair_distance < best_distance:\n",
    "        best_distance = net_pair_distance\n",
    "        best_path = deepcopy(joined_path)"
   ]
  },
  {
   "cell_type": "code",
   "execution_count": 15,
   "id": "f27a09dc-6211-42d5-a1b1-f85945f6e284",
   "metadata": {},
   "outputs": [
    {
     "data": {
      "text/plain": [
       "192.87928484771578"
      ]
     },
     "execution_count": 15,
     "metadata": {},
     "output_type": "execute_result"
    }
   ],
   "source": [
    "best_distance"
   ]
  },
  {
   "cell_type": "code",
   "execution_count": 16,
   "id": "609758be-95e7-4142-bcbb-d1b671323de4",
   "metadata": {},
   "outputs": [
    {
     "data": {
      "text/plain": [
       "[44]"
      ]
     },
     "execution_count": 16,
     "metadata": {},
     "output_type": "execute_result"
    }
   ],
   "source": [
    "joined_path[14]"
   ]
  },
  {
   "cell_type": "code",
   "execution_count": 65,
   "id": "9cc21f3b-ee8d-4e32-b561-3b60d854caf2",
   "metadata": {},
   "outputs": [
    {
     "data": {
      "application/vnd.jupyter.widget-view+json": {
       "model_id": "622c1155d6364f9c8f9e83882edcb55e",
       "version_major": 2,
       "version_minor": 0
      },
      "text/plain": [
       "0it [00:00, ?it/s]"
      ]
     },
     "metadata": {},
     "output_type": "display_data"
    }
   ],
   "source": [
    "edge_x = []\n",
    "edge_y = []\n",
    "\n",
    "for idx, connections in tqdm(enumerate(explored_path)):\n",
    "    \n",
    "    x0, y0 = points[idx]\n",
    "    \n",
    "    for connect in connections:\n",
    "        x1, y1 = points[connect]\n",
    "    \n",
    "        edge_x.append(x0)\n",
    "        edge_x.append(x1)\n",
    "        edge_x.append(None)\n",
    "        \n",
    "        edge_y.append(y0)\n",
    "        edge_y.append(y1)\n",
    "        edge_y.append(None)\n"
   ]
  },
  {
   "cell_type": "code",
   "execution_count": 66,
   "id": "413770ef-56d9-47c0-8ddb-206468766f87",
   "metadata": {},
   "outputs": [
    {
     "data": {
      "application/vnd.plotly.v1+json": {
       "config": {
        "plotlyServerURL": "https://plot.ly"
       },
       "data": [
        {
         "mode": "markers+lines",
         "type": "scattergl",
         "x": [
          27,
          31,
          null,
          30,
          25,
          null,
          30,
          30,
          null,
          30,
          37,
          null,
          43,
          37,
          null,
          43,
          52,
          null,
          58,
          62,
          null,
          58,
          61,
          null,
          37,
          31,
          null,
          37,
          43,
          null,
          38,
          37,
          null,
          38,
          42,
          null,
          46,
          39,
          null,
          61,
          56,
          null,
          61,
          58,
          null,
          62,
          57,
          null,
          62,
          63,
          null,
          63,
          62,
          null,
          32,
          27,
          null,
          32,
          36,
          null,
          45,
          42,
          null,
          45,
          40,
          null,
          45,
          52,
          null,
          59,
          51,
          null,
          5,
          13,
          null,
          10,
          13,
          null,
          10,
          5,
          null,
          21,
          30,
          null,
          21,
          13,
          null,
          5,
          17,
          null,
          30,
          36,
          null,
          30,
          21,
          null,
          39,
          36,
          null,
          39,
          46,
          null,
          32,
          30,
          null,
          32,
          31,
          null,
          25,
          31,
          null,
          25,
          20,
          null,
          25,
          31,
          null,
          25,
          30,
          null,
          25,
          21,
          null,
          25,
          16,
          null,
          48,
          52,
          null,
          48,
          51,
          null,
          56,
          52,
          null,
          56,
          52,
          null,
          56,
          61,
          null,
          56,
          62,
          null,
          30,
          30,
          null,
          30,
          32,
          null,
          37,
          30,
          null,
          37,
          38,
          null,
          37,
          42,
          null,
          49,
          52,
          null,
          52,
          43,
          null,
          52,
          57,
          null,
          20,
          25,
          null,
          20,
          17,
          null,
          20,
          27,
          null,
          40,
          45,
          null,
          21,
          25,
          null,
          17,
          16,
          null,
          17,
          5,
          null,
          31,
          27,
          null,
          31,
          37,
          null,
          31,
          25,
          null,
          52,
          45,
          null,
          52,
          56,
          null,
          52,
          48,
          null,
          51,
          48,
          null,
          51,
          59,
          null,
          42,
          38,
          null,
          42,
          45,
          null,
          31,
          32,
          null,
          31,
          25,
          null,
          5,
          10,
          null,
          12,
          17,
          null,
          12,
          7,
          null,
          36,
          32,
          null,
          36,
          30,
          null,
          36,
          39,
          null,
          52,
          56,
          null,
          52,
          49,
          null,
          27,
          20,
          null,
          27,
          32,
          null,
          17,
          20,
          null,
          17,
          12,
          null,
          13,
          21,
          null,
          13,
          10,
          null,
          13,
          5,
          null,
          57,
          52,
          null,
          57,
          62,
          null,
          62,
          56,
          null,
          62,
          58,
          null,
          42,
          37,
          null,
          16,
          25,
          null,
          16,
          17,
          null,
          16,
          8,
          null,
          8,
          16,
          null,
          7,
          12,
          null
         ],
         "y": [
          68,
          62,
          null,
          48,
          55,
          null,
          48,
          40,
          null,
          48,
          52,
          null,
          67,
          69,
          null,
          67,
          64,
          null,
          48,
          42,
          null,
          27,
          33,
          null,
          69,
          62,
          null,
          69,
          67,
          null,
          46,
          52,
          null,
          46,
          41,
          null,
          10,
          10,
          null,
          33,
          37,
          null,
          33,
          27,
          null,
          63,
          58,
          null,
          63,
          69,
          null,
          69,
          63,
          null,
          22,
          23,
          null,
          22,
          16,
          null,
          35,
          41,
          null,
          35,
          30,
          null,
          35,
          33,
          null,
          15,
          21,
          null,
          6,
          13,
          null,
          17,
          13,
          null,
          17,
          25,
          null,
          10,
          15,
          null,
          10,
          13,
          null,
          64,
          63,
          null,
          15,
          16,
          null,
          15,
          10,
          null,
          10,
          16,
          null,
          10,
          10,
          null,
          39,
          40,
          null,
          39,
          32,
          null,
          32,
          32,
          null,
          32,
          26,
          null,
          55,
          62,
          null,
          55,
          48,
          null,
          55,
          47,
          null,
          55,
          57,
          null,
          28,
          33,
          null,
          28,
          21,
          null,
          37,
          33,
          null,
          37,
          41,
          null,
          37,
          33,
          null,
          37,
          42,
          null,
          40,
          48,
          null,
          40,
          39,
          null,
          52,
          48,
          null,
          52,
          46,
          null,
          52,
          57,
          null,
          49,
          41,
          null,
          64,
          67,
          null,
          64,
          58,
          null,
          26,
          32,
          null,
          26,
          33,
          null,
          26,
          23,
          null,
          30,
          35,
          null,
          47,
          55,
          null,
          63,
          57,
          null,
          63,
          64,
          null,
          62,
          68,
          null,
          62,
          69,
          null,
          62,
          55,
          null,
          33,
          35,
          null,
          33,
          37,
          null,
          33,
          28,
          null,
          21,
          28,
          null,
          21,
          15,
          null,
          41,
          46,
          null,
          41,
          35,
          null,
          32,
          39,
          null,
          32,
          32,
          null,
          25,
          17,
          null,
          42,
          33,
          null,
          42,
          38,
          null,
          16,
          22,
          null,
          16,
          15,
          null,
          16,
          10,
          null,
          41,
          37,
          null,
          41,
          49,
          null,
          23,
          26,
          null,
          23,
          22,
          null,
          33,
          26,
          null,
          33,
          42,
          null,
          13,
          10,
          null,
          13,
          17,
          null,
          13,
          6,
          null,
          58,
          64,
          null,
          58,
          63,
          null,
          42,
          37,
          null,
          42,
          48,
          null,
          57,
          52,
          null,
          57,
          55,
          null,
          57,
          63,
          null,
          57,
          52,
          null,
          52,
          57,
          null,
          38,
          42,
          null
         ]
        }
       ],
       "layout": {
        "autosize": true,
        "template": {
         "data": {
          "bar": [
           {
            "error_x": {
             "color": "#2a3f5f"
            },
            "error_y": {
             "color": "#2a3f5f"
            },
            "marker": {
             "line": {
              "color": "#E5ECF6",
              "width": 0.5
             },
             "pattern": {
              "fillmode": "overlay",
              "size": 10,
              "solidity": 0.2
             }
            },
            "type": "bar"
           }
          ],
          "barpolar": [
           {
            "marker": {
             "line": {
              "color": "#E5ECF6",
              "width": 0.5
             },
             "pattern": {
              "fillmode": "overlay",
              "size": 10,
              "solidity": 0.2
             }
            },
            "type": "barpolar"
           }
          ],
          "carpet": [
           {
            "aaxis": {
             "endlinecolor": "#2a3f5f",
             "gridcolor": "white",
             "linecolor": "white",
             "minorgridcolor": "white",
             "startlinecolor": "#2a3f5f"
            },
            "baxis": {
             "endlinecolor": "#2a3f5f",
             "gridcolor": "white",
             "linecolor": "white",
             "minorgridcolor": "white",
             "startlinecolor": "#2a3f5f"
            },
            "type": "carpet"
           }
          ],
          "choropleth": [
           {
            "colorbar": {
             "outlinewidth": 0,
             "ticks": ""
            },
            "type": "choropleth"
           }
          ],
          "contour": [
           {
            "colorbar": {
             "outlinewidth": 0,
             "ticks": ""
            },
            "colorscale": [
             [
              0,
              "#0d0887"
             ],
             [
              0.1111111111111111,
              "#46039f"
             ],
             [
              0.2222222222222222,
              "#7201a8"
             ],
             [
              0.3333333333333333,
              "#9c179e"
             ],
             [
              0.4444444444444444,
              "#bd3786"
             ],
             [
              0.5555555555555556,
              "#d8576b"
             ],
             [
              0.6666666666666666,
              "#ed7953"
             ],
             [
              0.7777777777777778,
              "#fb9f3a"
             ],
             [
              0.8888888888888888,
              "#fdca26"
             ],
             [
              1,
              "#f0f921"
             ]
            ],
            "type": "contour"
           }
          ],
          "contourcarpet": [
           {
            "colorbar": {
             "outlinewidth": 0,
             "ticks": ""
            },
            "type": "contourcarpet"
           }
          ],
          "heatmap": [
           {
            "colorbar": {
             "outlinewidth": 0,
             "ticks": ""
            },
            "colorscale": [
             [
              0,
              "#0d0887"
             ],
             [
              0.1111111111111111,
              "#46039f"
             ],
             [
              0.2222222222222222,
              "#7201a8"
             ],
             [
              0.3333333333333333,
              "#9c179e"
             ],
             [
              0.4444444444444444,
              "#bd3786"
             ],
             [
              0.5555555555555556,
              "#d8576b"
             ],
             [
              0.6666666666666666,
              "#ed7953"
             ],
             [
              0.7777777777777778,
              "#fb9f3a"
             ],
             [
              0.8888888888888888,
              "#fdca26"
             ],
             [
              1,
              "#f0f921"
             ]
            ],
            "type": "heatmap"
           }
          ],
          "heatmapgl": [
           {
            "colorbar": {
             "outlinewidth": 0,
             "ticks": ""
            },
            "colorscale": [
             [
              0,
              "#0d0887"
             ],
             [
              0.1111111111111111,
              "#46039f"
             ],
             [
              0.2222222222222222,
              "#7201a8"
             ],
             [
              0.3333333333333333,
              "#9c179e"
             ],
             [
              0.4444444444444444,
              "#bd3786"
             ],
             [
              0.5555555555555556,
              "#d8576b"
             ],
             [
              0.6666666666666666,
              "#ed7953"
             ],
             [
              0.7777777777777778,
              "#fb9f3a"
             ],
             [
              0.8888888888888888,
              "#fdca26"
             ],
             [
              1,
              "#f0f921"
             ]
            ],
            "type": "heatmapgl"
           }
          ],
          "histogram": [
           {
            "marker": {
             "pattern": {
              "fillmode": "overlay",
              "size": 10,
              "solidity": 0.2
             }
            },
            "type": "histogram"
           }
          ],
          "histogram2d": [
           {
            "colorbar": {
             "outlinewidth": 0,
             "ticks": ""
            },
            "colorscale": [
             [
              0,
              "#0d0887"
             ],
             [
              0.1111111111111111,
              "#46039f"
             ],
             [
              0.2222222222222222,
              "#7201a8"
             ],
             [
              0.3333333333333333,
              "#9c179e"
             ],
             [
              0.4444444444444444,
              "#bd3786"
             ],
             [
              0.5555555555555556,
              "#d8576b"
             ],
             [
              0.6666666666666666,
              "#ed7953"
             ],
             [
              0.7777777777777778,
              "#fb9f3a"
             ],
             [
              0.8888888888888888,
              "#fdca26"
             ],
             [
              1,
              "#f0f921"
             ]
            ],
            "type": "histogram2d"
           }
          ],
          "histogram2dcontour": [
           {
            "colorbar": {
             "outlinewidth": 0,
             "ticks": ""
            },
            "colorscale": [
             [
              0,
              "#0d0887"
             ],
             [
              0.1111111111111111,
              "#46039f"
             ],
             [
              0.2222222222222222,
              "#7201a8"
             ],
             [
              0.3333333333333333,
              "#9c179e"
             ],
             [
              0.4444444444444444,
              "#bd3786"
             ],
             [
              0.5555555555555556,
              "#d8576b"
             ],
             [
              0.6666666666666666,
              "#ed7953"
             ],
             [
              0.7777777777777778,
              "#fb9f3a"
             ],
             [
              0.8888888888888888,
              "#fdca26"
             ],
             [
              1,
              "#f0f921"
             ]
            ],
            "type": "histogram2dcontour"
           }
          ],
          "mesh3d": [
           {
            "colorbar": {
             "outlinewidth": 0,
             "ticks": ""
            },
            "type": "mesh3d"
           }
          ],
          "parcoords": [
           {
            "line": {
             "colorbar": {
              "outlinewidth": 0,
              "ticks": ""
             }
            },
            "type": "parcoords"
           }
          ],
          "pie": [
           {
            "automargin": true,
            "type": "pie"
           }
          ],
          "scatter": [
           {
            "fillpattern": {
             "fillmode": "overlay",
             "size": 10,
             "solidity": 0.2
            },
            "type": "scatter"
           }
          ],
          "scatter3d": [
           {
            "line": {
             "colorbar": {
              "outlinewidth": 0,
              "ticks": ""
             }
            },
            "marker": {
             "colorbar": {
              "outlinewidth": 0,
              "ticks": ""
             }
            },
            "type": "scatter3d"
           }
          ],
          "scattercarpet": [
           {
            "marker": {
             "colorbar": {
              "outlinewidth": 0,
              "ticks": ""
             }
            },
            "type": "scattercarpet"
           }
          ],
          "scattergeo": [
           {
            "marker": {
             "colorbar": {
              "outlinewidth": 0,
              "ticks": ""
             }
            },
            "type": "scattergeo"
           }
          ],
          "scattergl": [
           {
            "marker": {
             "colorbar": {
              "outlinewidth": 0,
              "ticks": ""
             }
            },
            "type": "scattergl"
           }
          ],
          "scattermapbox": [
           {
            "marker": {
             "colorbar": {
              "outlinewidth": 0,
              "ticks": ""
             }
            },
            "type": "scattermapbox"
           }
          ],
          "scatterpolar": [
           {
            "marker": {
             "colorbar": {
              "outlinewidth": 0,
              "ticks": ""
             }
            },
            "type": "scatterpolar"
           }
          ],
          "scatterpolargl": [
           {
            "marker": {
             "colorbar": {
              "outlinewidth": 0,
              "ticks": ""
             }
            },
            "type": "scatterpolargl"
           }
          ],
          "scatterternary": [
           {
            "marker": {
             "colorbar": {
              "outlinewidth": 0,
              "ticks": ""
             }
            },
            "type": "scatterternary"
           }
          ],
          "surface": [
           {
            "colorbar": {
             "outlinewidth": 0,
             "ticks": ""
            },
            "colorscale": [
             [
              0,
              "#0d0887"
             ],
             [
              0.1111111111111111,
              "#46039f"
             ],
             [
              0.2222222222222222,
              "#7201a8"
             ],
             [
              0.3333333333333333,
              "#9c179e"
             ],
             [
              0.4444444444444444,
              "#bd3786"
             ],
             [
              0.5555555555555556,
              "#d8576b"
             ],
             [
              0.6666666666666666,
              "#ed7953"
             ],
             [
              0.7777777777777778,
              "#fb9f3a"
             ],
             [
              0.8888888888888888,
              "#fdca26"
             ],
             [
              1,
              "#f0f921"
             ]
            ],
            "type": "surface"
           }
          ],
          "table": [
           {
            "cells": {
             "fill": {
              "color": "#EBF0F8"
             },
             "line": {
              "color": "white"
             }
            },
            "header": {
             "fill": {
              "color": "#C8D4E3"
             },
             "line": {
              "color": "white"
             }
            },
            "type": "table"
           }
          ]
         },
         "layout": {
          "annotationdefaults": {
           "arrowcolor": "#2a3f5f",
           "arrowhead": 0,
           "arrowwidth": 1
          },
          "autotypenumbers": "strict",
          "coloraxis": {
           "colorbar": {
            "outlinewidth": 0,
            "ticks": ""
           }
          },
          "colorscale": {
           "diverging": [
            [
             0,
             "#8e0152"
            ],
            [
             0.1,
             "#c51b7d"
            ],
            [
             0.2,
             "#de77ae"
            ],
            [
             0.3,
             "#f1b6da"
            ],
            [
             0.4,
             "#fde0ef"
            ],
            [
             0.5,
             "#f7f7f7"
            ],
            [
             0.6,
             "#e6f5d0"
            ],
            [
             0.7,
             "#b8e186"
            ],
            [
             0.8,
             "#7fbc41"
            ],
            [
             0.9,
             "#4d9221"
            ],
            [
             1,
             "#276419"
            ]
           ],
           "sequential": [
            [
             0,
             "#0d0887"
            ],
            [
             0.1111111111111111,
             "#46039f"
            ],
            [
             0.2222222222222222,
             "#7201a8"
            ],
            [
             0.3333333333333333,
             "#9c179e"
            ],
            [
             0.4444444444444444,
             "#bd3786"
            ],
            [
             0.5555555555555556,
             "#d8576b"
            ],
            [
             0.6666666666666666,
             "#ed7953"
            ],
            [
             0.7777777777777778,
             "#fb9f3a"
            ],
            [
             0.8888888888888888,
             "#fdca26"
            ],
            [
             1,
             "#f0f921"
            ]
           ],
           "sequentialminus": [
            [
             0,
             "#0d0887"
            ],
            [
             0.1111111111111111,
             "#46039f"
            ],
            [
             0.2222222222222222,
             "#7201a8"
            ],
            [
             0.3333333333333333,
             "#9c179e"
            ],
            [
             0.4444444444444444,
             "#bd3786"
            ],
            [
             0.5555555555555556,
             "#d8576b"
            ],
            [
             0.6666666666666666,
             "#ed7953"
            ],
            [
             0.7777777777777778,
             "#fb9f3a"
            ],
            [
             0.8888888888888888,
             "#fdca26"
            ],
            [
             1,
             "#f0f921"
            ]
           ]
          },
          "colorway": [
           "#636efa",
           "#EF553B",
           "#00cc96",
           "#ab63fa",
           "#FFA15A",
           "#19d3f3",
           "#FF6692",
           "#B6E880",
           "#FF97FF",
           "#FECB52"
          ],
          "font": {
           "color": "#2a3f5f"
          },
          "geo": {
           "bgcolor": "white",
           "lakecolor": "white",
           "landcolor": "#E5ECF6",
           "showlakes": true,
           "showland": true,
           "subunitcolor": "white"
          },
          "hoverlabel": {
           "align": "left"
          },
          "hovermode": "closest",
          "mapbox": {
           "style": "light"
          },
          "paper_bgcolor": "white",
          "plot_bgcolor": "#E5ECF6",
          "polar": {
           "angularaxis": {
            "gridcolor": "white",
            "linecolor": "white",
            "ticks": ""
           },
           "bgcolor": "#E5ECF6",
           "radialaxis": {
            "gridcolor": "white",
            "linecolor": "white",
            "ticks": ""
           }
          },
          "scene": {
           "xaxis": {
            "backgroundcolor": "#E5ECF6",
            "gridcolor": "white",
            "gridwidth": 2,
            "linecolor": "white",
            "showbackground": true,
            "ticks": "",
            "zerolinecolor": "white"
           },
           "yaxis": {
            "backgroundcolor": "#E5ECF6",
            "gridcolor": "white",
            "gridwidth": 2,
            "linecolor": "white",
            "showbackground": true,
            "ticks": "",
            "zerolinecolor": "white"
           },
           "zaxis": {
            "backgroundcolor": "#E5ECF6",
            "gridcolor": "white",
            "gridwidth": 2,
            "linecolor": "white",
            "showbackground": true,
            "ticks": "",
            "zerolinecolor": "white"
           }
          },
          "shapedefaults": {
           "line": {
            "color": "#2a3f5f"
           }
          },
          "ternary": {
           "aaxis": {
            "gridcolor": "white",
            "linecolor": "white",
            "ticks": ""
           },
           "baxis": {
            "gridcolor": "white",
            "linecolor": "white",
            "ticks": ""
           },
           "bgcolor": "#E5ECF6",
           "caxis": {
            "gridcolor": "white",
            "linecolor": "white",
            "ticks": ""
           }
          },
          "title": {
           "x": 0.05
          },
          "xaxis": {
           "automargin": true,
           "gridcolor": "white",
           "linecolor": "white",
           "ticks": "",
           "title": {
            "standoff": 15
           },
           "zerolinecolor": "white",
           "zerolinewidth": 2
          },
          "yaxis": {
           "automargin": true,
           "gridcolor": "white",
           "linecolor": "white",
           "ticks": "",
           "title": {
            "standoff": 15
           },
           "zerolinecolor": "white",
           "zerolinewidth": 2
          }
         }
        },
        "xaxis": {
         "autorange": true,
         "range": [
          1.489873719323326,
          66.51012628067667
         ],
         "type": "linear"
        },
        "yaxis": {
         "autorange": true,
         "range": [
          1.9807121661721068,
          73.01928783382789
         ],
         "type": "linear"
        }
       }
      },
      "image/png": "[encoded data removed]",
      "text/html": [
       "<div>                            <div id=\"e033dd45-e6b1-4bed-ae7b-d944046f8651\" class=\"plotly-graph-div\" style=\"height:750px; width:100%;\"></div>            <script type=\"text/javascript\">                require([\"plotly\"], function(Plotly) {                    window.PLOTLYENV=window.PLOTLYENV || {};                                    if (document.getElementById(\"e033dd45-e6b1-4bed-ae7b-d944046f8651\")) {                    Plotly.newPlot(                        \"e033dd45-e6b1-4bed-ae7b-d944046f8651\",                        [{\"mode\":\"markers+lines\",\"x\":[27.0,31.0,null,30.0,25.0,null,30.0,30.0,null,30.0,37.0,null,43.0,37.0,null,43.0,52.0,null,58.0,62.0,null,58.0,61.0,null,37.0,31.0,null,37.0,43.0,null,38.0,37.0,null,38.0,42.0,null,46.0,39.0,null,61.0,56.0,null,61.0,58.0,null,62.0,57.0,null,62.0,63.0,null,63.0,62.0,null,32.0,27.0,null,32.0,36.0,null,45.0,42.0,null,45.0,40.0,null,45.0,52.0,null,59.0,51.0,null,5.0,13.0,null,10.0,13.0,null,10.0,5.0,null,21.0,30.0,null,21.0,13.0,null,5.0,17.0,null,30.0,36.0,null,30.0,21.0,null,39.0,36.0,null,39.0,46.0,null,32.0,30.0,null,32.0,31.0,null,25.0,31.0,null,25.0,20.0,null,25.0,31.0,null,25.0,30.0,null,25.0,21.0,null,25.0,16.0,null,48.0,52.0,null,48.0,51.0,null,56.0,52.0,null,56.0,52.0,null,56.0,61.0,null,56.0,62.0,null,30.0,30.0,null,30.0,32.0,null,37.0,30.0,null,37.0,38.0,null,37.0,42.0,null,49.0,52.0,null,52.0,43.0,null,52.0,57.0,null,20.0,25.0,null,20.0,17.0,null,20.0,27.0,null,40.0,45.0,null,21.0,25.0,null,17.0,16.0,null,17.0,5.0,null,31.0,27.0,null,31.0,37.0,null,31.0,25.0,null,52.0,45.0,null,52.0,56.0,null,52.0,48.0,null,51.0,48.0,null,51.0,59.0,null,42.0,38.0,null,42.0,45.0,null,31.0,32.0,null,31.0,25.0,null,5.0,10.0,null,12.0,17.0,null,12.0,7.0,null,36.0,32.0,null,36.0,30.0,null,36.0,39.0,null,52.0,56.0,null,52.0,49.0,null,27.0,20.0,null,27.0,32.0,null,17.0,20.0,null,17.0,12.0,null,13.0,21.0,null,13.0,10.0,null,13.0,5.0,null,57.0,52.0,null,57.0,62.0,null,62.0,56.0,null,62.0,58.0,null,42.0,37.0,null,16.0,25.0,null,16.0,17.0,null,16.0,8.0,null,8.0,16.0,null,7.0,12.0,null],\"y\":[68.0,62.0,null,48.0,55.0,null,48.0,40.0,null,48.0,52.0,null,67.0,69.0,null,67.0,64.0,null,48.0,42.0,null,27.0,33.0,null,69.0,62.0,null,69.0,67.0,null,46.0,52.0,null,46.0,41.0,null,10.0,10.0,null,33.0,37.0,null,33.0,27.0,null,63.0,58.0,null,63.0,69.0,null,69.0,63.0,null,22.0,23.0,null,22.0,16.0,null,35.0,41.0,null,35.0,30.0,null,35.0,33.0,null,15.0,21.0,null,6.0,13.0,null,17.0,13.0,null,17.0,25.0,null,10.0,15.0,null,10.0,13.0,null,64.0,63.0,null,15.0,16.0,null,15.0,10.0,null,10.0,16.0,null,10.0,10.0,null,39.0,40.0,null,39.0,32.0,null,32.0,32.0,null,32.0,26.0,null,55.0,62.0,null,55.0,48.0,null,55.0,47.0,null,55.0,57.0,null,28.0,33.0,null,28.0,21.0,null,37.0,33.0,null,37.0,41.0,null,37.0,33.0,null,37.0,42.0,null,40.0,48.0,null,40.0,39.0,null,52.0,48.0,null,52.0,46.0,null,52.0,57.0,null,49.0,41.0,null,64.0,67.0,null,64.0,58.0,null,26.0,32.0,null,26.0,33.0,null,26.0,23.0,null,30.0,35.0,null,47.0,55.0,null,63.0,57.0,null,63.0,64.0,null,62.0,68.0,null,62.0,69.0,null,62.0,55.0,null,33.0,35.0,null,33.0,37.0,null,33.0,28.0,null,21.0,28.0,null,21.0,15.0,null,41.0,46.0,null,41.0,35.0,null,32.0,39.0,null,32.0,32.0,null,25.0,17.0,null,42.0,33.0,null,42.0,38.0,null,16.0,22.0,null,16.0,15.0,null,16.0,10.0,null,41.0,37.0,null,41.0,49.0,null,23.0,26.0,null,23.0,22.0,null,33.0,26.0,null,33.0,42.0,null,13.0,10.0,null,13.0,17.0,null,13.0,6.0,null,58.0,64.0,null,58.0,63.0,null,42.0,37.0,null,42.0,48.0,null,57.0,52.0,null,57.0,55.0,null,57.0,63.0,null,57.0,52.0,null,52.0,57.0,null,38.0,42.0,null],\"type\":\"scattergl\"}],                        {\"template\":{\"data\":{\"histogram2dcontour\":[{\"type\":\"histogram2dcontour\",\"colorbar\":{\"outlinewidth\":0,\"ticks\":\"\"},\"colorscale\":[[0.0,\"#0d0887\"],[0.1111111111111111,\"#46039f\"],[0.2222222222222222,\"#7201a8\"],[0.3333333333333333,\"#9c179e\"],[0.4444444444444444,\"#bd3786\"],[0.5555555555555556,\"#d8576b\"],[0.6666666666666666,\"#ed7953\"],[0.7777777777777778,\"#fb9f3a\"],[0.8888888888888888,\"#fdca26\"],[1.0,\"#f0f921\"]]}],\"choropleth\":[{\"type\":\"choropleth\",\"colorbar\":{\"outlinewidth\":0,\"ticks\":\"\"}}],\"histogram2d\":[{\"type\":\"histogram2d\",\"colorbar\":{\"outlinewidth\":0,\"ticks\":\"\"},\"colorscale\":[[0.0,\"#0d0887\"],[0.1111111111111111,\"#46039f\"],[0.2222222222222222,\"#7201a8\"],[0.3333333333333333,\"#9c179e\"],[0.4444444444444444,\"#bd3786\"],[0.5555555555555556,\"#d8576b\"],[0.6666666666666666,\"#ed7953\"],[0.7777777777777778,\"#fb9f3a\"],[0.8888888888888888,\"#fdca26\"],[1.0,\"#f0f921\"]]}],\"heatmap\":[{\"type\":\"heatmap\",\"colorbar\":{\"outlinewidth\":0,\"ticks\":\"\"},\"colorscale\":[[0.0,\"#0d0887\"],[0.1111111111111111,\"#46039f\"],[0.2222222222222222,\"#7201a8\"],[0.3333333333333333,\"#9c179e\"],[0.4444444444444444,\"#bd3786\"],[0.5555555555555556,\"#d8576b\"],[0.6666666666666666,\"#ed7953\"],[0.7777777777777778,\"#fb9f3a\"],[0.8888888888888888,\"#fdca26\"],[1.0,\"#f0f921\"]]}],\"heatmapgl\":[{\"type\":\"heatmapgl\",\"colorbar\":{\"outlinewidth\":0,\"ticks\":\"\"},\"colorscale\":[[0.0,\"#0d0887\"],[0.1111111111111111,\"#46039f\"],[0.2222222222222222,\"#7201a8\"],[0.3333333333333333,\"#9c179e\"],[0.4444444444444444,\"#bd3786\"],[0.5555555555555556,\"#d8576b\"],[0.6666666666666666,\"#ed7953\"],[0.7777777777777778,\"#fb9f3a\"],[0.8888888888888888,\"#fdca26\"],[1.0,\"#f0f921\"]]}],\"contourcarpet\":[{\"type\":\"contourcarpet\",\"colorbar\":{\"outlinewidth\":0,\"ticks\":\"\"}}],\"contour\":[{\"type\":\"contour\",\"colorbar\":{\"outlinewidth\":0,\"ticks\":\"\"},\"colorscale\":[[0.0,\"#0d0887\"],[0.1111111111111111,\"#46039f\"],[0.2222222222222222,\"#7201a8\"],[0.3333333333333333,\"#9c179e\"],[0.4444444444444444,\"#bd3786\"],[0.5555555555555556,\"#d8576b\"],[0.6666666666666666,\"#ed7953\"],[0.7777777777777778,\"#fb9f3a\"],[0.8888888888888888,\"#fdca26\"],[1.0,\"#f0f921\"]]}],\"surface\":[{\"type\":\"surface\",\"colorbar\":{\"outlinewidth\":0,\"ticks\":\"\"},\"colorscale\":[[0.0,\"#0d0887\"],[0.1111111111111111,\"#46039f\"],[0.2222222222222222,\"#7201a8\"],[0.3333333333333333,\"#9c179e\"],[0.4444444444444444,\"#bd3786\"],[0.5555555555555556,\"#d8576b\"],[0.6666666666666666,\"#ed7953\"],[0.7777777777777778,\"#fb9f3a\"],[0.8888888888888888,\"#fdca26\"],[1.0,\"#f0f921\"]]}],\"mesh3d\":[{\"type\":\"mesh3d\",\"colorbar\":{\"outlinewidth\":0,\"ticks\":\"\"}}],\"scatter\":[{\"fillpattern\":{\"fillmode\":\"overlay\",\"size\":10,\"solidity\":0.2},\"type\":\"scatter\"}],\"parcoords\":[{\"type\":\"parcoords\",\"line\":{\"colorbar\":{\"outlinewidth\":0,\"ticks\":\"\"}}}],\"scatterpolargl\":[{\"type\":\"scatterpolargl\",\"marker\":{\"colorbar\":{\"outlinewidth\":0,\"ticks\":\"\"}}}],\"bar\":[{\"error_x\":{\"color\":\"#2a3f5f\"},\"error_y\":{\"color\":\"#2a3f5f\"},\"marker\":{\"line\":{\"color\":\"#E5ECF6\",\"width\":0.5},\"pattern\":{\"fillmode\":\"overlay\",\"size\":10,\"solidity\":0.2}},\"type\":\"bar\"}],\"scattergeo\":[{\"type\":\"scattergeo\",\"marker\":{\"colorbar\":{\"outlinewidth\":0,\"ticks\":\"\"}}}],\"scatterpolar\":[{\"type\":\"scatterpolar\",\"marker\":{\"colorbar\":{\"outlinewidth\":0,\"ticks\":\"\"}}}],\"histogram\":[{\"marker\":{\"pattern\":{\"fillmode\":\"overlay\",\"size\":10,\"solidity\":0.2}},\"type\":\"histogram\"}],\"scattergl\":[{\"type\":\"scattergl\",\"marker\":{\"colorbar\":{\"outlinewidth\":0,\"ticks\":\"\"}}}],\"scatter3d\":[{\"type\":\"scatter3d\",\"line\":{\"colorbar\":{\"outlinewidth\":0,\"ticks\":\"\"}},\"marker\":{\"colorbar\":{\"outlinewidth\":0,\"ticks\":\"\"}}}],\"scattermapbox\":[{\"type\":\"scattermapbox\",\"marker\":{\"colorbar\":{\"outlinewidth\":0,\"ticks\":\"\"}}}],\"scatterternary\":[{\"type\":\"scatterternary\",\"marker\":{\"colorbar\":{\"outlinewidth\":0,\"ticks\":\"\"}}}],\"scattercarpet\":[{\"type\":\"scattercarpet\",\"marker\":{\"colorbar\":{\"outlinewidth\":0,\"ticks\":\"\"}}}],\"carpet\":[{\"aaxis\":{\"endlinecolor\":\"#2a3f5f\",\"gridcolor\":\"white\",\"linecolor\":\"white\",\"minorgridcolor\":\"white\",\"startlinecolor\":\"#2a3f5f\"},\"baxis\":{\"endlinecolor\":\"#2a3f5f\",\"gridcolor\":\"white\",\"linecolor\":\"white\",\"minorgridcolor\":\"white\",\"startlinecolor\":\"#2a3f5f\"},\"type\":\"carpet\"}],\"table\":[{\"cells\":{\"fill\":{\"color\":\"#EBF0F8\"},\"line\":{\"color\":\"white\"}},\"header\":{\"fill\":{\"color\":\"#C8D4E3\"},\"line\":{\"color\":\"white\"}},\"type\":\"table\"}],\"barpolar\":[{\"marker\":{\"line\":{\"color\":\"#E5ECF6\",\"width\":0.5},\"pattern\":{\"fillmode\":\"overlay\",\"size\":10,\"solidity\":0.2}},\"type\":\"barpolar\"}],\"pie\":[{\"automargin\":true,\"type\":\"pie\"}]},\"layout\":{\"autotypenumbers\":\"strict\",\"colorway\":[\"#636efa\",\"#EF553B\",\"#00cc96\",\"#ab63fa\",\"#FFA15A\",\"#19d3f3\",\"#FF6692\",\"#B6E880\",\"#FF97FF\",\"#FECB52\"],\"font\":{\"color\":\"#2a3f5f\"},\"hovermode\":\"closest\",\"hoverlabel\":{\"align\":\"left\"},\"paper_bgcolor\":\"white\",\"plot_bgcolor\":\"#E5ECF6\",\"polar\":{\"bgcolor\":\"#E5ECF6\",\"angularaxis\":{\"gridcolor\":\"white\",\"linecolor\":\"white\",\"ticks\":\"\"},\"radialaxis\":{\"gridcolor\":\"white\",\"linecolor\":\"white\",\"ticks\":\"\"}},\"ternary\":{\"bgcolor\":\"#E5ECF6\",\"aaxis\":{\"gridcolor\":\"white\",\"linecolor\":\"white\",\"ticks\":\"\"},\"baxis\":{\"gridcolor\":\"white\",\"linecolor\":\"white\",\"ticks\":\"\"},\"caxis\":{\"gridcolor\":\"white\",\"linecolor\":\"white\",\"ticks\":\"\"}},\"coloraxis\":{\"colorbar\":{\"outlinewidth\":0,\"ticks\":\"\"}},\"colorscale\":{\"sequential\":[[0.0,\"#0d0887\"],[0.1111111111111111,\"#46039f\"],[0.2222222222222222,\"#7201a8\"],[0.3333333333333333,\"#9c179e\"],[0.4444444444444444,\"#bd3786\"],[0.5555555555555556,\"#d8576b\"],[0.6666666666666666,\"#ed7953\"],[0.7777777777777778,\"#fb9f3a\"],[0.8888888888888888,\"#fdca26\"],[1.0,\"#f0f921\"]],\"sequentialminus\":[[0.0,\"#0d0887\"],[0.1111111111111111,\"#46039f\"],[0.2222222222222222,\"#7201a8\"],[0.3333333333333333,\"#9c179e\"],[0.4444444444444444,\"#bd3786\"],[0.5555555555555556,\"#d8576b\"],[0.6666666666666666,\"#ed7953\"],[0.7777777777777778,\"#fb9f3a\"],[0.8888888888888888,\"#fdca26\"],[1.0,\"#f0f921\"]],\"diverging\":[[0,\"#8e0152\"],[0.1,\"#c51b7d\"],[0.2,\"#de77ae\"],[0.3,\"#f1b6da\"],[0.4,\"#fde0ef\"],[0.5,\"#f7f7f7\"],[0.6,\"#e6f5d0\"],[0.7,\"#b8e186\"],[0.8,\"#7fbc41\"],[0.9,\"#4d9221\"],[1,\"#276419\"]]},\"xaxis\":{\"gridcolor\":\"white\",\"linecolor\":\"white\",\"ticks\":\"\",\"title\":{\"standoff\":15},\"zerolinecolor\":\"white\",\"automargin\":true,\"zerolinewidth\":2},\"yaxis\":{\"gridcolor\":\"white\",\"linecolor\":\"white\",\"ticks\":\"\",\"title\":{\"standoff\":15},\"zerolinecolor\":\"white\",\"automargin\":true,\"zerolinewidth\":2},\"scene\":{\"xaxis\":{\"backgroundcolor\":\"#E5ECF6\",\"gridcolor\":\"white\",\"linecolor\":\"white\",\"showbackground\":true,\"ticks\":\"\",\"zerolinecolor\":\"white\",\"gridwidth\":2},\"yaxis\":{\"backgroundcolor\":\"#E5ECF6\",\"gridcolor\":\"white\",\"linecolor\":\"white\",\"showbackground\":true,\"ticks\":\"\",\"zerolinecolor\":\"white\",\"gridwidth\":2},\"zaxis\":{\"backgroundcolor\":\"#E5ECF6\",\"gridcolor\":\"white\",\"linecolor\":\"white\",\"showbackground\":true,\"ticks\":\"\",\"zerolinecolor\":\"white\",\"gridwidth\":2}},\"shapedefaults\":{\"line\":{\"color\":\"#2a3f5f\"}},\"annotationdefaults\":{\"arrowcolor\":\"#2a3f5f\",\"arrowhead\":0,\"arrowwidth\":1},\"geo\":{\"bgcolor\":\"white\",\"landcolor\":\"#E5ECF6\",\"subunitcolor\":\"white\",\"showland\":true,\"showlakes\":true,\"lakecolor\":\"white\"},\"title\":{\"x\":0.05},\"mapbox\":{\"style\":\"light\"}}},\"height\":750},                        {\"responsive\": true}                    ).then(function(){\n",
       "                            \n",
       "var gd = document.getElementById('e033dd45-e6b1-4bed-ae7b-d944046f8651');\n",
       "var x = new MutationObserver(function (mutations, observer) {{\n",
       "        var display = window.getComputedStyle(gd).display;\n",
       "        if (!display || display === 'none') {{\n",
       "            console.log([gd, 'removed!']);\n",
       "            Plotly.purge(gd);\n",
       "            observer.disconnect();\n",
       "        }}\n",
       "}});\n",
       "\n",
       "// Listen for the removal of the full notebook cells\n",
       "var notebookContainer = gd.closest('#notebook-container');\n",
       "if (notebookContainer) {{\n",
       "    x.observe(notebookContainer, {childList: true});\n",
       "}}\n",
       "\n",
       "// Listen for the clearing of the current output cell\n",
       "var outputEl = gd.closest('.output');\n",
       "if (outputEl) {{\n",
       "    x.observe(outputEl, {childList: true});\n",
       "}}\n",
       "\n",
       "                        })                };                });            </script>        </div>"
      ]
     },
     "metadata": {},
     "output_type": "display_data"
    }
   ],
   "source": [
    "\n",
    "\n",
    "fig = go.Figure(data=go.Scattergl(\n",
    "    x=edge_x,\n",
    "    y=edge_y,\n",
    "    mode=\"markers+lines\",\n",
    "    # mode=\"markers\"\n",
    "))\n",
    "fig.update_layout(height=750)\n",
    "fig.show()\n"
   ]
  },
  {
   "cell_type": "code",
   "execution_count": 23,
   "id": "68943e06-743b-4c6d-b3a2-028f9cfa1626",
   "metadata": {},
   "outputs": [
    {
     "data": {
      "application/vnd.plotly.v1+json": {
       "config": {
        "plotlyServerURL": "https://plot.ly"
       },
       "data": [
        {
         "mode": "markers+lines",
         "type": "scattergl",
         "x": [
          27,
          31,
          null,
          30,
          25,
          null,
          30,
          30,
          null,
          30,
          37,
          null,
          43,
          37,
          null,
          43,
          52,
          null,
          58,
          62,
          null,
          58,
          61,
          null,
          37,
          31,
          null,
          37,
          43,
          null,
          38,
          37,
          null,
          38,
          42,
          null,
          46,
          39,
          null,
          61,
          56,
          null,
          61,
          58,
          null,
          62,
          57,
          null,
          62,
          63,
          null,
          63,
          62,
          null,
          32,
          27,
          null,
          32,
          36,
          null,
          45,
          42,
          null,
          45,
          40,
          null,
          45,
          52,
          null,
          59,
          51,
          null,
          5,
          13,
          null,
          10,
          13,
          null,
          10,
          5,
          null,
          21,
          30,
          null,
          21,
          13,
          null,
          5,
          17,
          null,
          30,
          36,
          null,
          30,
          21,
          null,
          39,
          36,
          null,
          39,
          46,
          null,
          32,
          30,
          null,
          32,
          31,
          null,
          25,
          31,
          null,
          25,
          20,
          null,
          25,
          31,
          null,
          25,
          30,
          null,
          25,
          21,
          null,
          25,
          16,
          null,
          48,
          52,
          null,
          48,
          51,
          null,
          56,
          52,
          null,
          56,
          52,
          null,
          56,
          61,
          null,
          56,
          62,
          null,
          30,
          30,
          null,
          30,
          32,
          null,
          37,
          30,
          null,
          37,
          38,
          null,
          37,
          42,
          null,
          49,
          52,
          null,
          52,
          43,
          null,
          52,
          57,
          null,
          20,
          25,
          null,
          20,
          17,
          null,
          20,
          27,
          null,
          40,
          45,
          null,
          21,
          25,
          null,
          17,
          16,
          null,
          17,
          5,
          null,
          31,
          27,
          null,
          31,
          37,
          null,
          31,
          25,
          null,
          52,
          45,
          null,
          52,
          56,
          null,
          52,
          48,
          null,
          51,
          48,
          null,
          51,
          59,
          null,
          42,
          38,
          null,
          42,
          45,
          null,
          31,
          32,
          null,
          31,
          25,
          null,
          5,
          10,
          null,
          12,
          17,
          null,
          12,
          7,
          null,
          36,
          32,
          null,
          36,
          30,
          null,
          36,
          39,
          null,
          52,
          56,
          null,
          52,
          49,
          null,
          27,
          20,
          null,
          27,
          32,
          null,
          17,
          20,
          null,
          17,
          12,
          null,
          13,
          21,
          null,
          13,
          10,
          null,
          13,
          5,
          null,
          57,
          52,
          null,
          57,
          62,
          null,
          62,
          56,
          null,
          62,
          58,
          null,
          42,
          37,
          null,
          16,
          25,
          null,
          16,
          17,
          null,
          16,
          8,
          null,
          8,
          16,
          null,
          7,
          12,
          null
         ],
         "y": [
          68,
          62,
          null,
          48,
          55,
          null,
          48,
          40,
          null,
          48,
          52,
          null,
          67,
          69,
          null,
          67,
          64,
          null,
          48,
          42,
          null,
          27,
          33,
          null,
          69,
          62,
          null,
          69,
          67,
          null,
          46,
          52,
          null,
          46,
          41,
          null,
          10,
          10,
          null,
          33,
          37,
          null,
          33,
          27,
          null,
          63,
          58,
          null,
          63,
          69,
          null,
          69,
          63,
          null,
          22,
          23,
          null,
          22,
          16,
          null,
          35,
          41,
          null,
          35,
          30,
          null,
          35,
          33,
          null,
          15,
          21,
          null,
          6,
          13,
          null,
          17,
          13,
          null,
          17,
          25,
          null,
          10,
          15,
          null,
          10,
          13,
          null,
          64,
          63,
          null,
          15,
          16,
          null,
          15,
          10,
          null,
          10,
          16,
          null,
          10,
          10,
          null,
          39,
          40,
          null,
          39,
          32,
          null,
          32,
          32,
          null,
          32,
          26,
          null,
          55,
          62,
          null,
          55,
          48,
          null,
          55,
          47,
          null,
          55,
          57,
          null,
          28,
          33,
          null,
          28,
          21,
          null,
          37,
          33,
          null,
          37,
          41,
          null,
          37,
          33,
          null,
          37,
          42,
          null,
          40,
          48,
          null,
          40,
          39,
          null,
          52,
          48,
          null,
          52,
          46,
          null,
          52,
          57,
          null,
          49,
          41,
          null,
          64,
          67,
          null,
          64,
          58,
          null,
          26,
          32,
          null,
          26,
          33,
          null,
          26,
          23,
          null,
          30,
          35,
          null,
          47,
          55,
          null,
          63,
          57,
          null,
          63,
          64,
          null,
          62,
          68,
          null,
          62,
          69,
          null,
          62,
          55,
          null,
          33,
          35,
          null,
          33,
          37,
          null,
          33,
          28,
          null,
          21,
          28,
          null,
          21,
          15,
          null,
          41,
          46,
          null,
          41,
          35,
          null,
          32,
          39,
          null,
          32,
          32,
          null,
          25,
          17,
          null,
          42,
          33,
          null,
          42,
          38,
          null,
          16,
          22,
          null,
          16,
          15,
          null,
          16,
          10,
          null,
          41,
          37,
          null,
          41,
          49,
          null,
          23,
          26,
          null,
          23,
          22,
          null,
          33,
          26,
          null,
          33,
          42,
          null,
          13,
          10,
          null,
          13,
          17,
          null,
          13,
          6,
          null,
          58,
          64,
          null,
          58,
          63,
          null,
          42,
          37,
          null,
          42,
          48,
          null,
          57,
          52,
          null,
          57,
          55,
          null,
          57,
          63,
          null,
          57,
          52,
          null,
          52,
          57,
          null,
          38,
          42,
          null
         ]
        }
       ],
       "layout": {
        "autosize": true,
        "template": {
         "data": {
          "bar": [
           {
            "error_x": {
             "color": "#2a3f5f"
            },
            "error_y": {
             "color": "#2a3f5f"
            },
            "marker": {
             "line": {
              "color": "#E5ECF6",
              "width": 0.5
             },
             "pattern": {
              "fillmode": "overlay",
              "size": 10,
              "solidity": 0.2
             }
            },
            "type": "bar"
           }
          ],
          "barpolar": [
           {
            "marker": {
             "line": {
              "color": "#E5ECF6",
              "width": 0.5
             },
             "pattern": {
              "fillmode": "overlay",
              "size": 10,
              "solidity": 0.2
             }
            },
            "type": "barpolar"
           }
          ],
          "carpet": [
           {
            "aaxis": {
             "endlinecolor": "#2a3f5f",
             "gridcolor": "white",
             "linecolor": "white",
             "minorgridcolor": "white",
             "startlinecolor": "#2a3f5f"
            },
            "baxis": {
             "endlinecolor": "#2a3f5f",
             "gridcolor": "white",
             "linecolor": "white",
             "minorgridcolor": "white",
             "startlinecolor": "#2a3f5f"
            },
            "type": "carpet"
           }
          ],
          "choropleth": [
           {
            "colorbar": {
             "outlinewidth": 0,
             "ticks": ""
            },
            "type": "choropleth"
           }
          ],
          "contour": [
           {
            "colorbar": {
             "outlinewidth": 0,
             "ticks": ""
            },
            "colorscale": [
             [
              0,
              "#0d0887"
             ],
             [
              0.1111111111111111,
              "#46039f"
             ],
             [
              0.2222222222222222,
              "#7201a8"
             ],
             [
              0.3333333333333333,
              "#9c179e"
             ],
             [
              0.4444444444444444,
              "#bd3786"
             ],
             [
              0.5555555555555556,
              "#d8576b"
             ],
             [
              0.6666666666666666,
              "#ed7953"
             ],
             [
              0.7777777777777778,
              "#fb9f3a"
             ],
             [
              0.8888888888888888,
              "#fdca26"
             ],
             [
              1,
              "#f0f921"
             ]
            ],
            "type": "contour"
           }
          ],
          "contourcarpet": [
           {
            "colorbar": {
             "outlinewidth": 0,
             "ticks": ""
            },
            "type": "contourcarpet"
           }
          ],
          "heatmap": [
           {
            "colorbar": {
             "outlinewidth": 0,
             "ticks": ""
            },
            "colorscale": [
             [
              0,
              "#0d0887"
             ],
             [
              0.1111111111111111,
              "#46039f"
             ],
             [
              0.2222222222222222,
              "#7201a8"
             ],
             [
              0.3333333333333333,
              "#9c179e"
             ],
             [
              0.4444444444444444,
              "#bd3786"
             ],
             [
              0.5555555555555556,
              "#d8576b"
             ],
             [
              0.6666666666666666,
              "#ed7953"
             ],
             [
              0.7777777777777778,
              "#fb9f3a"
             ],
             [
              0.8888888888888888,
              "#fdca26"
             ],
             [
              1,
              "#f0f921"
             ]
            ],
            "type": "heatmap"
           }
          ],
          "heatmapgl": [
           {
            "colorbar": {
             "outlinewidth": 0,
             "ticks": ""
            },
            "colorscale": [
             [
              0,
              "#0d0887"
             ],
             [
              0.1111111111111111,
              "#46039f"
             ],
             [
              0.2222222222222222,
              "#7201a8"
             ],
             [
              0.3333333333333333,
              "#9c179e"
             ],
             [
              0.4444444444444444,
              "#bd3786"
             ],
             [
              0.5555555555555556,
              "#d8576b"
             ],
             [
              0.6666666666666666,
              "#ed7953"
             ],
             [
              0.7777777777777778,
              "#fb9f3a"
             ],
             [
              0.8888888888888888,
              "#fdca26"
             ],
             [
              1,
              "#f0f921"
             ]
            ],
            "type": "heatmapgl"
           }
          ],
          "histogram": [
           {
            "marker": {
             "pattern": {
              "fillmode": "overlay",
              "size": 10,
              "solidity": 0.2
             }
            },
            "type": "histogram"
           }
          ],
          "histogram2d": [
           {
            "colorbar": {
             "outlinewidth": 0,
             "ticks": ""
            },
            "colorscale": [
             [
              0,
              "#0d0887"
             ],
             [
              0.1111111111111111,
              "#46039f"
             ],
             [
              0.2222222222222222,
              "#7201a8"
             ],
             [
              0.3333333333333333,
              "#9c179e"
             ],
             [
              0.4444444444444444,
              "#bd3786"
             ],
             [
              0.5555555555555556,
              "#d8576b"
             ],
             [
              0.6666666666666666,
              "#ed7953"
             ],
             [
              0.7777777777777778,
              "#fb9f3a"
             ],
             [
              0.8888888888888888,
              "#fdca26"
             ],
             [
              1,
              "#f0f921"
             ]
            ],
            "type": "histogram2d"
           }
          ],
          "histogram2dcontour": [
           {
            "colorbar": {
             "outlinewidth": 0,
             "ticks": ""
            },
            "colorscale": [
             [
              0,
              "#0d0887"
             ],
             [
              0.1111111111111111,
              "#46039f"
             ],
             [
              0.2222222222222222,
              "#7201a8"
             ],
             [
              0.3333333333333333,
              "#9c179e"
             ],
             [
              0.4444444444444444,
              "#bd3786"
             ],
             [
              0.5555555555555556,
              "#d8576b"
             ],
             [
              0.6666666666666666,
              "#ed7953"
             ],
             [
              0.7777777777777778,
              "#fb9f3a"
             ],
             [
              0.8888888888888888,
              "#fdca26"
             ],
             [
              1,
              "#f0f921"
             ]
            ],
            "type": "histogram2dcontour"
           }
          ],
          "mesh3d": [
           {
            "colorbar": {
             "outlinewidth": 0,
             "ticks": ""
            },
            "type": "mesh3d"
           }
          ],
          "parcoords": [
           {
            "line": {
             "colorbar": {
              "outlinewidth": 0,
              "ticks": ""
             }
            },
            "type": "parcoords"
           }
          ],
          "pie": [
           {
            "automargin": true,
            "type": "pie"
           }
          ],
          "scatter": [
           {
            "fillpattern": {
             "fillmode": "overlay",
             "size": 10,
             "solidity": 0.2
            },
            "type": "scatter"
           }
          ],
          "scatter3d": [
           {
            "line": {
             "colorbar": {
              "outlinewidth": 0,
              "ticks": ""
             }
            },
            "marker": {
             "colorbar": {
              "outlinewidth": 0,
              "ticks": ""
             }
            },
            "type": "scatter3d"
           }
          ],
          "scattercarpet": [
           {
            "marker": {
             "colorbar": {
              "outlinewidth": 0,
              "ticks": ""
             }
            },
            "type": "scattercarpet"
           }
          ],
          "scattergeo": [
           {
            "marker": {
             "colorbar": {
              "outlinewidth": 0,
              "ticks": ""
             }
            },
            "type": "scattergeo"
           }
          ],
          "scattergl": [
           {
            "marker": {
             "colorbar": {
              "outlinewidth": 0,
              "ticks": ""
             }
            },
            "type": "scattergl"
           }
          ],
          "scattermapbox": [
           {
            "marker": {
             "colorbar": {
              "outlinewidth": 0,
              "ticks": ""
             }
            },
            "type": "scattermapbox"
           }
          ],
          "scatterpolar": [
           {
            "marker": {
             "colorbar": {
              "outlinewidth": 0,
              "ticks": ""
             }
            },
            "type": "scatterpolar"
           }
          ],
          "scatterpolargl": [
           {
            "marker": {
             "colorbar": {
              "outlinewidth": 0,
              "ticks": ""
             }
            },
            "type": "scatterpolargl"
           }
          ],
          "scatterternary": [
           {
            "marker": {
             "colorbar": {
              "outlinewidth": 0,
              "ticks": ""
             }
            },
            "type": "scatterternary"
           }
          ],
          "surface": [
           {
            "colorbar": {
             "outlinewidth": 0,
             "ticks": ""
            },
            "colorscale": [
             [
              0,
              "#0d0887"
             ],
             [
              0.1111111111111111,
              "#46039f"
             ],
             [
              0.2222222222222222,
              "#7201a8"
             ],
             [
              0.3333333333333333,
              "#9c179e"
             ],
             [
              0.4444444444444444,
              "#bd3786"
             ],
             [
              0.5555555555555556,
              "#d8576b"
             ],
             [
              0.6666666666666666,
              "#ed7953"
             ],
             [
              0.7777777777777778,
              "#fb9f3a"
             ],
             [
              0.8888888888888888,
              "#fdca26"
             ],
             [
              1,
              "#f0f921"
             ]
            ],
            "type": "surface"
           }
          ],
          "table": [
           {
            "cells": {
             "fill": {
              "color": "#EBF0F8"
             },
             "line": {
              "color": "white"
             }
            },
            "header": {
             "fill": {
              "color": "#C8D4E3"
             },
             "line": {
              "color": "white"
             }
            },
            "type": "table"
           }
          ]
         },
         "layout": {
          "annotationdefaults": {
           "arrowcolor": "#2a3f5f",
           "arrowhead": 0,
           "arrowwidth": 1
          },
          "autotypenumbers": "strict",
          "coloraxis": {
           "colorbar": {
            "outlinewidth": 0,
            "ticks": ""
           }
          },
          "colorscale": {
           "diverging": [
            [
             0,
             "#8e0152"
            ],
            [
             0.1,
             "#c51b7d"
            ],
            [
             0.2,
             "#de77ae"
            ],
            [
             0.3,
             "#f1b6da"
            ],
            [
             0.4,
             "#fde0ef"
            ],
            [
             0.5,
             "#f7f7f7"
            ],
            [
             0.6,
             "#e6f5d0"
            ],
            [
             0.7,
             "#b8e186"
            ],
            [
             0.8,
             "#7fbc41"
            ],
            [
             0.9,
             "#4d9221"
            ],
            [
             1,
             "#276419"
            ]
           ],
           "sequential": [
            [
             0,
             "#0d0887"
            ],
            [
             0.1111111111111111,
             "#46039f"
            ],
            [
             0.2222222222222222,
             "#7201a8"
            ],
            [
             0.3333333333333333,
             "#9c179e"
            ],
            [
             0.4444444444444444,
             "#bd3786"
            ],
            [
             0.5555555555555556,
             "#d8576b"
            ],
            [
             0.6666666666666666,
             "#ed7953"
            ],
            [
             0.7777777777777778,
             "#fb9f3a"
            ],
            [
             0.8888888888888888,
             "#fdca26"
            ],
            [
             1,
             "#f0f921"
            ]
           ],
           "sequentialminus": [
            [
             0,
             "#0d0887"
            ],
            [
             0.1111111111111111,
             "#46039f"
            ],
            [
             0.2222222222222222,
             "#7201a8"
            ],
            [
             0.3333333333333333,
             "#9c179e"
            ],
            [
             0.4444444444444444,
             "#bd3786"
            ],
            [
             0.5555555555555556,
             "#d8576b"
            ],
            [
             0.6666666666666666,
             "#ed7953"
            ],
            [
             0.7777777777777778,
             "#fb9f3a"
            ],
            [
             0.8888888888888888,
             "#fdca26"
            ],
            [
             1,
             "#f0f921"
            ]
           ]
          },
          "colorway": [
           "#636efa",
           "#EF553B",
           "#00cc96",
           "#ab63fa",
           "#FFA15A",
           "#19d3f3",
           "#FF6692",
           "#B6E880",
           "#FF97FF",
           "#FECB52"
          ],
          "font": {
           "color": "#2a3f5f"
          },
          "geo": {
           "bgcolor": "white",
           "lakecolor": "white",
           "landcolor": "#E5ECF6",
           "showlakes": true,
           "showland": true,
           "subunitcolor": "white"
          },
          "hoverlabel": {
           "align": "left"
          },
          "hovermode": "closest",
          "mapbox": {
           "style": "light"
          },
          "paper_bgcolor": "white",
          "plot_bgcolor": "#E5ECF6",
          "polar": {
           "angularaxis": {
            "gridcolor": "white",
            "linecolor": "white",
            "ticks": ""
           },
           "bgcolor": "#E5ECF6",
           "radialaxis": {
            "gridcolor": "white",
            "linecolor": "white",
            "ticks": ""
           }
          },
          "scene": {
           "xaxis": {
            "backgroundcolor": "#E5ECF6",
            "gridcolor": "white",
            "gridwidth": 2,
            "linecolor": "white",
            "showbackground": true,
            "ticks": "",
            "zerolinecolor": "white"
           },
           "yaxis": {
            "backgroundcolor": "#E5ECF6",
            "gridcolor": "white",
            "gridwidth": 2,
            "linecolor": "white",
            "showbackground": true,
            "ticks": "",
            "zerolinecolor": "white"
           },
           "zaxis": {
            "backgroundcolor": "#E5ECF6",
            "gridcolor": "white",
            "gridwidth": 2,
            "linecolor": "white",
            "showbackground": true,
            "ticks": "",
            "zerolinecolor": "white"
           }
          },
          "shapedefaults": {
           "line": {
            "color": "#2a3f5f"
           }
          },
          "ternary": {
           "aaxis": {
            "gridcolor": "white",
            "linecolor": "white",
            "ticks": ""
           },
           "baxis": {
            "gridcolor": "white",
            "linecolor": "white",
            "ticks": ""
           },
           "bgcolor": "#E5ECF6",
           "caxis": {
            "gridcolor": "white",
            "linecolor": "white",
            "ticks": ""
           }
          },
          "title": {
           "x": 0.05
          },
          "xaxis": {
           "automargin": true,
           "gridcolor": "white",
           "linecolor": "white",
           "ticks": "",
           "title": {
            "standoff": 15
           },
           "zerolinecolor": "white",
           "zerolinewidth": 2
          },
          "yaxis": {
           "automargin": true,
           "gridcolor": "white",
           "linecolor": "white",
           "ticks": "",
           "title": {
            "standoff": 15
           },
           "zerolinecolor": "white",
           "zerolinewidth": 2
          }
         }
        },
        "xaxis": {
         "autorange": true,
         "range": [
          1.489873719323326,
          66.51012628067667
         ],
         "type": "linear"
        },
        "yaxis": {
         "autorange": true,
         "range": [
          0.8009708737864081,
          74.19902912621359
         ],
         "type": "linear"
        }
       }
      },
      "image/png": "[encoded data removed]",
      "text/html": [
       "<div>                            <div id=\"63524889-fac8-457a-b3ed-ef5c795b9b04\" class=\"plotly-graph-div\" style=\"height:750px; width:100%;\"></div>            <script type=\"text/javascript\">                require([\"plotly\"], function(Plotly) {                    window.PLOTLYENV=window.PLOTLYENV || {};                                    if (document.getElementById(\"63524889-fac8-457a-b3ed-ef5c795b9b04\")) {                    Plotly.newPlot(                        \"63524889-fac8-457a-b3ed-ef5c795b9b04\",                        [{\"mode\":\"markers+lines\",\"x\":[27.0,31.0,null,30.0,25.0,null,30.0,30.0,null,30.0,37.0,null,43.0,37.0,null,43.0,52.0,null,58.0,62.0,null,58.0,61.0,null,37.0,31.0,null,37.0,43.0,null,38.0,37.0,null,38.0,42.0,null,46.0,39.0,null,61.0,56.0,null,61.0,58.0,null,62.0,57.0,null,62.0,63.0,null,63.0,62.0,null,32.0,27.0,null,32.0,36.0,null,45.0,42.0,null,45.0,40.0,null,45.0,52.0,null,59.0,51.0,null,5.0,13.0,null,10.0,13.0,null,10.0,5.0,null,21.0,30.0,null,21.0,13.0,null,5.0,17.0,null,30.0,36.0,null,30.0,21.0,null,39.0,36.0,null,39.0,46.0,null,32.0,30.0,null,32.0,31.0,null,25.0,31.0,null,25.0,20.0,null,25.0,31.0,null,25.0,30.0,null,25.0,21.0,null,25.0,16.0,null,48.0,52.0,null,48.0,51.0,null,56.0,52.0,null,56.0,52.0,null,56.0,61.0,null,56.0,62.0,null,30.0,30.0,null,30.0,32.0,null,37.0,30.0,null,37.0,38.0,null,37.0,42.0,null,49.0,52.0,null,52.0,43.0,null,52.0,57.0,null,20.0,25.0,null,20.0,17.0,null,20.0,27.0,null,40.0,45.0,null,21.0,25.0,null,17.0,16.0,null,17.0,5.0,null,31.0,27.0,null,31.0,37.0,null,31.0,25.0,null,52.0,45.0,null,52.0,56.0,null,52.0,48.0,null,51.0,48.0,null,51.0,59.0,null,42.0,38.0,null,42.0,45.0,null,31.0,32.0,null,31.0,25.0,null,5.0,10.0,null,12.0,17.0,null,12.0,7.0,null,36.0,32.0,null,36.0,30.0,null,36.0,39.0,null,52.0,56.0,null,52.0,49.0,null,27.0,20.0,null,27.0,32.0,null,17.0,20.0,null,17.0,12.0,null,13.0,21.0,null,13.0,10.0,null,13.0,5.0,null,57.0,52.0,null,57.0,62.0,null,62.0,56.0,null,62.0,58.0,null,42.0,37.0,null,16.0,25.0,null,16.0,17.0,null,16.0,8.0,null,8.0,16.0,null,7.0,12.0,null],\"y\":[68.0,62.0,null,48.0,55.0,null,48.0,40.0,null,48.0,52.0,null,67.0,69.0,null,67.0,64.0,null,48.0,42.0,null,27.0,33.0,null,69.0,62.0,null,69.0,67.0,null,46.0,52.0,null,46.0,41.0,null,10.0,10.0,null,33.0,37.0,null,33.0,27.0,null,63.0,58.0,null,63.0,69.0,null,69.0,63.0,null,22.0,23.0,null,22.0,16.0,null,35.0,41.0,null,35.0,30.0,null,35.0,33.0,null,15.0,21.0,null,6.0,13.0,null,17.0,13.0,null,17.0,25.0,null,10.0,15.0,null,10.0,13.0,null,64.0,63.0,null,15.0,16.0,null,15.0,10.0,null,10.0,16.0,null,10.0,10.0,null,39.0,40.0,null,39.0,32.0,null,32.0,32.0,null,32.0,26.0,null,55.0,62.0,null,55.0,48.0,null,55.0,47.0,null,55.0,57.0,null,28.0,33.0,null,28.0,21.0,null,37.0,33.0,null,37.0,41.0,null,37.0,33.0,null,37.0,42.0,null,40.0,48.0,null,40.0,39.0,null,52.0,48.0,null,52.0,46.0,null,52.0,57.0,null,49.0,41.0,null,64.0,67.0,null,64.0,58.0,null,26.0,32.0,null,26.0,33.0,null,26.0,23.0,null,30.0,35.0,null,47.0,55.0,null,63.0,57.0,null,63.0,64.0,null,62.0,68.0,null,62.0,69.0,null,62.0,55.0,null,33.0,35.0,null,33.0,37.0,null,33.0,28.0,null,21.0,28.0,null,21.0,15.0,null,41.0,46.0,null,41.0,35.0,null,32.0,39.0,null,32.0,32.0,null,25.0,17.0,null,42.0,33.0,null,42.0,38.0,null,16.0,22.0,null,16.0,15.0,null,16.0,10.0,null,41.0,37.0,null,41.0,49.0,null,23.0,26.0,null,23.0,22.0,null,33.0,26.0,null,33.0,42.0,null,13.0,10.0,null,13.0,17.0,null,13.0,6.0,null,58.0,64.0,null,58.0,63.0,null,42.0,37.0,null,42.0,48.0,null,57.0,52.0,null,57.0,55.0,null,57.0,63.0,null,57.0,52.0,null,52.0,57.0,null,38.0,42.0,null],\"type\":\"scattergl\"}],                        {\"template\":{\"data\":{\"histogram2dcontour\":[{\"type\":\"histogram2dcontour\",\"colorbar\":{\"outlinewidth\":0,\"ticks\":\"\"},\"colorscale\":[[0.0,\"#0d0887\"],[0.1111111111111111,\"#46039f\"],[0.2222222222222222,\"#7201a8\"],[0.3333333333333333,\"#9c179e\"],[0.4444444444444444,\"#bd3786\"],[0.5555555555555556,\"#d8576b\"],[0.6666666666666666,\"#ed7953\"],[0.7777777777777778,\"#fb9f3a\"],[0.8888888888888888,\"#fdca26\"],[1.0,\"#f0f921\"]]}],\"choropleth\":[{\"type\":\"choropleth\",\"colorbar\":{\"outlinewidth\":0,\"ticks\":\"\"}}],\"histogram2d\":[{\"type\":\"histogram2d\",\"colorbar\":{\"outlinewidth\":0,\"ticks\":\"\"},\"colorscale\":[[0.0,\"#0d0887\"],[0.1111111111111111,\"#46039f\"],[0.2222222222222222,\"#7201a8\"],[0.3333333333333333,\"#9c179e\"],[0.4444444444444444,\"#bd3786\"],[0.5555555555555556,\"#d8576b\"],[0.6666666666666666,\"#ed7953\"],[0.7777777777777778,\"#fb9f3a\"],[0.8888888888888888,\"#fdca26\"],[1.0,\"#f0f921\"]]}],\"heatmap\":[{\"type\":\"heatmap\",\"colorbar\":{\"outlinewidth\":0,\"ticks\":\"\"},\"colorscale\":[[0.0,\"#0d0887\"],[0.1111111111111111,\"#46039f\"],[0.2222222222222222,\"#7201a8\"],[0.3333333333333333,\"#9c179e\"],[0.4444444444444444,\"#bd3786\"],[0.5555555555555556,\"#d8576b\"],[0.6666666666666666,\"#ed7953\"],[0.7777777777777778,\"#fb9f3a\"],[0.8888888888888888,\"#fdca26\"],[1.0,\"#f0f921\"]]}],\"heatmapgl\":[{\"type\":\"heatmapgl\",\"colorbar\":{\"outlinewidth\":0,\"ticks\":\"\"},\"colorscale\":[[0.0,\"#0d0887\"],[0.1111111111111111,\"#46039f\"],[0.2222222222222222,\"#7201a8\"],[0.3333333333333333,\"#9c179e\"],[0.4444444444444444,\"#bd3786\"],[0.5555555555555556,\"#d8576b\"],[0.6666666666666666,\"#ed7953\"],[0.7777777777777778,\"#fb9f3a\"],[0.8888888888888888,\"#fdca26\"],[1.0,\"#f0f921\"]]}],\"contourcarpet\":[{\"type\":\"contourcarpet\",\"colorbar\":{\"outlinewidth\":0,\"ticks\":\"\"}}],\"contour\":[{\"type\":\"contour\",\"colorbar\":{\"outlinewidth\":0,\"ticks\":\"\"},\"colorscale\":[[0.0,\"#0d0887\"],[0.1111111111111111,\"#46039f\"],[0.2222222222222222,\"#7201a8\"],[0.3333333333333333,\"#9c179e\"],[0.4444444444444444,\"#bd3786\"],[0.5555555555555556,\"#d8576b\"],[0.6666666666666666,\"#ed7953\"],[0.7777777777777778,\"#fb9f3a\"],[0.8888888888888888,\"#fdca26\"],[1.0,\"#f0f921\"]]}],\"surface\":[{\"type\":\"surface\",\"colorbar\":{\"outlinewidth\":0,\"ticks\":\"\"},\"colorscale\":[[0.0,\"#0d0887\"],[0.1111111111111111,\"#46039f\"],[0.2222222222222222,\"#7201a8\"],[0.3333333333333333,\"#9c179e\"],[0.4444444444444444,\"#bd3786\"],[0.5555555555555556,\"#d8576b\"],[0.6666666666666666,\"#ed7953\"],[0.7777777777777778,\"#fb9f3a\"],[0.8888888888888888,\"#fdca26\"],[1.0,\"#f0f921\"]]}],\"mesh3d\":[{\"type\":\"mesh3d\",\"colorbar\":{\"outlinewidth\":0,\"ticks\":\"\"}}],\"scatter\":[{\"fillpattern\":{\"fillmode\":\"overlay\",\"size\":10,\"solidity\":0.2},\"type\":\"scatter\"}],\"parcoords\":[{\"type\":\"parcoords\",\"line\":{\"colorbar\":{\"outlinewidth\":0,\"ticks\":\"\"}}}],\"scatterpolargl\":[{\"type\":\"scatterpolargl\",\"marker\":{\"colorbar\":{\"outlinewidth\":0,\"ticks\":\"\"}}}],\"bar\":[{\"error_x\":{\"color\":\"#2a3f5f\"},\"error_y\":{\"color\":\"#2a3f5f\"},\"marker\":{\"line\":{\"color\":\"#E5ECF6\",\"width\":0.5},\"pattern\":{\"fillmode\":\"overlay\",\"size\":10,\"solidity\":0.2}},\"type\":\"bar\"}],\"scattergeo\":[{\"type\":\"scattergeo\",\"marker\":{\"colorbar\":{\"outlinewidth\":0,\"ticks\":\"\"}}}],\"scatterpolar\":[{\"type\":\"scatterpolar\",\"marker\":{\"colorbar\":{\"outlinewidth\":0,\"ticks\":\"\"}}}],\"histogram\":[{\"marker\":{\"pattern\":{\"fillmode\":\"overlay\",\"size\":10,\"solidity\":0.2}},\"type\":\"histogram\"}],\"scattergl\":[{\"type\":\"scattergl\",\"marker\":{\"colorbar\":{\"outlinewidth\":0,\"ticks\":\"\"}}}],\"scatter3d\":[{\"type\":\"scatter3d\",\"line\":{\"colorbar\":{\"outlinewidth\":0,\"ticks\":\"\"}},\"marker\":{\"colorbar\":{\"outlinewidth\":0,\"ticks\":\"\"}}}],\"scattermapbox\":[{\"type\":\"scattermapbox\",\"marker\":{\"colorbar\":{\"outlinewidth\":0,\"ticks\":\"\"}}}],\"scatterternary\":[{\"type\":\"scatterternary\",\"marker\":{\"colorbar\":{\"outlinewidth\":0,\"ticks\":\"\"}}}],\"scattercarpet\":[{\"type\":\"scattercarpet\",\"marker\":{\"colorbar\":{\"outlinewidth\":0,\"ticks\":\"\"}}}],\"carpet\":[{\"aaxis\":{\"endlinecolor\":\"#2a3f5f\",\"gridcolor\":\"white\",\"linecolor\":\"white\",\"minorgridcolor\":\"white\",\"startlinecolor\":\"#2a3f5f\"},\"baxis\":{\"endlinecolor\":\"#2a3f5f\",\"gridcolor\":\"white\",\"linecolor\":\"white\",\"minorgridcolor\":\"white\",\"startlinecolor\":\"#2a3f5f\"},\"type\":\"carpet\"}],\"table\":[{\"cells\":{\"fill\":{\"color\":\"#EBF0F8\"},\"line\":{\"color\":\"white\"}},\"header\":{\"fill\":{\"color\":\"#C8D4E3\"},\"line\":{\"color\":\"white\"}},\"type\":\"table\"}],\"barpolar\":[{\"marker\":{\"line\":{\"color\":\"#E5ECF6\",\"width\":0.5},\"pattern\":{\"fillmode\":\"overlay\",\"size\":10,\"solidity\":0.2}},\"type\":\"barpolar\"}],\"pie\":[{\"automargin\":true,\"type\":\"pie\"}]},\"layout\":{\"autotypenumbers\":\"strict\",\"colorway\":[\"#636efa\",\"#EF553B\",\"#00cc96\",\"#ab63fa\",\"#FFA15A\",\"#19d3f3\",\"#FF6692\",\"#B6E880\",\"#FF97FF\",\"#FECB52\"],\"font\":{\"color\":\"#2a3f5f\"},\"hovermode\":\"closest\",\"hoverlabel\":{\"align\":\"left\"},\"paper_bgcolor\":\"white\",\"plot_bgcolor\":\"#E5ECF6\",\"polar\":{\"bgcolor\":\"#E5ECF6\",\"angularaxis\":{\"gridcolor\":\"white\",\"linecolor\":\"white\",\"ticks\":\"\"},\"radialaxis\":{\"gridcolor\":\"white\",\"linecolor\":\"white\",\"ticks\":\"\"}},\"ternary\":{\"bgcolor\":\"#E5ECF6\",\"aaxis\":{\"gridcolor\":\"white\",\"linecolor\":\"white\",\"ticks\":\"\"},\"baxis\":{\"gridcolor\":\"white\",\"linecolor\":\"white\",\"ticks\":\"\"},\"caxis\":{\"gridcolor\":\"white\",\"linecolor\":\"white\",\"ticks\":\"\"}},\"coloraxis\":{\"colorbar\":{\"outlinewidth\":0,\"ticks\":\"\"}},\"colorscale\":{\"sequential\":[[0.0,\"#0d0887\"],[0.1111111111111111,\"#46039f\"],[0.2222222222222222,\"#7201a8\"],[0.3333333333333333,\"#9c179e\"],[0.4444444444444444,\"#bd3786\"],[0.5555555555555556,\"#d8576b\"],[0.6666666666666666,\"#ed7953\"],[0.7777777777777778,\"#fb9f3a\"],[0.8888888888888888,\"#fdca26\"],[1.0,\"#f0f921\"]],\"sequentialminus\":[[0.0,\"#0d0887\"],[0.1111111111111111,\"#46039f\"],[0.2222222222222222,\"#7201a8\"],[0.3333333333333333,\"#9c179e\"],[0.4444444444444444,\"#bd3786\"],[0.5555555555555556,\"#d8576b\"],[0.6666666666666666,\"#ed7953\"],[0.7777777777777778,\"#fb9f3a\"],[0.8888888888888888,\"#fdca26\"],[1.0,\"#f0f921\"]],\"diverging\":[[0,\"#8e0152\"],[0.1,\"#c51b7d\"],[0.2,\"#de77ae\"],[0.3,\"#f1b6da\"],[0.4,\"#fde0ef\"],[0.5,\"#f7f7f7\"],[0.6,\"#e6f5d0\"],[0.7,\"#b8e186\"],[0.8,\"#7fbc41\"],[0.9,\"#4d9221\"],[1,\"#276419\"]]},\"xaxis\":{\"gridcolor\":\"white\",\"linecolor\":\"white\",\"ticks\":\"\",\"title\":{\"standoff\":15},\"zerolinecolor\":\"white\",\"automargin\":true,\"zerolinewidth\":2},\"yaxis\":{\"gridcolor\":\"white\",\"linecolor\":\"white\",\"ticks\":\"\",\"title\":{\"standoff\":15},\"zerolinecolor\":\"white\",\"automargin\":true,\"zerolinewidth\":2},\"scene\":{\"xaxis\":{\"backgroundcolor\":\"#E5ECF6\",\"gridcolor\":\"white\",\"linecolor\":\"white\",\"showbackground\":true,\"ticks\":\"\",\"zerolinecolor\":\"white\",\"gridwidth\":2},\"yaxis\":{\"backgroundcolor\":\"#E5ECF6\",\"gridcolor\":\"white\",\"linecolor\":\"white\",\"showbackground\":true,\"ticks\":\"\",\"zerolinecolor\":\"white\",\"gridwidth\":2},\"zaxis\":{\"backgroundcolor\":\"#E5ECF6\",\"gridcolor\":\"white\",\"linecolor\":\"white\",\"showbackground\":true,\"ticks\":\"\",\"zerolinecolor\":\"white\",\"gridwidth\":2}},\"shapedefaults\":{\"line\":{\"color\":\"#2a3f5f\"}},\"annotationdefaults\":{\"arrowcolor\":\"#2a3f5f\",\"arrowhead\":0,\"arrowwidth\":1},\"geo\":{\"bgcolor\":\"white\",\"landcolor\":\"#E5ECF6\",\"subunitcolor\":\"white\",\"showland\":true,\"showlakes\":true,\"lakecolor\":\"white\"},\"title\":{\"x\":0.05},\"mapbox\":{\"style\":\"light\"}}},\"height\":750},                        {\"responsive\": true}                    ).then(function(){\n",
       "                            \n",
       "var gd = document.getElementById('63524889-fac8-457a-b3ed-ef5c795b9b04');\n",
       "var x = new MutationObserver(function (mutations, observer) {{\n",
       "        var display = window.getComputedStyle(gd).display;\n",
       "        if (!display || display === 'none') {{\n",
       "            console.log([gd, 'removed!']);\n",
       "            Plotly.purge(gd);\n",
       "            observer.disconnect();\n",
       "        }}\n",
       "}});\n",
       "\n",
       "// Listen for the removal of the full notebook cells\n",
       "var notebookContainer = gd.closest('#notebook-container');\n",
       "if (notebookContainer) {{\n",
       "    x.observe(notebookContainer, {childList: true});\n",
       "}}\n",
       "\n",
       "// Listen for the clearing of the current output cell\n",
       "var outputEl = gd.closest('.output');\n",
       "if (outputEl) {{\n",
       "    x.observe(outputEl, {childList: true});\n",
       "}}\n",
       "\n",
       "                        })                };                });            </script>        </div>"
      ]
     },
     "metadata": {},
     "output_type": "display_data"
    }
   ],
   "source": [
    "\n",
    "\n",
    "fig = go.Figure(data=go.Scattergl(\n",
    "    x=edge_x,\n",
    "    y=edge_y,\n",
    "    mode=\"markers+lines\",\n",
    "    # mode=\"markers\"\n",
    "))\n",
    "fig.update_layout(height=750)\n",
    "fig.show()\n"
   ]
  },
  {
   "cell_type": "code",
   "execution_count": null,
   "id": "e00b0c45-595d-494e-9e74-345443a10e9c",
   "metadata": {},
   "outputs": [],
   "source": []
  },
  {
   "cell_type": "code",
   "execution_count": null,
   "id": "7bb597a2-1914-46c4-880a-e8d97a5d6881",
   "metadata": {},
   "outputs": [],
   "source": [
    "edge_x = []\n",
    "edge_y = []\n",
    "\n",
    "for idx in tqdm(list(global_optimal_path) + [list(global_optimal_path)[0]]):\n",
    "    \n",
    "    x0, y0 = points[idx]\n",
    "    \n",
    "    edge_x.append(x0)\n",
    "    edge_y.append(y0)"
   ]
  },
  {
   "cell_type": "code",
   "execution_count": null,
   "id": "273c7879-5704-46d3-aba3-ade43957e266",
   "metadata": {},
   "outputs": [],
   "source": [
    "explored_path"
   ]
  },
  {
   "cell_type": "code",
   "execution_count": null,
   "id": "d9ef527f-fd17-48b9-a983-e29c391efdae",
   "metadata": {},
   "outputs": [],
   "source": [
    "fig = go.Figure(data=go.Scattergl(\n",
    "    x=edge_x,\n",
    "    y=edge_y,\n",
    "    mode=\"markers+lines\",\n",
    "    # mode=\"markers\"\n",
    "))\n",
    "fig.update_layout(width=1200, height=1200*layout_ratio)\n",
    "fig.show()"
   ]
  },
  {
   "cell_type": "code",
   "execution_count": null,
   "id": "3fdd1b5b-06ba-426c-97d1-e23e5480fa22",
   "metadata": {},
   "outputs": [],
   "source": [
    "\n",
    "x_points = [x for x, y in points]\n",
    "y_points = [y for x, y in points]\n",
    "layout_ratio = max(x_points)/max(y_points)\n",
    "\n",
    "fig = go.Figure(data=go.Scattergl(\n",
    "    x=x_points,\n",
    "    y=y_points,\n",
    "    # mode=\"markers+lines\",\n",
    "    mode=\"markers\"\n",
    "))\n",
    "fig.update_layout(width=1200, height=1200*layout_ratio)\n",
    "fig.show()"
   ]
  },
  {
   "cell_type": "code",
   "execution_count": 7,
   "id": "b92dc545-ca38-4dda-a9cc-63e6920e9239",
   "metadata": {},
   "outputs": [
    {
     "ename": "NameError",
     "evalue": "name 'exploring_path' is not defined",
     "output_type": "error",
     "traceback": [
      "\u001b[1;31m---------------------------------------------------------------------------\u001b[0m",
      "\u001b[1;31mNameError\u001b[0m                                 Traceback (most recent call last)",
      "Cell \u001b[1;32mIn[7], line 1\u001b[0m\n\u001b[1;32m----> 1\u001b[0m x_points \u001b[38;5;241m=\u001b[39m [x \u001b[38;5;28;01mfor\u001b[39;00m x, y \u001b[38;5;129;01min\u001b[39;00m \u001b[43mexploring_path\u001b[49m]\n\u001b[0;32m      2\u001b[0m y_points \u001b[38;5;241m=\u001b[39m [y \u001b[38;5;28;01mfor\u001b[39;00m x, y \u001b[38;5;129;01min\u001b[39;00m exploring_path]\n\u001b[0;32m      3\u001b[0m layout_ratio \u001b[38;5;241m=\u001b[39m \u001b[38;5;28mmax\u001b[39m(x_points)\u001b[38;5;241m/\u001b[39m\u001b[38;5;28mmax\u001b[39m(y_points)\n",
      "\u001b[1;31mNameError\u001b[0m: name 'exploring_path' is not defined"
     ]
    }
   ],
   "source": [
    "\n",
    "x_points = [x for x, y in exploring_path]\n",
    "y_points = [y for x, y in exploring_path]\n",
    "layout_ratio = max(x_points)/max(y_points)\n",
    "\n",
    "fig = go.Figure(data=go.Scattergl(\n",
    "    x=x_points,\n",
    "    y=y_points,\n",
    "    mode=\"markers+lines\",\n",
    "    # mode=\"markers\"\n",
    "))\n",
    "fig.update_layout(width=1200, height=1200*layout_ratio)\n",
    "fig.show()"
   ]
  },
  {
   "cell_type": "code",
   "execution_count": null,
   "id": "600b786d-f6cb-4802-997b-a32d384a3fca",
   "metadata": {},
   "outputs": [],
   "source": [
    "## Working MST\n",
    "\n",
    "# explored_path = [[] for _ in range(len(points))]\n",
    "# explored_indexes = [] #set()\n",
    "# distance_matrix = np.array([0, 0, 0])\n",
    "# node_number = 0\n",
    "# points_count = points.shape[0]\n",
    "# max_size = 0\n",
    "\n",
    "# neighbors_to_account = 50 #points_count//5\n",
    "\n",
    "# with tqdm() as tbar:\n",
    "#     while len(set(explored_indexes)) < points_count:\n",
    "\n",
    "#         explored_indexes = list(set(explored_indexes))\n",
    "        \n",
    "#         one_point = points[node_number]\n",
    "#         explored_indexes.append(node_number)\n",
    "    \n",
    "#         neighbor_distances = length_distance(one_point, points)\n",
    "#         neighbor_idx = np.argsort(neighbor_distances)\n",
    "#         parent_idx = np.array([node_number]*points_count)[:, np.newaxis]\n",
    "#         sorted_neighbors = np.hstack((parent_idx, neighbor_idx[:, np.newaxis], neighbor_distances[neighbor_idx][:, np.newaxis]))[:neighbors_to_account]\n",
    "    \n",
    "#         distance_matrix = np.vstack((distance_matrix, sorted_neighbors))\n",
    "        \n",
    "#         mask = np.logical_not(np.isin(distance_matrix[:, 1], explored_indexes))\n",
    "#         distance_matrix = distance_matrix[mask]\n",
    "    \n",
    "#         if not distance_matrix.size:\n",
    "#             neighbors_to_account *= 2\n",
    "#             continue\n",
    "\n",
    "#         distance_matrix = distance_matrix[np.argsort(distance_matrix[:, 2])] ## sort by distance\n",
    "\n",
    "\n",
    "#         if distance_matrix.shape[0] > max_size:\n",
    "#             max_size = distance_matrix.shape[0]\n",
    "    \n",
    "#         ## Add to graph\n",
    "#         parent_node = int(distance_matrix[0][0])\n",
    "#         neighbor_node = int(distance_matrix[0][1])\n",
    "        \n",
    "#         explored_path[parent_node].append(neighbor_node)\n",
    "#         explored_path[neighbor_node].append(parent_node)\n",
    "        \n",
    "#         ## Explore next node\n",
    "#         node_number = neighbor_node\n",
    "#         tbar.update(1)\n",
    "\n",
    "#         # if len(set(explored_indexes)) ==2:\n",
    "#         #     break\n",
    "# print(len(set(explored_indexes)))     "
   ]
  }
 ],
 "metadata": {
  "kernelspec": {
   "display_name": "Python 3 (ipykernel)",
   "language": "python",
   "name": "python3"
  },
  "language_info": {
   "codemirror_mode": {
    "name": "ipython",
    "version": 3
   },
   "file_extension": ".py",
   "mimetype": "text/x-python",
   "name": "python",
   "nbconvert_exporter": "python",
   "pygments_lexer": "ipython3",
   "version": "3.10.11"
  },
  "widgets": {
   "application/vnd.jupyter.widget-state+json": {
    "state": {
     "00d138affd85433fb2e978acb458976f": {
      "model_module": "@jupyter-widgets/controls",
      "model_module_version": "2.0.0",
      "model_name": "HTMLStyleModel",
      "state": {
       "description_width": "",
       "font_size": null,
       "text_color": null
      }
     },
     "0178e5b07ab54166b70f4482dd832791": {
      "model_module": "@jupyter-widgets/base",
      "model_module_version": "2.0.0",
      "model_name": "LayoutModel",
      "state": {}
     },
     "02e182b291c64c51b12aef9e6efe80fa": {
      "model_module": "@jupyter-widgets/controls",
      "model_module_version": "2.0.0",
      "model_name": "ProgressStyleModel",
      "state": {
       "description_width": ""
      }
     },
     "0391daf46557468e9421af6bc72dcc70": {
      "model_module": "@jupyter-widgets/base",
      "model_module_version": "2.0.0",
      "model_name": "LayoutModel",
      "state": {}
     },
     "03b99e04c65f4538bba490394a6fb499": {
      "model_module": "@jupyter-widgets/controls",
      "model_module_version": "2.0.0",
      "model_name": "HTMLModel",
      "state": {
       "layout": "IPY_MODEL_c39fef9564734a82b8b2e64005a5b6d6",
       "style": "IPY_MODEL_6dbed50ebfa5453483cd094c990690dd",
       "value": " 51/51 [00:00&lt;00:00, 8499.27it/s]"
      }
     },
     "04839a97e90f43fbade765a1ae97aef2": {
      "model_module": "@jupyter-widgets/base",
      "model_module_version": "2.0.0",
      "model_name": "LayoutModel",
      "state": {}
     },
     "0657a85fef2048d3a49e5fa4607b13ed": {
      "model_module": "@jupyter-widgets/controls",
      "model_module_version": "2.0.0",
      "model_name": "ProgressStyleModel",
      "state": {
       "description_width": ""
      }
     },
     "065be1d1e8df423fa6555fee8f3bb73f": {
      "model_module": "@jupyter-widgets/controls",
      "model_module_version": "2.0.0",
      "model_name": "HTMLModel",
      "state": {
       "layout": "IPY_MODEL_ac19638fb78a4f32bc7482a08300990d",
       "style": "IPY_MODEL_ef35ad37fa8c4beb932122c47259609c"
      }
     },
     "0880f873b77142ef8ff2090a3445d276": {
      "model_module": "@jupyter-widgets/controls",
      "model_module_version": "2.0.0",
      "model_name": "ProgressStyleModel",
      "state": {
       "description_width": ""
      }
     },
     "0b638c5fbbf3468f84a956e5a6a70a02": {
      "model_module": "@jupyter-widgets/base",
      "model_module_version": "2.0.0",
      "model_name": "LayoutModel",
      "state": {}
     },
     "0ba18a7643ac4d08892b1f102494f362": {
      "model_module": "@jupyter-widgets/controls",
      "model_module_version": "2.0.0",
      "model_name": "HBoxModel",
      "state": {
       "children": [
        "IPY_MODEL_2493f00a93e249abb0f23876a31b870c",
        "IPY_MODEL_abba2754720446f580df52fb744b043b",
        "IPY_MODEL_3b359b69ca0b4225b16855147787746c"
       ],
       "layout": "IPY_MODEL_0391daf46557468e9421af6bc72dcc70"
      }
     },
     "0bab50052007484dbcc1846f8859956d": {
      "model_module": "@jupyter-widgets/base",
      "model_module_version": "2.0.0",
      "model_name": "LayoutModel",
      "state": {
       "width": "20px"
      }
     },
     "0f440139f6fd46c883eee8341b2e9be8": {
      "model_module": "@jupyter-widgets/controls",
      "model_module_version": "2.0.0",
      "model_name": "HTMLModel",
      "state": {
       "layout": "IPY_MODEL_66c5b17762b44e7cb3e8efe2dc62bda1",
       "style": "IPY_MODEL_cf5069a771eb42f487068f892edd4b50",
       "value": " 51/? [00:00&lt;00:00, 7287.48it/s]"
      }
     },
     "10b53c0c7551470e9c51326e2f07d8ca": {
      "model_module": "@jupyter-widgets/controls",
      "model_module_version": "2.0.0",
      "model_name": "ProgressStyleModel",
      "state": {
       "description_width": ""
      }
     },
     "10ede1895ce244aa9734b54380f2024a": {
      "model_module": "@jupyter-widgets/controls",
      "model_module_version": "2.0.0",
      "model_name": "FloatProgressModel",
      "state": {
       "bar_style": "success",
       "layout": "IPY_MODEL_ce04589a1dc84bddb90f53fa79681d44",
       "max": 51,
       "style": "IPY_MODEL_5c9ff26b6de140948fd522c94016bd97",
       "value": 51
      }
     },
     "10ef1f231afe4341bc73244a5ba00811": {
      "model_module": "@jupyter-widgets/controls",
      "model_module_version": "2.0.0",
      "model_name": "HTMLModel",
      "state": {
       "layout": "IPY_MODEL_04839a97e90f43fbade765a1ae97aef2",
       "style": "IPY_MODEL_bec23f7c932a4fadb96e0d75b9b4dd26",
       "value": "100%"
      }
     },
     "10f3f68421e84360ae6329e6a05d5ffc": {
      "model_module": "@jupyter-widgets/base",
      "model_module_version": "2.0.0",
      "model_name": "LayoutModel",
      "state": {}
     },
     "11a4ca6c71e9413aab9485c99fbfd7ef": {
      "model_module": "@jupyter-widgets/controls",
      "model_module_version": "2.0.0",
      "model_name": "HTMLModel",
      "state": {
       "layout": "IPY_MODEL_5ca987574cfe499c88819c6d006af93b",
       "style": "IPY_MODEL_f6d1c7a4dd214041bf301d0d28663407"
      }
     },
     "126931aaf5b24e4098044dfde8f3b2d6": {
      "model_module": "@jupyter-widgets/controls",
      "model_module_version": "2.0.0",
      "model_name": "HTMLModel",
      "state": {
       "layout": "IPY_MODEL_93b8aa0de4d8460c807b0264f02e039c",
       "style": "IPY_MODEL_00d138affd85433fb2e978acb458976f"
      }
     },
     "1286a509fc3947ff9cd05168876e8565": {
      "model_module": "@jupyter-widgets/controls",
      "model_module_version": "2.0.0",
      "model_name": "FloatProgressModel",
      "state": {
       "bar_style": "success",
       "layout": "IPY_MODEL_5c477d5a619f49eba8a8036a8ae226ad",
       "max": 1,
       "style": "IPY_MODEL_989670255afa40ee80ab35ab38c426f3",
       "value": 1
      }
     },
     "12eb501a04614a8581297bf43fe6830f": {
      "model_module": "@jupyter-widgets/base",
      "model_module_version": "2.0.0",
      "model_name": "LayoutModel",
      "state": {}
     },
     "158f338496fd4dfeaadcbaaeb86d17c7": {
      "model_module": "@jupyter-widgets/controls",
      "model_module_version": "2.0.0",
      "model_name": "HTMLStyleModel",
      "state": {
       "description_width": "",
       "font_size": null,
       "text_color": null
      }
     },
     "188a27c85aa34b7491ddff4f5f1d9e25": {
      "model_module": "@jupyter-widgets/controls",
      "model_module_version": "2.0.0",
      "model_name": "HBoxModel",
      "state": {
       "children": [
        "IPY_MODEL_99b355ec6e2743eaa48c80752565f5ef",
        "IPY_MODEL_3a97ce7abebb47f68729caed3611b173",
        "IPY_MODEL_6d13891e922b4238af634d60bee76d1f"
       ],
       "layout": "IPY_MODEL_5821c356e8284531951ef5fd1890a6c1"
      }
     },
     "1a1936f9a9224b62ae9e05de3a78b354": {
      "model_module": "@jupyter-widgets/controls",
      "model_module_version": "2.0.0",
      "model_name": "HTMLModel",
      "state": {
       "layout": "IPY_MODEL_3321ed6ceefb4cddabbd962af00eacb8",
       "style": "IPY_MODEL_3dd5c521ebdf4e8cbd7547271d345c9f",
       "value": "100%"
      }
     },
     "1aaa2e4c9f434c478c983dba1834c242": {
      "model_module": "@jupyter-widgets/controls",
      "model_module_version": "2.0.0",
      "model_name": "HTMLStyleModel",
      "state": {
       "description_width": "",
       "font_size": null,
       "text_color": null
      }
     },
     "20df5e6052324acd872e29a3563eaa49": {
      "model_module": "@jupyter-widgets/base",
      "model_module_version": "2.0.0",
      "model_name": "LayoutModel",
      "state": {}
     },
     "233e9dccccda4d639600196634c0b810": {
      "model_module": "@jupyter-widgets/base",
      "model_module_version": "2.0.0",
      "model_name": "LayoutModel",
      "state": {}
     },
     "2493f00a93e249abb0f23876a31b870c": {
      "model_module": "@jupyter-widgets/controls",
      "model_module_version": "2.0.0",
      "model_name": "HTMLModel",
      "state": {
       "layout": "IPY_MODEL_995a7c4e244940cd8f9ab2f815b32702",
       "style": "IPY_MODEL_4f9ba457c7ea48ddbf0a818792cc7b4c"
      }
     },
     "25ae671195ff41448f04d2dc76386fd4": {
      "model_module": "@jupyter-widgets/controls",
      "model_module_version": "2.0.0",
      "model_name": "HTMLModel",
      "state": {
       "layout": "IPY_MODEL_233e9dccccda4d639600196634c0b810",
       "style": "IPY_MODEL_55c7a06adcd041b186e60ef860a22c8b",
       "value": " 50/? [00:00&lt;00:00,  5.43it/s]"
      }
     },
     "27fc092112d449858df014eab9510839": {
      "model_module": "@jupyter-widgets/controls",
      "model_module_version": "2.0.0",
      "model_name": "HBoxModel",
      "state": {
       "children": [
        "IPY_MODEL_b695bef4234944e494575d5c389fd144",
        "IPY_MODEL_5a2eea3136d549aab1028aece08d4802",
        "IPY_MODEL_2dda0a364c384146acd65c0ad46ed1ca"
       ],
       "layout": "IPY_MODEL_0178e5b07ab54166b70f4482dd832791"
      }
     },
     "28749d8de4ba4b4c82b70987ab1824c2": {
      "model_module": "@jupyter-widgets/controls",
      "model_module_version": "2.0.0",
      "model_name": "HTMLStyleModel",
      "state": {
       "description_width": "",
       "font_size": null,
       "text_color": null
      }
     },
     "29fa48af51804a2e8e7b06914065f3d0": {
      "model_module": "@jupyter-widgets/controls",
      "model_module_version": "2.0.0",
      "model_name": "HTMLModel",
      "state": {
       "layout": "IPY_MODEL_78f37a2ab25f4f5588cd3c3ba007313b",
       "style": "IPY_MODEL_b616e302f7c14a1f97e233544c5e1aed",
       "value": "100%"
      }
     },
     "2aea2732e333412e8810222c898dc75f": {
      "model_module": "@jupyter-widgets/controls",
      "model_module_version": "2.0.0",
      "model_name": "HTMLModel",
      "state": {
       "layout": "IPY_MODEL_74cbdbf86ddb4574a9b797a0ad3ef975",
       "style": "IPY_MODEL_43d5806e4c934231ad5f79e9f9e69302",
       "value": " 50/? [00:00&lt;00:00,  2.60it/s]"
      }
     },
     "2dda0a364c384146acd65c0ad46ed1ca": {
      "model_module": "@jupyter-widgets/controls",
      "model_module_version": "2.0.0",
      "model_name": "HTMLModel",
      "state": {
       "layout": "IPY_MODEL_63beedb0b80f497d8b3168651eac7ee5",
       "style": "IPY_MODEL_158f338496fd4dfeaadcbaaeb86d17c7",
       "value": " 1889/1889 [00:00&lt;00:00, 78692.93it/s]"
      }
     },
     "2eb897db86fb46ce9e4ef22a2f7ba83a": {
      "model_module": "@jupyter-widgets/controls",
      "model_module_version": "2.0.0",
      "model_name": "HTMLStyleModel",
      "state": {
       "description_width": "",
       "font_size": null,
       "text_color": null
      }
     },
     "2fc6121aef2a4cb99562f2ad21ec50e7": {
      "model_module": "@jupyter-widgets/controls",
      "model_module_version": "2.0.0",
      "model_name": "HTMLStyleModel",
      "state": {
       "description_width": "",
       "font_size": null,
       "text_color": null
      }
     },
     "3195b968642c4bd1b317e4cdb92f0239": {
      "model_module": "@jupyter-widgets/controls",
      "model_module_version": "2.0.0",
      "model_name": "HTMLStyleModel",
      "state": {
       "description_width": "",
       "font_size": null,
       "text_color": null
      }
     },
     "3321ed6ceefb4cddabbd962af00eacb8": {
      "model_module": "@jupyter-widgets/base",
      "model_module_version": "2.0.0",
      "model_name": "LayoutModel",
      "state": {}
     },
     "33bf1f27d2bd40e2b9783f7a4f54c43d": {
      "model_module": "@jupyter-widgets/controls",
      "model_module_version": "2.0.0",
      "model_name": "ProgressStyleModel",
      "state": {
       "description_width": ""
      }
     },
     "33f5caacadf54f82955816cc4836d1d9": {
      "model_module": "@jupyter-widgets/base",
      "model_module_version": "2.0.0",
      "model_name": "LayoutModel",
      "state": {}
     },
     "3413dd04c2234a80a6c3eca27a43cac7": {
      "model_module": "@jupyter-widgets/controls",
      "model_module_version": "2.0.0",
      "model_name": "HTMLModel",
      "state": {
       "layout": "IPY_MODEL_4682aa2d99494dd99e1921ba14a03d14",
       "style": "IPY_MODEL_88af125802784015bc2835c923202538",
       "value": "100%"
      }
     },
     "3423c21656cf4883867b0bf7500fe78f": {
      "model_module": "@jupyter-widgets/controls",
      "model_module_version": "2.0.0",
      "model_name": "FloatProgressModel",
      "state": {
       "bar_style": "success",
       "layout": "IPY_MODEL_67c00c8fc4c741a2ac3eb67545196394",
       "max": 1000,
       "style": "IPY_MODEL_3a1c804cb6d044deb5dfc15b8d61cdef",
       "value": 1000
      }
     },
     "36b4cf352b8c4f0c8269aae8d2bea73c": {
      "model_module": "@jupyter-widgets/controls",
      "model_module_version": "2.0.0",
      "model_name": "HTMLStyleModel",
      "state": {
       "description_width": "",
       "font_size": null,
       "text_color": null
      }
     },
     "3838d46371394ecab818b1b8eaaeb0ef": {
      "model_module": "@jupyter-widgets/base",
      "model_module_version": "2.0.0",
      "model_name": "LayoutModel",
      "state": {}
     },
     "3a1c804cb6d044deb5dfc15b8d61cdef": {
      "model_module": "@jupyter-widgets/controls",
      "model_module_version": "2.0.0",
      "model_name": "ProgressStyleModel",
      "state": {
       "description_width": ""
      }
     },
     "3a97ce7abebb47f68729caed3611b173": {
      "model_module": "@jupyter-widgets/controls",
      "model_module_version": "2.0.0",
      "model_name": "FloatProgressModel",
      "state": {
       "bar_style": "success",
       "layout": "IPY_MODEL_640c48ec762749dcba88fba5795ea46c",
       "max": 1,
       "style": "IPY_MODEL_0657a85fef2048d3a49e5fa4607b13ed",
       "value": 1
      }
     },
     "3aa15850ca75471e83dabce8785c8987": {
      "model_module": "@jupyter-widgets/base",
      "model_module_version": "2.0.0",
      "model_name": "LayoutModel",
      "state": {}
     },
     "3ab71c1dc3da43ba8b4e5697de636265": {
      "model_module": "@jupyter-widgets/controls",
      "model_module_version": "2.0.0",
      "model_name": "HTMLStyleModel",
      "state": {
       "description_width": "",
       "font_size": null,
       "text_color": null
      }
     },
     "3b359b69ca0b4225b16855147787746c": {
      "model_module": "@jupyter-widgets/controls",
      "model_module_version": "2.0.0",
      "model_name": "HTMLModel",
      "state": {
       "layout": "IPY_MODEL_ce732338354f4e9ea3a61fd4df95efc2",
       "style": "IPY_MODEL_c67e68895e9144a5a39573d0a2a19d3b",
       "value": " 51/? [00:00&lt;00:00, 7260.28it/s]"
      }
     },
     "3dd5c521ebdf4e8cbd7547271d345c9f": {
      "model_module": "@jupyter-widgets/controls",
      "model_module_version": "2.0.0",
      "model_name": "HTMLStyleModel",
      "state": {
       "description_width": "",
       "font_size": null,
       "text_color": null
      }
     },
     "3e367b30513347108e72f866615e56fc": {
      "model_module": "@jupyter-widgets/base",
      "model_module_version": "2.0.0",
      "model_name": "LayoutModel",
      "state": {}
     },
     "3fd9853ace094aa0be19a06467bfbeef": {
      "model_module": "@jupyter-widgets/controls",
      "model_module_version": "2.0.0",
      "model_name": "HTMLModel",
      "state": {
       "layout": "IPY_MODEL_d1556bddb77c4e519441577807505e50",
       "style": "IPY_MODEL_d52432fc805d41a292e3e400720e7fb2",
       "value": " 51/? [00:00&lt;00:00, 8499.94it/s]"
      }
     },
     "3fdd17d1e62c4fc18732f50301174be6": {
      "model_module": "@jupyter-widgets/controls",
      "model_module_version": "2.0.0",
      "model_name": "HBoxModel",
      "state": {
       "children": [
        "IPY_MODEL_a775461cac034ae486402c379cb8aec7",
        "IPY_MODEL_b6881eb8c94742469339abe8036a0c4b",
        "IPY_MODEL_50bc4d32025244a49f4d086661f2881f"
       ],
       "layout": "IPY_MODEL_3e367b30513347108e72f866615e56fc"
      }
     },
     "40f251c99e674e0489a45f6954208405": {
      "model_module": "@jupyter-widgets/base",
      "model_module_version": "2.0.0",
      "model_name": "LayoutModel",
      "state": {}
     },
     "43d5806e4c934231ad5f79e9f9e69302": {
      "model_module": "@jupyter-widgets/controls",
      "model_module_version": "2.0.0",
      "model_name": "HTMLStyleModel",
      "state": {
       "description_width": "",
       "font_size": null,
       "text_color": null
      }
     },
     "4576afb06340492c8cef27e09d46e851": {
      "model_module": "@jupyter-widgets/base",
      "model_module_version": "2.0.0",
      "model_name": "LayoutModel",
      "state": {}
     },
     "462a41fcb5764f32bcc067078fa48583": {
      "model_module": "@jupyter-widgets/controls",
      "model_module_version": "2.0.0",
      "model_name": "HTMLModel",
      "state": {
       "layout": "IPY_MODEL_3838d46371394ecab818b1b8eaaeb0ef",
       "style": "IPY_MODEL_2fc6121aef2a4cb99562f2ad21ec50e7",
       "value": " 574/? [00:00&lt;00:00, 71740.23it/s]"
      }
     },
     "4682aa2d99494dd99e1921ba14a03d14": {
      "model_module": "@jupyter-widgets/base",
      "model_module_version": "2.0.0",
      "model_name": "LayoutModel",
      "state": {}
     },
     "46a66076d37b46e5839d12f1b253bc1f": {
      "model_module": "@jupyter-widgets/base",
      "model_module_version": "2.0.0",
      "model_name": "LayoutModel",
      "state": {}
     },
     "472d2c35631a4024ac654a35480be254": {
      "model_module": "@jupyter-widgets/controls",
      "model_module_version": "2.0.0",
      "model_name": "HTMLModel",
      "state": {
       "layout": "IPY_MODEL_20df5e6052324acd872e29a3563eaa49",
       "style": "IPY_MODEL_36b4cf352b8c4f0c8269aae8d2bea73c",
       "value": " 1000/1000 [00:00&lt;00:00, 4913.93it/s]"
      }
     },
     "4d296e48082845fe9a79e23c21591014": {
      "model_module": "@jupyter-widgets/base",
      "model_module_version": "2.0.0",
      "model_name": "LayoutModel",
      "state": {
       "width": "20px"
      }
     },
     "4efe4d61bcce4093b17c2da9fa6d3d33": {
      "model_module": "@jupyter-widgets/controls",
      "model_module_version": "2.0.0",
      "model_name": "HTMLStyleModel",
      "state": {
       "description_width": "",
       "font_size": null,
       "text_color": null
      }
     },
     "4f9ba457c7ea48ddbf0a818792cc7b4c": {
      "model_module": "@jupyter-widgets/controls",
      "model_module_version": "2.0.0",
      "model_name": "HTMLStyleModel",
      "state": {
       "description_width": "",
       "font_size": null,
       "text_color": null
      }
     },
     "50bc4d32025244a49f4d086661f2881f": {
      "model_module": "@jupyter-widgets/controls",
      "model_module_version": "2.0.0",
      "model_name": "HTMLModel",
      "state": {
       "layout": "IPY_MODEL_3aa15850ca75471e83dabce8785c8987",
       "style": "IPY_MODEL_50dfe8b133f34dd98dfc544449fa3508",
       "value": " 1888/? [00:01&lt;00:00, 1287.20it/s]"
      }
     },
     "50cd7d2875c24a33bfb108497947f649": {
      "model_module": "@jupyter-widgets/base",
      "model_module_version": "2.0.0",
      "model_name": "LayoutModel",
      "state": {}
     },
     "50dfe8b133f34dd98dfc544449fa3508": {
      "model_module": "@jupyter-widgets/controls",
      "model_module_version": "2.0.0",
      "model_name": "HTMLStyleModel",
      "state": {
       "description_width": "",
       "font_size": null,
       "text_color": null
      }
     },
     "51645e9d2d99438c898f95bf96be0f4c": {
      "model_module": "@jupyter-widgets/base",
      "model_module_version": "2.0.0",
      "model_name": "LayoutModel",
      "state": {}
     },
     "52f00105789041dab00619827632d7cc": {
      "model_module": "@jupyter-widgets/controls",
      "model_module_version": "2.0.0",
      "model_name": "HTMLStyleModel",
      "state": {
       "description_width": "",
       "font_size": null,
       "text_color": null
      }
     },
     "5512b6f6853e4fb68ccebcb17b5cc95a": {
      "model_module": "@jupyter-widgets/base",
      "model_module_version": "2.0.0",
      "model_name": "LayoutModel",
      "state": {}
     },
     "556874adcdeb4de4baa27e4fc2fbebcc": {
      "model_module": "@jupyter-widgets/controls",
      "model_module_version": "2.0.0",
      "model_name": "HTMLStyleModel",
      "state": {
       "description_width": "",
       "font_size": null,
       "text_color": null
      }
     },
     "55c7a06adcd041b186e60ef860a22c8b": {
      "model_module": "@jupyter-widgets/controls",
      "model_module_version": "2.0.0",
      "model_name": "HTMLStyleModel",
      "state": {
       "description_width": "",
       "font_size": null,
       "text_color": null
      }
     },
     "5821c356e8284531951ef5fd1890a6c1": {
      "model_module": "@jupyter-widgets/base",
      "model_module_version": "2.0.0",
      "model_name": "LayoutModel",
      "state": {}
     },
     "5a2eea3136d549aab1028aece08d4802": {
      "model_module": "@jupyter-widgets/controls",
      "model_module_version": "2.0.0",
      "model_name": "FloatProgressModel",
      "state": {
       "bar_style": "success",
       "layout": "IPY_MODEL_51645e9d2d99438c898f95bf96be0f4c",
       "max": 1889,
       "style": "IPY_MODEL_5d2a6a06418d4112a5c44ce658a2a571",
       "value": 1889
      }
     },
     "5a9daf623d6d44dc964967131171e75b": {
      "model_module": "@jupyter-widgets/controls",
      "model_module_version": "2.0.0",
      "model_name": "HTMLModel",
      "state": {
       "layout": "IPY_MODEL_c657127e5bac49598df4ec065a4e61bf",
       "style": "IPY_MODEL_52f00105789041dab00619827632d7cc",
       "value": " 51/51 [00:00&lt;00:00, 10179.38it/s]"
      }
     },
     "5aeb4a0b090b40b887e45b3b7ea542a7": {
      "model_module": "@jupyter-widgets/controls",
      "model_module_version": "2.0.0",
      "model_name": "HTMLModel",
      "state": {
       "layout": "IPY_MODEL_b5d68ed588fd4198b28e3e76741aa5f9",
       "style": "IPY_MODEL_3ab71c1dc3da43ba8b4e5697de636265",
       "value": " 51/? [00:00&lt;00:00, 7245.03it/s]"
      }
     },
     "5c477d5a619f49eba8a8036a8ae226ad": {
      "model_module": "@jupyter-widgets/base",
      "model_module_version": "2.0.0",
      "model_name": "LayoutModel",
      "state": {
       "width": "20px"
      }
     },
     "5c9ff26b6de140948fd522c94016bd97": {
      "model_module": "@jupyter-widgets/controls",
      "model_module_version": "2.0.0",
      "model_name": "ProgressStyleModel",
      "state": {
       "description_width": ""
      }
     },
     "5ca987574cfe499c88819c6d006af93b": {
      "model_module": "@jupyter-widgets/base",
      "model_module_version": "2.0.0",
      "model_name": "LayoutModel",
      "state": {}
     },
     "5d2a6a06418d4112a5c44ce658a2a571": {
      "model_module": "@jupyter-widgets/controls",
      "model_module_version": "2.0.0",
      "model_name": "ProgressStyleModel",
      "state": {
       "description_width": ""
      }
     },
     "622c1155d6364f9c8f9e83882edcb55e": {
      "model_module": "@jupyter-widgets/controls",
      "model_module_version": "2.0.0",
      "model_name": "HBoxModel",
      "state": {
       "children": [
        "IPY_MODEL_11a4ca6c71e9413aab9485c99fbfd7ef",
        "IPY_MODEL_d66b1b020c934f59b54ca1f288b6b00f",
        "IPY_MODEL_3fd9853ace094aa0be19a06467bfbeef"
       ],
       "layout": "IPY_MODEL_b6ef9a3f295240d49aeb2d9eb29153a9"
      }
     },
     "632868adcc6947dfa8bd3759d5f419c2": {
      "model_module": "@jupyter-widgets/controls",
      "model_module_version": "2.0.0",
      "model_name": "HBoxModel",
      "state": {
       "children": [
        "IPY_MODEL_f0963f4069c74d45999e0d8282261eb4",
        "IPY_MODEL_e080535dbfea4159954158e337ce2bef",
        "IPY_MODEL_0f440139f6fd46c883eee8341b2e9be8"
       ],
       "layout": "IPY_MODEL_40f251c99e674e0489a45f6954208405"
      }
     },
     "63beedb0b80f497d8b3168651eac7ee5": {
      "model_module": "@jupyter-widgets/base",
      "model_module_version": "2.0.0",
      "model_name": "LayoutModel",
      "state": {}
     },
     "640c48ec762749dcba88fba5795ea46c": {
      "model_module": "@jupyter-widgets/base",
      "model_module_version": "2.0.0",
      "model_name": "LayoutModel",
      "state": {
       "width": "20px"
      }
     },
     "64658f4e14bf4b2e92d9fbf7909415cf": {
      "model_module": "@jupyter-widgets/controls",
      "model_module_version": "2.0.0",
      "model_name": "HBoxModel",
      "state": {
       "children": [
        "IPY_MODEL_10ef1f231afe4341bc73244a5ba00811",
        "IPY_MODEL_cd19e772d5624f769e8eb8c7c3781eab",
        "IPY_MODEL_ae86674d38384b268b49bf21c664d6af"
       ],
       "layout": "IPY_MODEL_f14534f3a26f44a59cb100f970e0334c"
      }
     },
     "6579c39865ff4a958efbd818d52c98b6": {
      "model_module": "@jupyter-widgets/controls",
      "model_module_version": "2.0.0",
      "model_name": "HBoxModel",
      "state": {
       "children": [
        "IPY_MODEL_fd37eb8ba29b455681f6773895bb3b6b",
        "IPY_MODEL_1286a509fc3947ff9cd05168876e8565",
        "IPY_MODEL_2aea2732e333412e8810222c898dc75f"
       ],
       "layout": "IPY_MODEL_e9d1c4abf1f14d0595c7d2f2a10e5d60"
      }
     },
     "65ea2fdb28744037b53dc2629d01843c": {
      "model_module": "@jupyter-widgets/base",
      "model_module_version": "2.0.0",
      "model_name": "LayoutModel",
      "state": {}
     },
     "66c5b17762b44e7cb3e8efe2dc62bda1": {
      "model_module": "@jupyter-widgets/base",
      "model_module_version": "2.0.0",
      "model_name": "LayoutModel",
      "state": {}
     },
     "675e9783dca647f7bdfaa0d77d091965": {
      "model_module": "@jupyter-widgets/base",
      "model_module_version": "2.0.0",
      "model_name": "LayoutModel",
      "state": {}
     },
     "67c00c8fc4c741a2ac3eb67545196394": {
      "model_module": "@jupyter-widgets/base",
      "model_module_version": "2.0.0",
      "model_name": "LayoutModel",
      "state": {}
     },
     "6d13891e922b4238af634d60bee76d1f": {
      "model_module": "@jupyter-widgets/controls",
      "model_module_version": "2.0.0",
      "model_name": "HTMLModel",
      "state": {
       "layout": "IPY_MODEL_10f3f68421e84360ae6329e6a05d5ffc",
       "style": "IPY_MODEL_1aaa2e4c9f434c478c983dba1834c242",
       "value": " 50/? [00:00&lt;00:00,  1.66it/s]"
      }
     },
     "6dbed50ebfa5453483cd094c990690dd": {
      "model_module": "@jupyter-widgets/controls",
      "model_module_version": "2.0.0",
      "model_name": "HTMLStyleModel",
      "state": {
       "description_width": "",
       "font_size": null,
       "text_color": null
      }
     },
     "73313c266e304819b779465aad0b2c3a": {
      "model_module": "@jupyter-widgets/controls",
      "model_module_version": "2.0.0",
      "model_name": "HTMLStyleModel",
      "state": {
       "description_width": "",
       "font_size": null,
       "text_color": null
      }
     },
     "74cbdbf86ddb4574a9b797a0ad3ef975": {
      "model_module": "@jupyter-widgets/base",
      "model_module_version": "2.0.0",
      "model_name": "LayoutModel",
      "state": {}
     },
     "7741c6e6e778417a9aa1e8fdfbcdaff9": {
      "model_module": "@jupyter-widgets/base",
      "model_module_version": "2.0.0",
      "model_name": "LayoutModel",
      "state": {
       "width": "20px"
      }
     },
     "78d8c29d2dd443778051780432f43798": {
      "model_module": "@jupyter-widgets/controls",
      "model_module_version": "2.0.0",
      "model_name": "HTMLStyleModel",
      "state": {
       "description_width": "",
       "font_size": null,
       "text_color": null
      }
     },
     "78f37a2ab25f4f5588cd3c3ba007313b": {
      "model_module": "@jupyter-widgets/base",
      "model_module_version": "2.0.0",
      "model_name": "LayoutModel",
      "state": {}
     },
     "7a69f56181c243b69b3ada534480f991": {
      "model_module": "@jupyter-widgets/controls",
      "model_module_version": "2.0.0",
      "model_name": "ProgressStyleModel",
      "state": {
       "description_width": ""
      }
     },
     "7b213557f83b405d9d4b538eb941e549": {
      "model_module": "@jupyter-widgets/controls",
      "model_module_version": "2.0.0",
      "model_name": "FloatProgressModel",
      "state": {
       "bar_style": "success",
       "layout": "IPY_MODEL_ab92bf5ce37e40c8aa9fd3211ae4c454",
       "max": 1,
       "style": "IPY_MODEL_0880f873b77142ef8ff2090a3445d276",
       "value": 1
      }
     },
     "7bfe5f0f9f2c4ac9ac56316049cd58e4": {
      "model_module": "@jupyter-widgets/base",
      "model_module_version": "2.0.0",
      "model_name": "LayoutModel",
      "state": {}
     },
     "7e17a9d0c2994c36adba57d18fcc1833": {
      "model_module": "@jupyter-widgets/controls",
      "model_module_version": "2.0.0",
      "model_name": "HTMLStyleModel",
      "state": {
       "description_width": "",
       "font_size": null,
       "text_color": null
      }
     },
     "80833fa6145d42c689f038218f866be7": {
      "model_module": "@jupyter-widgets/controls",
      "model_module_version": "2.0.0",
      "model_name": "HBoxModel",
      "state": {
       "children": [
        "IPY_MODEL_29fa48af51804a2e8e7b06914065f3d0",
        "IPY_MODEL_ec584b379b6c4b409095cc5ed95611ab",
        "IPY_MODEL_e27dde48a9b5444195499c0cc7f4771f"
       ],
       "layout": "IPY_MODEL_a396c60ddd9044de815b824945d4afa8"
      }
     },
     "82621f55ab874d3b9e34fb43aae8f362": {
      "model_module": "@jupyter-widgets/controls",
      "model_module_version": "2.0.0",
      "model_name": "HTMLModel",
      "state": {
       "layout": "IPY_MODEL_a68d1332eb404c22a0e75802eb0f0c36",
       "style": "IPY_MODEL_73313c266e304819b779465aad0b2c3a"
      }
     },
     "8845308590114bdb8ed6c8a1c8d34d93": {
      "model_module": "@jupyter-widgets/base",
      "model_module_version": "2.0.0",
      "model_name": "LayoutModel",
      "state": {}
     },
     "88af125802784015bc2835c923202538": {
      "model_module": "@jupyter-widgets/controls",
      "model_module_version": "2.0.0",
      "model_name": "HTMLStyleModel",
      "state": {
       "description_width": "",
       "font_size": null,
       "text_color": null
      }
     },
     "88cf033e9fb44d3283a0ff8eee5513f6": {
      "model_module": "@jupyter-widgets/controls",
      "model_module_version": "2.0.0",
      "model_name": "HBoxModel",
      "state": {
       "children": [
        "IPY_MODEL_bf4ca211306c47c18d971c5ae86bbf4c",
        "IPY_MODEL_d3922ccf17704672af0016dffda2a2b4",
        "IPY_MODEL_25ae671195ff41448f04d2dc76386fd4"
       ],
       "layout": "IPY_MODEL_8dd9a37c6235498b821f2c954b10031b"
      }
     },
     "8cc80a2207974e36ad1de4be84702c07": {
      "model_module": "@jupyter-widgets/controls",
      "model_module_version": "2.0.0",
      "model_name": "HTMLStyleModel",
      "state": {
       "description_width": "",
       "font_size": null,
       "text_color": null
      }
     },
     "8dd9a37c6235498b821f2c954b10031b": {
      "model_module": "@jupyter-widgets/base",
      "model_module_version": "2.0.0",
      "model_name": "LayoutModel",
      "state": {}
     },
     "930ce62ee16349439dce7bfb34ee9345": {
      "model_module": "@jupyter-widgets/controls",
      "model_module_version": "2.0.0",
      "model_name": "ProgressStyleModel",
      "state": {
       "description_width": ""
      }
     },
     "93b8aa0de4d8460c807b0264f02e039c": {
      "model_module": "@jupyter-widgets/base",
      "model_module_version": "2.0.0",
      "model_name": "LayoutModel",
      "state": {}
     },
     "96cafdc914ea4b43a68ef942e734a4d2": {
      "model_module": "@jupyter-widgets/controls",
      "model_module_version": "2.0.0",
      "model_name": "FloatProgressModel",
      "state": {
       "bar_style": "success",
       "layout": "IPY_MODEL_12eb501a04614a8581297bf43fe6830f",
       "max": 51,
       "style": "IPY_MODEL_d0104d0d158a4fc789e108701131632e",
       "value": 51
      }
     },
     "989670255afa40ee80ab35ab38c426f3": {
      "model_module": "@jupyter-widgets/controls",
      "model_module_version": "2.0.0",
      "model_name": "ProgressStyleModel",
      "state": {
       "description_width": ""
      }
     },
     "995a7c4e244940cd8f9ab2f815b32702": {
      "model_module": "@jupyter-widgets/base",
      "model_module_version": "2.0.0",
      "model_name": "LayoutModel",
      "state": {}
     },
     "99b355ec6e2743eaa48c80752565f5ef": {
      "model_module": "@jupyter-widgets/controls",
      "model_module_version": "2.0.0",
      "model_name": "HTMLModel",
      "state": {
       "layout": "IPY_MODEL_a343999580fd4621b808eb9db106ca79",
       "style": "IPY_MODEL_7e17a9d0c2994c36adba57d18fcc1833"
      }
     },
     "9c96439a362940aaaa8008c7be98161c": {
      "model_module": "@jupyter-widgets/base",
      "model_module_version": "2.0.0",
      "model_name": "LayoutModel",
      "state": {}
     },
     "9e6da327410c4b8686c6569160fadbd7": {
      "model_module": "@jupyter-widgets/controls",
      "model_module_version": "2.0.0",
      "model_name": "FloatProgressModel",
      "state": {
       "bar_style": "success",
       "layout": "IPY_MODEL_f766fed1156f43a8831b49b9da8247ba",
       "max": 1,
       "style": "IPY_MODEL_7a69f56181c243b69b3ada534480f991",
       "value": 1
      }
     },
     "a1483c9b835d4bb9943721544e88af08": {
      "model_module": "@jupyter-widgets/controls",
      "model_module_version": "2.0.0",
      "model_name": "HBoxModel",
      "state": {
       "children": [
        "IPY_MODEL_3413dd04c2234a80a6c3eca27a43cac7",
        "IPY_MODEL_3423c21656cf4883867b0bf7500fe78f",
        "IPY_MODEL_472d2c35631a4024ac654a35480be254"
       ],
       "layout": "IPY_MODEL_9c96439a362940aaaa8008c7be98161c"
      }
     },
     "a343999580fd4621b808eb9db106ca79": {
      "model_module": "@jupyter-widgets/base",
      "model_module_version": "2.0.0",
      "model_name": "LayoutModel",
      "state": {}
     },
     "a396c60ddd9044de815b824945d4afa8": {
      "model_module": "@jupyter-widgets/base",
      "model_module_version": "2.0.0",
      "model_name": "LayoutModel",
      "state": {}
     },
     "a452c2b5185640309366e25ba1ff3bb7": {
      "model_module": "@jupyter-widgets/controls",
      "model_module_version": "2.0.0",
      "model_name": "ProgressStyleModel",
      "state": {
       "description_width": ""
      }
     },
     "a669557a4af641bfa48ea42a495ce79e": {
      "model_module": "@jupyter-widgets/controls",
      "model_module_version": "2.0.0",
      "model_name": "FloatProgressModel",
      "state": {
       "bar_style": "success",
       "layout": "IPY_MODEL_7741c6e6e778417a9aa1e8fdfbcdaff9",
       "max": 1,
       "style": "IPY_MODEL_33bf1f27d2bd40e2b9783f7a4f54c43d",
       "value": 1
      }
     },
     "a67ab289432e468ea60491be73828e94": {
      "model_module": "@jupyter-widgets/controls",
      "model_module_version": "2.0.0",
      "model_name": "ProgressStyleModel",
      "state": {
       "description_width": ""
      }
     },
     "a68d1332eb404c22a0e75802eb0f0c36": {
      "model_module": "@jupyter-widgets/base",
      "model_module_version": "2.0.0",
      "model_name": "LayoutModel",
      "state": {}
     },
     "a775461cac034ae486402c379cb8aec7": {
      "model_module": "@jupyter-widgets/controls",
      "model_module_version": "2.0.0",
      "model_name": "HTMLModel",
      "state": {
       "layout": "IPY_MODEL_50cd7d2875c24a33bfb108497947f649",
       "style": "IPY_MODEL_28749d8de4ba4b4c82b70987ab1824c2"
      }
     },
     "ab92bf5ce37e40c8aa9fd3211ae4c454": {
      "model_module": "@jupyter-widgets/base",
      "model_module_version": "2.0.0",
      "model_name": "LayoutModel",
      "state": {
       "width": "20px"
      }
     },
     "abba2754720446f580df52fb744b043b": {
      "model_module": "@jupyter-widgets/controls",
      "model_module_version": "2.0.0",
      "model_name": "FloatProgressModel",
      "state": {
       "bar_style": "success",
       "layout": "IPY_MODEL_d0b43da9acc2492285a2a79b75df99f0",
       "max": 1,
       "style": "IPY_MODEL_930ce62ee16349439dce7bfb34ee9345",
       "value": 1
      }
     },
     "ac19638fb78a4f32bc7482a08300990d": {
      "model_module": "@jupyter-widgets/base",
      "model_module_version": "2.0.0",
      "model_name": "LayoutModel",
      "state": {}
     },
     "ac7210439d554a9aaf81e83e384a2d8e": {
      "model_module": "@jupyter-widgets/base",
      "model_module_version": "2.0.0",
      "model_name": "LayoutModel",
      "state": {}
     },
     "ae86674d38384b268b49bf21c664d6af": {
      "model_module": "@jupyter-widgets/controls",
      "model_module_version": "2.0.0",
      "model_name": "HTMLModel",
      "state": {
       "layout": "IPY_MODEL_fd5f4315fa924cb198c20265f3fd1854",
       "style": "IPY_MODEL_8cc80a2207974e36ad1de4be84702c07",
       "value": " 51/51 [00:00&lt;00:00, 10114.40it/s]"
      }
     },
     "b4aff819812146abbf787473648daca7": {
      "model_module": "@jupyter-widgets/controls",
      "model_module_version": "2.0.0",
      "model_name": "HBoxModel",
      "state": {
       "children": [
        "IPY_MODEL_126931aaf5b24e4098044dfde8f3b2d6",
        "IPY_MODEL_9e6da327410c4b8686c6569160fadbd7",
        "IPY_MODEL_462a41fcb5764f32bcc067078fa48583"
       ],
       "layout": "IPY_MODEL_4576afb06340492c8cef27e09d46e851"
      }
     },
     "b4d7b7dfddfb48ac8f98cc4e26ed98cb": {
      "model_module": "@jupyter-widgets/controls",
      "model_module_version": "2.0.0",
      "model_name": "HTMLModel",
      "state": {
       "layout": "IPY_MODEL_cc8e7e2683e54ee692aa1ef3f2de3846",
       "style": "IPY_MODEL_e4428de773f54e71bacb11013d41fb92",
       "value": "100%"
      }
     },
     "b5d68ed588fd4198b28e3e76741aa5f9": {
      "model_module": "@jupyter-widgets/base",
      "model_module_version": "2.0.0",
      "model_name": "LayoutModel",
      "state": {}
     },
     "b616e302f7c14a1f97e233544c5e1aed": {
      "model_module": "@jupyter-widgets/controls",
      "model_module_version": "2.0.0",
      "model_name": "HTMLStyleModel",
      "state": {
       "description_width": "",
       "font_size": null,
       "text_color": null
      }
     },
     "b6881eb8c94742469339abe8036a0c4b": {
      "model_module": "@jupyter-widgets/controls",
      "model_module_version": "2.0.0",
      "model_name": "FloatProgressModel",
      "state": {
       "bar_style": "success",
       "layout": "IPY_MODEL_bf89fc6709464142812c10db59fc0727",
       "max": 1,
       "style": "IPY_MODEL_a452c2b5185640309366e25ba1ff3bb7",
       "value": 1
      }
     },
     "b695bef4234944e494575d5c389fd144": {
      "model_module": "@jupyter-widgets/controls",
      "model_module_version": "2.0.0",
      "model_name": "HTMLModel",
      "state": {
       "layout": "IPY_MODEL_65ea2fdb28744037b53dc2629d01843c",
       "style": "IPY_MODEL_4efe4d61bcce4093b17c2da9fa6d3d33",
       "value": "100%"
      }
     },
     "b6ef9a3f295240d49aeb2d9eb29153a9": {
      "model_module": "@jupyter-widgets/base",
      "model_module_version": "2.0.0",
      "model_name": "LayoutModel",
      "state": {}
     },
     "bec23f7c932a4fadb96e0d75b9b4dd26": {
      "model_module": "@jupyter-widgets/controls",
      "model_module_version": "2.0.0",
      "model_name": "HTMLStyleModel",
      "state": {
       "description_width": "",
       "font_size": null,
       "text_color": null
      }
     },
     "bf4ca211306c47c18d971c5ae86bbf4c": {
      "model_module": "@jupyter-widgets/controls",
      "model_module_version": "2.0.0",
      "model_name": "HTMLModel",
      "state": {
       "layout": "IPY_MODEL_5512b6f6853e4fb68ccebcb17b5cc95a",
       "style": "IPY_MODEL_2eb897db86fb46ce9e4ef22a2f7ba83a"
      }
     },
     "bf89fc6709464142812c10db59fc0727": {
      "model_module": "@jupyter-widgets/base",
      "model_module_version": "2.0.0",
      "model_name": "LayoutModel",
      "state": {
       "width": "20px"
      }
     },
     "c17df79f124646f0a2f58d3421816b86": {
      "model_module": "@jupyter-widgets/controls",
      "model_module_version": "2.0.0",
      "model_name": "ProgressStyleModel",
      "state": {
       "description_width": ""
      }
     },
     "c39fef9564734a82b8b2e64005a5b6d6": {
      "model_module": "@jupyter-widgets/base",
      "model_module_version": "2.0.0",
      "model_name": "LayoutModel",
      "state": {}
     },
     "c657127e5bac49598df4ec065a4e61bf": {
      "model_module": "@jupyter-widgets/base",
      "model_module_version": "2.0.0",
      "model_name": "LayoutModel",
      "state": {}
     },
     "c67e68895e9144a5a39573d0a2a19d3b": {
      "model_module": "@jupyter-widgets/controls",
      "model_module_version": "2.0.0",
      "model_name": "HTMLStyleModel",
      "state": {
       "description_width": "",
       "font_size": null,
       "text_color": null
      }
     },
     "c7f105aa9ddd42a09400478ceb6c4a01": {
      "model_module": "@jupyter-widgets/controls",
      "model_module_version": "2.0.0",
      "model_name": "HBoxModel",
      "state": {
       "children": [
        "IPY_MODEL_065be1d1e8df423fa6555fee8f3bb73f",
        "IPY_MODEL_7b213557f83b405d9d4b538eb941e549",
        "IPY_MODEL_fc43574c49184354bbd216fc73795e9c"
       ],
       "layout": "IPY_MODEL_46a66076d37b46e5839d12f1b253bc1f"
      }
     },
     "cc8e7e2683e54ee692aa1ef3f2de3846": {
      "model_module": "@jupyter-widgets/base",
      "model_module_version": "2.0.0",
      "model_name": "LayoutModel",
      "state": {}
     },
     "cd19e772d5624f769e8eb8c7c3781eab": {
      "model_module": "@jupyter-widgets/controls",
      "model_module_version": "2.0.0",
      "model_name": "FloatProgressModel",
      "state": {
       "bar_style": "success",
       "layout": "IPY_MODEL_d2ff81ccae2d42838e358a2428b8b671",
       "max": 51,
       "style": "IPY_MODEL_10b53c0c7551470e9c51326e2f07d8ca",
       "value": 51
      }
     },
     "cd2037bfb1e5434f9f051706b78504ea": {
      "model_module": "@jupyter-widgets/base",
      "model_module_version": "2.0.0",
      "model_name": "LayoutModel",
      "state": {
       "width": "20px"
      }
     },
     "ce04589a1dc84bddb90f53fa79681d44": {
      "model_module": "@jupyter-widgets/base",
      "model_module_version": "2.0.0",
      "model_name": "LayoutModel",
      "state": {}
     },
     "ce732338354f4e9ea3a61fd4df95efc2": {
      "model_module": "@jupyter-widgets/base",
      "model_module_version": "2.0.0",
      "model_name": "LayoutModel",
      "state": {}
     },
     "cf5069a771eb42f487068f892edd4b50": {
      "model_module": "@jupyter-widgets/controls",
      "model_module_version": "2.0.0",
      "model_name": "HTMLStyleModel",
      "state": {
       "description_width": "",
       "font_size": null,
       "text_color": null
      }
     },
     "d0104d0d158a4fc789e108701131632e": {
      "model_module": "@jupyter-widgets/controls",
      "model_module_version": "2.0.0",
      "model_name": "ProgressStyleModel",
      "state": {
       "description_width": ""
      }
     },
     "d0b43da9acc2492285a2a79b75df99f0": {
      "model_module": "@jupyter-widgets/base",
      "model_module_version": "2.0.0",
      "model_name": "LayoutModel",
      "state": {
       "width": "20px"
      }
     },
     "d1556bddb77c4e519441577807505e50": {
      "model_module": "@jupyter-widgets/base",
      "model_module_version": "2.0.0",
      "model_name": "LayoutModel",
      "state": {}
     },
     "d2ff81ccae2d42838e358a2428b8b671": {
      "model_module": "@jupyter-widgets/base",
      "model_module_version": "2.0.0",
      "model_name": "LayoutModel",
      "state": {}
     },
     "d3922ccf17704672af0016dffda2a2b4": {
      "model_module": "@jupyter-widgets/controls",
      "model_module_version": "2.0.0",
      "model_name": "FloatProgressModel",
      "state": {
       "bar_style": "success",
       "layout": "IPY_MODEL_cd2037bfb1e5434f9f051706b78504ea",
       "max": 1,
       "style": "IPY_MODEL_02e182b291c64c51b12aef9e6efe80fa",
       "value": 1
      }
     },
     "d52432fc805d41a292e3e400720e7fb2": {
      "model_module": "@jupyter-widgets/controls",
      "model_module_version": "2.0.0",
      "model_name": "HTMLStyleModel",
      "state": {
       "description_width": "",
       "font_size": null,
       "text_color": null
      }
     },
     "d66b1b020c934f59b54ca1f288b6b00f": {
      "model_module": "@jupyter-widgets/controls",
      "model_module_version": "2.0.0",
      "model_name": "FloatProgressModel",
      "state": {
       "bar_style": "success",
       "layout": "IPY_MODEL_4d296e48082845fe9a79e23c21591014",
       "max": 1,
       "style": "IPY_MODEL_a67ab289432e468ea60491be73828e94",
       "value": 1
      }
     },
     "d7ee69833b824cba903dfd58515b4ac3": {
      "model_module": "@jupyter-widgets/controls",
      "model_module_version": "2.0.0",
      "model_name": "ProgressStyleModel",
      "state": {
       "description_width": ""
      }
     },
     "ddc381066ce74befa9ae0cf7e7449817": {
      "model_module": "@jupyter-widgets/controls",
      "model_module_version": "2.0.0",
      "model_name": "HBoxModel",
      "state": {
       "children": [
        "IPY_MODEL_82621f55ab874d3b9e34fb43aae8f362",
        "IPY_MODEL_a669557a4af641bfa48ea42a495ce79e",
        "IPY_MODEL_5aeb4a0b090b40b887e45b3b7ea542a7"
       ],
       "layout": "IPY_MODEL_8845308590114bdb8ed6c8a1c8d34d93"
      }
     },
     "e053d53806d34eb18cd67c41736fc3e6": {
      "model_module": "@jupyter-widgets/controls",
      "model_module_version": "2.0.0",
      "model_name": "HTMLStyleModel",
      "state": {
       "description_width": "",
       "font_size": null,
       "text_color": null
      }
     },
     "e080535dbfea4159954158e337ce2bef": {
      "model_module": "@jupyter-widgets/controls",
      "model_module_version": "2.0.0",
      "model_name": "FloatProgressModel",
      "state": {
       "bar_style": "success",
       "layout": "IPY_MODEL_0bab50052007484dbcc1846f8859956d",
       "max": 1,
       "style": "IPY_MODEL_c17df79f124646f0a2f58d3421816b86",
       "value": 1
      }
     },
     "e27dde48a9b5444195499c0cc7f4771f": {
      "model_module": "@jupyter-widgets/controls",
      "model_module_version": "2.0.0",
      "model_name": "HTMLModel",
      "state": {
       "layout": "IPY_MODEL_7bfe5f0f9f2c4ac9ac56316049cd58e4",
       "style": "IPY_MODEL_556874adcdeb4de4baa27e4fc2fbebcc",
       "value": " 574/574 [00:00&lt;00:00, 71755.20it/s]"
      }
     },
     "e3737e53e6814772b50262de1c67a945": {
      "model_module": "@jupyter-widgets/base",
      "model_module_version": "2.0.0",
      "model_name": "LayoutModel",
      "state": {}
     },
     "e4428de773f54e71bacb11013d41fb92": {
      "model_module": "@jupyter-widgets/controls",
      "model_module_version": "2.0.0",
      "model_name": "HTMLStyleModel",
      "state": {
       "description_width": "",
       "font_size": null,
       "text_color": null
      }
     },
     "e9d1c4abf1f14d0595c7d2f2a10e5d60": {
      "model_module": "@jupyter-widgets/base",
      "model_module_version": "2.0.0",
      "model_name": "LayoutModel",
      "state": {}
     },
     "ec584b379b6c4b409095cc5ed95611ab": {
      "model_module": "@jupyter-widgets/controls",
      "model_module_version": "2.0.0",
      "model_name": "FloatProgressModel",
      "state": {
       "bar_style": "success",
       "layout": "IPY_MODEL_675e9783dca647f7bdfaa0d77d091965",
       "max": 574,
       "style": "IPY_MODEL_d7ee69833b824cba903dfd58515b4ac3",
       "value": 574
      }
     },
     "ef35ad37fa8c4beb932122c47259609c": {
      "model_module": "@jupyter-widgets/controls",
      "model_module_version": "2.0.0",
      "model_name": "HTMLStyleModel",
      "state": {
       "description_width": "",
       "font_size": null,
       "text_color": null
      }
     },
     "f0963f4069c74d45999e0d8282261eb4": {
      "model_module": "@jupyter-widgets/controls",
      "model_module_version": "2.0.0",
      "model_name": "HTMLModel",
      "state": {
       "layout": "IPY_MODEL_e3737e53e6814772b50262de1c67a945",
       "style": "IPY_MODEL_78d8c29d2dd443778051780432f43798"
      }
     },
     "f14534f3a26f44a59cb100f970e0334c": {
      "model_module": "@jupyter-widgets/base",
      "model_module_version": "2.0.0",
      "model_name": "LayoutModel",
      "state": {}
     },
     "f5e4c6c64ae741ee95e3f5fc002611d9": {
      "model_module": "@jupyter-widgets/controls",
      "model_module_version": "2.0.0",
      "model_name": "HBoxModel",
      "state": {
       "children": [
        "IPY_MODEL_b4d7b7dfddfb48ac8f98cc4e26ed98cb",
        "IPY_MODEL_10ede1895ce244aa9734b54380f2024a",
        "IPY_MODEL_03b99e04c65f4538bba490394a6fb499"
       ],
       "layout": "IPY_MODEL_33f5caacadf54f82955816cc4836d1d9"
      }
     },
     "f6a98edcb5944a52a216047823e4c0de": {
      "model_module": "@jupyter-widgets/controls",
      "model_module_version": "2.0.0",
      "model_name": "HBoxModel",
      "state": {
       "children": [
        "IPY_MODEL_1a1936f9a9224b62ae9e05de3a78b354",
        "IPY_MODEL_96cafdc914ea4b43a68ef942e734a4d2",
        "IPY_MODEL_5a9daf623d6d44dc964967131171e75b"
       ],
       "layout": "IPY_MODEL_0b638c5fbbf3468f84a956e5a6a70a02"
      }
     },
     "f6d1c7a4dd214041bf301d0d28663407": {
      "model_module": "@jupyter-widgets/controls",
      "model_module_version": "2.0.0",
      "model_name": "HTMLStyleModel",
      "state": {
       "description_width": "",
       "font_size": null,
       "text_color": null
      }
     },
     "f766fed1156f43a8831b49b9da8247ba": {
      "model_module": "@jupyter-widgets/base",
      "model_module_version": "2.0.0",
      "model_name": "LayoutModel",
      "state": {
       "width": "20px"
      }
     },
     "f8cd4897d2e948c8a5cf756ec4b29436": {
      "model_module": "@jupyter-widgets/base",
      "model_module_version": "2.0.0",
      "model_name": "LayoutModel",
      "state": {}
     },
     "fc43574c49184354bbd216fc73795e9c": {
      "model_module": "@jupyter-widgets/controls",
      "model_module_version": "2.0.0",
      "model_name": "HTMLModel",
      "state": {
       "layout": "IPY_MODEL_ac7210439d554a9aaf81e83e384a2d8e",
       "style": "IPY_MODEL_e053d53806d34eb18cd67c41736fc3e6",
       "value": " 573/? [00:00&lt;00:00, 1421.83it/s]"
      }
     },
     "fd37eb8ba29b455681f6773895bb3b6b": {
      "model_module": "@jupyter-widgets/controls",
      "model_module_version": "2.0.0",
      "model_name": "HTMLModel",
      "state": {
       "layout": "IPY_MODEL_f8cd4897d2e948c8a5cf756ec4b29436",
       "style": "IPY_MODEL_3195b968642c4bd1b317e4cdb92f0239"
      }
     },
     "fd5f4315fa924cb198c20265f3fd1854": {
      "model_module": "@jupyter-widgets/base",
      "model_module_version": "2.0.0",
      "model_name": "LayoutModel",
      "state": {}
     }
    },
    "version_major": 2,
    "version_minor": 0
   }
  }
 },
 "nbformat": 4,
 "nbformat_minor": 5
}
