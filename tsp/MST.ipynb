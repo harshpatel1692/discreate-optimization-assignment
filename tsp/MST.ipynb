{
 "cells": [
  {
   "cell_type": "code",
   "execution_count": 10,
   "id": "4e2a2f80-2308-4b30-9d97-4b42fc14159d",
   "metadata": {},
   "outputs": [],
   "source": [
    "import math\n",
    "from collections import namedtuple\n",
    "import plotly.graph_objects as go\n",
    "import plotly.express as px\n",
    "import numpy as np\n",
    "from copy import deepcopy\n",
    "from tqdm.notebook import tqdm\n",
    "import random\n",
    "\n",
    "from numba import jit, vectorize, float64"
   ]
  },
  {
   "cell_type": "code",
   "execution_count": 2,
   "id": "bbf260ad-6dde-476b-9319-81016c11405f",
   "metadata": {},
   "outputs": [],
   "source": [
    "with open('./data/tsp_51_1', 'r') as input_data_file:\n",
    "    input_data = input_data_file.read()\n",
    "    \n",
    "lines = input_data.split('\\n')\n",
    "\n",
    "nodeCount = int(lines[0])\n",
    "\n",
    "points = []\n",
    "for i in range(1, nodeCount+1):\n",
    "    line = lines[i]\n",
    "    parts = line.split()\n",
    "    # points.append(Point(float(parts[0]), float(parts[1])))\n",
    "    points.append((float(parts[0]), float(parts[1])))\n",
    "points = np.array(points)"
   ]
  },
  {
   "cell_type": "code",
   "execution_count": 3,
   "id": "2d1fd51e-72e5-4f6c-a0da-217de17fd794",
   "metadata": {},
   "outputs": [],
   "source": [
    "def length(point1, point2):\n",
    "    return math.sqrt((point1[0] - point2[0])**2 + (point1[1] - point2[1])**2)\n",
    "\n",
    "\n",
    "def scan_region_from(current_point, remaining_stops):\n",
    "    x, y = current_point\n",
    "    \n",
    "    if x < y:\n",
    "        x_min = np.min(remaining_stops[:, 0])\n",
    "        scan_pointer = np.array([x_min, y])\n",
    "    else:\n",
    "        y_min = np.min(remaining_stops[:, 1])\n",
    "        scan_pointer = np.array([x, y_min])\n",
    "\n",
    "    return scan_pointer\n",
    "\n",
    "\n",
    "def add_explored(current_stop, remaining_stops):\n",
    "    ## Add node as explored\n",
    "    \n",
    "    # Find the index where the element matches in the array_of_arrays\n",
    "    remove_idx = np.where(np.all(remaining_stops == current_stop, axis=1))\n",
    "    \n",
    "    # Remove the element using the indices\n",
    "    remaining_stops = np.delete(remaining_stops, remove_idx, axis=0)\n",
    "    \n",
    "    return remaining_stops\n",
    "\n",
    "\n",
    "def point_in_bbox(point, bbox):\n",
    "    x, y = point\n",
    "    x_min, y_min, x_max, y_max = bbox\n",
    "    \n",
    "    if x_min <= x <= x_max and y_min <= y <= y_max:\n",
    "        return True\n",
    "    else:\n",
    "        return False\n",
    "\n",
    "\n",
    "def calculate_travel(exploring_path):\n",
    "    distances = np.linalg.norm(exploring_path[1:] - exploring_path[:-1], axis=1)\n",
    "    return np.sum(distances)"
   ]
  },
  {
   "cell_type": "code",
   "execution_count": 4,
   "id": "3f3caa02-c394-403b-afd0-dd0070e5fe8d",
   "metadata": {},
   "outputs": [],
   "source": [
    "@jit(nopython=True)\n",
    "def length_distance(single_point, all_points):\n",
    "    return np.sqrt((all_points[:, 0]-single_point[0])**2 + (all_points[:, 1]-single_point[1])**2)"
   ]
  },
  {
   "cell_type": "code",
   "execution_count": 5,
   "id": "84606565-c043-4365-b401-0121c6b39ab0",
   "metadata": {},
   "outputs": [
    {
     "data": {
      "application/vnd.jupyter.widget-view+json": {
       "model_id": "257ac2c42e5f4afb83ca4fa06def1e74",
       "version_major": 2,
       "version_minor": 0
      },
      "text/plain": [
       "0it [00:00, ?it/s]"
      ]
     },
     "metadata": {},
     "output_type": "display_data"
    },
    {
     "name": "stdout",
     "output_type": "stream",
     "text": [
      "51\n"
     ]
    }
   ],
   "source": [
    "explored_path = [[] for _ in range(len(points))]\n",
    "explored_indexes = [] #set()\n",
    "distance_matrix = np.array([0, 0, 0])\n",
    "node_number = 0\n",
    "points_count = points.shape[0]\n",
    "max_size = 0\n",
    "\n",
    "neighbors_to_account = 50 #points_count//5\n",
    "\n",
    "with tqdm() as tbar:\n",
    "    while len(set(explored_indexes)) < points_count:\n",
    "\n",
    "        explored_indexes = list(set(explored_indexes))\n",
    "        \n",
    "        one_point = points[node_number]\n",
    "        explored_indexes.append(node_number)\n",
    "    \n",
    "        neighbor_distances = length_distance(one_point, points)\n",
    "        neighbor_idx = np.argsort(neighbor_distances)\n",
    "        parent_idx = np.array([node_number]*points_count)[:, np.newaxis]\n",
    "        sorted_neighbors = np.hstack((parent_idx, neighbor_idx[:, np.newaxis], neighbor_distances[neighbor_idx][:, np.newaxis]))[:neighbors_to_account]\n",
    "    \n",
    "        distance_matrix = np.vstack((distance_matrix, sorted_neighbors))\n",
    "        \n",
    "        mask = np.logical_not(np.isin(distance_matrix[:, 1], explored_indexes))\n",
    "        distance_matrix = distance_matrix[mask]\n",
    "    \n",
    "        if not distance_matrix.size:\n",
    "            neighbors_to_account *= 2\n",
    "            continue\n",
    "\n",
    "        distance_matrix = distance_matrix[np.argsort(distance_matrix[:, 2])] ## sort by distance\n",
    "\n",
    "\n",
    "        if distance_matrix.shape[0] > max_size:\n",
    "            max_size = distance_matrix.shape[0]\n",
    "    \n",
    "        ## Add to graph\n",
    "        parent_node = int(distance_matrix[0][0])\n",
    "        neighbor_node = int(distance_matrix[0][1])\n",
    "        \n",
    "        explored_path[parent_node].append(neighbor_node)\n",
    "        explored_path[neighbor_node].append(parent_node)\n",
    "        \n",
    "        ## Explore next node\n",
    "        node_number = neighbor_node\n",
    "        tbar.update(1)\n",
    "\n",
    "        # if len(set(explored_indexes)) ==2:\n",
    "        #     break\n",
    "print(len(set(explored_indexes)))     "
   ]
  },
  {
   "cell_type": "code",
   "execution_count": 6,
   "id": "9f11ba42-3b4e-454c-ae22-3da86a063327",
   "metadata": {},
   "outputs": [
    {
     "data": {
      "application/vnd.jupyter.widget-view+json": {
       "model_id": "2cecc08facd643e0a741a080d52c445d",
       "version_major": 2,
       "version_minor": 0
      },
      "text/plain": [
       "  0%|          | 0/51 [00:00<?, ?it/s]"
      ]
     },
     "metadata": {},
     "output_type": "display_data"
    }
   ],
   "source": [
    "DISTANCE_MATRIX = np.zeros((nodeCount, nodeCount))\n",
    "for i in tqdm(range(len(points))):\n",
    "    DISTANCE_MATRIX[i] = length_distance(points[i], points)"
   ]
  },
  {
   "cell_type": "code",
   "execution_count": 37,
   "id": "edeec3fb-6657-421e-8168-8388059dae7a",
   "metadata": {},
   "outputs": [],
   "source": [
    "odd_indexes = []\n",
    "\n",
    "for idx, connections in enumerate(explored_path):\n",
    "\n",
    "    if len(connections)%2 == 1:\n",
    "        odd_indexes.append(idx)"
   ]
  },
  {
   "cell_type": "code",
   "execution_count": 67,
   "id": "9b08349a-522b-4787-a255-f4749a6dd535",
   "metadata": {},
   "outputs": [],
   "source": [
    "odd_indexes_neighbors = [[] for _ in range(nodeCount)]\n",
    "\n",
    "for node in odd_indexes:\n",
    "    mask = np.isin(np.argsort(DISTANCE_MATRIX[node]), odd_indexes)\n",
    "    odd_indexes_neighbors[node] = np.argsort(DISTANCE_MATRIX[node])[mask][1:3]"
   ]
  },
  {
   "cell_type": "code",
   "execution_count": 68,
   "id": "2ca8060e-54e2-4e01-abc6-3faaf15caf3a",
   "metadata": {},
   "outputs": [
    {
     "data": {
      "application/vnd.jupyter.widget-view+json": {
       "model_id": "70d87f6962814fc8a4614bd92cb33b6f",
       "version_major": 2,
       "version_minor": 0
      },
      "text/plain": [
       "  0%|          | 0/1000 [00:00<?, ?it/s]"
      ]
     },
     "metadata": {},
     "output_type": "display_data"
    }
   ],
   "source": [
    "for _ in tqdm(range(1000)):\n",
    "    \n",
    "    temp = deepcopy(odd_indexes)\n",
    "    joined_path = deepcopy(explored_path)\n",
    "    \n",
    "    net_pair_distance = 0\n",
    "    \n",
    "    best_distance = float('inf')\n",
    "    best_path = []\n",
    "    \n",
    "    while len(temp) > 0:\n",
    "    \n",
    "        node = temp.pop(0)\n",
    "        next_node = random.choice(odd_indexes_neighbors[node])\n",
    "    \n",
    "        net_pair_distance += DISTANCE_MATRIX[node][next_node]\n",
    "        \n",
    "        if next_node not in joined_path[node]:\n",
    "            joined_path[node].append(next_node)\n",
    "    \n",
    "        if next_node in temp:\n",
    "            temp.remove(next_node)\n",
    "\n",
    "    if net_pair_distance < best_distance:\n",
    "        best_distance = net_pair_distance\n",
    "        best_path = deepcopy(joined_path)"
   ]
  },
  {
   "cell_type": "code",
   "execution_count": 69,
   "id": "f27a09dc-6211-42d5-a1b1-f85945f6e284",
   "metadata": {},
   "outputs": [
    {
     "data": {
      "text/plain": [
       "203.24000695286645"
      ]
     },
     "execution_count": 69,
     "metadata": {},
     "output_type": "execute_result"
    }
   ],
   "source": [
    "best_distance"
   ]
  },
  {
   "cell_type": "code",
   "execution_count": 35,
   "id": "609758be-95e7-4142-bcbb-d1b671323de4",
   "metadata": {},
   "outputs": [
    {
     "data": {
      "text/plain": [
       "[44]"
      ]
     },
     "execution_count": 35,
     "metadata": {},
     "output_type": "execute_result"
    }
   ],
   "source": [
    "joined_path[14]"
   ]
  },
  {
   "cell_type": "code",
   "execution_count": 36,
   "id": "b9579e75-ad82-41e9-bfff-f1be50c4a959",
   "metadata": {},
   "outputs": [
    {
     "data": {
      "text/plain": [
       "[16, 15, 14]"
      ]
     },
     "execution_count": 36,
     "metadata": {},
     "output_type": "execute_result"
    }
   ],
   "source": [
    "joined_path[44]"
   ]
  },
  {
   "cell_type": "code",
   "execution_count": 72,
   "id": "9cc21f3b-ee8d-4e32-b561-3b60d854caf2",
   "metadata": {},
   "outputs": [
    {
     "data": {
      "application/vnd.jupyter.widget-view+json": {
       "model_id": "b76a58fc1019488e8f6d97889f81b7b4",
       "version_major": 2,
       "version_minor": 0
      },
      "text/plain": [
       "0it [00:00, ?it/s]"
      ]
     },
     "metadata": {},
     "output_type": "display_data"
    }
   ],
   "source": [
    "edge_x = []\n",
    "edge_y = []\n",
    "\n",
    "for idx, connections in tqdm(enumerate(joined_path)):\n",
    "    \n",
    "    x0, y0 = points[idx]\n",
    "    \n",
    "    for connect in connections:\n",
    "        x1, y1 = points[connect]\n",
    "    \n",
    "        edge_x.append(x0)\n",
    "        edge_x.append(x1)\n",
    "        edge_x.append(None)\n",
    "        \n",
    "        edge_y.append(y0)\n",
    "        edge_y.append(y1)\n",
    "        edge_y.append(None)\n"
   ]
  },
  {
   "cell_type": "code",
   "execution_count": 73,
   "id": "413770ef-56d9-47c0-8ddb-206468766f87",
   "metadata": {},
   "outputs": [
    {
     "data": {
      "application/vnd.plotly.v1+json": {
       "config": {
        "plotlyServerURL": "https://plot.ly"
       },
       "data": [
        {
         "mode": "markers+lines",
         "type": "scattergl",
         "x": [
          27,
          31,
          null,
          30,
          25,
          null,
          30,
          30,
          null,
          30,
          37,
          null,
          30,
          21,
          null,
          43,
          37,
          null,
          43,
          52,
          null,
          58,
          62,
          null,
          58,
          52,
          null,
          58,
          61,
          null,
          58,
          59,
          null,
          37,
          31,
          null,
          37,
          43,
          null,
          38,
          37,
          null,
          38,
          42,
          null,
          46,
          39,
          null,
          46,
          59,
          null,
          61,
          56,
          null,
          61,
          58,
          null,
          62,
          57,
          null,
          62,
          63,
          null,
          63,
          62,
          null,
          63,
          58,
          null,
          32,
          27,
          null,
          32,
          36,
          null,
          45,
          42,
          null,
          45,
          40,
          null,
          45,
          52,
          null,
          59,
          51,
          null,
          5,
          13,
          null,
          5,
          5,
          null,
          10,
          13,
          null,
          10,
          5,
          null,
          21,
          30,
          null,
          21,
          13,
          null,
          5,
          17,
          null,
          5,
          8,
          null,
          30,
          36,
          null,
          30,
          21,
          null,
          39,
          36,
          null,
          39,
          46,
          null,
          32,
          30,
          null,
          32,
          31,
          null,
          25,
          31,
          null,
          25,
          20,
          null,
          25,
          31,
          null,
          25,
          30,
          null,
          25,
          21,
          null,
          25,
          16,
          null,
          48,
          52,
          null,
          48,
          51,
          null,
          56,
          52,
          null,
          56,
          52,
          null,
          56,
          61,
          null,
          56,
          62,
          null,
          30,
          30,
          null,
          30,
          32,
          null,
          37,
          30,
          null,
          37,
          38,
          null,
          37,
          42,
          null,
          49,
          52,
          null,
          49,
          42,
          null,
          52,
          43,
          null,
          52,
          57,
          null,
          20,
          25,
          null,
          20,
          17,
          null,
          20,
          27,
          null,
          20,
          13,
          null,
          40,
          45,
          null,
          40,
          52,
          null,
          21,
          25,
          null,
          17,
          16,
          null,
          17,
          5,
          null,
          31,
          27,
          null,
          31,
          37,
          null,
          31,
          25,
          null,
          52,
          45,
          null,
          52,
          56,
          null,
          52,
          48,
          null,
          51,
          48,
          null,
          51,
          59,
          null,
          42,
          38,
          null,
          42,
          45,
          null,
          31,
          32,
          null,
          31,
          25,
          null,
          5,
          10,
          null,
          12,
          17,
          null,
          12,
          7,
          null,
          36,
          32,
          null,
          36,
          30,
          null,
          36,
          39,
          null,
          36,
          40,
          null,
          52,
          56,
          null,
          52,
          49,
          null,
          27,
          20,
          null,
          27,
          32,
          null,
          17,
          20,
          null,
          17,
          12,
          null,
          13,
          21,
          null,
          13,
          10,
          null,
          13,
          5,
          null,
          57,
          52,
          null,
          57,
          62,
          null,
          62,
          56,
          null,
          62,
          58,
          null,
          42,
          37,
          null,
          16,
          25,
          null,
          16,
          17,
          null,
          16,
          8,
          null,
          16,
          21,
          null,
          8,
          16,
          null,
          7,
          12,
          null,
          7,
          8,
          null
         ],
         "y": [
          68,
          62,
          null,
          48,
          55,
          null,
          48,
          40,
          null,
          48,
          52,
          null,
          48,
          47,
          null,
          67,
          69,
          null,
          67,
          64,
          null,
          48,
          42,
          null,
          48,
          33,
          null,
          27,
          33,
          null,
          27,
          15,
          null,
          69,
          62,
          null,
          69,
          67,
          null,
          46,
          52,
          null,
          46,
          41,
          null,
          10,
          10,
          null,
          10,
          15,
          null,
          33,
          37,
          null,
          33,
          27,
          null,
          63,
          58,
          null,
          63,
          69,
          null,
          69,
          63,
          null,
          69,
          48,
          null,
          22,
          23,
          null,
          22,
          16,
          null,
          35,
          41,
          null,
          35,
          30,
          null,
          35,
          33,
          null,
          15,
          21,
          null,
          6,
          13,
          null,
          6,
          25,
          null,
          17,
          13,
          null,
          17,
          25,
          null,
          10,
          15,
          null,
          10,
          13,
          null,
          64,
          63,
          null,
          64,
          52,
          null,
          15,
          16,
          null,
          15,
          10,
          null,
          10,
          16,
          null,
          10,
          10,
          null,
          39,
          40,
          null,
          39,
          32,
          null,
          32,
          32,
          null,
          32,
          26,
          null,
          55,
          62,
          null,
          55,
          48,
          null,
          55,
          47,
          null,
          55,
          57,
          null,
          28,
          33,
          null,
          28,
          21,
          null,
          37,
          33,
          null,
          37,
          41,
          null,
          37,
          33,
          null,
          37,
          42,
          null,
          40,
          48,
          null,
          40,
          39,
          null,
          52,
          48,
          null,
          52,
          46,
          null,
          52,
          57,
          null,
          49,
          41,
          null,
          49,
          57,
          null,
          64,
          67,
          null,
          64,
          58,
          null,
          26,
          32,
          null,
          26,
          33,
          null,
          26,
          23,
          null,
          26,
          13,
          null,
          30,
          35,
          null,
          30,
          33,
          null,
          47,
          55,
          null,
          63,
          57,
          null,
          63,
          64,
          null,
          62,
          68,
          null,
          62,
          69,
          null,
          62,
          55,
          null,
          33,
          35,
          null,
          33,
          37,
          null,
          33,
          28,
          null,
          21,
          28,
          null,
          21,
          15,
          null,
          41,
          46,
          null,
          41,
          35,
          null,
          32,
          39,
          null,
          32,
          32,
          null,
          25,
          17,
          null,
          42,
          33,
          null,
          42,
          38,
          null,
          16,
          22,
          null,
          16,
          15,
          null,
          16,
          10,
          null,
          16,
          30,
          null,
          41,
          37,
          null,
          41,
          49,
          null,
          23,
          26,
          null,
          23,
          22,
          null,
          33,
          26,
          null,
          33,
          42,
          null,
          13,
          10,
          null,
          13,
          17,
          null,
          13,
          6,
          null,
          58,
          64,
          null,
          58,
          63,
          null,
          42,
          37,
          null,
          42,
          48,
          null,
          57,
          52,
          null,
          57,
          55,
          null,
          57,
          63,
          null,
          57,
          52,
          null,
          57,
          47,
          null,
          52,
          57,
          null,
          38,
          42,
          null,
          38,
          52,
          null
         ]
        }
       ],
       "layout": {
        "autosize": true,
        "template": {
         "data": {
          "bar": [
           {
            "error_x": {
             "color": "#2a3f5f"
            },
            "error_y": {
             "color": "#2a3f5f"
            },
            "marker": {
             "line": {
              "color": "#E5ECF6",
              "width": 0.5
             },
             "pattern": {
              "fillmode": "overlay",
              "size": 10,
              "solidity": 0.2
             }
            },
            "type": "bar"
           }
          ],
          "barpolar": [
           {
            "marker": {
             "line": {
              "color": "#E5ECF6",
              "width": 0.5
             },
             "pattern": {
              "fillmode": "overlay",
              "size": 10,
              "solidity": 0.2
             }
            },
            "type": "barpolar"
           }
          ],
          "carpet": [
           {
            "aaxis": {
             "endlinecolor": "#2a3f5f",
             "gridcolor": "white",
             "linecolor": "white",
             "minorgridcolor": "white",
             "startlinecolor": "#2a3f5f"
            },
            "baxis": {
             "endlinecolor": "#2a3f5f",
             "gridcolor": "white",
             "linecolor": "white",
             "minorgridcolor": "white",
             "startlinecolor": "#2a3f5f"
            },
            "type": "carpet"
           }
          ],
          "choropleth": [
           {
            "colorbar": {
             "outlinewidth": 0,
             "ticks": ""
            },
            "type": "choropleth"
           }
          ],
          "contour": [
           {
            "colorbar": {
             "outlinewidth": 0,
             "ticks": ""
            },
            "colorscale": [
             [
              0,
              "#0d0887"
             ],
             [
              0.1111111111111111,
              "#46039f"
             ],
             [
              0.2222222222222222,
              "#7201a8"
             ],
             [
              0.3333333333333333,
              "#9c179e"
             ],
             [
              0.4444444444444444,
              "#bd3786"
             ],
             [
              0.5555555555555556,
              "#d8576b"
             ],
             [
              0.6666666666666666,
              "#ed7953"
             ],
             [
              0.7777777777777778,
              "#fb9f3a"
             ],
             [
              0.8888888888888888,
              "#fdca26"
             ],
             [
              1,
              "#f0f921"
             ]
            ],
            "type": "contour"
           }
          ],
          "contourcarpet": [
           {
            "colorbar": {
             "outlinewidth": 0,
             "ticks": ""
            },
            "type": "contourcarpet"
           }
          ],
          "heatmap": [
           {
            "colorbar": {
             "outlinewidth": 0,
             "ticks": ""
            },
            "colorscale": [
             [
              0,
              "#0d0887"
             ],
             [
              0.1111111111111111,
              "#46039f"
             ],
             [
              0.2222222222222222,
              "#7201a8"
             ],
             [
              0.3333333333333333,
              "#9c179e"
             ],
             [
              0.4444444444444444,
              "#bd3786"
             ],
             [
              0.5555555555555556,
              "#d8576b"
             ],
             [
              0.6666666666666666,
              "#ed7953"
             ],
             [
              0.7777777777777778,
              "#fb9f3a"
             ],
             [
              0.8888888888888888,
              "#fdca26"
             ],
             [
              1,
              "#f0f921"
             ]
            ],
            "type": "heatmap"
           }
          ],
          "heatmapgl": [
           {
            "colorbar": {
             "outlinewidth": 0,
             "ticks": ""
            },
            "colorscale": [
             [
              0,
              "#0d0887"
             ],
             [
              0.1111111111111111,
              "#46039f"
             ],
             [
              0.2222222222222222,
              "#7201a8"
             ],
             [
              0.3333333333333333,
              "#9c179e"
             ],
             [
              0.4444444444444444,
              "#bd3786"
             ],
             [
              0.5555555555555556,
              "#d8576b"
             ],
             [
              0.6666666666666666,
              "#ed7953"
             ],
             [
              0.7777777777777778,
              "#fb9f3a"
             ],
             [
              0.8888888888888888,
              "#fdca26"
             ],
             [
              1,
              "#f0f921"
             ]
            ],
            "type": "heatmapgl"
           }
          ],
          "histogram": [
           {
            "marker": {
             "pattern": {
              "fillmode": "overlay",
              "size": 10,
              "solidity": 0.2
             }
            },
            "type": "histogram"
           }
          ],
          "histogram2d": [
           {
            "colorbar": {
             "outlinewidth": 0,
             "ticks": ""
            },
            "colorscale": [
             [
              0,
              "#0d0887"
             ],
             [
              0.1111111111111111,
              "#46039f"
             ],
             [
              0.2222222222222222,
              "#7201a8"
             ],
             [
              0.3333333333333333,
              "#9c179e"
             ],
             [
              0.4444444444444444,
              "#bd3786"
             ],
             [
              0.5555555555555556,
              "#d8576b"
             ],
             [
              0.6666666666666666,
              "#ed7953"
             ],
             [
              0.7777777777777778,
              "#fb9f3a"
             ],
             [
              0.8888888888888888,
              "#fdca26"
             ],
             [
              1,
              "#f0f921"
             ]
            ],
            "type": "histogram2d"
           }
          ],
          "histogram2dcontour": [
           {
            "colorbar": {
             "outlinewidth": 0,
             "ticks": ""
            },
            "colorscale": [
             [
              0,
              "#0d0887"
             ],
             [
              0.1111111111111111,
              "#46039f"
             ],
             [
              0.2222222222222222,
              "#7201a8"
             ],
             [
              0.3333333333333333,
              "#9c179e"
             ],
             [
              0.4444444444444444,
              "#bd3786"
             ],
             [
              0.5555555555555556,
              "#d8576b"
             ],
             [
              0.6666666666666666,
              "#ed7953"
             ],
             [
              0.7777777777777778,
              "#fb9f3a"
             ],
             [
              0.8888888888888888,
              "#fdca26"
             ],
             [
              1,
              "#f0f921"
             ]
            ],
            "type": "histogram2dcontour"
           }
          ],
          "mesh3d": [
           {
            "colorbar": {
             "outlinewidth": 0,
             "ticks": ""
            },
            "type": "mesh3d"
           }
          ],
          "parcoords": [
           {
            "line": {
             "colorbar": {
              "outlinewidth": 0,
              "ticks": ""
             }
            },
            "type": "parcoords"
           }
          ],
          "pie": [
           {
            "automargin": true,
            "type": "pie"
           }
          ],
          "scatter": [
           {
            "fillpattern": {
             "fillmode": "overlay",
             "size": 10,
             "solidity": 0.2
            },
            "type": "scatter"
           }
          ],
          "scatter3d": [
           {
            "line": {
             "colorbar": {
              "outlinewidth": 0,
              "ticks": ""
             }
            },
            "marker": {
             "colorbar": {
              "outlinewidth": 0,
              "ticks": ""
             }
            },
            "type": "scatter3d"
           }
          ],
          "scattercarpet": [
           {
            "marker": {
             "colorbar": {
              "outlinewidth": 0,
              "ticks": ""
             }
            },
            "type": "scattercarpet"
           }
          ],
          "scattergeo": [
           {
            "marker": {
             "colorbar": {
              "outlinewidth": 0,
              "ticks": ""
             }
            },
            "type": "scattergeo"
           }
          ],
          "scattergl": [
           {
            "marker": {
             "colorbar": {
              "outlinewidth": 0,
              "ticks": ""
             }
            },
            "type": "scattergl"
           }
          ],
          "scattermapbox": [
           {
            "marker": {
             "colorbar": {
              "outlinewidth": 0,
              "ticks": ""
             }
            },
            "type": "scattermapbox"
           }
          ],
          "scatterpolar": [
           {
            "marker": {
             "colorbar": {
              "outlinewidth": 0,
              "ticks": ""
             }
            },
            "type": "scatterpolar"
           }
          ],
          "scatterpolargl": [
           {
            "marker": {
             "colorbar": {
              "outlinewidth": 0,
              "ticks": ""
             }
            },
            "type": "scatterpolargl"
           }
          ],
          "scatterternary": [
           {
            "marker": {
             "colorbar": {
              "outlinewidth": 0,
              "ticks": ""
             }
            },
            "type": "scatterternary"
           }
          ],
          "surface": [
           {
            "colorbar": {
             "outlinewidth": 0,
             "ticks": ""
            },
            "colorscale": [
             [
              0,
              "#0d0887"
             ],
             [
              0.1111111111111111,
              "#46039f"
             ],
             [
              0.2222222222222222,
              "#7201a8"
             ],
             [
              0.3333333333333333,
              "#9c179e"
             ],
             [
              0.4444444444444444,
              "#bd3786"
             ],
             [
              0.5555555555555556,
              "#d8576b"
             ],
             [
              0.6666666666666666,
              "#ed7953"
             ],
             [
              0.7777777777777778,
              "#fb9f3a"
             ],
             [
              0.8888888888888888,
              "#fdca26"
             ],
             [
              1,
              "#f0f921"
             ]
            ],
            "type": "surface"
           }
          ],
          "table": [
           {
            "cells": {
             "fill": {
              "color": "#EBF0F8"
             },
             "line": {
              "color": "white"
             }
            },
            "header": {
             "fill": {
              "color": "#C8D4E3"
             },
             "line": {
              "color": "white"
             }
            },
            "type": "table"
           }
          ]
         },
         "layout": {
          "annotationdefaults": {
           "arrowcolor": "#2a3f5f",
           "arrowhead": 0,
           "arrowwidth": 1
          },
          "autotypenumbers": "strict",
          "coloraxis": {
           "colorbar": {
            "outlinewidth": 0,
            "ticks": ""
           }
          },
          "colorscale": {
           "diverging": [
            [
             0,
             "#8e0152"
            ],
            [
             0.1,
             "#c51b7d"
            ],
            [
             0.2,
             "#de77ae"
            ],
            [
             0.3,
             "#f1b6da"
            ],
            [
             0.4,
             "#fde0ef"
            ],
            [
             0.5,
             "#f7f7f7"
            ],
            [
             0.6,
             "#e6f5d0"
            ],
            [
             0.7,
             "#b8e186"
            ],
            [
             0.8,
             "#7fbc41"
            ],
            [
             0.9,
             "#4d9221"
            ],
            [
             1,
             "#276419"
            ]
           ],
           "sequential": [
            [
             0,
             "#0d0887"
            ],
            [
             0.1111111111111111,
             "#46039f"
            ],
            [
             0.2222222222222222,
             "#7201a8"
            ],
            [
             0.3333333333333333,
             "#9c179e"
            ],
            [
             0.4444444444444444,
             "#bd3786"
            ],
            [
             0.5555555555555556,
             "#d8576b"
            ],
            [
             0.6666666666666666,
             "#ed7953"
            ],
            [
             0.7777777777777778,
             "#fb9f3a"
            ],
            [
             0.8888888888888888,
             "#fdca26"
            ],
            [
             1,
             "#f0f921"
            ]
           ],
           "sequentialminus": [
            [
             0,
             "#0d0887"
            ],
            [
             0.1111111111111111,
             "#46039f"
            ],
            [
             0.2222222222222222,
             "#7201a8"
            ],
            [
             0.3333333333333333,
             "#9c179e"
            ],
            [
             0.4444444444444444,
             "#bd3786"
            ],
            [
             0.5555555555555556,
             "#d8576b"
            ],
            [
             0.6666666666666666,
             "#ed7953"
            ],
            [
             0.7777777777777778,
             "#fb9f3a"
            ],
            [
             0.8888888888888888,
             "#fdca26"
            ],
            [
             1,
             "#f0f921"
            ]
           ]
          },
          "colorway": [
           "#636efa",
           "#EF553B",
           "#00cc96",
           "#ab63fa",
           "#FFA15A",
           "#19d3f3",
           "#FF6692",
           "#B6E880",
           "#FF97FF",
           "#FECB52"
          ],
          "font": {
           "color": "#2a3f5f"
          },
          "geo": {
           "bgcolor": "white",
           "lakecolor": "white",
           "landcolor": "#E5ECF6",
           "showlakes": true,
           "showland": true,
           "subunitcolor": "white"
          },
          "hoverlabel": {
           "align": "left"
          },
          "hovermode": "closest",
          "mapbox": {
           "style": "light"
          },
          "paper_bgcolor": "white",
          "plot_bgcolor": "#E5ECF6",
          "polar": {
           "angularaxis": {
            "gridcolor": "white",
            "linecolor": "white",
            "ticks": ""
           },
           "bgcolor": "#E5ECF6",
           "radialaxis": {
            "gridcolor": "white",
            "linecolor": "white",
            "ticks": ""
           }
          },
          "scene": {
           "xaxis": {
            "backgroundcolor": "#E5ECF6",
            "gridcolor": "white",
            "gridwidth": 2,
            "linecolor": "white",
            "showbackground": true,
            "ticks": "",
            "zerolinecolor": "white"
           },
           "yaxis": {
            "backgroundcolor": "#E5ECF6",
            "gridcolor": "white",
            "gridwidth": 2,
            "linecolor": "white",
            "showbackground": true,
            "ticks": "",
            "zerolinecolor": "white"
           },
           "zaxis": {
            "backgroundcolor": "#E5ECF6",
            "gridcolor": "white",
            "gridwidth": 2,
            "linecolor": "white",
            "showbackground": true,
            "ticks": "",
            "zerolinecolor": "white"
           }
          },
          "shapedefaults": {
           "line": {
            "color": "#2a3f5f"
           }
          },
          "ternary": {
           "aaxis": {
            "gridcolor": "white",
            "linecolor": "white",
            "ticks": ""
           },
           "baxis": {
            "gridcolor": "white",
            "linecolor": "white",
            "ticks": ""
           },
           "bgcolor": "#E5ECF6",
           "caxis": {
            "gridcolor": "white",
            "linecolor": "white",
            "ticks": ""
           }
          },
          "title": {
           "x": 0.05
          },
          "xaxis": {
           "automargin": true,
           "gridcolor": "white",
           "linecolor": "white",
           "ticks": "",
           "title": {
            "standoff": 15
           },
           "zerolinecolor": "white",
           "zerolinewidth": 2
          },
          "yaxis": {
           "automargin": true,
           "gridcolor": "white",
           "linecolor": "white",
           "ticks": "",
           "title": {
            "standoff": 15
           },
           "zerolinecolor": "white",
           "zerolinewidth": 2
          }
         }
        },
        "xaxis": {
         "autorange": true,
         "range": [
          1.489873719323326,
          66.51012628067667
         ],
         "type": "linear"
        },
        "yaxis": {
         "autorange": true,
         "range": [
          1.9807121661721068,
          73.01928783382789
         ],
         "type": "linear"
        }
       }
      },
      "image/png": "[encoded data removed]",
      "text/html": [
       "<div>                            <div id=\"fed45880-13a7-4b12-9f1b-017086a885dc\" class=\"plotly-graph-div\" style=\"height:750px; width:100%;\"></div>            <script type=\"text/javascript\">                require([\"plotly\"], function(Plotly) {                    window.PLOTLYENV=window.PLOTLYENV || {};                                    if (document.getElementById(\"fed45880-13a7-4b12-9f1b-017086a885dc\")) {                    Plotly.newPlot(                        \"fed45880-13a7-4b12-9f1b-017086a885dc\",                        [{\"mode\":\"markers+lines\",\"x\":[27.0,31.0,null,30.0,25.0,null,30.0,30.0,null,30.0,37.0,null,30.0,21.0,null,43.0,37.0,null,43.0,52.0,null,58.0,62.0,null,58.0,52.0,null,58.0,61.0,null,58.0,59.0,null,37.0,31.0,null,37.0,43.0,null,38.0,37.0,null,38.0,42.0,null,46.0,39.0,null,46.0,59.0,null,61.0,56.0,null,61.0,58.0,null,62.0,57.0,null,62.0,63.0,null,63.0,62.0,null,63.0,58.0,null,32.0,27.0,null,32.0,36.0,null,45.0,42.0,null,45.0,40.0,null,45.0,52.0,null,59.0,51.0,null,5.0,13.0,null,5.0,5.0,null,10.0,13.0,null,10.0,5.0,null,21.0,30.0,null,21.0,13.0,null,5.0,17.0,null,5.0,8.0,null,30.0,36.0,null,30.0,21.0,null,39.0,36.0,null,39.0,46.0,null,32.0,30.0,null,32.0,31.0,null,25.0,31.0,null,25.0,20.0,null,25.0,31.0,null,25.0,30.0,null,25.0,21.0,null,25.0,16.0,null,48.0,52.0,null,48.0,51.0,null,56.0,52.0,null,56.0,52.0,null,56.0,61.0,null,56.0,62.0,null,30.0,30.0,null,30.0,32.0,null,37.0,30.0,null,37.0,38.0,null,37.0,42.0,null,49.0,52.0,null,49.0,42.0,null,52.0,43.0,null,52.0,57.0,null,20.0,25.0,null,20.0,17.0,null,20.0,27.0,null,20.0,13.0,null,40.0,45.0,null,40.0,52.0,null,21.0,25.0,null,17.0,16.0,null,17.0,5.0,null,31.0,27.0,null,31.0,37.0,null,31.0,25.0,null,52.0,45.0,null,52.0,56.0,null,52.0,48.0,null,51.0,48.0,null,51.0,59.0,null,42.0,38.0,null,42.0,45.0,null,31.0,32.0,null,31.0,25.0,null,5.0,10.0,null,12.0,17.0,null,12.0,7.0,null,36.0,32.0,null,36.0,30.0,null,36.0,39.0,null,36.0,40.0,null,52.0,56.0,null,52.0,49.0,null,27.0,20.0,null,27.0,32.0,null,17.0,20.0,null,17.0,12.0,null,13.0,21.0,null,13.0,10.0,null,13.0,5.0,null,57.0,52.0,null,57.0,62.0,null,62.0,56.0,null,62.0,58.0,null,42.0,37.0,null,16.0,25.0,null,16.0,17.0,null,16.0,8.0,null,16.0,21.0,null,8.0,16.0,null,7.0,12.0,null,7.0,8.0,null],\"y\":[68.0,62.0,null,48.0,55.0,null,48.0,40.0,null,48.0,52.0,null,48.0,47.0,null,67.0,69.0,null,67.0,64.0,null,48.0,42.0,null,48.0,33.0,null,27.0,33.0,null,27.0,15.0,null,69.0,62.0,null,69.0,67.0,null,46.0,52.0,null,46.0,41.0,null,10.0,10.0,null,10.0,15.0,null,33.0,37.0,null,33.0,27.0,null,63.0,58.0,null,63.0,69.0,null,69.0,63.0,null,69.0,48.0,null,22.0,23.0,null,22.0,16.0,null,35.0,41.0,null,35.0,30.0,null,35.0,33.0,null,15.0,21.0,null,6.0,13.0,null,6.0,25.0,null,17.0,13.0,null,17.0,25.0,null,10.0,15.0,null,10.0,13.0,null,64.0,63.0,null,64.0,52.0,null,15.0,16.0,null,15.0,10.0,null,10.0,16.0,null,10.0,10.0,null,39.0,40.0,null,39.0,32.0,null,32.0,32.0,null,32.0,26.0,null,55.0,62.0,null,55.0,48.0,null,55.0,47.0,null,55.0,57.0,null,28.0,33.0,null,28.0,21.0,null,37.0,33.0,null,37.0,41.0,null,37.0,33.0,null,37.0,42.0,null,40.0,48.0,null,40.0,39.0,null,52.0,48.0,null,52.0,46.0,null,52.0,57.0,null,49.0,41.0,null,49.0,57.0,null,64.0,67.0,null,64.0,58.0,null,26.0,32.0,null,26.0,33.0,null,26.0,23.0,null,26.0,13.0,null,30.0,35.0,null,30.0,33.0,null,47.0,55.0,null,63.0,57.0,null,63.0,64.0,null,62.0,68.0,null,62.0,69.0,null,62.0,55.0,null,33.0,35.0,null,33.0,37.0,null,33.0,28.0,null,21.0,28.0,null,21.0,15.0,null,41.0,46.0,null,41.0,35.0,null,32.0,39.0,null,32.0,32.0,null,25.0,17.0,null,42.0,33.0,null,42.0,38.0,null,16.0,22.0,null,16.0,15.0,null,16.0,10.0,null,16.0,30.0,null,41.0,37.0,null,41.0,49.0,null,23.0,26.0,null,23.0,22.0,null,33.0,26.0,null,33.0,42.0,null,13.0,10.0,null,13.0,17.0,null,13.0,6.0,null,58.0,64.0,null,58.0,63.0,null,42.0,37.0,null,42.0,48.0,null,57.0,52.0,null,57.0,55.0,null,57.0,63.0,null,57.0,52.0,null,57.0,47.0,null,52.0,57.0,null,38.0,42.0,null,38.0,52.0,null],\"type\":\"scattergl\"}],                        {\"template\":{\"data\":{\"histogram2dcontour\":[{\"type\":\"histogram2dcontour\",\"colorbar\":{\"outlinewidth\":0,\"ticks\":\"\"},\"colorscale\":[[0.0,\"#0d0887\"],[0.1111111111111111,\"#46039f\"],[0.2222222222222222,\"#7201a8\"],[0.3333333333333333,\"#9c179e\"],[0.4444444444444444,\"#bd3786\"],[0.5555555555555556,\"#d8576b\"],[0.6666666666666666,\"#ed7953\"],[0.7777777777777778,\"#fb9f3a\"],[0.8888888888888888,\"#fdca26\"],[1.0,\"#f0f921\"]]}],\"choropleth\":[{\"type\":\"choropleth\",\"colorbar\":{\"outlinewidth\":0,\"ticks\":\"\"}}],\"histogram2d\":[{\"type\":\"histogram2d\",\"colorbar\":{\"outlinewidth\":0,\"ticks\":\"\"},\"colorscale\":[[0.0,\"#0d0887\"],[0.1111111111111111,\"#46039f\"],[0.2222222222222222,\"#7201a8\"],[0.3333333333333333,\"#9c179e\"],[0.4444444444444444,\"#bd3786\"],[0.5555555555555556,\"#d8576b\"],[0.6666666666666666,\"#ed7953\"],[0.7777777777777778,\"#fb9f3a\"],[0.8888888888888888,\"#fdca26\"],[1.0,\"#f0f921\"]]}],\"heatmap\":[{\"type\":\"heatmap\",\"colorbar\":{\"outlinewidth\":0,\"ticks\":\"\"},\"colorscale\":[[0.0,\"#0d0887\"],[0.1111111111111111,\"#46039f\"],[0.2222222222222222,\"#7201a8\"],[0.3333333333333333,\"#9c179e\"],[0.4444444444444444,\"#bd3786\"],[0.5555555555555556,\"#d8576b\"],[0.6666666666666666,\"#ed7953\"],[0.7777777777777778,\"#fb9f3a\"],[0.8888888888888888,\"#fdca26\"],[1.0,\"#f0f921\"]]}],\"heatmapgl\":[{\"type\":\"heatmapgl\",\"colorbar\":{\"outlinewidth\":0,\"ticks\":\"\"},\"colorscale\":[[0.0,\"#0d0887\"],[0.1111111111111111,\"#46039f\"],[0.2222222222222222,\"#7201a8\"],[0.3333333333333333,\"#9c179e\"],[0.4444444444444444,\"#bd3786\"],[0.5555555555555556,\"#d8576b\"],[0.6666666666666666,\"#ed7953\"],[0.7777777777777778,\"#fb9f3a\"],[0.8888888888888888,\"#fdca26\"],[1.0,\"#f0f921\"]]}],\"contourcarpet\":[{\"type\":\"contourcarpet\",\"colorbar\":{\"outlinewidth\":0,\"ticks\":\"\"}}],\"contour\":[{\"type\":\"contour\",\"colorbar\":{\"outlinewidth\":0,\"ticks\":\"\"},\"colorscale\":[[0.0,\"#0d0887\"],[0.1111111111111111,\"#46039f\"],[0.2222222222222222,\"#7201a8\"],[0.3333333333333333,\"#9c179e\"],[0.4444444444444444,\"#bd3786\"],[0.5555555555555556,\"#d8576b\"],[0.6666666666666666,\"#ed7953\"],[0.7777777777777778,\"#fb9f3a\"],[0.8888888888888888,\"#fdca26\"],[1.0,\"#f0f921\"]]}],\"surface\":[{\"type\":\"surface\",\"colorbar\":{\"outlinewidth\":0,\"ticks\":\"\"},\"colorscale\":[[0.0,\"#0d0887\"],[0.1111111111111111,\"#46039f\"],[0.2222222222222222,\"#7201a8\"],[0.3333333333333333,\"#9c179e\"],[0.4444444444444444,\"#bd3786\"],[0.5555555555555556,\"#d8576b\"],[0.6666666666666666,\"#ed7953\"],[0.7777777777777778,\"#fb9f3a\"],[0.8888888888888888,\"#fdca26\"],[1.0,\"#f0f921\"]]}],\"mesh3d\":[{\"type\":\"mesh3d\",\"colorbar\":{\"outlinewidth\":0,\"ticks\":\"\"}}],\"scatter\":[{\"fillpattern\":{\"fillmode\":\"overlay\",\"size\":10,\"solidity\":0.2},\"type\":\"scatter\"}],\"parcoords\":[{\"type\":\"parcoords\",\"line\":{\"colorbar\":{\"outlinewidth\":0,\"ticks\":\"\"}}}],\"scatterpolargl\":[{\"type\":\"scatterpolargl\",\"marker\":{\"colorbar\":{\"outlinewidth\":0,\"ticks\":\"\"}}}],\"bar\":[{\"error_x\":{\"color\":\"#2a3f5f\"},\"error_y\":{\"color\":\"#2a3f5f\"},\"marker\":{\"line\":{\"color\":\"#E5ECF6\",\"width\":0.5},\"pattern\":{\"fillmode\":\"overlay\",\"size\":10,\"solidity\":0.2}},\"type\":\"bar\"}],\"scattergeo\":[{\"type\":\"scattergeo\",\"marker\":{\"colorbar\":{\"outlinewidth\":0,\"ticks\":\"\"}}}],\"scatterpolar\":[{\"type\":\"scatterpolar\",\"marker\":{\"colorbar\":{\"outlinewidth\":0,\"ticks\":\"\"}}}],\"histogram\":[{\"marker\":{\"pattern\":{\"fillmode\":\"overlay\",\"size\":10,\"solidity\":0.2}},\"type\":\"histogram\"}],\"scattergl\":[{\"type\":\"scattergl\",\"marker\":{\"colorbar\":{\"outlinewidth\":0,\"ticks\":\"\"}}}],\"scatter3d\":[{\"type\":\"scatter3d\",\"line\":{\"colorbar\":{\"outlinewidth\":0,\"ticks\":\"\"}},\"marker\":{\"colorbar\":{\"outlinewidth\":0,\"ticks\":\"\"}}}],\"scattermapbox\":[{\"type\":\"scattermapbox\",\"marker\":{\"colorbar\":{\"outlinewidth\":0,\"ticks\":\"\"}}}],\"scatterternary\":[{\"type\":\"scatterternary\",\"marker\":{\"colorbar\":{\"outlinewidth\":0,\"ticks\":\"\"}}}],\"scattercarpet\":[{\"type\":\"scattercarpet\",\"marker\":{\"colorbar\":{\"outlinewidth\":0,\"ticks\":\"\"}}}],\"carpet\":[{\"aaxis\":{\"endlinecolor\":\"#2a3f5f\",\"gridcolor\":\"white\",\"linecolor\":\"white\",\"minorgridcolor\":\"white\",\"startlinecolor\":\"#2a3f5f\"},\"baxis\":{\"endlinecolor\":\"#2a3f5f\",\"gridcolor\":\"white\",\"linecolor\":\"white\",\"minorgridcolor\":\"white\",\"startlinecolor\":\"#2a3f5f\"},\"type\":\"carpet\"}],\"table\":[{\"cells\":{\"fill\":{\"color\":\"#EBF0F8\"},\"line\":{\"color\":\"white\"}},\"header\":{\"fill\":{\"color\":\"#C8D4E3\"},\"line\":{\"color\":\"white\"}},\"type\":\"table\"}],\"barpolar\":[{\"marker\":{\"line\":{\"color\":\"#E5ECF6\",\"width\":0.5},\"pattern\":{\"fillmode\":\"overlay\",\"size\":10,\"solidity\":0.2}},\"type\":\"barpolar\"}],\"pie\":[{\"automargin\":true,\"type\":\"pie\"}]},\"layout\":{\"autotypenumbers\":\"strict\",\"colorway\":[\"#636efa\",\"#EF553B\",\"#00cc96\",\"#ab63fa\",\"#FFA15A\",\"#19d3f3\",\"#FF6692\",\"#B6E880\",\"#FF97FF\",\"#FECB52\"],\"font\":{\"color\":\"#2a3f5f\"},\"hovermode\":\"closest\",\"hoverlabel\":{\"align\":\"left\"},\"paper_bgcolor\":\"white\",\"plot_bgcolor\":\"#E5ECF6\",\"polar\":{\"bgcolor\":\"#E5ECF6\",\"angularaxis\":{\"gridcolor\":\"white\",\"linecolor\":\"white\",\"ticks\":\"\"},\"radialaxis\":{\"gridcolor\":\"white\",\"linecolor\":\"white\",\"ticks\":\"\"}},\"ternary\":{\"bgcolor\":\"#E5ECF6\",\"aaxis\":{\"gridcolor\":\"white\",\"linecolor\":\"white\",\"ticks\":\"\"},\"baxis\":{\"gridcolor\":\"white\",\"linecolor\":\"white\",\"ticks\":\"\"},\"caxis\":{\"gridcolor\":\"white\",\"linecolor\":\"white\",\"ticks\":\"\"}},\"coloraxis\":{\"colorbar\":{\"outlinewidth\":0,\"ticks\":\"\"}},\"colorscale\":{\"sequential\":[[0.0,\"#0d0887\"],[0.1111111111111111,\"#46039f\"],[0.2222222222222222,\"#7201a8\"],[0.3333333333333333,\"#9c179e\"],[0.4444444444444444,\"#bd3786\"],[0.5555555555555556,\"#d8576b\"],[0.6666666666666666,\"#ed7953\"],[0.7777777777777778,\"#fb9f3a\"],[0.8888888888888888,\"#fdca26\"],[1.0,\"#f0f921\"]],\"sequentialminus\":[[0.0,\"#0d0887\"],[0.1111111111111111,\"#46039f\"],[0.2222222222222222,\"#7201a8\"],[0.3333333333333333,\"#9c179e\"],[0.4444444444444444,\"#bd3786\"],[0.5555555555555556,\"#d8576b\"],[0.6666666666666666,\"#ed7953\"],[0.7777777777777778,\"#fb9f3a\"],[0.8888888888888888,\"#fdca26\"],[1.0,\"#f0f921\"]],\"diverging\":[[0,\"#8e0152\"],[0.1,\"#c51b7d\"],[0.2,\"#de77ae\"],[0.3,\"#f1b6da\"],[0.4,\"#fde0ef\"],[0.5,\"#f7f7f7\"],[0.6,\"#e6f5d0\"],[0.7,\"#b8e186\"],[0.8,\"#7fbc41\"],[0.9,\"#4d9221\"],[1,\"#276419\"]]},\"xaxis\":{\"gridcolor\":\"white\",\"linecolor\":\"white\",\"ticks\":\"\",\"title\":{\"standoff\":15},\"zerolinecolor\":\"white\",\"automargin\":true,\"zerolinewidth\":2},\"yaxis\":{\"gridcolor\":\"white\",\"linecolor\":\"white\",\"ticks\":\"\",\"title\":{\"standoff\":15},\"zerolinecolor\":\"white\",\"automargin\":true,\"zerolinewidth\":2},\"scene\":{\"xaxis\":{\"backgroundcolor\":\"#E5ECF6\",\"gridcolor\":\"white\",\"linecolor\":\"white\",\"showbackground\":true,\"ticks\":\"\",\"zerolinecolor\":\"white\",\"gridwidth\":2},\"yaxis\":{\"backgroundcolor\":\"#E5ECF6\",\"gridcolor\":\"white\",\"linecolor\":\"white\",\"showbackground\":true,\"ticks\":\"\",\"zerolinecolor\":\"white\",\"gridwidth\":2},\"zaxis\":{\"backgroundcolor\":\"#E5ECF6\",\"gridcolor\":\"white\",\"linecolor\":\"white\",\"showbackground\":true,\"ticks\":\"\",\"zerolinecolor\":\"white\",\"gridwidth\":2}},\"shapedefaults\":{\"line\":{\"color\":\"#2a3f5f\"}},\"annotationdefaults\":{\"arrowcolor\":\"#2a3f5f\",\"arrowhead\":0,\"arrowwidth\":1},\"geo\":{\"bgcolor\":\"white\",\"landcolor\":\"#E5ECF6\",\"subunitcolor\":\"white\",\"showland\":true,\"showlakes\":true,\"lakecolor\":\"white\"},\"title\":{\"x\":0.05},\"mapbox\":{\"style\":\"light\"}}},\"height\":750},                        {\"responsive\": true}                    ).then(function(){\n",
       "                            \n",
       "var gd = document.getElementById('fed45880-13a7-4b12-9f1b-017086a885dc');\n",
       "var x = new MutationObserver(function (mutations, observer) {{\n",
       "        var display = window.getComputedStyle(gd).display;\n",
       "        if (!display || display === 'none') {{\n",
       "            console.log([gd, 'removed!']);\n",
       "            Plotly.purge(gd);\n",
       "            observer.disconnect();\n",
       "        }}\n",
       "}});\n",
       "\n",
       "// Listen for the removal of the full notebook cells\n",
       "var notebookContainer = gd.closest('#notebook-container');\n",
       "if (notebookContainer) {{\n",
       "    x.observe(notebookContainer, {childList: true});\n",
       "}}\n",
       "\n",
       "// Listen for the clearing of the current output cell\n",
       "var outputEl = gd.closest('.output');\n",
       "if (outputEl) {{\n",
       "    x.observe(outputEl, {childList: true});\n",
       "}}\n",
       "\n",
       "                        })                };                });            </script>        </div>"
      ]
     },
     "metadata": {},
     "output_type": "display_data"
    }
   ],
   "source": [
    "\n",
    "\n",
    "fig = go.Figure(data=go.Scattergl(\n",
    "    x=edge_x,\n",
    "    y=edge_y,\n",
    "    mode=\"markers+lines\",\n",
    "    # mode=\"markers\"\n",
    "))\n",
    "fig.update_layout(height=750)\n",
    "fig.show()\n"
   ]
  },
  {
   "cell_type": "code",
   "execution_count": 23,
   "id": "68943e06-743b-4c6d-b3a2-028f9cfa1626",
   "metadata": {},
   "outputs": [
    {
     "data": {
      "application/vnd.plotly.v1+json": {
       "config": {
        "plotlyServerURL": "https://plot.ly"
       },
       "data": [
        {
         "mode": "markers+lines",
         "type": "scattergl",
         "x": [
          27,
          31,
          null,
          30,
          25,
          null,
          30,
          30,
          null,
          30,
          37,
          null,
          43,
          37,
          null,
          43,
          52,
          null,
          58,
          62,
          null,
          58,
          61,
          null,
          37,
          31,
          null,
          37,
          43,
          null,
          38,
          37,
          null,
          38,
          42,
          null,
          46,
          39,
          null,
          61,
          56,
          null,
          61,
          58,
          null,
          62,
          57,
          null,
          62,
          63,
          null,
          63,
          62,
          null,
          32,
          27,
          null,
          32,
          36,
          null,
          45,
          42,
          null,
          45,
          40,
          null,
          45,
          52,
          null,
          59,
          51,
          null,
          5,
          13,
          null,
          10,
          13,
          null,
          10,
          5,
          null,
          21,
          30,
          null,
          21,
          13,
          null,
          5,
          17,
          null,
          30,
          36,
          null,
          30,
          21,
          null,
          39,
          36,
          null,
          39,
          46,
          null,
          32,
          30,
          null,
          32,
          31,
          null,
          25,
          31,
          null,
          25,
          20,
          null,
          25,
          31,
          null,
          25,
          30,
          null,
          25,
          21,
          null,
          25,
          16,
          null,
          48,
          52,
          null,
          48,
          51,
          null,
          56,
          52,
          null,
          56,
          52,
          null,
          56,
          61,
          null,
          56,
          62,
          null,
          30,
          30,
          null,
          30,
          32,
          null,
          37,
          30,
          null,
          37,
          38,
          null,
          37,
          42,
          null,
          49,
          52,
          null,
          52,
          43,
          null,
          52,
          57,
          null,
          20,
          25,
          null,
          20,
          17,
          null,
          20,
          27,
          null,
          40,
          45,
          null,
          21,
          25,
          null,
          17,
          16,
          null,
          17,
          5,
          null,
          31,
          27,
          null,
          31,
          37,
          null,
          31,
          25,
          null,
          52,
          45,
          null,
          52,
          56,
          null,
          52,
          48,
          null,
          51,
          48,
          null,
          51,
          59,
          null,
          42,
          38,
          null,
          42,
          45,
          null,
          31,
          32,
          null,
          31,
          25,
          null,
          5,
          10,
          null,
          12,
          17,
          null,
          12,
          7,
          null,
          36,
          32,
          null,
          36,
          30,
          null,
          36,
          39,
          null,
          52,
          56,
          null,
          52,
          49,
          null,
          27,
          20,
          null,
          27,
          32,
          null,
          17,
          20,
          null,
          17,
          12,
          null,
          13,
          21,
          null,
          13,
          10,
          null,
          13,
          5,
          null,
          57,
          52,
          null,
          57,
          62,
          null,
          62,
          56,
          null,
          62,
          58,
          null,
          42,
          37,
          null,
          16,
          25,
          null,
          16,
          17,
          null,
          16,
          8,
          null,
          8,
          16,
          null,
          7,
          12,
          null
         ],
         "y": [
          68,
          62,
          null,
          48,
          55,
          null,
          48,
          40,
          null,
          48,
          52,
          null,
          67,
          69,
          null,
          67,
          64,
          null,
          48,
          42,
          null,
          27,
          33,
          null,
          69,
          62,
          null,
          69,
          67,
          null,
          46,
          52,
          null,
          46,
          41,
          null,
          10,
          10,
          null,
          33,
          37,
          null,
          33,
          27,
          null,
          63,
          58,
          null,
          63,
          69,
          null,
          69,
          63,
          null,
          22,
          23,
          null,
          22,
          16,
          null,
          35,
          41,
          null,
          35,
          30,
          null,
          35,
          33,
          null,
          15,
          21,
          null,
          6,
          13,
          null,
          17,
          13,
          null,
          17,
          25,
          null,
          10,
          15,
          null,
          10,
          13,
          null,
          64,
          63,
          null,
          15,
          16,
          null,
          15,
          10,
          null,
          10,
          16,
          null,
          10,
          10,
          null,
          39,
          40,
          null,
          39,
          32,
          null,
          32,
          32,
          null,
          32,
          26,
          null,
          55,
          62,
          null,
          55,
          48,
          null,
          55,
          47,
          null,
          55,
          57,
          null,
          28,
          33,
          null,
          28,
          21,
          null,
          37,
          33,
          null,
          37,
          41,
          null,
          37,
          33,
          null,
          37,
          42,
          null,
          40,
          48,
          null,
          40,
          39,
          null,
          52,
          48,
          null,
          52,
          46,
          null,
          52,
          57,
          null,
          49,
          41,
          null,
          64,
          67,
          null,
          64,
          58,
          null,
          26,
          32,
          null,
          26,
          33,
          null,
          26,
          23,
          null,
          30,
          35,
          null,
          47,
          55,
          null,
          63,
          57,
          null,
          63,
          64,
          null,
          62,
          68,
          null,
          62,
          69,
          null,
          62,
          55,
          null,
          33,
          35,
          null,
          33,
          37,
          null,
          33,
          28,
          null,
          21,
          28,
          null,
          21,
          15,
          null,
          41,
          46,
          null,
          41,
          35,
          null,
          32,
          39,
          null,
          32,
          32,
          null,
          25,
          17,
          null,
          42,
          33,
          null,
          42,
          38,
          null,
          16,
          22,
          null,
          16,
          15,
          null,
          16,
          10,
          null,
          41,
          37,
          null,
          41,
          49,
          null,
          23,
          26,
          null,
          23,
          22,
          null,
          33,
          26,
          null,
          33,
          42,
          null,
          13,
          10,
          null,
          13,
          17,
          null,
          13,
          6,
          null,
          58,
          64,
          null,
          58,
          63,
          null,
          42,
          37,
          null,
          42,
          48,
          null,
          57,
          52,
          null,
          57,
          55,
          null,
          57,
          63,
          null,
          57,
          52,
          null,
          52,
          57,
          null,
          38,
          42,
          null
         ]
        }
       ],
       "layout": {
        "autosize": true,
        "template": {
         "data": {
          "bar": [
           {
            "error_x": {
             "color": "#2a3f5f"
            },
            "error_y": {
             "color": "#2a3f5f"
            },
            "marker": {
             "line": {
              "color": "#E5ECF6",
              "width": 0.5
             },
             "pattern": {
              "fillmode": "overlay",
              "size": 10,
              "solidity": 0.2
             }
            },
            "type": "bar"
           }
          ],
          "barpolar": [
           {
            "marker": {
             "line": {
              "color": "#E5ECF6",
              "width": 0.5
             },
             "pattern": {
              "fillmode": "overlay",
              "size": 10,
              "solidity": 0.2
             }
            },
            "type": "barpolar"
           }
          ],
          "carpet": [
           {
            "aaxis": {
             "endlinecolor": "#2a3f5f",
             "gridcolor": "white",
             "linecolor": "white",
             "minorgridcolor": "white",
             "startlinecolor": "#2a3f5f"
            },
            "baxis": {
             "endlinecolor": "#2a3f5f",
             "gridcolor": "white",
             "linecolor": "white",
             "minorgridcolor": "white",
             "startlinecolor": "#2a3f5f"
            },
            "type": "carpet"
           }
          ],
          "choropleth": [
           {
            "colorbar": {
             "outlinewidth": 0,
             "ticks": ""
            },
            "type": "choropleth"
           }
          ],
          "contour": [
           {
            "colorbar": {
             "outlinewidth": 0,
             "ticks": ""
            },
            "colorscale": [
             [
              0,
              "#0d0887"
             ],
             [
              0.1111111111111111,
              "#46039f"
             ],
             [
              0.2222222222222222,
              "#7201a8"
             ],
             [
              0.3333333333333333,
              "#9c179e"
             ],
             [
              0.4444444444444444,
              "#bd3786"
             ],
             [
              0.5555555555555556,
              "#d8576b"
             ],
             [
              0.6666666666666666,
              "#ed7953"
             ],
             [
              0.7777777777777778,
              "#fb9f3a"
             ],
             [
              0.8888888888888888,
              "#fdca26"
             ],
             [
              1,
              "#f0f921"
             ]
            ],
            "type": "contour"
           }
          ],
          "contourcarpet": [
           {
            "colorbar": {
             "outlinewidth": 0,
             "ticks": ""
            },
            "type": "contourcarpet"
           }
          ],
          "heatmap": [
           {
            "colorbar": {
             "outlinewidth": 0,
             "ticks": ""
            },
            "colorscale": [
             [
              0,
              "#0d0887"
             ],
             [
              0.1111111111111111,
              "#46039f"
             ],
             [
              0.2222222222222222,
              "#7201a8"
             ],
             [
              0.3333333333333333,
              "#9c179e"
             ],
             [
              0.4444444444444444,
              "#bd3786"
             ],
             [
              0.5555555555555556,
              "#d8576b"
             ],
             [
              0.6666666666666666,
              "#ed7953"
             ],
             [
              0.7777777777777778,
              "#fb9f3a"
             ],
             [
              0.8888888888888888,
              "#fdca26"
             ],
             [
              1,
              "#f0f921"
             ]
            ],
            "type": "heatmap"
           }
          ],
          "heatmapgl": [
           {
            "colorbar": {
             "outlinewidth": 0,
             "ticks": ""
            },
            "colorscale": [
             [
              0,
              "#0d0887"
             ],
             [
              0.1111111111111111,
              "#46039f"
             ],
             [
              0.2222222222222222,
              "#7201a8"
             ],
             [
              0.3333333333333333,
              "#9c179e"
             ],
             [
              0.4444444444444444,
              "#bd3786"
             ],
             [
              0.5555555555555556,
              "#d8576b"
             ],
             [
              0.6666666666666666,
              "#ed7953"
             ],
             [
              0.7777777777777778,
              "#fb9f3a"
             ],
             [
              0.8888888888888888,
              "#fdca26"
             ],
             [
              1,
              "#f0f921"
             ]
            ],
            "type": "heatmapgl"
           }
          ],
          "histogram": [
           {
            "marker": {
             "pattern": {
              "fillmode": "overlay",
              "size": 10,
              "solidity": 0.2
             }
            },
            "type": "histogram"
           }
          ],
          "histogram2d": [
           {
            "colorbar": {
             "outlinewidth": 0,
             "ticks": ""
            },
            "colorscale": [
             [
              0,
              "#0d0887"
             ],
             [
              0.1111111111111111,
              "#46039f"
             ],
             [
              0.2222222222222222,
              "#7201a8"
             ],
             [
              0.3333333333333333,
              "#9c179e"
             ],
             [
              0.4444444444444444,
              "#bd3786"
             ],
             [
              0.5555555555555556,
              "#d8576b"
             ],
             [
              0.6666666666666666,
              "#ed7953"
             ],
             [
              0.7777777777777778,
              "#fb9f3a"
             ],
             [
              0.8888888888888888,
              "#fdca26"
             ],
             [
              1,
              "#f0f921"
             ]
            ],
            "type": "histogram2d"
           }
          ],
          "histogram2dcontour": [
           {
            "colorbar": {
             "outlinewidth": 0,
             "ticks": ""
            },
            "colorscale": [
             [
              0,
              "#0d0887"
             ],
             [
              0.1111111111111111,
              "#46039f"
             ],
             [
              0.2222222222222222,
              "#7201a8"
             ],
             [
              0.3333333333333333,
              "#9c179e"
             ],
             [
              0.4444444444444444,
              "#bd3786"
             ],
             [
              0.5555555555555556,
              "#d8576b"
             ],
             [
              0.6666666666666666,
              "#ed7953"
             ],
             [
              0.7777777777777778,
              "#fb9f3a"
             ],
             [
              0.8888888888888888,
              "#fdca26"
             ],
             [
              1,
              "#f0f921"
             ]
            ],
            "type": "histogram2dcontour"
           }
          ],
          "mesh3d": [
           {
            "colorbar": {
             "outlinewidth": 0,
             "ticks": ""
            },
            "type": "mesh3d"
           }
          ],
          "parcoords": [
           {
            "line": {
             "colorbar": {
              "outlinewidth": 0,
              "ticks": ""
             }
            },
            "type": "parcoords"
           }
          ],
          "pie": [
           {
            "automargin": true,
            "type": "pie"
           }
          ],
          "scatter": [
           {
            "fillpattern": {
             "fillmode": "overlay",
             "size": 10,
             "solidity": 0.2
            },
            "type": "scatter"
           }
          ],
          "scatter3d": [
           {
            "line": {
             "colorbar": {
              "outlinewidth": 0,
              "ticks": ""
             }
            },
            "marker": {
             "colorbar": {
              "outlinewidth": 0,
              "ticks": ""
             }
            },
            "type": "scatter3d"
           }
          ],
          "scattercarpet": [
           {
            "marker": {
             "colorbar": {
              "outlinewidth": 0,
              "ticks": ""
             }
            },
            "type": "scattercarpet"
           }
          ],
          "scattergeo": [
           {
            "marker": {
             "colorbar": {
              "outlinewidth": 0,
              "ticks": ""
             }
            },
            "type": "scattergeo"
           }
          ],
          "scattergl": [
           {
            "marker": {
             "colorbar": {
              "outlinewidth": 0,
              "ticks": ""
             }
            },
            "type": "scattergl"
           }
          ],
          "scattermapbox": [
           {
            "marker": {
             "colorbar": {
              "outlinewidth": 0,
              "ticks": ""
             }
            },
            "type": "scattermapbox"
           }
          ],
          "scatterpolar": [
           {
            "marker": {
             "colorbar": {
              "outlinewidth": 0,
              "ticks": ""
             }
            },
            "type": "scatterpolar"
           }
          ],
          "scatterpolargl": [
           {
            "marker": {
             "colorbar": {
              "outlinewidth": 0,
              "ticks": ""
             }
            },
            "type": "scatterpolargl"
           }
          ],
          "scatterternary": [
           {
            "marker": {
             "colorbar": {
              "outlinewidth": 0,
              "ticks": ""
             }
            },
            "type": "scatterternary"
           }
          ],
          "surface": [
           {
            "colorbar": {
             "outlinewidth": 0,
             "ticks": ""
            },
            "colorscale": [
             [
              0,
              "#0d0887"
             ],
             [
              0.1111111111111111,
              "#46039f"
             ],
             [
              0.2222222222222222,
              "#7201a8"
             ],
             [
              0.3333333333333333,
              "#9c179e"
             ],
             [
              0.4444444444444444,
              "#bd3786"
             ],
             [
              0.5555555555555556,
              "#d8576b"
             ],
             [
              0.6666666666666666,
              "#ed7953"
             ],
             [
              0.7777777777777778,
              "#fb9f3a"
             ],
             [
              0.8888888888888888,
              "#fdca26"
             ],
             [
              1,
              "#f0f921"
             ]
            ],
            "type": "surface"
           }
          ],
          "table": [
           {
            "cells": {
             "fill": {
              "color": "#EBF0F8"
             },
             "line": {
              "color": "white"
             }
            },
            "header": {
             "fill": {
              "color": "#C8D4E3"
             },
             "line": {
              "color": "white"
             }
            },
            "type": "table"
           }
          ]
         },
         "layout": {
          "annotationdefaults": {
           "arrowcolor": "#2a3f5f",
           "arrowhead": 0,
           "arrowwidth": 1
          },
          "autotypenumbers": "strict",
          "coloraxis": {
           "colorbar": {
            "outlinewidth": 0,
            "ticks": ""
           }
          },
          "colorscale": {
           "diverging": [
            [
             0,
             "#8e0152"
            ],
            [
             0.1,
             "#c51b7d"
            ],
            [
             0.2,
             "#de77ae"
            ],
            [
             0.3,
             "#f1b6da"
            ],
            [
             0.4,
             "#fde0ef"
            ],
            [
             0.5,
             "#f7f7f7"
            ],
            [
             0.6,
             "#e6f5d0"
            ],
            [
             0.7,
             "#b8e186"
            ],
            [
             0.8,
             "#7fbc41"
            ],
            [
             0.9,
             "#4d9221"
            ],
            [
             1,
             "#276419"
            ]
           ],
           "sequential": [
            [
             0,
             "#0d0887"
            ],
            [
             0.1111111111111111,
             "#46039f"
            ],
            [
             0.2222222222222222,
             "#7201a8"
            ],
            [
             0.3333333333333333,
             "#9c179e"
            ],
            [
             0.4444444444444444,
             "#bd3786"
            ],
            [
             0.5555555555555556,
             "#d8576b"
            ],
            [
             0.6666666666666666,
             "#ed7953"
            ],
            [
             0.7777777777777778,
             "#fb9f3a"
            ],
            [
             0.8888888888888888,
             "#fdca26"
            ],
            [
             1,
             "#f0f921"
            ]
           ],
           "sequentialminus": [
            [
             0,
             "#0d0887"
            ],
            [
             0.1111111111111111,
             "#46039f"
            ],
            [
             0.2222222222222222,
             "#7201a8"
            ],
            [
             0.3333333333333333,
             "#9c179e"
            ],
            [
             0.4444444444444444,
             "#bd3786"
            ],
            [
             0.5555555555555556,
             "#d8576b"
            ],
            [
             0.6666666666666666,
             "#ed7953"
            ],
            [
             0.7777777777777778,
             "#fb9f3a"
            ],
            [
             0.8888888888888888,
             "#fdca26"
            ],
            [
             1,
             "#f0f921"
            ]
           ]
          },
          "colorway": [
           "#636efa",
           "#EF553B",
           "#00cc96",
           "#ab63fa",
           "#FFA15A",
           "#19d3f3",
           "#FF6692",
           "#B6E880",
           "#FF97FF",
           "#FECB52"
          ],
          "font": {
           "color": "#2a3f5f"
          },
          "geo": {
           "bgcolor": "white",
           "lakecolor": "white",
           "landcolor": "#E5ECF6",
           "showlakes": true,
           "showland": true,
           "subunitcolor": "white"
          },
          "hoverlabel": {
           "align": "left"
          },
          "hovermode": "closest",
          "mapbox": {
           "style": "light"
          },
          "paper_bgcolor": "white",
          "plot_bgcolor": "#E5ECF6",
          "polar": {
           "angularaxis": {
            "gridcolor": "white",
            "linecolor": "white",
            "ticks": ""
           },
           "bgcolor": "#E5ECF6",
           "radialaxis": {
            "gridcolor": "white",
            "linecolor": "white",
            "ticks": ""
           }
          },
          "scene": {
           "xaxis": {
            "backgroundcolor": "#E5ECF6",
            "gridcolor": "white",
            "gridwidth": 2,
            "linecolor": "white",
            "showbackground": true,
            "ticks": "",
            "zerolinecolor": "white"
           },
           "yaxis": {
            "backgroundcolor": "#E5ECF6",
            "gridcolor": "white",
            "gridwidth": 2,
            "linecolor": "white",
            "showbackground": true,
            "ticks": "",
            "zerolinecolor": "white"
           },
           "zaxis": {
            "backgroundcolor": "#E5ECF6",
            "gridcolor": "white",
            "gridwidth": 2,
            "linecolor": "white",
            "showbackground": true,
            "ticks": "",
            "zerolinecolor": "white"
           }
          },
          "shapedefaults": {
           "line": {
            "color": "#2a3f5f"
           }
          },
          "ternary": {
           "aaxis": {
            "gridcolor": "white",
            "linecolor": "white",
            "ticks": ""
           },
           "baxis": {
            "gridcolor": "white",
            "linecolor": "white",
            "ticks": ""
           },
           "bgcolor": "#E5ECF6",
           "caxis": {
            "gridcolor": "white",
            "linecolor": "white",
            "ticks": ""
           }
          },
          "title": {
           "x": 0.05
          },
          "xaxis": {
           "automargin": true,
           "gridcolor": "white",
           "linecolor": "white",
           "ticks": "",
           "title": {
            "standoff": 15
           },
           "zerolinecolor": "white",
           "zerolinewidth": 2
          },
          "yaxis": {
           "automargin": true,
           "gridcolor": "white",
           "linecolor": "white",
           "ticks": "",
           "title": {
            "standoff": 15
           },
           "zerolinecolor": "white",
           "zerolinewidth": 2
          }
         }
        },
        "xaxis": {
         "autorange": true,
         "range": [
          1.489873719323326,
          66.51012628067667
         ],
         "type": "linear"
        },
        "yaxis": {
         "autorange": true,
         "range": [
          1.9807121661721068,
          73.01928783382789
         ],
         "type": "linear"
        }
       }
      },
      "image/png": "[encoded data removed]",
      "text/html": [
       "<div>                            <div id=\"63524889-fac8-457a-b3ed-ef5c795b9b04\" class=\"plotly-graph-div\" style=\"height:750px; width:100%;\"></div>            <script type=\"text/javascript\">                require([\"plotly\"], function(Plotly) {                    window.PLOTLYENV=window.PLOTLYENV || {};                                    if (document.getElementById(\"63524889-fac8-457a-b3ed-ef5c795b9b04\")) {                    Plotly.newPlot(                        \"63524889-fac8-457a-b3ed-ef5c795b9b04\",                        [{\"mode\":\"markers+lines\",\"x\":[27.0,31.0,null,30.0,25.0,null,30.0,30.0,null,30.0,37.0,null,43.0,37.0,null,43.0,52.0,null,58.0,62.0,null,58.0,61.0,null,37.0,31.0,null,37.0,43.0,null,38.0,37.0,null,38.0,42.0,null,46.0,39.0,null,61.0,56.0,null,61.0,58.0,null,62.0,57.0,null,62.0,63.0,null,63.0,62.0,null,32.0,27.0,null,32.0,36.0,null,45.0,42.0,null,45.0,40.0,null,45.0,52.0,null,59.0,51.0,null,5.0,13.0,null,10.0,13.0,null,10.0,5.0,null,21.0,30.0,null,21.0,13.0,null,5.0,17.0,null,30.0,36.0,null,30.0,21.0,null,39.0,36.0,null,39.0,46.0,null,32.0,30.0,null,32.0,31.0,null,25.0,31.0,null,25.0,20.0,null,25.0,31.0,null,25.0,30.0,null,25.0,21.0,null,25.0,16.0,null,48.0,52.0,null,48.0,51.0,null,56.0,52.0,null,56.0,52.0,null,56.0,61.0,null,56.0,62.0,null,30.0,30.0,null,30.0,32.0,null,37.0,30.0,null,37.0,38.0,null,37.0,42.0,null,49.0,52.0,null,52.0,43.0,null,52.0,57.0,null,20.0,25.0,null,20.0,17.0,null,20.0,27.0,null,40.0,45.0,null,21.0,25.0,null,17.0,16.0,null,17.0,5.0,null,31.0,27.0,null,31.0,37.0,null,31.0,25.0,null,52.0,45.0,null,52.0,56.0,null,52.0,48.0,null,51.0,48.0,null,51.0,59.0,null,42.0,38.0,null,42.0,45.0,null,31.0,32.0,null,31.0,25.0,null,5.0,10.0,null,12.0,17.0,null,12.0,7.0,null,36.0,32.0,null,36.0,30.0,null,36.0,39.0,null,52.0,56.0,null,52.0,49.0,null,27.0,20.0,null,27.0,32.0,null,17.0,20.0,null,17.0,12.0,null,13.0,21.0,null,13.0,10.0,null,13.0,5.0,null,57.0,52.0,null,57.0,62.0,null,62.0,56.0,null,62.0,58.0,null,42.0,37.0,null,16.0,25.0,null,16.0,17.0,null,16.0,8.0,null,8.0,16.0,null,7.0,12.0,null],\"y\":[68.0,62.0,null,48.0,55.0,null,48.0,40.0,null,48.0,52.0,null,67.0,69.0,null,67.0,64.0,null,48.0,42.0,null,27.0,33.0,null,69.0,62.0,null,69.0,67.0,null,46.0,52.0,null,46.0,41.0,null,10.0,10.0,null,33.0,37.0,null,33.0,27.0,null,63.0,58.0,null,63.0,69.0,null,69.0,63.0,null,22.0,23.0,null,22.0,16.0,null,35.0,41.0,null,35.0,30.0,null,35.0,33.0,null,15.0,21.0,null,6.0,13.0,null,17.0,13.0,null,17.0,25.0,null,10.0,15.0,null,10.0,13.0,null,64.0,63.0,null,15.0,16.0,null,15.0,10.0,null,10.0,16.0,null,10.0,10.0,null,39.0,40.0,null,39.0,32.0,null,32.0,32.0,null,32.0,26.0,null,55.0,62.0,null,55.0,48.0,null,55.0,47.0,null,55.0,57.0,null,28.0,33.0,null,28.0,21.0,null,37.0,33.0,null,37.0,41.0,null,37.0,33.0,null,37.0,42.0,null,40.0,48.0,null,40.0,39.0,null,52.0,48.0,null,52.0,46.0,null,52.0,57.0,null,49.0,41.0,null,64.0,67.0,null,64.0,58.0,null,26.0,32.0,null,26.0,33.0,null,26.0,23.0,null,30.0,35.0,null,47.0,55.0,null,63.0,57.0,null,63.0,64.0,null,62.0,68.0,null,62.0,69.0,null,62.0,55.0,null,33.0,35.0,null,33.0,37.0,null,33.0,28.0,null,21.0,28.0,null,21.0,15.0,null,41.0,46.0,null,41.0,35.0,null,32.0,39.0,null,32.0,32.0,null,25.0,17.0,null,42.0,33.0,null,42.0,38.0,null,16.0,22.0,null,16.0,15.0,null,16.0,10.0,null,41.0,37.0,null,41.0,49.0,null,23.0,26.0,null,23.0,22.0,null,33.0,26.0,null,33.0,42.0,null,13.0,10.0,null,13.0,17.0,null,13.0,6.0,null,58.0,64.0,null,58.0,63.0,null,42.0,37.0,null,42.0,48.0,null,57.0,52.0,null,57.0,55.0,null,57.0,63.0,null,57.0,52.0,null,52.0,57.0,null,38.0,42.0,null],\"type\":\"scattergl\"}],                        {\"template\":{\"data\":{\"histogram2dcontour\":[{\"type\":\"histogram2dcontour\",\"colorbar\":{\"outlinewidth\":0,\"ticks\":\"\"},\"colorscale\":[[0.0,\"#0d0887\"],[0.1111111111111111,\"#46039f\"],[0.2222222222222222,\"#7201a8\"],[0.3333333333333333,\"#9c179e\"],[0.4444444444444444,\"#bd3786\"],[0.5555555555555556,\"#d8576b\"],[0.6666666666666666,\"#ed7953\"],[0.7777777777777778,\"#fb9f3a\"],[0.8888888888888888,\"#fdca26\"],[1.0,\"#f0f921\"]]}],\"choropleth\":[{\"type\":\"choropleth\",\"colorbar\":{\"outlinewidth\":0,\"ticks\":\"\"}}],\"histogram2d\":[{\"type\":\"histogram2d\",\"colorbar\":{\"outlinewidth\":0,\"ticks\":\"\"},\"colorscale\":[[0.0,\"#0d0887\"],[0.1111111111111111,\"#46039f\"],[0.2222222222222222,\"#7201a8\"],[0.3333333333333333,\"#9c179e\"],[0.4444444444444444,\"#bd3786\"],[0.5555555555555556,\"#d8576b\"],[0.6666666666666666,\"#ed7953\"],[0.7777777777777778,\"#fb9f3a\"],[0.8888888888888888,\"#fdca26\"],[1.0,\"#f0f921\"]]}],\"heatmap\":[{\"type\":\"heatmap\",\"colorbar\":{\"outlinewidth\":0,\"ticks\":\"\"},\"colorscale\":[[0.0,\"#0d0887\"],[0.1111111111111111,\"#46039f\"],[0.2222222222222222,\"#7201a8\"],[0.3333333333333333,\"#9c179e\"],[0.4444444444444444,\"#bd3786\"],[0.5555555555555556,\"#d8576b\"],[0.6666666666666666,\"#ed7953\"],[0.7777777777777778,\"#fb9f3a\"],[0.8888888888888888,\"#fdca26\"],[1.0,\"#f0f921\"]]}],\"heatmapgl\":[{\"type\":\"heatmapgl\",\"colorbar\":{\"outlinewidth\":0,\"ticks\":\"\"},\"colorscale\":[[0.0,\"#0d0887\"],[0.1111111111111111,\"#46039f\"],[0.2222222222222222,\"#7201a8\"],[0.3333333333333333,\"#9c179e\"],[0.4444444444444444,\"#bd3786\"],[0.5555555555555556,\"#d8576b\"],[0.6666666666666666,\"#ed7953\"],[0.7777777777777778,\"#fb9f3a\"],[0.8888888888888888,\"#fdca26\"],[1.0,\"#f0f921\"]]}],\"contourcarpet\":[{\"type\":\"contourcarpet\",\"colorbar\":{\"outlinewidth\":0,\"ticks\":\"\"}}],\"contour\":[{\"type\":\"contour\",\"colorbar\":{\"outlinewidth\":0,\"ticks\":\"\"},\"colorscale\":[[0.0,\"#0d0887\"],[0.1111111111111111,\"#46039f\"],[0.2222222222222222,\"#7201a8\"],[0.3333333333333333,\"#9c179e\"],[0.4444444444444444,\"#bd3786\"],[0.5555555555555556,\"#d8576b\"],[0.6666666666666666,\"#ed7953\"],[0.7777777777777778,\"#fb9f3a\"],[0.8888888888888888,\"#fdca26\"],[1.0,\"#f0f921\"]]}],\"surface\":[{\"type\":\"surface\",\"colorbar\":{\"outlinewidth\":0,\"ticks\":\"\"},\"colorscale\":[[0.0,\"#0d0887\"],[0.1111111111111111,\"#46039f\"],[0.2222222222222222,\"#7201a8\"],[0.3333333333333333,\"#9c179e\"],[0.4444444444444444,\"#bd3786\"],[0.5555555555555556,\"#d8576b\"],[0.6666666666666666,\"#ed7953\"],[0.7777777777777778,\"#fb9f3a\"],[0.8888888888888888,\"#fdca26\"],[1.0,\"#f0f921\"]]}],\"mesh3d\":[{\"type\":\"mesh3d\",\"colorbar\":{\"outlinewidth\":0,\"ticks\":\"\"}}],\"scatter\":[{\"fillpattern\":{\"fillmode\":\"overlay\",\"size\":10,\"solidity\":0.2},\"type\":\"scatter\"}],\"parcoords\":[{\"type\":\"parcoords\",\"line\":{\"colorbar\":{\"outlinewidth\":0,\"ticks\":\"\"}}}],\"scatterpolargl\":[{\"type\":\"scatterpolargl\",\"marker\":{\"colorbar\":{\"outlinewidth\":0,\"ticks\":\"\"}}}],\"bar\":[{\"error_x\":{\"color\":\"#2a3f5f\"},\"error_y\":{\"color\":\"#2a3f5f\"},\"marker\":{\"line\":{\"color\":\"#E5ECF6\",\"width\":0.5},\"pattern\":{\"fillmode\":\"overlay\",\"size\":10,\"solidity\":0.2}},\"type\":\"bar\"}],\"scattergeo\":[{\"type\":\"scattergeo\",\"marker\":{\"colorbar\":{\"outlinewidth\":0,\"ticks\":\"\"}}}],\"scatterpolar\":[{\"type\":\"scatterpolar\",\"marker\":{\"colorbar\":{\"outlinewidth\":0,\"ticks\":\"\"}}}],\"histogram\":[{\"marker\":{\"pattern\":{\"fillmode\":\"overlay\",\"size\":10,\"solidity\":0.2}},\"type\":\"histogram\"}],\"scattergl\":[{\"type\":\"scattergl\",\"marker\":{\"colorbar\":{\"outlinewidth\":0,\"ticks\":\"\"}}}],\"scatter3d\":[{\"type\":\"scatter3d\",\"line\":{\"colorbar\":{\"outlinewidth\":0,\"ticks\":\"\"}},\"marker\":{\"colorbar\":{\"outlinewidth\":0,\"ticks\":\"\"}}}],\"scattermapbox\":[{\"type\":\"scattermapbox\",\"marker\":{\"colorbar\":{\"outlinewidth\":0,\"ticks\":\"\"}}}],\"scatterternary\":[{\"type\":\"scatterternary\",\"marker\":{\"colorbar\":{\"outlinewidth\":0,\"ticks\":\"\"}}}],\"scattercarpet\":[{\"type\":\"scattercarpet\",\"marker\":{\"colorbar\":{\"outlinewidth\":0,\"ticks\":\"\"}}}],\"carpet\":[{\"aaxis\":{\"endlinecolor\":\"#2a3f5f\",\"gridcolor\":\"white\",\"linecolor\":\"white\",\"minorgridcolor\":\"white\",\"startlinecolor\":\"#2a3f5f\"},\"baxis\":{\"endlinecolor\":\"#2a3f5f\",\"gridcolor\":\"white\",\"linecolor\":\"white\",\"minorgridcolor\":\"white\",\"startlinecolor\":\"#2a3f5f\"},\"type\":\"carpet\"}],\"table\":[{\"cells\":{\"fill\":{\"color\":\"#EBF0F8\"},\"line\":{\"color\":\"white\"}},\"header\":{\"fill\":{\"color\":\"#C8D4E3\"},\"line\":{\"color\":\"white\"}},\"type\":\"table\"}],\"barpolar\":[{\"marker\":{\"line\":{\"color\":\"#E5ECF6\",\"width\":0.5},\"pattern\":{\"fillmode\":\"overlay\",\"size\":10,\"solidity\":0.2}},\"type\":\"barpolar\"}],\"pie\":[{\"automargin\":true,\"type\":\"pie\"}]},\"layout\":{\"autotypenumbers\":\"strict\",\"colorway\":[\"#636efa\",\"#EF553B\",\"#00cc96\",\"#ab63fa\",\"#FFA15A\",\"#19d3f3\",\"#FF6692\",\"#B6E880\",\"#FF97FF\",\"#FECB52\"],\"font\":{\"color\":\"#2a3f5f\"},\"hovermode\":\"closest\",\"hoverlabel\":{\"align\":\"left\"},\"paper_bgcolor\":\"white\",\"plot_bgcolor\":\"#E5ECF6\",\"polar\":{\"bgcolor\":\"#E5ECF6\",\"angularaxis\":{\"gridcolor\":\"white\",\"linecolor\":\"white\",\"ticks\":\"\"},\"radialaxis\":{\"gridcolor\":\"white\",\"linecolor\":\"white\",\"ticks\":\"\"}},\"ternary\":{\"bgcolor\":\"#E5ECF6\",\"aaxis\":{\"gridcolor\":\"white\",\"linecolor\":\"white\",\"ticks\":\"\"},\"baxis\":{\"gridcolor\":\"white\",\"linecolor\":\"white\",\"ticks\":\"\"},\"caxis\":{\"gridcolor\":\"white\",\"linecolor\":\"white\",\"ticks\":\"\"}},\"coloraxis\":{\"colorbar\":{\"outlinewidth\":0,\"ticks\":\"\"}},\"colorscale\":{\"sequential\":[[0.0,\"#0d0887\"],[0.1111111111111111,\"#46039f\"],[0.2222222222222222,\"#7201a8\"],[0.3333333333333333,\"#9c179e\"],[0.4444444444444444,\"#bd3786\"],[0.5555555555555556,\"#d8576b\"],[0.6666666666666666,\"#ed7953\"],[0.7777777777777778,\"#fb9f3a\"],[0.8888888888888888,\"#fdca26\"],[1.0,\"#f0f921\"]],\"sequentialminus\":[[0.0,\"#0d0887\"],[0.1111111111111111,\"#46039f\"],[0.2222222222222222,\"#7201a8\"],[0.3333333333333333,\"#9c179e\"],[0.4444444444444444,\"#bd3786\"],[0.5555555555555556,\"#d8576b\"],[0.6666666666666666,\"#ed7953\"],[0.7777777777777778,\"#fb9f3a\"],[0.8888888888888888,\"#fdca26\"],[1.0,\"#f0f921\"]],\"diverging\":[[0,\"#8e0152\"],[0.1,\"#c51b7d\"],[0.2,\"#de77ae\"],[0.3,\"#f1b6da\"],[0.4,\"#fde0ef\"],[0.5,\"#f7f7f7\"],[0.6,\"#e6f5d0\"],[0.7,\"#b8e186\"],[0.8,\"#7fbc41\"],[0.9,\"#4d9221\"],[1,\"#276419\"]]},\"xaxis\":{\"gridcolor\":\"white\",\"linecolor\":\"white\",\"ticks\":\"\",\"title\":{\"standoff\":15},\"zerolinecolor\":\"white\",\"automargin\":true,\"zerolinewidth\":2},\"yaxis\":{\"gridcolor\":\"white\",\"linecolor\":\"white\",\"ticks\":\"\",\"title\":{\"standoff\":15},\"zerolinecolor\":\"white\",\"automargin\":true,\"zerolinewidth\":2},\"scene\":{\"xaxis\":{\"backgroundcolor\":\"#E5ECF6\",\"gridcolor\":\"white\",\"linecolor\":\"white\",\"showbackground\":true,\"ticks\":\"\",\"zerolinecolor\":\"white\",\"gridwidth\":2},\"yaxis\":{\"backgroundcolor\":\"#E5ECF6\",\"gridcolor\":\"white\",\"linecolor\":\"white\",\"showbackground\":true,\"ticks\":\"\",\"zerolinecolor\":\"white\",\"gridwidth\":2},\"zaxis\":{\"backgroundcolor\":\"#E5ECF6\",\"gridcolor\":\"white\",\"linecolor\":\"white\",\"showbackground\":true,\"ticks\":\"\",\"zerolinecolor\":\"white\",\"gridwidth\":2}},\"shapedefaults\":{\"line\":{\"color\":\"#2a3f5f\"}},\"annotationdefaults\":{\"arrowcolor\":\"#2a3f5f\",\"arrowhead\":0,\"arrowwidth\":1},\"geo\":{\"bgcolor\":\"white\",\"landcolor\":\"#E5ECF6\",\"subunitcolor\":\"white\",\"showland\":true,\"showlakes\":true,\"lakecolor\":\"white\"},\"title\":{\"x\":0.05},\"mapbox\":{\"style\":\"light\"}}},\"height\":750},                        {\"responsive\": true}                    ).then(function(){\n",
       "                            \n",
       "var gd = document.getElementById('63524889-fac8-457a-b3ed-ef5c795b9b04');\n",
       "var x = new MutationObserver(function (mutations, observer) {{\n",
       "        var display = window.getComputedStyle(gd).display;\n",
       "        if (!display || display === 'none') {{\n",
       "            console.log([gd, 'removed!']);\n",
       "            Plotly.purge(gd);\n",
       "            observer.disconnect();\n",
       "        }}\n",
       "}});\n",
       "\n",
       "// Listen for the removal of the full notebook cells\n",
       "var notebookContainer = gd.closest('#notebook-container');\n",
       "if (notebookContainer) {{\n",
       "    x.observe(notebookContainer, {childList: true});\n",
       "}}\n",
       "\n",
       "// Listen for the clearing of the current output cell\n",
       "var outputEl = gd.closest('.output');\n",
       "if (outputEl) {{\n",
       "    x.observe(outputEl, {childList: true});\n",
       "}}\n",
       "\n",
       "                        })                };                });            </script>        </div>"
      ]
     },
     "metadata": {},
     "output_type": "display_data"
    }
   ],
   "source": [
    "\n",
    "\n",
    "fig = go.Figure(data=go.Scattergl(\n",
    "    x=edge_x,\n",
    "    y=edge_y,\n",
    "    mode=\"markers+lines\",\n",
    "    # mode=\"markers\"\n",
    "))\n",
    "fig.update_layout(height=750)\n",
    "fig.show()\n"
   ]
  },
  {
   "cell_type": "code",
   "execution_count": null,
   "id": "e00b0c45-595d-494e-9e74-345443a10e9c",
   "metadata": {},
   "outputs": [],
   "source": []
  },
  {
   "cell_type": "code",
   "execution_count": null,
   "id": "7bb597a2-1914-46c4-880a-e8d97a5d6881",
   "metadata": {},
   "outputs": [],
   "source": []
  },
  {
   "cell_type": "code",
   "execution_count": null,
   "id": "273c7879-5704-46d3-aba3-ade43957e266",
   "metadata": {},
   "outputs": [],
   "source": []
  },
  {
   "cell_type": "code",
   "execution_count": null,
   "id": "d9ef527f-fd17-48b9-a983-e29c391efdae",
   "metadata": {},
   "outputs": [],
   "source": [
    "fig = go.Figure(data=go.Scattergl(\n",
    "    x=edge_x,\n",
    "    y=edge_y,\n",
    "    mode=\"markers+lines\",\n",
    "    # mode=\"markers\"\n",
    "))\n",
    "fig.update_layout(width=1200, height=1200*layout_ratio)\n",
    "fig.show()"
   ]
  },
  {
   "cell_type": "code",
   "execution_count": null,
   "id": "3fdd1b5b-06ba-426c-97d1-e23e5480fa22",
   "metadata": {},
   "outputs": [],
   "source": [
    "\n",
    "x_points = [x for x, y in points]\n",
    "y_points = [y for x, y in points]\n",
    "layout_ratio = max(x_points)/max(y_points)\n",
    "\n",
    "fig = go.Figure(data=go.Scattergl(\n",
    "    x=x_points,\n",
    "    y=y_points,\n",
    "    # mode=\"markers+lines\",\n",
    "    mode=\"markers\"\n",
    "))\n",
    "fig.update_layout(width=1200, height=1200*layout_ratio)\n",
    "fig.show()"
   ]
  },
  {
   "cell_type": "code",
   "execution_count": null,
   "id": "b92dc545-ca38-4dda-a9cc-63e6920e9239",
   "metadata": {},
   "outputs": [],
   "source": [
    "\n",
    "x_points = [x for x, y in exploring_path]\n",
    "y_points = [y for x, y in exploring_path]\n",
    "layout_ratio = max(x_points)/max(y_points)\n",
    "\n",
    "fig = go.Figure(data=go.Scattergl(\n",
    "    x=x_points,\n",
    "    y=y_points,\n",
    "    mode=\"markers+lines\",\n",
    "    # mode=\"markers\"\n",
    "))\n",
    "fig.update_layout(width=1200, height=1200*layout_ratio)\n",
    "fig.show()"
   ]
  },
  {
   "cell_type": "code",
   "execution_count": null,
   "id": "600b786d-f6cb-4802-997b-a32d384a3fca",
   "metadata": {},
   "outputs": [],
   "source": [
    "## Working MST\n",
    "\n",
    "# explored_path = [[] for _ in range(len(points))]\n",
    "# explored_indexes = [] #set()\n",
    "# distance_matrix = np.array([0, 0, 0])\n",
    "# node_number = 0\n",
    "# points_count = points.shape[0]\n",
    "# max_size = 0\n",
    "\n",
    "# neighbors_to_account = 50 #points_count//5\n",
    "\n",
    "# with tqdm() as tbar:\n",
    "#     while len(set(explored_indexes)) < points_count:\n",
    "\n",
    "#         explored_indexes = list(set(explored_indexes))\n",
    "        \n",
    "#         one_point = points[node_number]\n",
    "#         explored_indexes.append(node_number)\n",
    "    \n",
    "#         neighbor_distances = length_distance(one_point, points)\n",
    "#         neighbor_idx = np.argsort(neighbor_distances)\n",
    "#         parent_idx = np.array([node_number]*points_count)[:, np.newaxis]\n",
    "#         sorted_neighbors = np.hstack((parent_idx, neighbor_idx[:, np.newaxis], neighbor_distances[neighbor_idx][:, np.newaxis]))[:neighbors_to_account]\n",
    "    \n",
    "#         distance_matrix = np.vstack((distance_matrix, sorted_neighbors))\n",
    "        \n",
    "#         mask = np.logical_not(np.isin(distance_matrix[:, 1], explored_indexes))\n",
    "#         distance_matrix = distance_matrix[mask]\n",
    "    \n",
    "#         if not distance_matrix.size:\n",
    "#             neighbors_to_account *= 2\n",
    "#             continue\n",
    "\n",
    "#         distance_matrix = distance_matrix[np.argsort(distance_matrix[:, 2])] ## sort by distance\n",
    "\n",
    "\n",
    "#         if distance_matrix.shape[0] > max_size:\n",
    "#             max_size = distance_matrix.shape[0]\n",
    "    \n",
    "#         ## Add to graph\n",
    "#         parent_node = int(distance_matrix[0][0])\n",
    "#         neighbor_node = int(distance_matrix[0][1])\n",
    "        \n",
    "#         explored_path[parent_node].append(neighbor_node)\n",
    "#         explored_path[neighbor_node].append(parent_node)\n",
    "        \n",
    "#         ## Explore next node\n",
    "#         node_number = neighbor_node\n",
    "#         tbar.update(1)\n",
    "\n",
    "#         # if len(set(explored_indexes)) ==2:\n",
    "#         #     break\n",
    "# print(len(set(explored_indexes)))     "
   ]
  }
 ],
 "metadata": {
  "kernelspec": {
   "display_name": "Python 3 (ipykernel)",
   "language": "python",
   "name": "python3"
  },
  "language_info": {
   "codemirror_mode": {
    "name": "ipython",
    "version": 3
   },
   "file_extension": ".py",
   "mimetype": "text/x-python",
   "name": "python",
   "nbconvert_exporter": "python",
   "pygments_lexer": "ipython3",
   "version": "3.10.11"
  },
  "widgets": {
   "application/vnd.jupyter.widget-state+json": {
    "state": {
     "01601332a5a94a069b1c3f233998989e": {
      "model_module": "@jupyter-widgets/controls",
      "model_module_version": "2.0.0",
      "model_name": "HTMLModel",
      "state": {
       "layout": "IPY_MODEL_a64bc25246df4fa5a889f4ffe682d05c",
       "style": "IPY_MODEL_f8f21f90651f4ee8bfcc47e939477192",
       "value": "100%"
      }
     },
     "01b7c066a7a4463da8f403e42a93e368": {
      "model_module": "@jupyter-widgets/controls",
      "model_module_version": "2.0.0",
      "model_name": "HBoxModel",
      "state": {
       "children": [
        "IPY_MODEL_4469d9421a0a40e8a89b24c126fccc1f",
        "IPY_MODEL_4fcb63d3fff741f886814cba566edfc1",
        "IPY_MODEL_f5f573bf518446a0b11ccfc7d21a6e39"
       ],
       "layout": "IPY_MODEL_056ffc4f791f41e1a53291d3adc0e43b"
      }
     },
     "02d591f5413a4fbd96093a7962e5eeb6": {
      "model_module": "@jupyter-widgets/controls",
      "model_module_version": "2.0.0",
      "model_name": "HTMLStyleModel",
      "state": {
       "description_width": "",
       "font_size": null,
       "text_color": null
      }
     },
     "03d274ee82b446609685de77710b6f2f": {
      "model_module": "@jupyter-widgets/base",
      "model_module_version": "2.0.0",
      "model_name": "LayoutModel",
      "state": {}
     },
     "046835898d9e4ddcbc39734f24ed0c61": {
      "model_module": "@jupyter-widgets/controls",
      "model_module_version": "2.0.0",
      "model_name": "ProgressStyleModel",
      "state": {
       "description_width": ""
      }
     },
     "04bf51305a954224bf8888892fb9c934": {
      "model_module": "@jupyter-widgets/controls",
      "model_module_version": "2.0.0",
      "model_name": "HTMLStyleModel",
      "state": {
       "description_width": "",
       "font_size": null,
       "text_color": null
      }
     },
     "04ca4ff5c385465b814afedda8a201e5": {
      "model_module": "@jupyter-widgets/controls",
      "model_module_version": "2.0.0",
      "model_name": "HBoxModel",
      "state": {
       "children": [
        "IPY_MODEL_7abb1563df5b41a8b28ea3eece10aa19",
        "IPY_MODEL_476b0893bfeb498886eea5be80f506be",
        "IPY_MODEL_f543fda480354e759e9dc43d61161a9c"
       ],
       "layout": "IPY_MODEL_ef05d19d09d44a8eb6f89fcb911fb9ad"
      }
     },
     "051e467f870046e3945122be793bc030": {
      "model_module": "@jupyter-widgets/base",
      "model_module_version": "2.0.0",
      "model_name": "LayoutModel",
      "state": {}
     },
     "0520a6478ae94247b4ed5414e72318fc": {
      "model_module": "@jupyter-widgets/controls",
      "model_module_version": "2.0.0",
      "model_name": "HTMLModel",
      "state": {
       "layout": "IPY_MODEL_e4f9a26bd8cb41db930fcb9c21bd1b72",
       "style": "IPY_MODEL_d6d5301f09cc4723a0ec30c4fc1360c2",
       "value": "100%"
      }
     },
     "056ffc4f791f41e1a53291d3adc0e43b": {
      "model_module": "@jupyter-widgets/base",
      "model_module_version": "2.0.0",
      "model_name": "LayoutModel",
      "state": {}
     },
     "05709e8a1c0944f1bf8923b3c0112124": {
      "model_module": "@jupyter-widgets/base",
      "model_module_version": "2.0.0",
      "model_name": "LayoutModel",
      "state": {}
     },
     "05959e0e94f24b08bec406e1b8a7bcac": {
      "model_module": "@jupyter-widgets/controls",
      "model_module_version": "2.0.0",
      "model_name": "HBoxModel",
      "state": {
       "children": [
        "IPY_MODEL_ec9c8e43a2054ca0b282814a0a2b717a",
        "IPY_MODEL_df78cf29852c4b878a306e5188053a54",
        "IPY_MODEL_d1a3123dd33d4ca0b33178faa9f27f0c"
       ],
       "layout": "IPY_MODEL_c9815423a72240d4ba97ca6b2ad09627"
      }
     },
     "066535fffee240c0948db54c17cb3872": {
      "model_module": "@jupyter-widgets/base",
      "model_module_version": "2.0.0",
      "model_name": "LayoutModel",
      "state": {
       "width": "20px"
      }
     },
     "06f2c8a681444357bd94cb230f6938cd": {
      "model_module": "@jupyter-widgets/controls",
      "model_module_version": "2.0.0",
      "model_name": "HTMLStyleModel",
      "state": {
       "description_width": "",
       "font_size": null,
       "text_color": null
      }
     },
     "0787ffd220b64361ae610839de5029f7": {
      "model_module": "@jupyter-widgets/base",
      "model_module_version": "2.0.0",
      "model_name": "LayoutModel",
      "state": {}
     },
     "07d284867f364f268dcbf51196a243b9": {
      "model_module": "@jupyter-widgets/controls",
      "model_module_version": "2.0.0",
      "model_name": "FloatProgressModel",
      "state": {
       "bar_style": "success",
       "layout": "IPY_MODEL_200d780630d8410aaf6891751fea0bfd",
       "max": 1000,
       "style": "IPY_MODEL_db041cfffb8e40b58ce5cc87eaee2543",
       "value": 1000
      }
     },
     "09cda7a8a4fd4cdd8dddd8defae5ec21": {
      "model_module": "@jupyter-widgets/base",
      "model_module_version": "2.0.0",
      "model_name": "LayoutModel",
      "state": {}
     },
     "0ca2a094b41f4632860f8e518af502c2": {
      "model_module": "@jupyter-widgets/base",
      "model_module_version": "2.0.0",
      "model_name": "LayoutModel",
      "state": {}
     },
     "0e28138411a248dc93c0605e678a6bce": {
      "model_module": "@jupyter-widgets/base",
      "model_module_version": "2.0.0",
      "model_name": "LayoutModel",
      "state": {}
     },
     "0f10a98692984f9c91cea180c5aa46d2": {
      "model_module": "@jupyter-widgets/controls",
      "model_module_version": "2.0.0",
      "model_name": "HTMLModel",
      "state": {
       "layout": "IPY_MODEL_7af3af35905840e9ae3a615b18a0683a",
       "style": "IPY_MODEL_cc4193230a0347e5b9a7e2db64cc6d5e",
       "value": " 1000/1000 [00:00&lt;00:00, 4960.50it/s]"
      }
     },
     "117e350217284d6daad85bb8eb56de5b": {
      "model_module": "@jupyter-widgets/base",
      "model_module_version": "2.0.0",
      "model_name": "LayoutModel",
      "state": {}
     },
     "118b885b25094296abfbf7eddd6706fb": {
      "model_module": "@jupyter-widgets/base",
      "model_module_version": "2.0.0",
      "model_name": "LayoutModel",
      "state": {}
     },
     "1223cc743c7c4079ba41e4a956057b53": {
      "model_module": "@jupyter-widgets/controls",
      "model_module_version": "2.0.0",
      "model_name": "FloatProgressModel",
      "state": {
       "bar_style": "success",
       "layout": "IPY_MODEL_76d199a2abba4d0686ff825c033c034e",
       "max": 1000,
       "style": "IPY_MODEL_c3665301f29d46f9b571b704b099bd61",
       "value": 1000
      }
     },
     "148fd26d8d6f4948b80ce305c55f5df8": {
      "model_module": "@jupyter-widgets/base",
      "model_module_version": "2.0.0",
      "model_name": "LayoutModel",
      "state": {}
     },
     "153f9eb53baf49ff88fb9d7b6afa6398": {
      "model_module": "@jupyter-widgets/controls",
      "model_module_version": "2.0.0",
      "model_name": "HTMLModel",
      "state": {
       "layout": "IPY_MODEL_3aff325502f148b492a1695b09407fff",
       "style": "IPY_MODEL_afd45e5c82cf4fd0a25ab6cf9cc52e5e",
       "value": " 1000/1000 [00:00&lt;00:00, 4898.51it/s]"
      }
     },
     "16662c937e094f9ab6bb9531aeba58e1": {
      "model_module": "@jupyter-widgets/base",
      "model_module_version": "2.0.0",
      "model_name": "LayoutModel",
      "state": {}
     },
     "174ccefaf0cc4110895541cf64ca51af": {
      "model_module": "@jupyter-widgets/controls",
      "model_module_version": "2.0.0",
      "model_name": "HBoxModel",
      "state": {
       "children": [
        "IPY_MODEL_e941bd87fb33427b8731c340b66de9b9",
        "IPY_MODEL_58bde836f45e4bba8638cb64aea4d8ae",
        "IPY_MODEL_42ff61bb4e1149fc8da188b9007a25a3"
       ],
       "layout": "IPY_MODEL_d0f4b7caa8ed406ea93006eea2ffa17d"
      }
     },
     "1790b4721f334496ba716eb1981b92cd": {
      "model_module": "@jupyter-widgets/controls",
      "model_module_version": "2.0.0",
      "model_name": "ProgressStyleModel",
      "state": {
       "description_width": ""
      }
     },
     "17c2ca8e7bfb4064aea8f029f397d500": {
      "model_module": "@jupyter-widgets/base",
      "model_module_version": "2.0.0",
      "model_name": "LayoutModel",
      "state": {}
     },
     "188f393b477c4f50a6d190135eceb513": {
      "model_module": "@jupyter-widgets/base",
      "model_module_version": "2.0.0",
      "model_name": "LayoutModel",
      "state": {}
     },
     "1893015a83c2402e9912e9e4b877b0e3": {
      "model_module": "@jupyter-widgets/controls",
      "model_module_version": "2.0.0",
      "model_name": "HBoxModel",
      "state": {
       "children": [
        "IPY_MODEL_6d59878256004b70a8f4b3f416b9cadf",
        "IPY_MODEL_b941ef2541a04e229833cf4b9b151b24",
        "IPY_MODEL_42e6b548928342d7bbe2b4efec98bb9e"
       ],
       "layout": "IPY_MODEL_7e405e8325454c7ca6810455c61cda8c"
      }
     },
     "1d0e7a4f79a945e08e86ffbf00267d5f": {
      "model_module": "@jupyter-widgets/base",
      "model_module_version": "2.0.0",
      "model_name": "LayoutModel",
      "state": {}
     },
     "1df14f06c12d4f9f9df1054ae536d95b": {
      "model_module": "@jupyter-widgets/base",
      "model_module_version": "2.0.0",
      "model_name": "LayoutModel",
      "state": {}
     },
     "200d780630d8410aaf6891751fea0bfd": {
      "model_module": "@jupyter-widgets/base",
      "model_module_version": "2.0.0",
      "model_name": "LayoutModel",
      "state": {}
     },
     "2019f8a70fb14093ae234e02e6a84e28": {
      "model_module": "@jupyter-widgets/base",
      "model_module_version": "2.0.0",
      "model_name": "LayoutModel",
      "state": {}
     },
     "20fd392b8cb649c2be228ded9b39c13d": {
      "model_module": "@jupyter-widgets/controls",
      "model_module_version": "2.0.0",
      "model_name": "HTMLModel",
      "state": {
       "layout": "IPY_MODEL_e85e1bbad7144844949103d545d92f44",
       "style": "IPY_MODEL_26b7dbd182614744ad594a5187b9bcfa",
       "value": "100%"
      }
     },
     "216e9b5f94e5452b99e2b0e102fb26ca": {
      "model_module": "@jupyter-widgets/controls",
      "model_module_version": "2.0.0",
      "model_name": "HTMLStyleModel",
      "state": {
       "description_width": "",
       "font_size": null,
       "text_color": null
      }
     },
     "21a049e9119242df801b2a8deda0e760": {
      "model_module": "@jupyter-widgets/controls",
      "model_module_version": "2.0.0",
      "model_name": "HTMLModel",
      "state": {
       "layout": "IPY_MODEL_9a75093317704ec2bde6b9a836b42cce",
       "style": "IPY_MODEL_528385fcccc348c18969b09eeea9d3a2",
       "value": " 1000/1000 [00:00&lt;00:00, 5238.44it/s]"
      }
     },
     "21aacc4aa9464685bb91d5947ab5ae99": {
      "model_module": "@jupyter-widgets/controls",
      "model_module_version": "2.0.0",
      "model_name": "ProgressStyleModel",
      "state": {
       "description_width": ""
      }
     },
     "2437fb065c7c456eb948e01a9099fdfb": {
      "model_module": "@jupyter-widgets/controls",
      "model_module_version": "2.0.0",
      "model_name": "HTMLStyleModel",
      "state": {
       "description_width": "",
       "font_size": null,
       "text_color": null
      }
     },
     "257ac2c42e5f4afb83ca4fa06def1e74": {
      "model_module": "@jupyter-widgets/controls",
      "model_module_version": "2.0.0",
      "model_name": "HBoxModel",
      "state": {
       "children": [
        "IPY_MODEL_94483a09677f4902826401d46dd578e5",
        "IPY_MODEL_c18993f5affa45c49a4b1a6464fe3c83",
        "IPY_MODEL_c4546d58af4f4fe8a5ab52fcea7bc800"
       ],
       "layout": "IPY_MODEL_148fd26d8d6f4948b80ce305c55f5df8"
      }
     },
     "26b7dbd182614744ad594a5187b9bcfa": {
      "model_module": "@jupyter-widgets/controls",
      "model_module_version": "2.0.0",
      "model_name": "HTMLStyleModel",
      "state": {
       "description_width": "",
       "font_size": null,
       "text_color": null
      }
     },
     "26c76a42ca214d8687308c72bec58e7c": {
      "model_module": "@jupyter-widgets/base",
      "model_module_version": "2.0.0",
      "model_name": "LayoutModel",
      "state": {}
     },
     "295afdb8033b458b93a800e327413c50": {
      "model_module": "@jupyter-widgets/base",
      "model_module_version": "2.0.0",
      "model_name": "LayoutModel",
      "state": {
       "width": "20px"
      }
     },
     "2b09c01bd3074812bffd6b71c8b80b76": {
      "model_module": "@jupyter-widgets/controls",
      "model_module_version": "2.0.0",
      "model_name": "ProgressStyleModel",
      "state": {
       "description_width": ""
      }
     },
     "2baa7145185347e9b7fed78cf091cb38": {
      "model_module": "@jupyter-widgets/base",
      "model_module_version": "2.0.0",
      "model_name": "LayoutModel",
      "state": {
       "width": "20px"
      }
     },
     "2bb61e46936f488993eba19abaa169c2": {
      "model_module": "@jupyter-widgets/base",
      "model_module_version": "2.0.0",
      "model_name": "LayoutModel",
      "state": {}
     },
     "2cd84af7feb3467a942d07136d108fc3": {
      "model_module": "@jupyter-widgets/base",
      "model_module_version": "2.0.0",
      "model_name": "LayoutModel",
      "state": {}
     },
     "2cecc08facd643e0a741a080d52c445d": {
      "model_module": "@jupyter-widgets/controls",
      "model_module_version": "2.0.0",
      "model_name": "HBoxModel",
      "state": {
       "children": [
        "IPY_MODEL_7456a35fce954d25bae8f43b0a439d83",
        "IPY_MODEL_cc61d11f186b46499890eea6472adaa6",
        "IPY_MODEL_82f7733f1cc74a01b95f443ebbf566ad"
       ],
       "layout": "IPY_MODEL_b2ef181cddfc415387e4e705718e1767"
      }
     },
     "2e2639f8a71649c4b9df26d39168c483": {
      "model_module": "@jupyter-widgets/controls",
      "model_module_version": "2.0.0",
      "model_name": "ProgressStyleModel",
      "state": {
       "description_width": ""
      }
     },
     "31df2f2a9d1d4569b9e06badc6488c59": {
      "model_module": "@jupyter-widgets/controls",
      "model_module_version": "2.0.0",
      "model_name": "HTMLStyleModel",
      "state": {
       "description_width": "",
       "font_size": null,
       "text_color": null
      }
     },
     "3283753409f145a0902179c7b7e61600": {
      "model_module": "@jupyter-widgets/base",
      "model_module_version": "2.0.0",
      "model_name": "LayoutModel",
      "state": {}
     },
     "347b758d5ee84712abc4a648abbfa861": {
      "model_module": "@jupyter-widgets/controls",
      "model_module_version": "2.0.0",
      "model_name": "HTMLModel",
      "state": {
       "layout": "IPY_MODEL_f52d30ed463147da8abf51e55f9bd1c3",
       "style": "IPY_MODEL_9158f5bd6b924360b57b2c7b2ca16624",
       "value": " 0/1000 [00:00&lt;?, ?it/s]"
      }
     },
     "3753f7768a294e538e7f0235b0ea4e6e": {
      "model_module": "@jupyter-widgets/controls",
      "model_module_version": "2.0.0",
      "model_name": "HTMLModel",
      "state": {
       "layout": "IPY_MODEL_b4c400d081f7413e80abfe308de891a2",
       "style": "IPY_MODEL_59aa81afedbe4835aebd29ab38a24c8b",
       "value": "100%"
      }
     },
     "37c8503691574585959b9d1e2b3a51bb": {
      "model_module": "@jupyter-widgets/base",
      "model_module_version": "2.0.0",
      "model_name": "LayoutModel",
      "state": {}
     },
     "3930b6ef428145ad870e410d363eb3c5": {
      "model_module": "@jupyter-widgets/controls",
      "model_module_version": "2.0.0",
      "model_name": "HTMLStyleModel",
      "state": {
       "description_width": "",
       "font_size": null,
       "text_color": null
      }
     },
     "3aff325502f148b492a1695b09407fff": {
      "model_module": "@jupyter-widgets/base",
      "model_module_version": "2.0.0",
      "model_name": "LayoutModel",
      "state": {}
     },
     "3ba490ba24894d4992cfd368175426dd": {
      "model_module": "@jupyter-widgets/controls",
      "model_module_version": "2.0.0",
      "model_name": "ProgressStyleModel",
      "state": {
       "description_width": ""
      }
     },
     "3ca3472cb02e45e4b46efb3cec9e792a": {
      "model_module": "@jupyter-widgets/base",
      "model_module_version": "2.0.0",
      "model_name": "LayoutModel",
      "state": {}
     },
     "3e526a1e0f434b84a636f4623d8da2ad": {
      "model_module": "@jupyter-widgets/controls",
      "model_module_version": "2.0.0",
      "model_name": "HTMLModel",
      "state": {
       "layout": "IPY_MODEL_0e28138411a248dc93c0605e678a6bce",
       "style": "IPY_MODEL_8cd824c152b547c28cf3fb0c84753a9a",
       "value": " 51/? [00:00&lt;00:00, 8518.90it/s]"
      }
     },
     "3e9d8e8a1975490598b43b8a3f9ff522": {
      "model_module": "@jupyter-widgets/controls",
      "model_module_version": "2.0.0",
      "model_name": "ProgressStyleModel",
      "state": {
       "description_width": ""
      }
     },
     "41957b89f1534db08e7c2466c9645d81": {
      "model_module": "@jupyter-widgets/controls",
      "model_module_version": "2.0.0",
      "model_name": "HTMLStyleModel",
      "state": {
       "description_width": "",
       "font_size": null,
       "text_color": null
      }
     },
     "4218a46c2b1f4c2b90833ab43cbf741f": {
      "model_module": "@jupyter-widgets/controls",
      "model_module_version": "2.0.0",
      "model_name": "HTMLStyleModel",
      "state": {
       "description_width": "",
       "font_size": null,
       "text_color": null
      }
     },
     "42e6b548928342d7bbe2b4efec98bb9e": {
      "model_module": "@jupyter-widgets/controls",
      "model_module_version": "2.0.0",
      "model_name": "HTMLModel",
      "state": {
       "layout": "IPY_MODEL_661d16717d694c14998680bb90e25a89",
       "style": "IPY_MODEL_460a00592e144ee0a884d559d6a482fe",
       "value": " 1000/1000 [00:00&lt;00:00, 4808.65it/s]"
      }
     },
     "42ff61bb4e1149fc8da188b9007a25a3": {
      "model_module": "@jupyter-widgets/controls",
      "model_module_version": "2.0.0",
      "model_name": "HTMLModel",
      "state": {
       "layout": "IPY_MODEL_4c56b91dbe634f0ebb5adb17f3eda412",
       "style": "IPY_MODEL_6a9bcd60d9a840538c6958ea9f056d21",
       "value": " 1000/1000 [00:00&lt;00:00, 4779.08it/s]"
      }
     },
     "43b363a1068b4ffd860649b8d36636ad": {
      "model_module": "@jupyter-widgets/controls",
      "model_module_version": "2.0.0",
      "model_name": "HTMLStyleModel",
      "state": {
       "description_width": "",
       "font_size": null,
       "text_color": null
      }
     },
     "4469d9421a0a40e8a89b24c126fccc1f": {
      "model_module": "@jupyter-widgets/controls",
      "model_module_version": "2.0.0",
      "model_name": "HTMLModel",
      "state": {
       "layout": "IPY_MODEL_bc84c7f71c0f4171874afa075229b5bd",
       "style": "IPY_MODEL_8c3ac8b7cf0440a286897736649b044a",
       "value": "100%"
      }
     },
     "45026e0b8fda46b7a719de4d0b84b28d": {
      "model_module": "@jupyter-widgets/base",
      "model_module_version": "2.0.0",
      "model_name": "LayoutModel",
      "state": {}
     },
     "452e357676a74a8c9f072d64e1b810eb": {
      "model_module": "@jupyter-widgets/base",
      "model_module_version": "2.0.0",
      "model_name": "LayoutModel",
      "state": {}
     },
     "458ba5d1b517495c8ea1d9aa316ba657": {
      "model_module": "@jupyter-widgets/controls",
      "model_module_version": "2.0.0",
      "model_name": "HTMLModel",
      "state": {
       "layout": "IPY_MODEL_deed8360cec848f2b1d4fa3d430a085c",
       "style": "IPY_MODEL_06f2c8a681444357bd94cb230f6938cd",
       "value": "100%"
      }
     },
     "460a00592e144ee0a884d559d6a482fe": {
      "model_module": "@jupyter-widgets/controls",
      "model_module_version": "2.0.0",
      "model_name": "HTMLStyleModel",
      "state": {
       "description_width": "",
       "font_size": null,
       "text_color": null
      }
     },
     "476b0893bfeb498886eea5be80f506be": {
      "model_module": "@jupyter-widgets/controls",
      "model_module_version": "2.0.0",
      "model_name": "FloatProgressModel",
      "state": {
       "bar_style": "success",
       "layout": "IPY_MODEL_8033bcec217f41189e34a594d153880e",
       "max": 1,
       "style": "IPY_MODEL_1790b4721f334496ba716eb1981b92cd",
       "value": 1
      }
     },
     "48f349a1437b4007a86f72b0ff6271d6": {
      "model_module": "@jupyter-widgets/base",
      "model_module_version": "2.0.0",
      "model_name": "LayoutModel",
      "state": {}
     },
     "4b51fad53f394eb7b7a2417908f227ae": {
      "model_module": "@jupyter-widgets/base",
      "model_module_version": "2.0.0",
      "model_name": "LayoutModel",
      "state": {}
     },
     "4be66dcfdb234f17bbd03736494345da": {
      "model_module": "@jupyter-widgets/controls",
      "model_module_version": "2.0.0",
      "model_name": "HBoxModel",
      "state": {
       "children": [
        "IPY_MODEL_97b6ba8f5fdc4f3fa65a0c643f4702a6",
        "IPY_MODEL_7de300dd59854cb58d3640d5d89b304b",
        "IPY_MODEL_0f10a98692984f9c91cea180c5aa46d2"
       ],
       "layout": "IPY_MODEL_f729af1e4bea4c5b9c25595fa302b7b8"
      }
     },
     "4c56b91dbe634f0ebb5adb17f3eda412": {
      "model_module": "@jupyter-widgets/base",
      "model_module_version": "2.0.0",
      "model_name": "LayoutModel",
      "state": {}
     },
     "4d841942a4124ee1a56f4665b56ad7b4": {
      "model_module": "@jupyter-widgets/controls",
      "model_module_version": "2.0.0",
      "model_name": "HBoxModel",
      "state": {
       "children": [
        "IPY_MODEL_dc4a22f246854cd0a1b4deeb0d898747",
        "IPY_MODEL_8f1c84b750344a9780da4c675a91f906",
        "IPY_MODEL_d298317ec44b4c74b82e0d20684e3615"
       ],
       "layout": "IPY_MODEL_8bf48cf49a5d4060b64267e646702acc"
      }
     },
     "4fcb63d3fff741f886814cba566edfc1": {
      "model_module": "@jupyter-widgets/controls",
      "model_module_version": "2.0.0",
      "model_name": "FloatProgressModel",
      "state": {
       "bar_style": "success",
       "layout": "IPY_MODEL_bda87505aa1047f7b4b6d0b5337b36fd",
       "max": 1000,
       "style": "IPY_MODEL_3ba490ba24894d4992cfd368175426dd",
       "value": 1000
      }
     },
     "5000b31159794c9d9812525568118e04": {
      "model_module": "@jupyter-widgets/controls",
      "model_module_version": "2.0.0",
      "model_name": "HTMLModel",
      "state": {
       "layout": "IPY_MODEL_c34cc856841f409c8b00cd1fdafb1513",
       "style": "IPY_MODEL_848c5180a1c94d4bae9c0d1f6c809812",
       "value": "  0%"
      }
     },
     "5002fcf90dd04808bc8eb87bf4b49582": {
      "model_module": "@jupyter-widgets/base",
      "model_module_version": "2.0.0",
      "model_name": "LayoutModel",
      "state": {}
     },
     "528385fcccc348c18969b09eeea9d3a2": {
      "model_module": "@jupyter-widgets/controls",
      "model_module_version": "2.0.0",
      "model_name": "HTMLStyleModel",
      "state": {
       "description_width": "",
       "font_size": null,
       "text_color": null
      }
     },
     "534632ca16bf4627b213533dd3ba38f4": {
      "model_module": "@jupyter-widgets/controls",
      "model_module_version": "2.0.0",
      "model_name": "HTMLStyleModel",
      "state": {
       "description_width": "",
       "font_size": null,
       "text_color": null
      }
     },
     "56bcf0783eb045579d3f5c38c5af3f71": {
      "model_module": "@jupyter-widgets/controls",
      "model_module_version": "2.0.0",
      "model_name": "ProgressStyleModel",
      "state": {
       "description_width": ""
      }
     },
     "56d6764bf1cd49dab690cc3144696aca": {
      "model_module": "@jupyter-widgets/base",
      "model_module_version": "2.0.0",
      "model_name": "LayoutModel",
      "state": {}
     },
     "58557d43e91341009cb175168cdd1fae": {
      "model_module": "@jupyter-widgets/controls",
      "model_module_version": "2.0.0",
      "model_name": "FloatProgressModel",
      "state": {
       "bar_style": "success",
       "layout": "IPY_MODEL_c3f8127fbbda4d328bc092145adcb98c",
       "max": 1000,
       "style": "IPY_MODEL_ffe542345c9142de88271d4b2f989527",
       "value": 1000
      }
     },
     "58bde836f45e4bba8638cb64aea4d8ae": {
      "model_module": "@jupyter-widgets/controls",
      "model_module_version": "2.0.0",
      "model_name": "FloatProgressModel",
      "state": {
       "bar_style": "success",
       "layout": "IPY_MODEL_64d58c7b528140afab67490f8493fba1",
       "max": 1000,
       "style": "IPY_MODEL_b326b70c94614c12a962cf4b671a0ac7",
       "value": 1000
      }
     },
     "5905decebb9344c2b24430da3fa83b32": {
      "model_module": "@jupyter-widgets/controls",
      "model_module_version": "2.0.0",
      "model_name": "HBoxModel",
      "state": {
       "children": [
        "IPY_MODEL_f5ab5f41c40c4699bfe6bc29fa81b8e3",
        "IPY_MODEL_58557d43e91341009cb175168cdd1fae",
        "IPY_MODEL_ef3a0d3c9a454e84b4f97cf85a308b6a"
       ],
       "layout": "IPY_MODEL_b7f7b74c22704d14b21109d4c14bda54"
      }
     },
     "594c37b1700848c39fc148a032182880": {
      "model_module": "@jupyter-widgets/controls",
      "model_module_version": "2.0.0",
      "model_name": "ProgressStyleModel",
      "state": {
       "description_width": ""
      }
     },
     "59aa81afedbe4835aebd29ab38a24c8b": {
      "model_module": "@jupyter-widgets/controls",
      "model_module_version": "2.0.0",
      "model_name": "HTMLStyleModel",
      "state": {
       "description_width": "",
       "font_size": null,
       "text_color": null
      }
     },
     "5c160492708b426788741dc24aaa4abe": {
      "model_module": "@jupyter-widgets/controls",
      "model_module_version": "2.0.0",
      "model_name": "HBoxModel",
      "state": {
       "children": [
        "IPY_MODEL_01601332a5a94a069b1c3f233998989e",
        "IPY_MODEL_7bbf036850994813a0efd4f669cd3e7d",
        "IPY_MODEL_e2aeb9d41c5146839f0630952108a326"
       ],
       "layout": "IPY_MODEL_d115fa07241a4cd89b2a65f03a476da9"
      }
     },
     "5d682765efd74cb3acae656885c1e5a9": {
      "model_module": "@jupyter-widgets/controls",
      "model_module_version": "2.0.0",
      "model_name": "ProgressStyleModel",
      "state": {
       "description_width": ""
      }
     },
     "5f7d606f3e39426c97150decb88ce3b0": {
      "model_module": "@jupyter-widgets/controls",
      "model_module_version": "2.0.0",
      "model_name": "HTMLStyleModel",
      "state": {
       "description_width": "",
       "font_size": null,
       "text_color": null
      }
     },
     "60f04d0cf76d4befa96f0a594547076a": {
      "model_module": "@jupyter-widgets/controls",
      "model_module_version": "2.0.0",
      "model_name": "HBoxModel",
      "state": {
       "children": [
        "IPY_MODEL_5000b31159794c9d9812525568118e04",
        "IPY_MODEL_eecef78197ce4b5ba0a079de25c76d4f",
        "IPY_MODEL_347b758d5ee84712abc4a648abbfa861"
       ],
       "layout": "IPY_MODEL_9ad2d6b739074b59a5f35b13521dd2ed"
      }
     },
     "623aed2153024946ab8fde59abfba330": {
      "model_module": "@jupyter-widgets/base",
      "model_module_version": "2.0.0",
      "model_name": "LayoutModel",
      "state": {}
     },
     "63114204fef943b39e30c87cb0d58ebf": {
      "model_module": "@jupyter-widgets/controls",
      "model_module_version": "2.0.0",
      "model_name": "FloatProgressModel",
      "state": {
       "bar_style": "success",
       "layout": "IPY_MODEL_b3f608318b5a4a78ad4978952d443fa0",
       "max": 1000,
       "style": "IPY_MODEL_c5176f068d5845519dd1c7f75d65db19",
       "value": 1000
      }
     },
     "64d58c7b528140afab67490f8493fba1": {
      "model_module": "@jupyter-widgets/base",
      "model_module_version": "2.0.0",
      "model_name": "LayoutModel",
      "state": {}
     },
     "6611d3ca3fbe421fb33ce6f4d7cd806e": {
      "model_module": "@jupyter-widgets/base",
      "model_module_version": "2.0.0",
      "model_name": "LayoutModel",
      "state": {}
     },
     "661d16717d694c14998680bb90e25a89": {
      "model_module": "@jupyter-widgets/base",
      "model_module_version": "2.0.0",
      "model_name": "LayoutModel",
      "state": {}
     },
     "66701a279b7744d5a6fd0c00b7105338": {
      "model_module": "@jupyter-widgets/controls",
      "model_module_version": "2.0.0",
      "model_name": "ProgressStyleModel",
      "state": {
       "description_width": ""
      }
     },
     "66d113c86536447ba121bb3b7d7c8ddf": {
      "model_module": "@jupyter-widgets/controls",
      "model_module_version": "2.0.0",
      "model_name": "HTMLModel",
      "state": {
       "layout": "IPY_MODEL_d64601f3a45c4718ab84a595fb175c0a",
       "style": "IPY_MODEL_846965a9dec0411e88aeb295e207b4d1",
       "value": "100%"
      }
     },
     "6a9bcd60d9a840538c6958ea9f056d21": {
      "model_module": "@jupyter-widgets/controls",
      "model_module_version": "2.0.0",
      "model_name": "HTMLStyleModel",
      "state": {
       "description_width": "",
       "font_size": null,
       "text_color": null
      }
     },
     "6bd8e5894fb94d1f8c33374d5cb780fe": {
      "model_module": "@jupyter-widgets/controls",
      "model_module_version": "2.0.0",
      "model_name": "HTMLModel",
      "state": {
       "layout": "IPY_MODEL_df6b8a0879174307b1ab8706c3641a47",
       "style": "IPY_MODEL_8f6bdfe7b6f84faea78bb208cf99e9f7",
       "value": " 1000/1000 [00:00&lt;00:00, 4819.98it/s]"
      }
     },
     "6cfd70d933184807a7ae11377b8b1166": {
      "model_module": "@jupyter-widgets/controls",
      "model_module_version": "2.0.0",
      "model_name": "HTMLStyleModel",
      "state": {
       "description_width": "",
       "font_size": null,
       "text_color": null
      }
     },
     "6d59878256004b70a8f4b3f416b9cadf": {
      "model_module": "@jupyter-widgets/controls",
      "model_module_version": "2.0.0",
      "model_name": "HTMLModel",
      "state": {
       "layout": "IPY_MODEL_5002fcf90dd04808bc8eb87bf4b49582",
       "style": "IPY_MODEL_e13fc8931e8f4bf5b9084f26b0d062f1",
       "value": "100%"
      }
     },
     "6e3620b7b3b94d9895281d5b32be844e": {
      "model_module": "@jupyter-widgets/controls",
      "model_module_version": "2.0.0",
      "model_name": "HBoxModel",
      "state": {
       "children": [
        "IPY_MODEL_0520a6478ae94247b4ed5414e72318fc",
        "IPY_MODEL_fe208beba85142f2855f3e3030bfed7e",
        "IPY_MODEL_70b4f05e17e74471a6cb3969e5a9cf9f"
       ],
       "layout": "IPY_MODEL_86dff28b80424ef3a3bd2de95511699f"
      }
     },
     "6ebaf69696934a67b0dd9e3d24a89a43": {
      "model_module": "@jupyter-widgets/controls",
      "model_module_version": "2.0.0",
      "model_name": "HTMLStyleModel",
      "state": {
       "description_width": "",
       "font_size": null,
       "text_color": null
      }
     },
     "6ebd908af813450493f78661b67edc40": {
      "model_module": "@jupyter-widgets/controls",
      "model_module_version": "2.0.0",
      "model_name": "HTMLModel",
      "state": {
       "layout": "IPY_MODEL_d77b9e80d18c489e9e5d872978331d8e",
       "style": "IPY_MODEL_a1ec3a719a944ad9a8c323852647fb68",
       "value": "100%"
      }
     },
     "70b4f05e17e74471a6cb3969e5a9cf9f": {
      "model_module": "@jupyter-widgets/controls",
      "model_module_version": "2.0.0",
      "model_name": "HTMLModel",
      "state": {
       "layout": "IPY_MODEL_731024b70c4149e5bbe45aea5882112e",
       "style": "IPY_MODEL_9fcf44cf7c124f2f9b7c516c3cc53455",
       "value": " 1000/1000 [00:00&lt;00:00, 4948.53it/s]"
      }
     },
     "70d87f6962814fc8a4614bd92cb33b6f": {
      "model_module": "@jupyter-widgets/controls",
      "model_module_version": "2.0.0",
      "model_name": "HBoxModel",
      "state": {
       "children": [
        "IPY_MODEL_ee49a294c38043829712022df1cb71bb",
        "IPY_MODEL_07d284867f364f268dcbf51196a243b9",
        "IPY_MODEL_ffed6bfffd8a49ab928a7a7377d98375"
       ],
       "layout": "IPY_MODEL_45026e0b8fda46b7a719de4d0b84b28d"
      }
     },
     "70dd5d9915814496b1ed8cd48e2bfb30": {
      "model_module": "@jupyter-widgets/controls",
      "model_module_version": "2.0.0",
      "model_name": "HTMLModel",
      "state": {
       "layout": "IPY_MODEL_7b95e6f1d55e4b7aa2b66beefad4e792",
       "style": "IPY_MODEL_216e9b5f94e5452b99e2b0e102fb26ca",
       "value": " 51/? [00:00&lt;00:00, 10222.68it/s]"
      }
     },
     "729f2746e7954f95b3e92617e9b0ba58": {
      "model_module": "@jupyter-widgets/controls",
      "model_module_version": "2.0.0",
      "model_name": "FloatProgressModel",
      "state": {
       "bar_style": "success",
       "layout": "IPY_MODEL_452e357676a74a8c9f072d64e1b810eb",
       "max": 1000,
       "style": "IPY_MODEL_66701a279b7744d5a6fd0c00b7105338",
       "value": 1000
      }
     },
     "731024b70c4149e5bbe45aea5882112e": {
      "model_module": "@jupyter-widgets/base",
      "model_module_version": "2.0.0",
      "model_name": "LayoutModel",
      "state": {}
     },
     "73235da261004c27b769f030e3c316d4": {
      "model_module": "@jupyter-widgets/controls",
      "model_module_version": "2.0.0",
      "model_name": "HBoxModel",
      "state": {
       "children": [
        "IPY_MODEL_20fd392b8cb649c2be228ded9b39c13d",
        "IPY_MODEL_63114204fef943b39e30c87cb0d58ebf",
        "IPY_MODEL_afa0f012907e46d99d39bfb182b8f583"
       ],
       "layout": "IPY_MODEL_81e2a2469a1843d989feee1ca8dadcbc"
      }
     },
     "7456a35fce954d25bae8f43b0a439d83": {
      "model_module": "@jupyter-widgets/controls",
      "model_module_version": "2.0.0",
      "model_name": "HTMLModel",
      "state": {
       "layout": "IPY_MODEL_0787ffd220b64361ae610839de5029f7",
       "style": "IPY_MODEL_ea8eb37c4aea465ebcb452d38f892c7b",
       "value": "100%"
      }
     },
     "76d199a2abba4d0686ff825c033c034e": {
      "model_module": "@jupyter-widgets/base",
      "model_module_version": "2.0.0",
      "model_name": "LayoutModel",
      "state": {}
     },
     "77fed9ca5c46477094a85bf0f0ad2dc0": {
      "model_module": "@jupyter-widgets/base",
      "model_module_version": "2.0.0",
      "model_name": "LayoutModel",
      "state": {}
     },
     "78a6515c6e924fe1b8f0e1cb671b8c0c": {
      "model_module": "@jupyter-widgets/controls",
      "model_module_version": "2.0.0",
      "model_name": "FloatProgressModel",
      "state": {
       "bar_style": "success",
       "layout": "IPY_MODEL_066535fffee240c0948db54c17cb3872",
       "max": 1,
       "style": "IPY_MODEL_7b2168a312bd4bf7b9fb192e1c83608c",
       "value": 1
      }
     },
     "7abb1563df5b41a8b28ea3eece10aa19": {
      "model_module": "@jupyter-widgets/controls",
      "model_module_version": "2.0.0",
      "model_name": "HTMLModel",
      "state": {
       "layout": "IPY_MODEL_48f349a1437b4007a86f72b0ff6271d6",
       "style": "IPY_MODEL_41957b89f1534db08e7c2466c9645d81"
      }
     },
     "7af3af35905840e9ae3a615b18a0683a": {
      "model_module": "@jupyter-widgets/base",
      "model_module_version": "2.0.0",
      "model_name": "LayoutModel",
      "state": {}
     },
     "7b2168a312bd4bf7b9fb192e1c83608c": {
      "model_module": "@jupyter-widgets/controls",
      "model_module_version": "2.0.0",
      "model_name": "ProgressStyleModel",
      "state": {
       "description_width": ""
      }
     },
     "7b95e6f1d55e4b7aa2b66beefad4e792": {
      "model_module": "@jupyter-widgets/base",
      "model_module_version": "2.0.0",
      "model_name": "LayoutModel",
      "state": {}
     },
     "7bbf036850994813a0efd4f669cd3e7d": {
      "model_module": "@jupyter-widgets/controls",
      "model_module_version": "2.0.0",
      "model_name": "FloatProgressModel",
      "state": {
       "bar_style": "success",
       "layout": "IPY_MODEL_8af6086a8a3e4b19a4b95c49eb3da123",
       "max": 1000,
       "style": "IPY_MODEL_aa9972609b5e469cbdd3692ac06c7aef",
       "value": 1000
      }
     },
     "7de300dd59854cb58d3640d5d89b304b": {
      "model_module": "@jupyter-widgets/controls",
      "model_module_version": "2.0.0",
      "model_name": "FloatProgressModel",
      "state": {
       "bar_style": "success",
       "layout": "IPY_MODEL_2bb61e46936f488993eba19abaa169c2",
       "max": 1000,
       "style": "IPY_MODEL_dabde17b28eb4a9b8320fe02bc62cef7",
       "value": 1000
      }
     },
     "7e31438468904c239371b67264e358e1": {
      "model_module": "@jupyter-widgets/controls",
      "model_module_version": "2.0.0",
      "model_name": "HTMLStyleModel",
      "state": {
       "description_width": "",
       "font_size": null,
       "text_color": null
      }
     },
     "7e405e8325454c7ca6810455c61cda8c": {
      "model_module": "@jupyter-widgets/base",
      "model_module_version": "2.0.0",
      "model_name": "LayoutModel",
      "state": {}
     },
     "7f2a8b88ef8348568d53291729436ee8": {
      "model_module": "@jupyter-widgets/base",
      "model_module_version": "2.0.0",
      "model_name": "LayoutModel",
      "state": {}
     },
     "7f4f818b144642c19db44c722e132c72": {
      "model_module": "@jupyter-widgets/controls",
      "model_module_version": "2.0.0",
      "model_name": "HTMLModel",
      "state": {
       "layout": "IPY_MODEL_de6cd840050646c4a2528900eae0f5ae",
       "style": "IPY_MODEL_9dee02f5427d47b0a27db52f3e5b3389",
       "value": " 1000/1000 [00:00&lt;00:00, 4948.72it/s]"
      }
     },
     "7fa40c24be0a4cfb94dec2fb9b17956f": {
      "model_module": "@jupyter-widgets/controls",
      "model_module_version": "2.0.0",
      "model_name": "HBoxModel",
      "state": {
       "children": [
        "IPY_MODEL_458ba5d1b517495c8ea1d9aa316ba657",
        "IPY_MODEL_b316cd6b106c477fb78492b94d0f62fa",
        "IPY_MODEL_9525719a5759468eb762c724f2a70585"
       ],
       "layout": "IPY_MODEL_118b885b25094296abfbf7eddd6706fb"
      }
     },
     "7fb544f437634de0a998005f5fb722f8": {
      "model_module": "@jupyter-widgets/controls",
      "model_module_version": "2.0.0",
      "model_name": "FloatProgressModel",
      "state": {
       "bar_style": "success",
       "layout": "IPY_MODEL_bbe0860c9c58410ca46eb591a76196f1",
       "max": 1000,
       "style": "IPY_MODEL_ffebf9aca1ea4bd5ab4f854dc9de4378",
       "value": 1000
      }
     },
     "7fc51524a66c488fb70f30fefdd583e5": {
      "model_module": "@jupyter-widgets/base",
      "model_module_version": "2.0.0",
      "model_name": "LayoutModel",
      "state": {}
     },
     "8033bcec217f41189e34a594d153880e": {
      "model_module": "@jupyter-widgets/base",
      "model_module_version": "2.0.0",
      "model_name": "LayoutModel",
      "state": {
       "width": "20px"
      }
     },
     "81e2a2469a1843d989feee1ca8dadcbc": {
      "model_module": "@jupyter-widgets/base",
      "model_module_version": "2.0.0",
      "model_name": "LayoutModel",
      "state": {}
     },
     "82f7733f1cc74a01b95f443ebbf566ad": {
      "model_module": "@jupyter-widgets/controls",
      "model_module_version": "2.0.0",
      "model_name": "HTMLModel",
      "state": {
       "layout": "IPY_MODEL_03d274ee82b446609685de77710b6f2f",
       "style": "IPY_MODEL_d6eb3100e3164674a1fd7ea240fc28df",
       "value": " 51/51 [00:00&lt;00:00, 7292.20it/s]"
      }
     },
     "82ff2345d4a646ee913e8c542489095a": {
      "model_module": "@jupyter-widgets/controls",
      "model_module_version": "2.0.0",
      "model_name": "HTMLModel",
      "state": {
       "layout": "IPY_MODEL_05709e8a1c0944f1bf8923b3c0112124",
       "style": "IPY_MODEL_841667e0b073452881c044e2a591f320"
      }
     },
     "841667e0b073452881c044e2a591f320": {
      "model_module": "@jupyter-widgets/controls",
      "model_module_version": "2.0.0",
      "model_name": "HTMLStyleModel",
      "state": {
       "description_width": "",
       "font_size": null,
       "text_color": null
      }
     },
     "846965a9dec0411e88aeb295e207b4d1": {
      "model_module": "@jupyter-widgets/controls",
      "model_module_version": "2.0.0",
      "model_name": "HTMLStyleModel",
      "state": {
       "description_width": "",
       "font_size": null,
       "text_color": null
      }
     },
     "848c5180a1c94d4bae9c0d1f6c809812": {
      "model_module": "@jupyter-widgets/controls",
      "model_module_version": "2.0.0",
      "model_name": "HTMLStyleModel",
      "state": {
       "description_width": "",
       "font_size": null,
       "text_color": null
      }
     },
     "86dff28b80424ef3a3bd2de95511699f": {
      "model_module": "@jupyter-widgets/base",
      "model_module_version": "2.0.0",
      "model_name": "LayoutModel",
      "state": {}
     },
     "893ad83a834d464fad2fce19d0d90184": {
      "model_module": "@jupyter-widgets/controls",
      "model_module_version": "2.0.0",
      "model_name": "HBoxModel",
      "state": {
       "children": [
        "IPY_MODEL_3753f7768a294e538e7f0235b0ea4e6e",
        "IPY_MODEL_8c7888859fdf4401bc68cf191a0252a1",
        "IPY_MODEL_21a049e9119242df801b2a8deda0e760"
       ],
       "layout": "IPY_MODEL_77fed9ca5c46477094a85bf0f0ad2dc0"
      }
     },
     "8af6086a8a3e4b19a4b95c49eb3da123": {
      "model_module": "@jupyter-widgets/base",
      "model_module_version": "2.0.0",
      "model_name": "LayoutModel",
      "state": {}
     },
     "8bf48cf49a5d4060b64267e646702acc": {
      "model_module": "@jupyter-widgets/base",
      "model_module_version": "2.0.0",
      "model_name": "LayoutModel",
      "state": {}
     },
     "8c3ac8b7cf0440a286897736649b044a": {
      "model_module": "@jupyter-widgets/controls",
      "model_module_version": "2.0.0",
      "model_name": "HTMLStyleModel",
      "state": {
       "description_width": "",
       "font_size": null,
       "text_color": null
      }
     },
     "8c7888859fdf4401bc68cf191a0252a1": {
      "model_module": "@jupyter-widgets/controls",
      "model_module_version": "2.0.0",
      "model_name": "FloatProgressModel",
      "state": {
       "bar_style": "success",
       "layout": "IPY_MODEL_a95b537650f94e8c8ae46d47d5908fac",
       "max": 1000,
       "style": "IPY_MODEL_a78cfbe767a8494ab1bf300e66cc8e04",
       "value": 1000
      }
     },
     "8cd824c152b547c28cf3fb0c84753a9a": {
      "model_module": "@jupyter-widgets/controls",
      "model_module_version": "2.0.0",
      "model_name": "HTMLStyleModel",
      "state": {
       "description_width": "",
       "font_size": null,
       "text_color": null
      }
     },
     "8d2cad2ebce140a08fe720d76eff29bc": {
      "model_module": "@jupyter-widgets/controls",
      "model_module_version": "2.0.0",
      "model_name": "HTMLModel",
      "state": {
       "layout": "IPY_MODEL_26c76a42ca214d8687308c72bec58e7c",
       "style": "IPY_MODEL_bbcd26b9fc1a4f1f99eda0edd9694677",
       "value": " 1/1 [00:00&lt;00:00, 199.69it/s]"
      }
     },
     "8f1c84b750344a9780da4c675a91f906": {
      "model_module": "@jupyter-widgets/controls",
      "model_module_version": "2.0.0",
      "model_name": "FloatProgressModel",
      "state": {
       "bar_style": "success",
       "layout": "IPY_MODEL_f852586a5ca34df4986323ac10b7740d",
       "max": 1000,
       "style": "IPY_MODEL_046835898d9e4ddcbc39734f24ed0c61",
       "value": 1000
      }
     },
     "8f6bdfe7b6f84faea78bb208cf99e9f7": {
      "model_module": "@jupyter-widgets/controls",
      "model_module_version": "2.0.0",
      "model_name": "HTMLStyleModel",
      "state": {
       "description_width": "",
       "font_size": null,
       "text_color": null
      }
     },
     "909b8832714e40ce92d017ddf5b4b072": {
      "model_module": "@jupyter-widgets/base",
      "model_module_version": "2.0.0",
      "model_name": "LayoutModel",
      "state": {}
     },
     "9158f5bd6b924360b57b2c7b2ca16624": {
      "model_module": "@jupyter-widgets/controls",
      "model_module_version": "2.0.0",
      "model_name": "HTMLStyleModel",
      "state": {
       "description_width": "",
       "font_size": null,
       "text_color": null
      }
     },
     "9381a78799b7463eb16936150461cefc": {
      "model_module": "@jupyter-widgets/controls",
      "model_module_version": "2.0.0",
      "model_name": "HTMLStyleModel",
      "state": {
       "description_width": "",
       "font_size": null,
       "text_color": null
      }
     },
     "94483a09677f4902826401d46dd578e5": {
      "model_module": "@jupyter-widgets/controls",
      "model_module_version": "2.0.0",
      "model_name": "HTMLModel",
      "state": {
       "layout": "IPY_MODEL_1df14f06c12d4f9f9df1054ae536d95b",
       "style": "IPY_MODEL_534632ca16bf4627b213533dd3ba38f4"
      }
     },
     "9525719a5759468eb762c724f2a70585": {
      "model_module": "@jupyter-widgets/controls",
      "model_module_version": "2.0.0",
      "model_name": "HTMLModel",
      "state": {
       "layout": "IPY_MODEL_051e467f870046e3945122be793bc030",
       "style": "IPY_MODEL_9381a78799b7463eb16936150461cefc",
       "value": " 1000/1000 [00:00&lt;00:00, 4958.47it/s]"
      }
     },
     "96d7e579a756451f9b6c7c62b88782a2": {
      "model_module": "@jupyter-widgets/controls",
      "model_module_version": "2.0.0",
      "model_name": "HTMLModel",
      "state": {
       "layout": "IPY_MODEL_17c2ca8e7bfb4064aea8f029f397d500",
       "style": "IPY_MODEL_9c79ba97737440f8ba543d68d44f53f4",
       "value": "100%"
      }
     },
     "97b6ba8f5fdc4f3fa65a0c643f4702a6": {
      "model_module": "@jupyter-widgets/controls",
      "model_module_version": "2.0.0",
      "model_name": "HTMLModel",
      "state": {
       "layout": "IPY_MODEL_3ca3472cb02e45e4b46efb3cec9e792a",
       "style": "IPY_MODEL_04bf51305a954224bf8888892fb9c934",
       "value": "100%"
      }
     },
     "98f30ad3677c4a1d849b585eb23fc08b": {
      "model_module": "@jupyter-widgets/controls",
      "model_module_version": "2.0.0",
      "model_name": "HBoxModel",
      "state": {
       "children": [
        "IPY_MODEL_96d7e579a756451f9b6c7c62b88782a2",
        "IPY_MODEL_7fb544f437634de0a998005f5fb722f8",
        "IPY_MODEL_fff692076f634ec6bafaff6c30fe6c92"
       ],
       "layout": "IPY_MODEL_16662c937e094f9ab6bb9531aeba58e1"
      }
     },
     "9a75093317704ec2bde6b9a836b42cce": {
      "model_module": "@jupyter-widgets/base",
      "model_module_version": "2.0.0",
      "model_name": "LayoutModel",
      "state": {}
     },
     "9ad2d6b739074b59a5f35b13521dd2ed": {
      "model_module": "@jupyter-widgets/base",
      "model_module_version": "2.0.0",
      "model_name": "LayoutModel",
      "state": {}
     },
     "9c79ba97737440f8ba543d68d44f53f4": {
      "model_module": "@jupyter-widgets/controls",
      "model_module_version": "2.0.0",
      "model_name": "HTMLStyleModel",
      "state": {
       "description_width": "",
       "font_size": null,
       "text_color": null
      }
     },
     "9d47eb9e25d3405a929ac8f4f3acaa8e": {
      "model_module": "@jupyter-widgets/controls",
      "model_module_version": "2.0.0",
      "model_name": "HTMLModel",
      "state": {
       "layout": "IPY_MODEL_b363ddaaa92544ac887eab6787d4ddd5",
       "style": "IPY_MODEL_b8383b554360452b8c26c76428cb132a"
      }
     },
     "9dee02f5427d47b0a27db52f3e5b3389": {
      "model_module": "@jupyter-widgets/controls",
      "model_module_version": "2.0.0",
      "model_name": "HTMLStyleModel",
      "state": {
       "description_width": "",
       "font_size": null,
       "text_color": null
      }
     },
     "9fcf44cf7c124f2f9b7c516c3cc53455": {
      "model_module": "@jupyter-widgets/controls",
      "model_module_version": "2.0.0",
      "model_name": "HTMLStyleModel",
      "state": {
       "description_width": "",
       "font_size": null,
       "text_color": null
      }
     },
     "a0905920412e41f49b6d06ae0c1cfa56": {
      "model_module": "@jupyter-widgets/controls",
      "model_module_version": "2.0.0",
      "model_name": "HTMLStyleModel",
      "state": {
       "description_width": "",
       "font_size": null,
       "text_color": null
      }
     },
     "a1e9c2781cad40a3bfc6882db8dffc3a": {
      "model_module": "@jupyter-widgets/base",
      "model_module_version": "2.0.0",
      "model_name": "LayoutModel",
      "state": {}
     },
     "a1ec3a719a944ad9a8c323852647fb68": {
      "model_module": "@jupyter-widgets/controls",
      "model_module_version": "2.0.0",
      "model_name": "HTMLStyleModel",
      "state": {
       "description_width": "",
       "font_size": null,
       "text_color": null
      }
     },
     "a380b61243a4480ab83d6f92636eaf9f": {
      "model_module": "@jupyter-widgets/controls",
      "model_module_version": "2.0.0",
      "model_name": "HTMLStyleModel",
      "state": {
       "description_width": "",
       "font_size": null,
       "text_color": null
      }
     },
     "a4fe8426f7234777ac79187e701dcb22": {
      "model_module": "@jupyter-widgets/base",
      "model_module_version": "2.0.0",
      "model_name": "LayoutModel",
      "state": {
       "width": "20px"
      }
     },
     "a55b35582a864f93a2f073a9c016b730": {
      "model_module": "@jupyter-widgets/base",
      "model_module_version": "2.0.0",
      "model_name": "LayoutModel",
      "state": {}
     },
     "a64bc25246df4fa5a889f4ffe682d05c": {
      "model_module": "@jupyter-widgets/base",
      "model_module_version": "2.0.0",
      "model_name": "LayoutModel",
      "state": {}
     },
     "a677f7543483480aa2f0b1c09724d84d": {
      "model_module": "@jupyter-widgets/controls",
      "model_module_version": "2.0.0",
      "model_name": "HBoxModel",
      "state": {
       "children": [
        "IPY_MODEL_82ff2345d4a646ee913e8c542489095a",
        "IPY_MODEL_78a6515c6e924fe1b8f0e1cb671b8c0c",
        "IPY_MODEL_3e526a1e0f434b84a636f4623d8da2ad"
       ],
       "layout": "IPY_MODEL_188f393b477c4f50a6d190135eceb513"
      }
     },
     "a78cfbe767a8494ab1bf300e66cc8e04": {
      "model_module": "@jupyter-widgets/controls",
      "model_module_version": "2.0.0",
      "model_name": "ProgressStyleModel",
      "state": {
       "description_width": ""
      }
     },
     "a85aa739b3ca491ea9f69bc5dfdc992a": {
      "model_module": "@jupyter-widgets/controls",
      "model_module_version": "2.0.0",
      "model_name": "HTMLStyleModel",
      "state": {
       "description_width": "",
       "font_size": null,
       "text_color": null
      }
     },
     "a86955a80eca401387211b285a4a2027": {
      "model_module": "@jupyter-widgets/controls",
      "model_module_version": "2.0.0",
      "model_name": "HTMLModel",
      "state": {
       "layout": "IPY_MODEL_fcae1c0f5850408096c05d438566a940",
       "style": "IPY_MODEL_7e31438468904c239371b67264e358e1"
      }
     },
     "a95b537650f94e8c8ae46d47d5908fac": {
      "model_module": "@jupyter-widgets/base",
      "model_module_version": "2.0.0",
      "model_name": "LayoutModel",
      "state": {}
     },
     "aa9972609b5e469cbdd3692ac06c7aef": {
      "model_module": "@jupyter-widgets/controls",
      "model_module_version": "2.0.0",
      "model_name": "ProgressStyleModel",
      "state": {
       "description_width": ""
      }
     },
     "add2218e00e140febd720f642920de0a": {
      "model_module": "@jupyter-widgets/controls",
      "model_module_version": "2.0.0",
      "model_name": "HTMLStyleModel",
      "state": {
       "description_width": "",
       "font_size": null,
       "text_color": null
      }
     },
     "adff91b78c0f43eb842482d853540e0f": {
      "model_module": "@jupyter-widgets/base",
      "model_module_version": "2.0.0",
      "model_name": "LayoutModel",
      "state": {}
     },
     "ae2452ba336f4eb39ed7cffab6ee82ef": {
      "model_module": "@jupyter-widgets/base",
      "model_module_version": "2.0.0",
      "model_name": "LayoutModel",
      "state": {}
     },
     "aea23eb4001f4ba2b5615ff62db01338": {
      "model_module": "@jupyter-widgets/base",
      "model_module_version": "2.0.0",
      "model_name": "LayoutModel",
      "state": {
       "width": "20px"
      }
     },
     "afa0f012907e46d99d39bfb182b8f583": {
      "model_module": "@jupyter-widgets/controls",
      "model_module_version": "2.0.0",
      "model_name": "HTMLModel",
      "state": {
       "layout": "IPY_MODEL_0ca2a094b41f4632860f8e518af502c2",
       "style": "IPY_MODEL_a0905920412e41f49b6d06ae0c1cfa56",
       "value": " 1000/1000 [00:00&lt;00:00, 4948.51it/s]"
      }
     },
     "afd45e5c82cf4fd0a25ab6cf9cc52e5e": {
      "model_module": "@jupyter-widgets/controls",
      "model_module_version": "2.0.0",
      "model_name": "HTMLStyleModel",
      "state": {
       "description_width": "",
       "font_size": null,
       "text_color": null
      }
     },
     "afe5541ae22e439a9c16109e1c1b0e6b": {
      "model_module": "@jupyter-widgets/controls",
      "model_module_version": "2.0.0",
      "model_name": "HBoxModel",
      "state": {
       "children": [
        "IPY_MODEL_b41cdf99322c4a17a6f7ea13470a028b",
        "IPY_MODEL_1223cc743c7c4079ba41e4a956057b53",
        "IPY_MODEL_7f4f818b144642c19db44c722e132c72"
       ],
       "layout": "IPY_MODEL_1d0e7a4f79a945e08e86ffbf00267d5f"
      }
     },
     "b1aa44cec8634458974f4d137ef7de7a": {
      "model_module": "@jupyter-widgets/base",
      "model_module_version": "2.0.0",
      "model_name": "LayoutModel",
      "state": {}
     },
     "b286e7a37ea34d88bdf735f26d2a7aad": {
      "model_module": "@jupyter-widgets/base",
      "model_module_version": "2.0.0",
      "model_name": "LayoutModel",
      "state": {}
     },
     "b2ef181cddfc415387e4e705718e1767": {
      "model_module": "@jupyter-widgets/base",
      "model_module_version": "2.0.0",
      "model_name": "LayoutModel",
      "state": {}
     },
     "b316cd6b106c477fb78492b94d0f62fa": {
      "model_module": "@jupyter-widgets/controls",
      "model_module_version": "2.0.0",
      "model_name": "FloatProgressModel",
      "state": {
       "bar_style": "success",
       "layout": "IPY_MODEL_f2b88332c38042b2a7a1a51d3858b609",
       "max": 1000,
       "style": "IPY_MODEL_5d682765efd74cb3acae656885c1e5a9",
       "value": 1000
      }
     },
     "b326b70c94614c12a962cf4b671a0ac7": {
      "model_module": "@jupyter-widgets/controls",
      "model_module_version": "2.0.0",
      "model_name": "ProgressStyleModel",
      "state": {
       "description_width": ""
      }
     },
     "b363ddaaa92544ac887eab6787d4ddd5": {
      "model_module": "@jupyter-widgets/base",
      "model_module_version": "2.0.0",
      "model_name": "LayoutModel",
      "state": {}
     },
     "b3f608318b5a4a78ad4978952d443fa0": {
      "model_module": "@jupyter-widgets/base",
      "model_module_version": "2.0.0",
      "model_name": "LayoutModel",
      "state": {}
     },
     "b41cdf99322c4a17a6f7ea13470a028b": {
      "model_module": "@jupyter-widgets/controls",
      "model_module_version": "2.0.0",
      "model_name": "HTMLModel",
      "state": {
       "layout": "IPY_MODEL_909b8832714e40ce92d017ddf5b4b072",
       "style": "IPY_MODEL_e42ee83ddf894118b9d5d94065e146f4",
       "value": "100%"
      }
     },
     "b4c400d081f7413e80abfe308de891a2": {
      "model_module": "@jupyter-widgets/base",
      "model_module_version": "2.0.0",
      "model_name": "LayoutModel",
      "state": {}
     },
     "b68fd4fded35444ca14d260cf9164a6f": {
      "model_module": "@jupyter-widgets/base",
      "model_module_version": "2.0.0",
      "model_name": "LayoutModel",
      "state": {}
     },
     "b76a58fc1019488e8f6d97889f81b7b4": {
      "model_module": "@jupyter-widgets/controls",
      "model_module_version": "2.0.0",
      "model_name": "HBoxModel",
      "state": {
       "children": [
        "IPY_MODEL_9d47eb9e25d3405a929ac8f4f3acaa8e",
        "IPY_MODEL_fe79d0b3794146468ba971a5e38531d1",
        "IPY_MODEL_fae5f0fe84464017b05fede58b4632cf"
       ],
       "layout": "IPY_MODEL_ae2452ba336f4eb39ed7cffab6ee82ef"
      }
     },
     "b7f7b74c22704d14b21109d4c14bda54": {
      "model_module": "@jupyter-widgets/base",
      "model_module_version": "2.0.0",
      "model_name": "LayoutModel",
      "state": {}
     },
     "b8383b554360452b8c26c76428cb132a": {
      "model_module": "@jupyter-widgets/controls",
      "model_module_version": "2.0.0",
      "model_name": "HTMLStyleModel",
      "state": {
       "description_width": "",
       "font_size": null,
       "text_color": null
      }
     },
     "b941ef2541a04e229833cf4b9b151b24": {
      "model_module": "@jupyter-widgets/controls",
      "model_module_version": "2.0.0",
      "model_name": "FloatProgressModel",
      "state": {
       "bar_style": "success",
       "layout": "IPY_MODEL_7fc51524a66c488fb70f30fefdd583e5",
       "max": 1000,
       "style": "IPY_MODEL_bfb2a7b65a614ed68a139d662a5dc9e0",
       "value": 1000
      }
     },
     "bad07f1560174a76a5e24928b010d313": {
      "model_module": "@jupyter-widgets/base",
      "model_module_version": "2.0.0",
      "model_name": "LayoutModel",
      "state": {}
     },
     "bb0ee44c965c4642b0a7ba7989329c7c": {
      "model_module": "@jupyter-widgets/base",
      "model_module_version": "2.0.0",
      "model_name": "LayoutModel",
      "state": {}
     },
     "bbcd26b9fc1a4f1f99eda0edd9694677": {
      "model_module": "@jupyter-widgets/controls",
      "model_module_version": "2.0.0",
      "model_name": "HTMLStyleModel",
      "state": {
       "description_width": "",
       "font_size": null,
       "text_color": null
      }
     },
     "bbe0860c9c58410ca46eb591a76196f1": {
      "model_module": "@jupyter-widgets/base",
      "model_module_version": "2.0.0",
      "model_name": "LayoutModel",
      "state": {}
     },
     "bc84c7f71c0f4171874afa075229b5bd": {
      "model_module": "@jupyter-widgets/base",
      "model_module_version": "2.0.0",
      "model_name": "LayoutModel",
      "state": {}
     },
     "bda87505aa1047f7b4b6d0b5337b36fd": {
      "model_module": "@jupyter-widgets/base",
      "model_module_version": "2.0.0",
      "model_name": "LayoutModel",
      "state": {}
     },
     "bfb047739edb47b49c53f4df82410c5b": {
      "model_module": "@jupyter-widgets/base",
      "model_module_version": "2.0.0",
      "model_name": "LayoutModel",
      "state": {}
     },
     "bfb2a7b65a614ed68a139d662a5dc9e0": {
      "model_module": "@jupyter-widgets/controls",
      "model_module_version": "2.0.0",
      "model_name": "ProgressStyleModel",
      "state": {
       "description_width": ""
      }
     },
     "c18993f5affa45c49a4b1a6464fe3c83": {
      "model_module": "@jupyter-widgets/controls",
      "model_module_version": "2.0.0",
      "model_name": "FloatProgressModel",
      "state": {
       "bar_style": "success",
       "layout": "IPY_MODEL_295afdb8033b458b93a800e327413c50",
       "max": 1,
       "style": "IPY_MODEL_2e2639f8a71649c4b9df26d39168c483",
       "value": 1
      }
     },
     "c18b605c5e0d47b687406153af3e8d14": {
      "model_module": "@jupyter-widgets/base",
      "model_module_version": "2.0.0",
      "model_name": "LayoutModel",
      "state": {}
     },
     "c34cc856841f409c8b00cd1fdafb1513": {
      "model_module": "@jupyter-widgets/base",
      "model_module_version": "2.0.0",
      "model_name": "LayoutModel",
      "state": {}
     },
     "c35229a4d67a4b45a6a78e782303eb8c": {
      "model_module": "@jupyter-widgets/controls",
      "model_module_version": "2.0.0",
      "model_name": "HTMLStyleModel",
      "state": {
       "description_width": "",
       "font_size": null,
       "text_color": null
      }
     },
     "c3665301f29d46f9b571b704b099bd61": {
      "model_module": "@jupyter-widgets/controls",
      "model_module_version": "2.0.0",
      "model_name": "ProgressStyleModel",
      "state": {
       "description_width": ""
      }
     },
     "c3f8127fbbda4d328bc092145adcb98c": {
      "model_module": "@jupyter-widgets/base",
      "model_module_version": "2.0.0",
      "model_name": "LayoutModel",
      "state": {}
     },
     "c4546d58af4f4fe8a5ab52fcea7bc800": {
      "model_module": "@jupyter-widgets/controls",
      "model_module_version": "2.0.0",
      "model_name": "HTMLModel",
      "state": {
       "layout": "IPY_MODEL_56d6764bf1cd49dab690cc3144696aca",
       "style": "IPY_MODEL_3930b6ef428145ad870e410d363eb3c5",
       "value": " 50/? [00:00&lt;00:00,  1.41it/s]"
      }
     },
     "c5176f068d5845519dd1c7f75d65db19": {
      "model_module": "@jupyter-widgets/controls",
      "model_module_version": "2.0.0",
      "model_name": "ProgressStyleModel",
      "state": {
       "description_width": ""
      }
     },
     "c5a81ecf704b4390830fd63279d59b65": {
      "model_module": "@jupyter-widgets/base",
      "model_module_version": "2.0.0",
      "model_name": "LayoutModel",
      "state": {}
     },
     "c7e2cb1b263042558fe5bb4dd22e2c1b": {
      "model_module": "@jupyter-widgets/base",
      "model_module_version": "2.0.0",
      "model_name": "LayoutModel",
      "state": {}
     },
     "c9815423a72240d4ba97ca6b2ad09627": {
      "model_module": "@jupyter-widgets/base",
      "model_module_version": "2.0.0",
      "model_name": "LayoutModel",
      "state": {}
     },
     "c9c7aed98309492ab7392106c6fb4740": {
      "model_module": "@jupyter-widgets/controls",
      "model_module_version": "2.0.0",
      "model_name": "HBoxModel",
      "state": {
       "children": [
        "IPY_MODEL_e7d635a032584d0fabf7487db9c9b903",
        "IPY_MODEL_d971c916006a4721bb29dfdfced56ae8",
        "IPY_MODEL_8d2cad2ebce140a08fe720d76eff29bc"
       ],
       "layout": "IPY_MODEL_c7e2cb1b263042558fe5bb4dd22e2c1b"
      }
     },
     "cbc75a25bac441b285b7458d361ea88b": {
      "model_module": "@jupyter-widgets/controls",
      "model_module_version": "2.0.0",
      "model_name": "ProgressStyleModel",
      "state": {
       "description_width": ""
      }
     },
     "cc4193230a0347e5b9a7e2db64cc6d5e": {
      "model_module": "@jupyter-widgets/controls",
      "model_module_version": "2.0.0",
      "model_name": "HTMLStyleModel",
      "state": {
       "description_width": "",
       "font_size": null,
       "text_color": null
      }
     },
     "cc61d11f186b46499890eea6472adaa6": {
      "model_module": "@jupyter-widgets/controls",
      "model_module_version": "2.0.0",
      "model_name": "FloatProgressModel",
      "state": {
       "bar_style": "success",
       "layout": "IPY_MODEL_623aed2153024946ab8fde59abfba330",
       "max": 51,
       "style": "IPY_MODEL_cbc75a25bac441b285b7458d361ea88b",
       "value": 51
      }
     },
     "cf04647188cc4ae3a83db5583d4ee2d5": {
      "model_module": "@jupyter-widgets/controls",
      "model_module_version": "2.0.0",
      "model_name": "HTMLStyleModel",
      "state": {
       "description_width": "",
       "font_size": null,
       "text_color": null
      }
     },
     "d0f4b7caa8ed406ea93006eea2ffa17d": {
      "model_module": "@jupyter-widgets/base",
      "model_module_version": "2.0.0",
      "model_name": "LayoutModel",
      "state": {}
     },
     "d115fa07241a4cd89b2a65f03a476da9": {
      "model_module": "@jupyter-widgets/base",
      "model_module_version": "2.0.0",
      "model_name": "LayoutModel",
      "state": {}
     },
     "d1a3123dd33d4ca0b33178faa9f27f0c": {
      "model_module": "@jupyter-widgets/controls",
      "model_module_version": "2.0.0",
      "model_name": "HTMLModel",
      "state": {
       "layout": "IPY_MODEL_37c8503691574585959b9d1e2b3a51bb",
       "style": "IPY_MODEL_add2218e00e140febd720f642920de0a",
       "value": " 51/? [00:00&lt;00:00, 7303.66it/s]"
      }
     },
     "d298317ec44b4c74b82e0d20684e3615": {
      "model_module": "@jupyter-widgets/controls",
      "model_module_version": "2.0.0",
      "model_name": "HTMLModel",
      "state": {
       "layout": "IPY_MODEL_bfb047739edb47b49c53f4df82410c5b",
       "style": "IPY_MODEL_c35229a4d67a4b45a6a78e782303eb8c",
       "value": " 1000/1000 [00:00&lt;00:00, 4838.50it/s]"
      }
     },
     "d3c4f2b48979435194cdd437c43d19f5": {
      "model_module": "@jupyter-widgets/base",
      "model_module_version": "2.0.0",
      "model_name": "LayoutModel",
      "state": {}
     },
     "d4c37cd83d66412fb1ed736dc263bf5e": {
      "model_module": "@jupyter-widgets/controls",
      "model_module_version": "2.0.0",
      "model_name": "FloatProgressModel",
      "state": {
       "bar_style": "success",
       "layout": "IPY_MODEL_7f2a8b88ef8348568d53291729436ee8",
       "max": 1000,
       "style": "IPY_MODEL_594c37b1700848c39fc148a032182880",
       "value": 1000
      }
     },
     "d4cd5e3965ba4d80a4fbb59c287aa001": {
      "model_module": "@jupyter-widgets/base",
      "model_module_version": "2.0.0",
      "model_name": "LayoutModel",
      "state": {}
     },
     "d64601f3a45c4718ab84a595fb175c0a": {
      "model_module": "@jupyter-widgets/base",
      "model_module_version": "2.0.0",
      "model_name": "LayoutModel",
      "state": {}
     },
     "d68d4aacd7e44a719d01dc88ff729b82": {
      "model_module": "@jupyter-widgets/controls",
      "model_module_version": "2.0.0",
      "model_name": "HTMLStyleModel",
      "state": {
       "description_width": "",
       "font_size": null,
       "text_color": null
      }
     },
     "d6d5301f09cc4723a0ec30c4fc1360c2": {
      "model_module": "@jupyter-widgets/controls",
      "model_module_version": "2.0.0",
      "model_name": "HTMLStyleModel",
      "state": {
       "description_width": "",
       "font_size": null,
       "text_color": null
      }
     },
     "d6eb3100e3164674a1fd7ea240fc28df": {
      "model_module": "@jupyter-widgets/controls",
      "model_module_version": "2.0.0",
      "model_name": "HTMLStyleModel",
      "state": {
       "description_width": "",
       "font_size": null,
       "text_color": null
      }
     },
     "d77b9e80d18c489e9e5d872978331d8e": {
      "model_module": "@jupyter-widgets/base",
      "model_module_version": "2.0.0",
      "model_name": "LayoutModel",
      "state": {}
     },
     "d971c916006a4721bb29dfdfced56ae8": {
      "model_module": "@jupyter-widgets/controls",
      "model_module_version": "2.0.0",
      "model_name": "FloatProgressModel",
      "state": {
       "bar_style": "success",
       "layout": "IPY_MODEL_d4cd5e3965ba4d80a4fbb59c287aa001",
       "max": 1,
       "style": "IPY_MODEL_21aacc4aa9464685bb91d5947ab5ae99",
       "value": 1
      }
     },
     "dabc44e218564ee182ec0282adf36939": {
      "model_module": "@jupyter-widgets/controls",
      "model_module_version": "2.0.0",
      "model_name": "HBoxModel",
      "state": {
       "children": [
        "IPY_MODEL_a86955a80eca401387211b285a4a2027",
        "IPY_MODEL_fcf3e8851da7441fa91d66e55935d38e",
        "IPY_MODEL_70dd5d9915814496b1ed8cd48e2bfb30"
       ],
       "layout": "IPY_MODEL_bad07f1560174a76a5e24928b010d313"
      }
     },
     "dabde17b28eb4a9b8320fe02bc62cef7": {
      "model_module": "@jupyter-widgets/controls",
      "model_module_version": "2.0.0",
      "model_name": "ProgressStyleModel",
      "state": {
       "description_width": ""
      }
     },
     "db041cfffb8e40b58ce5cc87eaee2543": {
      "model_module": "@jupyter-widgets/controls",
      "model_module_version": "2.0.0",
      "model_name": "ProgressStyleModel",
      "state": {
       "description_width": ""
      }
     },
     "dbf361b8fb04436fa50b13d216a76149": {
      "model_module": "@jupyter-widgets/controls",
      "model_module_version": "2.0.0",
      "model_name": "HTMLStyleModel",
      "state": {
       "description_width": "",
       "font_size": null,
       "text_color": null
      }
     },
     "dc4a22f246854cd0a1b4deeb0d898747": {
      "model_module": "@jupyter-widgets/controls",
      "model_module_version": "2.0.0",
      "model_name": "HTMLModel",
      "state": {
       "layout": "IPY_MODEL_2cd84af7feb3467a942d07136d108fc3",
       "style": "IPY_MODEL_dbf361b8fb04436fa50b13d216a76149",
       "value": "100%"
      }
     },
     "de6cd840050646c4a2528900eae0f5ae": {
      "model_module": "@jupyter-widgets/base",
      "model_module_version": "2.0.0",
      "model_name": "LayoutModel",
      "state": {}
     },
     "deed8360cec848f2b1d4fa3d430a085c": {
      "model_module": "@jupyter-widgets/base",
      "model_module_version": "2.0.0",
      "model_name": "LayoutModel",
      "state": {}
     },
     "df6b8a0879174307b1ab8706c3641a47": {
      "model_module": "@jupyter-widgets/base",
      "model_module_version": "2.0.0",
      "model_name": "LayoutModel",
      "state": {}
     },
     "df78cf29852c4b878a306e5188053a54": {
      "model_module": "@jupyter-widgets/controls",
      "model_module_version": "2.0.0",
      "model_name": "FloatProgressModel",
      "state": {
       "bar_style": "success",
       "layout": "IPY_MODEL_2baa7145185347e9b7fed78cf091cb38",
       "max": 1,
       "style": "IPY_MODEL_ffb3daac0f224dc3a0b20273f999a565",
       "value": 1
      }
     },
     "e10483a7ef894f98b324cc124e723e21": {
      "model_module": "@jupyter-widgets/controls",
      "model_module_version": "2.0.0",
      "model_name": "ProgressStyleModel",
      "state": {
       "description_width": ""
      }
     },
     "e13fc8931e8f4bf5b9084f26b0d062f1": {
      "model_module": "@jupyter-widgets/controls",
      "model_module_version": "2.0.0",
      "model_name": "HTMLStyleModel",
      "state": {
       "description_width": "",
       "font_size": null,
       "text_color": null
      }
     },
     "e2aeb9d41c5146839f0630952108a326": {
      "model_module": "@jupyter-widgets/controls",
      "model_module_version": "2.0.0",
      "model_name": "HTMLModel",
      "state": {
       "layout": "IPY_MODEL_bb0ee44c965c4642b0a7ba7989329c7c",
       "style": "IPY_MODEL_4218a46c2b1f4c2b90833ab43cbf741f",
       "value": " 1000/1000 [00:00&lt;00:00, 4937.01it/s]"
      }
     },
     "e42ee83ddf894118b9d5d94065e146f4": {
      "model_module": "@jupyter-widgets/controls",
      "model_module_version": "2.0.0",
      "model_name": "HTMLStyleModel",
      "state": {
       "description_width": "",
       "font_size": null,
       "text_color": null
      }
     },
     "e4f9a26bd8cb41db930fcb9c21bd1b72": {
      "model_module": "@jupyter-widgets/base",
      "model_module_version": "2.0.0",
      "model_name": "LayoutModel",
      "state": {}
     },
     "e5c776832374408bb25cdc9cdce44536": {
      "model_module": "@jupyter-widgets/controls",
      "model_module_version": "2.0.0",
      "model_name": "HBoxModel",
      "state": {
       "children": [
        "IPY_MODEL_6ebd908af813450493f78661b67edc40",
        "IPY_MODEL_729f2746e7954f95b3e92617e9b0ba58",
        "IPY_MODEL_153f9eb53baf49ff88fb9d7b6afa6398"
       ],
       "layout": "IPY_MODEL_3283753409f145a0902179c7b7e61600"
      }
     },
     "e7d635a032584d0fabf7487db9c9b903": {
      "model_module": "@jupyter-widgets/controls",
      "model_module_version": "2.0.0",
      "model_name": "HTMLModel",
      "state": {
       "layout": "IPY_MODEL_a1e9c2781cad40a3bfc6882db8dffc3a",
       "style": "IPY_MODEL_31df2f2a9d1d4569b9e06badc6488c59",
       "value": "100%"
      }
     },
     "e85e1bbad7144844949103d545d92f44": {
      "model_module": "@jupyter-widgets/base",
      "model_module_version": "2.0.0",
      "model_name": "LayoutModel",
      "state": {}
     },
     "e941bd87fb33427b8731c340b66de9b9": {
      "model_module": "@jupyter-widgets/controls",
      "model_module_version": "2.0.0",
      "model_name": "HTMLModel",
      "state": {
       "layout": "IPY_MODEL_b286e7a37ea34d88bdf735f26d2a7aad",
       "style": "IPY_MODEL_6cfd70d933184807a7ae11377b8b1166",
       "value": "100%"
      }
     },
     "ea8eb37c4aea465ebcb452d38f892c7b": {
      "model_module": "@jupyter-widgets/controls",
      "model_module_version": "2.0.0",
      "model_name": "HTMLStyleModel",
      "state": {
       "description_width": "",
       "font_size": null,
       "text_color": null
      }
     },
     "ec9c8e43a2054ca0b282814a0a2b717a": {
      "model_module": "@jupyter-widgets/controls",
      "model_module_version": "2.0.0",
      "model_name": "HTMLModel",
      "state": {
       "layout": "IPY_MODEL_117e350217284d6daad85bb8eb56de5b",
       "style": "IPY_MODEL_5f7d606f3e39426c97150decb88ce3b0"
      }
     },
     "ee49a294c38043829712022df1cb71bb": {
      "model_module": "@jupyter-widgets/controls",
      "model_module_version": "2.0.0",
      "model_name": "HTMLModel",
      "state": {
       "layout": "IPY_MODEL_b68fd4fded35444ca14d260cf9164a6f",
       "style": "IPY_MODEL_a85aa739b3ca491ea9f69bc5dfdc992a",
       "value": "100%"
      }
     },
     "eecef78197ce4b5ba0a079de25c76d4f": {
      "model_module": "@jupyter-widgets/controls",
      "model_module_version": "2.0.0",
      "model_name": "FloatProgressModel",
      "state": {
       "bar_style": "danger",
       "layout": "IPY_MODEL_d3c4f2b48979435194cdd437c43d19f5",
       "max": 1000,
       "style": "IPY_MODEL_e10483a7ef894f98b324cc124e723e21"
      }
     },
     "ef05d19d09d44a8eb6f89fcb911fb9ad": {
      "model_module": "@jupyter-widgets/base",
      "model_module_version": "2.0.0",
      "model_name": "LayoutModel",
      "state": {}
     },
     "ef3a0d3c9a454e84b4f97cf85a308b6a": {
      "model_module": "@jupyter-widgets/controls",
      "model_module_version": "2.0.0",
      "model_name": "HTMLModel",
      "state": {
       "layout": "IPY_MODEL_6611d3ca3fbe421fb33ce6f4d7cd806e",
       "style": "IPY_MODEL_cf04647188cc4ae3a83db5583d4ee2d5",
       "value": " 1000/1000 [00:00&lt;00:00, 4908.58it/s]"
      }
     },
     "f2b88332c38042b2a7a1a51d3858b609": {
      "model_module": "@jupyter-widgets/base",
      "model_module_version": "2.0.0",
      "model_name": "LayoutModel",
      "state": {}
     },
     "f52d30ed463147da8abf51e55f9bd1c3": {
      "model_module": "@jupyter-widgets/base",
      "model_module_version": "2.0.0",
      "model_name": "LayoutModel",
      "state": {}
     },
     "f543fda480354e759e9dc43d61161a9c": {
      "model_module": "@jupyter-widgets/controls",
      "model_module_version": "2.0.0",
      "model_name": "HTMLModel",
      "state": {
       "layout": "IPY_MODEL_c18b605c5e0d47b687406153af3e8d14",
       "style": "IPY_MODEL_2437fb065c7c456eb948e01a9099fdfb",
       "value": " 51/? [00:00&lt;00:00, 8497.91it/s]"
      }
     },
     "f5ab5f41c40c4699bfe6bc29fa81b8e3": {
      "model_module": "@jupyter-widgets/controls",
      "model_module_version": "2.0.0",
      "model_name": "HTMLModel",
      "state": {
       "layout": "IPY_MODEL_4b51fad53f394eb7b7a2417908f227ae",
       "style": "IPY_MODEL_43b363a1068b4ffd860649b8d36636ad",
       "value": "100%"
      }
     },
     "f5f573bf518446a0b11ccfc7d21a6e39": {
      "model_module": "@jupyter-widgets/controls",
      "model_module_version": "2.0.0",
      "model_name": "HTMLModel",
      "state": {
       "layout": "IPY_MODEL_b1aa44cec8634458974f4d137ef7de7a",
       "style": "IPY_MODEL_02d591f5413a4fbd96093a7962e5eeb6",
       "value": " 1000/1000 [00:00&lt;00:00, 4978.45it/s]"
      }
     },
     "f729af1e4bea4c5b9c25595fa302b7b8": {
      "model_module": "@jupyter-widgets/base",
      "model_module_version": "2.0.0",
      "model_name": "LayoutModel",
      "state": {}
     },
     "f852586a5ca34df4986323ac10b7740d": {
      "model_module": "@jupyter-widgets/base",
      "model_module_version": "2.0.0",
      "model_name": "LayoutModel",
      "state": {}
     },
     "f8f21f90651f4ee8bfcc47e939477192": {
      "model_module": "@jupyter-widgets/controls",
      "model_module_version": "2.0.0",
      "model_name": "HTMLStyleModel",
      "state": {
       "description_width": "",
       "font_size": null,
       "text_color": null
      }
     },
     "fae5f0fe84464017b05fede58b4632cf": {
      "model_module": "@jupyter-widgets/controls",
      "model_module_version": "2.0.0",
      "model_name": "HTMLModel",
      "state": {
       "layout": "IPY_MODEL_c5a81ecf704b4390830fd63279d59b65",
       "style": "IPY_MODEL_6ebaf69696934a67b0dd9e3d24a89a43",
       "value": " 51/? [00:00&lt;00:00, 10201.71it/s]"
      }
     },
     "fcae1c0f5850408096c05d438566a940": {
      "model_module": "@jupyter-widgets/base",
      "model_module_version": "2.0.0",
      "model_name": "LayoutModel",
      "state": {}
     },
     "fcf3e8851da7441fa91d66e55935d38e": {
      "model_module": "@jupyter-widgets/controls",
      "model_module_version": "2.0.0",
      "model_name": "FloatProgressModel",
      "state": {
       "bar_style": "success",
       "layout": "IPY_MODEL_a4fe8426f7234777ac79187e701dcb22",
       "max": 1,
       "style": "IPY_MODEL_2b09c01bd3074812bffd6b71c8b80b76",
       "value": 1
      }
     },
     "fe208beba85142f2855f3e3030bfed7e": {
      "model_module": "@jupyter-widgets/controls",
      "model_module_version": "2.0.0",
      "model_name": "FloatProgressModel",
      "state": {
       "bar_style": "success",
       "layout": "IPY_MODEL_a55b35582a864f93a2f073a9c016b730",
       "max": 1000,
       "style": "IPY_MODEL_3e9d8e8a1975490598b43b8a3f9ff522",
       "value": 1000
      }
     },
     "fe33318abb144abfb1f6889cf240b5c7": {
      "model_module": "@jupyter-widgets/controls",
      "model_module_version": "2.0.0",
      "model_name": "HBoxModel",
      "state": {
       "children": [
        "IPY_MODEL_66d113c86536447ba121bb3b7d7c8ddf",
        "IPY_MODEL_d4c37cd83d66412fb1ed736dc263bf5e",
        "IPY_MODEL_6bd8e5894fb94d1f8c33374d5cb780fe"
       ],
       "layout": "IPY_MODEL_09cda7a8a4fd4cdd8dddd8defae5ec21"
      }
     },
     "fe79d0b3794146468ba971a5e38531d1": {
      "model_module": "@jupyter-widgets/controls",
      "model_module_version": "2.0.0",
      "model_name": "FloatProgressModel",
      "state": {
       "bar_style": "success",
       "layout": "IPY_MODEL_aea23eb4001f4ba2b5615ff62db01338",
       "max": 1,
       "style": "IPY_MODEL_56bcf0783eb045579d3f5c38c5af3f71",
       "value": 1
      }
     },
     "ffb3daac0f224dc3a0b20273f999a565": {
      "model_module": "@jupyter-widgets/controls",
      "model_module_version": "2.0.0",
      "model_name": "ProgressStyleModel",
      "state": {
       "description_width": ""
      }
     },
     "ffe542345c9142de88271d4b2f989527": {
      "model_module": "@jupyter-widgets/controls",
      "model_module_version": "2.0.0",
      "model_name": "ProgressStyleModel",
      "state": {
       "description_width": ""
      }
     },
     "ffebf9aca1ea4bd5ab4f854dc9de4378": {
      "model_module": "@jupyter-widgets/controls",
      "model_module_version": "2.0.0",
      "model_name": "ProgressStyleModel",
      "state": {
       "description_width": ""
      }
     },
     "ffed6bfffd8a49ab928a7a7377d98375": {
      "model_module": "@jupyter-widgets/controls",
      "model_module_version": "2.0.0",
      "model_name": "HTMLModel",
      "state": {
       "layout": "IPY_MODEL_2019f8a70fb14093ae234e02e6a84e28",
       "style": "IPY_MODEL_d68d4aacd7e44a719d01dc88ff729b82",
       "value": " 1000/1000 [00:00&lt;00:00, 4848.56it/s]"
      }
     },
     "fff692076f634ec6bafaff6c30fe6c92": {
      "model_module": "@jupyter-widgets/controls",
      "model_module_version": "2.0.0",
      "model_name": "HTMLModel",
      "state": {
       "layout": "IPY_MODEL_adff91b78c0f43eb842482d853540e0f",
       "style": "IPY_MODEL_a380b61243a4480ab83d6f92636eaf9f",
       "value": " 1000/1000 [00:00&lt;00:00, 4878.71it/s]"
      }
     }
    },
    "version_major": 2,
    "version_minor": 0
   }
  }
 },
 "nbformat": 4,
 "nbformat_minor": 5
}
