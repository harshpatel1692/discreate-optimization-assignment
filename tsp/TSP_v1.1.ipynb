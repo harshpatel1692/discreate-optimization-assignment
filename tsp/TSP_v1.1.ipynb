{
 "cells": [
  {
   "cell_type": "code",
   "execution_count": 1,
   "id": "4e2a2f80-2308-4b30-9d97-4b42fc14159d",
   "metadata": {},
   "outputs": [],
   "source": [
    "import math\n",
    "from collections import namedtuple\n",
    "import plotly.graph_objects as go\n",
    "import plotly.express as px\n",
    "import numpy as np\n",
    "from copy import deepcopy\n",
    "from tqdm import tqdm\n",
    "from tqdm.notebook import tqdm\n",
    "import random\n",
    "\n",
    "import numba as nb\n",
    "# from numba import jit, vectorize, float64"
   ]
  },
  {
   "cell_type": "code",
   "execution_count": 17,
   "id": "bbf260ad-6dde-476b-9319-81016c11405f",
   "metadata": {},
   "outputs": [],
   "source": [
    "with open('./data/tsp_5_1', 'r') as input_data_file:\n",
    "    input_data = input_data_file.read()\n",
    "    \n",
    "lines = input_data.split('\\n')\n",
    "nodeCount = int(lines[0])\n",
    "\n",
    "points = []\n",
    "for i in range(1, nodeCount+1):\n",
    "    line = lines[i]\n",
    "    parts = line.split()\n",
    "    # points.append(Point(float(parts[0]), float(parts[1])))\n",
    "    points.append((float(parts[0]), float(parts[1])))\n",
    "points = np.array(points)"
   ]
  },
  {
   "cell_type": "code",
   "execution_count": 18,
   "id": "2d1fd51e-72e5-4f6c-a0da-217de17fd794",
   "metadata": {},
   "outputs": [],
   "source": [
    "def length(point1, point2):\n",
    "    return math.sqrt((point1[0] - point2[0])**2 + (point1[1] - point2[1])**2)\n",
    "\n",
    "\n",
    "def scan_region_from(current_point, remaining_stops):\n",
    "    x, y = current_point\n",
    "    \n",
    "    if x < y:\n",
    "        x_min = np.min(remaining_stops[:, 0])\n",
    "        scan_pointer = np.array([x_min, y])\n",
    "    else:\n",
    "        y_min = np.min(remaining_stops[:, 1])\n",
    "        scan_pointer = np.array([x, y_min])\n",
    "\n",
    "    return scan_pointer\n",
    "\n",
    "\n",
    "def add_explored(current_stop, remaining_stops):\n",
    "    ## Add node as explored\n",
    "    \n",
    "    # Find the index where the element matches in the array_of_arrays\n",
    "    remove_idx = np.where(np.all(remaining_stops == current_stop, axis=1))\n",
    "    \n",
    "    # Remove the element using the indices\n",
    "    remaining_stops = np.delete(remaining_stops, remove_idx, axis=0)\n",
    "    \n",
    "    return remaining_stops\n",
    "\n",
    "\n",
    "def point_in_bbox(point, bbox):\n",
    "    x, y = point\n",
    "    x_min, y_min, x_max, y_max = bbox\n",
    "    \n",
    "    if x_min <= x <= x_max and y_min <= y <= y_max:\n",
    "        return True\n",
    "    else:\n",
    "        return False\n",
    "\n",
    "\n",
    "# def calculate_travel(graph, points):\n",
    "    \n",
    "#     indices_from = graph[:-1]\n",
    "#     indices_to = graph[1:]\n",
    "#     total_distance = np.sum(DISTANCE_MATRIX[indices_from, indices_to])\n",
    "\n",
    "#     # Add the distance to return to the starting point\n",
    "#     total_distance += DISTANCE_MATRIX[graph[-1]][graph[0]]\n",
    "\n",
    "#     return total_distance\n",
    "\n",
    "\n",
    "@nb.jit(nopython=True)\n",
    "def calculate_travel(graph):\n",
    "    n = len(graph)\n",
    "    total_distance = 0.0\n",
    "\n",
    "    for i in range(n - 1):\n",
    "        total_distance += DISTANCE_MATRIX[graph[i], graph[i + 1]]\n",
    "\n",
    "    # Add the distance to return to the starting point\n",
    "    total_distance += DISTANCE_MATRIX[graph[-1], graph[0]]\n",
    "\n",
    "    return total_distance\n",
    "\n",
    "\n",
    "@nb.jit(nopython=True)\n",
    "def calculate_travel_list(graph):\n",
    "    n = len(graph)\n",
    "    total_distance = np.empty(n)\n",
    "\n",
    "    for i in range(n - 1):\n",
    "        total_distance[i] = DISTANCE_MATRIX[graph[i], graph[i + 1]]\n",
    "\n",
    "    # Add the distance to return to the starting point\n",
    "    total_distance[-1] = DISTANCE_MATRIX[graph[-1], graph[0]]\n",
    "\n",
    "    total_distance = np.argsort(-total_distance)\n",
    "    \n",
    "    return total_distance\n",
    "    \n",
    "\n",
    "def get_midpoint(point1, point2):\n",
    "    return (point1+point2)//2\n",
    "\n",
    "@nb.jit(nopython=True)\n",
    "def do_2opt(point_idx1, point_idx2, path):\n",
    "    \n",
    "    if point_idx2 > point_idx1:\n",
    "        slice_start = point_idx1\n",
    "        slice_end = point_idx2\n",
    "    else:\n",
    "        slice_start = point_idx2\n",
    "        slice_end = point_idx1\n",
    "\n",
    "    # slice_path = path[slice_start:slice_end+1]\n",
    "    # slice_path = np.flip(slice_path)\n",
    "    # slice_path.reverse()\n",
    "\n",
    "    # new_path = path[:slice_start]+slice_path+path[slice_end+1:]\n",
    "    # new_path = np.hstack((path[:slice_start], slice_path, path[slice_end + 1:]))\n",
    "    \n",
    "    new_path = np.hstack((path[:slice_start], path[slice_start:slice_end][::-1], path[slice_end:]))\n",
    "    \n",
    "    return new_path\n",
    "\n",
    "\n",
    "class TabuList:\n",
    "    def __init__(self, tabu_size):\n",
    "        self.tabu_size = tabu_size\n",
    "        self.tabu_hash = set()\n",
    "        self.tabu_queue = []\n",
    "\n",
    "    def is_present(self, node):\n",
    "        return node in self.tabu_hash\n",
    "\n",
    "    def insert(self, node):\n",
    "        if self.is_present(node):\n",
    "            return\n",
    "        self.tabu_hash.add(node)\n",
    "        self.tabu_queue.append(node)\n",
    "        if len(self.tabu_hash) > self.tabu_size:\n",
    "            self.remove()\n",
    "            \n",
    "    def remove(self):\n",
    "        top = self.tabu_queue.pop(0)\n",
    "        self.tabu_hash.remove(top)"
   ]
  },
  {
   "cell_type": "code",
   "execution_count": 19,
   "id": "3f3caa02-c394-403b-afd0-dd0070e5fe8d",
   "metadata": {},
   "outputs": [],
   "source": [
    "@nb.jit(nopython=True)\n",
    "def length_distance(single_point, all_points):\n",
    "    return np.sqrt((all_points[:, 0]-single_point[0])**2 + (all_points[:, 1]-single_point[1])**2)"
   ]
  },
  {
   "cell_type": "code",
   "execution_count": 20,
   "id": "2bd40efe-91d8-4881-b638-b3e82db948d1",
   "metadata": {},
   "outputs": [
    {
     "data": {
      "application/vnd.jupyter.widget-view+json": {
       "model_id": "dc693eb891f74e75a86d0fe02b8bef3c",
       "version_major": 2,
       "version_minor": 0
      },
      "text/plain": [
       "  0%|          | 0/5 [00:00<?, ?it/s]"
      ]
     },
     "metadata": {},
     "output_type": "display_data"
    }
   ],
   "source": [
    "DISTANCE_MATRIX = np.zeros((nodeCount, nodeCount))\n",
    "for i in tqdm(range(len(points))):\n",
    "    DISTANCE_MATRIX[i] = length_distance(points[i], points)"
   ]
  },
  {
   "cell_type": "code",
   "execution_count": 21,
   "id": "c78baee3-4781-43f3-8ed7-14b608bfc952",
   "metadata": {},
   "outputs": [
    {
     "data": {
      "application/vnd.jupyter.widget-view+json": {
       "model_id": "9cb3ce51a10141579b3a9fef77710a88",
       "version_major": 2,
       "version_minor": 0
      },
      "text/plain": [
       "  0%|          | 0/1 [00:00<?, ?it/s]"
      ]
     },
     "metadata": {},
     "output_type": "display_data"
    },
    {
     "data": {
      "text/plain": [
       "4.0"
      ]
     },
     "execution_count": 21,
     "metadata": {},
     "output_type": "execute_result"
    }
   ],
   "source": [
    "optimal_path = None\n",
    "optimal_distance = float('inf')\n",
    "idx_pos = 0\n",
    "\n",
    "for _ in tqdm(range(1)):\n",
    "    \n",
    "    exploring_path = np.array([], dtype=int)\n",
    "    explore_points = deepcopy(points)\n",
    "    max_neighbors = 1\n",
    "    \n",
    "    pick_next = 0\n",
    "    exploring_path = np.append(exploring_path, pick_next)\n",
    "    \n",
    "    while exploring_path.size < nodeCount:\n",
    "        \n",
    "        neighbor_idx = np.argsort(DISTANCE_MATRIX[pick_next])\n",
    "        \n",
    "        mask = np.isin(neighbor_idx, exploring_path)\n",
    "        neighbor_idx = neighbor_idx[~mask]\n",
    "    \n",
    "        pick_next = np.random.choice(neighbor_idx[:max_neighbors])\n",
    "        \n",
    "        exploring_path = np.append(exploring_path, pick_next)\n",
    "\n",
    "    \n",
    "    total_distance = calculate_travel(exploring_path)\n",
    "\n",
    "    if total_distance < optimal_distance:\n",
    "        optimal_path = deepcopy(exploring_path)\n",
    "        optimal_distance = total_distance\n",
    "\n",
    "\n",
    "\n",
    "\n",
    "global_optimal_path = deepcopy(optimal_path)\n",
    "global_optimal_distance = deepcopy(optimal_distance)\n",
    "\n",
    "optimal_distance"
   ]
  },
  {
   "cell_type": "code",
   "execution_count": 43,
   "id": "c585556b-6fd5-4fb2-98ab-8f6ed2ec59ae",
   "metadata": {},
   "outputs": [],
   "source": [
    "\n",
    "starting_path = np.array(range(nodeCount))\n",
    "random.shuffle(starting_path)\n",
    "starting_distance = calculate_travel(starting_path)\n",
    "\n",
    "# starting_path =  deepcopy(np.array(global_optimal_path))\n",
    "# starting_distance = deepcopy(global_optimal_distance)"
   ]
  },
  {
   "cell_type": "code",
   "execution_count": 44,
   "id": "3bd995da-f05c-4218-adfd-660a72cee27d",
   "metadata": {},
   "outputs": [
    {
     "data": {
      "text/plain": [
       "5.23606797749979"
      ]
     },
     "execution_count": 44,
     "metadata": {},
     "output_type": "execute_result"
    }
   ],
   "source": [
    "global_optimal_path = deepcopy(starting_path)\n",
    "global_optimal_distance = deepcopy(starting_distance)\n",
    "\n",
    "\n",
    "\n",
    "starting_distance"
   ]
  },
  {
   "cell_type": "code",
   "execution_count": 45,
   "id": "33b0cfa7-268f-42be-acec-d98e3fce15f0",
   "metadata": {},
   "outputs": [
    {
     "data": {
      "text/plain": [
       "(1, 1)"
      ]
     },
     "execution_count": 45,
     "metadata": {},
     "output_type": "execute_result"
    }
   ],
   "source": [
    "iter = 0\n",
    "max_iterations = 10000\n",
    "\n",
    "init_temperature = 100\n",
    "final_temperature = 1e-3\n",
    "cooling_rate = 0.95\n",
    "\n",
    "restart_counter = 0\n",
    "temperature = init_temperature\n",
    "global_temperature = init_temperature\n",
    "\n",
    "search_idx = nodeCount//5\n",
    "\n",
    "optimal_path = deepcopy(global_optimal_path)\n",
    "optimal_distance = global_optimal_distance\n",
    "\n",
    "last_known_distance = int(global_optimal_distance)\n",
    "\n",
    "tabu_limit = nodeCount//5\n",
    "tabu_list = TabuList(tabu_limit)\n",
    "\n",
    "search_idx, tabu_limit"
   ]
  },
  {
   "cell_type": "code",
   "execution_count": 46,
   "id": "b59e3969-2a97-4206-8e2c-5e40b1f9eee8",
   "metadata": {},
   "outputs": [
    {
     "data": {
      "application/vnd.jupyter.widget-view+json": {
       "model_id": "85a21ab5be8a4150a6558ab9ab64235f",
       "version_major": 2,
       "version_minor": 0
      },
      "text/plain": [
       "  0%|          | 0/10000 [00:00<?, ?it/s]"
      ]
     },
     "metadata": {},
     "output_type": "display_data"
    },
    {
     "name": "stdout",
     "output_type": "stream",
     "text": [
      "0 0 1 4.0 100 0.95\n",
      "9 10 1 4.0 100 0.95\n",
      "9 20 1 4.0 95.095 0.95095\n",
      "9 30 1 4.0 90.521 0.9519\n",
      "9 40 1 4.0 86.2532 0.95285\n",
      "9 50 1 4.0 82.2688 0.95381\n",
      "9 60 1 4.0 78.5469 0.95476\n",
      "9 70 1 4.0 75.0684 0.95571\n",
      "9 80 1 4.0 71.8157 0.95667\n",
      "9 90 1 4.0 68.7726 0.95763\n",
      "9 100 1 4.0 65.9244 0.95858\n",
      "9 110 1 4.0 63.2573 0.95954\n",
      "9 120 1 4.0 60.7587 0.9605\n",
      "9 130 1 4.0 58.4173 0.96146\n",
      "9 140 1 4.0 56.2222 0.96242\n",
      "9 150 1 4.0 54.1637 0.96339\n",
      "9 160 1 4.0 52.2328 0.96435\n",
      "9 170 1 4.0 50.4211 0.96531\n",
      "9 180 1 4.0 48.7209 0.96628\n",
      "9 190 1 4.0 47.1251 0.96725\n",
      "9 200 1 4.0 45.6271 0.96821\n",
      "9 210 1 4.0 44.221 0.96918\n",
      "9 220 1 4.0 42.901 0.97015\n",
      "9 230 1 4.0 41.6621 0.97112\n",
      "9 240 1 4.0 40.4994 0.97209\n",
      "9 250 1 4.0 39.4085 0.97306\n",
      "9 260 1 4.0 38.3853 0.97404\n",
      "9 270 1 4.0 37.4261 0.97501\n",
      "9 280 1 4.0 36.5274 0.97599\n"
     ]
    },
    {
     "ename": "KeyboardInterrupt",
     "evalue": "",
     "output_type": "error",
     "traceback": [
      "\u001b[1;31m---------------------------------------------------------------------------\u001b[0m",
      "\u001b[1;31mKeyboardInterrupt\u001b[0m                         Traceback (most recent call last)",
      "Cell \u001b[1;32mIn[46], line 37\u001b[0m\n\u001b[0;32m     33\u001b[0m to_pick_prob \u001b[38;5;241m=\u001b[39m random\u001b[38;5;241m.\u001b[39mrandom()\n\u001b[0;32m     35\u001b[0m \u001b[38;5;28;01mif\u001b[39;00m delta \u001b[38;5;241m<\u001b[39m \u001b[38;5;241m0\u001b[39m \u001b[38;5;129;01mor\u001b[39;00m to_pick_prob \u001b[38;5;241m<\u001b[39m acceptance_prob:\n\u001b[1;32m---> 37\u001b[0m     optimal_path \u001b[38;5;241m=\u001b[39m \u001b[43mnew_path\u001b[49m\u001b[38;5;241;43m.\u001b[39;49m\u001b[43mcopy\u001b[49m\u001b[43m(\u001b[49m\u001b[43m)\u001b[49m\n\u001b[0;32m     38\u001b[0m     optimal_distance \u001b[38;5;241m=\u001b[39m new_distance\n\u001b[0;32m     40\u001b[0m     \u001b[38;5;28;01mif\u001b[39;00m new_distance \u001b[38;5;241m<\u001b[39m global_optimal_distance:\n",
      "\u001b[1;31mKeyboardInterrupt\u001b[0m: "
     ]
    }
   ],
   "source": [
    "penalty = np.zeros(nodeCount, dtype=int)\n",
    "\n",
    "for iter in tqdm(range(max_iterations)):\n",
    "    \n",
    "    if temperature < final_temperature:\n",
    "        break\n",
    "    \n",
    "    for _ in range(100):\n",
    "        \n",
    "        # pick a random point or pick points carefully        \n",
    "        alter_point = np.argmin(penalty) #random.choice(range(nodeCount))\n",
    "\n",
    "        penalty[alter_point] += 1\n",
    "        # while tabu_list.is_present(alter_point):\n",
    "        #     alter_point = random.choice(range(nodeCount))\n",
    "\n",
    "        # tabu_list.insert(alter_point)\n",
    "        \n",
    "        point_idx1 = np.where(optimal_path==alter_point)[0][0]\n",
    "    \n",
    "        # get all the neighbors to that point        \n",
    "        sorted_neighbor_points = np.argsort(DISTANCE_MATRIX[alter_point])[1:]\n",
    "        \n",
    "        # repeatedly do 2-opt for all the neighbors\n",
    "        for neighbor_idx in sorted_neighbor_points:\n",
    "           \n",
    "            point_idx2 = np.where(optimal_path==neighbor_idx)[0][0]\n",
    "            new_path = do_2opt(point_idx1, point_idx2, optimal_path)\n",
    "            new_distance = calculate_travel(new_path)\n",
    "        \n",
    "            delta = new_distance - optimal_distance\n",
    "            acceptance_prob = np.exp(-delta/temperature)\n",
    "            to_pick_prob = random.random()\n",
    "            \n",
    "            if delta < 0 or to_pick_prob < acceptance_prob:\n",
    "                \n",
    "                optimal_path = new_path.copy()\n",
    "                optimal_distance = new_distance\n",
    "                \n",
    "                if new_distance < global_optimal_distance:\n",
    "                    global_optimal_path = new_path.copy()\n",
    "                    global_optimal_distance = new_distance\n",
    "                    global_temperature = temperature\n",
    "                \n",
    "\n",
    "    if iter%10 == 0:\n",
    "        print(restart_counter, iter, search_idx, round(global_optimal_distance, 4), round(temperature, 4), round(cooling_rate, 5))\n",
    "\n",
    "\n",
    "    if round(global_optimal_distance, 1) < last_known_distance:\n",
    "        last_known_distance = round(global_optimal_distance, 1)\n",
    "        restart_counter = 0\n",
    "    else:\n",
    "        restart_counter += 1\n",
    "\n",
    "\n",
    "    if restart_counter >= 10:\n",
    "                \n",
    "        if cooling_rate*1.001 < 0.995:\n",
    "            restart_counter = 0  \n",
    "            cooling_rate *= 1.001\n",
    "            if global_temperature != init_temperature:\n",
    "                temperature = global_temperature\n",
    "\n",
    "        elif iter % 10 == 0 and search_idx > 10:\n",
    "            restart_counter = 0\n",
    "            search_idx = int(search_idx//1.1)\n",
    "            if global_temperature != init_temperature:\n",
    "                temperature = global_temperature\n",
    "                optimal_path = global_optimal_path.copy()\n",
    "                optimal_distance = global_optimal_distance\n",
    "            \n",
    "        temperature *= cooling_rate\n",
    "   \n",
    "\n",
    "    # if iter % 100 == 0 and search_idx > 15:\n",
    "    #     search_idx -= 5\n",
    "        \n",
    "    # if restart_counter > 100 and temperature < 0.1:\n",
    "    #     print(\"long due. ending loops\")\n",
    "    #     break"
   ]
  },
  {
   "cell_type": "code",
   "execution_count": null,
   "id": "f7fe0391-4834-435e-9595-721be60b7f42",
   "metadata": {},
   "outputs": [],
   "source": [
    "82679042"
   ]
  },
  {
   "cell_type": "code",
   "execution_count": null,
   "id": "7e77a096-4a36-4130-a387-68cdfd114b00",
   "metadata": {},
   "outputs": [],
   "source": []
  },
  {
   "cell_type": "code",
   "execution_count": null,
   "id": "78a6de49-2644-461f-8213-2b681078cef6",
   "metadata": {},
   "outputs": [],
   "source": []
  },
  {
   "cell_type": "code",
   "execution_count": null,
   "id": "aa0b991c-2103-4f6f-b84c-9503cb60c0ff",
   "metadata": {},
   "outputs": [],
   "source": []
  },
  {
   "cell_type": "code",
   "execution_count": null,
   "id": "9cc21f3b-ee8d-4e32-b561-3b60d854caf2",
   "metadata": {},
   "outputs": [],
   "source": [
    "# edge_x = []\n",
    "# edge_y = []\n",
    "\n",
    "# for idx, connections in tqdm(enumerate(graph_paths)):\n",
    "    \n",
    "#     x0, y0 = points[idx]\n",
    "    \n",
    "#     for connect in connections:\n",
    "#         x1, y1 = points[connect]\n",
    "    \n",
    "#         edge_x.append(x0)\n",
    "#         edge_x.append(x1)\n",
    "#         edge_x.append(None)\n",
    "        \n",
    "#         edge_y.append(y0)\n",
    "#         edge_y.append(y1)\n",
    "#         edge_y.append(None)\n",
    "\n",
    "edge_x = []\n",
    "edge_y = []\n",
    "\n",
    "for idx in tqdm(list(global_optimal_path) + [list(global_optimal_path)[0]]):\n",
    "    \n",
    "    x0, y0 = points[idx]\n",
    "    \n",
    "    edge_x.append(x0)\n",
    "    edge_y.append(y0)"
   ]
  },
  {
   "cell_type": "code",
   "execution_count": null,
   "id": "13549cac-dd42-4c19-96a6-3b6fac10660d",
   "metadata": {},
   "outputs": [],
   "source": [
    "\n",
    "\n",
    "fig = go.Figure(data=go.Scattergl(\n",
    "    x=edge_x,\n",
    "    y=edge_y,\n",
    "    mode=\"markers+lines\",\n",
    "    # mode=\"markers\"\n",
    "))\n",
    "fig.update_layout(height=750)\n",
    "fig.show()\n"
   ]
  },
  {
   "cell_type": "code",
   "execution_count": null,
   "id": "2ef4755c-23d7-4b78-b55e-c72e7345ae72",
   "metadata": {},
   "outputs": [],
   "source": [
    "\n",
    "\n",
    "fig = go.Figure(data=go.Scattergl(\n",
    "    x=edge_x,\n",
    "    y=edge_y,\n",
    "    mode=\"markers+lines\",\n",
    "    # mode=\"markers\"\n",
    "))\n",
    "fig.update_layout(height=750)\n",
    "fig.show()\n"
   ]
  },
  {
   "cell_type": "code",
   "execution_count": null,
   "id": "e00b0c45-595d-494e-9e74-345443a10e9c",
   "metadata": {},
   "outputs": [],
   "source": []
  },
  {
   "cell_type": "code",
   "execution_count": null,
   "id": "7bb597a2-1914-46c4-880a-e8d97a5d6881",
   "metadata": {},
   "outputs": [],
   "source": []
  },
  {
   "cell_type": "code",
   "execution_count": null,
   "id": "273c7879-5704-46d3-aba3-ade43957e266",
   "metadata": {},
   "outputs": [],
   "source": []
  },
  {
   "cell_type": "code",
   "execution_count": null,
   "id": "d9ef527f-fd17-48b9-a983-e29c391efdae",
   "metadata": {},
   "outputs": [],
   "source": [
    "fig = go.Figure(data=go.Scattergl(\n",
    "    x=edge_x,\n",
    "    y=edge_y,\n",
    "    mode=\"markers+lines\",\n",
    "    # mode=\"markers\"\n",
    "))\n",
    "fig.update_layout(width=1200, height=1200*layout_ratio)\n",
    "fig.show()"
   ]
  },
  {
   "cell_type": "code",
   "execution_count": null,
   "id": "3fdd1b5b-06ba-426c-97d1-e23e5480fa22",
   "metadata": {},
   "outputs": [],
   "source": [
    "\n",
    "x_points = [x for x, y in points]\n",
    "y_points = [y for x, y in points]\n",
    "layout_ratio = max(x_points)/max(y_points)\n",
    "\n",
    "fig = go.Figure(data=go.Scattergl(\n",
    "    x=x_points,\n",
    "    y=y_points,\n",
    "    # mode=\"markers+lines\",\n",
    "    mode=\"markers\"\n",
    "))\n",
    "fig.update_layout(width=1200, height=1200*layout_ratio)\n",
    "fig.show()"
   ]
  },
  {
   "cell_type": "code",
   "execution_count": null,
   "id": "b92dc545-ca38-4dda-a9cc-63e6920e9239",
   "metadata": {},
   "outputs": [],
   "source": [
    "\n",
    "x_points = [x for x, y in exploring_path]\n",
    "y_points = [y for x, y in exploring_path]\n",
    "layout_ratio = max(x_points)/max(y_points)\n",
    "\n",
    "fig = go.Figure(data=go.Scattergl(\n",
    "    x=x_points,\n",
    "    y=y_points,\n",
    "    mode=\"markers+lines\",\n",
    "    # mode=\"markers\"\n",
    "))\n",
    "fig.update_layout(width=1200, height=1200*layout_ratio)\n",
    "fig.show()"
   ]
  },
  {
   "cell_type": "code",
   "execution_count": null,
   "id": "600b786d-f6cb-4802-997b-a32d384a3fca",
   "metadata": {},
   "outputs": [],
   "source": [
    "# for iter in tqdm(range(max_iterations)):\n",
    "    \n",
    "#     if temperature < final_temperature:\n",
    "#         break\n",
    "        \n",
    "#     for _ in range(10):\n",
    "        \n",
    "#         # pick a random point or pick points carefully\n",
    "#         alter_point = random.choice(range(total_nodes))\n",
    "        \n",
    "#         point_idx1 = optimal_path.index(alter_point)\n",
    "    \n",
    "#         # get all the neighbors to that point        \n",
    "#         sorted_neighbor_points = np.argsort(DISTANCE_MATRIX[alter_point])[1:search_idx]\n",
    "        \n",
    "#         # repeatedly do 2-opt for all the neighbors\n",
    "#         for neighbor_idx in sorted_neighbor_points:\n",
    "    \n",
    "#             point_idx2 = optimal_path.index(neighbor_idx)\n",
    "#             new_path = do_2opt(point_idx1, point_idx2, optimal_path)\n",
    "#             new_distance = calculate_travel(new_path, points)\n",
    "        \n",
    "#             delta = new_distance - optimal_distance\n",
    "#             acceptance_prob = np.exp(-delta/temperature)\n",
    "#             to_pick_prob = random.random()\n",
    "            \n",
    "    \n",
    "#             if delta < 0 or to_pick_prob < acceptance_prob:\n",
    "                \n",
    "#                 optimal_path = new_path.copy()\n",
    "#                 optimal_distance = new_distance\n",
    "                \n",
    "#                 if new_distance < global_optimal_distance:\n",
    "#                     global_optimal_path = new_path.copy()\n",
    "#                     global_optimal_distance = new_distance\n",
    "#                     global_temperature = temperature\n",
    "    \n",
    "#             # else:\n",
    "#             #     optimal_path = global_optimal_path.copy()\n",
    "#             #     optimal_distance = global_optimal_distance\n",
    "                \n",
    "\n",
    "#     if iter%10 == 0:\n",
    "#         print(restart_counter, iter, search_idx, round(global_optimal_distance, 4), round(temperature, 4), round(cooling_rate, 5))\n",
    "\n",
    "\n",
    "#     if round(global_optimal_distance, 1) < last_known_distance:\n",
    "#         last_known_distance = round(global_optimal_distance, 1)\n",
    "#         restart_counter = 0\n",
    "#     else:\n",
    "#         restart_counter += 1\n",
    "\n",
    "\n",
    "#     if restart_counter >= 3:\n",
    "                \n",
    "#         if cooling_rate*1.001 < 0.995:\n",
    "#             restart_counter = 0  \n",
    "#             cooling_rate *= 1.001\n",
    "#             if global_temperature != init_temperature:\n",
    "#                 temperature = global_temperature\n",
    "\n",
    "#         elif iter % 10 == 0 and search_idx > 25:\n",
    "#             restart_counter = 0\n",
    "#             search_idx = int(search_idx//1.1)\n",
    "            \n",
    "#         temperature *= cooling_rate\n",
    "   \n",
    "\n",
    "#     # if iter % 100 == 0 and search_idx > 15:\n",
    "#     #     search_idx -= 5\n",
    "        \n",
    "#     # if restart_counter > 100 and temperature < 0.1:\n",
    "#     #     print(\"long due. ending loops\")\n",
    "#     #     break"
   ]
  },
  {
   "cell_type": "code",
   "execution_count": null,
   "id": "54049a66-dc87-49b8-b1e5-81eb22f6b241",
   "metadata": {},
   "outputs": [],
   "source": [
    "# for iter in tqdm(range(max_iterations)):\n",
    "    \n",
    "#     if temperature < final_temperature:\n",
    "#         break\n",
    "        \n",
    "#     for _ in range(100000):\n",
    "        \n",
    "#         # pick a random point or pick points carefully\n",
    "#         alter_point1, alter_point2 = random.sample(range(nodeCount), 2)\n",
    "        \n",
    "#         # point_idx1 = optimal_path.index(alter_point1)\n",
    "#         # point_idx2 = optimal_path.index(alter_point2)\n",
    "\n",
    "#         while tabu_list.is_present(alter_point1) and tabu_list.is_present(alter_point2):\n",
    "#             alter_point1, alter_point2 = random.sample(range(nodeCount), 2)\n",
    "\n",
    "#         tabu_list.insert(alter_point1)\n",
    "#         tabu_list.insert(alter_point2)\n",
    "\n",
    "#         point_idx1 = np.where(optimal_path==alter_point1)[0][0]\n",
    "#         point_idx2 = np.where(optimal_path==alter_point2)[0][0]\n",
    "    \n",
    "#         new_path = do_2opt(point_idx1, point_idx2, optimal_path)\n",
    "#         new_distance = calculate_travel(new_path)\n",
    "    \n",
    "#         delta = new_distance - optimal_distance\n",
    "#         acceptance_prob = np.exp(-delta/temperature)\n",
    "#         to_pick_prob = random.random()\n",
    "        \n",
    "\n",
    "#         if delta < 0 or to_pick_prob < acceptance_prob:\n",
    "            \n",
    "#             optimal_path = new_path.copy()\n",
    "#             optimal_distance = new_distance\n",
    "            \n",
    "#             if new_distance < global_optimal_distance:\n",
    "#                 global_optimal_path = new_path.copy()\n",
    "#                 global_optimal_distance = new_distance\n",
    "#                 global_temperature = temperature\n",
    "    \n",
    "#             # else:\n",
    "#             #     optimal_path = global_optimal_path.copy()\n",
    "#             #     optimal_distance = global_optimal_distance\n",
    "                \n",
    "\n",
    "#     if iter%10 == 0:\n",
    "#         print(restart_counter, iter, search_idx, round(global_optimal_distance, 4), round(temperature, 4), round(cooling_rate, 5))\n",
    "\n",
    "\n",
    "#     if round(global_optimal_distance, 1) < last_known_distance:\n",
    "#         last_known_distance = round(global_optimal_distance, 1)\n",
    "#         restart_counter = 0\n",
    "#     else:\n",
    "#         restart_counter += 1\n",
    "\n",
    "\n",
    "#     if restart_counter >= 3:\n",
    "                \n",
    "#         if cooling_rate*1.001 < 0.995:\n",
    "#             restart_counter = 0  \n",
    "#             cooling_rate *= 1.001\n",
    "#             if global_temperature != init_temperature:\n",
    "#                 temperature = global_temperature\n",
    "            \n",
    "#         temperature *= cooling_rate\n",
    "   \n",
    "\n",
    "#     # if iter % 100 == 0 and search_idx > 15:\n",
    "#     #     search_idx -= 5\n",
    "        \n",
    "#     # if restart_counter > 20:\n",
    "#     #     print(\"long due. ending loops\")\n",
    "#     #     break"
   ]
  }
 ],
 "metadata": {
  "kernelspec": {
   "display_name": "Python 3 (ipykernel)",
   "language": "python",
   "name": "python3"
  },
  "language_info": {
   "codemirror_mode": {
    "name": "ipython",
    "version": 3
   },
   "file_extension": ".py",
   "mimetype": "text/x-python",
   "name": "python",
   "nbconvert_exporter": "python",
   "pygments_lexer": "ipython3",
   "version": "3.10.11"
  },
  "widgets": {
   "application/vnd.jupyter.widget-state+json": {
    "state": {
     "0747c4d00faa43cb80602853dfbb1aca": {
      "model_module": "@jupyter-widgets/controls",
      "model_module_version": "2.0.0",
      "model_name": "HTMLModel",
      "state": {
       "layout": "IPY_MODEL_34efdb740ab84d1ba67c978283439efe",
       "style": "IPY_MODEL_b0c2de9626734efb88c896c4dae3c879",
       "value": " 5/5 [00:00&lt;00:00,  2.12it/s]"
      }
     },
     "07e149398d2d4bad8ab2238af671a5a1": {
      "model_module": "@jupyter-widgets/controls",
      "model_module_version": "2.0.0",
      "model_name": "HTMLStyleModel",
      "state": {
       "description_width": "",
       "font_size": null,
       "text_color": null
      }
     },
     "08413e4e934944f4b027b1d3a361b324": {
      "model_module": "@jupyter-widgets/controls",
      "model_module_version": "2.0.0",
      "model_name": "HTMLStyleModel",
      "state": {
       "description_width": "",
       "font_size": null,
       "text_color": null
      }
     },
     "08b881d0aac14535b8a9b286db1c3abb": {
      "model_module": "@jupyter-widgets/base",
      "model_module_version": "2.0.0",
      "model_name": "LayoutModel",
      "state": {}
     },
     "09e41761128e40d4aade61059165f30a": {
      "model_module": "@jupyter-widgets/base",
      "model_module_version": "2.0.0",
      "model_name": "LayoutModel",
      "state": {}
     },
     "0dfd946ddb754c7389665cec554ac057": {
      "model_module": "@jupyter-widgets/controls",
      "model_module_version": "2.0.0",
      "model_name": "HBoxModel",
      "state": {
       "children": [
        "IPY_MODEL_2dddf239147045528fd80210e50e22e2",
        "IPY_MODEL_c5f3353787224cbeafc4aa2b1381af6d",
        "IPY_MODEL_7da5f7b3cf2a4e2e98496a1c3ab55a8e"
       ],
       "layout": "IPY_MODEL_fd53fc5437aa4974a0a5b5e7c182bc62"
      }
     },
     "0f939645befb46709f96c819523d7917": {
      "model_module": "@jupyter-widgets/base",
      "model_module_version": "2.0.0",
      "model_name": "LayoutModel",
      "state": {}
     },
     "155c7d1b07fa4edfafbd376a246092b8": {
      "model_module": "@jupyter-widgets/controls",
      "model_module_version": "2.0.0",
      "model_name": "HTMLModel",
      "state": {
       "layout": "IPY_MODEL_af318fc4b7ad4d24b237ff67f6524517",
       "style": "IPY_MODEL_70a40f19e8564b928e0ae0c6d36124c5",
       "value": "100%"
      }
     },
     "162de4ce8690461386470348cd67df04": {
      "model_module": "@jupyter-widgets/controls",
      "model_module_version": "2.0.0",
      "model_name": "HTMLStyleModel",
      "state": {
       "description_width": "",
       "font_size": null,
       "text_color": null
      }
     },
     "16b06e88ae14490ea6f1f21188a1a83f": {
      "model_module": "@jupyter-widgets/controls",
      "model_module_version": "2.0.0",
      "model_name": "HTMLModel",
      "state": {
       "layout": "IPY_MODEL_8b59dc9e055f441bb8bd41896277d4cf",
       "style": "IPY_MODEL_162de4ce8690461386470348cd67df04",
       "value": " 574/574 [00:01&lt;00:00,  1.39s/it]"
      }
     },
     "19e8ba2e3704461fbc9a1d0ab17819c1": {
      "model_module": "@jupyter-widgets/controls",
      "model_module_version": "2.0.0",
      "model_name": "ProgressStyleModel",
      "state": {
       "description_width": ""
      }
     },
     "1d103fd8297e45a68bb1426ba507ccfd": {
      "model_module": "@jupyter-widgets/controls",
      "model_module_version": "2.0.0",
      "model_name": "HTMLStyleModel",
      "state": {
       "description_width": "",
       "font_size": null,
       "text_color": null
      }
     },
     "267ff02bf24746028a160f8084bae7db": {
      "model_module": "@jupyter-widgets/controls",
      "model_module_version": "2.0.0",
      "model_name": "FloatProgressModel",
      "state": {
       "bar_style": "danger",
       "layout": "IPY_MODEL_33f5f4c801e647a68b5012fb03838730",
       "max": 10000,
       "style": "IPY_MODEL_7a9ecd23a8e746dfa43cbec79f60f54a",
       "value": 287
      }
     },
     "272c00899a2e4447a5fba5af95e47975": {
      "model_module": "@jupyter-widgets/base",
      "model_module_version": "2.0.0",
      "model_name": "LayoutModel",
      "state": {}
     },
     "28c1f0db91ae42199e65732e58839939": {
      "model_module": "@jupyter-widgets/controls",
      "model_module_version": "2.0.0",
      "model_name": "ProgressStyleModel",
      "state": {
       "description_width": ""
      }
     },
     "2cbf43a7cc1040e28c6fe1d97a2d2535": {
      "model_module": "@jupyter-widgets/base",
      "model_module_version": "2.0.0",
      "model_name": "LayoutModel",
      "state": {}
     },
     "2dddf239147045528fd80210e50e22e2": {
      "model_module": "@jupyter-widgets/controls",
      "model_module_version": "2.0.0",
      "model_name": "HTMLModel",
      "state": {
       "layout": "IPY_MODEL_88ad3a806a9b4e67bd577a4cf630c685",
       "style": "IPY_MODEL_1d103fd8297e45a68bb1426ba507ccfd",
       "value": "  8%"
      }
     },
     "3083a6509c2748228329db6520de7ea8": {
      "model_module": "@jupyter-widgets/controls",
      "model_module_version": "2.0.0",
      "model_name": "HTMLModel",
      "state": {
       "layout": "IPY_MODEL_5b4dfc38a89b4e6399c3438647558be3",
       "style": "IPY_MODEL_ef8e1978f4c9488cbb3201a779d05600",
       "value": " 2395/10000 [00:05&lt;00:15, 481.46it/s]"
      }
     },
     "313652aa77fe49a399397677ebc15cc1": {
      "model_module": "@jupyter-widgets/base",
      "model_module_version": "2.0.0",
      "model_name": "LayoutModel",
      "state": {}
     },
     "33f5f4c801e647a68b5012fb03838730": {
      "model_module": "@jupyter-widgets/base",
      "model_module_version": "2.0.0",
      "model_name": "LayoutModel",
      "state": {}
     },
     "34efdb740ab84d1ba67c978283439efe": {
      "model_module": "@jupyter-widgets/base",
      "model_module_version": "2.0.0",
      "model_name": "LayoutModel",
      "state": {}
     },
     "3544f1ec449b4bc0a615f4fe4ff456cb": {
      "model_module": "@jupyter-widgets/controls",
      "model_module_version": "2.0.0",
      "model_name": "HBoxModel",
      "state": {
       "children": [
        "IPY_MODEL_5c905eb676f84064941f73ccb801b383",
        "IPY_MODEL_ff69fdd86fca443ab79a214aaa6a3c17",
        "IPY_MODEL_488f51170e914cb6b3e5d594d2dfef57"
       ],
       "layout": "IPY_MODEL_9d00dd65375f40799b0dc446abf459a7"
      }
     },
     "3b4c1d85f93e45358d70f3a660879f72": {
      "model_module": "@jupyter-widgets/controls",
      "model_module_version": "2.0.0",
      "model_name": "HTMLStyleModel",
      "state": {
       "description_width": "",
       "font_size": null,
       "text_color": null
      }
     },
     "4128259ea25548048c884e564e4ec1d9": {
      "model_module": "@jupyter-widgets/base",
      "model_module_version": "2.0.0",
      "model_name": "LayoutModel",
      "state": {}
     },
     "421aaa24caa14e0faad37da963bab0d4": {
      "model_module": "@jupyter-widgets/controls",
      "model_module_version": "2.0.0",
      "model_name": "FloatProgressModel",
      "state": {
       "bar_style": "success",
       "layout": "IPY_MODEL_71b7c6f93bce48b98152aa1b8eb0dedc",
       "max": 5,
       "style": "IPY_MODEL_79ee255c9ef64c3fa5744926c7dd07db",
       "value": 5
      }
     },
     "442564598a09431fba1e78d54674b8d6": {
      "model_module": "@jupyter-widgets/controls",
      "model_module_version": "2.0.0",
      "model_name": "HTMLStyleModel",
      "state": {
       "description_width": "",
       "font_size": null,
       "text_color": null
      }
     },
     "44d9eba02d834d30a83e4be9b7b30503": {
      "model_module": "@jupyter-widgets/base",
      "model_module_version": "2.0.0",
      "model_name": "LayoutModel",
      "state": {}
     },
     "488f51170e914cb6b3e5d594d2dfef57": {
      "model_module": "@jupyter-widgets/controls",
      "model_module_version": "2.0.0",
      "model_name": "HTMLModel",
      "state": {
       "layout": "IPY_MODEL_4128259ea25548048c884e564e4ec1d9",
       "style": "IPY_MODEL_3b4c1d85f93e45358d70f3a660879f72",
       "value": " 2095/10000 [03:39&lt;15:12,  8.66it/s]"
      }
     },
     "4f3e0b653c964a7b999f1c9cb32222d4": {
      "model_module": "@jupyter-widgets/base",
      "model_module_version": "2.0.0",
      "model_name": "LayoutModel",
      "state": {}
     },
     "5011df268fb84b56bbe5cff6880d5290": {
      "model_module": "@jupyter-widgets/controls",
      "model_module_version": "2.0.0",
      "model_name": "HTMLModel",
      "state": {
       "layout": "IPY_MODEL_e792840a4e9048439d1595620034a6d9",
       "style": "IPY_MODEL_07e149398d2d4bad8ab2238af671a5a1",
       "value": " 24%"
      }
     },
     "5580430f4f124833ae20da9178f29b28": {
      "model_module": "@jupyter-widgets/base",
      "model_module_version": "2.0.0",
      "model_name": "LayoutModel",
      "state": {}
     },
     "5a5e5c00c200455d9ba1431b928ea9cb": {
      "model_module": "@jupyter-widgets/controls",
      "model_module_version": "2.0.0",
      "model_name": "HTMLStyleModel",
      "state": {
       "description_width": "",
       "font_size": null,
       "text_color": null
      }
     },
     "5af78c5db4ce4456934f1e53f0eda234": {
      "model_module": "@jupyter-widgets/controls",
      "model_module_version": "2.0.0",
      "model_name": "ProgressStyleModel",
      "state": {
       "description_width": ""
      }
     },
     "5b4dfc38a89b4e6399c3438647558be3": {
      "model_module": "@jupyter-widgets/base",
      "model_module_version": "2.0.0",
      "model_name": "LayoutModel",
      "state": {}
     },
     "5c905eb676f84064941f73ccb801b383": {
      "model_module": "@jupyter-widgets/controls",
      "model_module_version": "2.0.0",
      "model_name": "HTMLModel",
      "state": {
       "layout": "IPY_MODEL_5c94398232154e2fa67ac5a466d2c1c3",
       "style": "IPY_MODEL_656625c97adb40fdba82674f861a2b9a",
       "value": " 21%"
      }
     },
     "5c94398232154e2fa67ac5a466d2c1c3": {
      "model_module": "@jupyter-widgets/base",
      "model_module_version": "2.0.0",
      "model_name": "LayoutModel",
      "state": {}
     },
     "62c2baff6035496aab6f7f5469ff81f0": {
      "model_module": "@jupyter-widgets/controls",
      "model_module_version": "2.0.0",
      "model_name": "ProgressStyleModel",
      "state": {
       "description_width": ""
      }
     },
     "654cc1e55944429081ab6116abcd5fbf": {
      "model_module": "@jupyter-widgets/controls",
      "model_module_version": "2.0.0",
      "model_name": "HTMLStyleModel",
      "state": {
       "description_width": "",
       "font_size": null,
       "text_color": null
      }
     },
     "656625c97adb40fdba82674f861a2b9a": {
      "model_module": "@jupyter-widgets/controls",
      "model_module_version": "2.0.0",
      "model_name": "HTMLStyleModel",
      "state": {
       "description_width": "",
       "font_size": null,
       "text_color": null
      }
     },
     "681cb84285ee4ec8aaea6bce222c264a": {
      "model_module": "@jupyter-widgets/controls",
      "model_module_version": "2.0.0",
      "model_name": "FloatProgressModel",
      "state": {
       "bar_style": "success",
       "layout": "IPY_MODEL_09e41761128e40d4aade61059165f30a",
       "max": 1,
       "style": "IPY_MODEL_5af78c5db4ce4456934f1e53f0eda234",
       "value": 1
      }
     },
     "70a40f19e8564b928e0ae0c6d36124c5": {
      "model_module": "@jupyter-widgets/controls",
      "model_module_version": "2.0.0",
      "model_name": "HTMLStyleModel",
      "state": {
       "description_width": "",
       "font_size": null,
       "text_color": null
      }
     },
     "71b7c6f93bce48b98152aa1b8eb0dedc": {
      "model_module": "@jupyter-widgets/base",
      "model_module_version": "2.0.0",
      "model_name": "LayoutModel",
      "state": {}
     },
     "724a88690c1e4be9aaf6a706986f9840": {
      "model_module": "@jupyter-widgets/base",
      "model_module_version": "2.0.0",
      "model_name": "LayoutModel",
      "state": {}
     },
     "74b9c587e74f465c93b0abb530fb0f73": {
      "model_module": "@jupyter-widgets/controls",
      "model_module_version": "2.0.0",
      "model_name": "HBoxModel",
      "state": {
       "children": [
        "IPY_MODEL_f1eaf37471884066bc3d31163fb8fc2c",
        "IPY_MODEL_87f28708a59746cb8814db8c2ccf88f2",
        "IPY_MODEL_fbdda760ed994125a8d05a5b2f0557a4"
       ],
       "layout": "IPY_MODEL_5580430f4f124833ae20da9178f29b28"
      }
     },
     "755260f62389463c8330a52efd2e18c9": {
      "model_module": "@jupyter-widgets/controls",
      "model_module_version": "2.0.0",
      "model_name": "HTMLModel",
      "state": {
       "layout": "IPY_MODEL_a48cd9fe25fd41dca22d7f26adc24ada",
       "style": "IPY_MODEL_a03ef127df7a47b4926f81dbad27e687",
       "value": "  3%"
      }
     },
     "768b8dc2449e4744bbb5408a09e6df2e": {
      "model_module": "@jupyter-widgets/controls",
      "model_module_version": "2.0.0",
      "model_name": "HTMLModel",
      "state": {
       "layout": "IPY_MODEL_9b695bbd10ad47098c810ab165d7f7d3",
       "style": "IPY_MODEL_654cc1e55944429081ab6116abcd5fbf",
       "value": " 287/10000 [00:02&lt;01:19, 122.69it/s]"
      }
     },
     "78420c1925454971ba655642d29d00b9": {
      "model_module": "@jupyter-widgets/base",
      "model_module_version": "2.0.0",
      "model_name": "LayoutModel",
      "state": {}
     },
     "79ee255c9ef64c3fa5744926c7dd07db": {
      "model_module": "@jupyter-widgets/controls",
      "model_module_version": "2.0.0",
      "model_name": "ProgressStyleModel",
      "state": {
       "description_width": ""
      }
     },
     "7a9ecd23a8e746dfa43cbec79f60f54a": {
      "model_module": "@jupyter-widgets/controls",
      "model_module_version": "2.0.0",
      "model_name": "ProgressStyleModel",
      "state": {
       "description_width": ""
      }
     },
     "7ad2d0e044cf44dc8dcb346edd7280d1": {
      "model_module": "@jupyter-widgets/base",
      "model_module_version": "2.0.0",
      "model_name": "LayoutModel",
      "state": {}
     },
     "7da5f7b3cf2a4e2e98496a1c3ab55a8e": {
      "model_module": "@jupyter-widgets/controls",
      "model_module_version": "2.0.0",
      "model_name": "HTMLModel",
      "state": {
       "layout": "IPY_MODEL_08b881d0aac14535b8a9b286db1c3abb",
       "style": "IPY_MODEL_b2b13b70b7bd489188f973d648f6d8ce",
       "value": " 751/10000 [00:08&lt;01:19, 116.65it/s]"
      }
     },
     "7dd7a9944e4747bda555bb24944178c8": {
      "model_module": "@jupyter-widgets/base",
      "model_module_version": "2.0.0",
      "model_name": "LayoutModel",
      "state": {}
     },
     "7e91423e1da1448c8ca11865c2f676ef": {
      "model_module": "@jupyter-widgets/controls",
      "model_module_version": "2.0.0",
      "model_name": "HBoxModel",
      "state": {
       "children": [
        "IPY_MODEL_5011df268fb84b56bbe5cff6880d5290",
        "IPY_MODEL_850fa36b1bbe4a3984dd49584f882207",
        "IPY_MODEL_3083a6509c2748228329db6520de7ea8"
       ],
       "layout": "IPY_MODEL_44d9eba02d834d30a83e4be9b7b30503"
      }
     },
     "850fa36b1bbe4a3984dd49584f882207": {
      "model_module": "@jupyter-widgets/controls",
      "model_module_version": "2.0.0",
      "model_name": "FloatProgressModel",
      "state": {
       "bar_style": "danger",
       "layout": "IPY_MODEL_9e0d760fdb7947d0920686671348be57",
       "max": 10000,
       "style": "IPY_MODEL_dd53f3a864004368be4ad8a4c6c494db",
       "value": 2395
      }
     },
     "85a21ab5be8a4150a6558ab9ab64235f": {
      "model_module": "@jupyter-widgets/controls",
      "model_module_version": "2.0.0",
      "model_name": "HBoxModel",
      "state": {
       "children": [
        "IPY_MODEL_755260f62389463c8330a52efd2e18c9",
        "IPY_MODEL_267ff02bf24746028a160f8084bae7db",
        "IPY_MODEL_768b8dc2449e4744bbb5408a09e6df2e"
       ],
       "layout": "IPY_MODEL_cbcb4da6516c4bc59a4318775ab10e98"
      }
     },
     "87f28708a59746cb8814db8c2ccf88f2": {
      "model_module": "@jupyter-widgets/controls",
      "model_module_version": "2.0.0",
      "model_name": "FloatProgressModel",
      "state": {
       "bar_style": "success",
       "layout": "IPY_MODEL_7ad2d0e044cf44dc8dcb346edd7280d1",
       "max": 1,
       "style": "IPY_MODEL_19e8ba2e3704461fbc9a1d0ab17819c1",
       "value": 1
      }
     },
     "88ad3a806a9b4e67bd577a4cf630c685": {
      "model_module": "@jupyter-widgets/base",
      "model_module_version": "2.0.0",
      "model_name": "LayoutModel",
      "state": {}
     },
     "8b59dc9e055f441bb8bd41896277d4cf": {
      "model_module": "@jupyter-widgets/base",
      "model_module_version": "2.0.0",
      "model_name": "LayoutModel",
      "state": {}
     },
     "9017709149f44e0798c2c4a373a29b9a": {
      "model_module": "@jupyter-widgets/controls",
      "model_module_version": "2.0.0",
      "model_name": "FloatProgressModel",
      "state": {
       "bar_style": "success",
       "layout": "IPY_MODEL_272c00899a2e4447a5fba5af95e47975",
       "max": 574,
       "style": "IPY_MODEL_a5511dd9c52e404484ad79804c94d131",
       "value": 574
      }
     },
     "95bca3f4dfa0445f9cf58de1cf31b0ba": {
      "model_module": "@jupyter-widgets/base",
      "model_module_version": "2.0.0",
      "model_name": "LayoutModel",
      "state": {}
     },
     "996a1aaa7bdf42359aea4b420318e51c": {
      "model_module": "@jupyter-widgets/controls",
      "model_module_version": "2.0.0",
      "model_name": "HBoxModel",
      "state": {
       "children": [
        "IPY_MODEL_cb289a9a5beb4108ade5513ae3425e5b",
        "IPY_MODEL_9017709149f44e0798c2c4a373a29b9a",
        "IPY_MODEL_16b06e88ae14490ea6f1f21188a1a83f"
       ],
       "layout": "IPY_MODEL_7dd7a9944e4747bda555bb24944178c8"
      }
     },
     "9b695bbd10ad47098c810ab165d7f7d3": {
      "model_module": "@jupyter-widgets/base",
      "model_module_version": "2.0.0",
      "model_name": "LayoutModel",
      "state": {}
     },
     "9cb3ce51a10141579b3a9fef77710a88": {
      "model_module": "@jupyter-widgets/controls",
      "model_module_version": "2.0.0",
      "model_name": "HBoxModel",
      "state": {
       "children": [
        "IPY_MODEL_155c7d1b07fa4edfafbd376a246092b8",
        "IPY_MODEL_681cb84285ee4ec8aaea6bce222c264a",
        "IPY_MODEL_c099339b47b74a32bde3958ff3e7c473"
       ],
       "layout": "IPY_MODEL_724a88690c1e4be9aaf6a706986f9840"
      }
     },
     "9d00dd65375f40799b0dc446abf459a7": {
      "model_module": "@jupyter-widgets/base",
      "model_module_version": "2.0.0",
      "model_name": "LayoutModel",
      "state": {}
     },
     "9e0d760fdb7947d0920686671348be57": {
      "model_module": "@jupyter-widgets/base",
      "model_module_version": "2.0.0",
      "model_name": "LayoutModel",
      "state": {}
     },
     "a03ef127df7a47b4926f81dbad27e687": {
      "model_module": "@jupyter-widgets/controls",
      "model_module_version": "2.0.0",
      "model_name": "HTMLStyleModel",
      "state": {
       "description_width": "",
       "font_size": null,
       "text_color": null
      }
     },
     "a48cd9fe25fd41dca22d7f26adc24ada": {
      "model_module": "@jupyter-widgets/base",
      "model_module_version": "2.0.0",
      "model_name": "LayoutModel",
      "state": {}
     },
     "a5511dd9c52e404484ad79804c94d131": {
      "model_module": "@jupyter-widgets/controls",
      "model_module_version": "2.0.0",
      "model_name": "ProgressStyleModel",
      "state": {
       "description_width": ""
      }
     },
     "af318fc4b7ad4d24b237ff67f6524517": {
      "model_module": "@jupyter-widgets/base",
      "model_module_version": "2.0.0",
      "model_name": "LayoutModel",
      "state": {}
     },
     "b0c2de9626734efb88c896c4dae3c879": {
      "model_module": "@jupyter-widgets/controls",
      "model_module_version": "2.0.0",
      "model_name": "HTMLStyleModel",
      "state": {
       "description_width": "",
       "font_size": null,
       "text_color": null
      }
     },
     "b2b13b70b7bd489188f973d648f6d8ce": {
      "model_module": "@jupyter-widgets/controls",
      "model_module_version": "2.0.0",
      "model_name": "HTMLStyleModel",
      "state": {
       "description_width": "",
       "font_size": null,
       "text_color": null
      }
     },
     "b5aa275fd3b648eab376086c6e9c0e84": {
      "model_module": "@jupyter-widgets/base",
      "model_module_version": "2.0.0",
      "model_name": "LayoutModel",
      "state": {}
     },
     "c099339b47b74a32bde3958ff3e7c473": {
      "model_module": "@jupyter-widgets/controls",
      "model_module_version": "2.0.0",
      "model_name": "HTMLModel",
      "state": {
       "layout": "IPY_MODEL_4f3e0b653c964a7b999f1c9cb32222d4",
       "style": "IPY_MODEL_c18d62031d3b4a8bb8bfff9d56c7cf0f",
       "value": " 1/1 [00:00&lt;00:00,  3.47it/s]"
      }
     },
     "c18d62031d3b4a8bb8bfff9d56c7cf0f": {
      "model_module": "@jupyter-widgets/controls",
      "model_module_version": "2.0.0",
      "model_name": "HTMLStyleModel",
      "state": {
       "description_width": "",
       "font_size": null,
       "text_color": null
      }
     },
     "c5f3353787224cbeafc4aa2b1381af6d": {
      "model_module": "@jupyter-widgets/controls",
      "model_module_version": "2.0.0",
      "model_name": "FloatProgressModel",
      "state": {
       "bar_style": "danger",
       "layout": "IPY_MODEL_0f939645befb46709f96c819523d7917",
       "max": 10000,
       "style": "IPY_MODEL_62c2baff6035496aab6f7f5469ff81f0",
       "value": 751
      }
     },
     "cb289a9a5beb4108ade5513ae3425e5b": {
      "model_module": "@jupyter-widgets/controls",
      "model_module_version": "2.0.0",
      "model_name": "HTMLModel",
      "state": {
       "layout": "IPY_MODEL_78420c1925454971ba655642d29d00b9",
       "style": "IPY_MODEL_5a5e5c00c200455d9ba1431b928ea9cb",
       "value": "100%"
      }
     },
     "cbcb4da6516c4bc59a4318775ab10e98": {
      "model_module": "@jupyter-widgets/base",
      "model_module_version": "2.0.0",
      "model_name": "LayoutModel",
      "state": {}
     },
     "d03a4021413248e5aa8d1cac38ef8870": {
      "model_module": "@jupyter-widgets/base",
      "model_module_version": "2.0.0",
      "model_name": "LayoutModel",
      "state": {}
     },
     "dc693eb891f74e75a86d0fe02b8bef3c": {
      "model_module": "@jupyter-widgets/controls",
      "model_module_version": "2.0.0",
      "model_name": "HBoxModel",
      "state": {
       "children": [
        "IPY_MODEL_e9cc66eec6da4ffd99178c4e8c1b73e5",
        "IPY_MODEL_421aaa24caa14e0faad37da963bab0d4",
        "IPY_MODEL_0747c4d00faa43cb80602853dfbb1aca"
       ],
       "layout": "IPY_MODEL_95bca3f4dfa0445f9cf58de1cf31b0ba"
      }
     },
     "dd53f3a864004368be4ad8a4c6c494db": {
      "model_module": "@jupyter-widgets/controls",
      "model_module_version": "2.0.0",
      "model_name": "ProgressStyleModel",
      "state": {
       "description_width": ""
      }
     },
     "deaad3eadcfc4d7f8b4add70f83277d3": {
      "model_module": "@jupyter-widgets/controls",
      "model_module_version": "2.0.0",
      "model_name": "HTMLStyleModel",
      "state": {
       "description_width": "",
       "font_size": null,
       "text_color": null
      }
     },
     "e792840a4e9048439d1595620034a6d9": {
      "model_module": "@jupyter-widgets/base",
      "model_module_version": "2.0.0",
      "model_name": "LayoutModel",
      "state": {}
     },
     "e9cc66eec6da4ffd99178c4e8c1b73e5": {
      "model_module": "@jupyter-widgets/controls",
      "model_module_version": "2.0.0",
      "model_name": "HTMLModel",
      "state": {
       "layout": "IPY_MODEL_d03a4021413248e5aa8d1cac38ef8870",
       "style": "IPY_MODEL_08413e4e934944f4b027b1d3a361b324",
       "value": "100%"
      }
     },
     "ef8e1978f4c9488cbb3201a779d05600": {
      "model_module": "@jupyter-widgets/controls",
      "model_module_version": "2.0.0",
      "model_name": "HTMLStyleModel",
      "state": {
       "description_width": "",
       "font_size": null,
       "text_color": null
      }
     },
     "f1eaf37471884066bc3d31163fb8fc2c": {
      "model_module": "@jupyter-widgets/controls",
      "model_module_version": "2.0.0",
      "model_name": "HTMLModel",
      "state": {
       "layout": "IPY_MODEL_2cbf43a7cc1040e28c6fe1d97a2d2535",
       "style": "IPY_MODEL_deaad3eadcfc4d7f8b4add70f83277d3",
       "value": "100%"
      }
     },
     "fbdda760ed994125a8d05a5b2f0557a4": {
      "model_module": "@jupyter-widgets/controls",
      "model_module_version": "2.0.0",
      "model_name": "HTMLModel",
      "state": {
       "layout": "IPY_MODEL_b5aa275fd3b648eab376086c6e9c0e84",
       "style": "IPY_MODEL_442564598a09431fba1e78d54674b8d6",
       "value": " 1/1 [00:00&lt;00:00,  2.89it/s]"
      }
     },
     "fd53fc5437aa4974a0a5b5e7c182bc62": {
      "model_module": "@jupyter-widgets/base",
      "model_module_version": "2.0.0",
      "model_name": "LayoutModel",
      "state": {}
     },
     "ff69fdd86fca443ab79a214aaa6a3c17": {
      "model_module": "@jupyter-widgets/controls",
      "model_module_version": "2.0.0",
      "model_name": "FloatProgressModel",
      "state": {
       "bar_style": "danger",
       "layout": "IPY_MODEL_313652aa77fe49a399397677ebc15cc1",
       "max": 10000,
       "style": "IPY_MODEL_28c1f0db91ae42199e65732e58839939",
       "value": 2095
      }
     }
    },
    "version_major": 2,
    "version_minor": 0
   }
  }
 },
 "nbformat": 4,
 "nbformat_minor": 5
}
