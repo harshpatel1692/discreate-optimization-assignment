{
 "cells": [
  {
   "cell_type": "code",
   "execution_count": 1,
   "id": "4e2a2f80-2308-4b30-9d97-4b42fc14159d",
   "metadata": {},
   "outputs": [],
   "source": [
    "import math\n",
    "from collections import namedtuple\n",
    "import plotly.graph_objects as go\n",
    "import plotly.express as px\n",
    "import numpy as np\n",
    "from copy import deepcopy\n",
    "from tqdm import tqdm\n",
    "from tqdm.notebook import tqdm\n",
    "import random\n",
    "\n",
    "\n",
    "from numba import jit, vectorize, float64"
   ]
  },
  {
   "cell_type": "code",
   "execution_count": 2,
   "id": "bbf260ad-6dde-476b-9319-81016c11405f",
   "metadata": {},
   "outputs": [],
   "source": [
    "with open('./data/tsp_51_1', 'r') as input_data_file:\n",
    "    input_data = input_data_file.read()\n",
    "    \n",
    "lines = input_data.split('\\n')\n",
    "nodeCount = int(lines[0])\n",
    "\n",
    "points = []\n",
    "for i in range(1, nodeCount+1):\n",
    "    line = lines[i]\n",
    "    parts = line.split()\n",
    "    # points.append(Point(float(parts[0]), float(parts[1])))\n",
    "    points.append((float(parts[0]), float(parts[1])))\n",
    "points = np.array(points)"
   ]
  },
  {
   "cell_type": "code",
   "execution_count": 4,
   "id": "2d1fd51e-72e5-4f6c-a0da-217de17fd794",
   "metadata": {},
   "outputs": [],
   "source": [
    "def length(point1, point2):\n",
    "    return math.sqrt((point1[0] - point2[0])**2 + (point1[1] - point2[1])**2)\n",
    "\n",
    "\n",
    "def scan_region_from(current_point, remaining_stops):\n",
    "    x, y = current_point\n",
    "    \n",
    "    if x < y:\n",
    "        x_min = np.min(remaining_stops[:, 0])\n",
    "        scan_pointer = np.array([x_min, y])\n",
    "    else:\n",
    "        y_min = np.min(remaining_stops[:, 1])\n",
    "        scan_pointer = np.array([x, y_min])\n",
    "\n",
    "    return scan_pointer\n",
    "\n",
    "\n",
    "def add_explored(current_stop, remaining_stops):\n",
    "    ## Add node as explored\n",
    "    \n",
    "    # Find the index where the element matches in the array_of_arrays\n",
    "    remove_idx = np.where(np.all(remaining_stops == current_stop, axis=1))\n",
    "    \n",
    "    # Remove the element using the indices\n",
    "    remaining_stops = np.delete(remaining_stops, remove_idx, axis=0)\n",
    "    \n",
    "    return remaining_stops\n",
    "\n",
    "\n",
    "def point_in_bbox(point, bbox):\n",
    "    x, y = point\n",
    "    x_min, y_min, x_max, y_max = bbox\n",
    "    \n",
    "    if x_min <= x <= x_max and y_min <= y <= y_max:\n",
    "        return True\n",
    "    else:\n",
    "        return False\n",
    "\n",
    "\n",
    "def calculate_travel(graph, points):\n",
    "    path = deepcopy(graph)\n",
    "    path.append(path[0])\n",
    "    coordinates = np.array([points[idx] for idx in path])\n",
    "    distances = np.linalg.norm(coordinates[1:] - coordinates[:-1], axis=1)\n",
    "    return np.sum(distances)\n",
    "\n",
    "\n",
    "def get_midpoint(point1, point2):\n",
    "    return (point1+point2)//2\n",
    "\n",
    "\n",
    "def do_2opt(path, points, search_idx):\n",
    "    \n",
    "    path = deepcopy(path)\n",
    "    \n",
    "    coor = np.array([points[idx] for idx in path+[path[0]]])\n",
    "    dist = np.linalg.norm(coor[1:] - coor[:-1], axis=1)\n",
    "\n",
    "    ## Sort by n distances set by search_idx\n",
    "    sorted_dist = np.argsort(-dist)[:search_idx]\n",
    "\n",
    "    max_point = np.random.choice(sorted_dist)\n",
    "    \n",
    "    mid_point = get_midpoint(coor[max_point], coor[max_point+1])\n",
    "    \n",
    "    sorted_neighbor_point = np.argsort(length_distance(mid_point, points))[:search_idx]\n",
    "    neighbor_point = np.random.choice(sorted_neighbor_point)\n",
    "    \n",
    "    switch_point = np.where((coor == points[neighbor_point]).all(axis=1))[0][0]\n",
    "\n",
    "    if switch_point > max_point:\n",
    "        slice_start = max_point\n",
    "        slice_end = switch_point\n",
    "    else:\n",
    "        slice_start = switch_point\n",
    "        slice_end = max_point\n",
    "\n",
    "    slice_path = path[slice_start:slice_end+1]\n",
    "    slice_path.reverse()\n",
    "\n",
    "    new_path = path[:slice_start]+slice_path+path[slice_end+1:]\n",
    "    \n",
    "    return new_path"
   ]
  },
  {
   "cell_type": "code",
   "execution_count": 5,
   "id": "3f3caa02-c394-403b-afd0-dd0070e5fe8d",
   "metadata": {},
   "outputs": [],
   "source": [
    "@jit(nopython=True)\n",
    "def length_distance(single_point, all_points):\n",
    "    return np.sqrt((all_points[:, 0]-single_point[0])**2 + (all_points[:, 1]-single_point[1])**2)"
   ]
  },
  {
   "cell_type": "code",
   "execution_count": 6,
   "id": "4f3fa08f-023c-4b77-bd05-3bb1b82e8bde",
   "metadata": {},
   "outputs": [],
   "source": [
    "# exploring_path = []\n",
    "# explore_points = deepcopy(points)\n",
    "# global_bbox = np.array([min(points[:, 0]), min(points[:, 1]), max(points[:, 0]), max(points[:, 1])])\n",
    "\n",
    "# mid_x, mid_y = (global_bbox[2]-global_bbox[0])//2, (global_bbox[3]-global_bbox[1])//2\n",
    "# base_distance = np.sqrt((points[:, 0])**2 + (points[:, 1])**2)"
   ]
  },
  {
   "cell_type": "code",
   "execution_count": 7,
   "id": "e6dcf0c9-f8cc-4437-940e-de68b9674a8d",
   "metadata": {},
   "outputs": [
    {
     "data": {
      "application/vnd.jupyter.widget-view+json": {
       "model_id": "4bd7f4a3ade746b6ad7967f7adb957d7",
       "version_major": 2,
       "version_minor": 0
      },
      "text/plain": [
       "  0%|          | 0/10 [00:00<?, ?it/s]"
      ]
     },
     "metadata": {},
     "output_type": "display_data"
    },
    {
     "data": {
      "text/plain": [
       "655.1478970268985"
      ]
     },
     "execution_count": 7,
     "metadata": {},
     "output_type": "execute_result"
    }
   ],
   "source": [
    "optimal_path = []\n",
    "optimal_distance = float('inf')\n",
    "\n",
    "for _ in tqdm(range(10)):\n",
    "    \n",
    "    exploring_path = []\n",
    "    explore_points = deepcopy(points)\n",
    "    max_neighbors = 3 #len(points)//10\n",
    "    \n",
    "    pick_next = 0\n",
    "    exploring_path.append(pick_next)\n",
    "    while len(exploring_path) < len(points):\n",
    "    \n",
    "        one_point = points[pick_next]\n",
    "        \n",
    "        neighbor_distances = length_distance(one_point, explore_points)\n",
    "        neighbor_idx = np.argsort(neighbor_distances)\n",
    "        \n",
    "        mask = np.isin(neighbor_idx, exploring_path)\n",
    "        neighbor_idx = neighbor_idx[~mask]\n",
    "    \n",
    "        pick_next = np.random.choice(neighbor_idx[:max_neighbors])\n",
    "    \n",
    "        exploring_path.append(pick_next)\n",
    "\n",
    "    total_distance = calculate_travel(exploring_path, points)\n",
    "\n",
    "    if total_distance < optimal_distance:\n",
    "        optimal_path = deepcopy(exploring_path)\n",
    "        optimal_distance = total_distance\n",
    "\n",
    "\n",
    "\n",
    "\n",
    "global_optimal_path = deepcopy(optimal_path)\n",
    "global_optimal_distance = deepcopy(optimal_distance)\n",
    "\n",
    "optimal_distance"
   ]
  },
  {
   "cell_type": "code",
   "execution_count": null,
   "id": "dcd03c9d-bdd4-4864-b03f-2fc97723f2c6",
   "metadata": {},
   "outputs": [],
   "source": []
  },
  {
   "cell_type": "code",
   "execution_count": 8,
   "id": "c585556b-6fd5-4fb2-98ab-8f6ed2ec59ae",
   "metadata": {},
   "outputs": [],
   "source": [
    "\n",
    "# starting_path = list(range(len(points)))\n",
    "# random.shuffle(starting_path)\n",
    "# starting_distance = calculate_travel(starting_path, points)\n",
    "\n",
    "starting_path =  deepcopy(global_optimal_path)\n",
    "starting_distance = deepcopy(global_optimal_distance)"
   ]
  },
  {
   "cell_type": "code",
   "execution_count": 23,
   "id": "3bd995da-f05c-4218-adfd-660a72cee27d",
   "metadata": {},
   "outputs": [
    {
     "data": {
      "text/plain": [
       "655.1478970268985"
      ]
     },
     "execution_count": 23,
     "metadata": {},
     "output_type": "execute_result"
    }
   ],
   "source": [
    "global_optimal_path = deepcopy(starting_path)\n",
    "global_optimal_distance = deepcopy(starting_distance)\n",
    "\n",
    "\n",
    "\n",
    "starting_distance"
   ]
  },
  {
   "cell_type": "code",
   "execution_count": 24,
   "id": "33b0cfa7-268f-42be-acec-d98e3fce15f0",
   "metadata": {},
   "outputs": [],
   "source": [
    "iter = 0\n",
    "max_iterations = 500000\n",
    "\n",
    "init_temperature = 1000\n",
    "final_temperature = 1e-6\n",
    "cooling_rate = 0.9\n",
    "\n",
    "restart_counter = 0\n",
    "temperature = init_temperature\n",
    "\n",
    "search_idx = len(points)\n",
    "\n",
    "optimal_path = deepcopy(global_optimal_path)\n",
    "optimal_distance = global_optimal_distance\n",
    "\n",
    "last_known_distance = int(global_optimal_distance)"
   ]
  },
  {
   "cell_type": "code",
   "execution_count": 25,
   "id": "76604a5b-17fd-4bb0-bc3a-0d807e870038",
   "metadata": {
    "scrolled": true
   },
   "outputs": [
    {
     "name": "stdout",
     "output_type": "stream",
     "text": [
      "639.167 1000 0.9\n",
      "639.167 1000 0.9\n",
      "639.167 1000 0.9\n",
      "639.167 1000 0.9\n",
      "639.167 1000 0.9\n",
      "639.167 1000 0.9\n",
      "639.167 1000 0.9\n",
      "633.671 1000 0.9\n",
      "633.671 1000 0.9\n",
      "633.671 1000 0.9\n",
      "633.671 1000 0.9\n",
      "633.671 900.9 0.9008999999999999\n",
      "629.296 900.9 0.9008999999999999\n",
      "629.296 900.9 0.9008999999999999\n",
      "629.296 900.9 0.9008999999999999\n",
      "629.296 900.9 0.9008999999999999\n",
      "629.296 900.9 0.9008999999999999\n",
      "629.296 900.9 0.9008999999999999\n",
      "629.296 900.9 0.9008999999999999\n",
      "629.296 900.9 0.9008999999999999\n",
      "629.296 900.9 0.9008999999999999\n",
      "629.296 900.9 0.9008999999999999\n",
      "629.296 812.432 0.9018008999999998\n",
      "629.296 812.432 0.9018008999999998\n",
      "629.296 812.432 0.9018008999999998\n",
      "629.296 812.432 0.9018008999999998\n",
      "629.296 812.432 0.9018008999999998\n",
      "629.296 812.432 0.9018008999999998\n",
      "629.296 812.432 0.9018008999999998\n",
      "629.296 812.432 0.9018008999999998\n",
      "629.296 812.432 0.9018008999999998\n",
      "629.296 812.432 0.9018008999999998\n",
      "629.296 812.432 0.9018008999999998\n",
      "629.296 733.385 0.9027027008999997\n",
      "629.296 733.385 0.9027027008999997\n",
      "629.296 733.385 0.9027027008999997\n",
      "629.296 733.385 0.9027027008999997\n",
      "629.296 733.385 0.9027027008999997\n",
      "629.296 733.385 0.9027027008999997\n",
      "629.296 733.385 0.9027027008999997\n",
      "629.296 733.385 0.9027027008999997\n",
      "629.296 733.385 0.9027027008999997\n",
      "629.296 733.385 0.9027027008999997\n",
      "629.296 733.385 0.9027027008999997\n",
      "629.296 662.691 0.9036054036008996\n",
      "629.296 662.691 0.9036054036008996\n",
      "629.296 662.691 0.9036054036008996\n",
      "629.296 662.691 0.9036054036008996\n",
      "629.296 662.691 0.9036054036008996\n",
      "629.296 662.691 0.9036054036008996\n",
      "629.296 662.691 0.9036054036008996\n",
      "629.296 662.691 0.9036054036008996\n",
      "629.296 662.691 0.9036054036008996\n",
      "629.296 662.691 0.9036054036008996\n",
      "629.296 662.691 0.9036054036008996\n",
      "629.296 599.41 0.9045090090045004\n",
      "629.296 599.41 0.9045090090045004\n",
      "629.296 599.41 0.9045090090045004\n",
      "629.296 599.41 0.9045090090045004\n",
      "629.296 599.41 0.9045090090045004\n",
      "629.296 599.41 0.9045090090045004\n",
      "629.296 599.41 0.9045090090045004\n",
      "629.296 599.41 0.9045090090045004\n",
      "629.296 599.41 0.9045090090045004\n",
      "629.296 599.41 0.9045090090045004\n",
      "629.296 599.41 0.9045090090045004\n",
      "629.296 542.714 0.9054135180135048\n",
      "629.296 542.714 0.9054135180135048\n",
      "629.296 542.714 0.9054135180135048\n",
      "629.296 542.714 0.9054135180135048\n",
      "629.296 542.714 0.9054135180135048\n",
      "629.296 542.714 0.9054135180135048\n",
      "629.296 542.714 0.9054135180135048\n",
      "629.296 542.714 0.9054135180135048\n",
      "629.296 542.714 0.9054135180135048\n",
      "629.296 542.714 0.9054135180135048\n",
      "629.296 542.714 0.9054135180135048\n",
      "629.296 491.872 0.9063189315315182\n",
      "629.296 491.872 0.9063189315315182\n",
      "629.296 491.872 0.9063189315315182\n",
      "629.296 491.872 0.9063189315315182\n",
      "629.296 491.872 0.9063189315315182\n",
      "629.296 491.872 0.9063189315315182\n",
      "629.296 491.872 0.9063189315315182\n",
      "629.296 491.872 0.9063189315315182\n",
      "629.296 491.872 0.9063189315315182\n",
      "629.296 491.872 0.9063189315315182\n",
      "629.296 491.872 0.9063189315315182\n",
      "629.296 446.238 0.9072252504630496\n",
      "629.296 446.238 0.9072252504630496\n",
      "629.296 446.238 0.9072252504630496\n",
      "629.296 446.238 0.9072252504630496\n",
      "629.296 446.238 0.9072252504630496\n",
      "629.296 446.238 0.9072252504630496\n",
      "629.296 446.238 0.9072252504630496\n",
      "629.296 446.238 0.9072252504630496\n",
      "629.296 446.238 0.9072252504630496\n",
      "629.296 446.238 0.9072252504630496\n",
      "629.296 446.238 0.9072252504630496\n",
      "629.296 405.244 0.9081324757135125\n",
      "629.296 405.244 0.9081324757135125\n",
      "629.296 405.244 0.9081324757135125\n",
      "629.296 405.244 0.9081324757135125\n",
      "629.296 405.244 0.9081324757135125\n",
      "629.296 405.244 0.9081324757135125\n",
      "629.296 405.244 0.9081324757135125\n",
      "629.296 405.244 0.9081324757135125\n",
      "629.296 405.244 0.9081324757135125\n",
      "629.296 405.244 0.9081324757135125\n",
      "629.296 405.244 0.9081324757135125\n",
      "629.296 368.383 0.9090406081892259\n",
      "629.296 368.383 0.9090406081892259\n",
      "629.296 368.383 0.9090406081892259\n",
      "629.296 368.383 0.9090406081892259\n",
      "629.296 368.383 0.9090406081892259\n",
      "629.296 368.383 0.9090406081892259\n",
      "629.296 368.383 0.9090406081892259\n",
      "629.296 368.383 0.9090406081892259\n",
      "629.296 368.383 0.9090406081892259\n",
      "629.296 368.383 0.9090406081892259\n",
      "629.296 368.383 0.9090406081892259\n",
      "629.296 335.21 0.909949648797415\n",
      "629.296 335.21 0.909949648797415\n",
      "629.296 335.21 0.909949648797415\n",
      "629.296 335.21 0.909949648797415\n",
      "629.296 335.21 0.909949648797415\n",
      "629.296 335.21 0.909949648797415\n",
      "629.296 335.21 0.909949648797415\n",
      "629.296 335.21 0.909949648797415\n",
      "629.296 335.21 0.909949648797415\n",
      "629.296 335.21 0.909949648797415\n",
      "629.296 335.21 0.909949648797415\n",
      "629.296 305.329 0.9108595984462123\n",
      "629.296 305.329 0.9108595984462123\n",
      "629.296 305.329 0.9108595984462123\n",
      "629.296 305.329 0.9108595984462123\n",
      "629.296 305.329 0.9108595984462123\n",
      "629.296 305.329 0.9108595984462123\n",
      "629.296 305.329 0.9108595984462123\n",
      "629.296 305.329 0.9108595984462123\n",
      "629.296 305.329 0.9108595984462123\n",
      "629.296 305.329 0.9108595984462123\n",
      "629.296 305.329 0.9108595984462123\n",
      "629.296 278.39 0.9117704580446584\n",
      "629.296 278.39 0.9117704580446584\n",
      "629.296 278.39 0.9117704580446584\n",
      "629.296 278.39 0.9117704580446584\n",
      "629.296 278.39 0.9117704580446584\n",
      "629.296 278.39 0.9117704580446584\n",
      "629.296 278.39 0.9117704580446584\n",
      "629.296 278.39 0.9117704580446584\n",
      "629.296 278.39 0.9117704580446584\n",
      "629.296 278.39 0.9117704580446584\n",
      "629.296 278.39 0.9117704580446584\n",
      "629.296 254.082 0.912682228502703\n",
      "629.296 254.082 0.912682228502703\n",
      "629.296 254.082 0.912682228502703\n",
      "629.296 254.082 0.912682228502703\n",
      "629.296 254.082 0.912682228502703\n",
      "629.296 254.082 0.912682228502703\n",
      "629.296 254.082 0.912682228502703\n",
      "629.296 254.082 0.912682228502703\n",
      "629.296 254.082 0.912682228502703\n",
      "629.296 254.082 0.912682228502703\n",
      "629.296 254.082 0.912682228502703\n",
      "629.296 232.128 0.9135949107312056\n",
      "629.296 232.128 0.9135949107312056\n",
      "629.296 232.128 0.9135949107312056\n",
      "629.296 232.128 0.9135949107312056\n",
      "629.296 232.128 0.9135949107312056\n",
      "629.296 232.128 0.9135949107312056\n",
      "629.296 232.128 0.9135949107312056\n",
      "629.296 232.128 0.9135949107312056\n",
      "629.296 232.128 0.9135949107312056\n",
      "629.296 232.128 0.9135949107312056\n",
      "629.296 232.128 0.9135949107312056\n"
     ]
    },
    {
     "ename": "ValueError",
     "evalue": "'a' cannot be empty unless no samples are taken",
     "output_type": "error",
     "traceback": [
      "\u001b[1;31m---------------------------------------------------------------------------\u001b[0m",
      "\u001b[1;31mValueError\u001b[0m                                Traceback (most recent call last)",
      "Cell \u001b[1;32mIn[25], line 5\u001b[0m\n\u001b[0;32m      1\u001b[0m \u001b[38;5;28;01mwhile\u001b[39;00m temperature \u001b[38;5;241m>\u001b[39m final_temperature:\n\u001b[0;32m      3\u001b[0m     \u001b[38;5;28;01mfor\u001b[39;00m _ \u001b[38;5;129;01min\u001b[39;00m \u001b[38;5;28mrange\u001b[39m(\u001b[38;5;241m100\u001b[39m):\n\u001b[1;32m----> 5\u001b[0m         new_path \u001b[38;5;241m=\u001b[39m \u001b[43mdo_2opt\u001b[49m\u001b[43m(\u001b[49m\u001b[43moptimal_path\u001b[49m\u001b[43m,\u001b[49m\u001b[43m \u001b[49m\u001b[43mpoints\u001b[49m\u001b[43m,\u001b[49m\u001b[43m \u001b[49m\u001b[43msearch_idx\u001b[49m\u001b[43m)\u001b[49m\n\u001b[0;32m      6\u001b[0m         new_distance \u001b[38;5;241m=\u001b[39m calculate_travel(new_path, points)\n\u001b[0;32m      8\u001b[0m         delta \u001b[38;5;241m=\u001b[39m new_distance \u001b[38;5;241m-\u001b[39m optimal_distance\n",
      "Cell \u001b[1;32mIn[4], line 62\u001b[0m, in \u001b[0;36mdo_2opt\u001b[1;34m(path, points, search_idx)\u001b[0m\n\u001b[0;32m     59\u001b[0m \u001b[38;5;66;03m## Sort by n distances set by search_idx\u001b[39;00m\n\u001b[0;32m     60\u001b[0m sorted_dist \u001b[38;5;241m=\u001b[39m np\u001b[38;5;241m.\u001b[39margsort(\u001b[38;5;241m-\u001b[39mdist)[:search_idx]\n\u001b[1;32m---> 62\u001b[0m max_point \u001b[38;5;241m=\u001b[39m \u001b[43mnp\u001b[49m\u001b[38;5;241;43m.\u001b[39;49m\u001b[43mrandom\u001b[49m\u001b[38;5;241;43m.\u001b[39;49m\u001b[43mchoice\u001b[49m\u001b[43m(\u001b[49m\u001b[43msorted_dist\u001b[49m\u001b[43m)\u001b[49m\n\u001b[0;32m     64\u001b[0m mid_point \u001b[38;5;241m=\u001b[39m get_midpoint(coor[max_point], coor[max_point\u001b[38;5;241m+\u001b[39m\u001b[38;5;241m1\u001b[39m])\n\u001b[0;32m     66\u001b[0m sorted_neighbor_point \u001b[38;5;241m=\u001b[39m np\u001b[38;5;241m.\u001b[39margsort(length_distance(mid_point, points))[:search_idx]\n",
      "File \u001b[1;32mmtrand.pyx:934\u001b[0m, in \u001b[0;36mnumpy.random.mtrand.RandomState.choice\u001b[1;34m()\u001b[0m\n",
      "\u001b[1;31mValueError\u001b[0m: 'a' cannot be empty unless no samples are taken"
     ]
    }
   ],
   "source": [
    "while temperature > final_temperature:\n",
    "    \n",
    "    for _ in range(100):\n",
    "        \n",
    "        new_path = do_2opt(optimal_path, points, search_idx)\n",
    "        new_distance = calculate_travel(new_path, points)\n",
    "\n",
    "        delta = new_distance - optimal_distance\n",
    "        acceptance_prob = np.exp(-(delta)/temperature)\n",
    "        to_pick_prob = random.random()\n",
    "\n",
    "        if delta < 0 or to_pick_prob < acceptance_prob:\n",
    "            optimal_distance = new_distance\n",
    "\n",
    "            if new_distance < global_optimal_distance:\n",
    "                global_optimal_path = deepcopy(new_path)\n",
    "                global_optimal_distance = new_distance\n",
    "                last_known_distance = global_optimal_distance\n",
    "\n",
    "    \n",
    "    print(round(global_optimal_distance, 3), round(temperature, 3), cooling_rate)\n",
    "    \n",
    "    if global_optimal_distance < last_known_distance:\n",
    "        last_known_distance = global_optimal_distance\n",
    "        restart_counter = 0\n",
    "    else:\n",
    "        restart_counter += 1\n",
    "\n",
    "\n",
    "    if restart_counter > 10:\n",
    "        search_idx = int(search_idx//1.2)\n",
    "        \n",
    "        if cooling_rate < 0.9995:\n",
    "            cooling_rate *= 1.001\n",
    "            \n",
    "        temperature *= cooling_rate\n",
    "        restart_counter = 0  \n",
    "        "
   ]
  },
  {
   "cell_type": "code",
   "execution_count": null,
   "id": "73610d7d-b07f-4209-94c0-9e3c3b53194f",
   "metadata": {},
   "outputs": [],
   "source": []
  },
  {
   "cell_type": "code",
   "execution_count": 20,
   "id": "4ad5ae55-6645-4250-ba24-4a13cc76a8fc",
   "metadata": {},
   "outputs": [
    {
     "data": {
      "application/vnd.jupyter.widget-view+json": {
       "model_id": "db764fb415224337b6a3c91827fd5973",
       "version_major": 2,
       "version_minor": 0
      },
      "text/plain": [
       "0it [00:00, ?it/s]"
      ]
     },
     "metadata": {},
     "output_type": "display_data"
    },
    {
     "name": "stdout",
     "output_type": "stream",
     "text": [
      "3 100 607.819 248.918 0.9145085056419366\n",
      "2 200 588.831 80.027 0.9292508965460535\n",
      "1 300 575.487 33.231 0.9442309430741791\n",
      "5 400 575.487 17.823 0.9594524763684936\n",
      "2 500 544.415 12.538 0.973945443887454\n",
      "5 600 530.912 11.045 0.9886573342949144\n",
      "2 700 472.955 11.586 0.9995871045807178\n",
      "0 800 463.452 11.51 0.9995871045807178\n",
      "4 900 463.452 11.434 0.9995871045807178\n",
      "1 1000 460.714 11.354 0.9995871045807178\n",
      "4 1100 459.737 11.28 0.9995871045807178\n",
      "2 1200 459.737 11.201 0.9995871045807178\n",
      "0 1300 459.737 11.122 0.9995871045807178\n",
      "4 1400 459.737 11.049 0.9995871045807178\n",
      "2 1500 459.737 10.972 0.9995871045807178\n",
      "0 1600 459.737 10.895 0.9995871045807178\n",
      "4 1700 459.737 10.823 0.9995871045807178\n",
      "2 1800 457.227 10.748 0.9995871045807178\n",
      "3 1900 457.227 10.677 0.9995871045807178\n",
      "1 2000 457.227 10.602 0.9995871045807178\n",
      "5 2100 457.227 10.532 0.9995871045807178\n",
      "3 2200 457.227 10.459 0.9995871045807178\n",
      "3 2300 454.86 10.394 0.9995871045807178\n",
      "1 2400 454.025 10.321 0.9995871045807178\n",
      "5 2500 454.025 10.253 0.9995871045807178\n",
      "3 2600 454.025 10.182 0.9995871045807178\n",
      "1 2700 454.025 10.11 0.9995871045807178\n",
      "1 2800 449.754 10.048 0.9995871045807178\n",
      "5 2900 449.754 9.982 0.9995871045807178\n",
      "3 3000 449.754 9.912 0.9995871045807178\n",
      "1 3100 449.754 9.843 0.9995871045807178\n",
      "5 3200 449.754 9.778 0.9995871045807178\n",
      "3 3300 449.754 9.709 0.9995871045807178\n",
      "1 3400 449.754 9.641 0.9995871045807178\n",
      "5 3500 449.754 9.578 0.9995871045807178\n",
      "3 3600 449.754 9.511 0.9995871045807178\n",
      "1 3700 449.754 9.444 0.9995871045807178\n"
     ]
    },
    {
     "ename": "KeyboardInterrupt",
     "evalue": "",
     "output_type": "error",
     "traceback": [
      "\u001b[1;31m---------------------------------------------------------------------------\u001b[0m",
      "\u001b[1;31mKeyboardInterrupt\u001b[0m                         Traceback (most recent call last)",
      "Cell \u001b[1;32mIn[20], line 29\u001b[0m\n\u001b[0;32m     25\u001b[0m optimal_distance \u001b[38;5;241m=\u001b[39m calculate_travel(optimal_path, points)\n\u001b[0;32m     27\u001b[0m \u001b[38;5;28;01mwhile\u001b[39;00m search_idx \u001b[38;5;241m>\u001b[39m\u001b[38;5;241m=\u001b[39m \u001b[38;5;241m1\u001b[39m:\n\u001b[1;32m---> 29\u001b[0m     new_path \u001b[38;5;241m=\u001b[39m \u001b[43mdo_2opt\u001b[49m\u001b[43m(\u001b[49m\u001b[43moptimal_path\u001b[49m\u001b[43m,\u001b[49m\u001b[43m \u001b[49m\u001b[43mpoints\u001b[49m\u001b[43m,\u001b[49m\u001b[43m \u001b[49m\u001b[43msearch_idx\u001b[49m\u001b[43m)\u001b[49m\n\u001b[0;32m     30\u001b[0m     new_distance \u001b[38;5;241m=\u001b[39m calculate_travel(new_path, points)\n\u001b[0;32m     32\u001b[0m     \u001b[38;5;28;01mif\u001b[39;00m new_distance \u001b[38;5;241m<\u001b[39m\u001b[38;5;241m=\u001b[39m optimal_distance:\n",
      "Cell \u001b[1;32mIn[4], line 56\u001b[0m, in \u001b[0;36mdo_2opt\u001b[1;34m(path, points, search_idx)\u001b[0m\n\u001b[0;32m     52\u001b[0m \u001b[38;5;28;01mdef\u001b[39;00m \u001b[38;5;21mdo_2opt\u001b[39m(path, points, search_idx):\n\u001b[0;32m     54\u001b[0m     path \u001b[38;5;241m=\u001b[39m deepcopy(path)\n\u001b[1;32m---> 56\u001b[0m     coor \u001b[38;5;241m=\u001b[39m \u001b[43mnp\u001b[49m\u001b[38;5;241;43m.\u001b[39;49m\u001b[43marray\u001b[49m\u001b[43m(\u001b[49m\u001b[43m[\u001b[49m\u001b[43mpoints\u001b[49m\u001b[43m[\u001b[49m\u001b[43midx\u001b[49m\u001b[43m]\u001b[49m\u001b[43m \u001b[49m\u001b[38;5;28;43;01mfor\u001b[39;49;00m\u001b[43m \u001b[49m\u001b[43midx\u001b[49m\u001b[43m \u001b[49m\u001b[38;5;129;43;01min\u001b[39;49;00m\u001b[43m \u001b[49m\u001b[43mpath\u001b[49m\u001b[38;5;241;43m+\u001b[39;49m\u001b[43m[\u001b[49m\u001b[43mpath\u001b[49m\u001b[43m[\u001b[49m\u001b[38;5;241;43m0\u001b[39;49m\u001b[43m]\u001b[49m\u001b[43m]\u001b[49m\u001b[43m]\u001b[49m\u001b[43m)\u001b[49m\n\u001b[0;32m     57\u001b[0m     dist \u001b[38;5;241m=\u001b[39m np\u001b[38;5;241m.\u001b[39mlinalg\u001b[38;5;241m.\u001b[39mnorm(coor[\u001b[38;5;241m1\u001b[39m:] \u001b[38;5;241m-\u001b[39m coor[:\u001b[38;5;241m-\u001b[39m\u001b[38;5;241m1\u001b[39m], axis\u001b[38;5;241m=\u001b[39m\u001b[38;5;241m1\u001b[39m)\n\u001b[0;32m     59\u001b[0m     \u001b[38;5;66;03m## Sort by n distances set by search_idx\u001b[39;00m\n",
      "\u001b[1;31mKeyboardInterrupt\u001b[0m: "
     ]
    }
   ],
   "source": [
    "iter = 0\n",
    "max_iterations = 500000\n",
    "\n",
    "init_temperature = 1000\n",
    "final_temperature = 1e-6\n",
    "cooling_rate = 0.9\n",
    "\n",
    "restart_counter = 0\n",
    "last_known_distance = int(global_optimal_distance)\n",
    "temperature = init_temperature\n",
    "\n",
    "with tqdm() as pbar:    \n",
    "    \n",
    "    # while temperature > final_temperature and iter < max_iterations:\n",
    "    while iter < max_iterations:\n",
    "\n",
    "        \n",
    "        search_idx = len(points)\n",
    "    \n",
    "        optimal_path = deepcopy(global_optimal_path)\n",
    "        optimal_distance = deepcopy(global_optimal_distance)\n",
    "    \n",
    "        idx_i, idx_j = random.sample(range(len(optimal_path)), 2)\n",
    "        optimal_path[idx_i], optimal_path[idx_j] = optimal_path[idx_j], optimal_path[idx_i]\n",
    "        optimal_distance = calculate_travel(optimal_path, points)\n",
    "    \n",
    "        while search_idx >= 1:\n",
    "                \n",
    "            new_path = do_2opt(optimal_path, points, search_idx)\n",
    "            new_distance = calculate_travel(new_path, points)\n",
    "            \n",
    "            if new_distance <= optimal_distance:\n",
    "                optimal_distance = deepcopy(new_distance)\n",
    "                optimal_path = deepcopy(new_path)\n",
    "                \n",
    "            else:\n",
    "                acceptance_prob = np.exp(-(new_distance-optimal_distance)/temperature)\n",
    "                to_pick_prob = random.random()\n",
    "                \n",
    "                if to_pick_prob < acceptance_prob:\n",
    "                    # print(to_pick_prob, acceptance_prob, new_distance-optimal_distance)\n",
    "                    optimal_distance = deepcopy(new_distance)\n",
    "                    optimal_path = deepcopy(new_path)\n",
    "            \n",
    "                \n",
    "            if optimal_distance < global_optimal_distance:\n",
    "                global_optimal_distance = deepcopy(optimal_distance)\n",
    "                global_optimal_path = deepcopy(optimal_path)\n",
    "                global_temperature = temperature\n",
    "\n",
    "            \n",
    "            search_idx = int(search_idx//1.2)\n",
    "            \n",
    "        pbar.update(1)\n",
    "        iter+=1\n",
    "    \n",
    "\n",
    "        if iter%100 == 0:\n",
    "            print(restart_counter, iter, round(global_optimal_distance, 3), round(temperature, 3), cooling_rate)\n",
    "\n",
    "        \n",
    "        if int(global_optimal_distance) < last_known_distance:\n",
    "            last_known_distance = int(global_optimal_distance)\n",
    "            restart_counter = 0\n",
    "        else:\n",
    "            restart_counter += 1\n",
    "\n",
    "\n",
    "        if restart_counter > 5:\n",
    "            \n",
    "            if cooling_rate < 0.9995:\n",
    "                cooling_rate *= 1.001\n",
    "                temperature *= 1.01\n",
    "                \n",
    "            temperature *= cooling_rate\n",
    "            restart_counter = 0    "
   ]
  },
  {
   "cell_type": "code",
   "execution_count": 32,
   "id": "a1bffe11-cb73-4d0e-9266-69716d0744c4",
   "metadata": {},
   "outputs": [
    {
     "data": {
      "text/plain": [
       "23"
      ]
     },
     "execution_count": 32,
     "metadata": {},
     "output_type": "execute_result"
    }
   ],
   "source": [
    "restart_counter"
   ]
  },
  {
   "cell_type": "code",
   "execution_count": 29,
   "id": "24c1db05-d62c-4d31-84b3-ee11ba240ce1",
   "metadata": {},
   "outputs": [
    {
     "data": {
      "text/plain": [
       "0"
      ]
     },
     "execution_count": 29,
     "metadata": {},
     "output_type": "execute_result"
    }
   ],
   "source": [
    "iter"
   ]
  },
  {
   "cell_type": "code",
   "execution_count": null,
   "id": "9cc21f3b-ee8d-4e32-b561-3b60d854caf2",
   "metadata": {},
   "outputs": [],
   "source": [
    "# edge_x = []\n",
    "# edge_y = []\n",
    "\n",
    "# for idx, connections in tqdm(enumerate(graph_paths)):\n",
    "    \n",
    "#     x0, y0 = points[idx]\n",
    "    \n",
    "#     for connect in connections:\n",
    "#         x1, y1 = points[connect]\n",
    "    \n",
    "#         edge_x.append(x0)\n",
    "#         edge_x.append(x1)\n",
    "#         edge_x.append(None)\n",
    "        \n",
    "#         edge_y.append(y0)\n",
    "#         edge_y.append(y1)\n",
    "#         edge_y.append(None)\n",
    "\n",
    "edge_x = []\n",
    "edge_y = []\n",
    "\n",
    "for idx in tqdm(global_optimal_path + [global_optimal_path[0]]):\n",
    "    \n",
    "    x0, y0 = points[idx]\n",
    "    \n",
    "    edge_x.append(x0)\n",
    "    edge_y.append(y0)"
   ]
  },
  {
   "cell_type": "code",
   "execution_count": null,
   "id": "13549cac-dd42-4c19-96a6-3b6fac10660d",
   "metadata": {},
   "outputs": [],
   "source": [
    "\n",
    "\n",
    "fig = go.Figure(data=go.Scattergl(\n",
    "    x=edge_x,\n",
    "    y=edge_y,\n",
    "    mode=\"markers+lines\",\n",
    "    # mode=\"markers\"\n",
    "))\n",
    "fig.update_layout(height=750)\n",
    "fig.show()\n"
   ]
  },
  {
   "cell_type": "code",
   "execution_count": null,
   "id": "2ef4755c-23d7-4b78-b55e-c72e7345ae72",
   "metadata": {},
   "outputs": [],
   "source": [
    "\n",
    "\n",
    "fig = go.Figure(data=go.Scattergl(\n",
    "    x=edge_x,\n",
    "    y=edge_y,\n",
    "    mode=\"markers+lines\",\n",
    "    # mode=\"markers\"\n",
    "))\n",
    "fig.update_layout(height=750)\n",
    "fig.show()\n"
   ]
  },
  {
   "cell_type": "code",
   "execution_count": null,
   "id": "e00b0c45-595d-494e-9e74-345443a10e9c",
   "metadata": {},
   "outputs": [],
   "source": []
  },
  {
   "cell_type": "code",
   "execution_count": null,
   "id": "7bb597a2-1914-46c4-880a-e8d97a5d6881",
   "metadata": {},
   "outputs": [],
   "source": []
  },
  {
   "cell_type": "code",
   "execution_count": null,
   "id": "273c7879-5704-46d3-aba3-ade43957e266",
   "metadata": {},
   "outputs": [],
   "source": []
  },
  {
   "cell_type": "code",
   "execution_count": null,
   "id": "d9ef527f-fd17-48b9-a983-e29c391efdae",
   "metadata": {},
   "outputs": [],
   "source": [
    "fig = go.Figure(data=go.Scattergl(\n",
    "    x=edge_x,\n",
    "    y=edge_y,\n",
    "    mode=\"markers+lines\",\n",
    "    # mode=\"markers\"\n",
    "))\n",
    "fig.update_layout(width=1200, height=1200*layout_ratio)\n",
    "fig.show()"
   ]
  },
  {
   "cell_type": "code",
   "execution_count": null,
   "id": "3fdd1b5b-06ba-426c-97d1-e23e5480fa22",
   "metadata": {},
   "outputs": [],
   "source": [
    "\n",
    "x_points = [x for x, y in points]\n",
    "y_points = [y for x, y in points]\n",
    "layout_ratio = max(x_points)/max(y_points)\n",
    "\n",
    "fig = go.Figure(data=go.Scattergl(\n",
    "    x=x_points,\n",
    "    y=y_points,\n",
    "    # mode=\"markers+lines\",\n",
    "    mode=\"markers\"\n",
    "))\n",
    "fig.update_layout(width=1200, height=1200*layout_ratio)\n",
    "fig.show()"
   ]
  },
  {
   "cell_type": "code",
   "execution_count": null,
   "id": "b92dc545-ca38-4dda-a9cc-63e6920e9239",
   "metadata": {},
   "outputs": [],
   "source": [
    "\n",
    "x_points = [x for x, y in exploring_path]\n",
    "y_points = [y for x, y in exploring_path]\n",
    "layout_ratio = max(x_points)/max(y_points)\n",
    "\n",
    "fig = go.Figure(data=go.Scattergl(\n",
    "    x=x_points,\n",
    "    y=y_points,\n",
    "    mode=\"markers+lines\",\n",
    "    # mode=\"markers\"\n",
    "))\n",
    "fig.update_layout(width=1200, height=1200*layout_ratio)\n",
    "fig.show()"
   ]
  },
  {
   "cell_type": "code",
   "execution_count": null,
   "id": "600b786d-f6cb-4802-997b-a32d384a3fca",
   "metadata": {},
   "outputs": [],
   "source": [
    "# SEMI-MST\n",
    "\n",
    "# edge_x = []\n",
    "# edge_y = []\n",
    "\n",
    "# for one_point in tqdm(points):\n",
    "\n",
    "#     neighbors = np.sqrt((points[:, 0]-one_point[0])**2 + (points[:, 1]-one_point[1])**2)\n",
    "    \n",
    "#     x0, y0 = one_point\n",
    "\n",
    "#     connections = points[np.argsort(neighbors)[1]] # [1:3]] ## 2 connections - 1st one is self\n",
    "    \n",
    "#     for connect in [connections]:\n",
    "#         x1, y1 = connect\n",
    "    \n",
    "#         edge_x.append(x0)\n",
    "#         edge_x.append(x1)\n",
    "#         edge_x.append(None)\n",
    "        \n",
    "#         edge_y.append(y0)\n",
    "#         edge_y.append(y1)\n",
    "#         edge_y.append(None)\n",
    "\n",
    "\n",
    "# fig = go.Figure(data=go.Scattergl(\n",
    "#     x=edge_x,\n",
    "#     y=edge_y,\n",
    "#     mode=\"markers+lines\",\n",
    "#     # mode=\"markers\"\n",
    "# ))\n",
    "# fig.update_layout(width=1200, height=1200*layout_ratio)\n",
    "# fig.show()\n",
    "\n",
    "\n",
    "\n",
    "\n",
    "# def do_2opt(path, points, search_idx):\n",
    "    \n",
    "#     path = deepcopy(path)\n",
    "    \n",
    "#     coor = np.array([points[idx] for idx in path+[path[0]]])\n",
    "#     dist = np.linalg.norm(coor[1:] - coor[:-1], axis=1)\n",
    "\n",
    "#     ## This coordinate has longest distance\n",
    "#     max_point = np.argsort(-dist)[search_idx]\n",
    "\n",
    "#     mid_point = get_midpoint(coor[max_point], coor[max_point+1])\n",
    "#     mid_nearest_point = np.argmin(length_distance(mid_point, points))\n",
    "#     switch_point = np.where((coor == points[mid_nearest_point]).all(axis=1))[0][0]\n",
    "\n",
    "#     if switch_point > max_point:\n",
    "#         slice_start = max_point\n",
    "#         slice_end = switch_point\n",
    "#     else:\n",
    "#         slice_start = switch_point\n",
    "#         slice_end = max_point\n",
    "\n",
    "#     slice_path = path[slice_start:slice_end+1]\n",
    "#     slice_path.reverse()\n",
    "\n",
    "#     new_path = path[:slice_start]+slice_path+path[slice_end+1:]\n",
    "    \n",
    "#     return new_path\n"
   ]
  }
 ],
 "metadata": {
  "kernelspec": {
   "display_name": "Python 3 (ipykernel)",
   "language": "python",
   "name": "python3"
  },
  "language_info": {
   "codemirror_mode": {
    "name": "ipython",
    "version": 3
   },
   "file_extension": ".py",
   "mimetype": "text/x-python",
   "name": "python",
   "nbconvert_exporter": "python",
   "pygments_lexer": "ipython3",
   "version": "3.10.11"
  },
  "widgets": {
   "application/vnd.jupyter.widget-state+json": {
    "state": {
     "09acc3307ee34a6ab14f739f3f48fb4a": {
      "model_module": "@jupyter-widgets/base",
      "model_module_version": "2.0.0",
      "model_name": "LayoutModel",
      "state": {}
     },
     "1c2f5161929a458db8a9ffd58c0a0d17": {
      "model_module": "@jupyter-widgets/base",
      "model_module_version": "2.0.0",
      "model_name": "LayoutModel",
      "state": {}
     },
     "1ca2b85363e441c4a48a451cfeb91505": {
      "model_module": "@jupyter-widgets/base",
      "model_module_version": "2.0.0",
      "model_name": "LayoutModel",
      "state": {}
     },
     "3378e1e5ab024755af44fd664d76b952": {
      "model_module": "@jupyter-widgets/controls",
      "model_module_version": "2.0.0",
      "model_name": "HTMLStyleModel",
      "state": {
       "description_width": "",
       "font_size": null,
       "text_color": null
      }
     },
     "4bd7f4a3ade746b6ad7967f7adb957d7": {
      "model_module": "@jupyter-widgets/controls",
      "model_module_version": "2.0.0",
      "model_name": "HBoxModel",
      "state": {
       "children": [
        "IPY_MODEL_984ecbc6b6854fdb934b1018bf881e93",
        "IPY_MODEL_a146833f555d49a5b2f4c1436f212ee2",
        "IPY_MODEL_fbb38411f4e64c1cbbf964c189694c4c"
       ],
       "layout": "IPY_MODEL_1ca2b85363e441c4a48a451cfeb91505"
      }
     },
     "5d733df7fb0b463ea7ec49219f0e6c8b": {
      "model_module": "@jupyter-widgets/controls",
      "model_module_version": "2.0.0",
      "model_name": "HTMLStyleModel",
      "state": {
       "description_width": "",
       "font_size": null,
       "text_color": null
      }
     },
     "6df571de6dd34ed7a90242f5a2a2d4fe": {
      "model_module": "@jupyter-widgets/controls",
      "model_module_version": "2.0.0",
      "model_name": "HTMLStyleModel",
      "state": {
       "description_width": "",
       "font_size": null,
       "text_color": null
      }
     },
     "723dc65db92546fc9b6632781cbdc6be": {
      "model_module": "@jupyter-widgets/controls",
      "model_module_version": "2.0.0",
      "model_name": "ProgressStyleModel",
      "state": {
       "description_width": ""
      }
     },
     "7f20ec2958f648bba746167af3e41ffb": {
      "model_module": "@jupyter-widgets/controls",
      "model_module_version": "2.0.0",
      "model_name": "HTMLStyleModel",
      "state": {
       "description_width": "",
       "font_size": null,
       "text_color": null
      }
     },
     "81199b873a954644b94eefff301a9d74": {
      "model_module": "@jupyter-widgets/base",
      "model_module_version": "2.0.0",
      "model_name": "LayoutModel",
      "state": {}
     },
     "82f25ea646184898a6aa7a6b51e1f812": {
      "model_module": "@jupyter-widgets/controls",
      "model_module_version": "2.0.0",
      "model_name": "HTMLModel",
      "state": {
       "layout": "IPY_MODEL_81199b873a954644b94eefff301a9d74",
       "style": "IPY_MODEL_6df571de6dd34ed7a90242f5a2a2d4fe"
      }
     },
     "877dd852202942cfa5b6f74b834b7a63": {
      "model_module": "@jupyter-widgets/base",
      "model_module_version": "2.0.0",
      "model_name": "LayoutModel",
      "state": {}
     },
     "984ecbc6b6854fdb934b1018bf881e93": {
      "model_module": "@jupyter-widgets/controls",
      "model_module_version": "2.0.0",
      "model_name": "HTMLModel",
      "state": {
       "layout": "IPY_MODEL_ba0593202aea4767b0368b15f274aed7",
       "style": "IPY_MODEL_5d733df7fb0b463ea7ec49219f0e6c8b",
       "value": "100%"
      }
     },
     "a146833f555d49a5b2f4c1436f212ee2": {
      "model_module": "@jupyter-widgets/controls",
      "model_module_version": "2.0.0",
      "model_name": "FloatProgressModel",
      "state": {
       "bar_style": "success",
       "layout": "IPY_MODEL_09acc3307ee34a6ab14f739f3f48fb4a",
       "max": 10,
       "style": "IPY_MODEL_723dc65db92546fc9b6632781cbdc6be",
       "value": 10
      }
     },
     "a310604ce8984edf84f2d84a33d60256": {
      "model_module": "@jupyter-widgets/base",
      "model_module_version": "2.0.0",
      "model_name": "LayoutModel",
      "state": {}
     },
     "ae96583213e24aafb965daf72e2bd220": {
      "model_module": "@jupyter-widgets/base",
      "model_module_version": "2.0.0",
      "model_name": "LayoutModel",
      "state": {
       "width": "20px"
      }
     },
     "b3c0fbd2aadb4a669f6554645b9abba1": {
      "model_module": "@jupyter-widgets/controls",
      "model_module_version": "2.0.0",
      "model_name": "HTMLModel",
      "state": {
       "layout": "IPY_MODEL_1c2f5161929a458db8a9ffd58c0a0d17",
       "style": "IPY_MODEL_7f20ec2958f648bba746167af3e41ffb",
       "value": " 3709/? [00:38&lt;00:00, 99.65it/s]"
      }
     },
     "ba0593202aea4767b0368b15f274aed7": {
      "model_module": "@jupyter-widgets/base",
      "model_module_version": "2.0.0",
      "model_name": "LayoutModel",
      "state": {}
     },
     "bdd7b1e77f4f481ba006e4a9ad81e2f5": {
      "model_module": "@jupyter-widgets/controls",
      "model_module_version": "2.0.0",
      "model_name": "FloatProgressModel",
      "state": {
       "bar_style": "success",
       "layout": "IPY_MODEL_ae96583213e24aafb965daf72e2bd220",
       "max": 1,
       "style": "IPY_MODEL_eea88b61d6304977a7c06ceb50493284",
       "value": 1
      }
     },
     "db764fb415224337b6a3c91827fd5973": {
      "model_module": "@jupyter-widgets/controls",
      "model_module_version": "2.0.0",
      "model_name": "HBoxModel",
      "state": {
       "children": [
        "IPY_MODEL_82f25ea646184898a6aa7a6b51e1f812",
        "IPY_MODEL_bdd7b1e77f4f481ba006e4a9ad81e2f5",
        "IPY_MODEL_b3c0fbd2aadb4a669f6554645b9abba1"
       ],
       "layout": "IPY_MODEL_877dd852202942cfa5b6f74b834b7a63"
      }
     },
     "eea88b61d6304977a7c06ceb50493284": {
      "model_module": "@jupyter-widgets/controls",
      "model_module_version": "2.0.0",
      "model_name": "ProgressStyleModel",
      "state": {
       "description_width": ""
      }
     },
     "fbb38411f4e64c1cbbf964c189694c4c": {
      "model_module": "@jupyter-widgets/controls",
      "model_module_version": "2.0.0",
      "model_name": "HTMLModel",
      "state": {
       "layout": "IPY_MODEL_a310604ce8984edf84f2d84a33d60256",
       "style": "IPY_MODEL_3378e1e5ab024755af44fd664d76b952",
       "value": " 10/10 [00:01&lt;00:00,  1.43s/it]"
      }
     }
    },
    "version_major": 2,
    "version_minor": 0
   }
  }
 },
 "nbformat": 4,
 "nbformat_minor": 5
}
