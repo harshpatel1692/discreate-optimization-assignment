{
 "cells": [
  {
   "cell_type": "code",
   "execution_count": 1,
   "id": "4e2a2f80-2308-4b30-9d97-4b42fc14159d",
   "metadata": {},
   "outputs": [],
   "source": [
    "import math\n",
    "from collections import namedtuple\n",
    "import plotly.graph_objects as go\n",
    "import plotly.express as px\n",
    "import numpy as np\n",
    "from copy import deepcopy\n",
    "from tqdm import tqdm\n",
    "from tqdm.notebook import tqdm\n",
    "import random\n",
    "\n",
    "import numba as nb\n",
    "# from numba import jit, vectorize, float64"
   ]
  },
  {
   "cell_type": "code",
   "execution_count": 2,
   "id": "bbf260ad-6dde-476b-9319-81016c11405f",
   "metadata": {},
   "outputs": [],
   "source": [
    "with open('./data/tsp_100_3', 'r') as input_data_file:\n",
    "    input_data = input_data_file.read()\n",
    "    \n",
    "lines = input_data.split('\\n')\n",
    "nodeCount = int(lines[0])\n",
    "\n",
    "points = []\n",
    "for i in range(1, nodeCount+1):\n",
    "    line = lines[i]\n",
    "    parts = line.split()\n",
    "    # points.append(Point(float(parts[0]), float(parts[1])))\n",
    "    points.append((float(parts[0]), float(parts[1])))\n",
    "points = np.array(points)"
   ]
  },
  {
   "cell_type": "code",
   "execution_count": 3,
   "id": "2d1fd51e-72e5-4f6c-a0da-217de17fd794",
   "metadata": {},
   "outputs": [],
   "source": [
    "def length(point1, point2):\n",
    "    return math.sqrt((point1[0] - point2[0])**2 + (point1[1] - point2[1])**2)\n",
    "\n",
    "\n",
    "def scan_region_from(current_point, remaining_stops):\n",
    "    x, y = current_point\n",
    "    \n",
    "    if x < y:\n",
    "        x_min = np.min(remaining_stops[:, 0])\n",
    "        scan_pointer = np.array([x_min, y])\n",
    "    else:\n",
    "        y_min = np.min(remaining_stops[:, 1])\n",
    "        scan_pointer = np.array([x, y_min])\n",
    "\n",
    "    return scan_pointer\n",
    "\n",
    "\n",
    "def add_explored(current_stop, remaining_stops):\n",
    "    ## Add node as explored\n",
    "    \n",
    "    # Find the index where the element matches in the array_of_arrays\n",
    "    remove_idx = np.where(np.all(remaining_stops == current_stop, axis=1))\n",
    "    \n",
    "    # Remove the element using the indices\n",
    "    remaining_stops = np.delete(remaining_stops, remove_idx, axis=0)\n",
    "    \n",
    "    return remaining_stops\n",
    "\n",
    "\n",
    "def point_in_bbox(point, bbox):\n",
    "    x, y = point\n",
    "    x_min, y_min, x_max, y_max = bbox\n",
    "    \n",
    "    if x_min <= x <= x_max and y_min <= y <= y_max:\n",
    "        return True\n",
    "    else:\n",
    "        return False\n",
    "\n",
    "\n",
    "# def calculate_travel(graph, points):\n",
    "    \n",
    "#     indices_from = graph[:-1]\n",
    "#     indices_to = graph[1:]\n",
    "#     total_distance = np.sum(DISTANCE_MATRIX[indices_from, indices_to])\n",
    "\n",
    "#     # Add the distance to return to the starting point\n",
    "#     total_distance += DISTANCE_MATRIX[graph[-1]][graph[0]]\n",
    "\n",
    "#     return total_distance\n",
    "\n",
    "\n",
    "@nb.jit(nopython=True)\n",
    "def calculate_travel(graph):\n",
    "    n = len(graph)\n",
    "    total_distance = 0.0\n",
    "\n",
    "    for i in range(n - 1):\n",
    "        total_distance += DISTANCE_MATRIX[graph[i], graph[i + 1]]\n",
    "\n",
    "    # Add the distance to return to the starting point\n",
    "    total_distance += DISTANCE_MATRIX[graph[-1], graph[0]]\n",
    "\n",
    "    return total_distance\n",
    "\n",
    "\n",
    "@nb.jit(nopython=True)\n",
    "def calculate_travel_list(graph):\n",
    "    n = len(graph)\n",
    "    total_distance = np.empty(n)\n",
    "\n",
    "    for i in range(n - 1):\n",
    "        total_distance[i] = DISTANCE_MATRIX[graph[i], graph[i + 1]]\n",
    "\n",
    "    # Add the distance to return to the starting point\n",
    "    total_distance[-1] = DISTANCE_MATRIX[graph[-1], graph[0]]\n",
    "\n",
    "    total_distance = np.argsort(-total_distance)\n",
    "    \n",
    "    return total_distance\n",
    "    \n",
    "\n",
    "def get_midpoint(point1, point2):\n",
    "    return (point1+point2)//2\n",
    "\n",
    "@nb.jit(nopython=True)\n",
    "def do_2opt(point_idx1, point_idx2, path):\n",
    "    \n",
    "    if point_idx2 > point_idx1:\n",
    "        slice_start = point_idx1\n",
    "        slice_end = point_idx2\n",
    "    else:\n",
    "        slice_start = point_idx2\n",
    "        slice_end = point_idx1\n",
    "\n",
    "    # slice_path = path[slice_start:slice_end+1]\n",
    "    # slice_path = np.flip(slice_path)\n",
    "    # slice_path.reverse()\n",
    "\n",
    "    # new_path = path[:slice_start]+slice_path+path[slice_end+1:]\n",
    "    # new_path = np.hstack((path[:slice_start], slice_path, path[slice_end + 1:]))\n",
    "    \n",
    "    new_path = np.hstack((path[:slice_start], path[slice_start:slice_end][::-1], path[slice_end:]))\n",
    "    \n",
    "    return new_path\n",
    "\n",
    "\n",
    "class TabuList:\n",
    "    def __init__(self, tabu_size):\n",
    "        self.tabu_size = tabu_size\n",
    "        self.tabu_hash = set()\n",
    "        self.tabu_queue = []\n",
    "\n",
    "    def is_present(self, node):\n",
    "        return node in self.tabu_hash\n",
    "\n",
    "    def insert(self, node):\n",
    "        if self.is_present(node):\n",
    "            return\n",
    "        self.tabu_hash.add(node)\n",
    "        self.tabu_queue.append(node)\n",
    "        if len(self.tabu_hash) > self.tabu_size:\n",
    "            self.remove()\n",
    "            \n",
    "    def remove(self):\n",
    "        top = self.tabu_queue.pop(0)\n",
    "        self.tabu_hash.remove(top)\n",
    "\n",
    "def add_penalty(path):\n",
    "    util_nodes = {}\n",
    "    \n",
    "    for idx, node in enumerate(path):\n",
    "        node_out = path[idx+1] if idx+1 < nodeCount else path[0]\n",
    "        dist = DISTANCE_MATRIX[node][node_out]\n",
    "        penalty = (1 + PENALTY_MATRIX[node, node_out])\n",
    "        util = dist / (1 + penalty)\n",
    "        util_nodes[(node, node_out)] = util\n",
    "\n",
    "    max_util = max(util_nodes.values())\n",
    "    viable_candidates = [(node, node_out) for (node, node_out), value in util_nodes.items() if value == max_util]\n",
    "\n",
    "    for node, node_out in viable_candidates:\n",
    "        PENALTY_MATRIX[node, node_out] += 1\n",
    "        PENALTY_MATRIX[node_out, node] += 1"
   ]
  },
  {
   "cell_type": "code",
   "execution_count": 4,
   "id": "3f3caa02-c394-403b-afd0-dd0070e5fe8d",
   "metadata": {},
   "outputs": [],
   "source": [
    "@nb.jit(nopython=True)\n",
    "def length_distance(single_point, all_points):\n",
    "    return np.sqrt((all_points[:, 0]-single_point[0])**2 + (all_points[:, 1]-single_point[1])**2)"
   ]
  },
  {
   "cell_type": "code",
   "execution_count": 5,
   "id": "2bd40efe-91d8-4881-b638-b3e82db948d1",
   "metadata": {},
   "outputs": [
    {
     "data": {
      "application/vnd.jupyter.widget-view+json": {
       "model_id": "66ae51355d3e497ea6fff27e6a65fa62",
       "version_major": 2,
       "version_minor": 0
      },
      "text/plain": [
       "  0%|          | 0/100 [00:00<?, ?it/s]"
      ]
     },
     "metadata": {},
     "output_type": "display_data"
    },
    {
     "data": {
      "application/vnd.jupyter.widget-view+json": {
       "model_id": "190cd1d45cd1473d91592a01d1e59a08",
       "version_major": 2,
       "version_minor": 0
      },
      "text/plain": [
       "  0%|          | 0/100 [00:00<?, ?it/s]"
      ]
     },
     "metadata": {},
     "output_type": "display_data"
    }
   ],
   "source": [
    "PENALTY_MATRIX = np.zeros((nodeCount, nodeCount), dtype=int)\n",
    "\n",
    "DISTANCE_MATRIX = np.zeros((nodeCount, nodeCount))\n",
    "for i in tqdm(range(len(points))):\n",
    "    DISTANCE_MATRIX[i] = length_distance(points[i], points)\n",
    "\n",
    "AUGMENTED_DISTANCE_MATRIX = np.zeros((nodeCount, nodeCount))\n",
    "for i in tqdm(range(len(points))):\n",
    "    AUGMENTED_DISTANCE_MATRIX[i] = length_distance(points[i], points)"
   ]
  },
  {
   "cell_type": "code",
   "execution_count": 6,
   "id": "c78baee3-4781-43f3-8ed7-14b608bfc952",
   "metadata": {},
   "outputs": [
    {
     "data": {
      "application/vnd.jupyter.widget-view+json": {
       "model_id": "4e400a576a6c4bd8adf3e9103aa458f8",
       "version_major": 2,
       "version_minor": 0
      },
      "text/plain": [
       "  0%|          | 0/1 [00:00<?, ?it/s]"
      ]
     },
     "metadata": {},
     "output_type": "display_data"
    },
    {
     "data": {
      "text/plain": [
       "25138.785452772318"
      ]
     },
     "execution_count": 6,
     "metadata": {},
     "output_type": "execute_result"
    }
   ],
   "source": [
    "optimal_path = None\n",
    "optimal_distance = float('inf')\n",
    "idx_pos = 0\n",
    "\n",
    "for _ in tqdm(range(1)):\n",
    "    \n",
    "    exploring_path = np.array([], dtype=int)\n",
    "    explore_points = deepcopy(points)\n",
    "    max_neighbors = 1\n",
    "    \n",
    "    pick_next = 0\n",
    "    exploring_path = np.append(exploring_path, pick_next)\n",
    "    \n",
    "    while exploring_path.size < nodeCount:\n",
    "        \n",
    "        neighbor_idx = np.argsort(DISTANCE_MATRIX[pick_next])\n",
    "        \n",
    "        mask = np.isin(neighbor_idx, exploring_path)\n",
    "        neighbor_idx = neighbor_idx[~mask]\n",
    "    \n",
    "        pick_next = np.random.choice(neighbor_idx[:max_neighbors])\n",
    "        \n",
    "        exploring_path = np.append(exploring_path, pick_next)\n",
    "\n",
    "    \n",
    "    total_distance = calculate_travel(exploring_path)\n",
    "\n",
    "    if total_distance < optimal_distance:\n",
    "        optimal_path = deepcopy(exploring_path)\n",
    "        optimal_distance = total_distance\n",
    "\n",
    "\n",
    "global_optimal_path = deepcopy(optimal_path)\n",
    "global_optimal_distance = deepcopy(optimal_distance)\n",
    "\n",
    "optimal_distance"
   ]
  },
  {
   "cell_type": "code",
   "execution_count": 7,
   "id": "c585556b-6fd5-4fb2-98ab-8f6ed2ec59ae",
   "metadata": {},
   "outputs": [],
   "source": [
    "\n",
    "# starting_path = np.array(range(nodeCount))\n",
    "# random.shuffle(starting_path)\n",
    "# starting_distance = calculate_travel(starting_path)\n",
    "\n",
    "starting_path =  deepcopy(np.array(global_optimal_path))\n",
    "starting_distance = deepcopy(global_optimal_distance)"
   ]
  },
  {
   "cell_type": "code",
   "execution_count": 8,
   "id": "3bd995da-f05c-4218-adfd-660a72cee27d",
   "metadata": {},
   "outputs": [
    {
     "data": {
      "text/plain": [
       "25138.785452772318"
      ]
     },
     "execution_count": 8,
     "metadata": {},
     "output_type": "execute_result"
    }
   ],
   "source": [
    "global_optimal_path = deepcopy(starting_path)\n",
    "global_optimal_distance = deepcopy(starting_distance)\n",
    "\n",
    "\n",
    "\n",
    "starting_distance"
   ]
  },
  {
   "cell_type": "code",
   "execution_count": 9,
   "id": "33b0cfa7-268f-42be-acec-d98e3fce15f0",
   "metadata": {},
   "outputs": [
    {
     "data": {
      "text/plain": [
       "(100, 20)"
      ]
     },
     "execution_count": 9,
     "metadata": {},
     "output_type": "execute_result"
    }
   ],
   "source": [
    "iter = 0\n",
    "max_iterations = 100000\n",
    "\n",
    "init_temperature = 100\n",
    "final_temperature = 1e-3\n",
    "cooling_rate = 0.9\n",
    "\n",
    "restart_counter = 0\n",
    "temperature = init_temperature\n",
    "global_temperature = init_temperature\n",
    "\n",
    "search_idx = 100 #nodeCount//5\n",
    "\n",
    "optimal_path = deepcopy(global_optimal_path)\n",
    "optimal_distance = global_optimal_distance\n",
    "\n",
    "last_known_distance = int(global_optimal_distance)\n",
    "\n",
    "tabu_limit = nodeCount//5\n",
    "tabu_list = TabuList(tabu_limit)\n",
    "\n",
    "search_idx, tabu_limit"
   ]
  },
  {
   "cell_type": "code",
   "execution_count": 10,
   "id": "b59e3969-2a97-4206-8e2c-5e40b1f9eee8",
   "metadata": {},
   "outputs": [
    {
     "data": {
      "application/vnd.jupyter.widget-view+json": {
       "model_id": "3d9f42caabd54c2288aebc0a11842757",
       "version_major": 2,
       "version_minor": 0
      },
      "text/plain": [
       "  0%|          | 0/100000 [00:00<?, ?it/s]"
      ]
     },
     "metadata": {},
     "output_type": "display_data"
    },
    {
     "name": "stdout",
     "output_type": "stream",
     "text": [
      "0 0 100 24301.3367 100 0.9\n",
      "8 10 100 23603.837 100 0.9\n",
      "2 20 100 23176.4119 100 0.9\n",
      "12 30 100 23132.0016 100 0.9\n",
      "1 40 100 23070.0539 100 0.9\n",
      "0 50 100 22894.0814 100 0.9\n",
      "9 60 100 22894.0814 100 0.9\n",
      "19 70 100 22894.0814 100 0.9\n",
      "2 80 100 22242.6466 100 0.9\n",
      "12 90 100 22242.6466 100 0.9\n",
      "22 100 100 22242.6466 100 0.9\n",
      "32 110 100 22242.6466 100 0.9\n",
      "42 120 100 22242.6466 100 0.9\n",
      "52 130 100 22242.6466 100 0.9\n",
      "62 140 100 22242.6466 100 0.9\n",
      "72 150 100 22242.6466 100 0.9\n",
      "82 160 100 22242.6466 100 0.9\n",
      "92 170 100 22242.6466 100 0.9\n",
      "0 180 100 22205.9559 90.09 0.9009\n",
      "10 190 100 21959.8502 90.09 0.9009\n",
      "9 200 100 21959.8502 90.09 0.9009\n",
      "19 210 100 21959.8502 90.09 0.9009\n",
      "29 220 100 21959.8502 90.09 0.9009\n",
      "39 230 100 21959.8502 90.09 0.9009\n",
      "49 240 100 21959.8502 90.09 0.9009\n",
      "59 250 100 21959.8502 90.09 0.9009\n",
      "69 260 100 21959.8502 90.09 0.9009\n",
      "79 270 100 21959.8502 90.09 0.9009\n",
      "89 280 100 21959.8502 90.09 0.9009\n",
      "99 290 100 21959.8502 90.09 0.9009\n",
      "9 300 100 21959.8502 81.2432 0.9018\n",
      "19 310 100 21959.8502 81.2432 0.9018\n",
      "29 320 100 21959.8502 81.2432 0.9018\n",
      "7 330 100 21909.6661 81.2432 0.9018\n",
      "17 340 100 21909.6661 81.2432 0.9018\n",
      "27 350 100 21909.6661 81.2432 0.9018\n",
      "37 360 100 21909.6661 81.2432 0.9018\n",
      "5 370 100 21606.3932 81.2432 0.9018\n",
      "2 380 100 21488.247 81.2432 0.9018\n",
      "12 390 100 21488.247 81.2432 0.9018\n",
      "22 400 100 21488.247 81.2432 0.9018\n",
      "32 410 100 21488.247 81.2432 0.9018\n",
      "42 420 100 21488.247 81.2432 0.9018\n",
      "52 430 100 21488.247 81.2432 0.9018\n",
      "62 440 100 21488.247 81.2432 0.9018\n",
      "72 450 100 21488.247 81.2432 0.9018\n",
      "82 460 100 21488.247 81.2432 0.9018\n",
      "92 470 100 21488.247 81.2432 0.9018\n",
      "2 480 100 21488.247 73.3385 0.9027\n",
      "12 490 100 21488.247 73.3385 0.9027\n",
      "22 500 100 21488.247 73.3385 0.9027\n",
      "32 510 100 21488.247 73.3385 0.9027\n",
      "42 520 100 21488.247 73.3385 0.9027\n",
      "8 530 100 21340.7107 73.3385 0.9027\n",
      "18 540 100 21340.7107 73.3385 0.9027\n",
      "8 550 100 21332.7963 73.3385 0.9027\n",
      "18 560 100 21332.7963 73.3385 0.9027\n",
      "28 570 100 21332.7963 73.3385 0.9027\n",
      "38 580 100 21332.7963 73.3385 0.9027\n",
      "48 590 100 21332.7963 73.3385 0.9027\n",
      "58 600 100 21332.7963 73.3385 0.9027\n",
      "68 610 100 21332.7963 73.3385 0.9027\n",
      "78 620 100 21332.7963 73.3385 0.9027\n",
      "88 630 100 21332.7963 73.3385 0.9027\n",
      "98 640 100 21332.7963 73.3385 0.9027\n",
      "2 650 100 21312.2155 66.2691 0.90361\n",
      "12 660 100 21312.2155 66.2691 0.90361\n",
      "22 670 100 21312.2155 66.2691 0.90361\n",
      "32 680 100 21312.2155 66.2691 0.90361\n",
      "42 690 100 21312.2155 66.2691 0.90361\n",
      "8 700 100 21285.7457 66.2691 0.90361\n",
      "18 710 100 21285.7457 66.2691 0.90361\n",
      "28 720 100 21285.7457 66.2691 0.90361\n",
      "38 730 100 21248.7812 66.2691 0.90361\n",
      "9 740 100 21248.7812 66.2691 0.90361\n",
      "8 750 100 21178.6588 66.2691 0.90361\n",
      "18 760 100 21178.6588 66.2691 0.90361\n",
      "28 770 100 21178.6588 66.2691 0.90361\n",
      "38 780 100 21178.6588 66.2691 0.90361\n",
      "48 790 100 21178.6588 66.2691 0.90361\n",
      "58 800 100 21178.6588 66.2691 0.90361\n",
      "68 810 100 21178.6588 66.2691 0.90361\n",
      "78 820 100 21178.6588 66.2691 0.90361\n",
      "88 830 100 21178.6588 66.2691 0.90361\n",
      "98 840 100 21178.6588 66.2691 0.90361\n",
      "8 850 100 21178.6588 59.941 0.90451\n",
      "18 860 100 21178.6588 59.941 0.90451\n",
      "3 870 100 21082.6576 59.941 0.90451\n",
      "7 880 100 21057.0392 59.941 0.90451\n",
      "17 890 100 21057.0392 59.941 0.90451\n",
      "3 900 100 20932.7279 59.941 0.90451\n",
      "13 910 100 20932.7279 59.941 0.90451\n",
      "23 920 100 20932.7279 59.941 0.90451\n",
      "33 930 100 20932.7279 59.941 0.90451\n",
      "43 940 100 20932.7279 59.941 0.90451\n",
      "4 950 100 20861.2342 59.941 0.90451\n",
      "14 960 100 20861.2342 59.941 0.90451\n",
      "24 970 100 20861.2342 59.941 0.90451\n",
      "34 980 100 20861.2342 59.941 0.90451\n",
      "44 990 100 20861.2342 59.941 0.90451\n",
      "54 1000 100 20861.2342 59.941 0.90451\n",
      "64 1010 100 20861.2342 59.941 0.90451\n",
      "74 1020 100 20861.2342 59.941 0.90451\n",
      "84 1030 100 20861.2342 59.941 0.90451\n",
      "94 1040 100 20861.2342 59.941 0.90451\n",
      "4 1050 100 20861.2342 54.2714 0.90541\n",
      "14 1060 100 20861.2342 54.2714 0.90541\n",
      "24 1070 100 20861.2342 54.2714 0.90541\n",
      "34 1080 100 20861.2342 54.2714 0.90541\n",
      "44 1090 100 20861.2342 54.2714 0.90541\n",
      "54 1100 100 20861.2342 54.2714 0.90541\n",
      "64 1110 100 20861.2342 54.2714 0.90541\n",
      "74 1120 100 20861.2342 54.2714 0.90541\n",
      "84 1130 100 20861.2342 54.2714 0.90541\n",
      "94 1140 100 20861.2342 54.2714 0.90541\n",
      "4 1150 100 20861.2342 54.3256 0.90632\n",
      "14 1160 100 20861.2342 54.3256 0.90632\n",
      "24 1170 100 20861.2342 54.3256 0.90632\n",
      "34 1180 100 20861.2342 54.3256 0.90632\n",
      "44 1190 100 20861.2342 54.3256 0.90632\n",
      "54 1200 100 20861.2342 54.3256 0.90632\n",
      "64 1210 100 20861.2342 54.3256 0.90632\n",
      "74 1220 100 20861.2342 54.3256 0.90632\n",
      "84 1230 100 20861.2342 54.3256 0.90632\n",
      "94 1240 100 20861.2342 54.3256 0.90632\n",
      "4 1250 100 20861.2342 54.38 0.90723\n",
      "14 1260 100 20861.2342 54.38 0.90723\n",
      "24 1270 100 20861.2342 54.38 0.90723\n",
      "6 1280 100 20758.8779 54.38 0.90723\n",
      "16 1290 100 20758.8779 54.38 0.90723\n",
      "26 1300 100 20758.8779 54.38 0.90723\n",
      "36 1310 100 20758.8779 54.38 0.90723\n",
      "46 1320 100 20758.8779 54.38 0.90723\n",
      "56 1330 100 20758.8779 54.38 0.90723\n",
      "66 1340 100 20758.8779 54.38 0.90723\n",
      "76 1350 100 20758.8779 54.38 0.90723\n",
      "86 1360 100 20758.8779 54.38 0.90723\n",
      "96 1370 100 20758.8779 54.38 0.90723\n",
      "6 1380 100 20758.8779 49.3842 0.90813\n",
      "16 1390 100 20758.8779 49.3842 0.90813\n",
      "26 1400 100 20758.8779 49.3842 0.90813\n",
      "36 1410 100 20758.8779 49.3842 0.90813\n",
      "46 1420 100 20758.8779 49.3842 0.90813\n",
      "56 1430 100 20758.8779 49.3842 0.90813\n",
      "66 1440 100 20758.8779 49.3842 0.90813\n",
      "76 1450 100 20758.8779 49.3842 0.90813\n",
      "86 1460 100 20758.8779 49.3842 0.90813\n",
      "96 1470 100 20758.8779 49.3842 0.90813\n",
      "6 1480 100 20758.8779 49.4336 0.90904\n",
      "16 1490 100 20758.8779 49.4336 0.90904\n",
      "26 1500 100 20758.8779 49.4336 0.90904\n",
      "36 1510 100 20758.8779 49.4336 0.90904\n",
      "46 1520 100 20758.8779 49.4336 0.90904\n"
     ]
    },
    {
     "ename": "KeyboardInterrupt",
     "evalue": "",
     "output_type": "error",
     "traceback": [
      "\u001b[1;31m---------------------------------------------------------------------------\u001b[0m",
      "\u001b[1;31mKeyboardInterrupt\u001b[0m                         Traceback (most recent call last)",
      "Cell \u001b[1;32mIn[10], line 20\u001b[0m\n\u001b[0;32m     17\u001b[0m point_idx1 \u001b[38;5;241m=\u001b[39m np\u001b[38;5;241m.\u001b[39mwhere(optimal_path\u001b[38;5;241m==\u001b[39malter_point)[\u001b[38;5;241m0\u001b[39m][\u001b[38;5;241m0\u001b[39m]\n\u001b[0;32m     19\u001b[0m \u001b[38;5;66;03m# get all the neighbors to that point        \u001b[39;00m\n\u001b[1;32m---> 20\u001b[0m sorted_neighbor_points \u001b[38;5;241m=\u001b[39m \u001b[43mnp\u001b[49m\u001b[38;5;241;43m.\u001b[39;49m\u001b[43margsort\u001b[49m\u001b[43m(\u001b[49m\u001b[43mDISTANCE_MATRIX\u001b[49m\u001b[43m[\u001b[49m\u001b[43malter_point\u001b[49m\u001b[43m]\u001b[49m\u001b[43m)\u001b[49m[\u001b[38;5;241m1\u001b[39m:search_idx]\n\u001b[0;32m     22\u001b[0m \u001b[38;5;66;03m# repeatedly do 2-opt for all the neighbors\u001b[39;00m\n\u001b[0;32m     23\u001b[0m \u001b[38;5;28;01mfor\u001b[39;00m neighbor_idx \u001b[38;5;129;01min\u001b[39;00m sorted_neighbor_points:\n",
      "File \u001b[1;32m<__array_function__ internals>:200\u001b[0m, in \u001b[0;36margsort\u001b[1;34m(*args, **kwargs)\u001b[0m\n",
      "File \u001b[1;32mD:\\Harsh\\Projects\\discreate-optimization-assignment\\venv\\lib\\site-packages\\numpy\\core\\fromnumeric.py:1146\u001b[0m, in \u001b[0;36margsort\u001b[1;34m(a, axis, kind, order)\u001b[0m\n\u001b[0;32m   1038\u001b[0m \u001b[38;5;129m@array_function_dispatch\u001b[39m(_argsort_dispatcher)\n\u001b[0;32m   1039\u001b[0m \u001b[38;5;28;01mdef\u001b[39;00m \u001b[38;5;21margsort\u001b[39m(a, axis\u001b[38;5;241m=\u001b[39m\u001b[38;5;241m-\u001b[39m\u001b[38;5;241m1\u001b[39m, kind\u001b[38;5;241m=\u001b[39m\u001b[38;5;28;01mNone\u001b[39;00m, order\u001b[38;5;241m=\u001b[39m\u001b[38;5;28;01mNone\u001b[39;00m):\n\u001b[0;32m   1040\u001b[0m \u001b[38;5;250m    \u001b[39m\u001b[38;5;124;03m\"\"\"\u001b[39;00m\n\u001b[0;32m   1041\u001b[0m \u001b[38;5;124;03m    Returns the indices that would sort an array.\u001b[39;00m\n\u001b[0;32m   1042\u001b[0m \n\u001b[1;32m   (...)\u001b[0m\n\u001b[0;32m   1144\u001b[0m \n\u001b[0;32m   1145\u001b[0m \u001b[38;5;124;03m    \"\"\"\u001b[39;00m\n\u001b[1;32m-> 1146\u001b[0m     \u001b[38;5;28;01mreturn\u001b[39;00m \u001b[43m_wrapfunc\u001b[49m\u001b[43m(\u001b[49m\u001b[43ma\u001b[49m\u001b[43m,\u001b[49m\u001b[43m \u001b[49m\u001b[38;5;124;43m'\u001b[39;49m\u001b[38;5;124;43margsort\u001b[39;49m\u001b[38;5;124;43m'\u001b[39;49m\u001b[43m,\u001b[49m\u001b[43m \u001b[49m\u001b[43maxis\u001b[49m\u001b[38;5;241;43m=\u001b[39;49m\u001b[43maxis\u001b[49m\u001b[43m,\u001b[49m\u001b[43m \u001b[49m\u001b[43mkind\u001b[49m\u001b[38;5;241;43m=\u001b[39;49m\u001b[43mkind\u001b[49m\u001b[43m,\u001b[49m\u001b[43m \u001b[49m\u001b[43morder\u001b[49m\u001b[38;5;241;43m=\u001b[39;49m\u001b[43morder\u001b[49m\u001b[43m)\u001b[49m\n",
      "File \u001b[1;32mD:\\Harsh\\Projects\\discreate-optimization-assignment\\venv\\lib\\site-packages\\numpy\\core\\fromnumeric.py:57\u001b[0m, in \u001b[0;36m_wrapfunc\u001b[1;34m(obj, method, *args, **kwds)\u001b[0m\n\u001b[0;32m     54\u001b[0m     \u001b[38;5;28;01mreturn\u001b[39;00m _wrapit(obj, method, \u001b[38;5;241m*\u001b[39margs, \u001b[38;5;241m*\u001b[39m\u001b[38;5;241m*\u001b[39mkwds)\n\u001b[0;32m     56\u001b[0m \u001b[38;5;28;01mtry\u001b[39;00m:\n\u001b[1;32m---> 57\u001b[0m     \u001b[38;5;28;01mreturn\u001b[39;00m bound(\u001b[38;5;241m*\u001b[39margs, \u001b[38;5;241m*\u001b[39m\u001b[38;5;241m*\u001b[39mkwds)\n\u001b[0;32m     58\u001b[0m \u001b[38;5;28;01mexcept\u001b[39;00m \u001b[38;5;167;01mTypeError\u001b[39;00m:\n\u001b[0;32m     59\u001b[0m     \u001b[38;5;66;03m# A TypeError occurs if the object does have such a method in its\u001b[39;00m\n\u001b[0;32m     60\u001b[0m     \u001b[38;5;66;03m# class, but its signature is not identical to that of NumPy's. This\u001b[39;00m\n\u001b[1;32m   (...)\u001b[0m\n\u001b[0;32m     64\u001b[0m     \u001b[38;5;66;03m# Call _wrapit from within the except clause to ensure a potential\u001b[39;00m\n\u001b[0;32m     65\u001b[0m     \u001b[38;5;66;03m# exception has a traceback chain.\u001b[39;00m\n\u001b[0;32m     66\u001b[0m     \u001b[38;5;28;01mreturn\u001b[39;00m _wrapit(obj, method, \u001b[38;5;241m*\u001b[39margs, \u001b[38;5;241m*\u001b[39m\u001b[38;5;241m*\u001b[39mkwds)\n",
      "\u001b[1;31mKeyboardInterrupt\u001b[0m: "
     ]
    }
   ],
   "source": [
    "for iter in tqdm(range(max_iterations)):\n",
    "    \n",
    "    if temperature < final_temperature:\n",
    "        break\n",
    "    \n",
    "    for _ in range(100):\n",
    "    # for alter_point in range(nodeCount):\n",
    "        \n",
    "        # pick a random point or pick points carefully        \n",
    "        alter_point = random.choice(range(nodeCount))\n",
    "\n",
    "        while tabu_list.is_present(alter_point):\n",
    "            alter_point = random.choice(range(nodeCount))\n",
    "\n",
    "        tabu_list.insert(alter_point)\n",
    "        \n",
    "        point_idx1 = np.where(optimal_path==alter_point)[0][0]\n",
    "    \n",
    "        # get all the neighbors to that point        \n",
    "        sorted_neighbor_points = np.argsort(DISTANCE_MATRIX[alter_point])[1:search_idx]\n",
    "        \n",
    "        # repeatedly do 2-opt for all the neighbors\n",
    "        for neighbor_idx in sorted_neighbor_points:\n",
    "           \n",
    "            point_idx2 = np.where(optimal_path==neighbor_idx)[0][0]\n",
    "            new_path = do_2opt(point_idx1, point_idx2, optimal_path)\n",
    "            new_distance = calculate_travel(new_path)\n",
    "        \n",
    "            delta = new_distance - optimal_distance\n",
    "            acceptance_prob = np.exp(-delta/temperature)\n",
    "            to_pick_prob = random.random()\n",
    "            \n",
    "            if delta < 0 or to_pick_prob < acceptance_prob:\n",
    "                \n",
    "                optimal_path = new_path.copy()\n",
    "                optimal_distance = new_distance\n",
    "                \n",
    "                if new_distance < global_optimal_distance:\n",
    "                    global_optimal_path = new_path.copy()\n",
    "                    global_optimal_distance = new_distance\n",
    "                    global_temperature = temperature\n",
    "\n",
    "    \n",
    "    if iter%10 == 0:\n",
    "        print(restart_counter, iter, search_idx, round(global_optimal_distance, 4), round(temperature, 4), round(cooling_rate, 5))\n",
    "\n",
    "\n",
    "    if round(global_optimal_distance, 1) < last_known_distance:\n",
    "        last_known_distance = round(global_optimal_distance, 1)\n",
    "        restart_counter = 0\n",
    "    else:\n",
    "        restart_counter += 1\n",
    "\n",
    "\n",
    "    if restart_counter >= 100:\n",
    "                \n",
    "        if cooling_rate*1.001 < 0.995:\n",
    "            restart_counter = 0  \n",
    "            cooling_rate *= 1.001\n",
    "            if global_temperature != init_temperature:\n",
    "                temperature = global_temperature\n",
    "\n",
    "        elif iter % 10 == 0 and search_idx > 10:\n",
    "            restart_counter = 0\n",
    "            search_idx = int(search_idx//1.1)\n",
    "            if global_temperature != init_temperature:\n",
    "                temperature = global_temperature\n",
    "            \n",
    "        temperature *= cooling_rate\n",
    "   \n",
    "\n",
    "    # if iter % 100 == 0 and search_idx > 15:\n",
    "    #     search_idx -= 5\n",
    "        \n",
    "    # if restart_counter > 100 and temperature < 0.1:\n",
    "    #     print(\"long due. ending loops\")\n",
    "    #     break"
   ]
  },
  {
   "cell_type": "code",
   "execution_count": 15,
   "id": "f7fe0391-4834-435e-9595-721be60b7f42",
   "metadata": {},
   "outputs": [
    {
     "data": {
      "text/plain": [
       "20758.877866531268"
      ]
     },
     "execution_count": 15,
     "metadata": {},
     "output_type": "execute_result"
    }
   ],
   "source": [
    "output_data = '%.2f' % global_optimal_distance + ' ' + str(0) + '\\n'\n",
    "output_data += ' '.join(map(str, global_optimal_path))\n",
    "\n",
    "global_optimal_distance"
   ]
  },
  {
   "cell_type": "code",
   "execution_count": 16,
   "id": "7e77a096-4a36-4130-a387-68cdfd114b00",
   "metadata": {},
   "outputs": [],
   "source": [
    "with open(r'./results/tsp_100_3.txt', 'w') as file:\n",
    "    # Write the Python code to the file\n",
    "    file.write(output_data)"
   ]
  },
  {
   "cell_type": "code",
   "execution_count": null,
   "id": "78a6de49-2644-461f-8213-2b681078cef6",
   "metadata": {},
   "outputs": [],
   "source": []
  },
  {
   "cell_type": "code",
   "execution_count": null,
   "id": "aa0b991c-2103-4f6f-b84c-9503cb60c0ff",
   "metadata": {},
   "outputs": [],
   "source": []
  },
  {
   "cell_type": "code",
   "execution_count": null,
   "id": "9cc21f3b-ee8d-4e32-b561-3b60d854caf2",
   "metadata": {},
   "outputs": [],
   "source": [
    "# edge_x = []\n",
    "# edge_y = []\n",
    "\n",
    "# for idx, connections in tqdm(enumerate(graph_paths)):\n",
    "    \n",
    "#     x0, y0 = points[idx]\n",
    "    \n",
    "#     for connect in connections:\n",
    "#         x1, y1 = points[connect]\n",
    "    \n",
    "#         edge_x.append(x0)\n",
    "#         edge_x.append(x1)\n",
    "#         edge_x.append(None)\n",
    "        \n",
    "#         edge_y.append(y0)\n",
    "#         edge_y.append(y1)\n",
    "#         edge_y.append(None)\n",
    "\n",
    "edge_x = []\n",
    "edge_y = []\n",
    "\n",
    "for idx in tqdm(list(global_optimal_path) + [list(global_optimal_path)[0]]):\n",
    "    \n",
    "    x0, y0 = points[idx]\n",
    "    \n",
    "    edge_x.append(x0)\n",
    "    edge_y.append(y0)"
   ]
  },
  {
   "cell_type": "code",
   "execution_count": null,
   "id": "13549cac-dd42-4c19-96a6-3b6fac10660d",
   "metadata": {},
   "outputs": [],
   "source": [
    "\n",
    "\n",
    "fig = go.Figure(data=go.Scattergl(\n",
    "    x=edge_x,\n",
    "    y=edge_y,\n",
    "    mode=\"markers+lines\",\n",
    "    # mode=\"markers\"\n",
    "))\n",
    "fig.update_layout(height=750)\n",
    "fig.show()\n"
   ]
  },
  {
   "cell_type": "code",
   "execution_count": null,
   "id": "2ef4755c-23d7-4b78-b55e-c72e7345ae72",
   "metadata": {},
   "outputs": [],
   "source": [
    "\n",
    "\n",
    "fig = go.Figure(data=go.Scattergl(\n",
    "    x=edge_x,\n",
    "    y=edge_y,\n",
    "    mode=\"markers+lines\",\n",
    "    # mode=\"markers\"\n",
    "))\n",
    "fig.update_layout(height=750)\n",
    "fig.show()\n"
   ]
  },
  {
   "cell_type": "code",
   "execution_count": null,
   "id": "e00b0c45-595d-494e-9e74-345443a10e9c",
   "metadata": {},
   "outputs": [],
   "source": []
  },
  {
   "cell_type": "code",
   "execution_count": null,
   "id": "7bb597a2-1914-46c4-880a-e8d97a5d6881",
   "metadata": {},
   "outputs": [],
   "source": []
  },
  {
   "cell_type": "code",
   "execution_count": null,
   "id": "273c7879-5704-46d3-aba3-ade43957e266",
   "metadata": {},
   "outputs": [],
   "source": []
  },
  {
   "cell_type": "code",
   "execution_count": null,
   "id": "d9ef527f-fd17-48b9-a983-e29c391efdae",
   "metadata": {},
   "outputs": [],
   "source": [
    "fig = go.Figure(data=go.Scattergl(\n",
    "    x=edge_x,\n",
    "    y=edge_y,\n",
    "    mode=\"markers+lines\",\n",
    "    # mode=\"markers\"\n",
    "))\n",
    "fig.update_layout(width=1200, height=1200*layout_ratio)\n",
    "fig.show()"
   ]
  },
  {
   "cell_type": "code",
   "execution_count": null,
   "id": "3fdd1b5b-06ba-426c-97d1-e23e5480fa22",
   "metadata": {},
   "outputs": [],
   "source": [
    "\n",
    "x_points = [x for x, y in points]\n",
    "y_points = [y for x, y in points]\n",
    "layout_ratio = max(x_points)/max(y_points)\n",
    "\n",
    "fig = go.Figure(data=go.Scattergl(\n",
    "    x=x_points,\n",
    "    y=y_points,\n",
    "    # mode=\"markers+lines\",\n",
    "    mode=\"markers\"\n",
    "))\n",
    "fig.update_layout(width=1200, height=1200*layout_ratio)\n",
    "fig.show()"
   ]
  },
  {
   "cell_type": "code",
   "execution_count": null,
   "id": "b92dc545-ca38-4dda-a9cc-63e6920e9239",
   "metadata": {},
   "outputs": [],
   "source": [
    "\n",
    "x_points = [x for x, y in exploring_path]\n",
    "y_points = [y for x, y in exploring_path]\n",
    "layout_ratio = max(x_points)/max(y_points)\n",
    "\n",
    "fig = go.Figure(data=go.Scattergl(\n",
    "    x=x_points,\n",
    "    y=y_points,\n",
    "    mode=\"markers+lines\",\n",
    "    # mode=\"markers\"\n",
    "))\n",
    "fig.update_layout(width=1200, height=1200*layout_ratio)\n",
    "fig.show()"
   ]
  },
  {
   "cell_type": "code",
   "execution_count": null,
   "id": "600b786d-f6cb-4802-997b-a32d384a3fca",
   "metadata": {},
   "outputs": [],
   "source": [
    "# for iter in tqdm(range(max_iterations)):\n",
    "    \n",
    "#     if temperature < final_temperature:\n",
    "#         break\n",
    "        \n",
    "#     for _ in range(10):\n",
    "        \n",
    "#         # pick a random point or pick points carefully\n",
    "#         alter_point = random.choice(range(total_nodes))\n",
    "        \n",
    "#         point_idx1 = optimal_path.index(alter_point)\n",
    "    \n",
    "#         # get all the neighbors to that point        \n",
    "#         sorted_neighbor_points = np.argsort(DISTANCE_MATRIX[alter_point])[1:search_idx]\n",
    "        \n",
    "#         # repeatedly do 2-opt for all the neighbors\n",
    "#         for neighbor_idx in sorted_neighbor_points:\n",
    "    \n",
    "#             point_idx2 = optimal_path.index(neighbor_idx)\n",
    "#             new_path = do_2opt(point_idx1, point_idx2, optimal_path)\n",
    "#             new_distance = calculate_travel(new_path, points)\n",
    "        \n",
    "#             delta = new_distance - optimal_distance\n",
    "#             acceptance_prob = np.exp(-delta/temperature)\n",
    "#             to_pick_prob = random.random()\n",
    "            \n",
    "    \n",
    "#             if delta < 0 or to_pick_prob < acceptance_prob:\n",
    "                \n",
    "#                 optimal_path = new_path.copy()\n",
    "#                 optimal_distance = new_distance\n",
    "                \n",
    "#                 if new_distance < global_optimal_distance:\n",
    "#                     global_optimal_path = new_path.copy()\n",
    "#                     global_optimal_distance = new_distance\n",
    "#                     global_temperature = temperature\n",
    "    \n",
    "#             # else:\n",
    "#             #     optimal_path = global_optimal_path.copy()\n",
    "#             #     optimal_distance = global_optimal_distance\n",
    "                \n",
    "\n",
    "#     if iter%10 == 0:\n",
    "#         print(restart_counter, iter, search_idx, round(global_optimal_distance, 4), round(temperature, 4), round(cooling_rate, 5))\n",
    "\n",
    "\n",
    "#     if round(global_optimal_distance, 1) < last_known_distance:\n",
    "#         last_known_distance = round(global_optimal_distance, 1)\n",
    "#         restart_counter = 0\n",
    "#     else:\n",
    "#         restart_counter += 1\n",
    "\n",
    "\n",
    "#     if restart_counter >= 3:\n",
    "                \n",
    "#         if cooling_rate*1.001 < 0.995:\n",
    "#             restart_counter = 0  \n",
    "#             cooling_rate *= 1.001\n",
    "#             if global_temperature != init_temperature:\n",
    "#                 temperature = global_temperature\n",
    "\n",
    "#         elif iter % 10 == 0 and search_idx > 25:\n",
    "#             restart_counter = 0\n",
    "#             search_idx = int(search_idx//1.1)\n",
    "            \n",
    "#         temperature *= cooling_rate\n",
    "   \n",
    "\n",
    "#     # if iter % 100 == 0 and search_idx > 15:\n",
    "#     #     search_idx -= 5\n",
    "        \n",
    "#     # if restart_counter > 100 and temperature < 0.1:\n",
    "#     #     print(\"long due. ending loops\")\n",
    "#     #     break"
   ]
  },
  {
   "cell_type": "code",
   "execution_count": null,
   "id": "54049a66-dc87-49b8-b1e5-81eb22f6b241",
   "metadata": {},
   "outputs": [],
   "source": [
    "# for iter in tqdm(range(max_iterations)):\n",
    "    \n",
    "#     if temperature < final_temperature:\n",
    "#         break\n",
    "        \n",
    "#     for _ in range(100000):\n",
    "        \n",
    "#         # pick a random point or pick points carefully\n",
    "#         alter_point1, alter_point2 = random.sample(range(nodeCount), 2)\n",
    "        \n",
    "#         # point_idx1 = optimal_path.index(alter_point1)\n",
    "#         # point_idx2 = optimal_path.index(alter_point2)\n",
    "\n",
    "#         while tabu_list.is_present(alter_point1) and tabu_list.is_present(alter_point2):\n",
    "#             alter_point1, alter_point2 = random.sample(range(nodeCount), 2)\n",
    "\n",
    "#         tabu_list.insert(alter_point1)\n",
    "#         tabu_list.insert(alter_point2)\n",
    "\n",
    "#         point_idx1 = np.where(optimal_path==alter_point1)[0][0]\n",
    "#         point_idx2 = np.where(optimal_path==alter_point2)[0][0]\n",
    "    \n",
    "#         new_path = do_2opt(point_idx1, point_idx2, optimal_path)\n",
    "#         new_distance = calculate_travel(new_path)\n",
    "    \n",
    "#         delta = new_distance - optimal_distance\n",
    "#         acceptance_prob = np.exp(-delta/temperature)\n",
    "#         to_pick_prob = random.random()\n",
    "        \n",
    "\n",
    "#         if delta < 0 or to_pick_prob < acceptance_prob:\n",
    "            \n",
    "#             optimal_path = new_path.copy()\n",
    "#             optimal_distance = new_distance\n",
    "            \n",
    "#             if new_distance < global_optimal_distance:\n",
    "#                 global_optimal_path = new_path.copy()\n",
    "#                 global_optimal_distance = new_distance\n",
    "#                 global_temperature = temperature\n",
    "    \n",
    "#             # else:\n",
    "#             #     optimal_path = global_optimal_path.copy()\n",
    "#             #     optimal_distance = global_optimal_distance\n",
    "                \n",
    "\n",
    "#     if iter%10 == 0:\n",
    "#         print(restart_counter, iter, search_idx, round(global_optimal_distance, 4), round(temperature, 4), round(cooling_rate, 5))\n",
    "\n",
    "\n",
    "#     if round(global_optimal_distance, 1) < last_known_distance:\n",
    "#         last_known_distance = round(global_optimal_distance, 1)\n",
    "#         restart_counter = 0\n",
    "#     else:\n",
    "#         restart_counter += 1\n",
    "\n",
    "\n",
    "#     if restart_counter >= 3:\n",
    "                \n",
    "#         if cooling_rate*1.001 < 0.995:\n",
    "#             restart_counter = 0  \n",
    "#             cooling_rate *= 1.001\n",
    "#             if global_temperature != init_temperature:\n",
    "#                 temperature = global_temperature\n",
    "            \n",
    "#         temperature *= cooling_rate\n",
    "   \n",
    "\n",
    "#     # if iter % 100 == 0 and search_idx > 15:\n",
    "#     #     search_idx -= 5\n",
    "        \n",
    "#     # if restart_counter > 20:\n",
    "#     #     print(\"long due. ending loops\")\n",
    "#     #     break"
   ]
  }
 ],
 "metadata": {
  "kernelspec": {
   "display_name": "Python 3 (ipykernel)",
   "language": "python",
   "name": "python3"
  },
  "language_info": {
   "codemirror_mode": {
    "name": "ipython",
    "version": 3
   },
   "file_extension": ".py",
   "mimetype": "text/x-python",
   "name": "python",
   "nbconvert_exporter": "python",
   "pygments_lexer": "ipython3",
   "version": "3.10.11"
  },
  "widgets": {
   "application/vnd.jupyter.widget-state+json": {
    "state": {
     "066554d760f84e5baa792397a5b972e1": {
      "model_module": "@jupyter-widgets/controls",
      "model_module_version": "2.0.0",
      "model_name": "HTMLStyleModel",
      "state": {
       "description_width": "",
       "font_size": null,
       "text_color": null
      }
     },
     "08e435071e704d8a8d76f31bf8b4eb6b": {
      "model_module": "@jupyter-widgets/base",
      "model_module_version": "2.0.0",
      "model_name": "LayoutModel",
      "state": {}
     },
     "0cde0688c0a040e795eff58d6a8b1633": {
      "model_module": "@jupyter-widgets/base",
      "model_module_version": "2.0.0",
      "model_name": "LayoutModel",
      "state": {}
     },
     "0ec8ed34dcb24e65bdcbb448a925ac38": {
      "model_module": "@jupyter-widgets/controls",
      "model_module_version": "2.0.0",
      "model_name": "HTMLStyleModel",
      "state": {
       "description_width": "",
       "font_size": null,
       "text_color": null
      }
     },
     "100709ece499442f94cee6c90eee8cdc": {
      "model_module": "@jupyter-widgets/controls",
      "model_module_version": "2.0.0",
      "model_name": "ProgressStyleModel",
      "state": {
       "description_width": ""
      }
     },
     "167a890ca03a487b936df75415f0f3c2": {
      "model_module": "@jupyter-widgets/base",
      "model_module_version": "2.0.0",
      "model_name": "LayoutModel",
      "state": {}
     },
     "1852ae2e6ab74232ac500d87ce52d8ce": {
      "model_module": "@jupyter-widgets/controls",
      "model_module_version": "2.0.0",
      "model_name": "HTMLModel",
      "state": {
       "layout": "IPY_MODEL_7ccb36ee43bf47d8aa34bec977bd7efe",
       "style": "IPY_MODEL_f632d11e7fd64a6cb23fd138d7c53927",
       "value": " 1530/100000 [01:18&lt;1:24:09, 19.50it/s]"
      }
     },
     "190cd1d45cd1473d91592a01d1e59a08": {
      "model_module": "@jupyter-widgets/controls",
      "model_module_version": "2.0.0",
      "model_name": "HBoxModel",
      "state": {
       "children": [
        "IPY_MODEL_46b6b7926daa41bc844e9d36aef1057e",
        "IPY_MODEL_f6aeb31841b640ecbd4679e359c8a0a4",
        "IPY_MODEL_52563bf8493a4c7986d75213a935036f"
       ],
       "layout": "IPY_MODEL_9a2f792905004536895ad6a8ecee1a2d"
      }
     },
     "32c459cc2392478593feb93e785c0ffc": {
      "model_module": "@jupyter-widgets/controls",
      "model_module_version": "2.0.0",
      "model_name": "HTMLModel",
      "state": {
       "layout": "IPY_MODEL_c398a5cf43414ca09370d111b85045ab",
       "style": "IPY_MODEL_471cc57a63e64471ac56d757bbb6249f",
       "value": "100%"
      }
     },
     "3d9f42caabd54c2288aebc0a11842757": {
      "model_module": "@jupyter-widgets/controls",
      "model_module_version": "2.0.0",
      "model_name": "HBoxModel",
      "state": {
       "children": [
        "IPY_MODEL_baf4a3193197449cb7936f49296357c5",
        "IPY_MODEL_dc9eeb07a9d24d1783eddfe27f7cafaf",
        "IPY_MODEL_1852ae2e6ab74232ac500d87ce52d8ce"
       ],
       "layout": "IPY_MODEL_b3f7a89033c94952b35fa12d52ccaee7"
      }
     },
     "46b6b7926daa41bc844e9d36aef1057e": {
      "model_module": "@jupyter-widgets/controls",
      "model_module_version": "2.0.0",
      "model_name": "HTMLModel",
      "state": {
       "layout": "IPY_MODEL_a2194c3412ee430ea8c0b1921f18258b",
       "style": "IPY_MODEL_066554d760f84e5baa792397a5b972e1",
       "value": "100%"
      }
     },
     "471cc57a63e64471ac56d757bbb6249f": {
      "model_module": "@jupyter-widgets/controls",
      "model_module_version": "2.0.0",
      "model_name": "HTMLStyleModel",
      "state": {
       "description_width": "",
       "font_size": null,
       "text_color": null
      }
     },
     "4e400a576a6c4bd8adf3e9103aa458f8": {
      "model_module": "@jupyter-widgets/controls",
      "model_module_version": "2.0.0",
      "model_name": "HBoxModel",
      "state": {
       "children": [
        "IPY_MODEL_32c459cc2392478593feb93e785c0ffc",
        "IPY_MODEL_655a05bafcfb4be2a81b80b5a5b14dca",
        "IPY_MODEL_b1a44212b6e64f54b2375b6fe732fdf4"
       ],
       "layout": "IPY_MODEL_88a85a1178814656a3dd1c7d2e276c7d"
      }
     },
     "52563bf8493a4c7986d75213a935036f": {
      "model_module": "@jupyter-widgets/controls",
      "model_module_version": "2.0.0",
      "model_name": "HTMLModel",
      "state": {
       "layout": "IPY_MODEL_979d3ff5c04b43d8bd33f62bc88da994",
       "style": "IPY_MODEL_6ecf64e9879045d8b777c2a92320555e",
       "value": " 100/100 [00:00&lt;00:00, 16707.05it/s]"
      }
     },
     "565d87838290491ea8036964d85ad7f2": {
      "model_module": "@jupyter-widgets/base",
      "model_module_version": "2.0.0",
      "model_name": "LayoutModel",
      "state": {}
     },
     "59d8600b552d402f917862f1263342cb": {
      "model_module": "@jupyter-widgets/controls",
      "model_module_version": "2.0.0",
      "model_name": "ProgressStyleModel",
      "state": {
       "description_width": ""
      }
     },
     "655a05bafcfb4be2a81b80b5a5b14dca": {
      "model_module": "@jupyter-widgets/controls",
      "model_module_version": "2.0.0",
      "model_name": "FloatProgressModel",
      "state": {
       "bar_style": "success",
       "layout": "IPY_MODEL_08e435071e704d8a8d76f31bf8b4eb6b",
       "max": 1,
       "style": "IPY_MODEL_c64a5f718a814d378ff7a5e0108ed3df",
       "value": 1
      }
     },
     "66ae51355d3e497ea6fff27e6a65fa62": {
      "model_module": "@jupyter-widgets/controls",
      "model_module_version": "2.0.0",
      "model_name": "HBoxModel",
      "state": {
       "children": [
        "IPY_MODEL_7eef7a572f924a7d84c272a46d8707ed",
        "IPY_MODEL_6a3d2e7a95c141a7a4a5c366da060753",
        "IPY_MODEL_7af549897bec49a0837ad1f3d6347e9c"
       ],
       "layout": "IPY_MODEL_565d87838290491ea8036964d85ad7f2"
      }
     },
     "6a3d2e7a95c141a7a4a5c366da060753": {
      "model_module": "@jupyter-widgets/controls",
      "model_module_version": "2.0.0",
      "model_name": "FloatProgressModel",
      "state": {
       "bar_style": "success",
       "layout": "IPY_MODEL_70d47b5584444c129b34507152b8095e",
       "style": "IPY_MODEL_59d8600b552d402f917862f1263342cb",
       "value": 100
      }
     },
     "6ecf64e9879045d8b777c2a92320555e": {
      "model_module": "@jupyter-widgets/controls",
      "model_module_version": "2.0.0",
      "model_name": "HTMLStyleModel",
      "state": {
       "description_width": "",
       "font_size": null,
       "text_color": null
      }
     },
     "70d47b5584444c129b34507152b8095e": {
      "model_module": "@jupyter-widgets/base",
      "model_module_version": "2.0.0",
      "model_name": "LayoutModel",
      "state": {}
     },
     "7af549897bec49a0837ad1f3d6347e9c": {
      "model_module": "@jupyter-widgets/controls",
      "model_module_version": "2.0.0",
      "model_name": "HTMLModel",
      "state": {
       "layout": "IPY_MODEL_985c8f5c784847d7bf45fffb54638128",
       "style": "IPY_MODEL_ef2133718b9b4d55853a31bad4432753",
       "value": " 100/100 [00:00&lt;00:00,  1.71it/s]"
      }
     },
     "7ccb36ee43bf47d8aa34bec977bd7efe": {
      "model_module": "@jupyter-widgets/base",
      "model_module_version": "2.0.0",
      "model_name": "LayoutModel",
      "state": {}
     },
     "7eef7a572f924a7d84c272a46d8707ed": {
      "model_module": "@jupyter-widgets/controls",
      "model_module_version": "2.0.0",
      "model_name": "HTMLModel",
      "state": {
       "layout": "IPY_MODEL_d9c520ac50b543c493a48f413a859c88",
       "style": "IPY_MODEL_df7ae377950a4785b075e2b9cd79bbbc",
       "value": "100%"
      }
     },
     "88a85a1178814656a3dd1c7d2e276c7d": {
      "model_module": "@jupyter-widgets/base",
      "model_module_version": "2.0.0",
      "model_name": "LayoutModel",
      "state": {}
     },
     "8beec10c812644e4a3f713af98640a55": {
      "model_module": "@jupyter-widgets/controls",
      "model_module_version": "2.0.0",
      "model_name": "HTMLStyleModel",
      "state": {
       "description_width": "",
       "font_size": null,
       "text_color": null
      }
     },
     "979d3ff5c04b43d8bd33f62bc88da994": {
      "model_module": "@jupyter-widgets/base",
      "model_module_version": "2.0.0",
      "model_name": "LayoutModel",
      "state": {}
     },
     "985c8f5c784847d7bf45fffb54638128": {
      "model_module": "@jupyter-widgets/base",
      "model_module_version": "2.0.0",
      "model_name": "LayoutModel",
      "state": {}
     },
     "9a2f792905004536895ad6a8ecee1a2d": {
      "model_module": "@jupyter-widgets/base",
      "model_module_version": "2.0.0",
      "model_name": "LayoutModel",
      "state": {}
     },
     "a2194c3412ee430ea8c0b1921f18258b": {
      "model_module": "@jupyter-widgets/base",
      "model_module_version": "2.0.0",
      "model_name": "LayoutModel",
      "state": {}
     },
     "a7a98940a0f443c3973fee68df2dcc10": {
      "model_module": "@jupyter-widgets/base",
      "model_module_version": "2.0.0",
      "model_name": "LayoutModel",
      "state": {}
     },
     "b1a44212b6e64f54b2375b6fe732fdf4": {
      "model_module": "@jupyter-widgets/controls",
      "model_module_version": "2.0.0",
      "model_name": "HTMLModel",
      "state": {
       "layout": "IPY_MODEL_cadf126735da45ad98f76400fbb46ce6",
       "style": "IPY_MODEL_8beec10c812644e4a3f713af98640a55",
       "value": " 1/1 [00:00&lt;00:00,  7.83it/s]"
      }
     },
     "b3f7a89033c94952b35fa12d52ccaee7": {
      "model_module": "@jupyter-widgets/base",
      "model_module_version": "2.0.0",
      "model_name": "LayoutModel",
      "state": {}
     },
     "baf4a3193197449cb7936f49296357c5": {
      "model_module": "@jupyter-widgets/controls",
      "model_module_version": "2.0.0",
      "model_name": "HTMLModel",
      "state": {
       "layout": "IPY_MODEL_0cde0688c0a040e795eff58d6a8b1633",
       "style": "IPY_MODEL_0ec8ed34dcb24e65bdcbb448a925ac38",
       "value": "  2%"
      }
     },
     "bb259258a95341e3ad9d149fc8ae23f3": {
      "model_module": "@jupyter-widgets/controls",
      "model_module_version": "2.0.0",
      "model_name": "ProgressStyleModel",
      "state": {
       "description_width": ""
      }
     },
     "c398a5cf43414ca09370d111b85045ab": {
      "model_module": "@jupyter-widgets/base",
      "model_module_version": "2.0.0",
      "model_name": "LayoutModel",
      "state": {}
     },
     "c64a5f718a814d378ff7a5e0108ed3df": {
      "model_module": "@jupyter-widgets/controls",
      "model_module_version": "2.0.0",
      "model_name": "ProgressStyleModel",
      "state": {
       "description_width": ""
      }
     },
     "cadf126735da45ad98f76400fbb46ce6": {
      "model_module": "@jupyter-widgets/base",
      "model_module_version": "2.0.0",
      "model_name": "LayoutModel",
      "state": {}
     },
     "d9c520ac50b543c493a48f413a859c88": {
      "model_module": "@jupyter-widgets/base",
      "model_module_version": "2.0.0",
      "model_name": "LayoutModel",
      "state": {}
     },
     "dc9eeb07a9d24d1783eddfe27f7cafaf": {
      "model_module": "@jupyter-widgets/controls",
      "model_module_version": "2.0.0",
      "model_name": "FloatProgressModel",
      "state": {
       "bar_style": "danger",
       "layout": "IPY_MODEL_a7a98940a0f443c3973fee68df2dcc10",
       "max": 100000,
       "style": "IPY_MODEL_bb259258a95341e3ad9d149fc8ae23f3",
       "value": 1530
      }
     },
     "df7ae377950a4785b075e2b9cd79bbbc": {
      "model_module": "@jupyter-widgets/controls",
      "model_module_version": "2.0.0",
      "model_name": "HTMLStyleModel",
      "state": {
       "description_width": "",
       "font_size": null,
       "text_color": null
      }
     },
     "ef2133718b9b4d55853a31bad4432753": {
      "model_module": "@jupyter-widgets/controls",
      "model_module_version": "2.0.0",
      "model_name": "HTMLStyleModel",
      "state": {
       "description_width": "",
       "font_size": null,
       "text_color": null
      }
     },
     "f632d11e7fd64a6cb23fd138d7c53927": {
      "model_module": "@jupyter-widgets/controls",
      "model_module_version": "2.0.0",
      "model_name": "HTMLStyleModel",
      "state": {
       "description_width": "",
       "font_size": null,
       "text_color": null
      }
     },
     "f6aeb31841b640ecbd4679e359c8a0a4": {
      "model_module": "@jupyter-widgets/controls",
      "model_module_version": "2.0.0",
      "model_name": "FloatProgressModel",
      "state": {
       "bar_style": "success",
       "layout": "IPY_MODEL_167a890ca03a487b936df75415f0f3c2",
       "style": "IPY_MODEL_100709ece499442f94cee6c90eee8cdc",
       "value": 100
      }
     }
    },
    "version_major": 2,
    "version_minor": 0
   }
  }
 },
 "nbformat": 4,
 "nbformat_minor": 5
}
