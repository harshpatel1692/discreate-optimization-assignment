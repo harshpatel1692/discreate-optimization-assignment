{
 "cells": [
  {
   "cell_type": "code",
   "execution_count": 1,
   "id": "4e2a2f80-2308-4b30-9d97-4b42fc14159d",
   "metadata": {},
   "outputs": [],
   "source": [
    "import math\n",
    "from collections import namedtuple\n",
    "import plotly.graph_objects as go\n",
    "import plotly.express as px\n",
    "import numpy as np\n",
    "from copy import deepcopy\n",
    "from tqdm import tqdm\n",
    "from tqdm.notebook import tqdm\n",
    "import random\n",
    "\n",
    "import numba as nb\n",
    "# from numba import jit, vectorize, float64"
   ]
  },
  {
   "cell_type": "code",
   "execution_count": 2,
   "id": "bbf260ad-6dde-476b-9319-81016c11405f",
   "metadata": {},
   "outputs": [],
   "source": [
    "with open('./data/tsp_1889_1', 'r') as input_data_file:\n",
    "    input_data = input_data_file.read()\n",
    "    \n",
    "lines = input_data.split('\\n')\n",
    "nodeCount = int(lines[0])\n",
    "\n",
    "points = []\n",
    "for i in range(1, nodeCount+1):\n",
    "    line = lines[i]\n",
    "    parts = line.split()\n",
    "    # points.append(Point(float(parts[0]), float(parts[1])))\n",
    "    points.append((float(parts[0]), float(parts[1])))\n",
    "points = np.array(points)"
   ]
  },
  {
   "cell_type": "code",
   "execution_count": 3,
   "id": "2d1fd51e-72e5-4f6c-a0da-217de17fd794",
   "metadata": {},
   "outputs": [],
   "source": [
    "def length(point1, point2):\n",
    "    return math.sqrt((point1[0] - point2[0])**2 + (point1[1] - point2[1])**2)\n",
    "\n",
    "\n",
    "def scan_region_from(current_point, remaining_stops):\n",
    "    x, y = current_point\n",
    "    \n",
    "    if x < y:\n",
    "        x_min = np.min(remaining_stops[:, 0])\n",
    "        scan_pointer = np.array([x_min, y])\n",
    "    else:\n",
    "        y_min = np.min(remaining_stops[:, 1])\n",
    "        scan_pointer = np.array([x, y_min])\n",
    "\n",
    "    return scan_pointer\n",
    "\n",
    "\n",
    "def add_explored(current_stop, remaining_stops):\n",
    "    ## Add node as explored\n",
    "    \n",
    "    # Find the index where the element matches in the array_of_arrays\n",
    "    remove_idx = np.where(np.all(remaining_stops == current_stop, axis=1))\n",
    "    \n",
    "    # Remove the element using the indices\n",
    "    remaining_stops = np.delete(remaining_stops, remove_idx, axis=0)\n",
    "    \n",
    "    return remaining_stops\n",
    "\n",
    "\n",
    "def point_in_bbox(point, bbox):\n",
    "    x, y = point\n",
    "    x_min, y_min, x_max, y_max = bbox\n",
    "    \n",
    "    if x_min <= x <= x_max and y_min <= y <= y_max:\n",
    "        return True\n",
    "    else:\n",
    "        return False\n",
    "\n",
    "\n",
    "# def calculate_travel(graph, points):\n",
    "    \n",
    "#     indices_from = graph[:-1]\n",
    "#     indices_to = graph[1:]\n",
    "#     total_distance = np.sum(DISTANCE_MATRIX[indices_from, indices_to])\n",
    "\n",
    "#     # Add the distance to return to the starting point\n",
    "#     total_distance += DISTANCE_MATRIX[graph[-1]][graph[0]]\n",
    "\n",
    "#     return total_distance\n",
    "\n",
    "\n",
    "@nb.jit(nopython=True)\n",
    "def calculate_travel(graph):\n",
    "    n = len(graph)\n",
    "    total_distance = 0.0\n",
    "\n",
    "    for i in range(n - 1):\n",
    "        total_distance += DISTANCE_MATRIX[graph[i], graph[i + 1]]\n",
    "\n",
    "    # Add the distance to return to the starting point\n",
    "    total_distance += DISTANCE_MATRIX[graph[-1], graph[0]]\n",
    "\n",
    "    return total_distance\n",
    "\n",
    "\n",
    "@nb.jit(nopython=True)\n",
    "def calculate_travel_list(graph):\n",
    "    n = len(graph)\n",
    "    total_distance = np.empty(n)\n",
    "\n",
    "    for i in range(n - 1):\n",
    "        total_distance[i] = DISTANCE_MATRIX[graph[i], graph[i + 1]]\n",
    "\n",
    "    # Add the distance to return to the starting point\n",
    "    total_distance[-1] = DISTANCE_MATRIX[graph[-1], graph[0]]\n",
    "\n",
    "    total_distance = np.argsort(-total_distance)\n",
    "    \n",
    "    return total_distance\n",
    "    \n",
    "\n",
    "def get_midpoint(point1, point2):\n",
    "    return (point1+point2)//2\n",
    "\n",
    "@nb.jit(nopython=True)\n",
    "def do_2opt(point_idx1, point_idx2, path):\n",
    "    \n",
    "    if point_idx2 > point_idx1:\n",
    "        slice_start = point_idx1\n",
    "        slice_end = point_idx2\n",
    "    else:\n",
    "        slice_start = point_idx2\n",
    "        slice_end = point_idx1\n",
    "\n",
    "    # slice_path = path[slice_start:slice_end+1]\n",
    "    # slice_path = np.flip(slice_path)\n",
    "    # slice_path.reverse()\n",
    "\n",
    "    # new_path = path[:slice_start]+slice_path+path[slice_end+1:]\n",
    "    # new_path = np.hstack((path[:slice_start], slice_path, path[slice_end + 1:]))\n",
    "    \n",
    "    new_path = np.hstack((path[:slice_start], path[slice_start:slice_end][::-1], path[slice_end:]))\n",
    "    \n",
    "    return new_path\n",
    "\n",
    "\n",
    "class TabuList:\n",
    "    def __init__(self, tabu_size):\n",
    "        self.tabu_size = tabu_size\n",
    "        self.tabu_hash = set()\n",
    "        self.tabu_queue = []\n",
    "\n",
    "    def is_present(self, node):\n",
    "        return node in self.tabu_hash\n",
    "\n",
    "    def insert(self, node):\n",
    "        if self.is_present(node):\n",
    "            return\n",
    "        self.tabu_hash.add(node)\n",
    "        self.tabu_queue.append(node)\n",
    "        if len(self.tabu_hash) > self.tabu_size:\n",
    "            self.remove()\n",
    "            \n",
    "    def remove(self):\n",
    "        top = self.tabu_queue.pop(0)\n",
    "        self.tabu_hash.remove(top)"
   ]
  },
  {
   "cell_type": "code",
   "execution_count": 4,
   "id": "3f3caa02-c394-403b-afd0-dd0070e5fe8d",
   "metadata": {},
   "outputs": [],
   "source": [
    "@nb.jit(nopython=True)\n",
    "def length_distance(single_point, all_points):\n",
    "    return np.sqrt((all_points[:, 0]-single_point[0])**2 + (all_points[:, 1]-single_point[1])**2)"
   ]
  },
  {
   "cell_type": "code",
   "execution_count": 5,
   "id": "2bd40efe-91d8-4881-b638-b3e82db948d1",
   "metadata": {},
   "outputs": [
    {
     "data": {
      "application/vnd.jupyter.widget-view+json": {
       "model_id": "3b525295fb01429cbde1a3fbc4e07169",
       "version_major": 2,
       "version_minor": 0
      },
      "text/plain": [
       "  0%|          | 0/1889 [00:00<?, ?it/s]"
      ]
     },
     "metadata": {},
     "output_type": "display_data"
    }
   ],
   "source": [
    "DISTANCE_MATRIX = np.zeros((nodeCount, nodeCount))\n",
    "for i in tqdm(range(len(points))):\n",
    "    DISTANCE_MATRIX[i] = length_distance(points[i], points)"
   ]
  },
  {
   "cell_type": "code",
   "execution_count": 9,
   "id": "c78baee3-4781-43f3-8ed7-14b608bfc952",
   "metadata": {},
   "outputs": [
    {
     "data": {
      "application/vnd.jupyter.widget-view+json": {
       "model_id": "b49148a3f89f4b12ad9fe7652ce00a56",
       "version_major": 2,
       "version_minor": 0
      },
      "text/plain": [
       "  0%|          | 0/1 [00:00<?, ?it/s]"
      ]
     },
     "metadata": {},
     "output_type": "display_data"
    },
    {
     "data": {
      "text/plain": [
       "399743.4462670476"
      ]
     },
     "execution_count": 9,
     "metadata": {},
     "output_type": "execute_result"
    }
   ],
   "source": [
    "optimal_path = None\n",
    "optimal_distance = float('inf')\n",
    "idx_pos = 0\n",
    "\n",
    "for _ in tqdm(range(1)):\n",
    "    \n",
    "    exploring_path = np.array([], dtype=int)\n",
    "    explore_points = deepcopy(points)\n",
    "    max_neighbors = 1\n",
    "    \n",
    "    pick_next = 0\n",
    "    exploring_path = np.append(exploring_path, pick_next)\n",
    "    \n",
    "    while exploring_path.size < nodeCount:\n",
    "        \n",
    "        neighbor_idx = np.argsort(DISTANCE_MATRIX[pick_next])\n",
    "        \n",
    "        mask = np.isin(neighbor_idx, exploring_path)\n",
    "        neighbor_idx = neighbor_idx[~mask]\n",
    "    \n",
    "        pick_next = np.random.choice(neighbor_idx[:max_neighbors])\n",
    "        \n",
    "        exploring_path = np.append(exploring_path, pick_next)\n",
    "\n",
    "    \n",
    "    total_distance = calculate_travel(exploring_path)\n",
    "\n",
    "    if total_distance < optimal_distance:\n",
    "        optimal_path = deepcopy(exploring_path)\n",
    "        optimal_distance = total_distance\n",
    "\n",
    "\n",
    "\n",
    "\n",
    "global_optimal_path = deepcopy(optimal_path)\n",
    "global_optimal_distance = deepcopy(optimal_distance)\n",
    "\n",
    "optimal_distance"
   ]
  },
  {
   "cell_type": "code",
   "execution_count": 10,
   "id": "c585556b-6fd5-4fb2-98ab-8f6ed2ec59ae",
   "metadata": {},
   "outputs": [],
   "source": [
    "\n",
    "# starting_path = np.array(range(nodeCount))\n",
    "# random.shuffle(starting_path)\n",
    "# starting_distance = calculate_travel(starting_path)\n",
    "\n",
    "starting_path =  deepcopy(np.array(global_optimal_path))\n",
    "starting_distance = deepcopy(global_optimal_distance)"
   ]
  },
  {
   "cell_type": "code",
   "execution_count": 11,
   "id": "3bd995da-f05c-4218-adfd-660a72cee27d",
   "metadata": {},
   "outputs": [
    {
     "data": {
      "text/plain": [
       "399743.4462670476"
      ]
     },
     "execution_count": 11,
     "metadata": {},
     "output_type": "execute_result"
    }
   ],
   "source": [
    "global_optimal_path = deepcopy(starting_path)\n",
    "global_optimal_distance = deepcopy(starting_distance)\n",
    "\n",
    "\n",
    "\n",
    "starting_distance"
   ]
  },
  {
   "cell_type": "code",
   "execution_count": 12,
   "id": "33b0cfa7-268f-42be-acec-d98e3fce15f0",
   "metadata": {},
   "outputs": [
    {
     "data": {
      "text/plain": [
       "(377, 377)"
      ]
     },
     "execution_count": 12,
     "metadata": {},
     "output_type": "execute_result"
    }
   ],
   "source": [
    "iter = 0\n",
    "max_iterations = 10000\n",
    "\n",
    "init_temperature = 100\n",
    "final_temperature = 1e-3\n",
    "cooling_rate = 0.95\n",
    "\n",
    "restart_counter = 0\n",
    "temperature = init_temperature\n",
    "global_temperature = init_temperature\n",
    "\n",
    "search_idx = nodeCount//5\n",
    "\n",
    "optimal_path = deepcopy(global_optimal_path)\n",
    "optimal_distance = global_optimal_distance\n",
    "\n",
    "last_known_distance = int(global_optimal_distance)\n",
    "\n",
    "tabu_limit = nodeCount//5\n",
    "tabu_list = TabuList(tabu_limit)\n",
    "\n",
    "search_idx, tabu_limit"
   ]
  },
  {
   "cell_type": "code",
   "execution_count": 13,
   "id": "b59e3969-2a97-4206-8e2c-5e40b1f9eee8",
   "metadata": {},
   "outputs": [
    {
     "data": {
      "application/vnd.jupyter.widget-view+json": {
       "model_id": "64811e9d6cd04578b99ab38fd23d6895",
       "version_major": 2,
       "version_minor": 0
      },
      "text/plain": [
       "  0%|          | 0/10000 [00:00<?, ?it/s]"
      ]
     },
     "metadata": {},
     "output_type": "display_data"
    },
    {
     "name": "stdout",
     "output_type": "stream",
     "text": [
      "0 0 377 388874.0705 100 0.95\n",
      "8 10 377 388689.5886 100 0.95\n",
      "8 20 377 388689.5886 95.095 0.95095\n",
      "8 30 377 388689.5886 90.521 0.9519\n",
      "8 40 377 388689.5886 86.2532 0.95285\n",
      "8 50 377 388689.5886 82.2688 0.95381\n"
     ]
    },
    {
     "name": "stderr",
     "output_type": "stream",
     "text": [
      "\n",
      "KeyboardInterrupt\n",
      "\n"
     ]
    }
   ],
   "source": [
    "penalty = np.zeros(nodeCount, dtype=int)\n",
    "\n",
    "for iter in tqdm(range(max_iterations)):\n",
    "    \n",
    "    if temperature < final_temperature:\n",
    "        break\n",
    "    \n",
    "    for _ in range(100):\n",
    "        \n",
    "        # pick a random point or pick points carefully        \n",
    "        alter_point = np.argmin(penalty) #random.choice(range(nodeCount))\n",
    "\n",
    "        penalty[alter_point] += 1\n",
    "        # while tabu_list.is_present(alter_point):\n",
    "        #     alter_point = random.choice(range(nodeCount))\n",
    "\n",
    "        # tabu_list.insert(alter_point)\n",
    "        \n",
    "        point_idx1 = np.where(optimal_path==alter_point)[0][0]\n",
    "    \n",
    "        # get all the neighbors to that point        \n",
    "        sorted_neighbor_points = np.argsort(DISTANCE_MATRIX[alter_point])[1:]\n",
    "        \n",
    "        # repeatedly do 2-opt for all the neighbors\n",
    "        for neighbor_idx in sorted_neighbor_points:\n",
    "           \n",
    "            point_idx2 = np.where(optimal_path==neighbor_idx)[0][0]\n",
    "            new_path = do_2opt(point_idx1, point_idx2, optimal_path)\n",
    "            new_distance = calculate_travel(new_path)\n",
    "        \n",
    "            delta = new_distance - optimal_distance\n",
    "            acceptance_prob = np.exp(-delta/temperature)\n",
    "            to_pick_prob = random.random()\n",
    "            \n",
    "            if delta < 0 or to_pick_prob < acceptance_prob:\n",
    "                \n",
    "                optimal_path = new_path.copy()\n",
    "                optimal_distance = new_distance\n",
    "                \n",
    "                if new_distance < global_optimal_distance:\n",
    "                    global_optimal_path = new_path.copy()\n",
    "                    global_optimal_distance = new_distance\n",
    "                    global_temperature = temperature\n",
    "                \n",
    "\n",
    "    if iter%10 == 0:\n",
    "        print(restart_counter, iter, search_idx, round(global_optimal_distance, 4), round(temperature, 4), round(cooling_rate, 5))\n",
    "\n",
    "\n",
    "    if round(global_optimal_distance, 1) < last_known_distance:\n",
    "        last_known_distance = round(global_optimal_distance, 1)\n",
    "        restart_counter = 0\n",
    "    else:\n",
    "        restart_counter += 1\n",
    "\n",
    "\n",
    "    if restart_counter >= 10:\n",
    "                \n",
    "        if cooling_rate*1.001 < 0.995:\n",
    "            restart_counter = 0  \n",
    "            cooling_rate *= 1.001\n",
    "            if global_temperature != init_temperature:\n",
    "                temperature = global_temperature\n",
    "\n",
    "        elif iter % 10 == 0 and search_idx > 10:\n",
    "            restart_counter = 0\n",
    "            search_idx = int(search_idx//1.1)\n",
    "            if global_temperature != init_temperature:\n",
    "                temperature = global_temperature\n",
    "                optimal_path = global_optimal_path.copy()\n",
    "                optimal_distance = global_optimal_distance\n",
    "            \n",
    "        temperature *= cooling_rate\n",
    "   \n",
    "\n",
    "    # if iter % 100 == 0 and search_idx > 15:\n",
    "    #     search_idx -= 5\n",
    "        \n",
    "    # if restart_counter > 100 and temperature < 0.1:\n",
    "    #     print(\"long due. ending loops\")\n",
    "    #     break"
   ]
  },
  {
   "cell_type": "code",
   "execution_count": null,
   "id": "f7fe0391-4834-435e-9595-721be60b7f42",
   "metadata": {},
   "outputs": [],
   "source": [
    "82679042"
   ]
  },
  {
   "cell_type": "code",
   "execution_count": null,
   "id": "7e77a096-4a36-4130-a387-68cdfd114b00",
   "metadata": {},
   "outputs": [],
   "source": []
  },
  {
   "cell_type": "code",
   "execution_count": null,
   "id": "78a6de49-2644-461f-8213-2b681078cef6",
   "metadata": {},
   "outputs": [],
   "source": []
  },
  {
   "cell_type": "code",
   "execution_count": null,
   "id": "aa0b991c-2103-4f6f-b84c-9503cb60c0ff",
   "metadata": {},
   "outputs": [],
   "source": []
  },
  {
   "cell_type": "code",
   "execution_count": null,
   "id": "9cc21f3b-ee8d-4e32-b561-3b60d854caf2",
   "metadata": {},
   "outputs": [],
   "source": [
    "# edge_x = []\n",
    "# edge_y = []\n",
    "\n",
    "# for idx, connections in tqdm(enumerate(graph_paths)):\n",
    "    \n",
    "#     x0, y0 = points[idx]\n",
    "    \n",
    "#     for connect in connections:\n",
    "#         x1, y1 = points[connect]\n",
    "    \n",
    "#         edge_x.append(x0)\n",
    "#         edge_x.append(x1)\n",
    "#         edge_x.append(None)\n",
    "        \n",
    "#         edge_y.append(y0)\n",
    "#         edge_y.append(y1)\n",
    "#         edge_y.append(None)\n",
    "\n",
    "edge_x = []\n",
    "edge_y = []\n",
    "\n",
    "for idx in tqdm(list(global_optimal_path) + [list(global_optimal_path)[0]]):\n",
    "    \n",
    "    x0, y0 = points[idx]\n",
    "    \n",
    "    edge_x.append(x0)\n",
    "    edge_y.append(y0)"
   ]
  },
  {
   "cell_type": "code",
   "execution_count": null,
   "id": "13549cac-dd42-4c19-96a6-3b6fac10660d",
   "metadata": {},
   "outputs": [],
   "source": [
    "\n",
    "\n",
    "fig = go.Figure(data=go.Scattergl(\n",
    "    x=edge_x,\n",
    "    y=edge_y,\n",
    "    mode=\"markers+lines\",\n",
    "    # mode=\"markers\"\n",
    "))\n",
    "fig.update_layout(height=750)\n",
    "fig.show()\n"
   ]
  },
  {
   "cell_type": "code",
   "execution_count": null,
   "id": "2ef4755c-23d7-4b78-b55e-c72e7345ae72",
   "metadata": {},
   "outputs": [],
   "source": [
    "\n",
    "\n",
    "fig = go.Figure(data=go.Scattergl(\n",
    "    x=edge_x,\n",
    "    y=edge_y,\n",
    "    mode=\"markers+lines\",\n",
    "    # mode=\"markers\"\n",
    "))\n",
    "fig.update_layout(height=750)\n",
    "fig.show()\n"
   ]
  },
  {
   "cell_type": "code",
   "execution_count": null,
   "id": "e00b0c45-595d-494e-9e74-345443a10e9c",
   "metadata": {},
   "outputs": [],
   "source": []
  },
  {
   "cell_type": "code",
   "execution_count": null,
   "id": "7bb597a2-1914-46c4-880a-e8d97a5d6881",
   "metadata": {},
   "outputs": [],
   "source": []
  },
  {
   "cell_type": "code",
   "execution_count": null,
   "id": "273c7879-5704-46d3-aba3-ade43957e266",
   "metadata": {},
   "outputs": [],
   "source": []
  },
  {
   "cell_type": "code",
   "execution_count": null,
   "id": "d9ef527f-fd17-48b9-a983-e29c391efdae",
   "metadata": {},
   "outputs": [],
   "source": [
    "fig = go.Figure(data=go.Scattergl(\n",
    "    x=edge_x,\n",
    "    y=edge_y,\n",
    "    mode=\"markers+lines\",\n",
    "    # mode=\"markers\"\n",
    "))\n",
    "fig.update_layout(width=1200, height=1200*layout_ratio)\n",
    "fig.show()"
   ]
  },
  {
   "cell_type": "code",
   "execution_count": null,
   "id": "3fdd1b5b-06ba-426c-97d1-e23e5480fa22",
   "metadata": {},
   "outputs": [],
   "source": [
    "\n",
    "x_points = [x for x, y in points]\n",
    "y_points = [y for x, y in points]\n",
    "layout_ratio = max(x_points)/max(y_points)\n",
    "\n",
    "fig = go.Figure(data=go.Scattergl(\n",
    "    x=x_points,\n",
    "    y=y_points,\n",
    "    # mode=\"markers+lines\",\n",
    "    mode=\"markers\"\n",
    "))\n",
    "fig.update_layout(width=1200, height=1200*layout_ratio)\n",
    "fig.show()"
   ]
  },
  {
   "cell_type": "code",
   "execution_count": null,
   "id": "b92dc545-ca38-4dda-a9cc-63e6920e9239",
   "metadata": {},
   "outputs": [],
   "source": [
    "\n",
    "x_points = [x for x, y in exploring_path]\n",
    "y_points = [y for x, y in exploring_path]\n",
    "layout_ratio = max(x_points)/max(y_points)\n",
    "\n",
    "fig = go.Figure(data=go.Scattergl(\n",
    "    x=x_points,\n",
    "    y=y_points,\n",
    "    mode=\"markers+lines\",\n",
    "    # mode=\"markers\"\n",
    "))\n",
    "fig.update_layout(width=1200, height=1200*layout_ratio)\n",
    "fig.show()"
   ]
  },
  {
   "cell_type": "code",
   "execution_count": null,
   "id": "600b786d-f6cb-4802-997b-a32d384a3fca",
   "metadata": {},
   "outputs": [],
   "source": [
    "# for iter in tqdm(range(max_iterations)):\n",
    "    \n",
    "#     if temperature < final_temperature:\n",
    "#         break\n",
    "        \n",
    "#     for _ in range(10):\n",
    "        \n",
    "#         # pick a random point or pick points carefully\n",
    "#         alter_point = random.choice(range(total_nodes))\n",
    "        \n",
    "#         point_idx1 = optimal_path.index(alter_point)\n",
    "    \n",
    "#         # get all the neighbors to that point        \n",
    "#         sorted_neighbor_points = np.argsort(DISTANCE_MATRIX[alter_point])[1:search_idx]\n",
    "        \n",
    "#         # repeatedly do 2-opt for all the neighbors\n",
    "#         for neighbor_idx in sorted_neighbor_points:\n",
    "    \n",
    "#             point_idx2 = optimal_path.index(neighbor_idx)\n",
    "#             new_path = do_2opt(point_idx1, point_idx2, optimal_path)\n",
    "#             new_distance = calculate_travel(new_path, points)\n",
    "        \n",
    "#             delta = new_distance - optimal_distance\n",
    "#             acceptance_prob = np.exp(-delta/temperature)\n",
    "#             to_pick_prob = random.random()\n",
    "            \n",
    "    \n",
    "#             if delta < 0 or to_pick_prob < acceptance_prob:\n",
    "                \n",
    "#                 optimal_path = new_path.copy()\n",
    "#                 optimal_distance = new_distance\n",
    "                \n",
    "#                 if new_distance < global_optimal_distance:\n",
    "#                     global_optimal_path = new_path.copy()\n",
    "#                     global_optimal_distance = new_distance\n",
    "#                     global_temperature = temperature\n",
    "    \n",
    "#             # else:\n",
    "#             #     optimal_path = global_optimal_path.copy()\n",
    "#             #     optimal_distance = global_optimal_distance\n",
    "                \n",
    "\n",
    "#     if iter%10 == 0:\n",
    "#         print(restart_counter, iter, search_idx, round(global_optimal_distance, 4), round(temperature, 4), round(cooling_rate, 5))\n",
    "\n",
    "\n",
    "#     if round(global_optimal_distance, 1) < last_known_distance:\n",
    "#         last_known_distance = round(global_optimal_distance, 1)\n",
    "#         restart_counter = 0\n",
    "#     else:\n",
    "#         restart_counter += 1\n",
    "\n",
    "\n",
    "#     if restart_counter >= 3:\n",
    "                \n",
    "#         if cooling_rate*1.001 < 0.995:\n",
    "#             restart_counter = 0  \n",
    "#             cooling_rate *= 1.001\n",
    "#             if global_temperature != init_temperature:\n",
    "#                 temperature = global_temperature\n",
    "\n",
    "#         elif iter % 10 == 0 and search_idx > 25:\n",
    "#             restart_counter = 0\n",
    "#             search_idx = int(search_idx//1.1)\n",
    "            \n",
    "#         temperature *= cooling_rate\n",
    "   \n",
    "\n",
    "#     # if iter % 100 == 0 and search_idx > 15:\n",
    "#     #     search_idx -= 5\n",
    "        \n",
    "#     # if restart_counter > 100 and temperature < 0.1:\n",
    "#     #     print(\"long due. ending loops\")\n",
    "#     #     break"
   ]
  },
  {
   "cell_type": "code",
   "execution_count": null,
   "id": "54049a66-dc87-49b8-b1e5-81eb22f6b241",
   "metadata": {},
   "outputs": [],
   "source": [
    "# for iter in tqdm(range(max_iterations)):\n",
    "    \n",
    "#     if temperature < final_temperature:\n",
    "#         break\n",
    "        \n",
    "#     for _ in range(100000):\n",
    "        \n",
    "#         # pick a random point or pick points carefully\n",
    "#         alter_point1, alter_point2 = random.sample(range(nodeCount), 2)\n",
    "        \n",
    "#         # point_idx1 = optimal_path.index(alter_point1)\n",
    "#         # point_idx2 = optimal_path.index(alter_point2)\n",
    "\n",
    "#         while tabu_list.is_present(alter_point1) and tabu_list.is_present(alter_point2):\n",
    "#             alter_point1, alter_point2 = random.sample(range(nodeCount), 2)\n",
    "\n",
    "#         tabu_list.insert(alter_point1)\n",
    "#         tabu_list.insert(alter_point2)\n",
    "\n",
    "#         point_idx1 = np.where(optimal_path==alter_point1)[0][0]\n",
    "#         point_idx2 = np.where(optimal_path==alter_point2)[0][0]\n",
    "    \n",
    "#         new_path = do_2opt(point_idx1, point_idx2, optimal_path)\n",
    "#         new_distance = calculate_travel(new_path)\n",
    "    \n",
    "#         delta = new_distance - optimal_distance\n",
    "#         acceptance_prob = np.exp(-delta/temperature)\n",
    "#         to_pick_prob = random.random()\n",
    "        \n",
    "\n",
    "#         if delta < 0 or to_pick_prob < acceptance_prob:\n",
    "            \n",
    "#             optimal_path = new_path.copy()\n",
    "#             optimal_distance = new_distance\n",
    "            \n",
    "#             if new_distance < global_optimal_distance:\n",
    "#                 global_optimal_path = new_path.copy()\n",
    "#                 global_optimal_distance = new_distance\n",
    "#                 global_temperature = temperature\n",
    "    \n",
    "#             # else:\n",
    "#             #     optimal_path = global_optimal_path.copy()\n",
    "#             #     optimal_distance = global_optimal_distance\n",
    "                \n",
    "\n",
    "#     if iter%10 == 0:\n",
    "#         print(restart_counter, iter, search_idx, round(global_optimal_distance, 4), round(temperature, 4), round(cooling_rate, 5))\n",
    "\n",
    "\n",
    "#     if round(global_optimal_distance, 1) < last_known_distance:\n",
    "#         last_known_distance = round(global_optimal_distance, 1)\n",
    "#         restart_counter = 0\n",
    "#     else:\n",
    "#         restart_counter += 1\n",
    "\n",
    "\n",
    "#     if restart_counter >= 3:\n",
    "                \n",
    "#         if cooling_rate*1.001 < 0.995:\n",
    "#             restart_counter = 0  \n",
    "#             cooling_rate *= 1.001\n",
    "#             if global_temperature != init_temperature:\n",
    "#                 temperature = global_temperature\n",
    "            \n",
    "#         temperature *= cooling_rate\n",
    "   \n",
    "\n",
    "#     # if iter % 100 == 0 and search_idx > 15:\n",
    "#     #     search_idx -= 5\n",
    "        \n",
    "#     # if restart_counter > 20:\n",
    "#     #     print(\"long due. ending loops\")\n",
    "#     #     break"
   ]
  }
 ],
 "metadata": {
  "kernelspec": {
   "display_name": "Python 3 (ipykernel)",
   "language": "python",
   "name": "python3"
  },
  "language_info": {
   "codemirror_mode": {
    "name": "ipython",
    "version": 3
   },
   "file_extension": ".py",
   "mimetype": "text/x-python",
   "name": "python",
   "nbconvert_exporter": "python",
   "pygments_lexer": "ipython3",
   "version": "3.10.11"
  },
  "widgets": {
   "application/vnd.jupyter.widget-state+json": {
    "state": {
     "071f41196f7d49e19eb30efaacb54ec8": {
      "model_module": "@jupyter-widgets/base",
      "model_module_version": "2.0.0",
      "model_name": "LayoutModel",
      "state": {}
     },
     "075fe51193f84cb598b31fb399439e2d": {
      "model_module": "@jupyter-widgets/base",
      "model_module_version": "2.0.0",
      "model_name": "LayoutModel",
      "state": {}
     },
     "0c39534cab784f828bc9758b86ef8d43": {
      "model_module": "@jupyter-widgets/controls",
      "model_module_version": "2.0.0",
      "model_name": "HTMLModel",
      "state": {
       "layout": "IPY_MODEL_62cec5a3886d44dd997e557946ee133c",
       "style": "IPY_MODEL_d0fe05e45ced457a90135fe93eee0c51",
       "value": "  1%"
      }
     },
     "135d5ef06cb746c18c1c422c3c1b0c80": {
      "model_module": "@jupyter-widgets/base",
      "model_module_version": "2.0.0",
      "model_name": "LayoutModel",
      "state": {}
     },
     "1d94f0d5a19c4866ac8396765697b4b8": {
      "model_module": "@jupyter-widgets/base",
      "model_module_version": "2.0.0",
      "model_name": "LayoutModel",
      "state": {}
     },
     "1ffb637e893e47969b050854266a9086": {
      "model_module": "@jupyter-widgets/controls",
      "model_module_version": "2.0.0",
      "model_name": "HTMLModel",
      "state": {
       "layout": "IPY_MODEL_8e124a0774614ea69cf1973434623d88",
       "style": "IPY_MODEL_d67a355ecfb340cca3fdfcc3671ac5a2",
       "value": " 1889/1889 [00:00&lt;00:00,  1.63it/s]"
      }
     },
     "29c544be8f884882abbfdfc6e62c28bc": {
      "model_module": "@jupyter-widgets/base",
      "model_module_version": "2.0.0",
      "model_name": "LayoutModel",
      "state": {}
     },
     "2b3477e32dd04d0399a0250b206c01a2": {
      "model_module": "@jupyter-widgets/controls",
      "model_module_version": "2.0.0",
      "model_name": "ProgressStyleModel",
      "state": {
       "description_width": ""
      }
     },
     "2b3a50174bbe4b82a8f29aab8f063285": {
      "model_module": "@jupyter-widgets/base",
      "model_module_version": "2.0.0",
      "model_name": "LayoutModel",
      "state": {}
     },
     "2bfeb1015e9844bbb762817b6c406133": {
      "model_module": "@jupyter-widgets/controls",
      "model_module_version": "2.0.0",
      "model_name": "HTMLModel",
      "state": {
       "layout": "IPY_MODEL_135d5ef06cb746c18c1c422c3c1b0c80",
       "style": "IPY_MODEL_b513c893b9284a2f8d94758e0db1ccd2",
       "value": "100%"
      }
     },
     "3b525295fb01429cbde1a3fbc4e07169": {
      "model_module": "@jupyter-widgets/controls",
      "model_module_version": "2.0.0",
      "model_name": "HBoxModel",
      "state": {
       "children": [
        "IPY_MODEL_2bfeb1015e9844bbb762817b6c406133",
        "IPY_MODEL_dbba362bd23048a0a0edefd917337d8b",
        "IPY_MODEL_1ffb637e893e47969b050854266a9086"
       ],
       "layout": "IPY_MODEL_2b3a50174bbe4b82a8f29aab8f063285"
      }
     },
     "3ebeab797e0f4953bc1089ea7d5b95c0": {
      "model_module": "@jupyter-widgets/controls",
      "model_module_version": "2.0.0",
      "model_name": "FloatProgressModel",
      "state": {
       "bar_style": "danger",
       "layout": "IPY_MODEL_29c544be8f884882abbfdfc6e62c28bc",
       "max": 10000,
       "style": "IPY_MODEL_e94d7911eeee4311b90f3a591e88cdc1",
       "value": 60
      }
     },
     "403f5c190c164aad9803e089f8f54d2a": {
      "model_module": "@jupyter-widgets/controls",
      "model_module_version": "2.0.0",
      "model_name": "ProgressStyleModel",
      "state": {
       "description_width": ""
      }
     },
     "4626584c009747e8821624d159e268fe": {
      "model_module": "@jupyter-widgets/base",
      "model_module_version": "2.0.0",
      "model_name": "LayoutModel",
      "state": {}
     },
     "51816b9565304a579d8ed9d2886168f6": {
      "model_module": "@jupyter-widgets/controls",
      "model_module_version": "2.0.0",
      "model_name": "FloatProgressModel",
      "state": {
       "bar_style": "success",
       "layout": "IPY_MODEL_071f41196f7d49e19eb30efaacb54ec8",
       "max": 1,
       "style": "IPY_MODEL_2b3477e32dd04d0399a0250b206c01a2",
       "value": 1
      }
     },
     "5182380ec1c24ef3a2cc3d2296077de0": {
      "model_module": "@jupyter-widgets/controls",
      "model_module_version": "2.0.0",
      "model_name": "HTMLStyleModel",
      "state": {
       "description_width": "",
       "font_size": null,
       "text_color": null
      }
     },
     "5f3659de43c641dfb0d6d9f85582e72d": {
      "model_module": "@jupyter-widgets/controls",
      "model_module_version": "2.0.0",
      "model_name": "HTMLStyleModel",
      "state": {
       "description_width": "",
       "font_size": null,
       "text_color": null
      }
     },
     "62cec5a3886d44dd997e557946ee133c": {
      "model_module": "@jupyter-widgets/base",
      "model_module_version": "2.0.0",
      "model_name": "LayoutModel",
      "state": {}
     },
     "64811e9d6cd04578b99ab38fd23d6895": {
      "model_module": "@jupyter-widgets/controls",
      "model_module_version": "2.0.0",
      "model_name": "HBoxModel",
      "state": {
       "children": [
        "IPY_MODEL_0c39534cab784f828bc9758b86ef8d43",
        "IPY_MODEL_3ebeab797e0f4953bc1089ea7d5b95c0",
        "IPY_MODEL_feb413510b164c28a18d33f5a62d5c6d"
       ],
       "layout": "IPY_MODEL_075fe51193f84cb598b31fb399439e2d"
      }
     },
     "66e4d7435e10486e92af2c729ac6200b": {
      "model_module": "@jupyter-widgets/controls",
      "model_module_version": "2.0.0",
      "model_name": "HTMLModel",
      "state": {
       "layout": "IPY_MODEL_1d94f0d5a19c4866ac8396765697b4b8",
       "style": "IPY_MODEL_5182380ec1c24ef3a2cc3d2296077de0",
       "value": "100%"
      }
     },
     "684885ddaeda47e2a25de989bef14548": {
      "model_module": "@jupyter-widgets/controls",
      "model_module_version": "2.0.0",
      "model_name": "HTMLStyleModel",
      "state": {
       "description_width": "",
       "font_size": null,
       "text_color": null
      }
     },
     "7250b75c77f14bf8b1a2f02fa3914a92": {
      "model_module": "@jupyter-widgets/controls",
      "model_module_version": "2.0.0",
      "model_name": "HTMLModel",
      "state": {
       "layout": "IPY_MODEL_cec54a3d62a64617abbb143e5dea48b7",
       "style": "IPY_MODEL_684885ddaeda47e2a25de989bef14548",
       "value": "100%"
      }
     },
     "7b66cf5f537a499a8bb1f1b6ddacc193": {
      "model_module": "@jupyter-widgets/base",
      "model_module_version": "2.0.0",
      "model_name": "LayoutModel",
      "state": {}
     },
     "81b5c4ad7fdd408bba6c51b0c61e35a7": {
      "model_module": "@jupyter-widgets/controls",
      "model_module_version": "2.0.0",
      "model_name": "ProgressStyleModel",
      "state": {
       "description_width": ""
      }
     },
     "88731f0a611e44ffa7fb1d9a6a672595": {
      "model_module": "@jupyter-widgets/base",
      "model_module_version": "2.0.0",
      "model_name": "LayoutModel",
      "state": {}
     },
     "8e124a0774614ea69cf1973434623d88": {
      "model_module": "@jupyter-widgets/base",
      "model_module_version": "2.0.0",
      "model_name": "LayoutModel",
      "state": {}
     },
     "a52f71d068d64070b01987f0b6556b07": {
      "model_module": "@jupyter-widgets/controls",
      "model_module_version": "2.0.0",
      "model_name": "HTMLStyleModel",
      "state": {
       "description_width": "",
       "font_size": null,
       "text_color": null
      }
     },
     "b49148a3f89f4b12ad9fe7652ce00a56": {
      "model_module": "@jupyter-widgets/controls",
      "model_module_version": "2.0.0",
      "model_name": "HBoxModel",
      "state": {
       "children": [
        "IPY_MODEL_7250b75c77f14bf8b1a2f02fa3914a92",
        "IPY_MODEL_51816b9565304a579d8ed9d2886168f6",
        "IPY_MODEL_e8d545181c704422af760a1981fe1e1a"
       ],
       "layout": "IPY_MODEL_4626584c009747e8821624d159e268fe"
      }
     },
     "b513c893b9284a2f8d94758e0db1ccd2": {
      "model_module": "@jupyter-widgets/controls",
      "model_module_version": "2.0.0",
      "model_name": "HTMLStyleModel",
      "state": {
       "description_width": "",
       "font_size": null,
       "text_color": null
      }
     },
     "be531133f0174c6ca3468e05115b8b8f": {
      "model_module": "@jupyter-widgets/controls",
      "model_module_version": "2.0.0",
      "model_name": "HTMLModel",
      "state": {
       "layout": "IPY_MODEL_88731f0a611e44ffa7fb1d9a6a672595",
       "style": "IPY_MODEL_a52f71d068d64070b01987f0b6556b07",
       "value": " 1/1 [00:00&lt;00:00,  2.37it/s]"
      }
     },
     "cec54a3d62a64617abbb143e5dea48b7": {
      "model_module": "@jupyter-widgets/base",
      "model_module_version": "2.0.0",
      "model_name": "LayoutModel",
      "state": {}
     },
     "d0fe05e45ced457a90135fe93eee0c51": {
      "model_module": "@jupyter-widgets/controls",
      "model_module_version": "2.0.0",
      "model_name": "HTMLStyleModel",
      "state": {
       "description_width": "",
       "font_size": null,
       "text_color": null
      }
     },
     "d24a0ca25b274dbbb3539166df56059e": {
      "model_module": "@jupyter-widgets/base",
      "model_module_version": "2.0.0",
      "model_name": "LayoutModel",
      "state": {}
     },
     "d67a355ecfb340cca3fdfcc3671ac5a2": {
      "model_module": "@jupyter-widgets/controls",
      "model_module_version": "2.0.0",
      "model_name": "HTMLStyleModel",
      "state": {
       "description_width": "",
       "font_size": null,
       "text_color": null
      }
     },
     "d73a59767f574e6994498e86871de4f1": {
      "model_module": "@jupyter-widgets/base",
      "model_module_version": "2.0.0",
      "model_name": "LayoutModel",
      "state": {}
     },
     "dbba362bd23048a0a0edefd917337d8b": {
      "model_module": "@jupyter-widgets/controls",
      "model_module_version": "2.0.0",
      "model_name": "FloatProgressModel",
      "state": {
       "bar_style": "success",
       "layout": "IPY_MODEL_7b66cf5f537a499a8bb1f1b6ddacc193",
       "max": 1889,
       "style": "IPY_MODEL_81b5c4ad7fdd408bba6c51b0c61e35a7",
       "value": 1889
      }
     },
     "e33c7ce6a85a4bc596e7bd235b967313": {
      "model_module": "@jupyter-widgets/base",
      "model_module_version": "2.0.0",
      "model_name": "LayoutModel",
      "state": {}
     },
     "e3feca0d915d46db8fb0273c62046fff": {
      "model_module": "@jupyter-widgets/controls",
      "model_module_version": "2.0.0",
      "model_name": "FloatProgressModel",
      "state": {
       "bar_style": "success",
       "layout": "IPY_MODEL_e33c7ce6a85a4bc596e7bd235b967313",
       "max": 1,
       "style": "IPY_MODEL_403f5c190c164aad9803e089f8f54d2a",
       "value": 1
      }
     },
     "e807a63df0514e6bbb602e0cd0f61fba": {
      "model_module": "@jupyter-widgets/controls",
      "model_module_version": "2.0.0",
      "model_name": "HTMLStyleModel",
      "state": {
       "description_width": "",
       "font_size": null,
       "text_color": null
      }
     },
     "e8d545181c704422af760a1981fe1e1a": {
      "model_module": "@jupyter-widgets/controls",
      "model_module_version": "2.0.0",
      "model_name": "HTMLModel",
      "state": {
       "layout": "IPY_MODEL_d24a0ca25b274dbbb3539166df56059e",
       "style": "IPY_MODEL_5f3659de43c641dfb0d6d9f85582e72d",
       "value": " 1/1 [00:00&lt;00:00,  3.15it/s]"
      }
     },
     "e94d7911eeee4311b90f3a591e88cdc1": {
      "model_module": "@jupyter-widgets/controls",
      "model_module_version": "2.0.0",
      "model_name": "ProgressStyleModel",
      "state": {
       "description_width": ""
      }
     },
     "f27f8c148530410d810f3d80b6446256": {
      "model_module": "@jupyter-widgets/base",
      "model_module_version": "2.0.0",
      "model_name": "LayoutModel",
      "state": {}
     },
     "fd45a32c3df84bdf8296737c9e885b4a": {
      "model_module": "@jupyter-widgets/controls",
      "model_module_version": "2.0.0",
      "model_name": "HBoxModel",
      "state": {
       "children": [
        "IPY_MODEL_66e4d7435e10486e92af2c729ac6200b",
        "IPY_MODEL_e3feca0d915d46db8fb0273c62046fff",
        "IPY_MODEL_be531133f0174c6ca3468e05115b8b8f"
       ],
       "layout": "IPY_MODEL_d73a59767f574e6994498e86871de4f1"
      }
     },
     "feb413510b164c28a18d33f5a62d5c6d": {
      "model_module": "@jupyter-widgets/controls",
      "model_module_version": "2.0.0",
      "model_name": "HTMLModel",
      "state": {
       "layout": "IPY_MODEL_f27f8c148530410d810f3d80b6446256",
       "style": "IPY_MODEL_e807a63df0514e6bbb602e0cd0f61fba",
       "value": " 60/10000 [04:17&lt;11:19:02,  4.10s/it]"
      }
     }
    },
    "version_major": 2,
    "version_minor": 0
   }
  }
 },
 "nbformat": 4,
 "nbformat_minor": 5
}
