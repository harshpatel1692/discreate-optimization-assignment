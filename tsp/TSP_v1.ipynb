{
 "cells": [
  {
   "cell_type": "code",
   "execution_count": 1,
   "id": "4e2a2f80-2308-4b30-9d97-4b42fc14159d",
   "metadata": {},
   "outputs": [],
   "source": [
    "import math\n",
    "from collections import namedtuple\n",
    "import plotly.graph_objects as go\n",
    "import plotly.express as px\n",
    "import numpy as np\n",
    "from copy import deepcopy\n",
    "from tqdm import tqdm\n",
    "from tqdm.notebook import tqdm\n",
    "import random\n",
    "\n",
    "\n",
    "from numba import jit, vectorize, float64"
   ]
  },
  {
   "cell_type": "code",
   "execution_count": 2,
   "id": "bbf260ad-6dde-476b-9319-81016c11405f",
   "metadata": {},
   "outputs": [],
   "source": [
    "with open('./data/tsp_51_1', 'r') as input_data_file:\n",
    "    input_data = input_data_file.read()\n",
    "    \n",
    "lines = input_data.split('\\n')\n",
    "nodeCount = int(lines[0])\n",
    "\n",
    "points = []\n",
    "for i in range(1, nodeCount+1):\n",
    "    line = lines[i]\n",
    "    parts = line.split()\n",
    "    # points.append(Point(float(parts[0]), float(parts[1])))\n",
    "    points.append((float(parts[0]), float(parts[1])))\n",
    "points = np.array(points)"
   ]
  },
  {
   "cell_type": "code",
   "execution_count": 3,
   "id": "2d1fd51e-72e5-4f6c-a0da-217de17fd794",
   "metadata": {},
   "outputs": [],
   "source": [
    "def length(point1, point2):\n",
    "    return math.sqrt((point1[0] - point2[0])**2 + (point1[1] - point2[1])**2)\n",
    "\n",
    "\n",
    "def scan_region_from(current_point, remaining_stops):\n",
    "    x, y = current_point\n",
    "    \n",
    "    if x < y:\n",
    "        x_min = np.min(remaining_stops[:, 0])\n",
    "        scan_pointer = np.array([x_min, y])\n",
    "    else:\n",
    "        y_min = np.min(remaining_stops[:, 1])\n",
    "        scan_pointer = np.array([x, y_min])\n",
    "\n",
    "    return scan_pointer\n",
    "\n",
    "\n",
    "def add_explored(current_stop, remaining_stops):\n",
    "    ## Add node as explored\n",
    "    \n",
    "    # Find the index where the element matches in the array_of_arrays\n",
    "    remove_idx = np.where(np.all(remaining_stops == current_stop, axis=1))\n",
    "    \n",
    "    # Remove the element using the indices\n",
    "    remaining_stops = np.delete(remaining_stops, remove_idx, axis=0)\n",
    "    \n",
    "    return remaining_stops\n",
    "\n",
    "\n",
    "def point_in_bbox(point, bbox):\n",
    "    x, y = point\n",
    "    x_min, y_min, x_max, y_max = bbox\n",
    "    \n",
    "    if x_min <= x <= x_max and y_min <= y <= y_max:\n",
    "        return True\n",
    "    else:\n",
    "        return False\n",
    "\n",
    "\n",
    "def calculate_travel(graph, points):\n",
    "    path = deepcopy(graph)\n",
    "    path.append(path[0])\n",
    "    coordinates = np.array([points[idx] for idx in path])\n",
    "    distances = np.linalg.norm(coordinates[1:] - coordinates[:-1], axis=1)\n",
    "    return np.sum(distances)\n",
    "\n",
    "\n",
    "def get_midpoint(point1, point2):\n",
    "    return (point1+point2)//2\n",
    "\n",
    "\n",
    "def do_2opt(path, points, search_idx):\n",
    "    \n",
    "    path = deepcopy(path)\n",
    "    \n",
    "    coor = np.array([points[idx] for idx in path+[path[0]]])\n",
    "    dist = np.linalg.norm(coor[1:] - coor[:-1], axis=1)\n",
    "\n",
    "    ## Sort by n distances set by search_idx\n",
    "    sorted_dist = np.argsort(-dist) #[:search_idx]\n",
    "\n",
    "    max_point = np.random.choice(sorted_dist)\n",
    "    \n",
    "    mid_point = get_midpoint(coor[max_point], coor[max_point+1])\n",
    "    \n",
    "    sorted_neighbor_point = np.argsort(length_distance(mid_point, points)) #[:search_idx]\n",
    "    neighbor_point = np.random.choice(sorted_neighbor_point)\n",
    "    \n",
    "    switch_point = np.where((coor == points[neighbor_point]).all(axis=1))[0][0]\n",
    "\n",
    "    if switch_point > max_point:\n",
    "        slice_start = max_point\n",
    "        slice_end = switch_point\n",
    "    else:\n",
    "        slice_start = switch_point\n",
    "        slice_end = max_point\n",
    "\n",
    "    slice_path = path[slice_start:slice_end+1]\n",
    "    slice_path.reverse()\n",
    "\n",
    "    new_path = path[:slice_start]+slice_path+path[slice_end+1:]\n",
    "    \n",
    "    return new_path"
   ]
  },
  {
   "cell_type": "code",
   "execution_count": 4,
   "id": "3f3caa02-c394-403b-afd0-dd0070e5fe8d",
   "metadata": {},
   "outputs": [],
   "source": [
    "@jit(nopython=True)\n",
    "def length_distance(single_point, all_points):\n",
    "    return np.sqrt((all_points[:, 0]-single_point[0])**2 + (all_points[:, 1]-single_point[1])**2)"
   ]
  },
  {
   "cell_type": "code",
   "execution_count": 5,
   "id": "4f3fa08f-023c-4b77-bd05-3bb1b82e8bde",
   "metadata": {},
   "outputs": [],
   "source": [
    "# exploring_path = []\n",
    "# explore_points = deepcopy(points)\n",
    "# global_bbox = np.array([min(points[:, 0]), min(points[:, 1]), max(points[:, 0]), max(points[:, 1])])\n",
    "\n",
    "# mid_x, mid_y = (global_bbox[2]-global_bbox[0])//2, (global_bbox[3]-global_bbox[1])//2\n",
    "# base_distance = np.sqrt((points[:, 0])**2 + (points[:, 1])**2)"
   ]
  },
  {
   "cell_type": "code",
   "execution_count": 6,
   "id": "e6dcf0c9-f8cc-4437-940e-de68b9674a8d",
   "metadata": {},
   "outputs": [
    {
     "data": {
      "application/vnd.jupyter.widget-view+json": {
       "model_id": "fae19ccd74b24b388dd4f8ab62070705",
       "version_major": 2,
       "version_minor": 0
      },
      "text/plain": [
       "  0%|          | 0/100 [00:00<?, ?it/s]"
      ]
     },
     "metadata": {},
     "output_type": "display_data"
    },
    {
     "data": {
      "text/plain": [
       "717.1674862102369"
      ]
     },
     "execution_count": 6,
     "metadata": {},
     "output_type": "execute_result"
    }
   ],
   "source": [
    "optimal_path = []\n",
    "optimal_distance = float('inf')\n",
    "\n",
    "for _ in tqdm(range(100)):\n",
    "    \n",
    "    exploring_path = []\n",
    "    explore_points = deepcopy(points)\n",
    "    max_neighbors = len(points)//10\n",
    "    \n",
    "    pick_next = 0\n",
    "    exploring_path.append(pick_next)\n",
    "    while len(exploring_path) < len(points):\n",
    "    \n",
    "        one_point = points[pick_next]\n",
    "        \n",
    "        neighbor_distances = length_distance(one_point, explore_points)\n",
    "        neighbor_idx = np.argsort(neighbor_distances)\n",
    "        \n",
    "        mask = np.isin(neighbor_idx, exploring_path)\n",
    "        neighbor_idx = neighbor_idx[~mask]\n",
    "    \n",
    "        pick_next = np.random.choice(neighbor_idx[:max_neighbors])\n",
    "    \n",
    "        exploring_path.append(pick_next)\n",
    "\n",
    "    total_distance = calculate_travel(exploring_path, points)\n",
    "\n",
    "    if total_distance < optimal_distance:\n",
    "        optimal_path = deepcopy(exploring_path)\n",
    "        optimal_distance = total_distance\n",
    "\n",
    "\n",
    "\n",
    "\n",
    "global_optimal_path = deepcopy(optimal_path)\n",
    "global_optimal_distance = deepcopy(optimal_distance)\n",
    "\n",
    "optimal_distance"
   ]
  },
  {
   "cell_type": "code",
   "execution_count": null,
   "id": "c585556b-6fd5-4fb2-98ab-8f6ed2ec59ae",
   "metadata": {},
   "outputs": [],
   "source": []
  },
  {
   "cell_type": "code",
   "execution_count": null,
   "id": "681a62e9-662c-4efb-8353-a8efba607865",
   "metadata": {},
   "outputs": [],
   "source": []
  },
  {
   "cell_type": "code",
   "execution_count": null,
   "id": "4ad5ae55-6645-4250-ba24-4a13cc76a8fc",
   "metadata": {},
   "outputs": [],
   "source": []
  },
  {
   "cell_type": "code",
   "execution_count": 7,
   "id": "341a8ba9-0163-4a73-b4f0-ef65c5ee4ba5",
   "metadata": {},
   "outputs": [
    {
     "data": {
      "application/vnd.jupyter.widget-view+json": {
       "model_id": "",
       "version_major": 2,
       "version_minor": 0
      },
      "text/plain": [
       "0it [00:00, ?it/s]"
      ]
     },
     "metadata": {},
     "output_type": "display_data"
    },
    {
     "name": "stdout",
     "output_type": "stream",
     "text": [
      "40 469.3486016968633\n"
     ]
    },
    {
     "data": {
      "application/vnd.jupyter.widget-view+json": {
       "model_id": "",
       "version_major": 2,
       "version_minor": 0
      },
      "text/plain": [
       "0it [00:00, ?it/s]"
      ]
     },
     "metadata": {},
     "output_type": "display_data"
    },
    {
     "name": "stdout",
     "output_type": "stream",
     "text": [
      "32 460.91576816655777\n"
     ]
    },
    {
     "data": {
      "application/vnd.jupyter.widget-view+json": {
       "model_id": "",
       "version_major": 2,
       "version_minor": 0
      },
      "text/plain": [
       "0it [00:00, ?it/s]"
      ]
     },
     "metadata": {},
     "output_type": "display_data"
    },
    {
     "name": "stdout",
     "output_type": "stream",
     "text": [
      "25 450.5276434740115\n"
     ]
    },
    {
     "data": {
      "application/vnd.jupyter.widget-view+json": {
       "model_id": "",
       "version_major": 2,
       "version_minor": 0
      },
      "text/plain": [
       "0it [00:00, ?it/s]"
      ]
     },
     "metadata": {},
     "output_type": "display_data"
    },
    {
     "name": "stdout",
     "output_type": "stream",
     "text": [
      "20 444.54275736964763\n"
     ]
    },
    {
     "data": {
      "application/vnd.jupyter.widget-view+json": {
       "model_id": "",
       "version_major": 2,
       "version_minor": 0
      },
      "text/plain": [
       "0it [00:00, ?it/s]"
      ]
     },
     "metadata": {},
     "output_type": "display_data"
    },
    {
     "name": "stdout",
     "output_type": "stream",
     "text": [
      "16 444.54275736964763\n"
     ]
    },
    {
     "data": {
      "application/vnd.jupyter.widget-view+json": {
       "model_id": "",
       "version_major": 2,
       "version_minor": 0
      },
      "text/plain": [
       "0it [00:00, ?it/s]"
      ]
     },
     "metadata": {},
     "output_type": "display_data"
    },
    {
     "name": "stdout",
     "output_type": "stream",
     "text": [
      "12 444.54275736964763\n"
     ]
    },
    {
     "data": {
      "application/vnd.jupyter.widget-view+json": {
       "model_id": "",
       "version_major": 2,
       "version_minor": 0
      },
      "text/plain": [
       "0it [00:00, ?it/s]"
      ]
     },
     "metadata": {},
     "output_type": "display_data"
    },
    {
     "name": "stdout",
     "output_type": "stream",
     "text": [
      "9 444.54275736964763\n"
     ]
    },
    {
     "data": {
      "application/vnd.jupyter.widget-view+json": {
       "model_id": "",
       "version_major": 2,
       "version_minor": 0
      },
      "text/plain": [
       "0it [00:00, ?it/s]"
      ]
     },
     "metadata": {},
     "output_type": "display_data"
    },
    {
     "name": "stdout",
     "output_type": "stream",
     "text": [
      "7 444.54275736964763\n"
     ]
    },
    {
     "data": {
      "application/vnd.jupyter.widget-view+json": {
       "model_id": "",
       "version_major": 2,
       "version_minor": 0
      },
      "text/plain": [
       "0it [00:00, ?it/s]"
      ]
     },
     "metadata": {},
     "output_type": "display_data"
    },
    {
     "ename": "KeyboardInterrupt",
     "evalue": "",
     "output_type": "error",
     "traceback": [
      "\u001b[1;31m---------------------------------------------------------------------------\u001b[0m",
      "\u001b[1;31mKeyboardInterrupt\u001b[0m                         Traceback (most recent call last)",
      "Cell \u001b[1;32mIn[7], line 25\u001b[0m\n\u001b[0;32m     22\u001b[0m \u001b[38;5;28;01mwhile\u001b[39;00m temperature \u001b[38;5;241m>\u001b[39m final_temperature:\n\u001b[0;32m     24\u001b[0m     new_path \u001b[38;5;241m=\u001b[39m do_2opt(optimal_path, points, search_idx)\n\u001b[1;32m---> 25\u001b[0m     new_distance \u001b[38;5;241m=\u001b[39m \u001b[43mcalculate_travel\u001b[49m\u001b[43m(\u001b[49m\u001b[43mnew_path\u001b[49m\u001b[43m,\u001b[49m\u001b[43m \u001b[49m\u001b[43mpoints\u001b[49m\u001b[43m)\u001b[49m\n\u001b[0;32m     27\u001b[0m     \u001b[38;5;28;01mif\u001b[39;00m new_distance \u001b[38;5;241m<\u001b[39m\u001b[38;5;241m=\u001b[39m optimal_distance:\n\u001b[0;32m     28\u001b[0m         optimal_distance \u001b[38;5;241m=\u001b[39m deepcopy(new_distance)\n",
      "Cell \u001b[1;32mIn[3], line 43\u001b[0m, in \u001b[0;36mcalculate_travel\u001b[1;34m(graph, points)\u001b[0m\n\u001b[0;32m     41\u001b[0m path \u001b[38;5;241m=\u001b[39m deepcopy(graph)\n\u001b[0;32m     42\u001b[0m path\u001b[38;5;241m.\u001b[39mappend(path[\u001b[38;5;241m0\u001b[39m])\n\u001b[1;32m---> 43\u001b[0m coordinates \u001b[38;5;241m=\u001b[39m \u001b[43mnp\u001b[49m\u001b[38;5;241;43m.\u001b[39;49m\u001b[43marray\u001b[49m\u001b[43m(\u001b[49m\u001b[43m[\u001b[49m\u001b[43mpoints\u001b[49m\u001b[43m[\u001b[49m\u001b[43midx\u001b[49m\u001b[43m]\u001b[49m\u001b[43m \u001b[49m\u001b[38;5;28;43;01mfor\u001b[39;49;00m\u001b[43m \u001b[49m\u001b[43midx\u001b[49m\u001b[43m \u001b[49m\u001b[38;5;129;43;01min\u001b[39;49;00m\u001b[43m \u001b[49m\u001b[43mpath\u001b[49m\u001b[43m]\u001b[49m\u001b[43m)\u001b[49m\n\u001b[0;32m     44\u001b[0m distances \u001b[38;5;241m=\u001b[39m np\u001b[38;5;241m.\u001b[39mlinalg\u001b[38;5;241m.\u001b[39mnorm(coordinates[\u001b[38;5;241m1\u001b[39m:] \u001b[38;5;241m-\u001b[39m coordinates[:\u001b[38;5;241m-\u001b[39m\u001b[38;5;241m1\u001b[39m], axis\u001b[38;5;241m=\u001b[39m\u001b[38;5;241m1\u001b[39m)\n\u001b[0;32m     45\u001b[0m \u001b[38;5;28;01mreturn\u001b[39;00m np\u001b[38;5;241m.\u001b[39msum(distances)\n",
      "\u001b[1;31mKeyboardInterrupt\u001b[0m: "
     ]
    }
   ],
   "source": [
    "# iter = 0\n",
    "# max_iterations = 50000\n",
    "\n",
    "init_temperature = 1000\n",
    "final_temperature = 1e-9\n",
    "cooling_rate = 0.999\n",
    "search_idx = len(points)\n",
    "\n",
    "\n",
    "while search_idx >= 1:\n",
    "    \n",
    "    temperature = init_temperature\n",
    "    optimal_path = deepcopy(global_optimal_path)\n",
    "    optimal_distance = deepcopy(global_optimal_distance)\n",
    "    \n",
    "    # idx_i, idx_j = random.sample(range(len(optimal_path)), 2)\n",
    "    # optimal_path[idx_i], optimal_path[idx_j] = optimal_path[idx_j], optimal_path[idx_i]\n",
    "    random.shuffle(optimal_path)\n",
    "    optimal_distance = calculate_travel(optimal_path, points)\n",
    "    \n",
    "    with tqdm(leave=False) as pbar:\n",
    "        while temperature > final_temperature:\n",
    "            \n",
    "            new_path = do_2opt(optimal_path, points, search_idx)\n",
    "            new_distance = calculate_travel(new_path, points)\n",
    "            \n",
    "            if new_distance <= optimal_distance:\n",
    "                optimal_distance = deepcopy(new_distance)\n",
    "                optimal_path = deepcopy(new_path)\n",
    "                \n",
    "            else:\n",
    "                acceptance_prob = np.exp(-(new_distance-optimal_distance)/temperature)\n",
    "                to_pick_prob = random.random()\n",
    "                \n",
    "                if to_pick_prob < acceptance_prob:\n",
    "                    # print(to_pick_prob, acceptance_prob, new_distance-optimal_distance)\n",
    "                    optimal_distance = deepcopy(new_distance)\n",
    "                    optimal_path = deepcopy(new_path)\n",
    "        \n",
    "                \n",
    "            if optimal_distance < global_optimal_distance:\n",
    "                global_optimal_distance = deepcopy(optimal_distance)\n",
    "                global_optimal_path = deepcopy(optimal_path)\n",
    "               \n",
    "    \n",
    "            temperature *= cooling_rate\n",
    "            pbar.update(1)\n",
    "    \n",
    "    search_idx = int(search_idx//1.25)\n",
    "    print(search_idx, global_optimal_distance)"
   ]
  },
  {
   "cell_type": "code",
   "execution_count": null,
   "id": "341bfc6c-3291-4f6d-a151-4cd558c4ff4a",
   "metadata": {},
   "outputs": [],
   "source": [
    "1//1.25"
   ]
  },
  {
   "cell_type": "code",
   "execution_count": null,
   "id": "9cc21f3b-ee8d-4e32-b561-3b60d854caf2",
   "metadata": {},
   "outputs": [],
   "source": [
    "# edge_x = []\n",
    "# edge_y = []\n",
    "\n",
    "# for idx, connections in tqdm(enumerate(graph_paths)):\n",
    "    \n",
    "#     x0, y0 = points[idx]\n",
    "    \n",
    "#     for connect in connections:\n",
    "#         x1, y1 = points[connect]\n",
    "    \n",
    "#         edge_x.append(x0)\n",
    "#         edge_x.append(x1)\n",
    "#         edge_x.append(None)\n",
    "        \n",
    "#         edge_y.append(y0)\n",
    "#         edge_y.append(y1)\n",
    "#         edge_y.append(None)\n",
    "\n",
    "edge_x = []\n",
    "edge_y = []\n",
    "\n",
    "for idx in tqdm(global_optimal_path + [global_optimal_path[0]]):\n",
    "    \n",
    "    x0, y0 = points[idx]\n",
    "    \n",
    "    edge_x.append(x0)\n",
    "    edge_y.append(y0)"
   ]
  },
  {
   "cell_type": "code",
   "execution_count": null,
   "id": "2ef4755c-23d7-4b78-b55e-c72e7345ae72",
   "metadata": {},
   "outputs": [],
   "source": [
    "\n",
    "\n",
    "fig = go.Figure(data=go.Scattergl(\n",
    "    x=edge_x,\n",
    "    y=edge_y,\n",
    "    mode=\"markers+lines\",\n",
    "    # mode=\"markers\"\n",
    "))\n",
    "fig.update_layout(height=750)\n",
    "fig.show()\n"
   ]
  },
  {
   "cell_type": "code",
   "execution_count": null,
   "id": "413770ef-56d9-47c0-8ddb-206468766f87",
   "metadata": {},
   "outputs": [],
   "source": [
    "\n",
    "\n",
    "fig = go.Figure(data=go.Scattergl(\n",
    "    x=edge_x,\n",
    "    y=edge_y,\n",
    "    mode=\"markers+lines\",\n",
    "    # mode=\"markers\"\n",
    "))\n",
    "fig.update_layout(height=750)\n",
    "fig.show()\n"
   ]
  },
  {
   "cell_type": "code",
   "execution_count": null,
   "id": "e00b0c45-595d-494e-9e74-345443a10e9c",
   "metadata": {},
   "outputs": [],
   "source": []
  },
  {
   "cell_type": "code",
   "execution_count": null,
   "id": "7bb597a2-1914-46c4-880a-e8d97a5d6881",
   "metadata": {},
   "outputs": [],
   "source": []
  },
  {
   "cell_type": "code",
   "execution_count": null,
   "id": "273c7879-5704-46d3-aba3-ade43957e266",
   "metadata": {},
   "outputs": [],
   "source": []
  },
  {
   "cell_type": "code",
   "execution_count": null,
   "id": "d9ef527f-fd17-48b9-a983-e29c391efdae",
   "metadata": {},
   "outputs": [],
   "source": [
    "fig = go.Figure(data=go.Scattergl(\n",
    "    x=edge_x,\n",
    "    y=edge_y,\n",
    "    mode=\"markers+lines\",\n",
    "    # mode=\"markers\"\n",
    "))\n",
    "fig.update_layout(width=1200, height=1200*layout_ratio)\n",
    "fig.show()"
   ]
  },
  {
   "cell_type": "code",
   "execution_count": null,
   "id": "3fdd1b5b-06ba-426c-97d1-e23e5480fa22",
   "metadata": {},
   "outputs": [],
   "source": [
    "\n",
    "x_points = [x for x, y in points]\n",
    "y_points = [y for x, y in points]\n",
    "layout_ratio = max(x_points)/max(y_points)\n",
    "\n",
    "fig = go.Figure(data=go.Scattergl(\n",
    "    x=x_points,\n",
    "    y=y_points,\n",
    "    # mode=\"markers+lines\",\n",
    "    mode=\"markers\"\n",
    "))\n",
    "fig.update_layout(width=1200, height=1200*layout_ratio)\n",
    "fig.show()"
   ]
  },
  {
   "cell_type": "code",
   "execution_count": null,
   "id": "b92dc545-ca38-4dda-a9cc-63e6920e9239",
   "metadata": {},
   "outputs": [],
   "source": [
    "\n",
    "x_points = [x for x, y in exploring_path]\n",
    "y_points = [y for x, y in exploring_path]\n",
    "layout_ratio = max(x_points)/max(y_points)\n",
    "\n",
    "fig = go.Figure(data=go.Scattergl(\n",
    "    x=x_points,\n",
    "    y=y_points,\n",
    "    mode=\"markers+lines\",\n",
    "    # mode=\"markers\"\n",
    "))\n",
    "fig.update_layout(width=1200, height=1200*layout_ratio)\n",
    "fig.show()"
   ]
  },
  {
   "cell_type": "code",
   "execution_count": null,
   "id": "600b786d-f6cb-4802-997b-a32d384a3fca",
   "metadata": {},
   "outputs": [],
   "source": [
    "# SEMI-MST\n",
    "\n",
    "# edge_x = []\n",
    "# edge_y = []\n",
    "\n",
    "# for one_point in tqdm(points):\n",
    "\n",
    "#     neighbors = np.sqrt((points[:, 0]-one_point[0])**2 + (points[:, 1]-one_point[1])**2)\n",
    "    \n",
    "#     x0, y0 = one_point\n",
    "\n",
    "#     connections = points[np.argsort(neighbors)[1]] # [1:3]] ## 2 connections - 1st one is self\n",
    "    \n",
    "#     for connect in [connections]:\n",
    "#         x1, y1 = connect\n",
    "    \n",
    "#         edge_x.append(x0)\n",
    "#         edge_x.append(x1)\n",
    "#         edge_x.append(None)\n",
    "        \n",
    "#         edge_y.append(y0)\n",
    "#         edge_y.append(y1)\n",
    "#         edge_y.append(None)\n",
    "\n",
    "\n",
    "# fig = go.Figure(data=go.Scattergl(\n",
    "#     x=edge_x,\n",
    "#     y=edge_y,\n",
    "#     mode=\"markers+lines\",\n",
    "#     # mode=\"markers\"\n",
    "# ))\n",
    "# fig.update_layout(width=1200, height=1200*layout_ratio)\n",
    "# fig.show()\n",
    "\n",
    "\n",
    "\n",
    "\n",
    "# def do_2opt(path, points, search_idx):\n",
    "    \n",
    "#     path = deepcopy(path)\n",
    "    \n",
    "#     coor = np.array([points[idx] for idx in path+[path[0]]])\n",
    "#     dist = np.linalg.norm(coor[1:] - coor[:-1], axis=1)\n",
    "\n",
    "#     ## This coordinate has longest distance\n",
    "#     max_point = np.argsort(-dist)[search_idx]\n",
    "\n",
    "#     mid_point = get_midpoint(coor[max_point], coor[max_point+1])\n",
    "#     mid_nearest_point = np.argmin(length_distance(mid_point, points))\n",
    "#     switch_point = np.where((coor == points[mid_nearest_point]).all(axis=1))[0][0]\n",
    "\n",
    "#     if switch_point > max_point:\n",
    "#         slice_start = max_point\n",
    "#         slice_end = switch_point\n",
    "#     else:\n",
    "#         slice_start = switch_point\n",
    "#         slice_end = max_point\n",
    "\n",
    "#     slice_path = path[slice_start:slice_end+1]\n",
    "#     slice_path.reverse()\n",
    "\n",
    "#     new_path = path[:slice_start]+slice_path+path[slice_end+1:]\n",
    "    \n",
    "#     return new_path\n"
   ]
  }
 ],
 "metadata": {
  "kernelspec": {
   "display_name": "Python 3 (ipykernel)",
   "language": "python",
   "name": "python3"
  },
  "language_info": {
   "codemirror_mode": {
    "name": "ipython",
    "version": 3
   },
   "file_extension": ".py",
   "mimetype": "text/x-python",
   "name": "python",
   "nbconvert_exporter": "python",
   "pygments_lexer": "ipython3",
   "version": "3.10.11"
  },
  "widgets": {
   "application/vnd.jupyter.widget-state+json": {
    "state": {
     "009bf042918f4e51b1aef1af1d26f3ef": {
      "model_module": "@jupyter-widgets/base",
      "model_module_version": "2.0.0",
      "model_name": "LayoutModel",
      "state": {}
     },
     "04d8758269014cc486b73075a4a91c48": {
      "model_module": "@jupyter-widgets/controls",
      "model_module_version": "2.0.0",
      "model_name": "HTMLModel",
      "state": {
       "layout": "IPY_MODEL_dcff12bd2a984bb0b745ea10dc48338e",
       "style": "IPY_MODEL_e4a953c5392f4e13bff84a8412b27726",
       "value": "100%"
      }
     },
     "0a5a21d3aefb4c728db6b8ea431e3dca": {
      "model_module": "@jupyter-widgets/controls",
      "model_module_version": "2.0.0",
      "model_name": "ProgressStyleModel",
      "state": {
       "description_width": ""
      }
     },
     "0aceb1667985481ab17574b9c005ab7d": {
      "model_module": "@jupyter-widgets/base",
      "model_module_version": "2.0.0",
      "model_name": "LayoutModel",
      "state": {}
     },
     "0c6db5f170974245b5785de25f0fb60f": {
      "model_module": "@jupyter-widgets/controls",
      "model_module_version": "2.0.0",
      "model_name": "HTMLStyleModel",
      "state": {
       "description_width": "",
       "font_size": null,
       "text_color": null
      }
     },
     "125563f4f3d343b29d5463677afdda0f": {
      "model_module": "@jupyter-widgets/controls",
      "model_module_version": "2.0.0",
      "model_name": "HTMLStyleModel",
      "state": {
       "description_width": "",
       "font_size": null,
       "text_color": null
      }
     },
     "129f80bbca3c44f49131a63a995d0dc7": {
      "model_module": "@jupyter-widgets/controls",
      "model_module_version": "2.0.0",
      "model_name": "HTMLStyleModel",
      "state": {
       "description_width": "",
       "font_size": null,
       "text_color": null
      }
     },
     "12c6f1ea28e348adb88396aab6c00886": {
      "model_module": "@jupyter-widgets/controls",
      "model_module_version": "2.0.0",
      "model_name": "HTMLModel",
      "state": {
       "layout": "IPY_MODEL_f6aa907be560434fa23a7b3c0352b120",
       "style": "IPY_MODEL_c72c0f5a3f3b4d3bbf5279bd86b9b20e"
      }
     },
     "159903b7bdbb4a04a1f264cac2e41e2b": {
      "model_module": "@jupyter-widgets/base",
      "model_module_version": "2.0.0",
      "model_name": "LayoutModel",
      "state": {
       "width": "20px"
      }
     },
     "1787def53b9e410ea4205a741636ee9a": {
      "model_module": "@jupyter-widgets/base",
      "model_module_version": "2.0.0",
      "model_name": "LayoutModel",
      "state": {
       "width": "20px"
      }
     },
     "1832b15471d945329a9f1997a71441ed": {
      "model_module": "@jupyter-widgets/controls",
      "model_module_version": "2.0.0",
      "model_name": "HTMLModel",
      "state": {
       "layout": "IPY_MODEL_f83c47f06f5e4860b6be239c332cdbac",
       "style": "IPY_MODEL_4badf540aa794aa59979ffa2cc13403c",
       "value": " 10389/? [00:03&lt;00:00, 3768.90it/s]"
      }
     },
     "19307fd645514cd88bfd1f770ff7f1ef": {
      "model_module": "@jupyter-widgets/controls",
      "model_module_version": "2.0.0",
      "model_name": "ProgressStyleModel",
      "state": {
       "description_width": ""
      }
     },
     "1cc834e68de14d438f46528ecd31d113": {
      "model_module": "@jupyter-widgets/controls",
      "model_module_version": "2.0.0",
      "model_name": "HTMLStyleModel",
      "state": {
       "description_width": "",
       "font_size": null,
       "text_color": null
      }
     },
     "1f5c91ec67e94ff188023b211d33815e": {
      "model_module": "@jupyter-widgets/base",
      "model_module_version": "2.0.0",
      "model_name": "LayoutModel",
      "state": {
       "visibility": "hidden"
      }
     },
     "2040f81acbb749d9a6f14af397bf1b94": {
      "model_module": "@jupyter-widgets/controls",
      "model_module_version": "2.0.0",
      "model_name": "HTMLStyleModel",
      "state": {
       "description_width": "",
       "font_size": null,
       "text_color": null
      }
     },
     "2bf533b76563401bb54616d0280d8487": {
      "model_module": "@jupyter-widgets/controls",
      "model_module_version": "2.0.0",
      "model_name": "FloatProgressModel",
      "state": {
       "bar_style": "info",
       "layout": "IPY_MODEL_5142c74b84224dceb4c4f31d0131fcb7",
       "max": 1,
       "style": "IPY_MODEL_ad8f6d2782b644638b53c79e70c2511e",
       "value": 1
      }
     },
     "2c5ba2821de14599830925288589b170": {
      "model_module": "@jupyter-widgets/controls",
      "model_module_version": "2.0.0",
      "model_name": "ProgressStyleModel",
      "state": {
       "description_width": ""
      }
     },
     "2d05efaa7a284464a649e0726d689291": {
      "model_module": "@jupyter-widgets/base",
      "model_module_version": "2.0.0",
      "model_name": "LayoutModel",
      "state": {}
     },
     "2d9fd5ac862b488fb3ccab9ce1219c8a": {
      "model_module": "@jupyter-widgets/controls",
      "model_module_version": "2.0.0",
      "model_name": "FloatProgressModel",
      "state": {
       "bar_style": "info",
       "layout": "IPY_MODEL_159903b7bdbb4a04a1f264cac2e41e2b",
       "max": 1,
       "style": "IPY_MODEL_2c5ba2821de14599830925288589b170",
       "value": 1
      }
     },
     "2e26562d341f4bbe8a1232cc44c886c1": {
      "model_module": "@jupyter-widgets/controls",
      "model_module_version": "2.0.0",
      "model_name": "ProgressStyleModel",
      "state": {
       "description_width": ""
      }
     },
     "2e2f48bd950749a49c7c5681f8da9ee5": {
      "model_module": "@jupyter-widgets/base",
      "model_module_version": "2.0.0",
      "model_name": "LayoutModel",
      "state": {
       "width": "20px"
      }
     },
     "306f9594b178427d86f7d06e21d73253": {
      "model_module": "@jupyter-widgets/controls",
      "model_module_version": "2.0.0",
      "model_name": "ProgressStyleModel",
      "state": {
       "description_width": ""
      }
     },
     "36a69bb8f8ca4cb2965cfa23acef3fea": {
      "model_module": "@jupyter-widgets/controls",
      "model_module_version": "2.0.0",
      "model_name": "FloatProgressModel",
      "state": {
       "bar_style": "info",
       "layout": "IPY_MODEL_e9fa60ba825c4014b322a35c035bdcf6",
       "max": 1,
       "style": "IPY_MODEL_0a5a21d3aefb4c728db6b8ea431e3dca",
       "value": 1
      }
     },
     "3bd27e5b1ecc44bd9069e03c157ef531": {
      "model_module": "@jupyter-widgets/controls",
      "model_module_version": "2.0.0",
      "model_name": "HTMLModel",
      "state": {
       "layout": "IPY_MODEL_cfb997ff1650499cb6cfeaad24c99410",
       "style": "IPY_MODEL_96aeba39e31b4b0aba4cf11fc3f1f2bd"
      }
     },
     "3c5b385b5d9742ce93a5d5c455c00beb": {
      "model_module": "@jupyter-widgets/controls",
      "model_module_version": "2.0.0",
      "model_name": "HTMLModel",
      "state": {
       "layout": "IPY_MODEL_a2b224d55b2747e8811ddd46fc92a8d6",
       "style": "IPY_MODEL_1cc834e68de14d438f46528ecd31d113"
      }
     },
     "4058d2a650b64896a840104ffed95de8": {
      "model_module": "@jupyter-widgets/base",
      "model_module_version": "2.0.0",
      "model_name": "LayoutModel",
      "state": {}
     },
     "40bc98b394e74495a62362064a7f3598": {
      "model_module": "@jupyter-widgets/controls",
      "model_module_version": "2.0.0",
      "model_name": "HTMLModel",
      "state": {
       "layout": "IPY_MODEL_60fad5f906f744e78a9d46db54bbecd2",
       "style": "IPY_MODEL_f25ebd5126ef4679b9a917a06d31e431"
      }
     },
     "433c986348df416f817f59dc3f1d5c0a": {
      "model_module": "@jupyter-widgets/controls",
      "model_module_version": "2.0.0",
      "model_name": "HTMLModel",
      "state": {
       "layout": "IPY_MODEL_bf6d50eb1ecc4c1fbc0f5473af8efdf6",
       "style": "IPY_MODEL_a8bb938fbb7b41c78af87309daefc22a",
       "value": " 27503/? [00:07&lt;00:00, 3611.21it/s]"
      }
     },
     "454a8a89e65a4cb89d3146415fbf8970": {
      "model_module": "@jupyter-widgets/base",
      "model_module_version": "2.0.0",
      "model_name": "LayoutModel",
      "state": {}
     },
     "469c9ab198f745f1b84ee235d00b99e6": {
      "model_module": "@jupyter-widgets/controls",
      "model_module_version": "2.0.0",
      "model_name": "HTMLStyleModel",
      "state": {
       "description_width": "",
       "font_size": null,
       "text_color": null
      }
     },
     "4768f7380d76496d91f097a5e6f954bf": {
      "model_module": "@jupyter-widgets/controls",
      "model_module_version": "2.0.0",
      "model_name": "HTMLModel",
      "state": {
       "layout": "IPY_MODEL_e0ed6c047050447ab955165b8bf12447",
       "style": "IPY_MODEL_129f80bbca3c44f49131a63a995d0dc7"
      }
     },
     "4badf540aa794aa59979ffa2cc13403c": {
      "model_module": "@jupyter-widgets/controls",
      "model_module_version": "2.0.0",
      "model_name": "HTMLStyleModel",
      "state": {
       "description_width": "",
       "font_size": null,
       "text_color": null
      }
     },
     "4fce883a091f46b5b0213ce060c63a98": {
      "model_module": "@jupyter-widgets/base",
      "model_module_version": "2.0.0",
      "model_name": "LayoutModel",
      "state": {
       "width": "20px"
      }
     },
     "50da1b6564604a7fa817a05dffa1e6ae": {
      "model_module": "@jupyter-widgets/controls",
      "model_module_version": "2.0.0",
      "model_name": "ProgressStyleModel",
      "state": {
       "description_width": ""
      }
     },
     "5142c74b84224dceb4c4f31d0131fcb7": {
      "model_module": "@jupyter-widgets/base",
      "model_module_version": "2.0.0",
      "model_name": "LayoutModel",
      "state": {
       "width": "20px"
      }
     },
     "547cda8f7f88451eb6222b59d69608dd": {
      "model_module": "@jupyter-widgets/controls",
      "model_module_version": "2.0.0",
      "model_name": "HTMLModel",
      "state": {
       "layout": "IPY_MODEL_7ff46d2655474b3a8c6cdc085568b63e",
       "style": "IPY_MODEL_be4603b1be694477ba0d56d4574c09eb",
       "value": " 27373/? [00:07&lt;00:00, 3613.86it/s]"
      }
     },
     "596cade845e34e61baec485c334cef94": {
      "model_module": "@jupyter-widgets/base",
      "model_module_version": "2.0.0",
      "model_name": "LayoutModel",
      "state": {}
     },
     "5a39c0a825814bb6b66542eb0c1e2f93": {
      "model_module": "@jupyter-widgets/controls",
      "model_module_version": "2.0.0",
      "model_name": "FloatProgressModel",
      "state": {
       "bar_style": "info",
       "layout": "IPY_MODEL_b0968080ad364185aa79c0420a209d50",
       "max": 1,
       "style": "IPY_MODEL_19307fd645514cd88bfd1f770ff7f1ef",
       "value": 1
      }
     },
     "5d4f0714b7b54b1f8017ae0dbd57335b": {
      "model_module": "@jupyter-widgets/base",
      "model_module_version": "2.0.0",
      "model_name": "LayoutModel",
      "state": {}
     },
     "60fad5f906f744e78a9d46db54bbecd2": {
      "model_module": "@jupyter-widgets/base",
      "model_module_version": "2.0.0",
      "model_name": "LayoutModel",
      "state": {}
     },
     "615a229a552b4b779faa2e0f913fad80": {
      "model_module": "@jupyter-widgets/controls",
      "model_module_version": "2.0.0",
      "model_name": "HTMLModel",
      "state": {
       "layout": "IPY_MODEL_0aceb1667985481ab17574b9c005ab7d",
       "style": "IPY_MODEL_80bf19e49ec74125bf3c12f12de66f0a"
      }
     },
     "61b53f567cfb414a8f5c97ffab49cf49": {
      "model_module": "@jupyter-widgets/controls",
      "model_module_version": "2.0.0",
      "model_name": "HTMLModel",
      "state": {
       "layout": "IPY_MODEL_2d05efaa7a284464a649e0726d689291",
       "style": "IPY_MODEL_98c27f2184344f878b0c432c350d399f",
       "value": " 27519/? [00:07&lt;00:00, 3757.76it/s]"
      }
     },
     "62ff8eae802d4457aa6ae16f8058bbba": {
      "model_module": "@jupyter-widgets/controls",
      "model_module_version": "2.0.0",
      "model_name": "FloatProgressModel",
      "state": {
       "bar_style": "info",
       "layout": "IPY_MODEL_b89ef91d9dcd428ba021e777de2826c7",
       "max": 1,
       "style": "IPY_MODEL_80cd71100e7e41e5984111b1ef03e0b5",
       "value": 1
      }
     },
     "66dc792212ef4689b5cbce56ec1fed1f": {
      "model_module": "@jupyter-widgets/controls",
      "model_module_version": "2.0.0",
      "model_name": "ProgressStyleModel",
      "state": {
       "description_width": ""
      }
     },
     "6e05d12fb3de41bba279b59705a850d3": {
      "model_module": "@jupyter-widgets/controls",
      "model_module_version": "2.0.0",
      "model_name": "HTMLModel",
      "state": {
       "layout": "IPY_MODEL_009bf042918f4e51b1aef1af1d26f3ef",
       "style": "IPY_MODEL_125563f4f3d343b29d5463677afdda0f",
       "value": " 100/100 [00:01&lt;00:00, 139.39it/s]"
      }
     },
     "6ec5df17bf5d499d955aa9936adafc53": {
      "model_module": "@jupyter-widgets/base",
      "model_module_version": "2.0.0",
      "model_name": "LayoutModel",
      "state": {
       "visibility": "hidden"
      }
     },
     "6f92073b8c914ee1bebda9d221023f58": {
      "model_module": "@jupyter-widgets/base",
      "model_module_version": "2.0.0",
      "model_name": "LayoutModel",
      "state": {
       "visibility": "hidden"
      }
     },
     "7ff46d2655474b3a8c6cdc085568b63e": {
      "model_module": "@jupyter-widgets/base",
      "model_module_version": "2.0.0",
      "model_name": "LayoutModel",
      "state": {}
     },
     "80bf19e49ec74125bf3c12f12de66f0a": {
      "model_module": "@jupyter-widgets/controls",
      "model_module_version": "2.0.0",
      "model_name": "HTMLStyleModel",
      "state": {
       "description_width": "",
       "font_size": null,
       "text_color": null
      }
     },
     "80cd71100e7e41e5984111b1ef03e0b5": {
      "model_module": "@jupyter-widgets/controls",
      "model_module_version": "2.0.0",
      "model_name": "ProgressStyleModel",
      "state": {
       "description_width": ""
      }
     },
     "82889532b67040b89fd48637b18af21f": {
      "model_module": "@jupyter-widgets/controls",
      "model_module_version": "2.0.0",
      "model_name": "ProgressStyleModel",
      "state": {
       "description_width": ""
      }
     },
     "83193e14cbb543c687ffaaa8688fdbec": {
      "model_module": "@jupyter-widgets/controls",
      "model_module_version": "2.0.0",
      "model_name": "HTMLModel",
      "state": {
       "layout": "IPY_MODEL_eec12f6d65a543ef8838d35b3efe2e60",
       "style": "IPY_MODEL_a994da02d18d4980a14712203e75bf32",
       "value": " 27516/? [00:07&lt;00:00, 3609.65it/s]"
      }
     },
     "8592582ae163409a979f529ba867bc21": {
      "model_module": "@jupyter-widgets/base",
      "model_module_version": "2.0.0",
      "model_name": "LayoutModel",
      "state": {}
     },
     "86b5c89c22184e4e9e8e268f2d2df35a": {
      "model_module": "@jupyter-widgets/base",
      "model_module_version": "2.0.0",
      "model_name": "LayoutModel",
      "state": {
       "visibility": "hidden"
      }
     },
     "89dc2a69006f4c7abd25c85653c3e973": {
      "model_module": "@jupyter-widgets/base",
      "model_module_version": "2.0.0",
      "model_name": "LayoutModel",
      "state": {
       "visibility": "hidden"
      }
     },
     "8daf973565994600879d56c0ab350ad9": {
      "model_module": "@jupyter-widgets/base",
      "model_module_version": "2.0.0",
      "model_name": "LayoutModel",
      "state": {
       "width": "20px"
      }
     },
     "8ea855393a954a20b78ba8026672c7cc": {
      "model_module": "@jupyter-widgets/controls",
      "model_module_version": "2.0.0",
      "model_name": "HTMLModel",
      "state": {
       "layout": "IPY_MODEL_8592582ae163409a979f529ba867bc21",
       "style": "IPY_MODEL_2040f81acbb749d9a6f14af397bf1b94"
      }
     },
     "8f13d48fa3674a249236a7b8bca5f5d5": {
      "model_module": "@jupyter-widgets/base",
      "model_module_version": "2.0.0",
      "model_name": "LayoutModel",
      "state": {}
     },
     "912c1cadb4ae4a4195982e9c47ad8b58": {
      "model_module": "@jupyter-widgets/base",
      "model_module_version": "2.0.0",
      "model_name": "LayoutModel",
      "state": {
       "visibility": "hidden"
      }
     },
     "91fbf924757e4829a79beb19b6bd0869": {
      "model_module": "@jupyter-widgets/controls",
      "model_module_version": "2.0.0",
      "model_name": "HTMLModel",
      "state": {
       "layout": "IPY_MODEL_9aafff89d98d4b9999de889bf2f64b40",
       "style": "IPY_MODEL_dc07c5b101034df79e287904d6e95418",
       "value": " 27425/? [00:07&lt;00:00, 3556.28it/s]"
      }
     },
     "96aeba39e31b4b0aba4cf11fc3f1f2bd": {
      "model_module": "@jupyter-widgets/controls",
      "model_module_version": "2.0.0",
      "model_name": "HTMLStyleModel",
      "state": {
       "description_width": "",
       "font_size": null,
       "text_color": null
      }
     },
     "98c27f2184344f878b0c432c350d399f": {
      "model_module": "@jupyter-widgets/controls",
      "model_module_version": "2.0.0",
      "model_name": "HTMLStyleModel",
      "state": {
       "description_width": "",
       "font_size": null,
       "text_color": null
      }
     },
     "9aafff89d98d4b9999de889bf2f64b40": {
      "model_module": "@jupyter-widgets/base",
      "model_module_version": "2.0.0",
      "model_name": "LayoutModel",
      "state": {}
     },
     "9e2ac3a74e6c4253b1a9c68a0453d283": {
      "model_module": "@jupyter-widgets/controls",
      "model_module_version": "2.0.0",
      "model_name": "FloatProgressModel",
      "state": {
       "bar_style": "success",
       "layout": "IPY_MODEL_5d4f0714b7b54b1f8017ae0dbd57335b",
       "style": "IPY_MODEL_306f9594b178427d86f7d06e21d73253",
       "value": 100
      }
     },
     "9f1d11912fc448458aa813ec2cc75101": {
      "model_module": "@jupyter-widgets/controls",
      "model_module_version": "2.0.0",
      "model_name": "HTMLModel",
      "state": {
       "layout": "IPY_MODEL_a25db0bc7b8e44d4ab5b64b5a45fef30",
       "style": "IPY_MODEL_ff5a7c3b055f431f94c69033c0650ccf"
      }
     },
     "a25db0bc7b8e44d4ab5b64b5a45fef30": {
      "model_module": "@jupyter-widgets/base",
      "model_module_version": "2.0.0",
      "model_name": "LayoutModel",
      "state": {}
     },
     "a2b224d55b2747e8811ddd46fc92a8d6": {
      "model_module": "@jupyter-widgets/base",
      "model_module_version": "2.0.0",
      "model_name": "LayoutModel",
      "state": {}
     },
     "a8bb938fbb7b41c78af87309daefc22a": {
      "model_module": "@jupyter-widgets/controls",
      "model_module_version": "2.0.0",
      "model_name": "HTMLStyleModel",
      "state": {
       "description_width": "",
       "font_size": null,
       "text_color": null
      }
     },
     "a994da02d18d4980a14712203e75bf32": {
      "model_module": "@jupyter-widgets/controls",
      "model_module_version": "2.0.0",
      "model_name": "HTMLStyleModel",
      "state": {
       "description_width": "",
       "font_size": null,
       "text_color": null
      }
     },
     "aafdc43aebe443919768bac203794065": {
      "model_module": "@jupyter-widgets/controls",
      "model_module_version": "2.0.0",
      "model_name": "HTMLModel",
      "state": {
       "layout": "IPY_MODEL_8f13d48fa3674a249236a7b8bca5f5d5",
       "style": "IPY_MODEL_b230015cf35a42e284d26ea7f5b3ca1b",
       "value": " 27545/? [00:07&lt;00:00, 3579.76it/s]"
      }
     },
     "ad8f6d2782b644638b53c79e70c2511e": {
      "model_module": "@jupyter-widgets/controls",
      "model_module_version": "2.0.0",
      "model_name": "ProgressStyleModel",
      "state": {
       "description_width": ""
      }
     },
     "b0968080ad364185aa79c0420a209d50": {
      "model_module": "@jupyter-widgets/base",
      "model_module_version": "2.0.0",
      "model_name": "LayoutModel",
      "state": {
       "width": "20px"
      }
     },
     "b098681193414d59a64438edfa2a1679": {
      "model_module": "@jupyter-widgets/base",
      "model_module_version": "2.0.0",
      "model_name": "LayoutModel",
      "state": {
       "visibility": "hidden"
      }
     },
     "b230015cf35a42e284d26ea7f5b3ca1b": {
      "model_module": "@jupyter-widgets/controls",
      "model_module_version": "2.0.0",
      "model_name": "HTMLStyleModel",
      "state": {
       "description_width": "",
       "font_size": null,
       "text_color": null
      }
     },
     "b89ef91d9dcd428ba021e777de2826c7": {
      "model_module": "@jupyter-widgets/base",
      "model_module_version": "2.0.0",
      "model_name": "LayoutModel",
      "state": {
       "width": "20px"
      }
     },
     "be4603b1be694477ba0d56d4574c09eb": {
      "model_module": "@jupyter-widgets/controls",
      "model_module_version": "2.0.0",
      "model_name": "HTMLStyleModel",
      "state": {
       "description_width": "",
       "font_size": null,
       "text_color": null
      }
     },
     "bf6d50eb1ecc4c1fbc0f5473af8efdf6": {
      "model_module": "@jupyter-widgets/base",
      "model_module_version": "2.0.0",
      "model_name": "LayoutModel",
      "state": {}
     },
     "c015290c771f4dc096d5ec7fc47a8063": {
      "model_module": "@jupyter-widgets/base",
      "model_module_version": "2.0.0",
      "model_name": "LayoutModel",
      "state": {}
     },
     "c153435a67b144d08ff6d712bfb77de0": {
      "model_module": "@jupyter-widgets/base",
      "model_module_version": "2.0.0",
      "model_name": "LayoutModel",
      "state": {
       "visibility": "hidden"
      }
     },
     "c5406a2dc5e74146a141035ea1ce2ad4": {
      "model_module": "@jupyter-widgets/controls",
      "model_module_version": "2.0.0",
      "model_name": "HTMLModel",
      "state": {
       "layout": "IPY_MODEL_c015290c771f4dc096d5ec7fc47a8063",
       "style": "IPY_MODEL_0c6db5f170974245b5785de25f0fb60f",
       "value": " 27345/? [00:07&lt;00:00, 3648.83it/s]"
      }
     },
     "c72c0f5a3f3b4d3bbf5279bd86b9b20e": {
      "model_module": "@jupyter-widgets/controls",
      "model_module_version": "2.0.0",
      "model_name": "HTMLStyleModel",
      "state": {
       "description_width": "",
       "font_size": null,
       "text_color": null
      }
     },
     "c8b6568ada9a4d029297395c7f9fc739": {
      "model_module": "@jupyter-widgets/controls",
      "model_module_version": "2.0.0",
      "model_name": "FloatProgressModel",
      "state": {
       "bar_style": "info",
       "layout": "IPY_MODEL_4fce883a091f46b5b0213ce060c63a98",
       "max": 1,
       "style": "IPY_MODEL_2e26562d341f4bbe8a1232cc44c886c1",
       "value": 1
      }
     },
     "cfb997ff1650499cb6cfeaad24c99410": {
      "model_module": "@jupyter-widgets/base",
      "model_module_version": "2.0.0",
      "model_name": "LayoutModel",
      "state": {}
     },
     "d5dd7a1a0c204ca98c20958c944f5cec": {
      "model_module": "@jupyter-widgets/controls",
      "model_module_version": "2.0.0",
      "model_name": "FloatProgressModel",
      "state": {
       "bar_style": "info",
       "layout": "IPY_MODEL_8daf973565994600879d56c0ab350ad9",
       "max": 1,
       "style": "IPY_MODEL_50da1b6564604a7fa817a05dffa1e6ae",
       "value": 1
      }
     },
     "dc07c5b101034df79e287904d6e95418": {
      "model_module": "@jupyter-widgets/controls",
      "model_module_version": "2.0.0",
      "model_name": "HTMLStyleModel",
      "state": {
       "description_width": "",
       "font_size": null,
       "text_color": null
      }
     },
     "dcff12bd2a984bb0b745ea10dc48338e": {
      "model_module": "@jupyter-widgets/base",
      "model_module_version": "2.0.0",
      "model_name": "LayoutModel",
      "state": {}
     },
     "e0ed6c047050447ab955165b8bf12447": {
      "model_module": "@jupyter-widgets/base",
      "model_module_version": "2.0.0",
      "model_name": "LayoutModel",
      "state": {}
     },
     "e20c8e6c2ce54d0d8d1d9d629e129b38": {
      "model_module": "@jupyter-widgets/controls",
      "model_module_version": "2.0.0",
      "model_name": "HTMLStyleModel",
      "state": {
       "description_width": "",
       "font_size": null,
       "text_color": null
      }
     },
     "e3bf08e03b704775bea31688d17373ea": {
      "model_module": "@jupyter-widgets/controls",
      "model_module_version": "2.0.0",
      "model_name": "FloatProgressModel",
      "state": {
       "bar_style": "info",
       "layout": "IPY_MODEL_2e2f48bd950749a49c7c5681f8da9ee5",
       "max": 1,
       "style": "IPY_MODEL_82889532b67040b89fd48637b18af21f",
       "value": 1
      }
     },
     "e4a953c5392f4e13bff84a8412b27726": {
      "model_module": "@jupyter-widgets/controls",
      "model_module_version": "2.0.0",
      "model_name": "HTMLStyleModel",
      "state": {
       "description_width": "",
       "font_size": null,
       "text_color": null
      }
     },
     "e608d550eea8463ba7dfa82f17ef42c5": {
      "model_module": "@jupyter-widgets/controls",
      "model_module_version": "2.0.0",
      "model_name": "FloatProgressModel",
      "state": {
       "bar_style": "info",
       "layout": "IPY_MODEL_1787def53b9e410ea4205a741636ee9a",
       "max": 1,
       "style": "IPY_MODEL_66dc792212ef4689b5cbce56ec1fed1f",
       "value": 1
      }
     },
     "e7031eb7b7004aa5a71000abffe0c713": {
      "model_module": "@jupyter-widgets/base",
      "model_module_version": "2.0.0",
      "model_name": "LayoutModel",
      "state": {
       "visibility": "hidden"
      }
     },
     "e9fa60ba825c4014b322a35c035bdcf6": {
      "model_module": "@jupyter-widgets/base",
      "model_module_version": "2.0.0",
      "model_name": "LayoutModel",
      "state": {
       "width": "20px"
      }
     },
     "eec12f6d65a543ef8838d35b3efe2e60": {
      "model_module": "@jupyter-widgets/base",
      "model_module_version": "2.0.0",
      "model_name": "LayoutModel",
      "state": {}
     },
     "f25ebd5126ef4679b9a917a06d31e431": {
      "model_module": "@jupyter-widgets/controls",
      "model_module_version": "2.0.0",
      "model_name": "HTMLStyleModel",
      "state": {
       "description_width": "",
       "font_size": null,
       "text_color": null
      }
     },
     "f6aa907be560434fa23a7b3c0352b120": {
      "model_module": "@jupyter-widgets/base",
      "model_module_version": "2.0.0",
      "model_name": "LayoutModel",
      "state": {}
     },
     "f83c47f06f5e4860b6be239c332cdbac": {
      "model_module": "@jupyter-widgets/base",
      "model_module_version": "2.0.0",
      "model_name": "LayoutModel",
      "state": {}
     },
     "f93105d31c46434e8d4327f710b10bb0": {
      "model_module": "@jupyter-widgets/controls",
      "model_module_version": "2.0.0",
      "model_name": "HTMLModel",
      "state": {
       "layout": "IPY_MODEL_454a8a89e65a4cb89d3146415fbf8970",
       "style": "IPY_MODEL_469c9ab198f745f1b84ee235d00b99e6",
       "value": " 27529/? [00:07&lt;00:00, 3700.46it/s]"
      }
     },
     "fae19ccd74b24b388dd4f8ab62070705": {
      "model_module": "@jupyter-widgets/controls",
      "model_module_version": "2.0.0",
      "model_name": "HBoxModel",
      "state": {
       "children": [
        "IPY_MODEL_04d8758269014cc486b73075a4a91c48",
        "IPY_MODEL_9e2ac3a74e6c4253b1a9c68a0453d283",
        "IPY_MODEL_6e05d12fb3de41bba279b59705a850d3"
       ],
       "layout": "IPY_MODEL_4058d2a650b64896a840104ffed95de8"
      }
     },
     "fd740fc042814904b4ed8466be91319c": {
      "model_module": "@jupyter-widgets/controls",
      "model_module_version": "2.0.0",
      "model_name": "HTMLModel",
      "state": {
       "layout": "IPY_MODEL_596cade845e34e61baec485c334cef94",
       "style": "IPY_MODEL_e20c8e6c2ce54d0d8d1d9d629e129b38"
      }
     },
     "ff5a7c3b055f431f94c69033c0650ccf": {
      "model_module": "@jupyter-widgets/controls",
      "model_module_version": "2.0.0",
      "model_name": "HTMLStyleModel",
      "state": {
       "description_width": "",
       "font_size": null,
       "text_color": null
      }
     }
    },
    "version_major": 2,
    "version_minor": 0
   }
  }
 },
 "nbformat": 4,
 "nbformat_minor": 5
}
