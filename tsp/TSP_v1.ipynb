{
 "cells": [
  {
   "cell_type": "code",
   "execution_count": 1,
   "id": "4e2a2f80-2308-4b30-9d97-4b42fc14159d",
   "metadata": {},
   "outputs": [],
   "source": [
    "import math\n",
    "from collections import namedtuple\n",
    "import plotly.graph_objects as go\n",
    "import plotly.express as px\n",
    "import numpy as np\n",
    "from copy import deepcopy\n",
    "from tqdm import tqdm\n",
    "from tqdm.notebook import tqdm\n",
    "import random\n",
    "\n",
    "\n",
    "from numba import jit, vectorize, float64"
   ]
  },
  {
   "cell_type": "code",
   "execution_count": 2,
   "id": "bbf260ad-6dde-476b-9319-81016c11405f",
   "metadata": {},
   "outputs": [],
   "source": [
    "with open('./data/tsp_51_1', 'r') as input_data_file:\n",
    "    input_data = input_data_file.read()\n",
    "    \n",
    "lines = input_data.split('\\n')\n",
    "nodeCount = int(lines[0])\n",
    "\n",
    "points = []\n",
    "for i in range(1, nodeCount+1):\n",
    "    line = lines[i]\n",
    "    parts = line.split()\n",
    "    # points.append(Point(float(parts[0]), float(parts[1])))\n",
    "    points.append((float(parts[0]), float(parts[1])))\n",
    "points = np.array(points)"
   ]
  },
  {
   "cell_type": "code",
   "execution_count": 17,
   "id": "2d1fd51e-72e5-4f6c-a0da-217de17fd794",
   "metadata": {},
   "outputs": [],
   "source": [
    "def length(point1, point2):\n",
    "    return math.sqrt((point1[0] - point2[0])**2 + (point1[1] - point2[1])**2)\n",
    "\n",
    "\n",
    "def scan_region_from(current_point, remaining_stops):\n",
    "    x, y = current_point\n",
    "    \n",
    "    if x < y:\n",
    "        x_min = np.min(remaining_stops[:, 0])\n",
    "        scan_pointer = np.array([x_min, y])\n",
    "    else:\n",
    "        y_min = np.min(remaining_stops[:, 1])\n",
    "        scan_pointer = np.array([x, y_min])\n",
    "\n",
    "    return scan_pointer\n",
    "\n",
    "\n",
    "def add_explored(current_stop, remaining_stops):\n",
    "    ## Add node as explored\n",
    "    \n",
    "    # Find the index where the element matches in the array_of_arrays\n",
    "    remove_idx = np.where(np.all(remaining_stops == current_stop, axis=1))\n",
    "    \n",
    "    # Remove the element using the indices\n",
    "    remaining_stops = np.delete(remaining_stops, remove_idx, axis=0)\n",
    "    \n",
    "    return remaining_stops\n",
    "\n",
    "\n",
    "def point_in_bbox(point, bbox):\n",
    "    x, y = point\n",
    "    x_min, y_min, x_max, y_max = bbox\n",
    "    \n",
    "    if x_min <= x <= x_max and y_min <= y <= y_max:\n",
    "        return True\n",
    "    else:\n",
    "        return False\n",
    "\n",
    "\n",
    "def calculate_travel(graph, points):\n",
    "    path = deepcopy(graph)\n",
    "    path.append(path[0])\n",
    "    coordinates = np.array([points[idx] for idx in path])\n",
    "    distances = np.linalg.norm(coordinates[1:] - coordinates[:-1], axis=1)\n",
    "    return np.sum(distances)\n",
    "\n",
    "\n",
    "def get_midpoint(point1, point2):\n",
    "    return (point1+point2)//2\n",
    "\n",
    "\n",
    "def do_2opt(path, points, search_idx):\n",
    "    \n",
    "    path = deepcopy(path)\n",
    "    \n",
    "    coor = np.array([points[idx] for idx in path+[path[0]]])\n",
    "    dist = np.linalg.norm(coor[1:] - coor[:-1], axis=1)\n",
    "\n",
    "    ## Sort by n distances set by search_idx\n",
    "    sorted_dist = np.argsort(-dist)[:search_idx]\n",
    "\n",
    "    max_point = np.random.choice(sorted_dist)\n",
    "    \n",
    "    mid_point = get_midpoint(coor[max_point], coor[max_point+1])\n",
    "    \n",
    "    sorted_neighbor_point = np.argsort(length_distance(mid_point, points))[1:search_idx+1]\n",
    "\n",
    "    neighbor_point = np.random.choice(sorted_neighbor_point)\n",
    "    \n",
    "    switch_point = np.where((coor == points[neighbor_point]).all(axis=1))[0][0]\n",
    "\n",
    "    if switch_point > max_point:\n",
    "        slice_start = max_point\n",
    "        slice_end = switch_point\n",
    "    else:\n",
    "        slice_start = switch_point\n",
    "        slice_end = max_point\n",
    "\n",
    "    slice_path = path[slice_start:slice_end+1]\n",
    "    slice_path.reverse()\n",
    "\n",
    "    new_path = path[:slice_start]+slice_path+path[slice_end+1:]\n",
    "    \n",
    "    return new_path"
   ]
  },
  {
   "cell_type": "code",
   "execution_count": 11,
   "id": "3f3caa02-c394-403b-afd0-dd0070e5fe8d",
   "metadata": {},
   "outputs": [],
   "source": [
    "@jit(nopython=True)\n",
    "def length_distance(single_point, all_points):\n",
    "    return np.sqrt((all_points[:, 0]-single_point[0])**2 + (all_points[:, 1]-single_point[1])**2)"
   ]
  },
  {
   "cell_type": "code",
   "execution_count": 12,
   "id": "4f3fa08f-023c-4b77-bd05-3bb1b82e8bde",
   "metadata": {},
   "outputs": [],
   "source": [
    "# exploring_path = []\n",
    "# explore_points = deepcopy(points)\n",
    "# global_bbox = np.array([min(points[:, 0]), min(points[:, 1]), max(points[:, 0]), max(points[:, 1])])\n",
    "\n",
    "# mid_x, mid_y = (global_bbox[2]-global_bbox[0])//2, (global_bbox[3]-global_bbox[1])//2\n",
    "# base_distance = np.sqrt((points[:, 0])**2 + (points[:, 1])**2)"
   ]
  },
  {
   "cell_type": "code",
   "execution_count": 13,
   "id": "e6dcf0c9-f8cc-4437-940e-de68b9674a8d",
   "metadata": {},
   "outputs": [
    {
     "data": {
      "application/vnd.jupyter.widget-view+json": {
       "model_id": "ca2319f19c474748848568878bf04d52",
       "version_major": 2,
       "version_minor": 0
      },
      "text/plain": [
       "  0%|          | 0/10 [00:00<?, ?it/s]"
      ]
     },
     "metadata": {},
     "output_type": "display_data"
    },
    {
     "data": {
      "text/plain": [
       "629.534880394626"
      ]
     },
     "execution_count": 13,
     "metadata": {},
     "output_type": "execute_result"
    }
   ],
   "source": [
    "optimal_path = []\n",
    "optimal_distance = float('inf')\n",
    "\n",
    "for _ in tqdm(range(10)):\n",
    "    \n",
    "    exploring_path = []\n",
    "    explore_points = deepcopy(points)\n",
    "    max_neighbors = 3 #len(points)//10\n",
    "    \n",
    "    pick_next = 0\n",
    "    exploring_path.append(pick_next)\n",
    "    while len(exploring_path) < len(points):\n",
    "    \n",
    "        one_point = points[pick_next]\n",
    "        \n",
    "        neighbor_distances = length_distance(one_point, explore_points)\n",
    "        neighbor_idx = np.argsort(neighbor_distances)\n",
    "        \n",
    "        mask = np.isin(neighbor_idx, exploring_path)\n",
    "        neighbor_idx = neighbor_idx[~mask]\n",
    "    \n",
    "        pick_next = np.random.choice(neighbor_idx[:max_neighbors])\n",
    "    \n",
    "        exploring_path.append(pick_next)\n",
    "\n",
    "    total_distance = calculate_travel(exploring_path, points)\n",
    "\n",
    "    if total_distance < optimal_distance:\n",
    "        optimal_path = deepcopy(exploring_path)\n",
    "        optimal_distance = total_distance\n",
    "\n",
    "\n",
    "\n",
    "\n",
    "global_optimal_path = deepcopy(optimal_path)\n",
    "global_optimal_distance = deepcopy(optimal_distance)\n",
    "\n",
    "optimal_distance"
   ]
  },
  {
   "cell_type": "code",
   "execution_count": null,
   "id": "dcd03c9d-bdd4-4864-b03f-2fc97723f2c6",
   "metadata": {},
   "outputs": [],
   "source": []
  },
  {
   "cell_type": "code",
   "execution_count": 14,
   "id": "c585556b-6fd5-4fb2-98ab-8f6ed2ec59ae",
   "metadata": {},
   "outputs": [],
   "source": [
    "\n",
    "# starting_path = list(range(len(points)))\n",
    "# random.shuffle(starting_path)\n",
    "# starting_distance = calculate_travel(starting_path, points)\n",
    "\n",
    "starting_path =  deepcopy(global_optimal_path)\n",
    "starting_distance = deepcopy(global_optimal_distance)"
   ]
  },
  {
   "cell_type": "code",
   "execution_count": 18,
   "id": "3bd995da-f05c-4218-adfd-660a72cee27d",
   "metadata": {},
   "outputs": [
    {
     "data": {
      "text/plain": [
       "629.534880394626"
      ]
     },
     "execution_count": 18,
     "metadata": {},
     "output_type": "execute_result"
    }
   ],
   "source": [
    "global_optimal_path = deepcopy(starting_path)\n",
    "global_optimal_distance = deepcopy(starting_distance)\n",
    "\n",
    "\n",
    "\n",
    "starting_distance"
   ]
  },
  {
   "cell_type": "code",
   "execution_count": 19,
   "id": "4ad5ae55-6645-4250-ba24-4a13cc76a8fc",
   "metadata": {
    "scrolled": true
   },
   "outputs": [
    {
     "data": {
      "application/vnd.jupyter.widget-view+json": {
       "model_id": "38cd2041b28045dd8ff62ebf951d0964",
       "version_major": 2,
       "version_minor": 0
      },
      "text/plain": [
       "0it [00:00, ?it/s]"
      ]
     },
     "metadata": {},
     "output_type": "display_data"
    },
    {
     "name": "stdout",
     "output_type": "stream",
     "text": [
      "0 10 629.535 1000 0.99\n",
      "1 20 629.535 1000 0.99\n",
      "2 30 629.535 1000 0.99\n",
      "3 40 629.535 1000 0.99\n",
      "0 50 629.535 990.99 0.99099\n",
      "1 60 629.535 990.99 0.99099\n",
      "2 70 629.535 990.99 0.99099\n",
      "3 80 629.535 990.99 0.99099\n",
      "0 90 629.535 983.043 0.99198\n",
      "1 100 629.535 983.043 0.99198\n",
      "2 110 629.535 983.043 0.99198\n",
      "3 120 629.535 983.043 0.99198\n",
      "0 130 629.535 976.135 0.99297\n",
      "1 140 629.535 976.135 0.99297\n",
      "2 150 629.535 976.135 0.99297\n",
      "3 160 629.535 976.135 0.99297\n",
      "0 170 629.535 970.245 0.99397\n",
      "1 180 629.535 970.245 0.99397\n",
      "2 190 629.535 970.245 0.99397\n",
      "3 200 629.535 970.245 0.99397\n",
      "0 210 629.535 965.355 0.99496\n",
      "1 220 629.535 965.355 0.99496\n",
      "2 230 629.535 965.355 0.99496\n",
      "3 240 629.535 965.355 0.99496\n",
      "0 250 629.535 961.45 0.99595\n",
      "1 260 629.535 961.45 0.99595\n",
      "2 270 629.535 961.45 0.99595\n",
      "3 280 629.535 961.45 0.99595\n",
      "0 290 629.535 958.519 0.99695\n",
      "1 300 629.535 958.519 0.99695\n",
      "2 310 629.535 958.519 0.99695\n",
      "3 320 629.535 958.519 0.99695\n",
      "0 330 629.535 956.551 0.99795\n",
      "1 340 629.535 956.551 0.99795\n",
      "2 350 629.535 956.551 0.99795\n",
      "3 360 629.535 956.551 0.99795\n",
      "0 370 629.535 955.543 0.99895\n",
      "1 380 629.535 955.543 0.99895\n",
      "2 390 629.535 955.543 0.99895\n",
      "3 400 629.535 955.543 0.99895\n",
      "0 410 629.535 954.536 0.99895\n",
      "1 420 629.535 954.536 0.99895\n",
      "2 430 629.535 954.536 0.99895\n",
      "3 440 629.535 954.536 0.99895\n",
      "0 450 629.535 953.529 0.99895\n",
      "1 460 629.535 953.529 0.99895\n",
      "2 470 629.535 953.529 0.99895\n",
      "3 480 629.535 953.529 0.99895\n",
      "0 490 629.535 952.524 0.99895\n",
      "1 500 629.535 952.524 0.99895\n",
      "2 510 629.535 952.524 0.99895\n",
      "3 520 629.535 952.524 0.99895\n",
      "0 530 629.535 951.52 0.99895\n",
      "1 540 629.535 951.52 0.99895\n",
      "2 550 629.535 951.52 0.99895\n",
      "3 560 629.535 951.52 0.99895\n",
      "0 570 629.535 950.517 0.99895\n",
      "1 580 629.535 950.517 0.99895\n",
      "2 590 629.535 950.517 0.99895\n",
      "3 600 629.535 950.517 0.99895\n",
      "0 610 629.535 949.514 0.99895\n",
      "1 620 629.535 949.514 0.99895\n",
      "2 630 629.535 949.514 0.99895\n",
      "3 640 629.535 949.514 0.99895\n",
      "0 650 629.535 948.513 0.99895\n",
      "1 660 629.535 948.513 0.99895\n",
      "2 670 629.535 948.513 0.99895\n",
      "3 680 629.535 948.513 0.99895\n",
      "0 690 629.535 947.513 0.99895\n",
      "1 700 629.535 947.513 0.99895\n",
      "2 710 629.535 947.513 0.99895\n",
      "3 720 629.535 947.513 0.99895\n",
      "0 730 629.535 946.514 0.99895\n",
      "1 740 629.535 946.514 0.99895\n",
      "2 750 629.535 946.514 0.99895\n",
      "3 760 629.535 946.514 0.99895\n",
      "0 770 629.535 945.517 0.99895\n",
      "1 780 629.535 945.517 0.99895\n",
      "2 790 629.535 945.517 0.99895\n",
      "3 800 629.535 945.517 0.99895\n",
      "0 810 629.535 944.52 0.99895\n",
      "1 820 629.535 944.52 0.99895\n",
      "2 830 629.535 944.52 0.99895\n",
      "3 840 629.535 944.52 0.99895\n",
      "0 850 629.535 943.524 0.99895\n",
      "1 860 629.535 943.524 0.99895\n",
      "2 870 629.535 943.524 0.99895\n",
      "3 880 629.535 943.524 0.99895\n",
      "0 890 629.535 942.529 0.99895\n",
      "1 900 629.535 942.529 0.99895\n",
      "2 910 629.535 942.529 0.99895\n",
      "3 920 629.535 942.529 0.99895\n",
      "0 930 629.535 941.536 0.99895\n",
      "1 940 629.535 941.536 0.99895\n",
      "2 950 629.535 941.536 0.99895\n",
      "3 960 629.535 941.536 0.99895\n",
      "0 970 629.535 940.543 0.99895\n",
      "1 980 629.535 940.543 0.99895\n",
      "2 990 629.535 940.543 0.99895\n",
      "3 1000 629.535 940.543 0.99895\n",
      "0 1010 629.535 939.551 0.99895\n",
      "1 1020 629.535 939.551 0.99895\n",
      "2 1030 629.535 939.551 0.99895\n",
      "3 1040 629.535 939.551 0.99895\n",
      "0 1050 629.535 938.561 0.99895\n",
      "1 1060 629.535 938.561 0.99895\n",
      "2 1070 629.535 938.561 0.99895\n",
      "3 1080 629.535 938.561 0.99895\n",
      "0 1090 629.535 937.571 0.99895\n",
      "1 1100 629.535 937.571 0.99895\n",
      "2 1110 629.535 937.571 0.99895\n",
      "3 1120 629.535 937.571 0.99895\n",
      "0 1130 629.535 936.583 0.99895\n",
      "1 1140 629.535 936.583 0.99895\n",
      "2 1150 629.535 936.583 0.99895\n",
      "3 1160 629.535 936.583 0.99895\n",
      "0 1170 629.535 935.595 0.99895\n",
      "1 1180 629.535 935.595 0.99895\n",
      "2 1190 629.535 935.595 0.99895\n",
      "3 1200 629.535 935.595 0.99895\n",
      "0 1210 629.535 934.609 0.99895\n",
      "1 1220 629.535 934.609 0.99895\n",
      "2 1230 629.535 934.609 0.99895\n",
      "3 1240 629.535 934.609 0.99895\n",
      "0 1250 629.535 933.624 0.99895\n",
      "1 1260 629.535 933.624 0.99895\n",
      "2 1270 629.535 933.624 0.99895\n",
      "3 1280 629.535 933.624 0.99895\n",
      "0 1290 629.535 932.639 0.99895\n",
      "1 1300 629.535 932.639 0.99895\n",
      "2 1310 629.535 932.639 0.99895\n",
      "3 1320 629.535 932.639 0.99895\n",
      "0 1330 629.535 931.656 0.99895\n",
      "1 1340 629.535 931.656 0.99895\n",
      "2 1350 629.535 931.656 0.99895\n",
      "3 1360 629.535 931.656 0.99895\n",
      "0 1370 629.535 930.674 0.99895\n",
      "1 1380 629.535 930.674 0.99895\n",
      "2 1390 629.535 930.674 0.99895\n",
      "3 1400 629.535 930.674 0.99895\n",
      "0 1410 629.535 929.693 0.99895\n",
      "1 1420 629.535 929.693 0.99895\n",
      "2 1430 629.535 929.693 0.99895\n",
      "3 1440 629.535 929.693 0.99895\n",
      "0 1450 629.535 928.713 0.99895\n",
      "1 1460 629.535 928.713 0.99895\n",
      "2 1470 629.535 928.713 0.99895\n",
      "3 1480 629.535 928.713 0.99895\n",
      "0 1490 629.535 927.733 0.99895\n",
      "1 1500 629.535 927.733 0.99895\n",
      "2 1510 629.535 927.733 0.99895\n",
      "3 1520 629.535 927.733 0.99895\n",
      "0 1530 629.535 926.755 0.99895\n",
      "1 1540 629.535 926.755 0.99895\n",
      "2 1550 629.535 926.755 0.99895\n",
      "3 1560 629.535 926.755 0.99895\n",
      "0 1570 629.535 925.778 0.99895\n",
      "1 1580 629.535 925.778 0.99895\n",
      "2 1590 629.535 925.778 0.99895\n",
      "3 1600 629.535 925.778 0.99895\n",
      "0 1610 629.535 924.802 0.99895\n",
      "1 1620 629.535 924.802 0.99895\n",
      "2 1630 629.535 924.802 0.99895\n",
      "3 1640 629.535 924.802 0.99895\n",
      "0 1650 629.535 923.827 0.99895\n",
      "1 1660 629.535 923.827 0.99895\n",
      "2 1670 629.535 923.827 0.99895\n",
      "3 1680 629.535 923.827 0.99895\n",
      "0 1690 629.535 922.853 0.99895\n",
      "1 1700 629.535 922.853 0.99895\n",
      "2 1710 629.535 922.853 0.99895\n",
      "3 1720 629.535 922.853 0.99895\n",
      "0 1730 629.535 921.88 0.99895\n",
      "1 1740 629.535 921.88 0.99895\n",
      "2 1750 629.535 921.88 0.99895\n",
      "3 1760 629.535 921.88 0.99895\n",
      "0 1770 629.535 920.908 0.99895\n",
      "1 1780 629.535 920.908 0.99895\n",
      "2 1790 629.535 920.908 0.99895\n",
      "3 1800 629.535 920.908 0.99895\n",
      "0 1810 629.535 919.938 0.99895\n",
      "1 1820 629.535 919.938 0.99895\n",
      "2 1830 629.535 919.938 0.99895\n",
      "3 1840 629.535 919.938 0.99895\n",
      "0 1850 629.535 918.968 0.99895\n",
      "1 1860 629.535 918.968 0.99895\n",
      "2 1870 629.535 918.968 0.99895\n",
      "3 1880 629.535 918.968 0.99895\n",
      "0 1890 629.535 917.999 0.99895\n",
      "1 1900 629.535 917.999 0.99895\n",
      "2 1910 629.535 917.999 0.99895\n",
      "3 1920 629.535 917.999 0.99895\n",
      "0 1930 629.535 917.031 0.99895\n",
      "1 1940 629.535 917.031 0.99895\n",
      "2 1950 629.535 917.031 0.99895\n",
      "3 1960 629.535 917.031 0.99895\n",
      "0 1970 629.535 916.064 0.99895\n",
      "1 1980 629.535 916.064 0.99895\n",
      "2 1990 629.535 916.064 0.99895\n",
      "3 2000 629.535 916.064 0.99895\n",
      "0 2010 629.535 915.098 0.99895\n",
      "1 2020 629.535 915.098 0.99895\n",
      "2 2030 629.535 915.098 0.99895\n",
      "3 2040 629.535 915.098 0.99895\n",
      "0 2050 629.535 914.134 0.99895\n",
      "1 2060 629.535 914.134 0.99895\n",
      "2 2070 629.535 914.134 0.99895\n",
      "3 2080 629.535 914.134 0.99895\n",
      "0 2090 629.535 913.17 0.99895\n",
      "1 2100 629.535 913.17 0.99895\n",
      "2 2110 629.535 913.17 0.99895\n",
      "3 2120 629.535 913.17 0.99895\n",
      "0 2130 629.535 912.207 0.99895\n",
      "1 2140 629.535 912.207 0.99895\n",
      "2 2150 629.535 912.207 0.99895\n",
      "3 2160 629.535 912.207 0.99895\n",
      "0 2170 629.535 911.245 0.99895\n",
      "1 2180 629.535 911.245 0.99895\n",
      "2 2190 629.535 911.245 0.99895\n",
      "3 2200 629.535 911.245 0.99895\n",
      "0 2210 629.535 910.285 0.99895\n",
      "1 2220 629.535 910.285 0.99895\n",
      "2 2230 629.535 910.285 0.99895\n",
      "3 2240 629.535 910.285 0.99895\n",
      "0 2250 629.535 909.325 0.99895\n",
      "1 2260 629.535 909.325 0.99895\n",
      "2 2270 629.535 909.325 0.99895\n",
      "3 2280 629.535 909.325 0.99895\n",
      "0 2290 629.535 908.366 0.99895\n",
      "1 2300 629.535 908.366 0.99895\n",
      "2 2310 629.535 908.366 0.99895\n",
      "3 2320 629.535 908.366 0.99895\n",
      "0 2330 629.535 907.409 0.99895\n",
      "1 2340 629.535 907.409 0.99895\n",
      "2 2350 629.535 907.409 0.99895\n",
      "3 2360 629.535 907.409 0.99895\n",
      "0 2370 629.535 906.452 0.99895\n",
      "1 2380 629.535 906.452 0.99895\n",
      "2 2390 629.535 906.452 0.99895\n",
      "3 2400 629.535 906.452 0.99895\n",
      "0 2410 629.535 905.496 0.99895\n",
      "1 2420 629.535 905.496 0.99895\n",
      "2 2430 629.535 905.496 0.99895\n",
      "3 2440 629.535 905.496 0.99895\n",
      "0 2450 629.535 904.542 0.99895\n",
      "1 2460 629.535 904.542 0.99895\n",
      "2 2470 629.535 904.542 0.99895\n",
      "3 2480 629.535 904.542 0.99895\n",
      "0 2490 629.535 903.588 0.99895\n",
      "1 2500 629.535 903.588 0.99895\n",
      "2 2510 629.535 903.588 0.99895\n",
      "3 2520 629.535 903.588 0.99895\n",
      "0 2530 629.535 902.635 0.99895\n",
      "1 2540 629.535 902.635 0.99895\n",
      "2 2550 629.535 902.635 0.99895\n",
      "3 2560 629.535 902.635 0.99895\n",
      "0 2570 629.535 901.684 0.99895\n",
      "1 2580 629.535 901.684 0.99895\n",
      "2 2590 629.535 901.684 0.99895\n",
      "3 2600 629.535 901.684 0.99895\n",
      "0 2610 629.535 900.733 0.99895\n",
      "1 2620 629.535 900.733 0.99895\n",
      "2 2630 629.535 900.733 0.99895\n",
      "3 2640 629.535 900.733 0.99895\n",
      "0 2650 629.535 899.784 0.99895\n",
      "1 2660 629.535 899.784 0.99895\n",
      "2 2670 629.535 899.784 0.99895\n",
      "3 2680 629.535 899.784 0.99895\n",
      "0 2690 629.535 898.835 0.99895\n",
      "1 2700 629.535 898.835 0.99895\n",
      "2 2710 629.535 898.835 0.99895\n",
      "3 2720 629.535 898.835 0.99895\n",
      "0 2730 629.535 897.887 0.99895\n",
      "1 2740 629.535 897.887 0.99895\n",
      "2 2750 629.535 897.887 0.99895\n",
      "3 2760 629.535 897.887 0.99895\n",
      "0 2770 629.535 896.941 0.99895\n",
      "1 2780 629.535 896.941 0.99895\n",
      "2 2790 629.535 896.941 0.99895\n"
     ]
    },
    {
     "ename": "KeyboardInterrupt",
     "evalue": "",
     "output_type": "error",
     "traceback": [
      "\u001b[1;31m---------------------------------------------------------------------------\u001b[0m",
      "\u001b[1;31mKeyboardInterrupt\u001b[0m                         Traceback (most recent call last)",
      "Cell \u001b[1;32mIn[19], line 21\u001b[0m\n\u001b[0;32m     17\u001b[0m search_idx \u001b[38;5;241m=\u001b[39m \u001b[38;5;28mlen\u001b[39m(points)\n\u001b[0;32m     19\u001b[0m \u001b[38;5;28;01mwhile\u001b[39;00m search_idx \u001b[38;5;241m>\u001b[39m\u001b[38;5;241m=\u001b[39m \u001b[38;5;241m1\u001b[39m:\n\u001b[1;32m---> 21\u001b[0m     new_path \u001b[38;5;241m=\u001b[39m \u001b[43mdo_2opt\u001b[49m\u001b[43m(\u001b[49m\u001b[43moptimal_path\u001b[49m\u001b[43m,\u001b[49m\u001b[43m \u001b[49m\u001b[43mpoints\u001b[49m\u001b[43m,\u001b[49m\u001b[43m \u001b[49m\u001b[43msearch_idx\u001b[49m\u001b[43m)\u001b[49m\n\u001b[0;32m     22\u001b[0m     new_distance \u001b[38;5;241m=\u001b[39m calculate_travel(new_path, points)\n\u001b[0;32m     24\u001b[0m     \u001b[38;5;28;01mif\u001b[39;00m new_distance \u001b[38;5;241m<\u001b[39m\u001b[38;5;241m=\u001b[39m optimal_distance:\n",
      "Cell \u001b[1;32mIn[17], line 62\u001b[0m, in \u001b[0;36mdo_2opt\u001b[1;34m(path, points, search_idx)\u001b[0m\n\u001b[0;32m     59\u001b[0m \u001b[38;5;66;03m## Sort by n distances set by search_idx\u001b[39;00m\n\u001b[0;32m     60\u001b[0m sorted_dist \u001b[38;5;241m=\u001b[39m np\u001b[38;5;241m.\u001b[39margsort(\u001b[38;5;241m-\u001b[39mdist)[:search_idx]\n\u001b[1;32m---> 62\u001b[0m max_point \u001b[38;5;241m=\u001b[39m \u001b[43mnp\u001b[49m\u001b[38;5;241;43m.\u001b[39;49m\u001b[43mrandom\u001b[49m\u001b[38;5;241;43m.\u001b[39;49m\u001b[43mchoice\u001b[49m\u001b[43m(\u001b[49m\u001b[43msorted_dist\u001b[49m\u001b[43m)\u001b[49m\n\u001b[0;32m     64\u001b[0m mid_point \u001b[38;5;241m=\u001b[39m get_midpoint(coor[max_point], coor[max_point\u001b[38;5;241m+\u001b[39m\u001b[38;5;241m1\u001b[39m])\n\u001b[0;32m     66\u001b[0m sorted_neighbor_point \u001b[38;5;241m=\u001b[39m np\u001b[38;5;241m.\u001b[39margsort(length_distance(mid_point, points))[\u001b[38;5;241m1\u001b[39m:search_idx\u001b[38;5;241m+\u001b[39m\u001b[38;5;241m1\u001b[39m]\n",
      "\u001b[1;31mKeyboardInterrupt\u001b[0m: "
     ]
    }
   ],
   "source": [
    "iter = 0\n",
    "max_iterations = 500000\n",
    "\n",
    "init_temperature = 1000\n",
    "final_temperature = 1e-6\n",
    "cooling_rate = 0.99\n",
    "\n",
    "restart_counter = 0\n",
    "last_known_distance = int(global_optimal_distance)\n",
    "temperature = init_temperature\n",
    "global_temperature = init_temperature\n",
    "\n",
    "with tqdm() as pbar:    \n",
    "    \n",
    "   while temperature > final_temperature and iter < max_iterations:\n",
    "\n",
    "        search_idx = len(points)\n",
    "    \n",
    "        while search_idx >= 1:\n",
    "                \n",
    "            new_path = do_2opt(optimal_path, points, search_idx)\n",
    "            new_distance = calculate_travel(new_path, points)\n",
    "            \n",
    "            if new_distance <= optimal_distance:\n",
    "                optimal_distance = deepcopy(new_distance)\n",
    "                optimal_path = deepcopy(new_path)\n",
    "                \n",
    "            else:\n",
    "                acceptance_prob = np.exp(-(new_distance-optimal_distance)/temperature)\n",
    "                to_pick_prob = random.random()\n",
    "                \n",
    "                if to_pick_prob < acceptance_prob:\n",
    "                    # print(to_pick_prob, acceptance_prob, new_distance-optimal_distance)\n",
    "                    optimal_distance = deepcopy(new_distance)\n",
    "                    optimal_path = deepcopy(new_path)\n",
    "            \n",
    "                \n",
    "            if optimal_distance < global_optimal_distance:\n",
    "                global_optimal_distance = deepcopy(optimal_distance)\n",
    "                global_optimal_path = deepcopy(optimal_path)\n",
    "                global_temperature = temperature\n",
    "\n",
    "            \n",
    "            search_idx = int(search_idx//1.2)\n",
    "            \n",
    "        pbar.update(1)\n",
    "        iter+=1\n",
    "    \n",
    "        if iter%10 == 0:\n",
    "            print(restart_counter, iter, round(global_optimal_distance, 3), round(temperature, 3), round(cooling_rate, 5))\n",
    "\n",
    "        \n",
    "            if int(global_optimal_distance) < last_known_distance:\n",
    "                last_known_distance = int(global_optimal_distance)\n",
    "                restart_counter = 0\n",
    "            else:\n",
    "                restart_counter += 1\n",
    "\n",
    "\n",
    "            if restart_counter > 3:\n",
    "                restart_counter = 0   \n",
    "                if cooling_rate*1.001 < 0.999:\n",
    "                    cooling_rate *= 1.001\n",
    "                    if global_temperature != init_temperature:\n",
    "                        temperature = global_temperature\n",
    "\n",
    "                temperature *= cooling_rate"
   ]
  },
  {
   "cell_type": "code",
   "execution_count": null,
   "id": "a1bffe11-cb73-4d0e-9266-69716d0744c4",
   "metadata": {},
   "outputs": [],
   "source": [
    "restart_counter"
   ]
  },
  {
   "cell_type": "code",
   "execution_count": null,
   "id": "24c1db05-d62c-4d31-84b3-ee11ba240ce1",
   "metadata": {},
   "outputs": [],
   "source": [
    "iter"
   ]
  },
  {
   "cell_type": "code",
   "execution_count": null,
   "id": "9cc21f3b-ee8d-4e32-b561-3b60d854caf2",
   "metadata": {},
   "outputs": [],
   "source": [
    "# edge_x = []\n",
    "# edge_y = []\n",
    "\n",
    "# for idx, connections in tqdm(enumerate(graph_paths)):\n",
    "    \n",
    "#     x0, y0 = points[idx]\n",
    "    \n",
    "#     for connect in connections:\n",
    "#         x1, y1 = points[connect]\n",
    "    \n",
    "#         edge_x.append(x0)\n",
    "#         edge_x.append(x1)\n",
    "#         edge_x.append(None)\n",
    "        \n",
    "#         edge_y.append(y0)\n",
    "#         edge_y.append(y1)\n",
    "#         edge_y.append(None)\n",
    "\n",
    "edge_x = []\n",
    "edge_y = []\n",
    "\n",
    "for idx in tqdm(global_optimal_path + [global_optimal_path[0]]):\n",
    "    \n",
    "    x0, y0 = points[idx]\n",
    "    \n",
    "    edge_x.append(x0)\n",
    "    edge_y.append(y0)"
   ]
  },
  {
   "cell_type": "code",
   "execution_count": null,
   "id": "13549cac-dd42-4c19-96a6-3b6fac10660d",
   "metadata": {},
   "outputs": [],
   "source": [
    "\n",
    "\n",
    "fig = go.Figure(data=go.Scattergl(\n",
    "    x=edge_x,\n",
    "    y=edge_y,\n",
    "    mode=\"markers+lines\",\n",
    "    # mode=\"markers\"\n",
    "))\n",
    "fig.update_layout(height=750)\n",
    "fig.show()\n"
   ]
  },
  {
   "cell_type": "code",
   "execution_count": null,
   "id": "2ef4755c-23d7-4b78-b55e-c72e7345ae72",
   "metadata": {},
   "outputs": [],
   "source": [
    "\n",
    "\n",
    "fig = go.Figure(data=go.Scattergl(\n",
    "    x=edge_x,\n",
    "    y=edge_y,\n",
    "    mode=\"markers+lines\",\n",
    "    # mode=\"markers\"\n",
    "))\n",
    "fig.update_layout(height=750)\n",
    "fig.show()\n"
   ]
  },
  {
   "cell_type": "code",
   "execution_count": null,
   "id": "e00b0c45-595d-494e-9e74-345443a10e9c",
   "metadata": {},
   "outputs": [],
   "source": []
  },
  {
   "cell_type": "code",
   "execution_count": null,
   "id": "7bb597a2-1914-46c4-880a-e8d97a5d6881",
   "metadata": {},
   "outputs": [],
   "source": []
  },
  {
   "cell_type": "code",
   "execution_count": null,
   "id": "273c7879-5704-46d3-aba3-ade43957e266",
   "metadata": {},
   "outputs": [],
   "source": []
  },
  {
   "cell_type": "code",
   "execution_count": null,
   "id": "d9ef527f-fd17-48b9-a983-e29c391efdae",
   "metadata": {},
   "outputs": [],
   "source": [
    "fig = go.Figure(data=go.Scattergl(\n",
    "    x=edge_x,\n",
    "    y=edge_y,\n",
    "    mode=\"markers+lines\",\n",
    "    # mode=\"markers\"\n",
    "))\n",
    "fig.update_layout(width=1200, height=1200*layout_ratio)\n",
    "fig.show()"
   ]
  },
  {
   "cell_type": "code",
   "execution_count": null,
   "id": "3fdd1b5b-06ba-426c-97d1-e23e5480fa22",
   "metadata": {},
   "outputs": [],
   "source": [
    "\n",
    "x_points = [x for x, y in points]\n",
    "y_points = [y for x, y in points]\n",
    "layout_ratio = max(x_points)/max(y_points)\n",
    "\n",
    "fig = go.Figure(data=go.Scattergl(\n",
    "    x=x_points,\n",
    "    y=y_points,\n",
    "    # mode=\"markers+lines\",\n",
    "    mode=\"markers\"\n",
    "))\n",
    "fig.update_layout(width=1200, height=1200*layout_ratio)\n",
    "fig.show()"
   ]
  },
  {
   "cell_type": "code",
   "execution_count": null,
   "id": "b92dc545-ca38-4dda-a9cc-63e6920e9239",
   "metadata": {},
   "outputs": [],
   "source": [
    "\n",
    "x_points = [x for x, y in exploring_path]\n",
    "y_points = [y for x, y in exploring_path]\n",
    "layout_ratio = max(x_points)/max(y_points)\n",
    "\n",
    "fig = go.Figure(data=go.Scattergl(\n",
    "    x=x_points,\n",
    "    y=y_points,\n",
    "    mode=\"markers+lines\",\n",
    "    # mode=\"markers\"\n",
    "))\n",
    "fig.update_layout(width=1200, height=1200*layout_ratio)\n",
    "fig.show()"
   ]
  },
  {
   "cell_type": "code",
   "execution_count": null,
   "id": "600b786d-f6cb-4802-997b-a32d384a3fca",
   "metadata": {},
   "outputs": [],
   "source": [
    "# SEMI-MST\n",
    "\n",
    "# edge_x = []\n",
    "# edge_y = []\n",
    "\n",
    "# for one_point in tqdm(points):\n",
    "\n",
    "#     neighbors = np.sqrt((points[:, 0]-one_point[0])**2 + (points[:, 1]-one_point[1])**2)\n",
    "    \n",
    "#     x0, y0 = one_point\n",
    "\n",
    "#     connections = points[np.argsort(neighbors)[1]] # [1:3]] ## 2 connections - 1st one is self\n",
    "    \n",
    "#     for connect in [connections]:\n",
    "#         x1, y1 = connect\n",
    "    \n",
    "#         edge_x.append(x0)\n",
    "#         edge_x.append(x1)\n",
    "#         edge_x.append(None)\n",
    "        \n",
    "#         edge_y.append(y0)\n",
    "#         edge_y.append(y1)\n",
    "#         edge_y.append(None)\n",
    "\n",
    "\n",
    "# fig = go.Figure(data=go.Scattergl(\n",
    "#     x=edge_x,\n",
    "#     y=edge_y,\n",
    "#     mode=\"markers+lines\",\n",
    "#     # mode=\"markers\"\n",
    "# ))\n",
    "# fig.update_layout(width=1200, height=1200*layout_ratio)\n",
    "# fig.show()\n",
    "\n",
    "\n",
    "\n",
    "\n",
    "# def do_2opt(path, points, search_idx):\n",
    "    \n",
    "#     path = deepcopy(path)\n",
    "    \n",
    "#     coor = np.array([points[idx] for idx in path+[path[0]]])\n",
    "#     dist = np.linalg.norm(coor[1:] - coor[:-1], axis=1)\n",
    "\n",
    "#     ## This coordinate has longest distance\n",
    "#     max_point = np.argsort(-dist)[search_idx]\n",
    "\n",
    "#     mid_point = get_midpoint(coor[max_point], coor[max_point+1])\n",
    "#     mid_nearest_point = np.argmin(length_distance(mid_point, points))\n",
    "#     switch_point = np.where((coor == points[mid_nearest_point]).all(axis=1))[0][0]\n",
    "\n",
    "#     if switch_point > max_point:\n",
    "#         slice_start = max_point\n",
    "#         slice_end = switch_point\n",
    "#     else:\n",
    "#         slice_start = switch_point\n",
    "#         slice_end = max_point\n",
    "\n",
    "#     slice_path = path[slice_start:slice_end+1]\n",
    "#     slice_path.reverse()\n",
    "\n",
    "#     new_path = path[:slice_start]+slice_path+path[slice_end+1:]\n",
    "    \n",
    "#     return new_path\n"
   ]
  }
 ],
 "metadata": {
  "kernelspec": {
   "display_name": "Python 3 (ipykernel)",
   "language": "python",
   "name": "python3"
  },
  "language_info": {
   "codemirror_mode": {
    "name": "ipython",
    "version": 3
   },
   "file_extension": ".py",
   "mimetype": "text/x-python",
   "name": "python",
   "nbconvert_exporter": "python",
   "pygments_lexer": "ipython3",
   "version": "3.10.11"
  },
  "widgets": {
   "application/vnd.jupyter.widget-state+json": {
    "state": {
     "03d832fb7ccc4fc5ba39d6cc8890b5da": {
      "model_module": "@jupyter-widgets/controls",
      "model_module_version": "2.0.0",
      "model_name": "HTMLStyleModel",
      "state": {
       "description_width": "",
       "font_size": null,
       "text_color": null
      }
     },
     "12a069060b7d47fc9b527cfd9abadc61": {
      "model_module": "@jupyter-widgets/controls",
      "model_module_version": "2.0.0",
      "model_name": "HTMLModel",
      "state": {
       "layout": "IPY_MODEL_23ebc260cd3b4cbd94ca49210c332fe3",
       "style": "IPY_MODEL_71e0992b137a42868cc1c622062dfda8",
       "value": " 10/10 [00:00&lt;00:00,  1.71it/s]"
      }
     },
     "1a1a75fbae924d15a268e50441453fa4": {
      "model_module": "@jupyter-widgets/base",
      "model_module_version": "2.0.0",
      "model_name": "LayoutModel",
      "state": {}
     },
     "1b55ff795ad64a649708270c392e60e2": {
      "model_module": "@jupyter-widgets/controls",
      "model_module_version": "2.0.0",
      "model_name": "ProgressStyleModel",
      "state": {
       "description_width": ""
      }
     },
     "1dc0fe9dc47c4aed88b208dd6ca0b548": {
      "model_module": "@jupyter-widgets/controls",
      "model_module_version": "2.0.0",
      "model_name": "FloatProgressModel",
      "state": {
       "bar_style": "success",
       "layout": "IPY_MODEL_4e8f8dfc482443eb97cd7434e2895957",
       "max": 1,
       "style": "IPY_MODEL_a229e02491364f2d93e9e0e273d39502",
       "value": 1
      }
     },
     "21af5ad3409746f7a74fc99b8d85db67": {
      "model_module": "@jupyter-widgets/controls",
      "model_module_version": "2.0.0",
      "model_name": "FloatProgressModel",
      "state": {
       "bar_style": "success",
       "layout": "IPY_MODEL_27f4a28436084905a7cacce7253a2eb6",
       "max": 10,
       "style": "IPY_MODEL_1b55ff795ad64a649708270c392e60e2",
       "value": 10
      }
     },
     "23ebc260cd3b4cbd94ca49210c332fe3": {
      "model_module": "@jupyter-widgets/base",
      "model_module_version": "2.0.0",
      "model_name": "LayoutModel",
      "state": {}
     },
     "242d82287e1a486ba46b42c46979f5fa": {
      "model_module": "@jupyter-widgets/base",
      "model_module_version": "2.0.0",
      "model_name": "LayoutModel",
      "state": {}
     },
     "27f4a28436084905a7cacce7253a2eb6": {
      "model_module": "@jupyter-widgets/base",
      "model_module_version": "2.0.0",
      "model_name": "LayoutModel",
      "state": {}
     },
     "2ec7b33384544d5b87def5d5d019fcb6": {
      "model_module": "@jupyter-widgets/base",
      "model_module_version": "2.0.0",
      "model_name": "LayoutModel",
      "state": {}
     },
     "2fa12e4ea1b64677bd9c15df8e3f4389": {
      "model_module": "@jupyter-widgets/controls",
      "model_module_version": "2.0.0",
      "model_name": "HTMLModel",
      "state": {
       "layout": "IPY_MODEL_953ae0de6e6246f2af902ed7d8af1030",
       "style": "IPY_MODEL_4c8be36d7b8042ab88b87c043fa47dd5",
       "value": " 10/10 [00:00&lt;00:00,  5.26it/s]"
      }
     },
     "34d002e24ec941389f9ececf32cc1fbf": {
      "model_module": "@jupyter-widgets/controls",
      "model_module_version": "2.0.0",
      "model_name": "ProgressStyleModel",
      "state": {
       "description_width": ""
      }
     },
     "35f8dedd20604c8e8e75d6449501788c": {
      "model_module": "@jupyter-widgets/controls",
      "model_module_version": "2.0.0",
      "model_name": "HTMLStyleModel",
      "state": {
       "description_width": "",
       "font_size": null,
       "text_color": null
      }
     },
     "36bad2d0f8124a4884d83f7fc6c6d1af": {
      "model_module": "@jupyter-widgets/base",
      "model_module_version": "2.0.0",
      "model_name": "LayoutModel",
      "state": {}
     },
     "3840a8e1507d488fb1c09c06548c9e85": {
      "model_module": "@jupyter-widgets/controls",
      "model_module_version": "2.0.0",
      "model_name": "FloatProgressModel",
      "state": {
       "bar_style": "success",
       "layout": "IPY_MODEL_36bad2d0f8124a4884d83f7fc6c6d1af",
       "max": 10,
       "style": "IPY_MODEL_fdf862ede750479aa2726f2af8c6cd11",
       "value": 10
      }
     },
     "38cd2041b28045dd8ff62ebf951d0964": {
      "model_module": "@jupyter-widgets/controls",
      "model_module_version": "2.0.0",
      "model_name": "HBoxModel",
      "state": {
       "children": [
        "IPY_MODEL_ccef851c502a40508e42f58d5dcf81fa",
        "IPY_MODEL_1dc0fe9dc47c4aed88b208dd6ca0b548",
        "IPY_MODEL_fbf69b46486d4fc2a388ce670c3bc6f6"
       ],
       "layout": "IPY_MODEL_dbfa9161952b4fe785a250abc813ae39"
      }
     },
     "493fa53c702944ab92d4914dd5fb8775": {
      "model_module": "@jupyter-widgets/controls",
      "model_module_version": "2.0.0",
      "model_name": "FloatProgressModel",
      "state": {
       "bar_style": "success",
       "layout": "IPY_MODEL_ba3158b97834438bb1719f57787dc0c0",
       "max": 1,
       "style": "IPY_MODEL_34d002e24ec941389f9ececf32cc1fbf",
       "value": 1
      }
     },
     "4b5b0c091f9540b4a6a0be69374268cf": {
      "model_module": "@jupyter-widgets/controls",
      "model_module_version": "2.0.0",
      "model_name": "HBoxModel",
      "state": {
       "children": [
        "IPY_MODEL_868979477966474c8a7b6104445d7396",
        "IPY_MODEL_789982b68a734fc683fa563ad0c6a7a1",
        "IPY_MODEL_711130d8d4af423b8e81655012941039"
       ],
       "layout": "IPY_MODEL_ccb71d0c98f845a2b0c2ee93ccc06c37"
      }
     },
     "4c792152e8e44a2c9da8c44dbaf14d69": {
      "model_module": "@jupyter-widgets/controls",
      "model_module_version": "2.0.0",
      "model_name": "HTMLStyleModel",
      "state": {
       "description_width": "",
       "font_size": null,
       "text_color": null
      }
     },
     "4c8be36d7b8042ab88b87c043fa47dd5": {
      "model_module": "@jupyter-widgets/controls",
      "model_module_version": "2.0.0",
      "model_name": "HTMLStyleModel",
      "state": {
       "description_width": "",
       "font_size": null,
       "text_color": null
      }
     },
     "4e31da3d85184df9a952e3ea7223eaef": {
      "model_module": "@jupyter-widgets/base",
      "model_module_version": "2.0.0",
      "model_name": "LayoutModel",
      "state": {
       "width": "20px"
      }
     },
     "4e8f8dfc482443eb97cd7434e2895957": {
      "model_module": "@jupyter-widgets/base",
      "model_module_version": "2.0.0",
      "model_name": "LayoutModel",
      "state": {
       "width": "20px"
      }
     },
     "4f283d96ffbc4903ac37eb734d52a7ca": {
      "model_module": "@jupyter-widgets/controls",
      "model_module_version": "2.0.0",
      "model_name": "HTMLModel",
      "state": {
       "layout": "IPY_MODEL_8e80711fe0904e48b1dfe8a39dd993c7",
       "style": "IPY_MODEL_d7a64a57c8eb4e1e95669ee724bf0a00",
       "value": " 3103/? [00:15&lt;00:00, 214.48it/s]"
      }
     },
     "62b4f0f789344666b3950c107aac8997": {
      "model_module": "@jupyter-widgets/base",
      "model_module_version": "2.0.0",
      "model_name": "LayoutModel",
      "state": {}
     },
     "711130d8d4af423b8e81655012941039": {
      "model_module": "@jupyter-widgets/controls",
      "model_module_version": "2.0.0",
      "model_name": "HTMLModel",
      "state": {
       "layout": "IPY_MODEL_83bccebe22be414bb6a0eff6169bcd8e",
       "style": "IPY_MODEL_c360a65a9df74eb6b6168a069b209c85",
       "value": " 7639/? [00:34&lt;00:00, 237.92it/s]"
      }
     },
     "71e0992b137a42868cc1c622062dfda8": {
      "model_module": "@jupyter-widgets/controls",
      "model_module_version": "2.0.0",
      "model_name": "HTMLStyleModel",
      "state": {
       "description_width": "",
       "font_size": null,
       "text_color": null
      }
     },
     "7498587689c8435ea841fcc6f2756c15": {
      "model_module": "@jupyter-widgets/controls",
      "model_module_version": "2.0.0",
      "model_name": "HBoxModel",
      "state": {
       "children": [
        "IPY_MODEL_f6e021b678254cffbaf3b72ded08f638",
        "IPY_MODEL_21af5ad3409746f7a74fc99b8d85db67",
        "IPY_MODEL_12a069060b7d47fc9b527cfd9abadc61"
       ],
       "layout": "IPY_MODEL_8a0f4edf6ab640de9220ea4a98389256"
      }
     },
     "789982b68a734fc683fa563ad0c6a7a1": {
      "model_module": "@jupyter-widgets/controls",
      "model_module_version": "2.0.0",
      "model_name": "FloatProgressModel",
      "state": {
       "bar_style": "danger",
       "layout": "IPY_MODEL_4e31da3d85184df9a952e3ea7223eaef",
       "max": 1,
       "style": "IPY_MODEL_887c23ce12a44c40b405210e995cb884",
       "value": 1
      }
     },
     "7920d7f01ba84d4ead52f35a68d2f981": {
      "model_module": "@jupyter-widgets/controls",
      "model_module_version": "2.0.0",
      "model_name": "HTMLStyleModel",
      "state": {
       "description_width": "",
       "font_size": null,
       "text_color": null
      }
     },
     "83bccebe22be414bb6a0eff6169bcd8e": {
      "model_module": "@jupyter-widgets/base",
      "model_module_version": "2.0.0",
      "model_name": "LayoutModel",
      "state": {}
     },
     "868979477966474c8a7b6104445d7396": {
      "model_module": "@jupyter-widgets/controls",
      "model_module_version": "2.0.0",
      "model_name": "HTMLModel",
      "state": {
       "layout": "IPY_MODEL_b6651ba7f5da4b90b85f2fe9730b4ac5",
       "style": "IPY_MODEL_ebefad0039194214b8105f7e4d83cd20"
      }
     },
     "887c23ce12a44c40b405210e995cb884": {
      "model_module": "@jupyter-widgets/controls",
      "model_module_version": "2.0.0",
      "model_name": "ProgressStyleModel",
      "state": {
       "description_width": ""
      }
     },
     "8a0f4edf6ab640de9220ea4a98389256": {
      "model_module": "@jupyter-widgets/base",
      "model_module_version": "2.0.0",
      "model_name": "LayoutModel",
      "state": {}
     },
     "8e80711fe0904e48b1dfe8a39dd993c7": {
      "model_module": "@jupyter-widgets/base",
      "model_module_version": "2.0.0",
      "model_name": "LayoutModel",
      "state": {}
     },
     "953ae0de6e6246f2af902ed7d8af1030": {
      "model_module": "@jupyter-widgets/base",
      "model_module_version": "2.0.0",
      "model_name": "LayoutModel",
      "state": {}
     },
     "9ac0efb7a79249e2ba3b9cf9fd62d4e1": {
      "model_module": "@jupyter-widgets/controls",
      "model_module_version": "2.0.0",
      "model_name": "HTMLStyleModel",
      "state": {
       "description_width": "",
       "font_size": null,
       "text_color": null
      }
     },
     "9f7dcb2cbc6d4b97b9d7c33fe27ca8c6": {
      "model_module": "@jupyter-widgets/base",
      "model_module_version": "2.0.0",
      "model_name": "LayoutModel",
      "state": {}
     },
     "a229e02491364f2d93e9e0e273d39502": {
      "model_module": "@jupyter-widgets/controls",
      "model_module_version": "2.0.0",
      "model_name": "ProgressStyleModel",
      "state": {
       "description_width": ""
      }
     },
     "b6651ba7f5da4b90b85f2fe9730b4ac5": {
      "model_module": "@jupyter-widgets/base",
      "model_module_version": "2.0.0",
      "model_name": "LayoutModel",
      "state": {}
     },
     "ba3158b97834438bb1719f57787dc0c0": {
      "model_module": "@jupyter-widgets/base",
      "model_module_version": "2.0.0",
      "model_name": "LayoutModel",
      "state": {
       "width": "20px"
      }
     },
     "c360a65a9df74eb6b6168a069b209c85": {
      "model_module": "@jupyter-widgets/controls",
      "model_module_version": "2.0.0",
      "model_name": "HTMLStyleModel",
      "state": {
       "description_width": "",
       "font_size": null,
       "text_color": null
      }
     },
     "c41797734e6c4986b21bea75c3832795": {
      "model_module": "@jupyter-widgets/controls",
      "model_module_version": "2.0.0",
      "model_name": "HBoxModel",
      "state": {
       "children": [
        "IPY_MODEL_ee397d064804468fa5c6a57d14758c8f",
        "IPY_MODEL_493fa53c702944ab92d4914dd5fb8775",
        "IPY_MODEL_4f283d96ffbc4903ac37eb734d52a7ca"
       ],
       "layout": "IPY_MODEL_9f7dcb2cbc6d4b97b9d7c33fe27ca8c6"
      }
     },
     "ca2319f19c474748848568878bf04d52": {
      "model_module": "@jupyter-widgets/controls",
      "model_module_version": "2.0.0",
      "model_name": "HBoxModel",
      "state": {
       "children": [
        "IPY_MODEL_df3f19cca8ff4399a5e57e6bac2ca2c0",
        "IPY_MODEL_3840a8e1507d488fb1c09c06548c9e85",
        "IPY_MODEL_2fa12e4ea1b64677bd9c15df8e3f4389"
       ],
       "layout": "IPY_MODEL_2ec7b33384544d5b87def5d5d019fcb6"
      }
     },
     "ccb71d0c98f845a2b0c2ee93ccc06c37": {
      "model_module": "@jupyter-widgets/base",
      "model_module_version": "2.0.0",
      "model_name": "LayoutModel",
      "state": {}
     },
     "ccef851c502a40508e42f58d5dcf81fa": {
      "model_module": "@jupyter-widgets/controls",
      "model_module_version": "2.0.0",
      "model_name": "HTMLModel",
      "state": {
       "layout": "IPY_MODEL_1a1a75fbae924d15a268e50441453fa4",
       "style": "IPY_MODEL_35f8dedd20604c8e8e75d6449501788c"
      }
     },
     "d016310f4de547dfa67526645c528d59": {
      "model_module": "@jupyter-widgets/base",
      "model_module_version": "2.0.0",
      "model_name": "LayoutModel",
      "state": {}
     },
     "d7a64a57c8eb4e1e95669ee724bf0a00": {
      "model_module": "@jupyter-widgets/controls",
      "model_module_version": "2.0.0",
      "model_name": "HTMLStyleModel",
      "state": {
       "description_width": "",
       "font_size": null,
       "text_color": null
      }
     },
     "dbfa9161952b4fe785a250abc813ae39": {
      "model_module": "@jupyter-widgets/base",
      "model_module_version": "2.0.0",
      "model_name": "LayoutModel",
      "state": {}
     },
     "df3f19cca8ff4399a5e57e6bac2ca2c0": {
      "model_module": "@jupyter-widgets/controls",
      "model_module_version": "2.0.0",
      "model_name": "HTMLModel",
      "state": {
       "layout": "IPY_MODEL_d016310f4de547dfa67526645c528d59",
       "style": "IPY_MODEL_4c792152e8e44a2c9da8c44dbaf14d69",
       "value": "100%"
      }
     },
     "ebefad0039194214b8105f7e4d83cd20": {
      "model_module": "@jupyter-widgets/controls",
      "model_module_version": "2.0.0",
      "model_name": "HTMLStyleModel",
      "state": {
       "description_width": "",
       "font_size": null,
       "text_color": null
      }
     },
     "ee397d064804468fa5c6a57d14758c8f": {
      "model_module": "@jupyter-widgets/controls",
      "model_module_version": "2.0.0",
      "model_name": "HTMLModel",
      "state": {
       "layout": "IPY_MODEL_242d82287e1a486ba46b42c46979f5fa",
       "style": "IPY_MODEL_9ac0efb7a79249e2ba3b9cf9fd62d4e1"
      }
     },
     "f538dc20ca8841d7a45219029590f7a3": {
      "model_module": "@jupyter-widgets/base",
      "model_module_version": "2.0.0",
      "model_name": "LayoutModel",
      "state": {}
     },
     "f6e021b678254cffbaf3b72ded08f638": {
      "model_module": "@jupyter-widgets/controls",
      "model_module_version": "2.0.0",
      "model_name": "HTMLModel",
      "state": {
       "layout": "IPY_MODEL_62b4f0f789344666b3950c107aac8997",
       "style": "IPY_MODEL_7920d7f01ba84d4ead52f35a68d2f981",
       "value": "100%"
      }
     },
     "fbf69b46486d4fc2a388ce670c3bc6f6": {
      "model_module": "@jupyter-widgets/controls",
      "model_module_version": "2.0.0",
      "model_name": "HTMLModel",
      "state": {
       "layout": "IPY_MODEL_f538dc20ca8841d7a45219029590f7a3",
       "style": "IPY_MODEL_03d832fb7ccc4fc5ba39d6cc8890b5da",
       "value": " 2793/? [00:14&lt;00:00, 195.24it/s]"
      }
     },
     "fdf862ede750479aa2726f2af8c6cd11": {
      "model_module": "@jupyter-widgets/controls",
      "model_module_version": "2.0.0",
      "model_name": "ProgressStyleModel",
      "state": {
       "description_width": ""
      }
     }
    },
    "version_major": 2,
    "version_minor": 0
   }
  }
 },
 "nbformat": 4,
 "nbformat_minor": 5
}
