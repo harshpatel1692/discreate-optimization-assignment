{
 "cells": [
  {
   "cell_type": "code",
   "execution_count": 1,
   "id": "51dbc58f-2fb9-4228-b454-77a8c649850f",
   "metadata": {},
   "outputs": [],
   "source": [
    "import math\n",
    "from collections import namedtuple\n",
    "import plotly.graph_objects as go\n",
    "import plotly.express as px\n",
    "import numpy as np\n",
    "from copy import deepcopy\n",
    "from tqdm import tqdm\n",
    "from tqdm.notebook import tqdm\n",
    "import random\n",
    "\n",
    "import numba as nb\n",
    "# from numba import jit, vectorize, float64"
   ]
  },
  {
   "cell_type": "code",
   "execution_count": 2,
   "id": "a85b5a86-8a32-47e8-8439-a904ab13121e",
   "metadata": {},
   "outputs": [],
   "source": [
    "with open('./data/tsp_574_1', 'r') as input_data_file:\n",
    "    input_data = input_data_file.read()\n",
    "    \n",
    "lines = input_data.split('\\n')\n",
    "nodeCount = int(lines[0])\n",
    "\n",
    "points = []\n",
    "for i in range(1, nodeCount+1):\n",
    "    line = lines[i]\n",
    "    parts = line.split()\n",
    "    # points.append(Point(float(parts[0]), float(parts[1])))\n",
    "    points.append((float(parts[0]), float(parts[1])))\n",
    "points = np.array(points)"
   ]
  },
  {
   "cell_type": "code",
   "execution_count": 3,
   "id": "81b392c6-0299-49c5-ad97-c3eca623a27c",
   "metadata": {},
   "outputs": [],
   "source": [
    "@nb.jit(nopython=True)\n",
    "def length_distance(single_point, all_points):\n",
    "    return np.sqrt((all_points[:, 0]-single_point[0])**2 + (all_points[:, 1]-single_point[1])**2)\n",
    "\n",
    "\n",
    "@nb.jit(nopython=True)\n",
    "def calculate_travel(graph):\n",
    "    n = len(graph)\n",
    "    total_distance = 0.0\n",
    "\n",
    "    for i in range(n - 1):\n",
    "        total_distance += DISTANCE_MATRIX[graph[i], graph[i + 1]]\n",
    "\n",
    "    # Add the distance to return to the starting point\n",
    "    total_distance += DISTANCE_MATRIX[graph[-1], graph[0]]\n",
    "\n",
    "    return total_distance\n",
    "\n"
   ]
  },
  {
   "cell_type": "code",
   "execution_count": 4,
   "id": "6b971a86-eefc-4da2-8401-ae9efb87ac2b",
   "metadata": {},
   "outputs": [],
   "source": [
    "def init_path(node_count):\n",
    "    ## Keep picking the next nearest neighbor to get the path.\n",
    "    \n",
    "    with tqdm(total=nodeCount) as pbar:\n",
    "        \n",
    "        pick_next = 0\n",
    "        exploring_path = np.array([], dtype=int)\n",
    "        exploring_path = np.append(exploring_path, pick_next)\n",
    "        \n",
    "        pbar.update(1)\n",
    "   \n",
    "        while exploring_path.size < nodeCount:\n",
    "            \n",
    "            neighbor_idx = np.argsort(DISTANCE_MATRIX[pick_next])\n",
    "            \n",
    "            mask = np.isin(neighbor_idx, exploring_path)\n",
    "            neighbor_idx = neighbor_idx[~mask]\n",
    "        \n",
    "            pick_next = neighbor_idx[0]\n",
    "            \n",
    "            exploring_path = np.append(exploring_path, pick_next)\n",
    "\n",
    "            pbar.update(1)\n",
    "\n",
    "    total_distance = calculate_travel(exploring_path)\n",
    "\n",
    "    return exploring_path, total_distance"
   ]
  },
  {
   "cell_type": "code",
   "execution_count": 5,
   "id": "60905495-09ae-4ddb-8216-dd7e5d99877d",
   "metadata": {},
   "outputs": [
    {
     "data": {
      "application/vnd.jupyter.widget-view+json": {
       "model_id": "7046a1049bff4908b481851986486b11",
       "version_major": 2,
       "version_minor": 0
      },
      "text/plain": [
       "  0%|          | 0/574 [00:00<?, ?it/s]"
      ]
     },
     "metadata": {},
     "output_type": "display_data"
    }
   ],
   "source": [
    "DISTANCE_MATRIX = np.zeros((nodeCount, nodeCount))\n",
    "for i in tqdm(range(len(points))):\n",
    "    DISTANCE_MATRIX[i] = length_distance(points[i], points)"
   ]
  },
  {
   "cell_type": "code",
   "execution_count": 6,
   "id": "f28ead9a-ec05-44e3-917f-036afce397dd",
   "metadata": {},
   "outputs": [],
   "source": [
    "class Penalty:\n",
    "    def __init__(self, node_count):\n",
    "        self.penalty = [[0] * i for i in range(1, node_count + 1)]\n",
    "\n",
    "    def __getitem__(self, key):\n",
    "        j, i = sorted(key)\n",
    "        return self.penalty[i][j]\n",
    "\n",
    "    def __setitem__(self, key, value):\n",
    "        j, i = sorted(key)\n",
    "        self.penalty[i][j] = value"
   ]
  },
  {
   "cell_type": "code",
   "execution_count": 7,
   "id": "c667696c-6b03-4a2a-93b2-7069800204c3",
   "metadata": {},
   "outputs": [
    {
     "ename": "SyntaxError",
     "evalue": "invalid syntax (1844316389.py, line 2)",
     "output_type": "error",
     "traceback": [
      "\u001b[1;36m  Cell \u001b[1;32mIn[7], line 2\u001b[1;36m\u001b[0m\n\u001b[1;33m    if\u001b[0m\n\u001b[1;37m       ^\u001b[0m\n\u001b[1;31mSyntaxError\u001b[0m\u001b[1;31m:\u001b[0m invalid syntax\n"
     ]
    }
   ],
   "source": [
    "def get_penalty(key):\n",
    "    if "
   ]
  },
  {
   "cell_type": "code",
   "execution_count": 11,
   "id": "1f6ec40f-5efc-4fac-9977-8bf85f2cf2b1",
   "metadata": {},
   "outputs": [],
   "source": [
    "def do_2opt(pointidx1, pointidx2, path, new_distance, augmented_distance):\n",
    "    if pointidx2 > pointidx1:\n",
    "        slice_start = pointidx1\n",
    "        slice_end = pointidx2\n",
    "    else:\n",
    "        slice_start = pointidx2\n",
    "        slice_end = pointidx1\n",
    "\n",
    "    new_path = np.hstack((path[:slice_start], path[slice_start:slice_end][::-1], path[slice_end:]))\n",
    "\n",
    "    point1 = path[pointidx1-1]\n",
    "    point2 = path[pointidx1]\n",
    "    point3 = path[pointidx2-1]\n",
    "    point4 = path[pointidx2]\n",
    "\n",
    "    d12 = DISTANCE_MATRIX[point1][point2]\n",
    "    d34 = DISTANCE_MATRIX[point3][point4]\n",
    "    d13 = DISTANCE_MATRIX[point1][point3]\n",
    "    d24 = DISTANCE_MATRIX[point2][point4]\n",
    "    \n",
    "    p12 = PENALTY[point1, point2]\n",
    "    p34 = PENALTY[point3, point4]\n",
    "    p13 = PENALTY[point1, point3]\n",
    "    p24 = PENALTY[point2, point4]\n",
    "\n",
    "    net_distance = d13 + d24 - d12 - d34\n",
    "    augmented_distance_delta =  net_distance + lambda_factor * (p13 + p24 - p12 - p34)\n",
    "\n",
    "    new_distance += net_distance\n",
    "    augmented_distance += augmented_distance_delta \n",
    "    \n",
    "    return new_path, new_distance, augmented_distance\n",
    "\n",
    "\n",
    "# def pick_next_edge(pointidx1, current_path):\n",
    "def pick_next_edge(point2, path):\n",
    "    \n",
    "    pointidx1 = np.where(path==point2)[0][0]\n",
    "    point1 = path[pointidx1-1]\n",
    "    point2_next = current_path[pointidx1+1] if pointidx1+1 < nodeCount else current_path[0]\n",
    "\n",
    "    d12 = DISTANCE_MATRIX[point1][point2]\n",
    "    p12 = PENALTY[point1, point2]\n",
    "    \n",
    "    # Repeatedly do 2-opt for all the neighbors\n",
    "    next_probable_edge = {}\n",
    "    max_distance_delta = float('inf')\n",
    "    \n",
    "    node = path[pointidx1]\n",
    "    sorted_neighbor_points = np.argsort(DISTANCE_MATRIX[node])[1:SEARCH_AREA]\n",
    "    \n",
    "    for neighbor_idx in sorted_neighbor_points:\n",
    "       \n",
    "        pointidx2 = np.where(current_path==neighbor_idx)[0][0]\n",
    "    \n",
    "        point3 = current_path[pointidx2-1]\n",
    "        point4 = current_path[pointidx2]\n",
    "    \n",
    "        if point4 in (point1, point2, point2_next):\n",
    "            continue\n",
    "    \n",
    "        d12 = DISTANCE_MATRIX[point1][point2]\n",
    "        d34 = DISTANCE_MATRIX[point3][point4]\n",
    "        d13 = DISTANCE_MATRIX[point1][point3]\n",
    "        d24 = DISTANCE_MATRIX[point2][point4]\n",
    "        \n",
    "        p12 = PENALTY[point1, point2]\n",
    "        p34 = PENALTY[point3, point4]\n",
    "        p13 = PENALTY[point1, point3]\n",
    "        p24 = PENALTY[point2, point4]\n",
    "    \n",
    "        augmented_distance_delta = (d13 + d24 - d12 - d34) + lambda_factor * (p13 + p24 - p12 - p34)\n",
    "        next_probable_edge[pointidx2] = augmented_distance_delta\n",
    "\n",
    "    # filter candidates with min value\n",
    "    if not next_probable_edge.values():\n",
    "        pointidx2 = -1\n",
    "        point3 = -1\n",
    "        point4 = -1\n",
    "        return (pointidx1, pointidx2), (point1, point2, point3, point4)\n",
    "        \n",
    "    min_distance_delta = min(next_probable_edge.values())\n",
    "    viable_candidates = [key for key, value in next_probable_edge.items() if value == min_distance_delta]\n",
    "    \n",
    "\n",
    "    # Pick random viable candidate\n",
    "    if min_distance_delta < 0:\n",
    "        \n",
    "        pointidx2 = random.choice(viable_candidates)\n",
    "        point3 = path[pointidx2-1]\n",
    "        point4 = path[pointidx2]\n",
    "    else:\n",
    "        # not using None as index could be 0. if None and if 0 has same effect.\n",
    "        pointidx2 = -1\n",
    "        point3 = -1\n",
    "        point4 = -1\n",
    "    \n",
    "    return (pointidx1, pointidx2), (point1, point2, point3, point4)\n",
    "\n",
    "\n",
    "def add_penalty(path):\n",
    "    util_nodes = {}\n",
    "    \n",
    "    for idx, node in enumerate(path):\n",
    "        node_out = path[idx+1] if idx+1 < nodeCount else path[0]\n",
    "        dist = DISTANCE_MATRIX[node][node_out]\n",
    "        penalty = (1 + PENALTY[node, node_out])\n",
    "        util = dist / (1 + penalty)\n",
    "        util_nodes[(node, node_out)] = util\n",
    "\n",
    "    max_util = max(util_nodes.values())\n",
    "    viable_candidates = [(node, node_out) for (node, node_out), value in util_nodes.items() if value == max_util]\n",
    "\n",
    "    for node, node_out in viable_candidates:\n",
    "        PENALTY[node, node_out] += 1\n",
    "        ACTIVATE[node] = 1\n",
    "        ACTIVATE[node_out] = 1"
   ]
  },
  {
   "cell_type": "code",
   "execution_count": 12,
   "id": "4c77a167-418e-47b7-92dc-b68e3ab50657",
   "metadata": {},
   "outputs": [
    {
     "data": {
      "application/vnd.jupyter.widget-view+json": {
       "model_id": "2c4817395a01419396598c2802a32334",
       "version_major": 2,
       "version_minor": 0
      },
      "text/plain": [
       "  0%|          | 0/574 [00:00<?, ?it/s]"
      ]
     },
     "metadata": {},
     "output_type": "display_data"
    }
   ],
   "source": [
    "step_limit = 100000\n",
    "SEARCH_AREA = nodeCount//5\n",
    "PENALTY = Penalty(nodeCount)\n",
    "ACTIVATE = np.ones(nodeCount, dtype=int)\n",
    "\n",
    "current_path, current_distance = init_path(nodeCount)\n",
    "\n",
    "alpha = 0.1\n",
    "lambda_factor = alpha * current_distance/nodeCount"
   ]
  },
  {
   "cell_type": "code",
   "execution_count": 13,
   "id": "417e6d46-6a77-4e37-b43c-c2409d7c5f80",
   "metadata": {},
   "outputs": [
    {
     "data": {
      "text/plain": [
       "47054.9474467063"
      ]
     },
     "execution_count": 13,
     "metadata": {},
     "output_type": "execute_result"
    }
   ],
   "source": [
    "# current_path = init_path()np.array([0, 33, 5, 2, 28, 45, 9, 10, 3, 46, 24, 34, 23, 12, 36, 6, 26, 47, 27, 41, 8, 4, 35, 13, 7, 19, 40, 18, 11, 42, 29, 43, 21, 37, 20, 25, 1, 22, 31, 39, 50, 38, 15, 44, 16, 14, 30, 48, 32, 17, 49])\n",
    "# random.shuffle(current_path)\n",
    "# current_distance = calculate_travel(current_path)\n",
    "current_augmented_distance = current_distance\n",
    "\n",
    "optimal_distance = current_distance\n",
    "optimal_path = deepcopy(current_path)\n",
    "\n",
    "current_distance"
   ]
  },
  {
   "cell_type": "code",
   "execution_count": 14,
   "id": "57c6ba1f-a2bc-4572-8c97-17d2473ffdd3",
   "metadata": {},
   "outputs": [
    {
     "name": "stdout",
     "output_type": "stream",
     "text": [
      "39396.1068933935 39396.1068933935 39396.1068933935\n",
      "39314.32402330358 39043.799064115236 39312.81341149583\n",
      "39090.110209102175 38303.128509645096 39084.20042071292\n",
      "39080.51306668973 37785.27235299991 39036.405346505206\n",
      "39063.144577125786 37464.58800010352 39036.405346505206\n",
      "38992.675695055485 36787.48739136835 38982.288627099\n",
      "38902.93852635426 36279.66619483055 38901.92204944701\n",
      "38900.17854478724 35842.42673335491 38897.443657472504\n",
      "38823.63207187371 35101.864451524445 38740.611062403805\n",
      "38719.65055652836 34219.09896275802 38693.05950059208\n",
      "38720.39974803679 33473.85508498936 38682.00636006937\n",
      "38527.76822126534 32568.021393084906 38516.9289959184\n",
      "38555.654239765354 31948.28705474 38516.9289959184\n",
      "38532.75726566045 31310.56062793422 38516.9289959184\n",
      "38323.38465119876 30445.369930591613 38259.85649111225\n",
      "38247.98326767817 29894.500436982365 38226.9844990573\n",
      "38185.24364293193 29208.73363349922 38185.24364293193\n",
      "38117.506297129315 28509.771382923722 38117.506297129315\n",
      "38111.920166302254 27987.728511827947 38098.89028765511\n",
      "38140.704397390065 27467.265098503016 38098.89028765511\n",
      "38091.10441663077 26966.790185763093 38091.10441663077\n",
      "38162.233308978866 26373.903269194263 38084.91047430122\n",
      "38120.530335249874 25848.534459340575 38084.91047430122\n",
      "38220.996547149 25186.612149890625 38084.91047430122\n",
      "38279.98284618599 24466.814475506526 38084.91047430122\n",
      "38237.91056910325 23662.353677074727 38084.91047430122\n",
      "38154.18202949114 22939.202506653684 38084.91047430122\n",
      "38158.635851657426 22255.04734179499 38084.91047430122\n",
      "38066.26411080106 21695.40521688597 38060.66432199086\n",
      "38077.20094107947 21042.326238247424 38060.66432199086\n",
      "38035.93556434297 20132.10190169368 38006.632786782924\n",
      "38013.4446381941 19625.94513942015 37995.98313684431\n",
      "38096.78692357406 19069.8647939912 37995.98313684431\n",
      "38122.479050253445 18513.51837211378 37995.98313684431\n",
      "38178.32376462898 17733.195030816136 37995.98313684431\n",
      "38093.472973000666 16894.15344387476 37995.98313684431\n",
      "38032.45155267057 16259.29120102385 37995.98313684431\n",
      "38154.88250495587 15635.729084032128 37995.98313684431\n",
      "38110.4215794847 14738.70465081575 37995.98313684431\n",
      "38086.821762762134 14190.450367788437 37995.98313684431\n",
      "38117.522372166364 13401.378373591515 37995.98313684431\n",
      "38211.7496215944 12544.66940284222 37987.0305955923\n",
      "38135.19614941362 11787.704669672488 37987.0305955923\n",
      "38134.42661698909 11188.5011366191 37981.379627025795\n",
      "38015.42170217198 10479.25994720915 37981.379627025795\n",
      "38106.49280446397 9660.383459503844 37971.58759425123\n",
      "38015.66444494452 8913.73701710349 37958.74202771795\n",
      "38066.53919720644 8235.014152160362 37918.9071234262\n",
      "37913.704634286485 7442.756958431524 37900.538079073674\n",
      "37990.74854132968 6634.446453585444 37900.538079073674\n",
      "37941.73943005715 6011.596519792105 37900.538079073674\n",
      "37968.19754762853 5193.688855654308 37900.538079073674\n",
      "37886.04479339368 4521.299826826636 37869.574804916716\n",
      "37871.397514667995 3818.043561075951 37869.574804916716\n",
      "37977.48711516718 3014.185571577857 37869.574804916716\n",
      "37977.00175918739 2152.9389818168543 37869.574804916716\n",
      "37949.72926491487 1412.4643224113286 37869.574804916716\n",
      "37948.94032484207 788.6482036016295 37869.574804916716\n",
      "38017.02010292228 118.9326384408224 37869.574804916716\n",
      "38097.83144591663 -562.644539913904 37869.574804916716\n",
      "38030.21665885302 -1425.4387524706606 37869.574804916716\n",
      "38075.114049558324 -2126.534431042407 37869.574804916716\n",
      "38169.04566799717 -2704.8163475565207 37869.574804916716\n",
      "38188.73513641279 -3455.71312652597 37869.574804916716\n",
      "38062.61759092021 -4434.3941797637935 37869.574804916716\n",
      "37979.938181520316 -5222.078028260674 37869.574804916716\n",
      "37992.222056991246 -5873.809961706672 37869.574804916716\n",
      "37972.31467641974 -6590.524055339184 37869.574804916716\n",
      "37946.777044027636 -7386.647935116374 37869.574804916716\n",
      "37917.34267028807 -8178.470830205005 37857.42871716955\n",
      "38108.24609321001 -8872.921819172312 37857.42871716955\n",
      "38044.304844027836 -9773.031124027644 37855.60600741829\n",
      "37815.05122433548 -11067.989128401498 37805.09313963248\n",
      "37772.408055715736 -11700.868571614039 37750.897714098995\n",
      "37681.93026942911 -12422.571262673544 37652.53348986436\n",
      "37663.959167036264 -13112.75590001931 37652.53348986436\n",
      "37733.42293614917 -13977.832899011702 37652.53348986436\n",
      "37700.45370668719 -14592.840677030481 37638.95431648526\n",
      "37714.233824137635 -15398.833163181165 37615.48356928829\n",
      "37685.005332209235 -16239.636532674705 37590.7350025715\n",
      "37514.5646971112 -17016.70889443761 37512.923951849225\n",
      "37620.7829246167 -17787.64735278531 37508.95789721287\n",
      "37595.45151583373 -18534.37865273727 37508.95789721287\n",
      "37659.17061206011 -19429.793502724213 37508.95789721287\n",
      "37669.52298507056 -20181.829651062828 37508.95789721287\n",
      "37712.1173757458 -20983.60104209681 37508.95789721287\n",
      "37541.19772858483 -21711.966059706567 37508.95789721287\n",
      "37590.909160885974 -22318.072710286342 37508.95789721287\n",
      "37627.97602597912 -23092.580722758357 37508.95789721287\n",
      "37644.571440837244 -23920.35108960944 37508.95789721287\n",
      "37601.005219320316 -24701.7126543674 37508.95789721287\n",
      "37726.68924293577 -25403.998960389144 37508.95789721287\n",
      "37613.207655519516 -26206.089534830364 37508.95789721287\n",
      "37606.48499252338 -26786.6530203473 37508.95789721287\n",
      "37731.828380346305 -27415.500427837444 37508.95789721287\n",
      "37569.42568604844 -28282.907561232296 37508.95789721287\n",
      "37586.57663173231 -29208.495109689724 37508.95789721287\n",
      "37583.84589744724 -29932.6257351438 37508.95789721287\n",
      "37658.593656694764 -30603.871045173342 37508.95789721287\n",
      "37814.23684014629 -31325.384547575024 37508.95789721287\n",
      "37576.389757282595 -31956.722480167235 37508.95789721287\n",
      "37589.277351927936 -32714.42113290696 37508.95789721287\n",
      "37581.34346733779 -33427.35945659411 37508.95789721287\n"
     ]
    }
   ],
   "source": [
    "retry = 0\n",
    "last_distance = float('inf')\n",
    "\n",
    "for _ in range(step_limit):\n",
    "    while sum(ACTIVATE) > 0:\n",
    "        for explore_node in range(ACTIVATE.size):\n",
    "            \n",
    "            if not ACTIVATE[explore_node]:\n",
    "                continue\n",
    "        \n",
    "            indexes, points_visited = pick_next_edge(explore_node, current_path)\n",
    "            \n",
    "            pt_idx1, pt_idx2 = indexes\n",
    "            p1, p2, p3, p4 = points_visited\n",
    "            \n",
    "            if pt_idx2 == -1:\n",
    "                ACTIVATE[explore_node] = 0\n",
    "                # print('Setting zero: ', explore_node)\n",
    "                continue\n",
    "            \n",
    "            current_path, current_distance, current_augmented_distance = do_2opt(pt_idx1, pt_idx2, current_path, current_distance, current_augmented_distance)\n",
    "            # print(current_distance, current_augmented_distance)\n",
    "            # print(current_path)\n",
    "\n",
    "            ACTIVATE[p1] = 1\n",
    "            ACTIVATE[p2] = 1\n",
    "            ACTIVATE[p3] = 1\n",
    "            ACTIVATE[p4] = 1\n",
    "            \n",
    "            if current_distance < optimal_distance:\n",
    "                optimal_path = deepcopy(current_path)\n",
    "                optimal_distance = current_distance \n",
    "\n",
    "    \n",
    "    \n",
    "    add_penalty(current_path)\n",
    "\n",
    "    if _ % 100 == 0:\n",
    "        print(current_distance, current_augmented_distance, optimal_distance)\n",
    "        if optimal_distance < last_distance:\n",
    "            last_distance = optimal_distance\n",
    "            retry = 0\n",
    "        else:\n",
    "            retry += 1\n",
    "\n",
    "    if retry > 20:\n",
    "        break\n",
    "    \n",
    "        "
   ]
  },
  {
   "cell_type": "code",
   "execution_count": null,
   "id": "64f258b3-7566-40a9-9b9c-c26ff9dd28c2",
   "metadata": {},
   "outputs": [],
   "source": [
    "print(current_distance, current_augmented_distance, optimal_distance)"
   ]
  },
  {
   "cell_type": "code",
   "execution_count": null,
   "id": "6a09ba1a-5937-4f35-b22f-b619372f0be0",
   "metadata": {},
   "outputs": [],
   "source": [
    "48"
   ]
  },
  {
   "cell_type": "code",
   "execution_count": null,
   "id": "c2778873-ba97-43f4-a729-3d629405fcce",
   "metadata": {},
   "outputs": [],
   "source": [
    "11 1\n",
    "22 1 48 30"
   ]
  },
  {
   "cell_type": "code",
   "execution_count": null,
   "id": "14487380-5a53-4b56-bf7a-0f7c167dfef0",
   "metadata": {},
   "outputs": [],
   "source": [
    "slice_start = 1\n",
    "slice_end = 11"
   ]
  },
  {
   "cell_type": "code",
   "execution_count": null,
   "id": "067234d3-df27-4732-9c74-a3603af61248",
   "metadata": {},
   "outputs": [],
   "source": [
    "slice_path = path[slice_start:slice_end+1]\n",
    "slice_path = np.flip(slice_path)\n",
    "slice_path"
   ]
  },
  {
   "cell_type": "code",
   "execution_count": null,
   "id": "2e14df0d-520d-49b7-9b16-8b65cf5f760f",
   "metadata": {},
   "outputs": [],
   "source": [
    "new_path = np.hstack((path[:slice_start], path[slice_start:slice_end][::-1], path[slice_end:]))"
   ]
  },
  {
   "cell_type": "code",
   "execution_count": null,
   "id": "8ff3dea1-7390-4781-a1f9-d5e41effa8e7",
   "metadata": {},
   "outputs": [],
   "source": [
    "new_path"
   ]
  },
  {
   "cell_type": "code",
   "execution_count": null,
   "id": "94ffae84-b6b7-4eb3-9cf5-c42b7e865121",
   "metadata": {},
   "outputs": [],
   "source": [
    "if pointidx2 > pointidx1:\n",
    "    slice_start = pointidx1\n",
    "    slice_end = pointidx2\n",
    "else:\n",
    "    slice_start = pointidx2\n",
    "    slice_end = pointidx1\n",
    "\n",
    "slice_path = path[slice_start:slice_end+1]\n",
    "slice_path = np.flip(slice_path)\n",
    "\n",
    "new_path = np.hstack((path[:slice_start], slice_path, path[slice_end + 1:]))"
   ]
  },
  {
   "cell_type": "code",
   "execution_count": null,
   "id": "5eb4af40-0ab8-4c4e-bff4-86bb48c84f7f",
   "metadata": {},
   "outputs": [],
   "source": [
    "path[slice_end-1 + 1:]"
   ]
  },
  {
   "cell_type": "code",
   "execution_count": null,
   "id": "981e8663-de8f-44ea-a67c-f5d91f943136",
   "metadata": {},
   "outputs": [],
   "source": [
    "temp = np.array([0, 1, 2, 3, 4, 5, 6, 7, 8, 9, 10])"
   ]
  },
  {
   "cell_type": "code",
   "execution_count": null,
   "id": "6999c03a-4867-4e28-ae97-93956427c889",
   "metadata": {},
   "outputs": [],
   "source": [
    "slice_start = 2\n",
    "slice_end = 5\n",
    "np.hstack((temp[:slice_start], temp[slice_start:slice_end][::-1], temp[slice_end:]))"
   ]
  },
  {
   "cell_type": "code",
   "execution_count": null,
   "id": "297fb3be-f4e0-46ba-956a-c73a397a65dd",
   "metadata": {},
   "outputs": [],
   "source": [
    "[48 22 31 39 50 38 15 44 16 14 30  1 25 20 37 21 43 29 42 11 18 40 19  7\n",
    " 13 35  4  8 41 27 47 26  6 36 12 23 34 24 46  3 10  9 45 28  2  5 33  0\n",
    " 32 17 49]"
   ]
  },
  {
   "cell_type": "code",
   "execution_count": null,
   "id": "c3aefb59-5fcf-4491-98f1-eac273d6554a",
   "metadata": {},
   "outputs": [],
   "source": [
    "[48 49 17 32  0 33  5  2 28 45  9 10  3 46 24 34 23 12 36  6 26 47 27 41\n",
    "  8  4 35 13  7 19 40 18 11 42 29 43 21 37 20 25  1 30 14 16 44 15 38 50\n",
    " 39 31 22]"
   ]
  },
  {
   "cell_type": "code",
   "execution_count": null,
   "id": "3d81d39f-52db-4d4b-ab99-88a9f0877df7",
   "metadata": {},
   "outputs": [],
   "source": [
    "path = np.array([48,\n",
    "30,\n",
    "14,\n",
    "16,\n",
    "44,\n",
    "15,\n",
    "38,\n",
    "50,\n",
    "39,\n",
    "31,\n",
    "22,\n",
    "1,\n",
    "25,\n",
    "20,\n",
    "37,\n",
    "21,\n",
    "43,\n",
    "29,\n",
    "42,\n",
    "11,\n",
    "18,\n",
    "40,\n",
    "19,\n",
    "7,\n",
    "13,\n",
    "35,\n",
    "4,\n",
    "8,\n",
    "41,\n",
    "27,\n",
    "47,\n",
    "26,\n",
    "6,\n",
    "36,\n",
    "12,\n",
    "23,\n",
    "34,\n",
    "24,\n",
    "46,\n",
    "3,\n",
    "10,\n",
    "9,\n",
    "45,\n",
    "28,\n",
    "2,\n",
    "5,\n",
    "33,\n",
    "0,\n",
    "32,\n",
    "17,\n",
    "49])"
   ]
  }
 ],
 "metadata": {
  "kernelspec": {
   "display_name": "Python 3 (ipykernel)",
   "language": "python",
   "name": "python3"
  },
  "language_info": {
   "codemirror_mode": {
    "name": "ipython",
    "version": 3
   },
   "file_extension": ".py",
   "mimetype": "text/x-python",
   "name": "python",
   "nbconvert_exporter": "python",
   "pygments_lexer": "ipython3",
   "version": "3.10.11"
  },
  "widgets": {
   "application/vnd.jupyter.widget-state+json": {
    "state": {
     "0981eaceff2b48098bf2240927f5d2e4": {
      "model_module": "@jupyter-widgets/controls",
      "model_module_version": "2.0.0",
      "model_name": "HTMLModel",
      "state": {
       "layout": "IPY_MODEL_3ae984911a054c94aa7f96619cea9ab9",
       "style": "IPY_MODEL_3cc9461118134d10b0e3ed00401fc21c",
       "value": "100%"
      }
     },
     "173f0df647744ab3a2223f1212c3176d": {
      "model_module": "@jupyter-widgets/controls",
      "model_module_version": "2.0.0",
      "model_name": "HTMLModel",
      "state": {
       "layout": "IPY_MODEL_5e05c875b8b648bcabb86a623516d6e3",
       "style": "IPY_MODEL_89b3e1f830f5482385c18350ccd8985e",
       "value": "100%"
      }
     },
     "1d13072d55d741b1baac32292e3dfd03": {
      "model_module": "@jupyter-widgets/base",
      "model_module_version": "2.0.0",
      "model_name": "LayoutModel",
      "state": {}
     },
     "1e59984acb2c4d18b30babe177e5419a": {
      "model_module": "@jupyter-widgets/base",
      "model_module_version": "2.0.0",
      "model_name": "LayoutModel",
      "state": {}
     },
     "222dfcb0eb1b40a58eaa77c073c3104c": {
      "model_module": "@jupyter-widgets/controls",
      "model_module_version": "2.0.0",
      "model_name": "ProgressStyleModel",
      "state": {
       "description_width": ""
      }
     },
     "23da39a293ff4d52809cd03f18352e21": {
      "model_module": "@jupyter-widgets/base",
      "model_module_version": "2.0.0",
      "model_name": "LayoutModel",
      "state": {}
     },
     "260ee87960d4435f9cada95f6ab0a421": {
      "model_module": "@jupyter-widgets/base",
      "model_module_version": "2.0.0",
      "model_name": "LayoutModel",
      "state": {}
     },
     "2c4817395a01419396598c2802a32334": {
      "model_module": "@jupyter-widgets/controls",
      "model_module_version": "2.0.0",
      "model_name": "HBoxModel",
      "state": {
       "children": [
        "IPY_MODEL_0981eaceff2b48098bf2240927f5d2e4",
        "IPY_MODEL_8854a532c9d14ec5aef4691e59cea8e6",
        "IPY_MODEL_df7aa86266a04fe8a6052a59a1f0a975"
       ],
       "layout": "IPY_MODEL_55fc17fa84574a6e9d758310eb1d6395"
      }
     },
     "34c648042ed848a094bf65e2ab7b20de": {
      "model_module": "@jupyter-widgets/controls",
      "model_module_version": "2.0.0",
      "model_name": "HTMLModel",
      "state": {
       "layout": "IPY_MODEL_c1822e4bd4244112ab273640ff067841",
       "style": "IPY_MODEL_e5ef6ad7e1d84d9c93a64f5f3de32b59",
       "value": " 574/574 [00:00&lt;00:00, 3059.59it/s]"
      }
     },
     "3ae984911a054c94aa7f96619cea9ab9": {
      "model_module": "@jupyter-widgets/base",
      "model_module_version": "2.0.0",
      "model_name": "LayoutModel",
      "state": {}
     },
     "3cc9461118134d10b0e3ed00401fc21c": {
      "model_module": "@jupyter-widgets/controls",
      "model_module_version": "2.0.0",
      "model_name": "HTMLStyleModel",
      "state": {
       "description_width": "",
       "font_size": null,
       "text_color": null
      }
     },
     "4543d6ed72604673a4792eba9674d5cd": {
      "model_module": "@jupyter-widgets/controls",
      "model_module_version": "2.0.0",
      "model_name": "FloatProgressModel",
      "state": {
       "bar_style": "success",
       "layout": "IPY_MODEL_23da39a293ff4d52809cd03f18352e21",
       "max": 574,
       "style": "IPY_MODEL_596359bb48b64e0cbebc6d1a28a61b4a",
       "value": 574
      }
     },
     "4c5825343460402ebba313a46e18b5ff": {
      "model_module": "@jupyter-widgets/controls",
      "model_module_version": "2.0.0",
      "model_name": "FloatProgressModel",
      "state": {
       "bar_style": "success",
       "layout": "IPY_MODEL_1d13072d55d741b1baac32292e3dfd03",
       "max": 574,
       "style": "IPY_MODEL_222dfcb0eb1b40a58eaa77c073c3104c",
       "value": 574
      }
     },
     "55fc17fa84574a6e9d758310eb1d6395": {
      "model_module": "@jupyter-widgets/base",
      "model_module_version": "2.0.0",
      "model_name": "LayoutModel",
      "state": {}
     },
     "57671c4e09fa4398974a03765af78265": {
      "model_module": "@jupyter-widgets/controls",
      "model_module_version": "2.0.0",
      "model_name": "HTMLStyleModel",
      "state": {
       "description_width": "",
       "font_size": null,
       "text_color": null
      }
     },
     "596359bb48b64e0cbebc6d1a28a61b4a": {
      "model_module": "@jupyter-widgets/controls",
      "model_module_version": "2.0.0",
      "model_name": "ProgressStyleModel",
      "state": {
       "description_width": ""
      }
     },
     "5e05c875b8b648bcabb86a623516d6e3": {
      "model_module": "@jupyter-widgets/base",
      "model_module_version": "2.0.0",
      "model_name": "LayoutModel",
      "state": {}
     },
     "6423d620b20e459e82a53bfd59e7eae4": {
      "model_module": "@jupyter-widgets/controls",
      "model_module_version": "2.0.0",
      "model_name": "HTMLModel",
      "state": {
       "layout": "IPY_MODEL_c0b8cba025424e3684b3cf1bb86f0287",
       "style": "IPY_MODEL_57671c4e09fa4398974a03765af78265",
       "value": "100%"
      }
     },
     "6677ce5483e74ed5bf17b5b25db67b81": {
      "model_module": "@jupyter-widgets/base",
      "model_module_version": "2.0.0",
      "model_name": "LayoutModel",
      "state": {}
     },
     "6743a65fd84d4513bdd42873250f4314": {
      "model_module": "@jupyter-widgets/base",
      "model_module_version": "2.0.0",
      "model_name": "LayoutModel",
      "state": {}
     },
     "68dd4a21ef9b4091bb8b7c4a9fd3cb21": {
      "model_module": "@jupyter-widgets/controls",
      "model_module_version": "2.0.0",
      "model_name": "HTMLStyleModel",
      "state": {
       "description_width": "",
       "font_size": null,
       "text_color": null
      }
     },
     "7046a1049bff4908b481851986486b11": {
      "model_module": "@jupyter-widgets/controls",
      "model_module_version": "2.0.0",
      "model_name": "HBoxModel",
      "state": {
       "children": [
        "IPY_MODEL_6423d620b20e459e82a53bfd59e7eae4",
        "IPY_MODEL_4543d6ed72604673a4792eba9674d5cd",
        "IPY_MODEL_bb4b56e79ec34f38b2fdb53d97a817ce"
       ],
       "layout": "IPY_MODEL_d56700b939b2401bae893ef36e5435e7"
      }
     },
     "7f29b0c713e2448093e4f1758b99eb4f": {
      "model_module": "@jupyter-widgets/controls",
      "model_module_version": "2.0.0",
      "model_name": "ProgressStyleModel",
      "state": {
       "description_width": ""
      }
     },
     "8854a532c9d14ec5aef4691e59cea8e6": {
      "model_module": "@jupyter-widgets/controls",
      "model_module_version": "2.0.0",
      "model_name": "FloatProgressModel",
      "state": {
       "bar_style": "success",
       "layout": "IPY_MODEL_260ee87960d4435f9cada95f6ab0a421",
       "max": 574,
       "style": "IPY_MODEL_7f29b0c713e2448093e4f1758b99eb4f",
       "value": 574
      }
     },
     "89b3e1f830f5482385c18350ccd8985e": {
      "model_module": "@jupyter-widgets/controls",
      "model_module_version": "2.0.0",
      "model_name": "HTMLStyleModel",
      "state": {
       "description_width": "",
       "font_size": null,
       "text_color": null
      }
     },
     "bb4b56e79ec34f38b2fdb53d97a817ce": {
      "model_module": "@jupyter-widgets/controls",
      "model_module_version": "2.0.0",
      "model_name": "HTMLModel",
      "state": {
       "layout": "IPY_MODEL_6743a65fd84d4513bdd42873250f4314",
       "style": "IPY_MODEL_68dd4a21ef9b4091bb8b7c4a9fd3cb21",
       "value": " 574/574 [00:01&lt;00:00,  1.86s/it]"
      }
     },
     "c0b8cba025424e3684b3cf1bb86f0287": {
      "model_module": "@jupyter-widgets/base",
      "model_module_version": "2.0.0",
      "model_name": "LayoutModel",
      "state": {}
     },
     "c1822e4bd4244112ab273640ff067841": {
      "model_module": "@jupyter-widgets/base",
      "model_module_version": "2.0.0",
      "model_name": "LayoutModel",
      "state": {}
     },
     "d56700b939b2401bae893ef36e5435e7": {
      "model_module": "@jupyter-widgets/base",
      "model_module_version": "2.0.0",
      "model_name": "LayoutModel",
      "state": {}
     },
     "df7aa86266a04fe8a6052a59a1f0a975": {
      "model_module": "@jupyter-widgets/controls",
      "model_module_version": "2.0.0",
      "model_name": "HTMLModel",
      "state": {
       "layout": "IPY_MODEL_1e59984acb2c4d18b30babe177e5419a",
       "style": "IPY_MODEL_e652e881f6c54a5ab675904c9047ba37",
       "value": " 574/574 [00:00&lt;00:00, 2791.85it/s]"
      }
     },
     "e5ef6ad7e1d84d9c93a64f5f3de32b59": {
      "model_module": "@jupyter-widgets/controls",
      "model_module_version": "2.0.0",
      "model_name": "HTMLStyleModel",
      "state": {
       "description_width": "",
       "font_size": null,
       "text_color": null
      }
     },
     "e652e881f6c54a5ab675904c9047ba37": {
      "model_module": "@jupyter-widgets/controls",
      "model_module_version": "2.0.0",
      "model_name": "HTMLStyleModel",
      "state": {
       "description_width": "",
       "font_size": null,
       "text_color": null
      }
     },
     "f9cd1607a2d446af8580454eab1dde0f": {
      "model_module": "@jupyter-widgets/controls",
      "model_module_version": "2.0.0",
      "model_name": "HBoxModel",
      "state": {
       "children": [
        "IPY_MODEL_173f0df647744ab3a2223f1212c3176d",
        "IPY_MODEL_4c5825343460402ebba313a46e18b5ff",
        "IPY_MODEL_34c648042ed848a094bf65e2ab7b20de"
       ],
       "layout": "IPY_MODEL_6677ce5483e74ed5bf17b5b25db67b81"
      }
     }
    },
    "version_major": 2,
    "version_minor": 0
   }
  }
 },
 "nbformat": 4,
 "nbformat_minor": 5
}
