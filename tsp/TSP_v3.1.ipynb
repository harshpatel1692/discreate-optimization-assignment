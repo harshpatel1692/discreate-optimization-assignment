{
 "cells": [
  {
   "cell_type": "code",
   "execution_count": 7,
   "id": "51dbc58f-2fb9-4228-b454-77a8c649850f",
   "metadata": {},
   "outputs": [],
   "source": [
    "import math\n",
    "from collections import namedtuple\n",
    "import plotly.graph_objects as go\n",
    "import plotly.express as px\n",
    "import numpy as np\n",
    "from copy import deepcopy\n",
    "from tqdm import tqdm\n",
    "from tqdm.notebook import tqdm\n",
    "import random\n",
    "\n",
    "import numba as nb\n",
    "# from numba import jit, vectorize, float64"
   ]
  },
  {
   "cell_type": "code",
   "execution_count": 8,
   "id": "a85b5a86-8a32-47e8-8439-a904ab13121e",
   "metadata": {},
   "outputs": [],
   "source": [
    "with open('./data/tsp_51_1', 'r') as input_data_file:\n",
    "    input_data = input_data_file.read()\n",
    "    \n",
    "lines = input_data.split('\\n')\n",
    "nodeCount = int(lines[0])\n",
    "\n",
    "points = []\n",
    "for i in range(1, nodeCount+1):\n",
    "    line = lines[i]\n",
    "    parts = line.split()\n",
    "    # points.append(Point(float(parts[0]), float(parts[1])))\n",
    "    points.append((float(parts[0]), float(parts[1])))\n",
    "points = np.array(points)"
   ]
  },
  {
   "cell_type": "code",
   "execution_count": 33,
   "id": "81b392c6-0299-49c5-ad97-c3eca623a27c",
   "metadata": {},
   "outputs": [],
   "source": [
    "@nb.jit(nopython=True)\n",
    "def length_distance(single_point, all_points):\n",
    "    return np.sqrt((all_points[:, 0]-single_point[0])**2 + (all_points[:, 1]-single_point[1])**2)\n",
    "\n",
    "\n",
    "@nb.jit(nopython=True)\n",
    "def calculate_travel(graph):\n",
    "    n = len(graph)\n",
    "    total_distance = 0.0\n",
    "\n",
    "    for i in range(n - 1):\n",
    "        total_distance += DISTANCE_MATRIX[graph[i], graph[i + 1]]\n",
    "\n",
    "    # Add the distance to return to the starting point\n",
    "    total_distance += DISTANCE_MATRIX[graph[-1], graph[0]]\n",
    "\n",
    "    return total_distance\n",
    "\n"
   ]
  },
  {
   "cell_type": "code",
   "execution_count": 41,
   "id": "6b971a86-eefc-4da2-8401-ae9efb87ac2b",
   "metadata": {},
   "outputs": [],
   "source": [
    "def init_path(node_count):\n",
    "    ## Keep picking the next nearest neighbor to get the path.\n",
    "    pick_next = 0\n",
    "    exploring_path = np.array([], dtype=int)\n",
    "    exploring_path = np.append(exploring_path, pick_next)\n",
    "    \n",
    "    while exploring_path.size < nodeCount:\n",
    "        \n",
    "        neighbor_idx = np.argsort(DISTANCE_MATRIX[pick_next])\n",
    "        \n",
    "        mask = np.isin(neighbor_idx, exploring_path)\n",
    "        neighbor_idx = neighbor_idx[~mask]\n",
    "    \n",
    "        pick_next = neighbor_idx[0]\n",
    "        \n",
    "        exploring_path = np.append(exploring_path, pick_next)\n",
    "\n",
    "    total_distance = calculate_travel(exploring_path)\n",
    "\n",
    "    return exploring_path, total_distance"
   ]
  },
  {
   "cell_type": "code",
   "execution_count": 42,
   "id": "60905495-09ae-4ddb-8216-dd7e5d99877d",
   "metadata": {},
   "outputs": [
    {
     "data": {
      "application/vnd.jupyter.widget-view+json": {
       "model_id": "2ba7478262a34e619ceac4893c43d49f",
       "version_major": 2,
       "version_minor": 0
      },
      "text/plain": [
       "  0%|          | 0/51 [00:00<?, ?it/s]"
      ]
     },
     "metadata": {},
     "output_type": "display_data"
    }
   ],
   "source": [
    "DISTANCE_MATRIX = np.zeros((nodeCount, nodeCount))\n",
    "for i in tqdm(range(len(points))):\n",
    "    DISTANCE_MATRIX[i] = length_distance(points[i], points)"
   ]
  },
  {
   "cell_type": "code",
   "execution_count": 43,
   "id": "f28ead9a-ec05-44e3-917f-036afce397dd",
   "metadata": {},
   "outputs": [],
   "source": [
    "class Penalty:\n",
    "    def __init__(self, node_count):\n",
    "        self.penalty = [[0] * i for i in range(1, node_count + 1)]\n",
    "\n",
    "    def __getitem__(self, key):\n",
    "        j, i = sorted(key)\n",
    "        return self.penalty[i][j]\n",
    "\n",
    "    def __setitem__(self, key, value):\n",
    "        j, i = sorted(key)\n",
    "        self.penalty[i][j] = value"
   ]
  },
  {
   "cell_type": "code",
   "execution_count": 44,
   "id": "253d7e74-407a-4dfa-a518-8959f96a2a81",
   "metadata": {},
   "outputs": [],
   "source": [
    "class Activate:\n",
    "    def __init__(self, size):\n",
    "        self.flag = [1] * size\n",
    "        self.count_ = size\n",
    "\n",
    "    def set_1(self, i):\n",
    "        if self.flag[i] == 0:\n",
    "            self.count_ += 1\n",
    "        self.flag[i] = 1\n",
    "\n",
    "    def set_0(self, i):\n",
    "        if self.flag[i] == 1:\n",
    "            self.count_ -= 1\n",
    "        self.flag[i] = 0\n",
    "\n",
    "    def get(self, i):\n",
    "        return self.flag[i]\n",
    "\n",
    "    def size(self):\n",
    "        return len(self.flag)"
   ]
  },
  {
   "cell_type": "code",
   "execution_count": 163,
   "id": "0d9836c2-ad72-44d5-be74-26c87e022279",
   "metadata": {},
   "outputs": [
    {
     "data": {
      "text/plain": [
       "array([ 0, 33,  5, 28,  2, 45,  9, 10,  3, 46, 24, 41, 34, 23, 35,  4,  8,\n",
       "       12, 36,  6, 26, 47, 27,  1, 25, 20, 37, 21, 29, 43, 39, 50, 38, 15,\n",
       "       44, 16, 18, 40, 19,  7, 13, 30, 11, 42, 31, 22, 48, 32, 17, 49, 14],\n",
       "      dtype=int64)"
      ]
     },
     "execution_count": 163,
     "metadata": {},
     "output_type": "execute_result"
    }
   ],
   "source": [
    "do_2opt(3, 4, current_path)"
   ]
  },
  {
   "cell_type": "code",
   "execution_count": 198,
   "id": "1f6ec40f-5efc-4fac-9977-8bf85f2cf2b1",
   "metadata": {},
   "outputs": [],
   "source": [
    "# @nb.jit(nopython=True)\n",
    "def do_2opt(point_idx1, point_idx2, path, new_distance, augmented_distance):\n",
    "    if point_idx2 > point_idx1:\n",
    "        slice_start = point_idx1\n",
    "        slice_end = point_idx2\n",
    "    else:\n",
    "        slice_start = point_idx2\n",
    "        slice_end = point_idx1\n",
    "\n",
    "    slice_path = path[slice_start:slice_end+1]\n",
    "    slice_path = np.flip(slice_path)\n",
    "\n",
    "    new_path = np.hstack((path[:slice_start], slice_path, path[slice_end + 1:]))\n",
    "\n",
    "    point1 = current_path[pointidx1-1]\n",
    "    point2 = current_path[pointidx1]\n",
    "    point3 = current_path[pointidx2]\n",
    "    point4 = current_path[pointidx2+1] if pointidx2+1 < nodeCount else current_path[0]\n",
    "\n",
    "    d12 = DISTANCE_MATRIX[point1][point2]\n",
    "    p12 = PENALTY[point1, point2]\n",
    "    \n",
    "    d34 = DISTANCE_MATRIX[point3][point4]\n",
    "    d13 = DISTANCE_MATRIX[point1][point3]\n",
    "    d24 = DISTANCE_MATRIX[point2][point4]\n",
    "    p34 = PENALTY[point3, point4]\n",
    "    p13 = PENALTY[point1, point3]\n",
    "    p24 = PENALTY[point2, point4]\n",
    "\n",
    "    net_distance = d13 + d24 - d12 - d34\n",
    "    augmented_distance_delta =  net_distance + lambda_factor * (p13 + p24 - p12 - p34)\n",
    "\n",
    "    new_distance += net_distance\n",
    "    augmented_distance += augmented_distance_delta \n",
    "    \n",
    "    return new_path, new_distance, augmented_distance\n",
    "\n",
    "\n",
    "def pick_next_edge(pointidx1, current_path):\n",
    "\n",
    "    point1 = current_path[pointidx1-1]\n",
    "    point2 = current_path[pointidx1]\n",
    "    \n",
    "    d12 = DISTANCE_MATRIX[point1][point2]\n",
    "    p12 = PENALTY[point1, point2]\n",
    "    \n",
    "    \n",
    "    # Repeatedly do 2-opt for all the neighbors\n",
    "    next_probable_edge = {}\n",
    "    max_distance_delta = float('inf')\n",
    "    \n",
    "    node = current_path[pointidx1]\n",
    "    sorted_neighbor_points = np.argsort(DISTANCE_MATRIX[node])[1:SEARCH_AREA]\n",
    "    \n",
    "    for neighbor_idx in sorted_neighbor_points:\n",
    "       \n",
    "        point_idx2 = np.where(current_path==neighbor_idx)[0][0]\n",
    "        \n",
    "        point3 = current_path[pointidx2]\n",
    "        point4 = current_path[pointidx2+1] if pointidx2+1 < nodeCount else current_path[0]\n",
    "    \n",
    "    \n",
    "        d34 = DISTANCE_MATRIX[point3][point4]\n",
    "        d13 = DISTANCE_MATRIX[point1][point3]\n",
    "        d24 = DISTANCE_MATRIX[point2][point4]\n",
    "        \n",
    "        p34 = PENALTY[point3, point4]\n",
    "        p13 = PENALTY[point1, point3]\n",
    "        p24 = PENALTY[point2, point4]\n",
    "    \n",
    "        augmented_distance_delta = (d13 + d24 - d12 - d34) + lambda_factor * (p13 + p24 - p12 - p34)\n",
    "    \n",
    "        next_probable_edge[point_idx2] = augmented_distance_delta\n",
    "\n",
    "    # filter candidates with max value\n",
    "    max_distance_delta = max(next_probable_edge.values())\n",
    "    print(max_distance_delta)\n",
    "    viable_candidates = [key for key, value in next_probable_edge.items() if value == max_distance_delta]\n",
    "\n",
    "    # Pick random viable candidate\n",
    "    point_idx2 = random.choice(viable_candidates)\n",
    "    point3 = current_path[pointidx2]\n",
    "    point4 = current_path[pointidx2+1] if pointidx2+1 < nodeCount else current_path[0]\n",
    "    \n",
    "    return (point_idx1, point_idx2), (point1, point2, point3, point4)"
   ]
  },
  {
   "cell_type": "code",
   "execution_count": 199,
   "id": "585f7327-70ae-4e84-b8c9-0efd277b43b5",
   "metadata": {},
   "outputs": [],
   "source": [
    "step_limit = 1000000\n",
    "SEARCH_AREA = nodeCount//5\n",
    "PENALTY = Penalty(nodeCount)\n",
    "activate = Activate(nodeCount)\n",
    "\n",
    "current_path, current_distance = init_path(nodeCount)\n",
    "\n",
    "alpha = 0.1\n",
    "lambda_factor = alpha * current_distance/nodeCount"
   ]
  },
  {
   "cell_type": "code",
   "execution_count": 200,
   "id": "879a7250-fdae-495e-993b-a55addc5d812",
   "metadata": {},
   "outputs": [
    {
     "data": {
      "text/plain": [
       "566.9434953326025"
      ]
     },
     "execution_count": 200,
     "metadata": {},
     "output_type": "execute_result"
    }
   ],
   "source": [
    "current_distance"
   ]
  },
  {
   "cell_type": "code",
   "execution_count": 201,
   "id": "85fb3945-0c5b-439a-b1ba-770eff56dbb6",
   "metadata": {},
   "outputs": [
    {
     "data": {
      "text/plain": [
       "(array([ 0, 33,  5, 28,  2, 45,  9, 10,  3, 46, 24, 41, 34, 23, 35,  4,  8,\n",
       "        12, 36,  6, 26, 47, 27,  1, 25, 20, 37, 21, 29, 43, 39, 50, 38, 15,\n",
       "        44, 16, 18, 40, 19,  7, 13, 30, 11, 42, 31, 22, 48, 32, 17, 49, 14],\n",
       "       dtype=int64),\n",
       " 585.2633956142943,\n",
       " 585.2633956142943)"
      ]
     },
     "execution_count": 201,
     "metadata": {},
     "output_type": "execute_result"
    }
   ],
   "source": [
    "do_2opt(3, 4, current_path, current_distance, current_distance)"
   ]
  },
  {
   "cell_type": "code",
   "execution_count": null,
   "id": "4f957cae-0633-4b1c-b612-b259707f75a5",
   "metadata": {},
   "outputs": [],
   "source": []
  },
  {
   "cell_type": "code",
   "execution_count": null,
   "id": "2eb6ddc4-6750-431d-b54e-b8a41a54af78",
   "metadata": {},
   "outputs": [],
   "source": []
  },
  {
   "cell_type": "code",
   "execution_count": null,
   "id": "c733fc83-9089-4e15-b812-b242861c48f8",
   "metadata": {},
   "outputs": [],
   "source": []
  },
  {
   "cell_type": "code",
   "execution_count": null,
   "id": "74d03385-b2ec-48ab-b6c9-90e2d1e64a75",
   "metadata": {},
   "outputs": [],
   "source": [
    "def update_penalty(self):\n",
    "        self.utility = np.zeros((self.n, self.n), dtype=np.float32)\n",
    "        for i in range(self.n):\n",
    "            for j in range(self.n):\n",
    "                dist = self.dist[i][self.solution[i]]\n",
    "                flow = self.flow[i][j]\n",
    "                c    = dist * flow\n",
    "                self.utility[i][self.solution[i]] = c / (1 + self.penalty[i][self.solution[i]])\n",
    "        maximized = self.utility.max()\n",
    "        for i in range(self.n):\n",
    "            if self.utility[i][self.solution[i]] == maximized:\n",
    "                self.penalty[i][self.solution[i]] += 1"
   ]
  }
 ],
 "metadata": {
  "kernelspec": {
   "display_name": "Python 3 (ipykernel)",
   "language": "python",
   "name": "python3"
  },
  "language_info": {
   "codemirror_mode": {
    "name": "ipython",
    "version": 3
   },
   "file_extension": ".py",
   "mimetype": "text/x-python",
   "name": "python",
   "nbconvert_exporter": "python",
   "pygments_lexer": "ipython3",
   "version": "3.10.11"
  },
  "widgets": {
   "application/vnd.jupyter.widget-state+json": {
    "state": {
     "2ba7478262a34e619ceac4893c43d49f": {
      "model_module": "@jupyter-widgets/controls",
      "model_module_version": "2.0.0",
      "model_name": "HBoxModel",
      "state": {
       "children": [
        "IPY_MODEL_df22f0cd19db4406adae7ba876de3541",
        "IPY_MODEL_fa34a3fad8574ed3ab9a7d24756e9b3c",
        "IPY_MODEL_e0805527525d44319a7f97d4a1413c22"
       ],
       "layout": "IPY_MODEL_67c35656778942e9b8c3601805b7fb76"
      }
     },
     "3c259383303743e19b41fa81d0ecac0c": {
      "model_module": "@jupyter-widgets/controls",
      "model_module_version": "2.0.0",
      "model_name": "ProgressStyleModel",
      "state": {
       "description_width": ""
      }
     },
     "3df18de7accf4fd0ae3d6dc18dd17f34": {
      "model_module": "@jupyter-widgets/controls",
      "model_module_version": "2.0.0",
      "model_name": "HTMLStyleModel",
      "state": {
       "description_width": "",
       "font_size": null,
       "text_color": null
      }
     },
     "4d3994a361b0460bbc170d21e23c45d8": {
      "model_module": "@jupyter-widgets/controls",
      "model_module_version": "2.0.0",
      "model_name": "HTMLModel",
      "state": {
       "layout": "IPY_MODEL_dbfd3a56d6624b6f8567f08c021a4750",
       "style": "IPY_MODEL_d9c04d45d8774c32bcaca138d30f0f34",
       "value": "100%"
      }
     },
     "67c35656778942e9b8c3601805b7fb76": {
      "model_module": "@jupyter-widgets/base",
      "model_module_version": "2.0.0",
      "model_name": "LayoutModel",
      "state": {}
     },
     "6b64745c40ec4b36b2ddb64e9045a0ec": {
      "model_module": "@jupyter-widgets/base",
      "model_module_version": "2.0.0",
      "model_name": "LayoutModel",
      "state": {}
     },
     "74cc745235c0443590edec4eddf63882": {
      "model_module": "@jupyter-widgets/controls",
      "model_module_version": "2.0.0",
      "model_name": "HTMLStyleModel",
      "state": {
       "description_width": "",
       "font_size": null,
       "text_color": null
      }
     },
     "8e2758394606486780c7527e115ba429": {
      "model_module": "@jupyter-widgets/controls",
      "model_module_version": "2.0.0",
      "model_name": "HTMLStyleModel",
      "state": {
       "description_width": "",
       "font_size": null,
       "text_color": null
      }
     },
     "930398db71f540f59c1b04d19608b5c8": {
      "model_module": "@jupyter-widgets/base",
      "model_module_version": "2.0.0",
      "model_name": "LayoutModel",
      "state": {}
     },
     "956ede75618f40858ec20383c3c376af": {
      "model_module": "@jupyter-widgets/base",
      "model_module_version": "2.0.0",
      "model_name": "LayoutModel",
      "state": {}
     },
     "99e821f8014543eca6114121de960bf8": {
      "model_module": "@jupyter-widgets/base",
      "model_module_version": "2.0.0",
      "model_name": "LayoutModel",
      "state": {}
     },
     "a342820247c94bdcb529e6776691991a": {
      "model_module": "@jupyter-widgets/controls",
      "model_module_version": "2.0.0",
      "model_name": "HBoxModel",
      "state": {
       "children": [
        "IPY_MODEL_4d3994a361b0460bbc170d21e23c45d8",
        "IPY_MODEL_e4ce9f15d0a4441ab69409a3fce4be00",
        "IPY_MODEL_fa64b07ec85d4429b6679a8abc954104"
       ],
       "layout": "IPY_MODEL_a6df8fc28cb54f6b8591d32c1d3cd40e"
      }
     },
     "a4d390ac09df4074ac3fdbbc2c850052": {
      "model_module": "@jupyter-widgets/controls",
      "model_module_version": "2.0.0",
      "model_name": "ProgressStyleModel",
      "state": {
       "description_width": ""
      }
     },
     "a6df8fc28cb54f6b8591d32c1d3cd40e": {
      "model_module": "@jupyter-widgets/base",
      "model_module_version": "2.0.0",
      "model_name": "LayoutModel",
      "state": {}
     },
     "bbcfd070ec004591bf410c98abdad857": {
      "model_module": "@jupyter-widgets/base",
      "model_module_version": "2.0.0",
      "model_name": "LayoutModel",
      "state": {}
     },
     "d9c04d45d8774c32bcaca138d30f0f34": {
      "model_module": "@jupyter-widgets/controls",
      "model_module_version": "2.0.0",
      "model_name": "HTMLStyleModel",
      "state": {
       "description_width": "",
       "font_size": null,
       "text_color": null
      }
     },
     "dbfd3a56d6624b6f8567f08c021a4750": {
      "model_module": "@jupyter-widgets/base",
      "model_module_version": "2.0.0",
      "model_name": "LayoutModel",
      "state": {}
     },
     "df22f0cd19db4406adae7ba876de3541": {
      "model_module": "@jupyter-widgets/controls",
      "model_module_version": "2.0.0",
      "model_name": "HTMLModel",
      "state": {
       "layout": "IPY_MODEL_99e821f8014543eca6114121de960bf8",
       "style": "IPY_MODEL_3df18de7accf4fd0ae3d6dc18dd17f34",
       "value": "100%"
      }
     },
     "e0805527525d44319a7f97d4a1413c22": {
      "model_module": "@jupyter-widgets/controls",
      "model_module_version": "2.0.0",
      "model_name": "HTMLModel",
      "state": {
       "layout": "IPY_MODEL_930398db71f540f59c1b04d19608b5c8",
       "style": "IPY_MODEL_74cc745235c0443590edec4eddf63882",
       "value": " 51/51 [00:00&lt;00:00,  5.28it/s]"
      }
     },
     "e4ce9f15d0a4441ab69409a3fce4be00": {
      "model_module": "@jupyter-widgets/controls",
      "model_module_version": "2.0.0",
      "model_name": "FloatProgressModel",
      "state": {
       "bar_style": "success",
       "layout": "IPY_MODEL_956ede75618f40858ec20383c3c376af",
       "max": 51,
       "style": "IPY_MODEL_a4d390ac09df4074ac3fdbbc2c850052",
       "value": 51
      }
     },
     "fa34a3fad8574ed3ab9a7d24756e9b3c": {
      "model_module": "@jupyter-widgets/controls",
      "model_module_version": "2.0.0",
      "model_name": "FloatProgressModel",
      "state": {
       "bar_style": "success",
       "layout": "IPY_MODEL_bbcfd070ec004591bf410c98abdad857",
       "max": 51,
       "style": "IPY_MODEL_3c259383303743e19b41fa81d0ecac0c",
       "value": 51
      }
     },
     "fa64b07ec85d4429b6679a8abc954104": {
      "model_module": "@jupyter-widgets/controls",
      "model_module_version": "2.0.0",
      "model_name": "HTMLModel",
      "state": {
       "layout": "IPY_MODEL_6b64745c40ec4b36b2ddb64e9045a0ec",
       "style": "IPY_MODEL_8e2758394606486780c7527e115ba429",
       "value": " 51/51 [00:00&lt;00:00,  1.71it/s]"
      }
     }
    },
    "version_major": 2,
    "version_minor": 0
   }
  }
 },
 "nbformat": 4,
 "nbformat_minor": 5
}
