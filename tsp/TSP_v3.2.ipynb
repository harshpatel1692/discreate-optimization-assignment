{
 "cells": [
  {
   "cell_type": "code",
   "execution_count": 1,
   "id": "4e2a2f80-2308-4b30-9d97-4b42fc14159d",
   "metadata": {},
   "outputs": [],
   "source": [
    "import math\n",
    "from collections import namedtuple\n",
    "import plotly.graph_objects as go\n",
    "import plotly.express as px\n",
    "import numpy as np\n",
    "from copy import deepcopy\n",
    "from tqdm import tqdm\n",
    "from tqdm.notebook import tqdm\n",
    "import random\n",
    "\n",
    "import numba as nb\n",
    "# from numba import jit, vectorize, float64"
   ]
  },
  {
   "cell_type": "code",
   "execution_count": 2,
   "id": "bbf260ad-6dde-476b-9319-81016c11405f",
   "metadata": {},
   "outputs": [],
   "source": [
    "with open('./data/tsp_33810_1', 'r') as input_data_file:\n",
    "    input_data = input_data_file.read()\n",
    "    \n",
    "lines = input_data.split('\\n')\n",
    "nodeCount = int(lines[0])\n",
    "\n",
    "points = []\n",
    "for i in range(1, nodeCount+1):\n",
    "    line = lines[i]\n",
    "    parts = line.split()\n",
    "    # points.append(Point(float(parts[0]), float(parts[1])))\n",
    "    points.append((float(parts[0]), float(parts[1])))\n",
    "points = np.array(points)"
   ]
  },
  {
   "cell_type": "code",
   "execution_count": 3,
   "id": "2d1fd51e-72e5-4f6c-a0da-217de17fd794",
   "metadata": {},
   "outputs": [],
   "source": [
    "@nb.jit(nopython=True)\n",
    "def length_distance(single_point, all_points):\n",
    "    return np.sqrt((all_points[:, 0]-single_point[0])**2 + (all_points[:, 1]-single_point[1])**2)\n",
    "\n",
    "\n",
    "@nb.jit(nopython=True)\n",
    "def calculate_travel(graph):\n",
    "    n = len(graph)\n",
    "    total_distance = 0.0\n",
    "\n",
    "    for i in range(n - 1):\n",
    "        total_distance += DISTANCE_MATRIX[graph[i], graph[i + 1]]\n",
    "\n",
    "    # Add the distance to return to the starting point\n",
    "    total_distance += DISTANCE_MATRIX[graph[-1], graph[0]]\n",
    "\n",
    "    return total_distance\n",
    "\n",
    "\n",
    "@nb.jit(nopython=True)\n",
    "def calculate_travel_list(graph):\n",
    "    n = len(graph)\n",
    "    total_distance = np.empty(n)\n",
    "\n",
    "    for i in range(n - 1):\n",
    "        total_distance[i] = DISTANCE_MATRIX[graph[i], graph[i + 1]]\n",
    "\n",
    "    # Add the distance to return to the starting point\n",
    "    total_distance[-1] = DISTANCE_MATRIX[graph[-1], graph[0]]\n",
    "\n",
    "    total_distance = np.argsort(-total_distance)\n",
    "    \n",
    "    return total_distance\n",
    "    \n",
    "\n",
    "@nb.jit(nopython=True)\n",
    "def do_2opt(point_idx1, point_idx2, path):\n",
    "    \n",
    "    if point_idx2 > point_idx1:\n",
    "        slice_start = point_idx1\n",
    "        slice_end = point_idx2\n",
    "    else:\n",
    "        slice_start = point_idx2\n",
    "        slice_end = point_idx1\n",
    "\n",
    "    new_path = np.hstack((path[:slice_start], path[slice_start:slice_end][::-1], path[slice_end:]))\n",
    "    \n",
    "    return new_path\n",
    "    \n",
    "\n",
    "def add_penalty(path):\n",
    "    util_nodes = {}\n",
    "    \n",
    "    for idx, node in enumerate(path):\n",
    "        node_out = path[idx+1] if idx+1 < nodeCount else path[0]\n",
    "        dist = DISTANCE_MATRIX[node][node_out]\n",
    "        penalty = (1 + PENALTY_MATRIX[node, node_out])\n",
    "        util = dist / (1 + penalty)\n",
    "        util_nodes[(node, node_out)] = util\n",
    "\n",
    "    max_util = max(util_nodes.values())\n",
    "    viable_candidates = [(node, node_out) for (node, node_out), value in util_nodes.items() if value == max_util]\n",
    "\n",
    "    for node, node_out in viable_candidates:\n",
    "        PENALTY_MATRIX[node, node_out] += 1\n",
    "        PENALTY_MATRIX[node_out, node] += 1\n",
    "        ACTIVATE[node] = 1\n",
    "        ACTIVATE[node_out] = 1\n",
    "\n",
    "\n",
    "def potential_gain(p1, p2, p3, p4):\n",
    "\n",
    "    d12 = DISTANCE_MATRIX[p1][p2]\n",
    "    d34 = DISTANCE_MATRIX[p3][p4] \n",
    "    d13 = DISTANCE_MATRIX[p1][p3]\n",
    "    d24 = DISTANCE_MATRIX[p2][p4]\n",
    "    \n",
    "    ad12 = AUGMENTED_DISTANCE_MATRIX[p1][p2]\n",
    "    ad34 = AUGMENTED_DISTANCE_MATRIX[p3][p4] \n",
    "    ad13 = AUGMENTED_DISTANCE_MATRIX[p1][p3]\n",
    "    ad24 = AUGMENTED_DISTANCE_MATRIX[p2][p4]\n",
    "\n",
    "    delta = d13 + d24 - d12 - d34\n",
    "    augmented_delta = ad13 + ad24 - ad12 - ad34\n",
    "\n",
    "    return delta, augmented_delta\n",
    "    \n",
    "\n",
    "def pick_next_edge(pointidx2, path):\n",
    "    \n",
    "    pointidx1 = edgeidx2-1\n",
    "    p1 = path[pointidx1]\n",
    "    p2 = path[pointidx2]\n",
    "    p2_next = path[pointidx2+1] if pointidx2+1 < nodeCount else path[0]\n",
    "\n",
    "    # Repeatedly do 2-opt for all the neighbors\n",
    "    next_probable_edge = {}\n",
    "    max_distance_delta = float('inf')\n",
    "    \n",
    "    sorted_neighbor_points = np.argsort(DISTANCE_MATRIX[p1])[1:SEARCH_AREA]\n",
    "    \n",
    "    for neighbor_idx in sorted_neighbor_points:\n",
    "       \n",
    "        pointidx4 = np.where(path==neighbor_idx)[0][0]\n",
    "        pointidx3 = pointidx4-1\n",
    "        \n",
    "        potential_p3 = path[pointidx3]\n",
    "        potential_p4 = path[pointidx4]\n",
    "    \n",
    "        if potential_p4 in (p1, p2, p2_next):\n",
    "            continue\n",
    "    \n",
    "        delta, augmented_delta = potential_gain(p1, p2, potential_p3, potential_p4)\n",
    "        \n",
    "        next_probable_edge[pointidx4] = [delta, augmented_delta]\n",
    "        # print(pointidx4, delta)\n",
    "\n",
    "    # filter candidates with min value\n",
    "    if not next_probable_edge.values():\n",
    "        return -1, -1, 0\n",
    "\n",
    "    max_delta_idx = min(next_probable_edge, key=lambda k: next_probable_edge[k][1]) # most distance decrease\n",
    "    min_distance_delta = next_probable_edge[max_delta_idx][1]\n",
    "\n",
    "    # Pick random viable candidate\n",
    "    if min_distance_delta < -1e-9:\n",
    "        pointidx3 = max_delta_idx-1\n",
    "        pointidx4 = max_delta_idx\n",
    "        min_distance_delta = next_probable_edge[max_delta_idx][0]\n",
    "    else:\n",
    "        # not using None as index could be 0. if None and if 0 has same effect.\n",
    "        pointidx3 = -1\n",
    "        pointidx4 = -1\n",
    "        min_distance_delta = 0\n",
    "    \n",
    "    return pointidx3, pointidx4, min_distance_delta\n",
    "\n",
    "\n",
    "def init_path(node_count):\n",
    "    ## Keep picking the next nearest neighbor to get the path.\n",
    "    \n",
    "    with tqdm(total=nodeCount) as pbar:\n",
    "        \n",
    "        pick_next = 0\n",
    "        exploring_path = np.array([], dtype=int)\n",
    "        exploring_path = np.append(exploring_path, pick_next)\n",
    "        \n",
    "        pbar.update(1)\n",
    "   \n",
    "        while exploring_path.size < nodeCount:\n",
    "            \n",
    "            neighbor_idx = np.argsort(DISTANCE_MATRIX[pick_next])\n",
    "            \n",
    "            mask = np.isin(neighbor_idx, exploring_path)\n",
    "            neighbor_idx = neighbor_idx[~mask]\n",
    "        \n",
    "            pick_next = neighbor_idx[0]\n",
    "            \n",
    "            exploring_path = np.append(exploring_path, pick_next)\n",
    "\n",
    "            pbar.update(1)\n",
    "\n",
    "    total_distance = calculate_travel(exploring_path)\n",
    "\n",
    "    return exploring_path, total_distance"
   ]
  },
  {
   "cell_type": "code",
   "execution_count": 4,
   "id": "2bd40efe-91d8-4881-b638-b3e82db948d1",
   "metadata": {},
   "outputs": [
    {
     "data": {
      "application/vnd.jupyter.widget-view+json": {
       "model_id": "2b17315a32844bfd9cabf9665325a3e3",
       "version_major": 2,
       "version_minor": 0
      },
      "text/plain": [
       "  0%|          | 0/33810 [00:00<?, ?it/s]"
      ]
     },
     "metadata": {},
     "output_type": "display_data"
    },
    {
     "data": {
      "application/vnd.jupyter.widget-view+json": {
       "model_id": "a912b6cc8f2b40789569e1582bc03ea0",
       "version_major": 2,
       "version_minor": 0
      },
      "text/plain": [
       "  0%|          | 0/33810 [00:00<?, ?it/s]"
      ]
     },
     "metadata": {},
     "output_type": "display_data"
    },
    {
     "data": {
      "text/plain": [
       "6762"
      ]
     },
     "execution_count": 4,
     "metadata": {},
     "output_type": "execute_result"
    }
   ],
   "source": [
    "ACTIVATE = np.ones(nodeCount, dtype=int)\n",
    "\n",
    "PENALTY_MATRIX = np.zeros((nodeCount, nodeCount), dtype=int)\n",
    "\n",
    "DISTANCE_MATRIX = np.zeros((nodeCount, nodeCount))\n",
    "for i in tqdm(range(len(points))):\n",
    "    DISTANCE_MATRIX[i] = length_distance(points[i], points)\n",
    "\n",
    "AUGMENTED_DISTANCE_MATRIX = np.zeros((nodeCount, nodeCount))\n",
    "for i in tqdm(range(len(points))):\n",
    "    AUGMENTED_DISTANCE_MATRIX[i] = length_distance(points[i], points)"
   ]
  },
  {
   "cell_type": "code",
   "execution_count": 5,
   "id": "774330fe-80e0-4b0e-929a-11ceb7c181ff",
   "metadata": {},
   "outputs": [
    {
     "data": {
      "application/vnd.jupyter.widget-view+json": {
       "model_id": "3c9b287a1a684ba895e5f935e73d12c3",
       "version_major": 2,
       "version_minor": 0
      },
      "text/plain": [
       "  0%|          | 0/33810 [00:00<?, ?it/s]"
      ]
     },
     "metadata": {},
     "output_type": "display_data"
    }
   ],
   "source": [
    "current_path, current_distance = init_path(nodeCount)\n",
    "optimal_path = deepcopy(current_path)\n",
    "optimal_distance = current_distance"
   ]
  },
  {
   "cell_type": "code",
   "execution_count": 7,
   "id": "71d8a5ab-36e0-4883-98e4-b66a4f6a67be",
   "metadata": {},
   "outputs": [
    {
     "data": {
      "text/plain": [
       "(244.5402021337388, 3381, 82679042.34141709)"
      ]
     },
     "execution_count": 7,
     "metadata": {},
     "output_type": "execute_result"
    }
   ],
   "source": [
    "alpha = 0.1\n",
    "lambda_factor = alpha * current_distance/nodeCount\n",
    "SEARCH_AREA = nodeCount//10\n",
    "\n",
    "\n",
    "lambda_factor, SEARCH_AREA, current_distance"
   ]
  },
  {
   "cell_type": "code",
   "execution_count": 9,
   "id": "2a725b15-758b-4f7c-8692-0b31fbb7f4c2",
   "metadata": {},
   "outputs": [
    {
     "data": {
      "application/vnd.jupyter.widget-view+json": {
       "model_id": "96039633ecd64f638dad000333e343a4",
       "version_major": 2,
       "version_minor": 0
      },
      "text/plain": [
       "  0%|          | 0/100000 [00:00<?, ?it/s]"
      ]
     },
     "metadata": {},
     "output_type": "display_data"
    },
    {
     "ename": "MemoryError",
     "evalue": "Unable to allocate 8.52 GiB for an array with shape (33810, 33810) and data type float64",
     "output_type": "error",
     "traceback": [
      "\u001b[1;31m---------------------------------------------------------------------------\u001b[0m",
      "\u001b[1;31mMemoryError\u001b[0m                               Traceback (most recent call last)",
      "Cell \u001b[1;32mIn[9], line 39\u001b[0m\n\u001b[0;32m     36\u001b[0m             optimal_path \u001b[38;5;241m=\u001b[39m deepcopy(current_path)\n\u001b[0;32m     38\u001b[0m add_penalty(current_path)\n\u001b[1;32m---> 39\u001b[0m AUGMENTED_DISTANCE_MATRIX \u001b[38;5;241m=\u001b[39m \u001b[43mDISTANCE_MATRIX\u001b[49m\u001b[43m \u001b[49m\u001b[38;5;241;43m+\u001b[39;49m\u001b[43m \u001b[49m\u001b[43m(\u001b[49m\u001b[43mlambda_factor\u001b[49m\u001b[43m \u001b[49m\u001b[38;5;241;43m*\u001b[39;49m\u001b[43m \u001b[49m\u001b[43mPENALTY_MATRIX\u001b[49m\u001b[43m)\u001b[49m\n\u001b[0;32m     41\u001b[0m \u001b[38;5;66;03m# if _%100 == 0:\u001b[39;00m\n\u001b[0;32m     42\u001b[0m \u001b[38;5;28mprint\u001b[39m(_, optimal_distance, lambda_factor)\n",
      "\u001b[1;31mMemoryError\u001b[0m: Unable to allocate 8.52 GiB for an array with shape (33810, 33810) and data type float64"
     ]
    }
   ],
   "source": [
    "for _ in tqdm(range(100000)):\n",
    "    \n",
    "    while sum(ACTIVATE) > 0:\n",
    "        for p2 in range(nodeCount):\n",
    "            \n",
    "            if not ACTIVATE[p2]:\n",
    "                continue\n",
    "\n",
    "            edgeidx2 = np.where(current_path==p2)[0][0]\n",
    "            edgeidx1 = edgeidx2-1\n",
    "            p1 = current_path[edgeidx1]\n",
    "    \n",
    "            # edgeidx3, edgeidx4, distance_delta = get_best_swap(p1, p2, current_path)\n",
    "            edgeidx3, edgeidx4, distance_delta = pick_next_edge(edgeidx2, current_path)\n",
    "\n",
    "    \n",
    "            if edgeidx4 == -1:\n",
    "                ACTIVATE[p2] = 0\n",
    "                continue\n",
    "    \n",
    "            p3 = current_path[edgeidx3]\n",
    "            p4 = current_path[edgeidx4]\n",
    "            \n",
    "            ACTIVATE[p1] = 1\n",
    "            ACTIVATE[p2] = 1\n",
    "            ACTIVATE[p3] = 1\n",
    "            ACTIVATE[p4] = 1\n",
    "                \n",
    "            current_path = do_2opt(edgeidx2, edgeidx4, current_path)\n",
    "                \n",
    "            # current_distance = calculate_travel(current_path)\n",
    "            current_distance += distance_delta\n",
    "            \n",
    "            if current_distance < optimal_distance:\n",
    "                optimal_distance = current_distance\n",
    "                optimal_path = deepcopy(current_path)\n",
    "           \n",
    "    add_penalty(current_path)\n",
    "    AUGMENTED_DISTANCE_MATRIX = DISTANCE_MATRIX + (lambda_factor * PENALTY_MATRIX)\n",
    "    \n",
    "    # if _%100 == 0:\n",
    "    print(_, optimal_distance, lambda_factor)"
   ]
  },
  {
   "cell_type": "code",
   "execution_count": null,
   "id": "96c57beb-cd5b-4c00-82d6-379e2264e805",
   "metadata": {},
   "outputs": [],
   "source": [
    "output_data = '%.2f' % optimal_distance + ' ' + str(0) + '\\n'\n",
    "output_data += ' '.join(map(str, optimal_path))\n",
    "\n",
    "with open(r'./results/tsp_574_1.txt', 'w') as file:\n",
    "    # Write the Python code to the file\n",
    "    file.write(output_data)"
   ]
  },
  {
   "cell_type": "code",
   "execution_count": null,
   "id": "46e1d353-287e-48bc-a0ba-da4206f17a79",
   "metadata": {},
   "outputs": [],
   "source": [
    "ACTIVATE"
   ]
  },
  {
   "cell_type": "code",
   "execution_count": null,
   "id": "a467eb97-3ed5-4f86-a5a0-dc069845a572",
   "metadata": {},
   "outputs": [],
   "source": [
    "optimal_distance"
   ]
  },
  {
   "cell_type": "code",
   "execution_count": null,
   "id": "7e77a096-4a36-4130-a387-68cdfd114b00",
   "metadata": {},
   "outputs": [],
   "source": [
    "p2 = 5\n",
    "edgeidx2 = np.where(optimal_path==p2)[0][0]\n",
    "edgeidx1 = edgeidx2-1\n",
    "p1 = current_path[edgeidx1]\n",
    "\n",
    "edgeidx3, edgeidx4, distance_delta = get_best_swap(p1, p2, optimal_path)"
   ]
  },
  {
   "cell_type": "code",
   "execution_count": null,
   "id": "78a6de49-2644-461f-8213-2b681078cef6",
   "metadata": {},
   "outputs": [],
   "source": [
    "new_path = do_2opt(edgeidx2, edgeidx4, optimal_path)\n",
    "new_distance = calculate_travel(new_path)\n",
    "new_distance"
   ]
  },
  {
   "cell_type": "code",
   "execution_count": null,
   "id": "aa0b991c-2103-4f6f-b84c-9503cb60c0ff",
   "metadata": {},
   "outputs": [],
   "source": [
    "optimal_distance"
   ]
  },
  {
   "cell_type": "code",
   "execution_count": null,
   "id": "9cc21f3b-ee8d-4e32-b561-3b60d854caf2",
   "metadata": {},
   "outputs": [],
   "source": [
    "edge_x = []\n",
    "edge_y = []\n",
    "\n",
    "for idx in tqdm(list(optimal_path) + [list(optimal_path)[0]]):\n",
    "    \n",
    "    x0, y0 = points[idx]\n",
    "    \n",
    "    edge_x.append(x0)\n",
    "    edge_y.append(y0)"
   ]
  },
  {
   "cell_type": "code",
   "execution_count": null,
   "id": "13549cac-dd42-4c19-96a6-3b6fac10660d",
   "metadata": {},
   "outputs": [],
   "source": [
    "fig = go.Figure(data=go.Scattergl(\n",
    "    x=edge_x,\n",
    "    y=edge_y,\n",
    "    mode=\"markers+lines\",\n",
    "    # mode=\"markers\"\n",
    "))\n",
    "fig.update_layout(height=750)\n",
    "fig.show()\n"
   ]
  },
  {
   "cell_type": "code",
   "execution_count": null,
   "id": "47231d84-c599-4221-9bd6-40ed93651f52",
   "metadata": {},
   "outputs": [],
   "source": []
  }
 ],
 "metadata": {
  "kernelspec": {
   "display_name": "Python 3 (ipykernel)",
   "language": "python",
   "name": "python3"
  },
  "language_info": {
   "codemirror_mode": {
    "name": "ipython",
    "version": 3
   },
   "file_extension": ".py",
   "mimetype": "text/x-python",
   "name": "python",
   "nbconvert_exporter": "python",
   "pygments_lexer": "ipython3",
   "version": "3.10.11"
  },
  "widgets": {
   "application/vnd.jupyter.widget-state+json": {
    "state": {
     "020a49428bf84ecf8c75c53b742d56e7": {
      "model_module": "@jupyter-widgets/base",
      "model_module_version": "2.0.0",
      "model_name": "LayoutModel",
      "state": {}
     },
     "02747e4fbdf5441ca7b299136e0ee6b5": {
      "model_module": "@jupyter-widgets/controls",
      "model_module_version": "2.0.0",
      "model_name": "ProgressStyleModel",
      "state": {
       "description_width": ""
      }
     },
     "0550fb78f8cc477186a8e026007533d8": {
      "model_module": "@jupyter-widgets/base",
      "model_module_version": "2.0.0",
      "model_name": "LayoutModel",
      "state": {}
     },
     "10451f04e9444cb48099416c8b161dd2": {
      "model_module": "@jupyter-widgets/base",
      "model_module_version": "2.0.0",
      "model_name": "LayoutModel",
      "state": {}
     },
     "1b38f773ac114525a8dfb82831844105": {
      "model_module": "@jupyter-widgets/controls",
      "model_module_version": "2.0.0",
      "model_name": "HTMLStyleModel",
      "state": {
       "description_width": "",
       "font_size": null,
       "text_color": null
      }
     },
     "1d8fa638be7f4de3b90c8dfc2b55dd80": {
      "model_module": "@jupyter-widgets/controls",
      "model_module_version": "2.0.0",
      "model_name": "ProgressStyleModel",
      "state": {
       "description_width": ""
      }
     },
     "252d640df5c14b17bccfab8dd677f0b2": {
      "model_module": "@jupyter-widgets/base",
      "model_module_version": "2.0.0",
      "model_name": "LayoutModel",
      "state": {}
     },
     "29987dd5ff8346129327eeef2a47e80e": {
      "model_module": "@jupyter-widgets/base",
      "model_module_version": "2.0.0",
      "model_name": "LayoutModel",
      "state": {}
     },
     "2b17315a32844bfd9cabf9665325a3e3": {
      "model_module": "@jupyter-widgets/controls",
      "model_module_version": "2.0.0",
      "model_name": "HBoxModel",
      "state": {
       "children": [
        "IPY_MODEL_9629022097244ba891987c1cff2bab74",
        "IPY_MODEL_6f34f61b5cd64515ba8250555b660dc5",
        "IPY_MODEL_bb5811517e2f4440893c1de17a0f1b75"
       ],
       "layout": "IPY_MODEL_ce26de9a8a254919a1c0bad145662ccd"
      }
     },
     "2f790bad794948fb8d861b907e067a4b": {
      "model_module": "@jupyter-widgets/controls",
      "model_module_version": "2.0.0",
      "model_name": "HTMLStyleModel",
      "state": {
       "description_width": "",
       "font_size": null,
       "text_color": null
      }
     },
     "3a62e6b351224572a222961d4f340be2": {
      "model_module": "@jupyter-widgets/controls",
      "model_module_version": "2.0.0",
      "model_name": "FloatProgressModel",
      "state": {
       "bar_style": "success",
       "layout": "IPY_MODEL_10451f04e9444cb48099416c8b161dd2",
       "max": 33810,
       "style": "IPY_MODEL_c1bac819c7924ca98dcedcf00a83e429",
       "value": 33810
      }
     },
     "3c9b287a1a684ba895e5f935e73d12c3": {
      "model_module": "@jupyter-widgets/controls",
      "model_module_version": "2.0.0",
      "model_name": "HBoxModel",
      "state": {
       "children": [
        "IPY_MODEL_4070e456d78e4a4a84019cdc9b101319",
        "IPY_MODEL_3a62e6b351224572a222961d4f340be2",
        "IPY_MODEL_9c09ed58a45f4ee7955229ac85ca535f"
       ],
       "layout": "IPY_MODEL_85d262c510a240fe83f8309b619ac335"
      }
     },
     "3c9d60f526914a46aab19946166797e3": {
      "model_module": "@jupyter-widgets/base",
      "model_module_version": "2.0.0",
      "model_name": "LayoutModel",
      "state": {}
     },
     "4070e456d78e4a4a84019cdc9b101319": {
      "model_module": "@jupyter-widgets/controls",
      "model_module_version": "2.0.0",
      "model_name": "HTMLModel",
      "state": {
       "layout": "IPY_MODEL_b931fcf646fa437c9c04f70e0179e58a",
       "style": "IPY_MODEL_8d51fbe4a3e44a70a599d10f0a127022",
       "value": "100%"
      }
     },
     "413f5bfc0a72468e9e531d11afb9944f": {
      "model_module": "@jupyter-widgets/base",
      "model_module_version": "2.0.0",
      "model_name": "LayoutModel",
      "state": {}
     },
     "4646d543134a41218d68355d99795d75": {
      "model_module": "@jupyter-widgets/controls",
      "model_module_version": "2.0.0",
      "model_name": "HTMLModel",
      "state": {
       "layout": "IPY_MODEL_ee71b757cde146e0b9c66c89896a853d",
       "style": "IPY_MODEL_a873fa3253d1477582d1fcf0321b5418",
       "value": " 0/100000 [00:24&lt;?, ?it/s]"
      }
     },
     "4a89f82cf97343c7ad9dd738740cde09": {
      "model_module": "@jupyter-widgets/controls",
      "model_module_version": "2.0.0",
      "model_name": "ProgressStyleModel",
      "state": {
       "description_width": ""
      }
     },
     "4c770861ea054f3781ef901e74cc0c3d": {
      "model_module": "@jupyter-widgets/controls",
      "model_module_version": "2.0.0",
      "model_name": "HTMLModel",
      "state": {
       "layout": "IPY_MODEL_55c92e81af634e0bb30a0e7695a47ac4",
       "style": "IPY_MODEL_2f790bad794948fb8d861b907e067a4b",
       "value": "  0%"
      }
     },
     "4d52ef1b71e24aa0b80bdffb9fcaf684": {
      "model_module": "@jupyter-widgets/controls",
      "model_module_version": "2.0.0",
      "model_name": "HTMLModel",
      "state": {
       "layout": "IPY_MODEL_c0d7f735484b41b8a402847fd5a9c3c5",
       "style": "IPY_MODEL_8599d8adb029436eb1f0fb84b410b19a",
       "value": " 33810/33810 [00:03&lt;00:00, 8242.99it/s]"
      }
     },
     "55c92e81af634e0bb30a0e7695a47ac4": {
      "model_module": "@jupyter-widgets/base",
      "model_module_version": "2.0.0",
      "model_name": "LayoutModel",
      "state": {}
     },
     "5841d19be1424dfd9eb0484edc9f949a": {
      "model_module": "@jupyter-widgets/controls",
      "model_module_version": "2.0.0",
      "model_name": "HTMLModel",
      "state": {
       "layout": "IPY_MODEL_413f5bfc0a72468e9e531d11afb9944f",
       "style": "IPY_MODEL_a1c012e067184123b4d222b768ab6651",
       "value": " 0/100000 [37:21&lt;?, ?it/s]"
      }
     },
     "5aaffe35a3224a32a8cd445b854687d3": {
      "model_module": "@jupyter-widgets/controls",
      "model_module_version": "2.0.0",
      "model_name": "HTMLStyleModel",
      "state": {
       "description_width": "",
       "font_size": null,
       "text_color": null
      }
     },
     "5daf3ee3bafc403e9c7ef4ef55a3c332": {
      "model_module": "@jupyter-widgets/controls",
      "model_module_version": "2.0.0",
      "model_name": "FloatProgressModel",
      "state": {
       "bar_style": "danger",
       "layout": "IPY_MODEL_252d640df5c14b17bccfab8dd677f0b2",
       "max": 100000,
       "style": "IPY_MODEL_1d8fa638be7f4de3b90c8dfc2b55dd80"
      }
     },
     "68a036ef73984d21bde736b0cf03f9c9": {
      "model_module": "@jupyter-widgets/controls",
      "model_module_version": "2.0.0",
      "model_name": "HTMLStyleModel",
      "state": {
       "description_width": "",
       "font_size": null,
       "text_color": null
      }
     },
     "6c6c7de241f74b2da830ce37843a8721": {
      "model_module": "@jupyter-widgets/base",
      "model_module_version": "2.0.0",
      "model_name": "LayoutModel",
      "state": {}
     },
     "6d09928126ba4e79b3b22140cfb47a52": {
      "model_module": "@jupyter-widgets/base",
      "model_module_version": "2.0.0",
      "model_name": "LayoutModel",
      "state": {}
     },
     "6f34f61b5cd64515ba8250555b660dc5": {
      "model_module": "@jupyter-widgets/controls",
      "model_module_version": "2.0.0",
      "model_name": "FloatProgressModel",
      "state": {
       "bar_style": "success",
       "layout": "IPY_MODEL_6c6c7de241f74b2da830ce37843a8721",
       "max": 33810,
       "style": "IPY_MODEL_4a89f82cf97343c7ad9dd738740cde09",
       "value": 33810
      }
     },
     "7de02c65451b4b6a812efafb43e89d78": {
      "model_module": "@jupyter-widgets/base",
      "model_module_version": "2.0.0",
      "model_name": "LayoutModel",
      "state": {}
     },
     "8116decdcc3a42bebe8ff44ec5f181c4": {
      "model_module": "@jupyter-widgets/controls",
      "model_module_version": "2.0.0",
      "model_name": "HBoxModel",
      "state": {
       "children": [
        "IPY_MODEL_8c28e0df6b8b4b558302938586b720f7",
        "IPY_MODEL_5daf3ee3bafc403e9c7ef4ef55a3c332",
        "IPY_MODEL_4646d543134a41218d68355d99795d75"
       ],
       "layout": "IPY_MODEL_6d09928126ba4e79b3b22140cfb47a52"
      }
     },
     "8599d8adb029436eb1f0fb84b410b19a": {
      "model_module": "@jupyter-widgets/controls",
      "model_module_version": "2.0.0",
      "model_name": "HTMLStyleModel",
      "state": {
       "description_width": "",
       "font_size": null,
       "text_color": null
      }
     },
     "85d262c510a240fe83f8309b619ac335": {
      "model_module": "@jupyter-widgets/base",
      "model_module_version": "2.0.0",
      "model_name": "LayoutModel",
      "state": {}
     },
     "8c28e0df6b8b4b558302938586b720f7": {
      "model_module": "@jupyter-widgets/controls",
      "model_module_version": "2.0.0",
      "model_name": "HTMLModel",
      "state": {
       "layout": "IPY_MODEL_e6d575a6c8a049d094443ffc78b3c3e8",
       "style": "IPY_MODEL_edb1bedc70d84ef7979b4b8b782ea2c5",
       "value": "  0%"
      }
     },
     "8d51fbe4a3e44a70a599d10f0a127022": {
      "model_module": "@jupyter-widgets/controls",
      "model_module_version": "2.0.0",
      "model_name": "HTMLStyleModel",
      "state": {
       "description_width": "",
       "font_size": null,
       "text_color": null
      }
     },
     "96039633ecd64f638dad000333e343a4": {
      "model_module": "@jupyter-widgets/controls",
      "model_module_version": "2.0.0",
      "model_name": "HBoxModel",
      "state": {
       "children": [
        "IPY_MODEL_4c770861ea054f3781ef901e74cc0c3d",
        "IPY_MODEL_b9270b620c4a434981fc6fc3c48cc4b9",
        "IPY_MODEL_5841d19be1424dfd9eb0484edc9f949a"
       ],
       "layout": "IPY_MODEL_c837dccc79094d24a1fd8b7700cdc573"
      }
     },
     "9629022097244ba891987c1cff2bab74": {
      "model_module": "@jupyter-widgets/controls",
      "model_module_version": "2.0.0",
      "model_name": "HTMLModel",
      "state": {
       "layout": "IPY_MODEL_b973ae16ec6e4c65985dc41db34ca237",
       "style": "IPY_MODEL_68a036ef73984d21bde736b0cf03f9c9",
       "value": "100%"
      }
     },
     "9c09ed58a45f4ee7955229ac85ca535f": {
      "model_module": "@jupyter-widgets/controls",
      "model_module_version": "2.0.0",
      "model_name": "HTMLModel",
      "state": {
       "layout": "IPY_MODEL_29987dd5ff8346129327eeef2a47e80e",
       "style": "IPY_MODEL_5aaffe35a3224a32a8cd445b854687d3",
       "value": " 33810/33810 [00:56&lt;00:00, 617.27it/s]"
      }
     },
     "a1c012e067184123b4d222b768ab6651": {
      "model_module": "@jupyter-widgets/controls",
      "model_module_version": "2.0.0",
      "model_name": "HTMLStyleModel",
      "state": {
       "description_width": "",
       "font_size": null,
       "text_color": null
      }
     },
     "a873fa3253d1477582d1fcf0321b5418": {
      "model_module": "@jupyter-widgets/controls",
      "model_module_version": "2.0.0",
      "model_name": "HTMLStyleModel",
      "state": {
       "description_width": "",
       "font_size": null,
       "text_color": null
      }
     },
     "a912b6cc8f2b40789569e1582bc03ea0": {
      "model_module": "@jupyter-widgets/controls",
      "model_module_version": "2.0.0",
      "model_name": "HBoxModel",
      "state": {
       "children": [
        "IPY_MODEL_b1452ec6348b4ed6b59e5f9753ca9423",
        "IPY_MODEL_ec1586851e7e4dd0ac89897917189b37",
        "IPY_MODEL_4d52ef1b71e24aa0b80bdffb9fcaf684"
       ],
       "layout": "IPY_MODEL_020a49428bf84ecf8c75c53b742d56e7"
      }
     },
     "b1452ec6348b4ed6b59e5f9753ca9423": {
      "model_module": "@jupyter-widgets/controls",
      "model_module_version": "2.0.0",
      "model_name": "HTMLModel",
      "state": {
       "layout": "IPY_MODEL_7de02c65451b4b6a812efafb43e89d78",
       "style": "IPY_MODEL_1b38f773ac114525a8dfb82831844105",
       "value": "100%"
      }
     },
     "b31b01caec1b4b66afb7a30ce1365e1b": {
      "model_module": "@jupyter-widgets/controls",
      "model_module_version": "2.0.0",
      "model_name": "HTMLStyleModel",
      "state": {
       "description_width": "",
       "font_size": null,
       "text_color": null
      }
     },
     "b9270b620c4a434981fc6fc3c48cc4b9": {
      "model_module": "@jupyter-widgets/controls",
      "model_module_version": "2.0.0",
      "model_name": "FloatProgressModel",
      "state": {
       "bar_style": "danger",
       "layout": "IPY_MODEL_3c9d60f526914a46aab19946166797e3",
       "max": 100000,
       "style": "IPY_MODEL_02747e4fbdf5441ca7b299136e0ee6b5"
      }
     },
     "b931fcf646fa437c9c04f70e0179e58a": {
      "model_module": "@jupyter-widgets/base",
      "model_module_version": "2.0.0",
      "model_name": "LayoutModel",
      "state": {}
     },
     "b973ae16ec6e4c65985dc41db34ca237": {
      "model_module": "@jupyter-widgets/base",
      "model_module_version": "2.0.0",
      "model_name": "LayoutModel",
      "state": {}
     },
     "bb5811517e2f4440893c1de17a0f1b75": {
      "model_module": "@jupyter-widgets/controls",
      "model_module_version": "2.0.0",
      "model_name": "HTMLModel",
      "state": {
       "layout": "IPY_MODEL_d9b23967ce5c4c648b2478542d5c8f8a",
       "style": "IPY_MODEL_b31b01caec1b4b66afb7a30ce1365e1b",
       "value": " 33810/33810 [00:03&lt;00:00, 11254.98it/s]"
      }
     },
     "c0d7f735484b41b8a402847fd5a9c3c5": {
      "model_module": "@jupyter-widgets/base",
      "model_module_version": "2.0.0",
      "model_name": "LayoutModel",
      "state": {}
     },
     "c1bac819c7924ca98dcedcf00a83e429": {
      "model_module": "@jupyter-widgets/controls",
      "model_module_version": "2.0.0",
      "model_name": "ProgressStyleModel",
      "state": {
       "description_width": ""
      }
     },
     "c837dccc79094d24a1fd8b7700cdc573": {
      "model_module": "@jupyter-widgets/base",
      "model_module_version": "2.0.0",
      "model_name": "LayoutModel",
      "state": {}
     },
     "ce26de9a8a254919a1c0bad145662ccd": {
      "model_module": "@jupyter-widgets/base",
      "model_module_version": "2.0.0",
      "model_name": "LayoutModel",
      "state": {}
     },
     "d9b23967ce5c4c648b2478542d5c8f8a": {
      "model_module": "@jupyter-widgets/base",
      "model_module_version": "2.0.0",
      "model_name": "LayoutModel",
      "state": {}
     },
     "e6d575a6c8a049d094443ffc78b3c3e8": {
      "model_module": "@jupyter-widgets/base",
      "model_module_version": "2.0.0",
      "model_name": "LayoutModel",
      "state": {}
     },
     "ec1586851e7e4dd0ac89897917189b37": {
      "model_module": "@jupyter-widgets/controls",
      "model_module_version": "2.0.0",
      "model_name": "FloatProgressModel",
      "state": {
       "bar_style": "success",
       "layout": "IPY_MODEL_0550fb78f8cc477186a8e026007533d8",
       "max": 33810,
       "style": "IPY_MODEL_f79da1c03f1d4fa485ac2c0f3843e714",
       "value": 33810
      }
     },
     "edb1bedc70d84ef7979b4b8b782ea2c5": {
      "model_module": "@jupyter-widgets/controls",
      "model_module_version": "2.0.0",
      "model_name": "HTMLStyleModel",
      "state": {
       "description_width": "",
       "font_size": null,
       "text_color": null
      }
     },
     "ee71b757cde146e0b9c66c89896a853d": {
      "model_module": "@jupyter-widgets/base",
      "model_module_version": "2.0.0",
      "model_name": "LayoutModel",
      "state": {}
     },
     "f79da1c03f1d4fa485ac2c0f3843e714": {
      "model_module": "@jupyter-widgets/controls",
      "model_module_version": "2.0.0",
      "model_name": "ProgressStyleModel",
      "state": {
       "description_width": ""
      }
     }
    },
    "version_major": 2,
    "version_minor": 0
   }
  }
 },
 "nbformat": 4,
 "nbformat_minor": 5
}
